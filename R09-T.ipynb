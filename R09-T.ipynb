{
 "cells": [
  {
   "cell_type": "code",
   "execution_count": null,
   "metadata": {},
   "outputs": [],
   "source": [
    "install.packages(\"foreign\") # foreign 패키지 설치"
   ]
  },
  {
   "cell_type": "code",
   "execution_count": null,
   "metadata": {},
   "outputs": [],
   "source": [
    "install.packages(\"readxl\")"
   ]
  },
  {
   "cell_type": "code",
   "execution_count": 3,
   "metadata": {},
   "outputs": [
    {
     "name": "stderr",
     "output_type": "stream",
     "text": [
      "Warning message:\n",
      "\"package 'foreign' was built under R version 3.6.3\"Warning message:\n",
      "\"package 'dplyr' was built under R version 3.6.3\"\n",
      "Attaching package: 'dplyr'\n",
      "\n",
      "The following objects are masked from 'package:stats':\n",
      "\n",
      "    filter, lag\n",
      "\n",
      "The following objects are masked from 'package:base':\n",
      "\n",
      "    intersect, setdiff, setequal, union\n",
      "\n",
      "Warning message:\n",
      "\"package 'ggplot2' was built under R version 3.6.3\"Warning message:\n",
      "\"package 'readxl' was built under R version 3.6.3\""
     ]
    }
   ],
   "source": [
    "library(foreign) # SPSS 파일 로드\n",
    "library(dplyr) # 전처리\n",
    "library(ggplot2) # 시각화\n",
    "library(readxl) # 엑셀 파일 불러오기"
   ]
  },
  {
   "cell_type": "markdown",
   "metadata": {},
   "source": [
    "#### 아래 링크를 클릭해 한국복지패널데이터 파일을 다운로드하세요.\n",
    "\n",
    "[Koweps_hpc10_2015_beta1.sav](http://bit.ly/Koweps_hpc10_2015_v2)  \n",
    "\n",
    "### 한국 복지 패널 데이터\n",
    "  - 한국보건사회연구원 발간  \n",
    "  - 가구의 경제활동을 연구해 정책 지원에 반영할 목적  \n",
    "  - 2006 ~ 2015년까지 전국에서 7000여 가구를 선정해 매년 추적 조사  \n",
    "  - 경제활동, 생활실태, 복지욕구 등 수천 개 변수에 대한 정보로 구성 "
   ]
  },
  {
   "cell_type": "code",
   "execution_count": null,
   "metadata": {},
   "outputs": [],
   "source": [
    "# 데이터 불러오기\n",
    "raw_welfare <- read.spss(file = \"./Data/Koweps_hpc10_2015_beta1.sav\", to.data.frame = T)\n",
    "# 복사본 만들기\n",
    "welfare <- raw_welfare"
   ]
  },
  {
   "cell_type": "code",
   "execution_count": 8,
   "metadata": {},
   "outputs": [
    {
     "name": "stderr",
     "output_type": "stream",
     "text": [
      "Your code contains a unicode char which cannot be displayed in your\n",
      "current locale and R will silently convert it to an escaped form when the\n",
      "R kernel executes this code. This can lead to subtle errors if you use\n",
      "such chars to do comparisons. For more information, please see\n",
      "https://github.com/IRkernel/repr/wiki/Problems-with-unicode-on-windows"
     ]
    },
    {
     "data": {
      "text/html": [
       "<table>\n",
       "<thead><tr><th scope=col>h10_id</th><th scope=col>h10_ind</th><th scope=col>h10_sn</th><th scope=col>h10_merkey</th><th scope=col>h_new</th><th scope=col>h10_cobf</th><th scope=col>h10_reg5</th><th scope=col>h10_reg7</th><th scope=col>h10_din</th><th scope=col>h10_cin</th><th scope=col>...</th><th scope=col>c1007_4aq19</th><th scope=col>c1007_4aq20</th><th scope=col>c1007_4aq21</th><th scope=col>c1007_4aq22</th><th scope=col>c1007_4aq23</th><th scope=col>h10_pers_income1</th><th scope=col>h10_pers_income2</th><th scope=col>h10_pers_income3</th><th scope=col>h10_pers_income4</th><th scope=col>h10_pers_income5</th></tr></thead>\n",
       "<tbody>\n",
       "\t<tr><td>1    </td><td>1    </td><td>1    </td><td>10101</td><td>0    </td><td>NA   </td><td>1    </td><td>1    </td><td> 864 </td><td> 864 </td><td>...  </td><td>NA   </td><td>NA   </td><td>NA   </td><td>NA   </td><td>NA   </td><td>NA   </td><td>  NA </td><td>NA   </td><td>0    </td><td>NA   </td></tr>\n",
       "\t<tr><td>2    </td><td>1    </td><td>1    </td><td>20101</td><td>0    </td><td>NA   </td><td>1    </td><td>1    </td><td> 600 </td><td> 600 </td><td>...  </td><td>NA   </td><td>NA   </td><td>NA   </td><td>NA   </td><td>NA   </td><td>NA   </td><td>  NA </td><td>NA   </td><td>0    </td><td>NA   </td></tr>\n",
       "\t<tr><td>3    </td><td>1    </td><td>1    </td><td>30101</td><td>0    </td><td>NA   </td><td>1    </td><td>1    </td><td>1571 </td><td>1619 </td><td>...  </td><td>NA   </td><td>NA   </td><td>NA   </td><td>NA   </td><td>NA   </td><td>NA   </td><td>1440 </td><td>NA   </td><td>0    </td><td>NA   </td></tr>\n",
       "</tbody>\n",
       "</table>\n"
      ],
      "text/latex": [
       "\\begin{tabular}{r|lllllllllllllllllllllllllllllllllllllllllllllllllllllllllllllllllllllllllllllllllllllllllllllllllllllllllllllllllllllllllllllllllllllllllllllllllllllllllllllllllllllllllllllllllllllllllllllllllllllllllllllllllllllllllllllllllllllllllllllllllllllllllllllllllllllllllllllllllllllllllllllllllllllllllllllllllllllllllllllllllllllllllllllllllllllllllllllllllllllllllllllllllllllllllllllllllllllllllllllllllllllllllllllllllllllllllllllllllllllllllllllllllllllllllllllllllllllllllllllllllllllllllllllllllllllllllllllllllllllllllllllllllllllllllllllllllllllllllllllllllllllllllllllllllllllllllllllllllllllllllllllllllllllllllllllllllllllllllllllllllllllllllllllllllllllllllllllllllllllllllllllllllllllllllllllllllllllllllllllllllllllllllllllllllllllllllllllllllllllllllllllllllllllllllllllllllllllllllllllllllllllllllllllllllllllllllllllllllllllllllllllllllllllllllllllllllllllllllllllllllllllllllllllllllllllllllllllllllllllllllllllllllllllllllllllllllllllllllllll}\n",
       " h10\\_id & h10\\_ind & h10\\_sn & h10\\_merkey & h\\_new & h10\\_cobf & h10\\_reg5 & h10\\_reg7 & h10\\_din & h10\\_cin & ... & c1007\\_4aq19 & c1007\\_4aq20 & c1007\\_4aq21 & c1007\\_4aq22 & c1007\\_4aq23 & h10\\_pers\\_income1 & h10\\_pers\\_income2 & h10\\_pers\\_income3 & h10\\_pers\\_income4 & h10\\_pers\\_income5\\\\\n",
       "\\hline\n",
       "\t 1     & 1     & 1     & 10101 & 0     & NA    & 1     & 1     &  864  &  864  & ...   & NA    & NA    & NA    & NA    & NA    & NA    &   NA  & NA    & 0     & NA   \\\\\n",
       "\t 2     & 1     & 1     & 20101 & 0     & NA    & 1     & 1     &  600  &  600  & ...   & NA    & NA    & NA    & NA    & NA    & NA    &   NA  & NA    & 0     & NA   \\\\\n",
       "\t 3     & 1     & 1     & 30101 & 0     & NA    & 1     & 1     & 1571  & 1619  & ...   & NA    & NA    & NA    & NA    & NA    & NA    & 1440  & NA    & 0     & NA   \\\\\n",
       "\\end{tabular}\n"
      ],
      "text/markdown": [
       "\n",
       "| h10_id | h10_ind | h10_sn | h10_merkey | h_new | h10_cobf | h10_reg5 | h10_reg7 | h10_din | h10_cin | ... | c1007_4aq19 | c1007_4aq20 | c1007_4aq21 | c1007_4aq22 | c1007_4aq23 | h10_pers_income1 | h10_pers_income2 | h10_pers_income3 | h10_pers_income4 | h10_pers_income5 |\n",
       "|---|---|---|---|---|---|---|---|---|---|---|---|---|---|---|---|---|---|---|---|---|\n",
       "| 1     | 1     | 1     | 10101 | 0     | NA    | 1     | 1     |  864  |  864  | ...   | NA    | NA    | NA    | NA    | NA    | NA    |   NA  | NA    | 0     | NA    |\n",
       "| 2     | 1     | 1     | 20101 | 0     | NA    | 1     | 1     |  600  |  600  | ...   | NA    | NA    | NA    | NA    | NA    | NA    |   NA  | NA    | 0     | NA    |\n",
       "| 3     | 1     | 1     | 30101 | 0     | NA    | 1     | 1     | 1571  | 1619  | ...   | NA    | NA    | NA    | NA    | NA    | NA    | 1440  | NA    | 0     | NA    |\n",
       "\n"
      ],
      "text/plain": [
       "  h10_id h10_ind h10_sn h10_merkey h_new h10_cobf h10_reg5 h10_reg7 h10_din\n",
       "1 1      1       1      10101      0     NA       1        1         864   \n",
       "2 2      1       1      20101      0     NA       1        1         600   \n",
       "3 3      1       1      30101      0     NA       1        1        1571   \n",
       "  h10_cin ... c1007_4aq19 c1007_4aq20 c1007_4aq21 c1007_4aq22 c1007_4aq23\n",
       "1  864    ... NA          NA          NA          NA          NA         \n",
       "2  600    ... NA          NA          NA          NA          NA         \n",
       "3 1619    ... NA          NA          NA          NA          NA         \n",
       "  h10_pers_income1 h10_pers_income2 h10_pers_income3 h10_pers_income4\n",
       "1 NA                 NA             NA               0               \n",
       "2 NA                 NA             NA               0               \n",
       "3 NA               1440             NA               0               \n",
       "  h10_pers_income5\n",
       "1 NA              \n",
       "2 NA              \n",
       "3 NA              "
      ]
     },
     "metadata": {},
     "output_type": "display_data"
    },
    {
     "data": {
      "text/html": [
       "<ol class=list-inline>\n",
       "\t<li>16664</li>\n",
       "\t<li>957</li>\n",
       "</ol>\n"
      ],
      "text/latex": [
       "\\begin{enumerate*}\n",
       "\\item 16664\n",
       "\\item 957\n",
       "\\end{enumerate*}\n"
      ],
      "text/markdown": [
       "1. 16664\n",
       "2. 957\n",
       "\n",
       "\n"
      ],
      "text/plain": [
       "[1] 16664   957"
      ]
     },
     "metadata": {},
     "output_type": "display_data"
    },
    {
     "name": "stdout",
     "output_type": "stream",
     "text": [
      "'data.frame':\t16664 obs. of  957 variables:\n",
      " $ h10_id          : num  1 2 3 4 4 6 6 6 6 6 ...\n",
      " $ h10_ind         : num  1 1 1 1 1 1 1 1 1 1 ...\n",
      " $ h10_sn          : num  1 1 1 1 1 1 1 1 1 1 ...\n",
      " $ h10_merkey      : num  10101 20101 30101 40101 40101 ...\n",
      " $ h_new           : num  0 0 0 0 0 0 0 0 0 0 ...\n",
      " $ h10_cobf        : num  NA NA NA NA NA NA NA NA NA NA ...\n",
      " $ h10_reg5        : num  1 1 1 1 1 1 1 1 1 1 ...\n",
      " $ h10_reg7        : num  1 1 1 1 1 1 1 1 1 1 ...\n",
      " $ h10_din         : num  864 600 1571 3579 3579 ...\n",
      " $ h10_cin         : num  864 600 1619 3687 3687 ...\n",
      " $ h10_flag        : num  0 0 0 0 0 0 0 0 0 0 ...\n",
      " $ p10_wgl         : num  777 960 1059 1012 1075 ...\n",
      " $ p10_wsl         : num  0.257 0.317 0.35 0.334 0.355 ...\n",
      " $ p10_wgc         : num  764 949 1048 992 1057 ...\n",
      " $ p10_wsc         : num  0.252 0.314 0.346 0.328 0.349 ...\n",
      " $ h10_hc          : num  2 2 1 1 1 1 1 1 1 1 ...\n",
      " $ nh1001_1        : num  NA NA NA NA NA NA NA NA NA NA ...\n",
      " $ nh1001_2        : num  NA NA NA NA NA NA NA NA NA NA ...\n",
      " $ h1001_1         : num  1 1 1 2 2 5 5 5 5 5 ...\n",
      " $ h10_pind        : num  1 1 1 1 4 1 1 1 1 1 ...\n",
      " $ h10_pid         : num  101 201 301 401 402 601 602 603 604 605 ...\n",
      " $ h10_g1          : num  1 1 1 1 2 1 2 3 4 5 ...\n",
      " $ h10_g2          : num  10 10 10 10 2 10 20 11 1 2 ...\n",
      " $ h10_g3          : num  2 2 1 1 2 1 2 2 1 2 ...\n",
      " $ h10_g4          : num  1936 1945 1948 1942 1923 ...\n",
      " $ h10_g6          : num  2 4 3 7 2 6 5 3 4 4 ...\n",
      " $ h10_g7          : num  0 5 5 3 0 5 5 1 5 5 ...\n",
      " $ h10_g8          : num  0 0 0 0 0 0 0 0 0 0 ...\n",
      " $ h10_g9          : num  0 0 0 0 0 0 0 0 0 0 ...\n",
      " $ h10_g10         : num  2 2 2 3 2 1 1 0 1 1 ...\n",
      " $ h10_g11         : num  2 2 2 1 1 1 1 1 1 1 ...\n",
      " $ h10_g12         : num  1 1 1 1 1 1 1 1 1 1 ...\n",
      " $ h1001_110       : num  1 1 1 5 5 5 5 5 5 5 ...\n",
      " $ h1001_5aq1      : num  0 0 0 0 0 0 0 0 0 0 ...\n",
      " $ h1001_5aq2      : num  0 0 0 0 0 0 0 0 0 0 ...\n",
      " $ h1001_5aq3      : num  0 0 0 0 0 0 0 0 0 0 ...\n",
      " $ h1001_5aq4      : num  0 0 0 0 0 0 0 0 0 0 ...\n",
      " $ h10_med1        : num  1 1 1 1 2 1 2 3 4 5 ...\n",
      " $ h10_med2        : num  3 4 3 3 4 3 5 2 3 3 ...\n",
      " $ h10_med3        : num  60 28 12 3 6 5 0 3 0 14 ...\n",
      " $ h10_med4        : num  0 0 0 0 0 0 5 0 0 0 ...\n",
      " $ h10_med5        : num  0 0 0 0 0 0 23 0 0 0 ...\n",
      " $ h10_med6        : num  0 0 0 0 0 0 1 0 0 0 ...\n",
      " $ h10_med7        : num  3 2 2 1 1 2 1 2 0 2 ...\n",
      " $ h10_med8        : num  0 1 0 1 1 1 1 0 0 1 ...\n",
      " $ h10_g9_1        : num  3 3 3 3 3 3 3 0 0 3 ...\n",
      " $ h10_med9        : num  8 5 7 3 15 23 1 0 0 6 ...\n",
      " $ h10_med10       : num  0 0 0 0 0 1 1 1 0 0 ...\n",
      " $ h10_eco1        : num  1 1 1 1 2 1 2 3 4 5 ...\n",
      " $ h10_eco2        : num  2 3 1 1 3 1 1 0 3 3 ...\n",
      " $ h10_eco3        : num  NA NA NA NA NA NA NA NA NA NA ...\n",
      " $ h10_eco4        : num  9 9 2 2 9 6 9 NA 9 9 ...\n",
      " $ h10_eco4_1      : num  NA NA NA NA NA NA NA NA NA NA ...\n",
      " $ h10_eco5_1      : num  NA NA 1 1 NA NA NA NA NA NA ...\n",
      " $ h10_eco6        : num  NA NA 2 2 NA NA NA NA NA NA ...\n",
      " $ h10_eco_7_1     : num  NA NA 1 1 NA NA NA NA NA NA ...\n",
      " $ h10_eco_7_2     : num  NA NA 2 2 NA NA NA NA NA NA ...\n",
      " $ h10_eco_7_3     : num  NA NA 1 3 NA NA NA NA NA NA ...\n",
      " $ h10_eco8        : num  NA NA 75 42 NA 46 NA NA NA NA ...\n",
      " $ h10_eco9        : num  NA NA 942 762 NA 530 NA NA NA NA ...\n",
      " $ h10_eco10       : num  NA NA 3 2 NA 1 NA NA NA NA ...\n",
      " $ h10_eco11       : num  10 10 NA NA 10 NA 6 NA 10 10 ...\n",
      " $ h10_soc1        : num  1 1 1 1 2 1 2 3 4 5 ...\n",
      " $ h10_soc_2       : num  0 0 0 1 0 2 0 0 0 0 ...\n",
      " $ h10_soc_3       : num  NA NA NA NA NA 1 NA NA NA NA ...\n",
      " $ h10_soc_4       : num  NA NA NA NA NA 2 NA NA NA NA ...\n",
      " $ h10_soc_5       : num  NA NA NA NA NA 1 NA NA NA NA ...\n",
      " $ h10_soc_6       : num  NA NA NA NA NA NA NA NA NA NA ...\n",
      " $ h10_soc_7       : num  NA NA NA NA NA NA NA NA NA NA ...\n",
      " $ h10_soc_8       : num  NA NA NA NA NA NA NA NA NA NA ...\n",
      " $ h10_soc_9       : num  NA NA NA NA NA 0 NA NA NA NA ...\n",
      " $ h10_soc_10      : num  NA NA NA NA NA 0 NA NA NA NA ...\n",
      " $ h10_soc_11      : num  NA NA NA NA NA NA NA NA NA NA ...\n",
      " $ h10_soc8        : num  0 0 1 2 0 0 0 0 0 0 ...\n",
      " $ h10_soc9        : num  0 0 1 2 0 0 0 0 0 0 ...\n",
      " $ h10_soc11       : num  0 0 2 2 0 0 0 0 0 0 ...\n",
      " $ h10_soc10       : num  0 0 2 2 0 0 0 0 0 0 ...\n",
      " $ h10_soc_12      : num  4 4 4 4 4 4 4 4 4 4 ...\n",
      " $ h10_soc_13      : num  4 4 1 3 4 3 4 4 4 4 ...\n",
      " $ h1005_1         : num  1 1 1 1 1 1 1 1 1 1 ...\n",
      " $ h1005_3aq1      : num  2 2 1 2 2 2 2 2 2 2 ...\n",
      " $ h1005_2         : num  NA NA NA NA NA NA NA NA NA NA ...\n",
      " $ h1005_3         : num  NA NA NA NA NA NA NA NA NA NA ...\n",
      " $ h1005_4         : num  2 2 2 2 2 2 2 2 2 2 ...\n",
      " $ h1005_5         : num  NA NA NA NA NA NA NA NA NA NA ...\n",
      " $ h1005_6         : num  NA NA NA NA NA NA NA NA NA NA ...\n",
      " $ h1005_7         : num  0 0 0 0 0 1 1 1 1 1 ...\n",
      " $ nh1005_8        : num  4 3 3 3 3 3 3 3 3 3 ...\n",
      " $ nh1005_9        : num  5 4 3 3 3 4 4 4 4 4 ...\n",
      " $ h1005_3aq2      : num  0 0 0 0 0 11 11 11 11 11 ...\n",
      " $ h1006_aq1       : num  2 2 2 2 2 2 2 2 2 2 ...\n",
      " $ h1006_1         : num  2 2 2 1 1 2 2 2 2 2 ...\n",
      " $ h1006_2         : num  3 3 1 3 3 3 3 3 3 3 ...\n",
      " $ h1006_4         : num  2 3 1 3 3 3 3 3 3 3 ...\n",
      " $ h1006_5         : num  33 198 23 73 73 82 82 82 82 82 ...\n",
      " $ h1006_3         : num  2 1 3 1 1 1 1 1 1 1 ...\n",
      " $ h1006_6         : num  5000 60000 200 20000 20000 50700 50700 50700 50700 50700 ...\n",
      " $ h1006_8         : num  1 1 1 1 1 1 1 1 1 1 ...\n",
      " $ h1006_9         : num  88 4 88 88 88 88 88 88 88 88 ...\n",
      "  [list output truncated]\n",
      " - attr(*, \"variable.labels\")= Named chr  \"가구 패널 ID(h10_id)\" \"가구생성차수(h10_ind)\" \"가구분리일련번호(h10_sn)\" \"패널간 가구머지 키변수(h10_merkey)\" ...\n",
      "  ..- attr(*, \"names\")= chr  \"h10_id\" \"h10_ind\" \"h10_sn\" \"h10_merkey\" ...\n"
     ]
    }
   ],
   "source": [
    "head(welfare, 3)\n",
    "# tail(welfare)\n",
    "# View(welfare)\n",
    "dim(welfare)\n",
    "str(welfare)\n",
    "# summary(welfare)\n",
    "# • 대규모 데이터는 변수가 많고 변수명이 코드로 되어 있어서 전체 데이터 구조를 한눈에 파악하기 어려움\n",
    "# • 변수명을 쉬운 단어로 바꾼 후 분석에 사용할 변수들 각각 파악해야 함"
   ]
  },
  {
   "cell_type": "code",
   "execution_count": 9,
   "metadata": {},
   "outputs": [],
   "source": [
    "# 변수명 바꾸기\n",
    "welfare <- rename(welfare,\n",
    "                     sex = h10_g3, # 성별\n",
    "                     birth = h10_g4, # 태어난 연도\n",
    "                     marriage = h10_g10, # 혼인 상태\n",
    "                     religion = h10_g11, # 종교\n",
    "                     income = p1002_8aq1, # 월급\n",
    "                     code_job = h10_eco9, # 직종 코드\n",
    "                     code_region = h10_reg7) # 지역 코드"
   ]
  },
  {
   "cell_type": "markdown",
   "metadata": {},
   "source": [
    "데이터 분석 절차  \n",
    "• 1단계. 변수 검토 및 전처리  \n",
    "• 2단계. 변수 간 관계 분석  "
   ]
  },
  {
   "cell_type": "markdown",
   "metadata": {},
   "source": [
    "성별에 따른 월급 차이  \n",
    "- \"성별에 따라 월급이 다를까?\"  \n",
    "\n",
    "분석 절차  \n",
    "1. 변수 검토 및 전처리  \n",
    "• 성별  \n",
    "• 월급  \n",
    "2. 변수 간 관계 분석  \n",
    "• 성별 월급 평균표 만들기  \n",
    "• 그래프 만들기  "
   ]
  },
  {
   "cell_type": "code",
   "execution_count": 11,
   "metadata": {},
   "outputs": [
    {
     "data": {
      "text/html": [
       "'numeric'"
      ],
      "text/latex": [
       "'numeric'"
      ],
      "text/markdown": [
       "'numeric'"
      ],
      "text/plain": [
       "[1] \"numeric\""
      ]
     },
     "metadata": {},
     "output_type": "display_data"
    },
    {
     "data": {
      "text/plain": [
       "\n",
       "   1    2 \n",
       "7578 9086 "
      ]
     },
     "metadata": {},
     "output_type": "display_data"
    }
   ],
   "source": [
    "# 성별 변수 검토 및 전처리\n",
    "# 1. 변수 검토하기\n",
    "class(welfare$sex)\n",
    "table(welfare$sex)"
   ]
  },
  {
   "cell_type": "code",
   "execution_count": 12,
   "metadata": {},
   "outputs": [
    {
     "data": {
      "text/plain": [
       "\n",
       "   1    2 \n",
       "7578 9086 "
      ]
     },
     "metadata": {},
     "output_type": "display_data"
    }
   ],
   "source": [
    "# 2. 전처리\n",
    "# 이상치 확인\n",
    "table(welfare$sex)"
   ]
  },
  {
   "cell_type": "code",
   "execution_count": 13,
   "metadata": {},
   "outputs": [],
   "source": [
    "# 이상치 결측 처리\n",
    "welfare$sex <- ifelse(welfare$sex == 9, NA, welfare$sex)"
   ]
  },
  {
   "cell_type": "code",
   "execution_count": 14,
   "metadata": {},
   "outputs": [
    {
     "data": {
      "text/plain": [
       "\n",
       "FALSE \n",
       "16664 "
      ]
     },
     "metadata": {},
     "output_type": "display_data"
    }
   ],
   "source": [
    "# 결측치 확인\n",
    "table(is.na(welfare$sex))"
   ]
  },
  {
   "cell_type": "code",
   "execution_count": 15,
   "metadata": {},
   "outputs": [
    {
     "data": {
      "text/plain": [
       "\n",
       "female   male \n",
       "  9086   7578 "
      ]
     },
     "metadata": {},
     "output_type": "display_data"
    }
   ],
   "source": [
    "# 성별 항목 이름 부여\n",
    "welfare$sex <- ifelse(welfare$sex == 1, \"male\", \"female\")\n",
    "table(welfare$sex)"
   ]
  },
  {
   "cell_type": "code",
   "execution_count": 16,
   "metadata": {},
   "outputs": [
    {
     "data": {
      "image/png": "[encoded data removed]",
      "text/plain": [
       "plot without title"
      ]
     },
     "metadata": {},
     "output_type": "display_data"
    }
   ],
   "source": [
    "qplot(welfare$sex)"
   ]
  },
  {
   "cell_type": "code",
   "execution_count": 17,
   "metadata": {},
   "outputs": [
    {
     "data": {
      "text/html": [
       "'numeric'"
      ],
      "text/latex": [
       "'numeric'"
      ],
      "text/markdown": [
       "'numeric'"
      ],
      "text/plain": [
       "[1] \"numeric\""
      ]
     },
     "metadata": {},
     "output_type": "display_data"
    }
   ],
   "source": [
    "# 월급 변수 검토 및 전처리\n",
    "# 1. 변수 검토하기\n",
    "class(welfare$income)"
   ]
  },
  {
   "cell_type": "code",
   "execution_count": 18,
   "metadata": {},
   "outputs": [
    {
     "data": {
      "text/plain": [
       "   Min. 1st Qu.  Median    Mean 3rd Qu.    Max.    NA's \n",
       "    0.0   122.0   192.5   241.6   316.6  2400.0   12030 "
      ]
     },
     "metadata": {},
     "output_type": "display_data"
    }
   ],
   "source": [
    "summary(welfare$income)"
   ]
  },
  {
   "cell_type": "code",
   "execution_count": 19,
   "metadata": {},
   "outputs": [
    {
     "name": "stderr",
     "output_type": "stream",
     "text": [
      "`stat_bin()` using `bins = 30`. Pick better value with `binwidth`.\n",
      "Warning message:\n",
      "\"Removed 12030 rows containing non-finite values (stat_bin).\""
     ]
    },
    {
     "data": {
      "image/png": "[encoded data removed]",
      "text/plain": [
       "plot without title"
      ]
     },
     "metadata": {},
     "output_type": "display_data"
    }
   ],
   "source": [
    "qplot(welfare$income)"
   ]
  },
  {
   "cell_type": "code",
   "execution_count": 20,
   "metadata": {},
   "outputs": [
    {
     "name": "stderr",
     "output_type": "stream",
     "text": [
      "`stat_bin()` using `bins = 30`. Pick better value with `binwidth`.\n",
      "Warning message:\n",
      "\"Removed 12051 rows containing non-finite values (stat_bin).\"Warning message:\n",
      "\"Removed 2 rows containing missing values (geom_bar).\""
     ]
    },
    {
     "data": {
      "image/png": "[encoded data removed]",
      "text/plain": [
       "plot without title"
      ]
     },
     "metadata": {},
     "output_type": "display_data"
    }
   ],
   "source": [
    "qplot(welfare$income) + xlim(0, 1000)"
   ]
  },
  {
   "cell_type": "code",
   "execution_count": 35,
   "metadata": {},
   "outputs": [
    {
     "data": {
      "text/plain": [
       "   Min. 1st Qu.  Median    Mean 3rd Qu.    Max.    NA's \n",
       "    0.0   122.0   192.5   241.6   316.6  2400.0   12030 "
      ]
     },
     "metadata": {},
     "output_type": "display_data"
    }
   ],
   "source": [
    "# 2. 전처리\n",
    "# 이상치 확인\n",
    "summary(welfare$income)"
   ]
  },
  {
   "cell_type": "code",
   "execution_count": 21,
   "metadata": {},
   "outputs": [],
   "source": [
    "# 이상치 결측 처리\n",
    "welfare$income <- ifelse(welfare$income %in% c(0, 9999), NA, welfare$income)"
   ]
  },
  {
   "cell_type": "code",
   "execution_count": 22,
   "metadata": {},
   "outputs": [
    {
     "data": {
      "text/plain": [
       "\n",
       "FALSE  TRUE \n",
       " 4620 12044 "
      ]
     },
     "metadata": {},
     "output_type": "display_data"
    }
   ],
   "source": [
    "# 결측치 확인\n",
    "table(is.na(welfare$income))"
   ]
  },
  {
   "cell_type": "code",
   "execution_count": 23,
   "metadata": {},
   "outputs": [
    {
     "data": {
      "text/html": [
       "<table>\n",
       "<thead><tr><th scope=col>sex</th><th scope=col>mean_income</th></tr></thead>\n",
       "<tbody>\n",
       "\t<tr><td>female  </td><td>163.2471</td></tr>\n",
       "\t<tr><td>male    </td><td>312.2932</td></tr>\n",
       "</tbody>\n",
       "</table>\n"
      ],
      "text/latex": [
       "\\begin{tabular}{r|ll}\n",
       " sex & mean\\_income\\\\\n",
       "\\hline\n",
       "\t female   & 163.2471\\\\\n",
       "\t male     & 312.2932\\\\\n",
       "\\end{tabular}\n"
      ],
      "text/markdown": [
       "\n",
       "| sex | mean_income |\n",
       "|---|---|\n",
       "| female   | 163.2471 |\n",
       "| male     | 312.2932 |\n",
       "\n"
      ],
      "text/plain": [
       "  sex    mean_income\n",
       "1 female 163.2471   \n",
       "2 male   312.2932   "
      ]
     },
     "metadata": {},
     "output_type": "display_data"
    }
   ],
   "source": [
    "# 성별에 따른 월급 차이 분석하기\n",
    "# 1. 성별 월급 평균표 만들기\n",
    "sex_income <- welfare %>%\n",
    "                 filter(!is.na(income)) %>%\n",
    "                 group_by(sex) %>%\n",
    "                 summarise(mean_income = mean(income))\n",
    "sex_income"
   ]
  },
  {
   "cell_type": "code",
   "execution_count": 24,
   "metadata": {},
   "outputs": [
    {
     "data": {
      "image/png": "[encoded data removed]",
      "text/plain": [
       "plot without title"
      ]
     },
     "metadata": {},
     "output_type": "display_data"
    }
   ],
   "source": [
    "# 2. 그래프 만들기\n",
    "ggplot(data = sex_income, aes(x = sex, y = mean_income)) + geom_col()"
   ]
  },
  {
   "cell_type": "markdown",
   "metadata": {},
   "source": [
    "나이와 월급의 관계  \n",
    "- \"몇 살 때 월급을 가장 많이 받을까?\"  \n",
    "분석 절차  \n",
    "1. 변수 검토 및 전처리  \n",
    "• 나이  \n",
    "• 월급  \n",
    "2. 변수 간 관계 분석  \n",
    "• 나이에 따른 월급 평균표 만들기  \n",
    "• 그래프 만들기  "
   ]
  },
  {
   "cell_type": "code",
   "execution_count": 25,
   "metadata": {},
   "outputs": [
    {
     "data": {
      "text/html": [
       "'numeric'"
      ],
      "text/latex": [
       "'numeric'"
      ],
      "text/markdown": [
       "'numeric'"
      ],
      "text/plain": [
       "[1] \"numeric\""
      ]
     },
     "metadata": {},
     "output_type": "display_data"
    }
   ],
   "source": [
    "# 1. 변수 검토하기\n",
    "class(welfare$birth)"
   ]
  },
  {
   "cell_type": "code",
   "execution_count": 26,
   "metadata": {},
   "outputs": [
    {
     "data": {
      "text/plain": [
       "   Min. 1st Qu.  Median    Mean 3rd Qu.    Max. \n",
       "   1907    1946    1966    1968    1988    2014 "
      ]
     },
     "metadata": {},
     "output_type": "display_data"
    }
   ],
   "source": [
    "summary(welfare$birth)"
   ]
  },
  {
   "cell_type": "code",
   "execution_count": 27,
   "metadata": {},
   "outputs": [
    {
     "name": "stderr",
     "output_type": "stream",
     "text": [
      "`stat_bin()` using `bins = 30`. Pick better value with `binwidth`.\n"
     ]
    },
    {
     "data": {
      "image/png": "[encoded data removed]",
      "text/plain": [
       "plot without title"
      ]
     },
     "metadata": {},
     "output_type": "display_data"
    }
   ],
   "source": [
    "qplot(welfare$birth)"
   ]
  },
  {
   "cell_type": "code",
   "execution_count": null,
   "metadata": {},
   "outputs": [],
   "source": [
    "# 2. 전처리\n",
    "# 이상치 확인\n",
    "summary(welfare$birth)"
   ]
  },
  {
   "cell_type": "code",
   "execution_count": 28,
   "metadata": {},
   "outputs": [
    {
     "data": {
      "text/plain": [
       "\n",
       "FALSE \n",
       "16664 "
      ]
     },
     "metadata": {},
     "output_type": "display_data"
    }
   ],
   "source": [
    "# 결측치 확인\n",
    "table(is.na(welfare$birth))"
   ]
  },
  {
   "cell_type": "code",
   "execution_count": 29,
   "metadata": {},
   "outputs": [
    {
     "data": {
      "text/plain": [
       "\n",
       "FALSE \n",
       "16664 "
      ]
     },
     "metadata": {},
     "output_type": "display_data"
    }
   ],
   "source": [
    "# 이상치 결측 처리\n",
    "welfare$birth <- ifelse(welfare$birth == 9999, NA, welfare$birth)\n",
    "table(is.na(welfare$birth))"
   ]
  },
  {
   "cell_type": "code",
   "execution_count": 30,
   "metadata": {},
   "outputs": [
    {
     "data": {
      "text/plain": [
       "   Min. 1st Qu.  Median    Mean 3rd Qu.    Max. \n",
       "   2.00   28.00   50.00   48.43   70.00  109.00 "
      ]
     },
     "metadata": {},
     "output_type": "display_data"
    }
   ],
   "source": [
    "# 3. 파생변수 만들기 - 나이\n",
    "welfare$age <- 2015 - welfare$birth + 1\n",
    "summary(welfare$age)\n"
   ]
  },
  {
   "cell_type": "code",
   "execution_count": 31,
   "metadata": {},
   "outputs": [
    {
     "name": "stderr",
     "output_type": "stream",
     "text": [
      "`stat_bin()` using `bins = 30`. Pick better value with `binwidth`.\n"
     ]
    },
    {
     "data": {
      "image/png": "[encoded data removed]",
      "text/plain": [
       "plot without title"
      ]
     },
     "metadata": {},
     "output_type": "display_data"
    }
   ],
   "source": [
    "qplot(welfare$age)"
   ]
  },
  {
   "cell_type": "code",
   "execution_count": 32,
   "metadata": {},
   "outputs": [
    {
     "data": {
      "text/html": [
       "<table>\n",
       "<thead><tr><th scope=col>age</th><th scope=col>mean_income</th></tr></thead>\n",
       "<tbody>\n",
       "\t<tr><td>20      </td><td>121.3000</td></tr>\n",
       "\t<tr><td>21      </td><td>105.5185</td></tr>\n",
       "\t<tr><td>22      </td><td>130.0923</td></tr>\n",
       "\t<tr><td>23      </td><td>141.7157</td></tr>\n",
       "\t<tr><td>24      </td><td>134.0877</td></tr>\n",
       "\t<tr><td>25      </td><td>144.6559</td></tr>\n",
       "</tbody>\n",
       "</table>\n"
      ],
      "text/latex": [
       "\\begin{tabular}{r|ll}\n",
       " age & mean\\_income\\\\\n",
       "\\hline\n",
       "\t 20       & 121.3000\\\\\n",
       "\t 21       & 105.5185\\\\\n",
       "\t 22       & 130.0923\\\\\n",
       "\t 23       & 141.7157\\\\\n",
       "\t 24       & 134.0877\\\\\n",
       "\t 25       & 144.6559\\\\\n",
       "\\end{tabular}\n"
      ],
      "text/markdown": [
       "\n",
       "| age | mean_income |\n",
       "|---|---|\n",
       "| 20       | 121.3000 |\n",
       "| 21       | 105.5185 |\n",
       "| 22       | 130.0923 |\n",
       "| 23       | 141.7157 |\n",
       "| 24       | 134.0877 |\n",
       "| 25       | 144.6559 |\n",
       "\n"
      ],
      "text/plain": [
       "  age mean_income\n",
       "1 20  121.3000   \n",
       "2 21  105.5185   \n",
       "3 22  130.0923   \n",
       "4 23  141.7157   \n",
       "5 24  134.0877   \n",
       "6 25  144.6559   "
      ]
     },
     "metadata": {},
     "output_type": "display_data"
    }
   ],
   "source": [
    "# 나이와 월급의 관계 분석하기\n",
    "# 1. 나이에 따른 월급 평균표 만들기\n",
    "age_income <- welfare %>%\n",
    "                 filter(!is.na(income)) %>%\n",
    "                 group_by(age) %>%\n",
    "                 summarise(mean_income = mean(income))\n",
    "head(age_income)"
   ]
  },
  {
   "cell_type": "code",
   "execution_count": 33,
   "metadata": {},
   "outputs": [
    {
     "data": {
      "image/png": "[encoded data removed]",
      "text/plain": [
       "plot without title"
      ]
     },
     "metadata": {},
     "output_type": "display_data"
    }
   ],
   "source": [
    "# 2. 그래프 만들기\n",
    "ggplot(data = age_income, aes(x = age, y = mean_income)) + geom_line()"
   ]
  },
  {
   "cell_type": "markdown",
   "metadata": {},
   "source": [
    "연령대에 따른 월급 차이  \n",
    "- \"어떤 연령대의 월급이 가장 많을까?\"  \n",
    "분석 절차  \n",
    "1. 변수 검토 및 전처리  \n",
    "• 연령대  \n",
    "• 월급  \n",
    "2. 변수 간 관계 분석  \n",
    "• 연령대별 월급 평균표 만들기  \n",
    "• 그래프 만들기  "
   ]
  },
  {
   "cell_type": "code",
   "execution_count": 34,
   "metadata": {},
   "outputs": [
    {
     "data": {
      "text/plain": [
       "\n",
       "middle    old  young \n",
       "  6049   6281   4334 "
      ]
     },
     "metadata": {},
     "output_type": "display_data"
    }
   ],
   "source": [
    "# 연령대 변수 검토 및 전처리하기\n",
    "# 파생변수 만들기 - 연령대\n",
    "welfare <- welfare %>%\n",
    "             mutate(ageg = ifelse(age < 30, \"young\",\n",
    "                           ifelse(age <= 59, \"middle\", \"old\")))\n",
    "table(welfare$ageg)"
   ]
  },
  {
   "cell_type": "code",
   "execution_count": 35,
   "metadata": {},
   "outputs": [
    {
     "data": {
      "image/png": "[encoded data removed]",
      "text/plain": [
       "plot without title"
      ]
     },
     "metadata": {},
     "output_type": "display_data"
    }
   ],
   "source": [
    "qplot(welfare$ageg)"
   ]
  },
  {
   "cell_type": "code",
   "execution_count": 36,
   "metadata": {},
   "outputs": [
    {
     "data": {
      "text/html": [
       "<table>\n",
       "<thead><tr><th scope=col>ageg</th><th scope=col>mean_income</th></tr></thead>\n",
       "<tbody>\n",
       "\t<tr><td>middle  </td><td>281.8871</td></tr>\n",
       "\t<tr><td>old     </td><td>125.3295</td></tr>\n",
       "\t<tr><td>young   </td><td>163.5953</td></tr>\n",
       "</tbody>\n",
       "</table>\n"
      ],
      "text/latex": [
       "\\begin{tabular}{r|ll}\n",
       " ageg & mean\\_income\\\\\n",
       "\\hline\n",
       "\t middle   & 281.8871\\\\\n",
       "\t old      & 125.3295\\\\\n",
       "\t young    & 163.5953\\\\\n",
       "\\end{tabular}\n"
      ],
      "text/markdown": [
       "\n",
       "| ageg | mean_income |\n",
       "|---|---|\n",
       "| middle   | 281.8871 |\n",
       "| old      | 125.3295 |\n",
       "| young    | 163.5953 |\n",
       "\n"
      ],
      "text/plain": [
       "  ageg   mean_income\n",
       "1 middle 281.8871   \n",
       "2 old    125.3295   \n",
       "3 young  163.5953   "
      ]
     },
     "metadata": {},
     "output_type": "display_data"
    }
   ],
   "source": [
    "# 연령대에 따른 월급 차이 분석하기\n",
    "# 1. 연령대별 월급 평균표 만들기\n",
    "ageg_income <- welfare %>%\n",
    "                 filter(!is.na(income)) %>%\n",
    "                 group_by(ageg) %>%\n",
    "                 summarise(mean_income = mean(income))\n",
    "ageg_income"
   ]
  },
  {
   "cell_type": "code",
   "execution_count": 37,
   "metadata": {},
   "outputs": [
    {
     "data": {
      "image/png": "[encoded data removed]",
      "text/plain": [
       "plot without title"
      ]
     },
     "metadata": {},
     "output_type": "display_data"
    }
   ],
   "source": [
    "# 2. 그래프 만들기\n",
    "ggplot(data = ageg_income, aes(x = ageg, y = mean_income)) + geom_col()"
   ]
  },
  {
   "cell_type": "code",
   "execution_count": 38,
   "metadata": {},
   "outputs": [
    {
     "data": {
      "image/png": "[encoded data removed]",
      "text/plain": [
       "plot without title"
      ]
     },
     "metadata": {},
     "output_type": "display_data"
    }
   ],
   "source": [
    "# 막대 정렬 : 초년, 중년, 노년 나이 순\n",
    "ggplot(data = ageg_income, aes(x = ageg, y = mean_income)) +\n",
    "             geom_col() +\n",
    "             scale_x_discrete(limits = c(\"young\", \"middle\", \"old\"))"
   ]
  },
  {
   "cell_type": "markdown",
   "metadata": {},
   "source": [
    "연령대 및 성별 월급 차이  \n",
    "- \"성별 월급 차이는 연령대별로 다를까?\"  \n",
    "분석 절차  \n",
    "1. 변수 검토 및 전처리  \n",
    "• 연령대  \n",
    "• 성별  \n",
    "• 월급  \n",
    "2. 변수 간 관계 분석  \n",
    "• 연령대 및 성별 월급 평균표 만들기  \n",
    "• 그래프 만들기"
   ]
  },
  {
   "cell_type": "code",
   "execution_count": 39,
   "metadata": {},
   "outputs": [
    {
     "data": {
      "text/html": [
       "<table>\n",
       "<thead><tr><th scope=col>ageg</th><th scope=col>sex</th><th scope=col>mean_income</th></tr></thead>\n",
       "<tbody>\n",
       "\t<tr><td>middle   </td><td>female   </td><td>187.97552</td></tr>\n",
       "\t<tr><td>middle   </td><td>male     </td><td>353.07574</td></tr>\n",
       "\t<tr><td>old      </td><td>female   </td><td> 81.52917</td></tr>\n",
       "\t<tr><td>old      </td><td>male     </td><td>173.85558</td></tr>\n",
       "\t<tr><td>young    </td><td>female   </td><td>159.50518</td></tr>\n",
       "\t<tr><td>young    </td><td>male     </td><td>170.81737</td></tr>\n",
       "</tbody>\n",
       "</table>\n"
      ],
      "text/latex": [
       "\\begin{tabular}{r|lll}\n",
       " ageg & sex & mean\\_income\\\\\n",
       "\\hline\n",
       "\t middle    & female    & 187.97552\\\\\n",
       "\t middle    & male      & 353.07574\\\\\n",
       "\t old       & female    &  81.52917\\\\\n",
       "\t old       & male      & 173.85558\\\\\n",
       "\t young     & female    & 159.50518\\\\\n",
       "\t young     & male      & 170.81737\\\\\n",
       "\\end{tabular}\n"
      ],
      "text/markdown": [
       "\n",
       "| ageg | sex | mean_income |\n",
       "|---|---|---|\n",
       "| middle    | female    | 187.97552 |\n",
       "| middle    | male      | 353.07574 |\n",
       "| old       | female    |  81.52917 |\n",
       "| old       | male      | 173.85558 |\n",
       "| young     | female    | 159.50518 |\n",
       "| young     | male      | 170.81737 |\n",
       "\n"
      ],
      "text/plain": [
       "  ageg   sex    mean_income\n",
       "1 middle female 187.97552  \n",
       "2 middle male   353.07574  \n",
       "3 old    female  81.52917  \n",
       "4 old    male   173.85558  \n",
       "5 young  female 159.50518  \n",
       "6 young  male   170.81737  "
      ]
     },
     "metadata": {},
     "output_type": "display_data"
    }
   ],
   "source": [
    "# 연령대 및 성별 월급 차이 분석하기\n",
    "# 1. 연령대 및 성별 월급 평균표 만들기\n",
    "sex_income <- welfare %>%\n",
    "                 filter(!is.na(income)) %>%\n",
    "                 group_by(ageg, sex) %>%\n",
    "                 summarise(mean_income = mean(income))\n",
    "sex_income"
   ]
  },
  {
   "cell_type": "code",
   "execution_count": 40,
   "metadata": {},
   "outputs": [
    {
     "data": {
      "image/png": "[encoded data removed]",
      "text/plain": [
       "plot without title"
      ]
     },
     "metadata": {},
     "output_type": "display_data"
    }
   ],
   "source": [
    "# 2. 그래프 만들기\n",
    "ggplot(data = sex_income, aes(x = ageg, y = mean_income, fill = sex)) +\n",
    "                 geom_col() +\n",
    "                 scale_x_discrete(limits = c(\"young\", \"middle\", \"old\"))"
   ]
  },
  {
   "cell_type": "code",
   "execution_count": 32,
   "metadata": {},
   "outputs": [
    {
     "data": {
      "image/png": "[encoded data removed]",
      "text/plain": [
       "plot without title"
      ]
     },
     "metadata": {},
     "output_type": "display_data"
    }
   ],
   "source": [
    "# 성별 막대 분리\n",
    "ggplot(data = sex_income, aes(x = ageg, y = mean_income, fill = sex)) +\n",
    "             geom_col(position = \"dodge\") +\n",
    "             scale_x_discrete(limits = c(\"young\", \"middle\", \"old\"))"
   ]
  },
  {
   "cell_type": "code",
   "execution_count": 41,
   "metadata": {},
   "outputs": [
    {
     "data": {
      "text/html": [
       "<table>\n",
       "<thead><tr><th scope=col>age</th><th scope=col>sex</th><th scope=col>mean_income</th></tr></thead>\n",
       "<tbody>\n",
       "\t<tr><td>20      </td><td>female  </td><td>147.4500</td></tr>\n",
       "\t<tr><td>20      </td><td>male    </td><td> 69.0000</td></tr>\n",
       "\t<tr><td>21      </td><td>female  </td><td>106.9789</td></tr>\n",
       "\t<tr><td>21      </td><td>male    </td><td>102.0500</td></tr>\n",
       "\t<tr><td>22      </td><td>female  </td><td>139.8547</td></tr>\n",
       "\t<tr><td>22      </td><td>male    </td><td>118.2379</td></tr>\n",
       "</tbody>\n",
       "</table>\n"
      ],
      "text/latex": [
       "\\begin{tabular}{r|lll}\n",
       " age & sex & mean\\_income\\\\\n",
       "\\hline\n",
       "\t 20       & female   & 147.4500\\\\\n",
       "\t 20       & male     &  69.0000\\\\\n",
       "\t 21       & female   & 106.9789\\\\\n",
       "\t 21       & male     & 102.0500\\\\\n",
       "\t 22       & female   & 139.8547\\\\\n",
       "\t 22       & male     & 118.2379\\\\\n",
       "\\end{tabular}\n"
      ],
      "text/markdown": [
       "\n",
       "| age | sex | mean_income |\n",
       "|---|---|---|\n",
       "| 20       | female   | 147.4500 |\n",
       "| 20       | male     |  69.0000 |\n",
       "| 21       | female   | 106.9789 |\n",
       "| 21       | male     | 102.0500 |\n",
       "| 22       | female   | 139.8547 |\n",
       "| 22       | male     | 118.2379 |\n",
       "\n"
      ],
      "text/plain": [
       "  age sex    mean_income\n",
       "1 20  female 147.4500   \n",
       "2 20  male    69.0000   \n",
       "3 21  female 106.9789   \n",
       "4 21  male   102.0500   \n",
       "5 22  female 139.8547   \n",
       "6 22  male   118.2379   "
      ]
     },
     "metadata": {},
     "output_type": "display_data"
    }
   ],
   "source": [
    "# 나이 및 성별 월급 차이 분석하기\n",
    "# 성별 연령별 월급 평균표 만들기\n",
    "sex_age <- welfare %>%\n",
    "                 filter(!is.na(income)) %>%\n",
    "                 group_by(age, sex) %>%\n",
    "                 summarise(mean_income = mean(income))\n",
    "head(sex_age)"
   ]
  },
  {
   "cell_type": "code",
   "execution_count": 43,
   "metadata": {},
   "outputs": [
    {
     "data": {
      "image/png": "[encoded data removed]",
      "text/plain": [
       "plot without title"
      ]
     },
     "metadata": {},
     "output_type": "display_data"
    }
   ],
   "source": [
    "# 2. 그래프 만들기\n",
    "ggplot(data = sex_age, aes(x = age, y = mean_income, col = sex)) + geom_line()"
   ]
  },
  {
   "cell_type": "markdown",
   "metadata": {},
   "source": [
    "직업별 월급 차이  \n",
    "- \"어떤 직업이 월급을 가장 많이 받을까?\"  \n",
    "분석 절차  \n",
    "1. 변수 검토 및 전처리  \n",
    "• 직업  \n",
    "• 월급  \n",
    "2. 변수 간 관계 분석  \n",
    "• 직업별 월급 평균표 만들기  \n",
    "• 그래프 만들기  "
   ]
  },
  {
   "cell_type": "code",
   "execution_count": 35,
   "metadata": {},
   "outputs": [
    {
     "data": {
      "text/html": [
       "'numeric'"
      ],
      "text/latex": [
       "'numeric'"
      ],
      "text/markdown": [
       "'numeric'"
      ],
      "text/plain": [
       "[1] \"numeric\""
      ]
     },
     "metadata": {},
     "output_type": "display_data"
    }
   ],
   "source": [
    "# 1. 변수 검토하기\n",
    "class(welfare$code_job)"
   ]
  },
  {
   "cell_type": "code",
   "execution_count": null,
   "metadata": {},
   "outputs": [],
   "source": [
    "table(welfare$code_job)"
   ]
  },
  {
   "cell_type": "code",
   "execution_count": 37,
   "metadata": {},
   "outputs": [
    {
     "data": {
      "text/html": [
       "<table>\n",
       "<thead><tr><th scope=col>code_job</th><th scope=col>job</th></tr></thead>\n",
       "<tbody>\n",
       "\t<tr><td>111                                </td><td>의회의원 고위공무원 및 공공단체임원</td></tr>\n",
       "\t<tr><td>112                                </td><td>기업고위임원                       </td></tr>\n",
       "\t<tr><td>120                                </td><td>행정 및 경영지원 관리자            </td></tr>\n",
       "\t<tr><td>131                                </td><td>연구 교육 및 법률 관련 관리자      </td></tr>\n",
       "\t<tr><td>132                                </td><td>보험 및 금융 관리자                </td></tr>\n",
       "\t<tr><td>133                                </td><td>보건 및 사회복지 관련 관리자       </td></tr>\n",
       "</tbody>\n",
       "</table>\n"
      ],
      "text/latex": [
       "\\begin{tabular}{r|ll}\n",
       " code\\_job & job\\\\\n",
       "\\hline\n",
       "\t 111                                 & 의회의원 고위공무원 및 공공단체임원\\\\\n",
       "\t 112                                 & 기업고위임원                       \\\\\n",
       "\t 120                                 & 행정 및 경영지원 관리자            \\\\\n",
       "\t 131                                 & 연구 교육 및 법률 관련 관리자      \\\\\n",
       "\t 132                                 & 보험 및 금융 관리자                \\\\\n",
       "\t 133                                 & 보건 및 사회복지 관련 관리자       \\\\\n",
       "\\end{tabular}\n"
      ],
      "text/markdown": [
       "\n",
       "| code_job | job |\n",
       "|---|---|\n",
       "| 111                                 | 의회의원 고위공무원 및 공공단체임원 |\n",
       "| 112                                 | 기업고위임원                        |\n",
       "| 120                                 | 행정 및 경영지원 관리자             |\n",
       "| 131                                 | 연구 교육 및 법률 관련 관리자       |\n",
       "| 132                                 | 보험 및 금융 관리자                 |\n",
       "| 133                                 | 보건 및 사회복지 관련 관리자        |\n",
       "\n"
      ],
      "text/plain": [
       "  code_job job                                \n",
       "1 111      의회의원 고위공무원 및 공공단체임원\n",
       "2 112      기업고위임원                       \n",
       "3 120      행정 및 경영지원 관리자            \n",
       "4 131      연구 교육 및 법률 관련 관리자      \n",
       "5 132      보험 및 금융 관리자                \n",
       "6 133      보건 및 사회복지 관련 관리자       "
      ]
     },
     "metadata": {},
     "output_type": "display_data"
    }
   ],
   "source": [
    "# 2. 전처리\n",
    "# 직업분류코드 목록 불러오기\n",
    "library(readxl)\n",
    "list_job <- read_excel(\"./Data/Koweps_Codebook.xlsx\", col_names = T, sheet = 2)\n",
    "head(list_job)"
   ]
  },
  {
   "cell_type": "code",
   "execution_count": 38,
   "metadata": {},
   "outputs": [
    {
     "data": {
      "text/html": [
       "<ol class=list-inline>\n",
       "\t<li>149</li>\n",
       "\t<li>2</li>\n",
       "</ol>\n"
      ],
      "text/latex": [
       "\\begin{enumerate*}\n",
       "\\item 149\n",
       "\\item 2\n",
       "\\end{enumerate*}\n"
      ],
      "text/markdown": [
       "1. 149\n",
       "2. 2\n",
       "\n",
       "\n"
      ],
      "text/plain": [
       "[1] 149   2"
      ]
     },
     "metadata": {},
     "output_type": "display_data"
    }
   ],
   "source": [
    "dim(list_job)"
   ]
  },
  {
   "cell_type": "code",
   "execution_count": 39,
   "metadata": {},
   "outputs": [
    {
     "name": "stderr",
     "output_type": "stream",
     "text": [
      "Joining, by = \"code_job\"\n"
     ]
    },
    {
     "data": {
      "text/html": [
       "<table>\n",
       "<thead><tr><th scope=col>code_job</th><th scope=col>job</th></tr></thead>\n",
       "<tbody>\n",
       "\t<tr><td>942                               </td><td>경비원 및 검표원                  </td></tr>\n",
       "\t<tr><td>762                               </td><td>전기공                            </td></tr>\n",
       "\t<tr><td>530                               </td><td>방문 노점 및 통신 판매 관련 종사자</td></tr>\n",
       "\t<tr><td>999                               </td><td>기타 서비스관련 단순 종사원       </td></tr>\n",
       "\t<tr><td>312                               </td><td>경영관련 사무원                   </td></tr>\n",
       "\t<tr><td>254                               </td><td>문리 기술 및 예능 강사            </td></tr>\n",
       "\t<tr><td>510                               </td><td>영업 종사자                       </td></tr>\n",
       "\t<tr><td>530                               </td><td>방문 노점 및 통신 판매 관련 종사자</td></tr>\n",
       "\t<tr><td>286                               </td><td>스포츠 및 레크레이션 관련 전문가  </td></tr>\n",
       "\t<tr><td>521                               </td><td>매장 판매 종사자                  </td></tr>\n",
       "</tbody>\n",
       "</table>\n"
      ],
      "text/latex": [
       "\\begin{tabular}{r|ll}\n",
       " code\\_job & job\\\\\n",
       "\\hline\n",
       "\t 942                                & 경비원 및 검표원                  \\\\\n",
       "\t 762                                & 전기공                            \\\\\n",
       "\t 530                                & 방문 노점 및 통신 판매 관련 종사자\\\\\n",
       "\t 999                                & 기타 서비스관련 단순 종사원       \\\\\n",
       "\t 312                                & 경영관련 사무원                   \\\\\n",
       "\t 254                                & 문리 기술 및 예능 강사            \\\\\n",
       "\t 510                                & 영업 종사자                       \\\\\n",
       "\t 530                                & 방문 노점 및 통신 판매 관련 종사자\\\\\n",
       "\t 286                                & 스포츠 및 레크레이션 관련 전문가  \\\\\n",
       "\t 521                                & 매장 판매 종사자                  \\\\\n",
       "\\end{tabular}\n"
      ],
      "text/markdown": [
       "\n",
       "| code_job | job |\n",
       "|---|---|\n",
       "| 942                                | 경비원 및 검표원                   |\n",
       "| 762                                | 전기공                             |\n",
       "| 530                                | 방문 노점 및 통신 판매 관련 종사자 |\n",
       "| 999                                | 기타 서비스관련 단순 종사원        |\n",
       "| 312                                | 경영관련 사무원                    |\n",
       "| 254                                | 문리 기술 및 예능 강사             |\n",
       "| 510                                | 영업 종사자                        |\n",
       "| 530                                | 방문 노점 및 통신 판매 관련 종사자 |\n",
       "| 286                                | 스포츠 및 레크레이션 관련 전문가   |\n",
       "| 521                                | 매장 판매 종사자                   |\n",
       "\n"
      ],
      "text/plain": [
       "   code_job job                               \n",
       "1  942      경비원 및 검표원                  \n",
       "2  762      전기공                            \n",
       "3  530      방문 노점 및 통신 판매 관련 종사자\n",
       "4  999      기타 서비스관련 단순 종사원       \n",
       "5  312      경영관련 사무원                   \n",
       "6  254      문리 기술 및 예능 강사            \n",
       "7  510      영업 종사자                       \n",
       "8  530      방문 노점 및 통신 판매 관련 종사자\n",
       "9  286      스포츠 및 레크레이션 관련 전문가  \n",
       "10 521      매장 판매 종사자                  "
      ]
     },
     "metadata": {},
     "output_type": "display_data"
    }
   ],
   "source": [
    "# welfare에 직업명 결합\n",
    "welfare <- left_join(welfare, list_job, id = \"code_job\")\n",
    "## Joining, by = \"code_job\"\n",
    "welfare %>%\n",
    " filter(!is.na(code_job)) %>%\n",
    " select(code_job, job) %>%\n",
    " head(10)"
   ]
  },
  {
   "cell_type": "code",
   "execution_count": 40,
   "metadata": {},
   "outputs": [
    {
     "data": {
      "text/html": [
       "<table>\n",
       "<thead><tr><th scope=col>job</th><th scope=col>mean_income</th></tr></thead>\n",
       "<tbody>\n",
       "\t<tr><td>가사 및 육아 도우미          </td><td> 80.16648                    </td></tr>\n",
       "\t<tr><td>간호사                       </td><td>240.68127                    </td></tr>\n",
       "\t<tr><td>건설 및 광업 단순 종사원     </td><td>190.12974                    </td></tr>\n",
       "\t<tr><td>건설 및 채굴 기계운전원      </td><td>357.97000                    </td></tr>\n",
       "\t<tr><td>건설 전기 및 생산 관련 관리자</td><td>535.80556                    </td></tr>\n",
       "\t<tr><td>건설관련 기능 종사자         </td><td>246.63214                    </td></tr>\n",
       "</tbody>\n",
       "</table>\n"
      ],
      "text/latex": [
       "\\begin{tabular}{r|ll}\n",
       " job & mean\\_income\\\\\n",
       "\\hline\n",
       "\t 가사 및 육아 도우미           &  80.16648                    \\\\\n",
       "\t 간호사                        & 240.68127                    \\\\\n",
       "\t 건설 및 광업 단순 종사원      & 190.12974                    \\\\\n",
       "\t 건설 및 채굴 기계운전원       & 357.97000                    \\\\\n",
       "\t 건설 전기 및 생산 관련 관리자 & 535.80556                    \\\\\n",
       "\t 건설관련 기능 종사자          & 246.63214                    \\\\\n",
       "\\end{tabular}\n"
      ],
      "text/markdown": [
       "\n",
       "| job | mean_income |\n",
       "|---|---|\n",
       "| 가사 및 육아 도우미           |  80.16648                     |\n",
       "| 간호사                        | 240.68127                     |\n",
       "| 건설 및 광업 단순 종사원      | 190.12974                     |\n",
       "| 건설 및 채굴 기계운전원       | 357.97000                     |\n",
       "| 건설 전기 및 생산 관련 관리자 | 535.80556                     |\n",
       "| 건설관련 기능 종사자          | 246.63214                     |\n",
       "\n"
      ],
      "text/plain": [
       "  job                           mean_income\n",
       "1 가사 및 육아 도우미            80.16648  \n",
       "2 간호사                        240.68127  \n",
       "3 건설 및 광업 단순 종사원      190.12974  \n",
       "4 건설 및 채굴 기계운전원       357.97000  \n",
       "5 건설 전기 및 생산 관련 관리자 535.80556  \n",
       "6 건설관련 기능 종사자          246.63214  "
      ]
     },
     "metadata": {},
     "output_type": "display_data"
    }
   ],
   "source": [
    "# 직업별 월급 차이 분석하기\n",
    "# 1. 직업별 월급 평균표 만들기\n",
    "job_income <- welfare %>%\n",
    " filter(!is.na(job) & !is.na(income)) %>%\n",
    " group_by(job) %>%\n",
    " summarise(mean_income = mean(income))\n",
    "head(job_income)"
   ]
  },
  {
   "cell_type": "code",
   "execution_count": 42,
   "metadata": {},
   "outputs": [
    {
     "data": {
      "text/html": [
       "<table>\n",
       "<thead><tr><th scope=col>job</th><th scope=col>mean_income</th></tr></thead>\n",
       "<tbody>\n",
       "\t<tr><td>금속 재료 공학 기술자 및 시험원     </td><td>845.0667                            </td></tr>\n",
       "\t<tr><td>의료진료 전문가                     </td><td>843.6429                            </td></tr>\n",
       "\t<tr><td>의회의원 고위공무원 및 공공단체임원 </td><td>750.0000                            </td></tr>\n",
       "\t<tr><td>보험 및 금융 관리자                 </td><td>726.1800                            </td></tr>\n",
       "\t<tr><td>제관원 및 판금원                    </td><td>572.4067                            </td></tr>\n",
       "\t<tr><td>행정 및 경영지원 관리자             </td><td>563.7633                            </td></tr>\n",
       "\t<tr><td>문화 예술 디자인 및 영상 관련 관리자</td><td>557.4667                            </td></tr>\n",
       "\t<tr><td>연구 교육 및 법률 관련 관리자       </td><td>549.9125                            </td></tr>\n",
       "\t<tr><td>건설 전기 및 생산 관련 관리자       </td><td>535.8056                            </td></tr>\n",
       "\t<tr><td>석유 및 화학물 가공장치 조작원      </td><td>531.6600                            </td></tr>\n",
       "</tbody>\n",
       "</table>\n"
      ],
      "text/latex": [
       "\\begin{tabular}{r|ll}\n",
       " job & mean\\_income\\\\\n",
       "\\hline\n",
       "\t 금속 재료 공학 기술자 및 시험원      & 845.0667                            \\\\\n",
       "\t 의료진료 전문가                      & 843.6429                            \\\\\n",
       "\t 의회의원 고위공무원 및 공공단체임원  & 750.0000                            \\\\\n",
       "\t 보험 및 금융 관리자                  & 726.1800                            \\\\\n",
       "\t 제관원 및 판금원                     & 572.4067                            \\\\\n",
       "\t 행정 및 경영지원 관리자              & 563.7633                            \\\\\n",
       "\t 문화 예술 디자인 및 영상 관련 관리자 & 557.4667                            \\\\\n",
       "\t 연구 교육 및 법률 관련 관리자        & 549.9125                            \\\\\n",
       "\t 건설 전기 및 생산 관련 관리자        & 535.8056                            \\\\\n",
       "\t 석유 및 화학물 가공장치 조작원       & 531.6600                            \\\\\n",
       "\\end{tabular}\n"
      ],
      "text/markdown": [
       "\n",
       "| job | mean_income |\n",
       "|---|---|\n",
       "| 금속 재료 공학 기술자 및 시험원      | 845.0667                             |\n",
       "| 의료진료 전문가                      | 843.6429                             |\n",
       "| 의회의원 고위공무원 및 공공단체임원  | 750.0000                             |\n",
       "| 보험 및 금융 관리자                  | 726.1800                             |\n",
       "| 제관원 및 판금원                     | 572.4067                             |\n",
       "| 행정 및 경영지원 관리자              | 563.7633                             |\n",
       "| 문화 예술 디자인 및 영상 관련 관리자 | 557.4667                             |\n",
       "| 연구 교육 및 법률 관련 관리자        | 549.9125                             |\n",
       "| 건설 전기 및 생산 관련 관리자        | 535.8056                             |\n",
       "| 석유 및 화학물 가공장치 조작원       | 531.6600                             |\n",
       "\n"
      ],
      "text/plain": [
       "   job                                  mean_income\n",
       "1  금속 재료 공학 기술자 및 시험원      845.0667   \n",
       "2  의료진료 전문가                      843.6429   \n",
       "3  의회의원 고위공무원 및 공공단체임원  750.0000   \n",
       "4  보험 및 금융 관리자                  726.1800   \n",
       "5  제관원 및 판금원                     572.4067   \n",
       "6  행정 및 경영지원 관리자              563.7633   \n",
       "7  문화 예술 디자인 및 영상 관련 관리자 557.4667   \n",
       "8  연구 교육 및 법률 관련 관리자        549.9125   \n",
       "9  건설 전기 및 생산 관련 관리자        535.8056   \n",
       "10 석유 및 화학물 가공장치 조작원       531.6600   "
      ]
     },
     "metadata": {},
     "output_type": "display_data"
    }
   ],
   "source": [
    "# 2. 상위 10개 추출\n",
    "top10 <- job_income %>%\n",
    " arrange(desc(mean_income)) %>%\n",
    " head(10)\n",
    "top10"
   ]
  },
  {
   "cell_type": "code",
   "execution_count": 43,
   "metadata": {},
   "outputs": [
    {
     "data": {
      "image/png": "[encoded data removed]",
      "text/plain": [
       "plot without title"
      ]
     },
     "metadata": {},
     "output_type": "display_data"
    }
   ],
   "source": [
    "# 3. 그래프 만들기\n",
    "ggplot(data = top10, aes(x = reorder(job, mean_income), y = mean_income)) +\n",
    " geom_col() +\n",
    " coord_flip()"
   ]
  },
  {
   "cell_type": "code",
   "execution_count": 44,
   "metadata": {},
   "outputs": [
    {
     "data": {
      "text/html": [
       "<table>\n",
       "<thead><tr><th scope=col>job</th><th scope=col>mean_income</th></tr></thead>\n",
       "<tbody>\n",
       "\t<tr><td>가사 및 육아 도우미         </td><td> 80.16648                   </td></tr>\n",
       "\t<tr><td>임업관련 종사자             </td><td> 83.33000                   </td></tr>\n",
       "\t<tr><td>기타 서비스관련 단순 종사원 </td><td> 88.22101                   </td></tr>\n",
       "\t<tr><td>청소원 및 환경 미화원       </td><td> 88.78775                   </td></tr>\n",
       "\t<tr><td>약사 및 한약사              </td><td> 89.00000                   </td></tr>\n",
       "\t<tr><td>작물재배 종사자             </td><td> 92.00000                   </td></tr>\n",
       "\t<tr><td>농립어업관련 단순 종사원    </td><td>101.58125                   </td></tr>\n",
       "\t<tr><td>의료 복지 관련 서비스 종사자</td><td>103.52643                   </td></tr>\n",
       "\t<tr><td>음식관련 단순 종사원        </td><td>107.84511                   </td></tr>\n",
       "\t<tr><td>판매관련 단순 종사원        </td><td>116.82203                   </td></tr>\n",
       "</tbody>\n",
       "</table>\n"
      ],
      "text/latex": [
       "\\begin{tabular}{r|ll}\n",
       " job & mean\\_income\\\\\n",
       "\\hline\n",
       "\t 가사 및 육아 도우미          &  80.16648                   \\\\\n",
       "\t 임업관련 종사자              &  83.33000                   \\\\\n",
       "\t 기타 서비스관련 단순 종사원  &  88.22101                   \\\\\n",
       "\t 청소원 및 환경 미화원        &  88.78775                   \\\\\n",
       "\t 약사 및 한약사               &  89.00000                   \\\\\n",
       "\t 작물재배 종사자              &  92.00000                   \\\\\n",
       "\t 농립어업관련 단순 종사원     & 101.58125                   \\\\\n",
       "\t 의료 복지 관련 서비스 종사자 & 103.52643                   \\\\\n",
       "\t 음식관련 단순 종사원         & 107.84511                   \\\\\n",
       "\t 판매관련 단순 종사원         & 116.82203                   \\\\\n",
       "\\end{tabular}\n"
      ],
      "text/markdown": [
       "\n",
       "| job | mean_income |\n",
       "|---|---|\n",
       "| 가사 및 육아 도우미          |  80.16648                    |\n",
       "| 임업관련 종사자              |  83.33000                    |\n",
       "| 기타 서비스관련 단순 종사원  |  88.22101                    |\n",
       "| 청소원 및 환경 미화원        |  88.78775                    |\n",
       "| 약사 및 한약사               |  89.00000                    |\n",
       "| 작물재배 종사자              |  92.00000                    |\n",
       "| 농립어업관련 단순 종사원     | 101.58125                    |\n",
       "| 의료 복지 관련 서비스 종사자 | 103.52643                    |\n",
       "| 음식관련 단순 종사원         | 107.84511                    |\n",
       "| 판매관련 단순 종사원         | 116.82203                    |\n",
       "\n"
      ],
      "text/plain": [
       "   job                          mean_income\n",
       "1  가사 및 육아 도우미           80.16648  \n",
       "2  임업관련 종사자               83.33000  \n",
       "3  기타 서비스관련 단순 종사원   88.22101  \n",
       "4  청소원 및 환경 미화원         88.78775  \n",
       "5  약사 및 한약사                89.00000  \n",
       "6  작물재배 종사자               92.00000  \n",
       "7  농립어업관련 단순 종사원     101.58125  \n",
       "8  의료 복지 관련 서비스 종사자 103.52643  \n",
       "9  음식관련 단순 종사원         107.84511  \n",
       "10 판매관련 단순 종사원         116.82203  "
      ]
     },
     "metadata": {},
     "output_type": "display_data"
    }
   ],
   "source": [
    "# 4. 하위 10위 추출\n",
    "bottom10 <- job_income %>%\n",
    " arrange(mean_income) %>%\n",
    " head(10)\n",
    "bottom10"
   ]
  },
  {
   "cell_type": "code",
   "execution_count": 45,
   "metadata": {},
   "outputs": [
    {
     "data": {
      "image/png": "[encoded data removed]",
      "text/plain": [
       "plot without title"
      ]
     },
     "metadata": {},
     "output_type": "display_data"
    }
   ],
   "source": [
    "# 5. 그래프 만들기\n",
    "ggplot(data = bottom10, aes(x = reorder(job, -mean_income),\n",
    " y = mean_income)) +\n",
    " geom_col() +\n",
    " coord_flip() +\n",
    " ylim(0, 850)"
   ]
  },
  {
   "cell_type": "markdown",
   "metadata": {},
   "source": [
    "성별 직업 빈도  \n",
    "- \"성별로 어떤 직업이 가장 많을까?\"  \n",
    "분석 절차  \n",
    "1. 변수 검토 및 전처리  \n",
    "• 성별  \n",
    "• 직업  \n",
    "2. 변수 간 관계 분석  \n",
    "• 성별 직업 빈도표 만들기  \n",
    "• 그래프 만들기  "
   ]
  },
  {
   "cell_type": "code",
   "execution_count": 46,
   "metadata": {},
   "outputs": [
    {
     "data": {
      "text/html": [
       "<table>\n",
       "<thead><tr><th scope=col>job</th><th scope=col>n</th></tr></thead>\n",
       "<tbody>\n",
       "\t<tr><td>작물재배 종사자         </td><td>640                     </td></tr>\n",
       "\t<tr><td>자동차 운전원           </td><td>251                     </td></tr>\n",
       "\t<tr><td>경영관련 사무원         </td><td>213                     </td></tr>\n",
       "\t<tr><td>영업 종사자             </td><td>141                     </td></tr>\n",
       "\t<tr><td>매장 판매 종사자        </td><td>132                     </td></tr>\n",
       "\t<tr><td>제조관련 단순 종사원    </td><td>104                     </td></tr>\n",
       "\t<tr><td>청소원 및 환경 미화원   </td><td> 97                     </td></tr>\n",
       "\t<tr><td>건설 및 광업 단순 종사원</td><td> 95                     </td></tr>\n",
       "\t<tr><td>경비원 및 검표원        </td><td> 95                     </td></tr>\n",
       "\t<tr><td>행정 사무원             </td><td> 92                     </td></tr>\n",
       "</tbody>\n",
       "</table>\n"
      ],
      "text/latex": [
       "\\begin{tabular}{r|ll}\n",
       " job & n\\\\\n",
       "\\hline\n",
       "\t 작물재배 종사자          & 640                     \\\\\n",
       "\t 자동차 운전원            & 251                     \\\\\n",
       "\t 경영관련 사무원          & 213                     \\\\\n",
       "\t 영업 종사자              & 141                     \\\\\n",
       "\t 매장 판매 종사자         & 132                     \\\\\n",
       "\t 제조관련 단순 종사원     & 104                     \\\\\n",
       "\t 청소원 및 환경 미화원    &  97                     \\\\\n",
       "\t 건설 및 광업 단순 종사원 &  95                     \\\\\n",
       "\t 경비원 및 검표원         &  95                     \\\\\n",
       "\t 행정 사무원              &  92                     \\\\\n",
       "\\end{tabular}\n"
      ],
      "text/markdown": [
       "\n",
       "| job | n |\n",
       "|---|---|\n",
       "| 작물재배 종사자          | 640                      |\n",
       "| 자동차 운전원            | 251                      |\n",
       "| 경영관련 사무원          | 213                      |\n",
       "| 영업 종사자              | 141                      |\n",
       "| 매장 판매 종사자         | 132                      |\n",
       "| 제조관련 단순 종사원     | 104                      |\n",
       "| 청소원 및 환경 미화원    |  97                      |\n",
       "| 건설 및 광업 단순 종사원 |  95                      |\n",
       "| 경비원 및 검표원         |  95                      |\n",
       "| 행정 사무원              |  92                      |\n",
       "\n"
      ],
      "text/plain": [
       "   job                      n  \n",
       "1  작물재배 종사자          640\n",
       "2  자동차 운전원            251\n",
       "3  경영관련 사무원          213\n",
       "4  영업 종사자              141\n",
       "5  매장 판매 종사자         132\n",
       "6  제조관련 단순 종사원     104\n",
       "7  청소원 및 환경 미화원     97\n",
       "8  건설 및 광업 단순 종사원  95\n",
       "9  경비원 및 검표원          95\n",
       "10 행정 사무원               92"
      ]
     },
     "metadata": {},
     "output_type": "display_data"
    }
   ],
   "source": [
    "# 성별 직업 빈도 분석하기\n",
    "# 1. 성별 직업 빈도표 만들기\n",
    "# 남성 직업 빈도 상위 10 개 추출\n",
    "job_male <- welfare %>%\n",
    " filter(!is.na(job) & sex == \"male\") %>%\n",
    " group_by(job) %>%\n",
    " summarise(n = n()) %>%\n",
    " arrange(desc(n)) %>%\n",
    " head(10)\n",
    "job_male"
   ]
  },
  {
   "cell_type": "code",
   "execution_count": 47,
   "metadata": {},
   "outputs": [
    {
     "data": {
      "text/html": [
       "<table>\n",
       "<thead><tr><th scope=col>job</th><th scope=col>n</th></tr></thead>\n",
       "<tbody>\n",
       "\t<tr><td>작물재배 종사자             </td><td>680                         </td></tr>\n",
       "\t<tr><td>청소원 및 환경 미화원       </td><td>228                         </td></tr>\n",
       "\t<tr><td>매장 판매 종사자            </td><td>221                         </td></tr>\n",
       "\t<tr><td>제조관련 단순 종사원        </td><td>185                         </td></tr>\n",
       "\t<tr><td>회계 및 경리 사무원         </td><td>176                         </td></tr>\n",
       "\t<tr><td>음식서비스 종사자           </td><td>149                         </td></tr>\n",
       "\t<tr><td>주방장 및 조리사            </td><td>126                         </td></tr>\n",
       "\t<tr><td>가사 및 육아 도우미         </td><td>125                         </td></tr>\n",
       "\t<tr><td>의료 복지 관련 서비스 종사자</td><td>121                         </td></tr>\n",
       "\t<tr><td>음식관련 단순 종사원        </td><td>104                         </td></tr>\n",
       "</tbody>\n",
       "</table>\n"
      ],
      "text/latex": [
       "\\begin{tabular}{r|ll}\n",
       " job & n\\\\\n",
       "\\hline\n",
       "\t 작물재배 종사자              & 680                         \\\\\n",
       "\t 청소원 및 환경 미화원        & 228                         \\\\\n",
       "\t 매장 판매 종사자             & 221                         \\\\\n",
       "\t 제조관련 단순 종사원         & 185                         \\\\\n",
       "\t 회계 및 경리 사무원          & 176                         \\\\\n",
       "\t 음식서비스 종사자            & 149                         \\\\\n",
       "\t 주방장 및 조리사             & 126                         \\\\\n",
       "\t 가사 및 육아 도우미          & 125                         \\\\\n",
       "\t 의료 복지 관련 서비스 종사자 & 121                         \\\\\n",
       "\t 음식관련 단순 종사원         & 104                         \\\\\n",
       "\\end{tabular}\n"
      ],
      "text/markdown": [
       "\n",
       "| job | n |\n",
       "|---|---|\n",
       "| 작물재배 종사자              | 680                          |\n",
       "| 청소원 및 환경 미화원        | 228                          |\n",
       "| 매장 판매 종사자             | 221                          |\n",
       "| 제조관련 단순 종사원         | 185                          |\n",
       "| 회계 및 경리 사무원          | 176                          |\n",
       "| 음식서비스 종사자            | 149                          |\n",
       "| 주방장 및 조리사             | 126                          |\n",
       "| 가사 및 육아 도우미          | 125                          |\n",
       "| 의료 복지 관련 서비스 종사자 | 121                          |\n",
       "| 음식관련 단순 종사원         | 104                          |\n",
       "\n"
      ],
      "text/plain": [
       "   job                          n  \n",
       "1  작물재배 종사자              680\n",
       "2  청소원 및 환경 미화원        228\n",
       "3  매장 판매 종사자             221\n",
       "4  제조관련 단순 종사원         185\n",
       "5  회계 및 경리 사무원          176\n",
       "6  음식서비스 종사자            149\n",
       "7  주방장 및 조리사             126\n",
       "8  가사 및 육아 도우미          125\n",
       "9  의료 복지 관련 서비스 종사자 121\n",
       "10 음식관련 단순 종사원         104"
      ]
     },
     "metadata": {},
     "output_type": "display_data"
    }
   ],
   "source": [
    "# 여성 직업 빈도 상위 10 개 추출\n",
    "job_female <- welfare %>%\n",
    " filter(!is.na(job) & sex == \"female\") %>%\n",
    " group_by(job) %>%\n",
    " summarise(n = n()) %>%\n",
    " arrange(desc(n)) %>%\n",
    " head(10)\n",
    "job_female"
   ]
  },
  {
   "cell_type": "code",
   "execution_count": 48,
   "metadata": {},
   "outputs": [
    {
     "data": {
      "image/png": "[encoded data removed]",
      "text/plain": [
       "plot without title"
      ]
     },
     "metadata": {},
     "output_type": "display_data"
    }
   ],
   "source": [
    "# 2. 그래프 만들기\n",
    "# 남성 직업 빈도 상위 10 개 직업\n",
    "ggplot(data = job_male, aes(x = reorder(job, n), y = n)) +\n",
    " geom_col() +\n",
    " coord_flip()"
   ]
  },
  {
   "cell_type": "code",
   "execution_count": 49,
   "metadata": {},
   "outputs": [
    {
     "data": {
      "image/png": "[encoded data removed]",
      "text/plain": [
       "plot without title"
      ]
     },
     "metadata": {},
     "output_type": "display_data"
    }
   ],
   "source": [
    "# 여성 직업 빈도 상위 10 개 직업\n",
    "ggplot(data = job_female, aes(x = reorder(job, n), y = n)) +\n",
    " geom_col() +\n",
    " coord_flip()"
   ]
  },
  {
   "cell_type": "markdown",
   "metadata": {},
   "source": [
    "지역별 연령대 비율  \n",
    "- \"노년층이 많은 지역은 어디일까?\"  \n",
    "분석 절차  \n",
    "1. 변수 검토 및 전처리  \n",
    "• 지역  \n",
    "• 연령대  \n",
    "2. 변수 간 관계 분석  \n",
    "• 지역별 연령대 비율표 만들기  \n",
    "• 그래프 만들기  "
   ]
  },
  {
   "cell_type": "code",
   "execution_count": 50,
   "metadata": {},
   "outputs": [
    {
     "data": {
      "text/html": [
       "'numeric'"
      ],
      "text/latex": [
       "'numeric'"
      ],
      "text/markdown": [
       "'numeric'"
      ],
      "text/plain": [
       "[1] \"numeric\""
      ]
     },
     "metadata": {},
     "output_type": "display_data"
    }
   ],
   "source": [
    "# 지역 변수 검토 및 전처리하기\n",
    "# 1. 변수 검토하기\n",
    "class(welfare$code_region)"
   ]
  },
  {
   "cell_type": "code",
   "execution_count": 51,
   "metadata": {},
   "outputs": [
    {
     "data": {
      "text/plain": [
       "\n",
       "   1    2    3    4    5    6    7 \n",
       "2486 3711 2785 2036 1467 1257 2922 "
      ]
     },
     "metadata": {},
     "output_type": "display_data"
    }
   ],
   "source": [
    "table(welfare$code_region)"
   ]
  },
  {
   "cell_type": "code",
   "execution_count": 52,
   "metadata": {},
   "outputs": [
    {
     "data": {
      "text/html": [
       "<table>\n",
       "<thead><tr><th scope=col>code_region</th><th scope=col>region</th></tr></thead>\n",
       "<tbody>\n",
       "\t<tr><td>1                    </td><td>서울                 </td></tr>\n",
       "\t<tr><td>2                    </td><td>수도권(인천/경기)    </td></tr>\n",
       "\t<tr><td>3                    </td><td>부산/경남/울산       </td></tr>\n",
       "\t<tr><td>4                    </td><td>대구/경북            </td></tr>\n",
       "\t<tr><td>5                    </td><td>대전/충남            </td></tr>\n",
       "\t<tr><td>6                    </td><td>강원/충북            </td></tr>\n",
       "\t<tr><td>7                    </td><td>광주/전남/전북/제주도</td></tr>\n",
       "</tbody>\n",
       "</table>\n"
      ],
      "text/latex": [
       "\\begin{tabular}{r|ll}\n",
       " code\\_region & region\\\\\n",
       "\\hline\n",
       "\t 1                     & 서울                 \\\\\n",
       "\t 2                     & 수도권(인천/경기)    \\\\\n",
       "\t 3                     & 부산/경남/울산       \\\\\n",
       "\t 4                     & 대구/경북            \\\\\n",
       "\t 5                     & 대전/충남            \\\\\n",
       "\t 6                     & 강원/충북            \\\\\n",
       "\t 7                     & 광주/전남/전북/제주도\\\\\n",
       "\\end{tabular}\n"
      ],
      "text/markdown": [
       "\n",
       "| code_region | region |\n",
       "|---|---|\n",
       "| 1                     | 서울                  |\n",
       "| 2                     | 수도권(인천/경기)     |\n",
       "| 3                     | 부산/경남/울산        |\n",
       "| 4                     | 대구/경북             |\n",
       "| 5                     | 대전/충남             |\n",
       "| 6                     | 강원/충북             |\n",
       "| 7                     | 광주/전남/전북/제주도 |\n",
       "\n"
      ],
      "text/plain": [
       "  code_region region               \n",
       "1 1           서울                 \n",
       "2 2           수도권(인천/경기)    \n",
       "3 3           부산/경남/울산       \n",
       "4 4           대구/경북            \n",
       "5 5           대전/충남            \n",
       "6 6           강원/충북            \n",
       "7 7           광주/전남/전북/제주도"
      ]
     },
     "metadata": {},
     "output_type": "display_data"
    }
   ],
   "source": [
    "# 2. 전처리\n",
    "# 지역 코드 목록 만들기\n",
    "list_region <- data.frame(code_region = c(1:7),\n",
    " region = c(\"서울\",\n",
    " \"수도권(인천/경기)\",\n",
    " \"부산/경남/울산\",\n",
    " \"대구/경북\",\n",
    " \"대전/충남\",\n",
    " \"강원/충북\",\n",
    " \"광주/전남/전북/제주도\"))\n",
    "list_region"
   ]
  },
  {
   "cell_type": "code",
   "execution_count": 53,
   "metadata": {},
   "outputs": [
    {
     "name": "stderr",
     "output_type": "stream",
     "text": [
      "Joining, by = \"code_region\"\n"
     ]
    }
   ],
   "source": [
    "# welfare에 지역명 변수 추가\n",
    "welfare <- left_join(welfare, list_region, id = \"code_region\")"
   ]
  },
  {
   "cell_type": "code",
   "execution_count": 54,
   "metadata": {},
   "outputs": [
    {
     "data": {
      "text/html": [
       "<table>\n",
       "<thead><tr><th scope=col>code_region</th><th scope=col>region</th></tr></thead>\n",
       "<tbody>\n",
       "\t<tr><td>1   </td><td>서울</td></tr>\n",
       "\t<tr><td>1   </td><td>서울</td></tr>\n",
       "\t<tr><td>1   </td><td>서울</td></tr>\n",
       "\t<tr><td>1   </td><td>서울</td></tr>\n",
       "\t<tr><td>1   </td><td>서울</td></tr>\n",
       "\t<tr><td>1   </td><td>서울</td></tr>\n",
       "</tbody>\n",
       "</table>\n"
      ],
      "text/latex": [
       "\\begin{tabular}{r|ll}\n",
       " code\\_region & region\\\\\n",
       "\\hline\n",
       "\t 1    & 서울\\\\\n",
       "\t 1    & 서울\\\\\n",
       "\t 1    & 서울\\\\\n",
       "\t 1    & 서울\\\\\n",
       "\t 1    & 서울\\\\\n",
       "\t 1    & 서울\\\\\n",
       "\\end{tabular}\n"
      ],
      "text/markdown": [
       "\n",
       "| code_region | region |\n",
       "|---|---|\n",
       "| 1    | 서울 |\n",
       "| 1    | 서울 |\n",
       "| 1    | 서울 |\n",
       "| 1    | 서울 |\n",
       "| 1    | 서울 |\n",
       "| 1    | 서울 |\n",
       "\n"
      ],
      "text/plain": [
       "  code_region region\n",
       "1 1           서울  \n",
       "2 1           서울  \n",
       "3 1           서울  \n",
       "4 1           서울  \n",
       "5 1           서울  \n",
       "6 1           서울  "
      ]
     },
     "metadata": {},
     "output_type": "display_data"
    }
   ],
   "source": [
    "welfare %>%\n",
    " select(code_region, region) %>%\n",
    " head"
   ]
  },
  {
   "cell_type": "code",
   "execution_count": 55,
   "metadata": {},
   "outputs": [
    {
     "data": {
      "text/html": [
       "<table>\n",
       "<thead><tr><th scope=col>region</th><th scope=col>ageg</th><th scope=col>n</th><th scope=col>tot_group</th><th scope=col>pct</th></tr></thead>\n",
       "<tbody>\n",
       "\t<tr><td>강원/충북            </td><td>middle               </td><td> 417                 </td><td>1257                 </td><td>33.17                </td></tr>\n",
       "\t<tr><td>강원/충북            </td><td>old                  </td><td> 555                 </td><td>1257                 </td><td>44.15                </td></tr>\n",
       "\t<tr><td>강원/충북            </td><td>young                </td><td> 285                 </td><td>1257                 </td><td>22.67                </td></tr>\n",
       "\t<tr><td>광주/전남/전북/제주도</td><td>middle               </td><td> 947                 </td><td>2922                 </td><td>32.41                </td></tr>\n",
       "\t<tr><td>광주/전남/전북/제주도</td><td>old                  </td><td>1233                 </td><td>2922                 </td><td>42.20                </td></tr>\n",
       "\t<tr><td>광주/전남/전북/제주도</td><td>young                </td><td> 742                 </td><td>2922                 </td><td>25.39                </td></tr>\n",
       "</tbody>\n",
       "</table>\n"
      ],
      "text/latex": [
       "\\begin{tabular}{r|lllll}\n",
       " region & ageg & n & tot\\_group & pct\\\\\n",
       "\\hline\n",
       "\t 강원/충북             & middle                &  417                  & 1257                  & 33.17                \\\\\n",
       "\t 강원/충북             & old                   &  555                  & 1257                  & 44.15                \\\\\n",
       "\t 강원/충북             & young                 &  285                  & 1257                  & 22.67                \\\\\n",
       "\t 광주/전남/전북/제주도 & middle                &  947                  & 2922                  & 32.41                \\\\\n",
       "\t 광주/전남/전북/제주도 & old                   & 1233                  & 2922                  & 42.20                \\\\\n",
       "\t 광주/전남/전북/제주도 & young                 &  742                  & 2922                  & 25.39                \\\\\n",
       "\\end{tabular}\n"
      ],
      "text/markdown": [
       "\n",
       "| region | ageg | n | tot_group | pct |\n",
       "|---|---|---|---|---|\n",
       "| 강원/충북             | middle                |  417                  | 1257                  | 33.17                 |\n",
       "| 강원/충북             | old                   |  555                  | 1257                  | 44.15                 |\n",
       "| 강원/충북             | young                 |  285                  | 1257                  | 22.67                 |\n",
       "| 광주/전남/전북/제주도 | middle                |  947                  | 2922                  | 32.41                 |\n",
       "| 광주/전남/전북/제주도 | old                   | 1233                  | 2922                  | 42.20                 |\n",
       "| 광주/전남/전북/제주도 | young                 |  742                  | 2922                  | 25.39                 |\n",
       "\n"
      ],
      "text/plain": [
       "  region                ageg   n    tot_group pct  \n",
       "1 강원/충북             middle  417 1257      33.17\n",
       "2 강원/충북             old     555 1257      44.15\n",
       "3 강원/충북             young   285 1257      22.67\n",
       "4 광주/전남/전북/제주도 middle  947 2922      32.41\n",
       "5 광주/전남/전북/제주도 old    1233 2922      42.20\n",
       "6 광주/전남/전북/제주도 young   742 2922      25.39"
      ]
     },
     "metadata": {},
     "output_type": "display_data"
    }
   ],
   "source": [
    "# 지역별 연령대 비율 분석하기\n",
    "# 1. 지역별 연령대 비율표 만들기\n",
    "region_ageg <- welfare %>%\n",
    " group_by(region, ageg) %>%\n",
    " summarise(n = n()) %>%\n",
    " mutate(tot_group = sum(n)) %>%\n",
    " mutate(pct = round(n/tot_group*100, 2))\n",
    "head(region_ageg)"
   ]
  },
  {
   "cell_type": "code",
   "execution_count": 56,
   "metadata": {},
   "outputs": [],
   "source": [
    "# count() 활용\n",
    "region_ageg <- welfare %>%\n",
    " count(region, ageg) %>%\n",
    " group_by(region) %>%\n",
    " mutate(pct = round(n/sum(n)*100, 2))"
   ]
  },
  {
   "cell_type": "code",
   "execution_count": 57,
   "metadata": {},
   "outputs": [
    {
     "data": {
      "image/png": "[encoded data removed]",
      "text/plain": [
       "plot without title"
      ]
     },
     "metadata": {},
     "output_type": "display_data"
    }
   ],
   "source": [
    "ggplot(data = region_ageg, aes(x = region, y = pct, fill = ageg)) +\n",
    " geom_col() +\n",
    " coord_flip()"
   ]
  },
  {
   "cell_type": "code",
   "execution_count": null,
   "metadata": {},
   "outputs": [],
   "source": []
  }
 ],
 "metadata": {
  "kernelspec": {
   "display_name": "R",
   "language": "R",
   "name": "ir"
  },
  "language_info": {
   "codemirror_mode": "r",
   "file_extension": ".r",
   "mimetype": "text/x-r-source",
   "name": "R",
   "pygments_lexer": "r",
   "version": "3.6.1"
  }
 },
 "nbformat": 4,
 "nbformat_minor": 4
}
