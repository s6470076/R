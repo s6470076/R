{
 "cells": [
  {
   "cell_type": "markdown",
   "metadata": {},
   "source": [
    "# 데이터 분석을 위한 연장 챙기기"
   ]
  },
  {
   "cell_type": "markdown",
   "metadata": {},
   "source": [
    "## 3-1. 변하는 수, '변수' 이해하기"
   ]
  },
  {
   "cell_type": "markdown",
   "metadata": {},
   "source": [
    "### 변수로 연산하기"
   ]
  },
  {
   "cell_type": "code",
   "execution_count": 2,
   "metadata": {},
   "outputs": [
    {
     "data": {
      "text/html": [
       "1"
      ],
      "text/latex": [
       "1"
      ],
      "text/markdown": [
       "1"
      ],
      "text/plain": [
       "[1] 1"
      ]
     },
     "metadata": {},
     "output_type": "display_data"
    }
   ],
   "source": [
    "a <- 1\n",
    "a"
   ]
  },
  {
   "cell_type": "code",
   "execution_count": 3,
   "metadata": {},
   "outputs": [
    {
     "data": {
      "text/html": [
       "2"
      ],
      "text/latex": [
       "2"
      ],
      "text/markdown": [
       "2"
      ],
      "text/plain": [
       "[1] 2"
      ]
     },
     "metadata": {},
     "output_type": "display_data"
    }
   ],
   "source": [
    "b <- 2\n",
    "b"
   ]
  },
  {
   "cell_type": "code",
   "execution_count": 1,
   "metadata": {},
   "outputs": [
    {
     "data": {
      "text/html": [
       "3"
      ],
      "text/latex": [
       "3"
      ],
      "text/markdown": [
       "3"
      ],
      "text/plain": [
       "[1] 3"
      ]
     },
     "metadata": {},
     "output_type": "display_data"
    }
   ],
   "source": [
    "c<-3\n",
    "c"
   ]
  },
  {
   "cell_type": "code",
   "execution_count": 2,
   "metadata": {},
   "outputs": [
    {
     "data": {
      "text/html": [
       "3.5"
      ],
      "text/latex": [
       "3.5"
      ],
      "text/markdown": [
       "3.5"
      ],
      "text/plain": [
       "[1] 3.5"
      ]
     },
     "metadata": {},
     "output_type": "display_data"
    }
   ],
   "source": [
    "d<-3.5\n",
    "d"
   ]
  },
  {
   "cell_type": "markdown",
   "metadata": {},
   "source": [
    "### 여러 값으로 구성된 변수 만들기"
   ]
  },
  {
   "cell_type": "code",
   "execution_count": 2,
   "metadata": {},
   "outputs": [
    {
     "data": {
      "text/html": [
       "<ol class=list-inline>\n",
       "\t<li>1</li>\n",
       "\t<li>2</li>\n",
       "\t<li>3</li>\n",
       "\t<li>4</li>\n",
       "\t<li>5</li>\n",
       "</ol>\n"
      ],
      "text/latex": [
       "\\begin{enumerate*}\n",
       "\\item 1\n",
       "\\item 2\n",
       "\\item 3\n",
       "\\item 4\n",
       "\\item 5\n",
       "\\end{enumerate*}\n"
      ],
      "text/markdown": [
       "1. 1\n",
       "2. 2\n",
       "3. 3\n",
       "4. 4\n",
       "5. 5\n",
       "\n",
       "\n"
      ],
      "text/plain": [
       "[1] 1 2 3 4 5"
      ]
     },
     "metadata": {},
     "output_type": "display_data"
    }
   ],
   "source": [
    "var1<-c(1,2,3,4,5) \n",
    "var1"
   ]
  },
  {
   "cell_type": "markdown",
   "metadata": {},
   "source": []
  },
  {
   "cell_type": "code",
   "execution_count": 13,
   "metadata": {},
   "outputs": [
    {
     "data": {
      "text/html": [
       "<ol class=list-inline>\n",
       "\t<li>1</li>\n",
       "\t<li>2</li>\n",
       "\t<li>3</li>\n",
       "\t<li>4</li>\n",
       "\t<li>5</li>\n",
       "</ol>\n"
      ],
      "text/latex": [
       "\\begin{enumerate*}\n",
       "\\item 1\n",
       "\\item 2\n",
       "\\item 3\n",
       "\\item 4\n",
       "\\item 5\n",
       "\\end{enumerate*}\n"
      ],
      "text/markdown": [
       "1. 1\n",
       "2. 2\n",
       "3. 3\n",
       "4. 4\n",
       "5. 5\n",
       "\n",
       "\n"
      ],
      "text/plain": [
       "[1] 1 2 3 4 5"
      ]
     },
     "metadata": {},
     "output_type": "display_data"
    }
   ],
   "source": [
    "var2<-c(1:5) # 1~5까지 연속값으로 var2 생성\n",
    "var2"
   ]
  },
  {
   "cell_type": "markdown",
   "metadata": {},
   "source": [
    "### seq()"
   ]
  },
  {
   "cell_type": "code",
   "execution_count": 4,
   "metadata": {},
   "outputs": [
    {
     "data": {
      "text/html": [
       "<ol class=list-inline>\n",
       "\t<li>1</li>\n",
       "\t<li>2</li>\n",
       "\t<li>3</li>\n",
       "\t<li>4</li>\n",
       "\t<li>5</li>\n",
       "</ol>\n"
      ],
      "text/latex": [
       "\\begin{enumerate*}\n",
       "\\item 1\n",
       "\\item 2\n",
       "\\item 3\n",
       "\\item 4\n",
       "\\item 5\n",
       "\\end{enumerate*}\n"
      ],
      "text/markdown": [
       "1. 1\n",
       "2. 2\n",
       "3. 3\n",
       "4. 4\n",
       "5. 5\n",
       "\n",
       "\n"
      ],
      "text/plain": [
       "[1] 1 2 3 4 5"
      ]
     },
     "metadata": {},
     "output_type": "display_data"
    }
   ],
   "source": [
    "var3<-seq(1,5)  # 1~5까지의 연속값으로 var3 생성\n",
    "var3"
   ]
  },
  {
   "cell_type": "code",
   "execution_count": 5,
   "metadata": {},
   "outputs": [
    {
     "data": {
      "text/html": [
       "<ol class=list-inline>\n",
       "\t<li>1</li>\n",
       "\t<li>3</li>\n",
       "\t<li>5</li>\n",
       "\t<li>7</li>\n",
       "\t<li>9</li>\n",
       "</ol>\n"
      ],
      "text/latex": [
       "\\begin{enumerate*}\n",
       "\\item 1\n",
       "\\item 3\n",
       "\\item 5\n",
       "\\item 7\n",
       "\\item 9\n",
       "\\end{enumerate*}\n"
      ],
      "text/markdown": [
       "1. 1\n",
       "2. 3\n",
       "3. 5\n",
       "4. 7\n",
       "5. 9\n",
       "\n",
       "\n"
      ],
      "text/plain": [
       "[1] 1 3 5 7 9"
      ]
     },
     "metadata": {},
     "output_type": "display_data"
    }
   ],
   "source": [
    "var4<-seq(1,10, by=2) #1~10까지 2 간격 연속값으로 var4 생성\n",
    "var4"
   ]
  },
  {
   "cell_type": "markdown",
   "metadata": {},
   "source": [
    "### 연속값 변수로 연산하기"
   ]
  },
  {
   "cell_type": "code",
   "execution_count": 6,
   "metadata": {},
   "outputs": [
    {
     "data": {
      "text/html": [
       "<ol class=list-inline>\n",
       "\t<li>3</li>\n",
       "\t<li>4</li>\n",
       "\t<li>5</li>\n",
       "\t<li>6</li>\n",
       "\t<li>7</li>\n",
       "</ol>\n"
      ],
      "text/latex": [
       "\\begin{enumerate*}\n",
       "\\item 3\n",
       "\\item 4\n",
       "\\item 5\n",
       "\\item 6\n",
       "\\item 7\n",
       "\\end{enumerate*}\n"
      ],
      "text/markdown": [
       "1. 3\n",
       "2. 4\n",
       "3. 5\n",
       "4. 6\n",
       "5. 7\n",
       "\n",
       "\n"
      ],
      "text/plain": [
       "[1] 3 4 5 6 7"
      ]
     },
     "metadata": {},
     "output_type": "display_data"
    }
   ],
   "source": [
    "var1+2"
   ]
  },
  {
   "cell_type": "code",
   "execution_count": 7,
   "metadata": {},
   "outputs": [
    {
     "data": {
      "text/html": [
       "<ol class=list-inline>\n",
       "\t<li>1</li>\n",
       "\t<li>2</li>\n",
       "\t<li>3</li>\n",
       "\t<li>4</li>\n",
       "\t<li>5</li>\n",
       "</ol>\n"
      ],
      "text/latex": [
       "\\begin{enumerate*}\n",
       "\\item 1\n",
       "\\item 2\n",
       "\\item 3\n",
       "\\item 4\n",
       "\\item 5\n",
       "\\end{enumerate*}\n"
      ],
      "text/markdown": [
       "1. 1\n",
       "2. 2\n",
       "3. 3\n",
       "4. 4\n",
       "5. 5\n",
       "\n",
       "\n"
      ],
      "text/plain": [
       "[1] 1 2 3 4 5"
      ]
     },
     "metadata": {},
     "output_type": "display_data"
    }
   ],
   "source": [
    "var1"
   ]
  },
  {
   "cell_type": "code",
   "execution_count": 14,
   "metadata": {},
   "outputs": [
    {
     "data": {
      "text/html": [
       "<ol class=list-inline>\n",
       "\t<li>1</li>\n",
       "\t<li>2</li>\n",
       "\t<li>3</li>\n",
       "\t<li>4</li>\n",
       "\t<li>5</li>\n",
       "</ol>\n"
      ],
      "text/latex": [
       "\\begin{enumerate*}\n",
       "\\item 1\n",
       "\\item 2\n",
       "\\item 3\n",
       "\\item 4\n",
       "\\item 5\n",
       "\\end{enumerate*}\n"
      ],
      "text/markdown": [
       "1. 1\n",
       "2. 2\n",
       "3. 3\n",
       "4. 4\n",
       "5. 5\n",
       "\n",
       "\n"
      ],
      "text/plain": [
       "[1] 1 2 3 4 5"
      ]
     },
     "metadata": {},
     "output_type": "display_data"
    }
   ],
   "source": [
    "var2"
   ]
  },
  {
   "cell_type": "code",
   "execution_count": 16,
   "metadata": {},
   "outputs": [
    {
     "data": {
      "text/html": [
       "<ol class=list-inline>\n",
       "\t<li>2</li>\n",
       "\t<li>4</li>\n",
       "\t<li>6</li>\n",
       "\t<li>8</li>\n",
       "\t<li>10</li>\n",
       "</ol>\n"
      ],
      "text/latex": [
       "\\begin{enumerate*}\n",
       "\\item 2\n",
       "\\item 4\n",
       "\\item 6\n",
       "\\item 8\n",
       "\\item 10\n",
       "\\end{enumerate*}\n"
      ],
      "text/markdown": [
       "1. 2\n",
       "2. 4\n",
       "3. 6\n",
       "4. 8\n",
       "5. 10\n",
       "\n",
       "\n"
      ],
      "text/plain": [
       "[1]  2  4  6  8 10"
      ]
     },
     "metadata": {},
     "output_type": "display_data"
    }
   ],
   "source": [
    "var1+var2\n",
    "# 두 변수의 데이터의 갯수가 같아야 한다"
   ]
  },
  {
   "cell_type": "markdown",
   "metadata": {},
   "source": [
    "### 문자로 된 변수 만들기"
   ]
  },
  {
   "cell_type": "code",
   "execution_count": 18,
   "metadata": {},
   "outputs": [
    {
     "data": {
      "text/html": [
       "'a'"
      ],
      "text/latex": [
       "'a'"
      ],
      "text/markdown": [
       "'a'"
      ],
      "text/plain": [
       "[1] \"a\""
      ]
     },
     "metadata": {},
     "output_type": "display_data"
    }
   ],
   "source": [
    "str1<-\"a\"\n",
    "str1"
   ]
  },
  {
   "cell_type": "code",
   "execution_count": 19,
   "metadata": {},
   "outputs": [
    {
     "data": {
      "text/html": [
       "'text'"
      ],
      "text/latex": [
       "'text'"
      ],
      "text/markdown": [
       "'text'"
      ],
      "text/plain": [
       "[1] \"text\""
      ]
     },
     "metadata": {},
     "output_type": "display_data"
    }
   ],
   "source": [
    "str2<-\"text\"\n",
    "str2"
   ]
  },
  {
   "cell_type": "markdown",
   "metadata": {},
   "source": [
    "### 연속 문자 변수 만들기"
   ]
  },
  {
   "cell_type": "code",
   "execution_count": 20,
   "metadata": {},
   "outputs": [
    {
     "data": {
      "text/html": [
       "<ol class=list-inline>\n",
       "\t<li>'a'</li>\n",
       "\t<li>'b'</li>\n",
       "\t<li>'c'</li>\n",
       "</ol>\n"
      ],
      "text/latex": [
       "\\begin{enumerate*}\n",
       "\\item 'a'\n",
       "\\item 'b'\n",
       "\\item 'c'\n",
       "\\end{enumerate*}\n"
      ],
      "text/markdown": [
       "1. 'a'\n",
       "2. 'b'\n",
       "3. 'c'\n",
       "\n",
       "\n"
      ],
      "text/plain": [
       "[1] \"a\" \"b\" \"c\""
      ]
     },
     "metadata": {},
     "output_type": "display_data"
    }
   ],
   "source": [
    "str3<-c('a','b','c')\n",
    "str3"
   ]
  },
  {
   "cell_type": "code",
   "execution_count": 21,
   "metadata": {},
   "outputs": [
    {
     "data": {
      "text/html": [
       "<ol class=list-inline>\n",
       "\t<li>'Hello!'</li>\n",
       "\t<li>'World'</li>\n",
       "\t<li>'is'</li>\n",
       "\t<li>'good!'</li>\n",
       "</ol>\n"
      ],
      "text/latex": [
       "\\begin{enumerate*}\n",
       "\\item 'Hello!'\n",
       "\\item 'World'\n",
       "\\item 'is'\n",
       "\\item 'good!'\n",
       "\\end{enumerate*}\n"
      ],
      "text/markdown": [
       "1. 'Hello!'\n",
       "2. 'World'\n",
       "3. 'is'\n",
       "4. 'good!'\n",
       "\n",
       "\n"
      ],
      "text/plain": [
       "[1] \"Hello!\" \"World\"  \"is\"     \"good!\" "
      ]
     },
     "metadata": {},
     "output_type": "display_data"
    }
   ],
   "source": [
    "str5 <- c(\"Hello!\", \"World\", \"is\", \"good!\") \n",
    "str5"
   ]
  },
  {
   "cell_type": "markdown",
   "metadata": {},
   "source": [
    "### 문자로 된 변수로는 연산할 수 없다"
   ]
  },
  {
   "cell_type": "code",
   "execution_count": 22,
   "metadata": {},
   "outputs": [
    {
     "ename": "ERROR",
     "evalue": "Error in str1 + 2: 이항연산자에 수치가 아닌 인수입니다\n",
     "output_type": "error",
     "traceback": [
      "Error in str1 + 2: 이항연산자에 수치가 아닌 인수입니다\nTraceback:\n"
     ]
    }
   ],
   "source": [
    "str1+2"
   ]
  },
  {
   "cell_type": "markdown",
   "metadata": {},
   "source": [
    "## 3-2. 마술 상자 같은 '함수' 이해하기 \n",
    "함수 \n",
    "- 값을 넣으면 특정한 기능을 수행해 처음과 다른 값이 출력됨 "
   ]
  },
  {
   "cell_type": "markdown",
   "metadata": {},
   "source": [
    "### 숫자를 다루는 함수 이용하기"
   ]
  },
  {
   "cell_type": "code",
   "execution_count": 23,
   "metadata": {},
   "outputs": [
    {
     "data": {
      "text/html": [
       "<ol class=list-inline>\n",
       "\t<li>1</li>\n",
       "\t<li>2</li>\n",
       "\t<li>3</li>\n",
       "</ol>\n"
      ],
      "text/latex": [
       "\\begin{enumerate*}\n",
       "\\item 1\n",
       "\\item 2\n",
       "\\item 3\n",
       "\\end{enumerate*}\n"
      ],
      "text/markdown": [
       "1. 1\n",
       "2. 2\n",
       "3. 3\n",
       "\n",
       "\n"
      ],
      "text/plain": [
       "[1] 1 2 3"
      ]
     },
     "metadata": {},
     "output_type": "display_data"
    }
   ],
   "source": [
    "# 변수 만들기\n",
    "x <- c(1, 2, 3) \n",
    "x "
   ]
  },
  {
   "cell_type": "code",
   "execution_count": 24,
   "metadata": {},
   "outputs": [
    {
     "data": {
      "text/html": [
       "2"
      ],
      "text/latex": [
       "2"
      ],
      "text/markdown": [
       "2"
      ],
      "text/plain": [
       "[1] 2"
      ]
     },
     "metadata": {},
     "output_type": "display_data"
    }
   ],
   "source": [
    "mean(x)"
   ]
  },
  {
   "cell_type": "code",
   "execution_count": 25,
   "metadata": {},
   "outputs": [
    {
     "data": {
      "text/html": [
       "3"
      ],
      "text/latex": [
       "3"
      ],
      "text/markdown": [
       "3"
      ],
      "text/plain": [
       "[1] 3"
      ]
     },
     "metadata": {},
     "output_type": "display_data"
    }
   ],
   "source": [
    "max(x)"
   ]
  },
  {
   "cell_type": "code",
   "execution_count": 26,
   "metadata": {},
   "outputs": [
    {
     "data": {
      "text/html": [
       "1"
      ],
      "text/latex": [
       "1"
      ],
      "text/markdown": [
       "1"
      ],
      "text/plain": [
       "[1] 1"
      ]
     },
     "metadata": {},
     "output_type": "display_data"
    }
   ],
   "source": [
    "min(x)"
   ]
  },
  {
   "cell_type": "markdown",
   "metadata": {},
   "source": [
    "### 문자를 다루는 함수 이용하기"
   ]
  },
  {
   "cell_type": "code",
   "execution_count": 28,
   "metadata": {},
   "outputs": [
    {
     "data": {
      "text/html": [
       "'Hello!,World,is,good!'"
      ],
      "text/latex": [
       "'Hello!,World,is,good!'"
      ],
      "text/markdown": [
       "'Hello!,World,is,good!'"
      ],
      "text/plain": [
       "[1] \"Hello!,World,is,good!\""
      ]
     },
     "metadata": {},
     "output_type": "display_data"
    }
   ],
   "source": [
    "paste(str5,collapse=\",\")# 쉼표를 구분자로 str4 의 단어들 하나로 합치기"
   ]
  },
  {
   "cell_type": "markdown",
   "metadata": {},
   "source": [
    "### 함수의 옵션 설정하기 - 파라미터"
   ]
  },
  {
   "cell_type": "code",
   "execution_count": 30,
   "metadata": {},
   "outputs": [
    {
     "data": {
      "text/html": [
       "<span style=white-space:pre-wrap>'Hello!  World  is  good!'</span>"
      ],
      "text/latex": [
       "'Hello!  World  is  good!'"
      ],
      "text/markdown": [
       "<span style=white-space:pre-wrap>'Hello!  World  is  good!'</span>"
      ],
      "text/plain": [
       "[1] \"Hello!  World  is  good!\""
      ]
     },
     "metadata": {},
     "output_type": "display_data"
    }
   ],
   "source": [
    "paste(str5,collapse='  ')"
   ]
  },
  {
   "cell_type": "markdown",
   "metadata": {},
   "source": [
    "### 함수의 결과물로 새 변수 만들기 "
   ]
  },
  {
   "cell_type": "code",
   "execution_count": 31,
   "metadata": {},
   "outputs": [
    {
     "data": {
      "text/html": [
       "2"
      ],
      "text/latex": [
       "2"
      ],
      "text/markdown": [
       "2"
      ],
      "text/plain": [
       "[1] 2"
      ]
     },
     "metadata": {},
     "output_type": "display_data"
    }
   ],
   "source": [
    "x_mean <- mean(x) \n",
    "x_mean"
   ]
  },
  {
   "cell_type": "code",
   "execution_count": 32,
   "metadata": {},
   "outputs": [
    {
     "data": {
      "text/html": [
       "'Hello! World is good!'"
      ],
      "text/latex": [
       "'Hello! World is good!'"
      ],
      "text/markdown": [
       "'Hello! World is good!'"
      ],
      "text/plain": [
       "[1] \"Hello! World is good!\""
      ]
     },
     "metadata": {},
     "output_type": "display_data"
    }
   ],
   "source": [
    "str5_paste <- paste(str5, collapse = \" \") \n",
    "str5_paste"
   ]
  },
  {
   "cell_type": "markdown",
   "metadata": {},
   "source": [
    "## 3-3. 함수 꾸러미, '패키지' 이해하기 \n",
    "패키지(packages) \n",
    "- 함수가 여러 개 들어 있는 꾸러미 \n",
    "- 하나의 패키지 안에 다양한 함수가 들어있음 \n",
    "- 함수를 사용하려면 패키지 설치 먼저 해야함"
   ]
  },
  {
   "cell_type": "markdown",
   "metadata": {},
   "source": [
    "### ggplot2 패키지 설치하기, 로드하기 "
   ]
  },
  {
   "cell_type": "code",
   "execution_count": 36,
   "metadata": {},
   "outputs": [
    {
     "name": "stderr",
     "output_type": "stream",
     "text": [
      "Installing package into 'C:/Users/admin/Documents/R/win-library/3.6'\n",
      "(as 'lib' is unspecified)\n"
     ]
    },
    {
     "name": "stdout",
     "output_type": "stream",
     "text": [
      "package 'ggplot2' successfully unpacked and MD5 sums checked\n",
      "\n",
      "The downloaded binary packages are in\n",
      "\tC:\\Users\\admin\\AppData\\Local\\Temp\\RtmpSEn3L5\\downloaded_packages\n"
     ]
    }
   ],
   "source": [
    "install.packages(\"ggplot2\") # ggplot2 설치\n"
   ]
  },
  {
   "cell_type": "code",
   "execution_count": 37,
   "metadata": {},
   "outputs": [
    {
     "name": "stderr",
     "output_type": "stream",
     "text": [
      "Warning message:\n",
      "\"package 'ggplot2' was built under R version 3.6.3\""
     ]
    }
   ],
   "source": [
    "library(ggplot2) # ggplot2 로드"
   ]
  },
  {
   "cell_type": "markdown",
   "metadata": {},
   "source": [
    "### 함수 사용하기"
   ]
  },
  {
   "cell_type": "code",
   "execution_count": 34,
   "metadata": {},
   "outputs": [
    {
     "data": {
      "text/html": [
       "<ol class=list-inline>\n",
       "\t<li>'a'</li>\n",
       "\t<li>'a'</li>\n",
       "\t<li>'b'</li>\n",
       "\t<li>'c'</li>\n",
       "</ol>\n"
      ],
      "text/latex": [
       "\\begin{enumerate*}\n",
       "\\item 'a'\n",
       "\\item 'a'\n",
       "\\item 'b'\n",
       "\\item 'c'\n",
       "\\end{enumerate*}\n"
      ],
      "text/markdown": [
       "1. 'a'\n",
       "2. 'a'\n",
       "3. 'b'\n",
       "4. 'c'\n",
       "\n",
       "\n"
      ],
      "text/plain": [
       "[1] \"a\" \"a\" \"b\" \"c\""
      ]
     },
     "metadata": {},
     "output_type": "display_data"
    }
   ],
   "source": [
    "# 여러 문자로 구성된 변수 생성\n",
    "x <- c(\"a\", \"a\", \"b\", \"c\") \n",
    "x"
   ]
  },
  {
   "cell_type": "code",
   "execution_count": 38,
   "metadata": {},
   "outputs": [
    {
     "data": {
      "image/png": "[encoded data removed]",
      "text/plain": [
       "plot without title"
      ]
     },
     "metadata": {},
     "output_type": "display_data"
    }
   ],
   "source": [
    "qplot(x)"
   ]
  },
  {
   "cell_type": "markdown",
   "metadata": {},
   "source": [
    "### ggplot2의 mpg 데이터로 그래프 만들기"
   ]
  },
  {
   "cell_type": "code",
   "execution_count": 39,
   "metadata": {},
   "outputs": [
    {
     "name": "stderr",
     "output_type": "stream",
     "text": [
      "`stat_bin()` using `bins = 30`. Pick better value with `binwidth`.\n"
     ]
    },
    {
     "data": {
      "image/png": "[encoded data removed]",
      "text/plain": [
       "plot without title"
      ]
     },
     "metadata": {},
     "output_type": "display_data"
    }
   ],
   "source": [
    "#data 에 mpg, x 축에 hwy 변수 지정하여 그래프 생성\n",
    "qplot(data=mpg,x=hwy)"
   ]
  },
  {
   "cell_type": "markdown",
   "metadata": {},
   "source": [
    "### qplot()파라미터 바꿔보기"
   ]
  },
  {
   "cell_type": "code",
   "execution_count": 40,
   "metadata": {},
   "outputs": [
    {
     "name": "stderr",
     "output_type": "stream",
     "text": [
      "`stat_bin()` using `bins = 30`. Pick better value with `binwidth`.\n"
     ]
    },
    {
     "data": {
      "image/png": "[encoded data removed]",
      "text/plain": [
       "plot without title"
      ]
     },
     "metadata": {},
     "output_type": "display_data"
    }
   ],
   "source": [
    "# x축 cty\n",
    "qplot(data=mpg,x=cty)"
   ]
  },
  {
   "cell_type": "code",
   "execution_count": 42,
   "metadata": {},
   "outputs": [
    {
     "data": {
      "image/png": "[encoded data removed]",
      "text/plain": [
       "plot without title"
      ]
     },
     "metadata": {},
     "output_type": "display_data"
    }
   ],
   "source": [
    "# x 축 drv, y 축 hwy\n",
    "qplot(data=mpg,x=drv,y=hwy)"
   ]
  },
  {
   "cell_type": "code",
   "execution_count": 44,
   "metadata": {},
   "outputs": [
    {
     "data": {
      "image/png": "[encoded data removed]",
      "text/plain": [
       "plot without title"
      ]
     },
     "metadata": {},
     "output_type": "display_data"
    }
   ],
   "source": [
    "# x 축 drv, y 축 hwy, 선 그래프 형태\n",
    "qplot(data=mpg,x=drv,y=hwy,geom='line')\n",
    "# geom='line'선으로 그래프가 나온다"
   ]
  },
  {
   "cell_type": "code",
   "execution_count": 46,
   "metadata": {},
   "outputs": [
    {
     "data": {
      "image/png": "[encoded data removed]",
      "text/plain": [
       "plot without title"
      ]
     },
     "metadata": {},
     "output_type": "display_data"
    }
   ],
   "source": [
    "# x 축 drv, y 축 hwy, 상자 그림 형태\n",
    "qplot(data=mpg,x=drv,y=hwy,geom=\"boxplot\")"
   ]
  },
  {
   "cell_type": "code",
   "execution_count": 47,
   "metadata": {},
   "outputs": [
    {
     "data": {
      "image/png": "[encoded data removed]",
      "text/plain": [
       "plot without title"
      ]
     },
     "metadata": {},
     "output_type": "display_data"
    }
   ],
   "source": [
    "# x 축 drv, y 축 hwy, 상자 그림 형태 , drv 별 색 표현\n",
    "qplot(data=mpg,x=drv,y=hwy,geom=\"boxplot\",color=drv)"
   ]
  },
  {
   "cell_type": "markdown",
   "metadata": {},
   "source": [
    "### 함수의 기능이 궁금할 땐 Help 함수를 활용해 보세요"
   ]
  },
  {
   "cell_type": "code",
   "execution_count": 48,
   "metadata": {},
   "outputs": [],
   "source": [
    "?qplot"
   ]
  },
  {
   "cell_type": "markdown",
   "metadata": {},
   "source": [
    "### 혼자서 해보기\n",
    "- Q1. 시험 점수 변수 만들고 출력하기 \n",
    "다섯 명의 학생이 시험을 봤습니다. 학생 다섯 명의 시험 점수를 담고 있는 변수를 만들어 출력해 보세요. 각 학생의 시험 점수는 다음과 같습니다. 80, 60, 70, 50, 90 \n",
    "- Q2. 전체 평균 구하기 \n",
    "앞 문제에서 만든 변수를 이용해서 이 학생들의 전체 평균 점수를 구해보세요. \n",
    "- Q3. 전체 평균 변수 만들고 출력하기 \n",
    "전체 평균 점수를 담고 있는 새 변수를 만들어 출력해 보세요. 앞 문제를 풀 때 사용한 코드를 응용하면 됩니다."
   ]
  },
  {
   "cell_type": "code",
   "execution_count": 50,
   "metadata": {},
   "outputs": [
    {
     "data": {
      "text/html": [
       "<ol class=list-inline>\n",
       "\t<li>80</li>\n",
       "\t<li>60</li>\n",
       "\t<li>70</li>\n",
       "\t<li>50</li>\n",
       "\t<li>90</li>\n",
       "</ol>\n"
      ],
      "text/latex": [
       "\\begin{enumerate*}\n",
       "\\item 80\n",
       "\\item 60\n",
       "\\item 70\n",
       "\\item 50\n",
       "\\item 90\n",
       "\\end{enumerate*}\n"
      ],
      "text/markdown": [
       "1. 80\n",
       "2. 60\n",
       "3. 70\n",
       "4. 50\n",
       "5. 90\n",
       "\n",
       "\n"
      ],
      "text/plain": [
       "[1] 80 60 70 50 90"
      ]
     },
     "metadata": {},
     "output_type": "display_data"
    }
   ],
   "source": [
    "# Q1\n",
    "exam<-c(80, 60, 70, 50, 90)\n",
    "exam"
   ]
  },
  {
   "cell_type": "code",
   "execution_count": 51,
   "metadata": {},
   "outputs": [
    {
     "data": {
      "text/html": [
       "70"
      ],
      "text/latex": [
       "70"
      ],
      "text/markdown": [
       "70"
      ],
      "text/plain": [
       "[1] 70"
      ]
     },
     "metadata": {},
     "output_type": "display_data"
    }
   ],
   "source": [
    "# Q2\n",
    "mean(exam)"
   ]
  },
  {
   "cell_type": "code",
   "execution_count": 52,
   "metadata": {},
   "outputs": [
    {
     "data": {
      "text/html": [
       "70"
      ],
      "text/latex": [
       "70"
      ],
      "text/markdown": [
       "70"
      ],
      "text/plain": [
       "[1] 70"
      ]
     },
     "metadata": {},
     "output_type": "display_data"
    }
   ],
   "source": [
    "# Q3\n",
    "exam_mean<-mean(exam)\n",
    "exam_mean"
   ]
  },
  {
   "cell_type": "markdown",
   "metadata": {},
   "source": [
    "# 4. 데이터 프레임의 세계로!"
   ]
  },
  {
   "cell_type": "markdown",
   "metadata": {},
   "source": [
    "## 4-2.데이터 프레임 만들기\n",
    "- 시험 성적 데이터 만들기"
   ]
  },
  {
   "cell_type": "code",
   "execution_count": 10,
   "metadata": {},
   "outputs": [
    {
     "data": {
      "text/html": [
       "<ol class=list-inline>\n",
       "\t<li>90</li>\n",
       "\t<li>80</li>\n",
       "\t<li>60</li>\n",
       "\t<li>70</li>\n",
       "</ol>\n"
      ],
      "text/latex": [
       "\\begin{enumerate*}\n",
       "\\item 90\n",
       "\\item 80\n",
       "\\item 60\n",
       "\\item 70\n",
       "\\end{enumerate*}\n"
      ],
      "text/markdown": [
       "1. 90\n",
       "2. 80\n",
       "3. 60\n",
       "4. 70\n",
       "\n",
       "\n"
      ],
      "text/plain": [
       "[1] 90 80 60 70"
      ]
     },
     "metadata": {},
     "output_type": "display_data"
    }
   ],
   "source": [
    "#영어 점수\n",
    "english<-c(90,80,60,70)\n",
    "english"
   ]
  },
  {
   "cell_type": "code",
   "execution_count": 11,
   "metadata": {},
   "outputs": [
    {
     "data": {
      "text/html": [
       "<ol class=list-inline>\n",
       "\t<li>50</li>\n",
       "\t<li>60</li>\n",
       "\t<li>100</li>\n",
       "\t<li>20</li>\n",
       "</ol>\n"
      ],
      "text/latex": [
       "\\begin{enumerate*}\n",
       "\\item 50\n",
       "\\item 60\n",
       "\\item 100\n",
       "\\item 20\n",
       "\\end{enumerate*}\n"
      ],
      "text/markdown": [
       "1. 50\n",
       "2. 60\n",
       "3. 100\n",
       "4. 20\n",
       "\n",
       "\n"
      ],
      "text/plain": [
       "[1]  50  60 100  20"
      ]
     },
     "metadata": {},
     "output_type": "display_data"
    }
   ],
   "source": [
    "#수학 점수\n",
    "math<-c(50,60,100,20)\n",
    "math"
   ]
  },
  {
   "cell_type": "code",
   "execution_count": 13,
   "metadata": {},
   "outputs": [
    {
     "data": {
      "text/html": [
       "<table>\n",
       "<thead><tr><th scope=col>english</th><th scope=col>math</th></tr></thead>\n",
       "<tbody>\n",
       "\t<tr><td>90 </td><td> 50</td></tr>\n",
       "\t<tr><td>80 </td><td> 60</td></tr>\n",
       "\t<tr><td>60 </td><td>100</td></tr>\n",
       "\t<tr><td>70 </td><td> 20</td></tr>\n",
       "</tbody>\n",
       "</table>\n"
      ],
      "text/latex": [
       "\\begin{tabular}{r|ll}\n",
       " english & math\\\\\n",
       "\\hline\n",
       "\t 90  &  50\\\\\n",
       "\t 80  &  60\\\\\n",
       "\t 60  & 100\\\\\n",
       "\t 70  &  20\\\\\n",
       "\\end{tabular}\n"
      ],
      "text/markdown": [
       "\n",
       "| english | math |\n",
       "|---|---|\n",
       "| 90  |  50 |\n",
       "| 80  |  60 |\n",
       "| 60  | 100 |\n",
       "| 70  |  20 |\n",
       "\n"
      ],
      "text/plain": [
       "  english math\n",
       "1 90       50 \n",
       "2 80       60 \n",
       "3 60      100 \n",
       "4 70       20 "
      ]
     },
     "metadata": {},
     "output_type": "display_data"
    }
   ],
   "source": [
    "#english,math로 데이터 프레임 생성해서 df_midterm에 할당\n",
    "df_midterm<-data.frame(english,math)\n",
    "df_midterm"
   ]
  },
  {
   "cell_type": "code",
   "execution_count": 14,
   "metadata": {},
   "outputs": [
    {
     "data": {
      "text/html": [
       "<ol class=list-inline>\n",
       "\t<li>1</li>\n",
       "\t<li>1</li>\n",
       "\t<li>2</li>\n",
       "\t<li>2</li>\n",
       "</ol>\n"
      ],
      "text/latex": [
       "\\begin{enumerate*}\n",
       "\\item 1\n",
       "\\item 1\n",
       "\\item 2\n",
       "\\item 2\n",
       "\\end{enumerate*}\n"
      ],
      "text/markdown": [
       "1. 1\n",
       "2. 1\n",
       "3. 2\n",
       "4. 2\n",
       "\n",
       "\n"
      ],
      "text/plain": [
       "[1] 1 1 2 2"
      ]
     },
     "metadata": {},
     "output_type": "display_data"
    }
   ],
   "source": [
    "class<-c(1,1,2,2)\n",
    "class"
   ]
  },
  {
   "cell_type": "code",
   "execution_count": 15,
   "metadata": {},
   "outputs": [
    {
     "data": {
      "text/html": [
       "<table>\n",
       "<thead><tr><th scope=col>english</th><th scope=col>math</th><th scope=col>class</th></tr></thead>\n",
       "<tbody>\n",
       "\t<tr><td>90 </td><td> 50</td><td>1  </td></tr>\n",
       "\t<tr><td>80 </td><td> 60</td><td>1  </td></tr>\n",
       "\t<tr><td>60 </td><td>100</td><td>2  </td></tr>\n",
       "\t<tr><td>70 </td><td> 20</td><td>2  </td></tr>\n",
       "</tbody>\n",
       "</table>\n"
      ],
      "text/latex": [
       "\\begin{tabular}{r|lll}\n",
       " english & math & class\\\\\n",
       "\\hline\n",
       "\t 90  &  50 & 1  \\\\\n",
       "\t 80  &  60 & 1  \\\\\n",
       "\t 60  & 100 & 2  \\\\\n",
       "\t 70  &  20 & 2  \\\\\n",
       "\\end{tabular}\n"
      ],
      "text/markdown": [
       "\n",
       "| english | math | class |\n",
       "|---|---|---|\n",
       "| 90  |  50 | 1   |\n",
       "| 80  |  60 | 1   |\n",
       "| 60  | 100 | 2   |\n",
       "| 70  |  20 | 2   |\n",
       "\n"
      ],
      "text/plain": [
       "  english math class\n",
       "1 90       50  1    \n",
       "2 80       60  1    \n",
       "3 60      100  2    \n",
       "4 70       20  2    "
      ]
     },
     "metadata": {},
     "output_type": "display_data"
    }
   ],
   "source": [
    "df_midterm<-data.frame(english,math,class)\n",
    "df_midterm"
   ]
  },
  {
   "cell_type": "code",
   "execution_count": 18,
   "metadata": {},
   "outputs": [
    {
     "data": {
      "text/html": [
       "75"
      ],
      "text/latex": [
       "75"
      ],
      "text/markdown": [
       "75"
      ],
      "text/plain": [
       "[1] 75"
      ]
     },
     "metadata": {},
     "output_type": "display_data"
    }
   ],
   "source": [
    "mean(df_midterm$english)"
   ]
  },
  {
   "cell_type": "code",
   "execution_count": 19,
   "metadata": {},
   "outputs": [
    {
     "data": {
      "text/html": [
       "57.5"
      ],
      "text/latex": [
       "57.5"
      ],
      "text/markdown": [
       "57.5"
      ],
      "text/plain": [
       "[1] 57.5"
      ]
     },
     "metadata": {},
     "output_type": "display_data"
    }
   ],
   "source": [
    "mean(df_midterm$math)"
   ]
  },
  {
   "cell_type": "markdown",
   "metadata": {},
   "source": [
    "### 데이터 프레임 한 번에 만들기"
   ]
  },
  {
   "cell_type": "code",
   "execution_count": 21,
   "metadata": {},
   "outputs": [
    {
     "data": {
      "text/html": [
       "<table>\n",
       "<thead><tr><th scope=col>english</th><th scope=col>math</th><th scope=col>class</th></tr></thead>\n",
       "<tbody>\n",
       "\t<tr><td>90 </td><td> 50</td><td>1  </td></tr>\n",
       "\t<tr><td>80 </td><td> 60</td><td>1  </td></tr>\n",
       "\t<tr><td>60 </td><td>100</td><td>2  </td></tr>\n",
       "\t<tr><td>70 </td><td> 20</td><td>2  </td></tr>\n",
       "</tbody>\n",
       "</table>\n"
      ],
      "text/latex": [
       "\\begin{tabular}{r|lll}\n",
       " english & math & class\\\\\n",
       "\\hline\n",
       "\t 90  &  50 & 1  \\\\\n",
       "\t 80  &  60 & 1  \\\\\n",
       "\t 60  & 100 & 2  \\\\\n",
       "\t 70  &  20 & 2  \\\\\n",
       "\\end{tabular}\n"
      ],
      "text/markdown": [
       "\n",
       "| english | math | class |\n",
       "|---|---|---|\n",
       "| 90  |  50 | 1   |\n",
       "| 80  |  60 | 1   |\n",
       "| 60  | 100 | 2   |\n",
       "| 70  |  20 | 2   |\n",
       "\n"
      ],
      "text/plain": [
       "  english math class\n",
       "1 90       50  1    \n",
       "2 80       60  1    \n",
       "3 60      100  2    \n",
       "4 70       20  2    "
      ]
     },
     "metadata": {},
     "output_type": "display_data"
    }
   ],
   "source": [
    "df_midterm<-data.frame(english=c(90,80,60,70),\n",
    "                      math=c(50,60,100,20),\n",
    "                      class=c(1,1,2,2))\n",
    "df_midterm"
   ]
  },
  {
   "cell_type": "markdown",
   "metadata": {},
   "source": [
    "### Q.혼자서 해보기"
   ]
  },
  {
   "cell_type": "code",
   "execution_count": 22,
   "metadata": {},
   "outputs": [
    {
     "data": {
      "text/html": [
       "<table>\n",
       "<thead><tr><th scope=col>제품</th><th scope=col>가격</th><th scope=col>판매량</th></tr></thead>\n",
       "<tbody>\n",
       "\t<tr><td>사과</td><td>1800</td><td>24  </td></tr>\n",
       "\t<tr><td>딸기</td><td>1500</td><td>38  </td></tr>\n",
       "\t<tr><td>수박</td><td>3000</td><td>13  </td></tr>\n",
       "</tbody>\n",
       "</table>\n"
      ],
      "text/latex": [
       "\\begin{tabular}{r|lll}\n",
       " 제품 & 가격 & 판매량\\\\\n",
       "\\hline\n",
       "\t 사과 & 1800 & 24  \\\\\n",
       "\t 딸기 & 1500 & 38  \\\\\n",
       "\t 수박 & 3000 & 13  \\\\\n",
       "\\end{tabular}\n"
      ],
      "text/markdown": [
       "\n",
       "| 제품 | 가격 | 판매량 |\n",
       "|---|---|---|\n",
       "| 사과 | 1800 | 24   |\n",
       "| 딸기 | 1500 | 38   |\n",
       "| 수박 | 3000 | 13   |\n",
       "\n"
      ],
      "text/plain": [
       "  제품 가격 판매량\n",
       "1 사과 1800 24    \n",
       "2 딸기 1500 38    \n",
       "3 수박 3000 13    "
      ]
     },
     "metadata": {},
     "output_type": "display_data"
    }
   ],
   "source": [
    "df_f<-data.frame(제품=c('사과','딸기','수박'),\n",
    "                가격=c(1800,1500,3000),\n",
    "                판매량=c(24,38,13))\n",
    "df_f"
   ]
  },
  {
   "cell_type": "code",
   "execution_count": 26,
   "metadata": {},
   "outputs": [
    {
     "data": {
      "text/html": [
       "2100"
      ],
      "text/latex": [
       "2100"
      ],
      "text/markdown": [
       "2100"
      ],
      "text/plain": [
       "[1] 2100"
      ]
     },
     "metadata": {},
     "output_type": "display_data"
    }
   ],
   "source": [
    "mean(df_f$가격)"
   ]
  },
  {
   "cell_type": "code",
   "execution_count": 25,
   "metadata": {},
   "outputs": [
    {
     "data": {
      "text/html": [
       "25"
      ],
      "text/latex": [
       "25"
      ],
      "text/markdown": [
       "25"
      ],
      "text/plain": [
       "[1] 25"
      ]
     },
     "metadata": {},
     "output_type": "display_data"
    }
   ],
   "source": [
    "mean(df_f$판매량)"
   ]
  },
  {
   "cell_type": "markdown",
   "metadata": {},
   "source": [
    "## 4-3. 외부데이터 이용하기 - 축적된 시럼 성적 데이터 불러오기"
   ]
  },
  {
   "cell_type": "markdown",
   "metadata": {},
   "source": [
    "### 엑셀 파일 불러오기"
   ]
  },
  {
   "cell_type": "code",
   "execution_count": 27,
   "metadata": {},
   "outputs": [
    {
     "name": "stderr",
     "output_type": "stream",
     "text": [
      "Installing package into 'C:/Users/admin/Documents/R/win-library/3.6'\n",
      "(as 'lib' is unspecified)\n",
      "also installing the dependencies 'rematch', 'hms', 'cellranger', 'progress'\n",
      "\n"
     ]
    },
    {
     "name": "stdout",
     "output_type": "stream",
     "text": [
      "package 'rematch' successfully unpacked and MD5 sums checked\n",
      "package 'hms' successfully unpacked and MD5 sums checked\n",
      "package 'cellranger' successfully unpacked and MD5 sums checked\n",
      "package 'progress' successfully unpacked and MD5 sums checked\n",
      "package 'readxl' successfully unpacked and MD5 sums checked\n",
      "\n",
      "The downloaded binary packages are in\n",
      "\tC:\\Users\\admin\\AppData\\Local\\Temp\\RtmpozU4KD\\downloaded_packages\n"
     ]
    }
   ],
   "source": [
    "# readxl 패키지 설치\n",
    "install.packages(\"readxl\") # 엑셀 파일을 읽어올 수 있게 해주는 패키지"
   ]
  },
  {
   "cell_type": "code",
   "execution_count": 28,
   "metadata": {},
   "outputs": [
    {
     "name": "stderr",
     "output_type": "stream",
     "text": [
      "Warning message:\n",
      "\"package 'readxl' was built under R version 3.6.3\""
     ]
    }
   ],
   "source": [
    "# readxl 패키지 로드\n",
    "library(readxl)"
   ]
  },
  {
   "cell_type": "code",
   "execution_count": 36,
   "metadata": {},
   "outputs": [
    {
     "data": {
      "text/html": [
       "<table>\n",
       "<thead><tr><th scope=col>id</th><th scope=col>class</th><th scope=col>math</th><th scope=col>english</th><th scope=col>science</th></tr></thead>\n",
       "<tbody>\n",
       "\t<tr><td> 1</td><td>1 </td><td>50</td><td>98</td><td>50</td></tr>\n",
       "\t<tr><td> 2</td><td>1 </td><td>60</td><td>97</td><td>60</td></tr>\n",
       "\t<tr><td> 3</td><td>1 </td><td>45</td><td>86</td><td>78</td></tr>\n",
       "\t<tr><td> 4</td><td>1 </td><td>30</td><td>98</td><td>58</td></tr>\n",
       "\t<tr><td> 5</td><td>2 </td><td>25</td><td>80</td><td>65</td></tr>\n",
       "\t<tr><td> 6</td><td>2 </td><td>50</td><td>89</td><td>98</td></tr>\n",
       "\t<tr><td> 7</td><td>2 </td><td>80</td><td>90</td><td>45</td></tr>\n",
       "\t<tr><td> 8</td><td>2 </td><td>90</td><td>78</td><td>25</td></tr>\n",
       "\t<tr><td> 9</td><td>3 </td><td>20</td><td>98</td><td>15</td></tr>\n",
       "\t<tr><td>10</td><td>3 </td><td>50</td><td>98</td><td>45</td></tr>\n",
       "\t<tr><td>11</td><td>3 </td><td>65</td><td>65</td><td>65</td></tr>\n",
       "\t<tr><td>12</td><td>3 </td><td>45</td><td>85</td><td>32</td></tr>\n",
       "\t<tr><td>13</td><td>4 </td><td>46</td><td>98</td><td>65</td></tr>\n",
       "\t<tr><td>14</td><td>4 </td><td>48</td><td>87</td><td>12</td></tr>\n",
       "\t<tr><td>15</td><td>4 </td><td>75</td><td>56</td><td>78</td></tr>\n",
       "\t<tr><td>16</td><td>4 </td><td>58</td><td>98</td><td>65</td></tr>\n",
       "\t<tr><td>17</td><td>5 </td><td>65</td><td>68</td><td>98</td></tr>\n",
       "\t<tr><td>18</td><td>5 </td><td>80</td><td>78</td><td>90</td></tr>\n",
       "\t<tr><td>19</td><td>5 </td><td>89</td><td>68</td><td>87</td></tr>\n",
       "\t<tr><td>20</td><td>5 </td><td>78</td><td>83</td><td>58</td></tr>\n",
       "</tbody>\n",
       "</table>\n"
      ],
      "text/latex": [
       "\\begin{tabular}{r|lllll}\n",
       " id & class & math & english & science\\\\\n",
       "\\hline\n",
       "\t  1 & 1  & 50 & 98 & 50\\\\\n",
       "\t  2 & 1  & 60 & 97 & 60\\\\\n",
       "\t  3 & 1  & 45 & 86 & 78\\\\\n",
       "\t  4 & 1  & 30 & 98 & 58\\\\\n",
       "\t  5 & 2  & 25 & 80 & 65\\\\\n",
       "\t  6 & 2  & 50 & 89 & 98\\\\\n",
       "\t  7 & 2  & 80 & 90 & 45\\\\\n",
       "\t  8 & 2  & 90 & 78 & 25\\\\\n",
       "\t  9 & 3  & 20 & 98 & 15\\\\\n",
       "\t 10 & 3  & 50 & 98 & 45\\\\\n",
       "\t 11 & 3  & 65 & 65 & 65\\\\\n",
       "\t 12 & 3  & 45 & 85 & 32\\\\\n",
       "\t 13 & 4  & 46 & 98 & 65\\\\\n",
       "\t 14 & 4  & 48 & 87 & 12\\\\\n",
       "\t 15 & 4  & 75 & 56 & 78\\\\\n",
       "\t 16 & 4  & 58 & 98 & 65\\\\\n",
       "\t 17 & 5  & 65 & 68 & 98\\\\\n",
       "\t 18 & 5  & 80 & 78 & 90\\\\\n",
       "\t 19 & 5  & 89 & 68 & 87\\\\\n",
       "\t 20 & 5  & 78 & 83 & 58\\\\\n",
       "\\end{tabular}\n"
      ],
      "text/markdown": [
       "\n",
       "| id | class | math | english | science |\n",
       "|---|---|---|---|---|\n",
       "|  1 | 1  | 50 | 98 | 50 |\n",
       "|  2 | 1  | 60 | 97 | 60 |\n",
       "|  3 | 1  | 45 | 86 | 78 |\n",
       "|  4 | 1  | 30 | 98 | 58 |\n",
       "|  5 | 2  | 25 | 80 | 65 |\n",
       "|  6 | 2  | 50 | 89 | 98 |\n",
       "|  7 | 2  | 80 | 90 | 45 |\n",
       "|  8 | 2  | 90 | 78 | 25 |\n",
       "|  9 | 3  | 20 | 98 | 15 |\n",
       "| 10 | 3  | 50 | 98 | 45 |\n",
       "| 11 | 3  | 65 | 65 | 65 |\n",
       "| 12 | 3  | 45 | 85 | 32 |\n",
       "| 13 | 4  | 46 | 98 | 65 |\n",
       "| 14 | 4  | 48 | 87 | 12 |\n",
       "| 15 | 4  | 75 | 56 | 78 |\n",
       "| 16 | 4  | 58 | 98 | 65 |\n",
       "| 17 | 5  | 65 | 68 | 98 |\n",
       "| 18 | 5  | 80 | 78 | 90 |\n",
       "| 19 | 5  | 89 | 68 | 87 |\n",
       "| 20 | 5  | 78 | 83 | 58 |\n",
       "\n"
      ],
      "text/plain": [
       "   id class math english science\n",
       "1   1 1     50   98      50     \n",
       "2   2 1     60   97      60     \n",
       "3   3 1     45   86      78     \n",
       "4   4 1     30   98      58     \n",
       "5   5 2     25   80      65     \n",
       "6   6 2     50   89      98     \n",
       "7   7 2     80   90      45     \n",
       "8   8 2     90   78      25     \n",
       "9   9 3     20   98      15     \n",
       "10 10 3     50   98      45     \n",
       "11 11 3     65   65      65     \n",
       "12 12 3     45   85      32     \n",
       "13 13 4     46   98      65     \n",
       "14 14 4     48   87      12     \n",
       "15 15 4     75   56      78     \n",
       "16 16 4     58   98      65     \n",
       "17 17 5     65   68      98     \n",
       "18 18 5     80   78      90     \n",
       "19 19 5     89   68      87     \n",
       "20 20 5     78   83      58     "
      ]
     },
     "metadata": {},
     "output_type": "display_data"
    }
   ],
   "source": [
    "#경로 직접 지정\n",
    "df_exam<-read_excel(\"./Rdata/excel_exam.xlsx\" )\n",
    "df_exam"
   ]
  },
  {
   "cell_type": "code",
   "execution_count": 31,
   "metadata": {},
   "outputs": [
    {
     "data": {
      "text/html": [
       "84.9"
      ],
      "text/latex": [
       "84.9"
      ],
      "text/markdown": [
       "84.9"
      ],
      "text/plain": [
       "[1] 84.9"
      ]
     },
     "metadata": {},
     "output_type": "display_data"
    }
   ],
   "source": [
    "mean(df_exam$english)"
   ]
  },
  {
   "cell_type": "code",
   "execution_count": 32,
   "metadata": {},
   "outputs": [
    {
     "data": {
      "text/html": [
       "59.45"
      ],
      "text/latex": [
       "59.45"
      ],
      "text/markdown": [
       "59.45"
      ],
      "text/plain": [
       "[1] 59.45"
      ]
     },
     "metadata": {},
     "output_type": "display_data"
    }
   ],
   "source": [
    "mean(df_exam$science)"
   ]
  },
  {
   "cell_type": "code",
   "execution_count": 39,
   "metadata": {},
   "outputs": [
    {
     "data": {
      "text/html": [
       "<table>\n",
       "<thead><tr><th scope=col>id</th><th scope=col>class</th><th scope=col>math</th><th scope=col>english</th><th scope=col>science</th></tr></thead>\n",
       "<tbody>\n",
       "\t<tr><td>1 </td><td>1 </td><td>50</td><td>98</td><td>50</td></tr>\n",
       "\t<tr><td>2 </td><td>1 </td><td>60</td><td>97</td><td>60</td></tr>\n",
       "\t<tr><td>3 </td><td>2 </td><td>25</td><td>80</td><td>65</td></tr>\n",
       "\t<tr><td>4 </td><td>2 </td><td>50</td><td>89</td><td>98</td></tr>\n",
       "\t<tr><td>5 </td><td>3 </td><td>20</td><td>98</td><td>15</td></tr>\n",
       "\t<tr><td>6 </td><td>3 </td><td>50</td><td>98</td><td>45</td></tr>\n",
       "\t<tr><td>7 </td><td>4 </td><td>46</td><td>98</td><td>65</td></tr>\n",
       "\t<tr><td>8 </td><td>4 </td><td>48</td><td>87</td><td>12</td></tr>\n",
       "</tbody>\n",
       "</table>\n"
      ],
      "text/latex": [
       "\\begin{tabular}{r|lllll}\n",
       " id & class & math & english & science\\\\\n",
       "\\hline\n",
       "\t 1  & 1  & 50 & 98 & 50\\\\\n",
       "\t 2  & 1  & 60 & 97 & 60\\\\\n",
       "\t 3  & 2  & 25 & 80 & 65\\\\\n",
       "\t 4  & 2  & 50 & 89 & 98\\\\\n",
       "\t 5  & 3  & 20 & 98 & 15\\\\\n",
       "\t 6  & 3  & 50 & 98 & 45\\\\\n",
       "\t 7  & 4  & 46 & 98 & 65\\\\\n",
       "\t 8  & 4  & 48 & 87 & 12\\\\\n",
       "\\end{tabular}\n"
      ],
      "text/markdown": [
       "\n",
       "| id | class | math | english | science |\n",
       "|---|---|---|---|---|\n",
       "| 1  | 1  | 50 | 98 | 50 |\n",
       "| 2  | 1  | 60 | 97 | 60 |\n",
       "| 3  | 2  | 25 | 80 | 65 |\n",
       "| 4  | 2  | 50 | 89 | 98 |\n",
       "| 5  | 3  | 20 | 98 | 15 |\n",
       "| 6  | 3  | 50 | 98 | 45 |\n",
       "| 7  | 4  | 46 | 98 | 65 |\n",
       "| 8  | 4  | 48 | 87 | 12 |\n",
       "\n"
      ],
      "text/plain": [
       "  id class math english science\n",
       "1 1  1     50   98      50     \n",
       "2 2  1     60   97      60     \n",
       "3 3  2     25   80      65     \n",
       "4 4  2     50   89      98     \n",
       "5 5  3     20   98      15     \n",
       "6 6  3     50   98      45     \n",
       "7 7  4     46   98      65     \n",
       "8 8  4     48   87      12     "
      ]
     },
     "metadata": {},
     "output_type": "display_data"
    }
   ],
   "source": [
    "# sheet가 여러개인 엑셀 파일일 경우에는 sheet=번호 를 넣어준다\n",
    "df_exam_sheet<-read_excel(\"./Rdata/excel_exam_sheet.xlsx\", sheet=3)\n",
    "df_exam_sheet"
   ]
  },
  {
   "cell_type": "code",
   "execution_count": 41,
   "metadata": {},
   "outputs": [
    {
     "name": "stderr",
     "output_type": "stream",
     "text": [
      "New names:\n",
      "* `` -> ...1\n",
      "* `` -> ...2\n",
      "* `` -> ...3\n",
      "* `` -> ...4\n",
      "* `` -> ...5\n"
     ]
    },
    {
     "data": {
      "text/html": [
       "<table>\n",
       "<thead><tr><th scope=col>...1</th><th scope=col>...2</th><th scope=col>...3</th><th scope=col>...4</th><th scope=col>...5</th></tr></thead>\n",
       "<tbody>\n",
       "\t<tr><td>1 </td><td>1 </td><td>50</td><td>98</td><td>50</td></tr>\n",
       "\t<tr><td>2 </td><td>1 </td><td>60</td><td>97</td><td>60</td></tr>\n",
       "\t<tr><td>3 </td><td>2 </td><td>25</td><td>80</td><td>65</td></tr>\n",
       "\t<tr><td>4 </td><td>2 </td><td>50</td><td>89</td><td>98</td></tr>\n",
       "\t<tr><td>5 </td><td>3 </td><td>20</td><td>98</td><td>15</td></tr>\n",
       "\t<tr><td>6 </td><td>3 </td><td>50</td><td>98</td><td>45</td></tr>\n",
       "\t<tr><td>7 </td><td>4 </td><td>46</td><td>98</td><td>65</td></tr>\n",
       "\t<tr><td>8 </td><td>4 </td><td>48</td><td>87</td><td>12</td></tr>\n",
       "</tbody>\n",
       "</table>\n"
      ],
      "text/latex": [
       "\\begin{tabular}{r|lllll}\n",
       " ...1 & ...2 & ...3 & ...4 & ...5\\\\\n",
       "\\hline\n",
       "\t 1  & 1  & 50 & 98 & 50\\\\\n",
       "\t 2  & 1  & 60 & 97 & 60\\\\\n",
       "\t 3  & 2  & 25 & 80 & 65\\\\\n",
       "\t 4  & 2  & 50 & 89 & 98\\\\\n",
       "\t 5  & 3  & 20 & 98 & 15\\\\\n",
       "\t 6  & 3  & 50 & 98 & 45\\\\\n",
       "\t 7  & 4  & 46 & 98 & 65\\\\\n",
       "\t 8  & 4  & 48 & 87 & 12\\\\\n",
       "\\end{tabular}\n"
      ],
      "text/markdown": [
       "\n",
       "| ...1 | ...2 | ...3 | ...4 | ...5 |\n",
       "|---|---|---|---|---|\n",
       "| 1  | 1  | 50 | 98 | 50 |\n",
       "| 2  | 1  | 60 | 97 | 60 |\n",
       "| 3  | 2  | 25 | 80 | 65 |\n",
       "| 4  | 2  | 50 | 89 | 98 |\n",
       "| 5  | 3  | 20 | 98 | 15 |\n",
       "| 6  | 3  | 50 | 98 | 45 |\n",
       "| 7  | 4  | 46 | 98 | 65 |\n",
       "| 8  | 4  | 48 | 87 | 12 |\n",
       "\n"
      ],
      "text/plain": [
       "  ...1 ...2 ...3 ...4 ...5\n",
       "1 1    1    50   98   50  \n",
       "2 2    1    60   97   60  \n",
       "3 3    2    25   80   65  \n",
       "4 4    2    50   89   98  \n",
       "5 5    3    20   98   15  \n",
       "6 6    3    50   98   45  \n",
       "7 7    4    46   98   65  \n",
       "8 8    4    48   87   12  "
      ]
     },
     "metadata": {},
     "output_type": "display_data"
    }
   ],
   "source": [
    "#엑셀 파일 첫 번째 행이 변수명이 아니라면? col_names =F을 사용한다\n",
    "df_exam_novar<-read_excel('./Rdata/excel_exam_novar.xlsx', col_names =F)\n",
    "df_exam_novar"
   ]
  },
  {
   "cell_type": "markdown",
   "metadata": {},
   "source": [
    "### csv 파일 불러오기\n",
    "- 범용 데이터 형식\n",
    "- 값 사이를 쉼표(,)로 구분\n",
    "- 용량 작음, 다양한 소프트웨어에서 사용"
   ]
  },
  {
   "cell_type": "code",
   "execution_count": 44,
   "metadata": {},
   "outputs": [
    {
     "data": {
      "text/html": [
       "<table>\n",
       "<thead><tr><th scope=col>id</th><th scope=col>class</th><th scope=col>math</th><th scope=col>english</th><th scope=col>science</th></tr></thead>\n",
       "<tbody>\n",
       "\t<tr><td> 1</td><td>1 </td><td>50</td><td>98</td><td>50</td></tr>\n",
       "\t<tr><td> 2</td><td>1 </td><td>60</td><td>97</td><td>60</td></tr>\n",
       "\t<tr><td> 3</td><td>1 </td><td>45</td><td>86</td><td>78</td></tr>\n",
       "\t<tr><td> 4</td><td>1 </td><td>30</td><td>98</td><td>58</td></tr>\n",
       "\t<tr><td> 5</td><td>2 </td><td>25</td><td>80</td><td>65</td></tr>\n",
       "\t<tr><td> 6</td><td>2 </td><td>50</td><td>89</td><td>98</td></tr>\n",
       "\t<tr><td> 7</td><td>2 </td><td>80</td><td>90</td><td>45</td></tr>\n",
       "\t<tr><td> 8</td><td>2 </td><td>90</td><td>78</td><td>25</td></tr>\n",
       "\t<tr><td> 9</td><td>3 </td><td>20</td><td>98</td><td>15</td></tr>\n",
       "\t<tr><td>10</td><td>3 </td><td>50</td><td>98</td><td>45</td></tr>\n",
       "\t<tr><td>11</td><td>3 </td><td>65</td><td>65</td><td>65</td></tr>\n",
       "\t<tr><td>12</td><td>3 </td><td>45</td><td>85</td><td>32</td></tr>\n",
       "\t<tr><td>13</td><td>4 </td><td>46</td><td>98</td><td>65</td></tr>\n",
       "\t<tr><td>14</td><td>4 </td><td>48</td><td>87</td><td>12</td></tr>\n",
       "\t<tr><td>15</td><td>4 </td><td>75</td><td>56</td><td>78</td></tr>\n",
       "\t<tr><td>16</td><td>4 </td><td>58</td><td>98</td><td>65</td></tr>\n",
       "\t<tr><td>17</td><td>5 </td><td>65</td><td>68</td><td>98</td></tr>\n",
       "\t<tr><td>18</td><td>5 </td><td>80</td><td>78</td><td>90</td></tr>\n",
       "\t<tr><td>19</td><td>5 </td><td>89</td><td>68</td><td>87</td></tr>\n",
       "\t<tr><td>20</td><td>5 </td><td>78</td><td>83</td><td>58</td></tr>\n",
       "</tbody>\n",
       "</table>\n"
      ],
      "text/latex": [
       "\\begin{tabular}{r|lllll}\n",
       " id & class & math & english & science\\\\\n",
       "\\hline\n",
       "\t  1 & 1  & 50 & 98 & 50\\\\\n",
       "\t  2 & 1  & 60 & 97 & 60\\\\\n",
       "\t  3 & 1  & 45 & 86 & 78\\\\\n",
       "\t  4 & 1  & 30 & 98 & 58\\\\\n",
       "\t  5 & 2  & 25 & 80 & 65\\\\\n",
       "\t  6 & 2  & 50 & 89 & 98\\\\\n",
       "\t  7 & 2  & 80 & 90 & 45\\\\\n",
       "\t  8 & 2  & 90 & 78 & 25\\\\\n",
       "\t  9 & 3  & 20 & 98 & 15\\\\\n",
       "\t 10 & 3  & 50 & 98 & 45\\\\\n",
       "\t 11 & 3  & 65 & 65 & 65\\\\\n",
       "\t 12 & 3  & 45 & 85 & 32\\\\\n",
       "\t 13 & 4  & 46 & 98 & 65\\\\\n",
       "\t 14 & 4  & 48 & 87 & 12\\\\\n",
       "\t 15 & 4  & 75 & 56 & 78\\\\\n",
       "\t 16 & 4  & 58 & 98 & 65\\\\\n",
       "\t 17 & 5  & 65 & 68 & 98\\\\\n",
       "\t 18 & 5  & 80 & 78 & 90\\\\\n",
       "\t 19 & 5  & 89 & 68 & 87\\\\\n",
       "\t 20 & 5  & 78 & 83 & 58\\\\\n",
       "\\end{tabular}\n"
      ],
      "text/markdown": [
       "\n",
       "| id | class | math | english | science |\n",
       "|---|---|---|---|---|\n",
       "|  1 | 1  | 50 | 98 | 50 |\n",
       "|  2 | 1  | 60 | 97 | 60 |\n",
       "|  3 | 1  | 45 | 86 | 78 |\n",
       "|  4 | 1  | 30 | 98 | 58 |\n",
       "|  5 | 2  | 25 | 80 | 65 |\n",
       "|  6 | 2  | 50 | 89 | 98 |\n",
       "|  7 | 2  | 80 | 90 | 45 |\n",
       "|  8 | 2  | 90 | 78 | 25 |\n",
       "|  9 | 3  | 20 | 98 | 15 |\n",
       "| 10 | 3  | 50 | 98 | 45 |\n",
       "| 11 | 3  | 65 | 65 | 65 |\n",
       "| 12 | 3  | 45 | 85 | 32 |\n",
       "| 13 | 4  | 46 | 98 | 65 |\n",
       "| 14 | 4  | 48 | 87 | 12 |\n",
       "| 15 | 4  | 75 | 56 | 78 |\n",
       "| 16 | 4  | 58 | 98 | 65 |\n",
       "| 17 | 5  | 65 | 68 | 98 |\n",
       "| 18 | 5  | 80 | 78 | 90 |\n",
       "| 19 | 5  | 89 | 68 | 87 |\n",
       "| 20 | 5  | 78 | 83 | 58 |\n",
       "\n"
      ],
      "text/plain": [
       "   id class math english science\n",
       "1   1 1     50   98      50     \n",
       "2   2 1     60   97      60     \n",
       "3   3 1     45   86      78     \n",
       "4   4 1     30   98      58     \n",
       "5   5 2     25   80      65     \n",
       "6   6 2     50   89      98     \n",
       "7   7 2     80   90      45     \n",
       "8   8 2     90   78      25     \n",
       "9   9 3     20   98      15     \n",
       "10 10 3     50   98      45     \n",
       "11 11 3     65   65      65     \n",
       "12 12 3     45   85      32     \n",
       "13 13 4     46   98      65     \n",
       "14 14 4     48   87      12     \n",
       "15 15 4     75   56      78     \n",
       "16 16 4     58   98      65     \n",
       "17 17 5     65   68      98     \n",
       "18 18 5     80   78      90     \n",
       "19 19 5     89   68      87     \n",
       "20 20 5     78   83      58     "
      ]
     },
     "metadata": {},
     "output_type": "display_data"
    }
   ],
   "source": [
    "df_csv_exam<-read.csv(\"./Rdata/csv_exam.csv\")\n",
    "df_csv_exam"
   ]
  },
  {
   "cell_type": "markdown",
   "metadata": {},
   "source": [
    "### 문자가 들어 있는 파일 불러올 때 stringsAsFactors = F  사용"
   ]
  },
  {
   "cell_type": "code",
   "execution_count": 48,
   "metadata": {},
   "outputs": [
    {
     "data": {
      "text/html": [
       "<table>\n",
       "<thead><tr><th scope=col>id</th><th scope=col>class</th><th scope=col>math</th><th scope=col>english</th><th scope=col>science</th></tr></thead>\n",
       "<tbody>\n",
       "\t<tr><td> 1</td><td>1 </td><td>50</td><td>98</td><td>50</td></tr>\n",
       "\t<tr><td> 2</td><td>1 </td><td>60</td><td>97</td><td>60</td></tr>\n",
       "\t<tr><td> 3</td><td>1 </td><td>45</td><td>86</td><td>78</td></tr>\n",
       "\t<tr><td> 4</td><td>1 </td><td>30</td><td>98</td><td>58</td></tr>\n",
       "\t<tr><td> 5</td><td>2 </td><td>25</td><td>80</td><td>65</td></tr>\n",
       "\t<tr><td> 6</td><td>2 </td><td>50</td><td>89</td><td>98</td></tr>\n",
       "\t<tr><td> 7</td><td>2 </td><td>80</td><td>90</td><td>45</td></tr>\n",
       "\t<tr><td> 8</td><td>2 </td><td>90</td><td>78</td><td>25</td></tr>\n",
       "\t<tr><td> 9</td><td>3 </td><td>20</td><td>98</td><td>15</td></tr>\n",
       "\t<tr><td>10</td><td>3 </td><td>50</td><td>98</td><td>45</td></tr>\n",
       "\t<tr><td>11</td><td>3 </td><td>65</td><td>65</td><td>65</td></tr>\n",
       "\t<tr><td>12</td><td>3 </td><td>45</td><td>85</td><td>32</td></tr>\n",
       "\t<tr><td>13</td><td>4 </td><td>46</td><td>98</td><td>65</td></tr>\n",
       "\t<tr><td>14</td><td>4 </td><td>48</td><td>87</td><td>12</td></tr>\n",
       "\t<tr><td>15</td><td>4 </td><td>75</td><td>56</td><td>78</td></tr>\n",
       "\t<tr><td>16</td><td>4 </td><td>58</td><td>98</td><td>65</td></tr>\n",
       "\t<tr><td>17</td><td>5 </td><td>65</td><td>68</td><td>98</td></tr>\n",
       "\t<tr><td>18</td><td>5 </td><td>80</td><td>78</td><td>90</td></tr>\n",
       "\t<tr><td>19</td><td>5 </td><td>89</td><td>68</td><td>87</td></tr>\n",
       "\t<tr><td>20</td><td>5 </td><td>78</td><td>83</td><td>58</td></tr>\n",
       "</tbody>\n",
       "</table>\n"
      ],
      "text/latex": [
       "\\begin{tabular}{r|lllll}\n",
       " id & class & math & english & science\\\\\n",
       "\\hline\n",
       "\t  1 & 1  & 50 & 98 & 50\\\\\n",
       "\t  2 & 1  & 60 & 97 & 60\\\\\n",
       "\t  3 & 1  & 45 & 86 & 78\\\\\n",
       "\t  4 & 1  & 30 & 98 & 58\\\\\n",
       "\t  5 & 2  & 25 & 80 & 65\\\\\n",
       "\t  6 & 2  & 50 & 89 & 98\\\\\n",
       "\t  7 & 2  & 80 & 90 & 45\\\\\n",
       "\t  8 & 2  & 90 & 78 & 25\\\\\n",
       "\t  9 & 3  & 20 & 98 & 15\\\\\n",
       "\t 10 & 3  & 50 & 98 & 45\\\\\n",
       "\t 11 & 3  & 65 & 65 & 65\\\\\n",
       "\t 12 & 3  & 45 & 85 & 32\\\\\n",
       "\t 13 & 4  & 46 & 98 & 65\\\\\n",
       "\t 14 & 4  & 48 & 87 & 12\\\\\n",
       "\t 15 & 4  & 75 & 56 & 78\\\\\n",
       "\t 16 & 4  & 58 & 98 & 65\\\\\n",
       "\t 17 & 5  & 65 & 68 & 98\\\\\n",
       "\t 18 & 5  & 80 & 78 & 90\\\\\n",
       "\t 19 & 5  & 89 & 68 & 87\\\\\n",
       "\t 20 & 5  & 78 & 83 & 58\\\\\n",
       "\\end{tabular}\n"
      ],
      "text/markdown": [
       "\n",
       "| id | class | math | english | science |\n",
       "|---|---|---|---|---|\n",
       "|  1 | 1  | 50 | 98 | 50 |\n",
       "|  2 | 1  | 60 | 97 | 60 |\n",
       "|  3 | 1  | 45 | 86 | 78 |\n",
       "|  4 | 1  | 30 | 98 | 58 |\n",
       "|  5 | 2  | 25 | 80 | 65 |\n",
       "|  6 | 2  | 50 | 89 | 98 |\n",
       "|  7 | 2  | 80 | 90 | 45 |\n",
       "|  8 | 2  | 90 | 78 | 25 |\n",
       "|  9 | 3  | 20 | 98 | 15 |\n",
       "| 10 | 3  | 50 | 98 | 45 |\n",
       "| 11 | 3  | 65 | 65 | 65 |\n",
       "| 12 | 3  | 45 | 85 | 32 |\n",
       "| 13 | 4  | 46 | 98 | 65 |\n",
       "| 14 | 4  | 48 | 87 | 12 |\n",
       "| 15 | 4  | 75 | 56 | 78 |\n",
       "| 16 | 4  | 58 | 98 | 65 |\n",
       "| 17 | 5  | 65 | 68 | 98 |\n",
       "| 18 | 5  | 80 | 78 | 90 |\n",
       "| 19 | 5  | 89 | 68 | 87 |\n",
       "| 20 | 5  | 78 | 83 | 58 |\n",
       "\n"
      ],
      "text/plain": [
       "   id class math english science\n",
       "1   1 1     50   98      50     \n",
       "2   2 1     60   97      60     \n",
       "3   3 1     45   86      78     \n",
       "4   4 1     30   98      58     \n",
       "5   5 2     25   80      65     \n",
       "6   6 2     50   89      98     \n",
       "7   7 2     80   90      45     \n",
       "8   8 2     90   78      25     \n",
       "9   9 3     20   98      15     \n",
       "10 10 3     50   98      45     \n",
       "11 11 3     65   65      65     \n",
       "12 12 3     45   85      32     \n",
       "13 13 4     46   98      65     \n",
       "14 14 4     48   87      12     \n",
       "15 15 4     75   56      78     \n",
       "16 16 4     58   98      65     \n",
       "17 17 5     65   68      98     \n",
       "18 18 5     80   78      90     \n",
       "19 19 5     89   68      87     \n",
       "20 20 5     78   83      58     "
      ]
     },
     "metadata": {},
     "output_type": "display_data"
    }
   ],
   "source": [
    "#############???/\n",
    "df_csv_exam<-read.csv(\"./Rdata/csv_exam.csv\",stringsAsFactors = F)\n",
    "df_csv_exam"
   ]
  },
  {
   "cell_type": "markdown",
   "metadata": {},
   "source": [
    "### 데이터프레임을 csv 파일로 저장하기"
   ]
  },
  {
   "cell_type": "code",
   "execution_count": 56,
   "metadata": {},
   "outputs": [
    {
     "data": {
      "text/html": [
       "<table>\n",
       "<thead><tr><th scope=col>english</th><th scope=col>math</th><th scope=col>class</th></tr></thead>\n",
       "<tbody>\n",
       "\t<tr><td>90 </td><td> 50</td><td>1  </td></tr>\n",
       "\t<tr><td>80 </td><td> 60</td><td>1  </td></tr>\n",
       "\t<tr><td>60 </td><td>100</td><td>2  </td></tr>\n",
       "\t<tr><td>70 </td><td> 20</td><td>2  </td></tr>\n",
       "</tbody>\n",
       "</table>\n"
      ],
      "text/latex": [
       "\\begin{tabular}{r|lll}\n",
       " english & math & class\\\\\n",
       "\\hline\n",
       "\t 90  &  50 & 1  \\\\\n",
       "\t 80  &  60 & 1  \\\\\n",
       "\t 60  & 100 & 2  \\\\\n",
       "\t 70  &  20 & 2  \\\\\n",
       "\\end{tabular}\n"
      ],
      "text/markdown": [
       "\n",
       "| english | math | class |\n",
       "|---|---|---|\n",
       "| 90  |  50 | 1   |\n",
       "| 80  |  60 | 1   |\n",
       "| 60  | 100 | 2   |\n",
       "| 70  |  20 | 2   |\n",
       "\n"
      ],
      "text/plain": [
       "  english math class\n",
       "1 90       50  1    \n",
       "2 80       60  1    \n",
       "3 60      100  2    \n",
       "4 70       20  2    "
      ]
     },
     "metadata": {},
     "output_type": "display_data"
    }
   ],
   "source": [
    "df_midterm<-data.frame(english=c(90,80,60,70),\n",
    "                       math=c(50,60,100,20),\n",
    "                       class=c(1,1,2,2))\n",
    "df_midterm"
   ]
  },
  {
   "cell_type": "code",
   "execution_count": 57,
   "metadata": {},
   "outputs": [],
   "source": [
    "write.csv(df_midterm,file='df_midterm.csv')"
   ]
  },
  {
   "cell_type": "markdown",
   "metadata": {},
   "source": [
    "### RData 파일 활용\n",
    "- R 전용 데이터 파일\n",
    "- 용량 작고 빠름"
   ]
  },
  {
   "cell_type": "markdown",
   "metadata": {},
   "source": [
    "### 데이터 프레임을 RData 파일로 저장"
   ]
  },
  {
   "cell_type": "code",
   "execution_count": 58,
   "metadata": {},
   "outputs": [],
   "source": [
    "save(df_midterm, file='df_midterm.rda')"
   ]
  },
  {
   "cell_type": "markdown",
   "metadata": {},
   "source": [
    "### RData 불러오기"
   ]
  },
  {
   "cell_type": "code",
   "execution_count": 59,
   "metadata": {},
   "outputs": [
    {
     "ename": "ERROR",
     "evalue": "Error in eval(expr, envir, enclos): 객체 'df_midterm'를 찾을 수 없습니다\n",
     "output_type": "error",
     "traceback": [
      "Error in eval(expr, envir, enclos): 객체 'df_midterm'를 찾을 수 없습니다\nTraceback:\n"
     ]
    }
   ],
   "source": [
    "###############몰라\n",
    "rm(df_midterm)\n",
    "df_midterm"
   ]
  },
  {
   "cell_type": "code",
   "execution_count": 60,
   "metadata": {},
   "outputs": [
    {
     "data": {
      "text/html": [
       "<table>\n",
       "<thead><tr><th scope=col>english</th><th scope=col>math</th><th scope=col>class</th></tr></thead>\n",
       "<tbody>\n",
       "\t<tr><td>90 </td><td> 50</td><td>1  </td></tr>\n",
       "\t<tr><td>80 </td><td> 60</td><td>1  </td></tr>\n",
       "\t<tr><td>60 </td><td>100</td><td>2  </td></tr>\n",
       "\t<tr><td>70 </td><td> 20</td><td>2  </td></tr>\n",
       "</tbody>\n",
       "</table>\n"
      ],
      "text/latex": [
       "\\begin{tabular}{r|lll}\n",
       " english & math & class\\\\\n",
       "\\hline\n",
       "\t 90  &  50 & 1  \\\\\n",
       "\t 80  &  60 & 1  \\\\\n",
       "\t 60  & 100 & 2  \\\\\n",
       "\t 70  &  20 & 2  \\\\\n",
       "\\end{tabular}\n"
      ],
      "text/markdown": [
       "\n",
       "| english | math | class |\n",
       "|---|---|---|\n",
       "| 90  |  50 | 1   |\n",
       "| 80  |  60 | 1   |\n",
       "| 60  | 100 | 2   |\n",
       "| 70  |  20 | 2   |\n",
       "\n"
      ],
      "text/plain": [
       "  english math class\n",
       "1 90       50  1    \n",
       "2 80       60  1    \n",
       "3 60      100  2    \n",
       "4 70       20  2    "
      ]
     },
     "metadata": {},
     "output_type": "display_data"
    }
   ],
   "source": [
    "load(\"df_midterm.rda\")\n",
    "df_midterm"
   ]
  },
  {
   "cell_type": "markdown",
   "metadata": {},
   "source": [
    "### 엑셀, csv, rda 차이점\n",
    "- 엑셀, csv는 파일을 불러와 새 변수에 할당해서 활용\n",
    "- rda는 불러오면 저장한 데이터 프레임이 자동 생성됨. 할당 없이 바로 사용"
   ]
  },
  {
   "cell_type": "code",
   "execution_count": 65,
   "metadata": {},
   "outputs": [
    {
     "data": {
      "text/html": [
       "<table>\n",
       "<thead><tr><th scope=col>id</th><th scope=col>class</th><th scope=col>math</th><th scope=col>english</th><th scope=col>science</th></tr></thead>\n",
       "<tbody>\n",
       "\t<tr><td> 1</td><td>1 </td><td>50</td><td>98</td><td>50</td></tr>\n",
       "\t<tr><td> 2</td><td>1 </td><td>60</td><td>97</td><td>60</td></tr>\n",
       "\t<tr><td> 3</td><td>1 </td><td>45</td><td>86</td><td>78</td></tr>\n",
       "\t<tr><td> 4</td><td>1 </td><td>30</td><td>98</td><td>58</td></tr>\n",
       "\t<tr><td> 5</td><td>2 </td><td>25</td><td>80</td><td>65</td></tr>\n",
       "\t<tr><td> 6</td><td>2 </td><td>50</td><td>89</td><td>98</td></tr>\n",
       "\t<tr><td> 7</td><td>2 </td><td>80</td><td>90</td><td>45</td></tr>\n",
       "\t<tr><td> 8</td><td>2 </td><td>90</td><td>78</td><td>25</td></tr>\n",
       "\t<tr><td> 9</td><td>3 </td><td>20</td><td>98</td><td>15</td></tr>\n",
       "\t<tr><td>10</td><td>3 </td><td>50</td><td>98</td><td>45</td></tr>\n",
       "\t<tr><td>11</td><td>3 </td><td>65</td><td>65</td><td>65</td></tr>\n",
       "\t<tr><td>12</td><td>3 </td><td>45</td><td>85</td><td>32</td></tr>\n",
       "\t<tr><td>13</td><td>4 </td><td>46</td><td>98</td><td>65</td></tr>\n",
       "\t<tr><td>14</td><td>4 </td><td>48</td><td>87</td><td>12</td></tr>\n",
       "\t<tr><td>15</td><td>4 </td><td>75</td><td>56</td><td>78</td></tr>\n",
       "\t<tr><td>16</td><td>4 </td><td>58</td><td>98</td><td>65</td></tr>\n",
       "\t<tr><td>17</td><td>5 </td><td>65</td><td>68</td><td>98</td></tr>\n",
       "\t<tr><td>18</td><td>5 </td><td>80</td><td>78</td><td>90</td></tr>\n",
       "\t<tr><td>19</td><td>5 </td><td>89</td><td>68</td><td>87</td></tr>\n",
       "\t<tr><td>20</td><td>5 </td><td>78</td><td>83</td><td>58</td></tr>\n",
       "</tbody>\n",
       "</table>\n"
      ],
      "text/latex": [
       "\\begin{tabular}{r|lllll}\n",
       " id & class & math & english & science\\\\\n",
       "\\hline\n",
       "\t  1 & 1  & 50 & 98 & 50\\\\\n",
       "\t  2 & 1  & 60 & 97 & 60\\\\\n",
       "\t  3 & 1  & 45 & 86 & 78\\\\\n",
       "\t  4 & 1  & 30 & 98 & 58\\\\\n",
       "\t  5 & 2  & 25 & 80 & 65\\\\\n",
       "\t  6 & 2  & 50 & 89 & 98\\\\\n",
       "\t  7 & 2  & 80 & 90 & 45\\\\\n",
       "\t  8 & 2  & 90 & 78 & 25\\\\\n",
       "\t  9 & 3  & 20 & 98 & 15\\\\\n",
       "\t 10 & 3  & 50 & 98 & 45\\\\\n",
       "\t 11 & 3  & 65 & 65 & 65\\\\\n",
       "\t 12 & 3  & 45 & 85 & 32\\\\\n",
       "\t 13 & 4  & 46 & 98 & 65\\\\\n",
       "\t 14 & 4  & 48 & 87 & 12\\\\\n",
       "\t 15 & 4  & 75 & 56 & 78\\\\\n",
       "\t 16 & 4  & 58 & 98 & 65\\\\\n",
       "\t 17 & 5  & 65 & 68 & 98\\\\\n",
       "\t 18 & 5  & 80 & 78 & 90\\\\\n",
       "\t 19 & 5  & 89 & 68 & 87\\\\\n",
       "\t 20 & 5  & 78 & 83 & 58\\\\\n",
       "\\end{tabular}\n"
      ],
      "text/markdown": [
       "\n",
       "| id | class | math | english | science |\n",
       "|---|---|---|---|---|\n",
       "|  1 | 1  | 50 | 98 | 50 |\n",
       "|  2 | 1  | 60 | 97 | 60 |\n",
       "|  3 | 1  | 45 | 86 | 78 |\n",
       "|  4 | 1  | 30 | 98 | 58 |\n",
       "|  5 | 2  | 25 | 80 | 65 |\n",
       "|  6 | 2  | 50 | 89 | 98 |\n",
       "|  7 | 2  | 80 | 90 | 45 |\n",
       "|  8 | 2  | 90 | 78 | 25 |\n",
       "|  9 | 3  | 20 | 98 | 15 |\n",
       "| 10 | 3  | 50 | 98 | 45 |\n",
       "| 11 | 3  | 65 | 65 | 65 |\n",
       "| 12 | 3  | 45 | 85 | 32 |\n",
       "| 13 | 4  | 46 | 98 | 65 |\n",
       "| 14 | 4  | 48 | 87 | 12 |\n",
       "| 15 | 4  | 75 | 56 | 78 |\n",
       "| 16 | 4  | 58 | 98 | 65 |\n",
       "| 17 | 5  | 65 | 68 | 98 |\n",
       "| 18 | 5  | 80 | 78 | 90 |\n",
       "| 19 | 5  | 89 | 68 | 87 |\n",
       "| 20 | 5  | 78 | 83 | 58 |\n",
       "\n"
      ],
      "text/plain": [
       "   id class math english science\n",
       "1   1 1     50   98      50     \n",
       "2   2 1     60   97      60     \n",
       "3   3 1     45   86      78     \n",
       "4   4 1     30   98      58     \n",
       "5   5 2     25   80      65     \n",
       "6   6 2     50   89      98     \n",
       "7   7 2     80   90      45     \n",
       "8   8 2     90   78      25     \n",
       "9   9 3     20   98      15     \n",
       "10 10 3     50   98      45     \n",
       "11 11 3     65   65      65     \n",
       "12 12 3     45   85      32     \n",
       "13 13 4     46   98      65     \n",
       "14 14 4     48   87      12     \n",
       "15 15 4     75   56      78     \n",
       "16 16 4     58   98      65     \n",
       "17 17 5     65   68      98     \n",
       "18 18 5     80   78      90     \n",
       "19 19 5     89   68      87     \n",
       "20 20 5     78   83      58     "
      ]
     },
     "metadata": {},
     "output_type": "display_data"
    }
   ],
   "source": [
    "#엑셀 파일을 불러와 df_exam에 할당하기\n",
    "df_exam<-read_excel('./Rdata/excel_exam.xlsx')\n",
    "df_exam"
   ]
  },
  {
   "cell_type": "code",
   "execution_count": 66,
   "metadata": {},
   "outputs": [
    {
     "data": {
      "text/html": [
       "<table>\n",
       "<thead><tr><th scope=col>id</th><th scope=col>class</th><th scope=col>math</th><th scope=col>english</th><th scope=col>science</th></tr></thead>\n",
       "<tbody>\n",
       "\t<tr><td> 1</td><td>1 </td><td>50</td><td>98</td><td>50</td></tr>\n",
       "\t<tr><td> 2</td><td>1 </td><td>60</td><td>97</td><td>60</td></tr>\n",
       "\t<tr><td> 3</td><td>1 </td><td>45</td><td>86</td><td>78</td></tr>\n",
       "\t<tr><td> 4</td><td>1 </td><td>30</td><td>98</td><td>58</td></tr>\n",
       "\t<tr><td> 5</td><td>2 </td><td>25</td><td>80</td><td>65</td></tr>\n",
       "\t<tr><td> 6</td><td>2 </td><td>50</td><td>89</td><td>98</td></tr>\n",
       "\t<tr><td> 7</td><td>2 </td><td>80</td><td>90</td><td>45</td></tr>\n",
       "\t<tr><td> 8</td><td>2 </td><td>90</td><td>78</td><td>25</td></tr>\n",
       "\t<tr><td> 9</td><td>3 </td><td>20</td><td>98</td><td>15</td></tr>\n",
       "\t<tr><td>10</td><td>3 </td><td>50</td><td>98</td><td>45</td></tr>\n",
       "\t<tr><td>11</td><td>3 </td><td>65</td><td>65</td><td>65</td></tr>\n",
       "\t<tr><td>12</td><td>3 </td><td>45</td><td>85</td><td>32</td></tr>\n",
       "\t<tr><td>13</td><td>4 </td><td>46</td><td>98</td><td>65</td></tr>\n",
       "\t<tr><td>14</td><td>4 </td><td>48</td><td>87</td><td>12</td></tr>\n",
       "\t<tr><td>15</td><td>4 </td><td>75</td><td>56</td><td>78</td></tr>\n",
       "\t<tr><td>16</td><td>4 </td><td>58</td><td>98</td><td>65</td></tr>\n",
       "\t<tr><td>17</td><td>5 </td><td>65</td><td>68</td><td>98</td></tr>\n",
       "\t<tr><td>18</td><td>5 </td><td>80</td><td>78</td><td>90</td></tr>\n",
       "\t<tr><td>19</td><td>5 </td><td>89</td><td>68</td><td>87</td></tr>\n",
       "\t<tr><td>20</td><td>5 </td><td>78</td><td>83</td><td>58</td></tr>\n",
       "</tbody>\n",
       "</table>\n"
      ],
      "text/latex": [
       "\\begin{tabular}{r|lllll}\n",
       " id & class & math & english & science\\\\\n",
       "\\hline\n",
       "\t  1 & 1  & 50 & 98 & 50\\\\\n",
       "\t  2 & 1  & 60 & 97 & 60\\\\\n",
       "\t  3 & 1  & 45 & 86 & 78\\\\\n",
       "\t  4 & 1  & 30 & 98 & 58\\\\\n",
       "\t  5 & 2  & 25 & 80 & 65\\\\\n",
       "\t  6 & 2  & 50 & 89 & 98\\\\\n",
       "\t  7 & 2  & 80 & 90 & 45\\\\\n",
       "\t  8 & 2  & 90 & 78 & 25\\\\\n",
       "\t  9 & 3  & 20 & 98 & 15\\\\\n",
       "\t 10 & 3  & 50 & 98 & 45\\\\\n",
       "\t 11 & 3  & 65 & 65 & 65\\\\\n",
       "\t 12 & 3  & 45 & 85 & 32\\\\\n",
       "\t 13 & 4  & 46 & 98 & 65\\\\\n",
       "\t 14 & 4  & 48 & 87 & 12\\\\\n",
       "\t 15 & 4  & 75 & 56 & 78\\\\\n",
       "\t 16 & 4  & 58 & 98 & 65\\\\\n",
       "\t 17 & 5  & 65 & 68 & 98\\\\\n",
       "\t 18 & 5  & 80 & 78 & 90\\\\\n",
       "\t 19 & 5  & 89 & 68 & 87\\\\\n",
       "\t 20 & 5  & 78 & 83 & 58\\\\\n",
       "\\end{tabular}\n"
      ],
      "text/markdown": [
       "\n",
       "| id | class | math | english | science |\n",
       "|---|---|---|---|---|\n",
       "|  1 | 1  | 50 | 98 | 50 |\n",
       "|  2 | 1  | 60 | 97 | 60 |\n",
       "|  3 | 1  | 45 | 86 | 78 |\n",
       "|  4 | 1  | 30 | 98 | 58 |\n",
       "|  5 | 2  | 25 | 80 | 65 |\n",
       "|  6 | 2  | 50 | 89 | 98 |\n",
       "|  7 | 2  | 80 | 90 | 45 |\n",
       "|  8 | 2  | 90 | 78 | 25 |\n",
       "|  9 | 3  | 20 | 98 | 15 |\n",
       "| 10 | 3  | 50 | 98 | 45 |\n",
       "| 11 | 3  | 65 | 65 | 65 |\n",
       "| 12 | 3  | 45 | 85 | 32 |\n",
       "| 13 | 4  | 46 | 98 | 65 |\n",
       "| 14 | 4  | 48 | 87 | 12 |\n",
       "| 15 | 4  | 75 | 56 | 78 |\n",
       "| 16 | 4  | 58 | 98 | 65 |\n",
       "| 17 | 5  | 65 | 68 | 98 |\n",
       "| 18 | 5  | 80 | 78 | 90 |\n",
       "| 19 | 5  | 89 | 68 | 87 |\n",
       "| 20 | 5  | 78 | 83 | 58 |\n",
       "\n"
      ],
      "text/plain": [
       "   id class math english science\n",
       "1   1 1     50   98      50     \n",
       "2   2 1     60   97      60     \n",
       "3   3 1     45   86      78     \n",
       "4   4 1     30   98      58     \n",
       "5   5 2     25   80      65     \n",
       "6   6 2     50   89      98     \n",
       "7   7 2     80   90      45     \n",
       "8   8 2     90   78      25     \n",
       "9   9 3     20   98      15     \n",
       "10 10 3     50   98      45     \n",
       "11 11 3     65   65      65     \n",
       "12 12 3     45   85      32     \n",
       "13 13 4     46   98      65     \n",
       "14 14 4     48   87      12     \n",
       "15 15 4     75   56      78     \n",
       "16 16 4     58   98      65     \n",
       "17 17 5     65   68      98     \n",
       "18 18 5     80   78      90     \n",
       "19 19 5     89   68      87     \n",
       "20 20 5     78   83      58     "
      ]
     },
     "metadata": {},
     "output_type": "display_data"
    }
   ],
   "source": [
    "#csv 파일 불러와 df_exam에 할당하기\n",
    "df_exam<-read.csv(\"./Rdata/csv_exam.csv\")\n",
    "df_exam"
   ]
  },
  {
   "cell_type": "code",
   "execution_count": 69,
   "metadata": {},
   "outputs": [
    {
     "data": {
      "text/html": [
       "<table>\n",
       "<thead><tr><th scope=col>english</th><th scope=col>math</th><th scope=col>class</th></tr></thead>\n",
       "<tbody>\n",
       "\t<tr><td>90 </td><td> 50</td><td>1  </td></tr>\n",
       "\t<tr><td>80 </td><td> 60</td><td>1  </td></tr>\n",
       "\t<tr><td>60 </td><td>100</td><td>2  </td></tr>\n",
       "\t<tr><td>70 </td><td> 20</td><td>2  </td></tr>\n",
       "</tbody>\n",
       "</table>\n"
      ],
      "text/latex": [
       "\\begin{tabular}{r|lll}\n",
       " english & math & class\\\\\n",
       "\\hline\n",
       "\t 90  &  50 & 1  \\\\\n",
       "\t 80  &  60 & 1  \\\\\n",
       "\t 60  & 100 & 2  \\\\\n",
       "\t 70  &  20 & 2  \\\\\n",
       "\\end{tabular}\n"
      ],
      "text/markdown": [
       "\n",
       "| english | math | class |\n",
       "|---|---|---|\n",
       "| 90  |  50 | 1   |\n",
       "| 80  |  60 | 1   |\n",
       "| 60  | 100 | 2   |\n",
       "| 70  |  20 | 2   |\n",
       "\n"
      ],
      "text/plain": [
       "  english math class\n",
       "1 90       50  1    \n",
       "2 80       60  1    \n",
       "3 60      100  2    \n",
       "4 70       20  2    "
      ]
     },
     "metadata": {},
     "output_type": "display_data"
    }
   ],
   "source": [
    "# Rda 파일 불러오기\n",
    "load(\"df_midterm.rda\")\n",
    "df_midterm"
   ]
  },
  {
   "cell_type": "markdown",
   "metadata": {},
   "source": [
    "## 정리하기"
   ]
  },
  {
   "cell_type": "code",
   "execution_count": 70,
   "metadata": {},
   "outputs": [
    {
     "data": {
      "text/html": [
       "<table>\n",
       "<thead><tr><th scope=col>english</th><th scope=col>math</th></tr></thead>\n",
       "<tbody>\n",
       "\t<tr><td>90 </td><td> 50</td></tr>\n",
       "\t<tr><td>80 </td><td> 60</td></tr>\n",
       "\t<tr><td>60 </td><td>100</td></tr>\n",
       "\t<tr><td>70 </td><td> 20</td></tr>\n",
       "</tbody>\n",
       "</table>\n"
      ],
      "text/latex": [
       "\\begin{tabular}{r|ll}\n",
       " english & math\\\\\n",
       "\\hline\n",
       "\t 90  &  50\\\\\n",
       "\t 80  &  60\\\\\n",
       "\t 60  & 100\\\\\n",
       "\t 70  &  20\\\\\n",
       "\\end{tabular}\n"
      ],
      "text/markdown": [
       "\n",
       "| english | math |\n",
       "|---|---|\n",
       "| 90  |  50 |\n",
       "| 80  |  60 |\n",
       "| 60  | 100 |\n",
       "| 70  |  20 |\n",
       "\n"
      ],
      "text/plain": [
       "  english math\n",
       "1 90       50 \n",
       "2 80       60 \n",
       "3 60      100 \n",
       "4 70       20 "
      ]
     },
     "metadata": {},
     "output_type": "display_data"
    }
   ],
   "source": [
    "# 1. 변수 만들기 , 데이터 프레임 만들기\n",
    " english <- c(90, 80, 60, 70)  # 영어 점수 변수 생성\n",
    " math <- c(50, 60, 100, 20)    # 수학 점수 변수 생성\n",
    " data.frame(english, math)     # 데이터 프레임 생성"
   ]
  },
  {
   "cell_type": "code",
   "execution_count": 74,
   "metadata": {},
   "outputs": [],
   "source": [
    "# 2. 외부 데이터 이용하기\n",
    "\n",
    "# 엑셀 파일\n",
    "library(readxl)                                          # readxl 패키지 로드\n",
    "df_exam <- read_excel(\"./Rdata/excel_exam.xlsx\")        # 엑셀 파일 불러오기"
   ]
  },
  {
   "cell_type": "code",
   "execution_count": 77,
   "metadata": {},
   "outputs": [],
   "source": [
    "# CSV 파일\n",
    "df_csv_exam <- read.csv(\"./Rdata/csv_exam.csv\") # CSV 파일 불러오기\n",
    "write.csv(df_midterm, file = \"df_midterm.csv\")  # CSV 파일로 저장하기"
   ]
  },
  {
   "cell_type": "code",
   "execution_count": 78,
   "metadata": {},
   "outputs": [],
   "source": [
    "# Rda 파일\n",
    "load(\"df_midterm.rda\")                          # Rda 파일 불러오기\n",
    "save(df_midterm, file = \"df_midterm.rda\")       # Rda 파일로 저장하기\n",
    " "
   ]
  },
  {
   "cell_type": "markdown",
   "metadata": {},
   "source": [
    "# 데이터 분석 기초!"
   ]
  },
  {
   "cell_type": "markdown",
   "metadata": {},
   "source": [
    "## 5-1. 데이터 파악하기"
   ]
  },
  {
   "cell_type": "markdown",
   "metadata": {},
   "source": [
    "### exam 데이터 파악하기"
   ]
  },
  {
   "cell_type": "markdown",
   "metadata": {},
   "source": [
    "#### 1. 데이터 준비"
   ]
  },
  {
   "cell_type": "code",
   "execution_count": 79,
   "metadata": {},
   "outputs": [],
   "source": [
    "exam<-read.csv(\"./Rdata/csv_exam.csv\")"
   ]
  },
  {
   "cell_type": "markdown",
   "metadata": {},
   "source": [
    "#### 2.데이터 앞부분 확인"
   ]
  },
  {
   "cell_type": "code",
   "execution_count": 82,
   "metadata": {},
   "outputs": [
    {
     "data": {
      "text/html": [
       "<table>\n",
       "<thead><tr><th scope=col>id</th><th scope=col>class</th><th scope=col>math</th><th scope=col>english</th><th scope=col>science</th></tr></thead>\n",
       "<tbody>\n",
       "\t<tr><td> 1</td><td>1 </td><td>50</td><td>98</td><td>50</td></tr>\n",
       "\t<tr><td> 2</td><td>1 </td><td>60</td><td>97</td><td>60</td></tr>\n",
       "\t<tr><td> 3</td><td>1 </td><td>45</td><td>86</td><td>78</td></tr>\n",
       "\t<tr><td> 4</td><td>1 </td><td>30</td><td>98</td><td>58</td></tr>\n",
       "\t<tr><td> 5</td><td>2 </td><td>25</td><td>80</td><td>65</td></tr>\n",
       "\t<tr><td> 6</td><td>2 </td><td>50</td><td>89</td><td>98</td></tr>\n",
       "\t<tr><td> 7</td><td>2 </td><td>80</td><td>90</td><td>45</td></tr>\n",
       "\t<tr><td> 8</td><td>2 </td><td>90</td><td>78</td><td>25</td></tr>\n",
       "\t<tr><td> 9</td><td>3 </td><td>20</td><td>98</td><td>15</td></tr>\n",
       "\t<tr><td>10</td><td>3 </td><td>50</td><td>98</td><td>45</td></tr>\n",
       "</tbody>\n",
       "</table>\n"
      ],
      "text/latex": [
       "\\begin{tabular}{r|lllll}\n",
       " id & class & math & english & science\\\\\n",
       "\\hline\n",
       "\t  1 & 1  & 50 & 98 & 50\\\\\n",
       "\t  2 & 1  & 60 & 97 & 60\\\\\n",
       "\t  3 & 1  & 45 & 86 & 78\\\\\n",
       "\t  4 & 1  & 30 & 98 & 58\\\\\n",
       "\t  5 & 2  & 25 & 80 & 65\\\\\n",
       "\t  6 & 2  & 50 & 89 & 98\\\\\n",
       "\t  7 & 2  & 80 & 90 & 45\\\\\n",
       "\t  8 & 2  & 90 & 78 & 25\\\\\n",
       "\t  9 & 3  & 20 & 98 & 15\\\\\n",
       "\t 10 & 3  & 50 & 98 & 45\\\\\n",
       "\\end{tabular}\n"
      ],
      "text/markdown": [
       "\n",
       "| id | class | math | english | science |\n",
       "|---|---|---|---|---|\n",
       "|  1 | 1  | 50 | 98 | 50 |\n",
       "|  2 | 1  | 60 | 97 | 60 |\n",
       "|  3 | 1  | 45 | 86 | 78 |\n",
       "|  4 | 1  | 30 | 98 | 58 |\n",
       "|  5 | 2  | 25 | 80 | 65 |\n",
       "|  6 | 2  | 50 | 89 | 98 |\n",
       "|  7 | 2  | 80 | 90 | 45 |\n",
       "|  8 | 2  | 90 | 78 | 25 |\n",
       "|  9 | 3  | 20 | 98 | 15 |\n",
       "| 10 | 3  | 50 | 98 | 45 |\n",
       "\n"
      ],
      "text/plain": [
       "   id class math english science\n",
       "1   1 1     50   98      50     \n",
       "2   2 1     60   97      60     \n",
       "3   3 1     45   86      78     \n",
       "4   4 1     30   98      58     \n",
       "5   5 2     25   80      65     \n",
       "6   6 2     50   89      98     \n",
       "7   7 2     80   90      45     \n",
       "8   8 2     90   78      25     \n",
       "9   9 3     20   98      15     \n",
       "10 10 3     50   98      45     "
      ]
     },
     "metadata": {},
     "output_type": "display_data"
    }
   ],
   "source": [
    "head(exam,10)"
   ]
  },
  {
   "cell_type": "markdown",
   "metadata": {},
   "source": [
    "#### 3. 데이터 뒷부분 확인"
   ]
  },
  {
   "cell_type": "code",
   "execution_count": 83,
   "metadata": {},
   "outputs": [
    {
     "data": {
      "text/html": [
       "<table>\n",
       "<thead><tr><th></th><th scope=col>id</th><th scope=col>class</th><th scope=col>math</th><th scope=col>english</th><th scope=col>science</th></tr></thead>\n",
       "<tbody>\n",
       "\t<tr><th scope=row>11</th><td>11</td><td>3 </td><td>65</td><td>65</td><td>65</td></tr>\n",
       "\t<tr><th scope=row>12</th><td>12</td><td>3 </td><td>45</td><td>85</td><td>32</td></tr>\n",
       "\t<tr><th scope=row>13</th><td>13</td><td>4 </td><td>46</td><td>98</td><td>65</td></tr>\n",
       "\t<tr><th scope=row>14</th><td>14</td><td>4 </td><td>48</td><td>87</td><td>12</td></tr>\n",
       "\t<tr><th scope=row>15</th><td>15</td><td>4 </td><td>75</td><td>56</td><td>78</td></tr>\n",
       "\t<tr><th scope=row>16</th><td>16</td><td>4 </td><td>58</td><td>98</td><td>65</td></tr>\n",
       "\t<tr><th scope=row>17</th><td>17</td><td>5 </td><td>65</td><td>68</td><td>98</td></tr>\n",
       "\t<tr><th scope=row>18</th><td>18</td><td>5 </td><td>80</td><td>78</td><td>90</td></tr>\n",
       "\t<tr><th scope=row>19</th><td>19</td><td>5 </td><td>89</td><td>68</td><td>87</td></tr>\n",
       "\t<tr><th scope=row>20</th><td>20</td><td>5 </td><td>78</td><td>83</td><td>58</td></tr>\n",
       "</tbody>\n",
       "</table>\n"
      ],
      "text/latex": [
       "\\begin{tabular}{r|lllll}\n",
       "  & id & class & math & english & science\\\\\n",
       "\\hline\n",
       "\t11 & 11 & 3  & 65 & 65 & 65\\\\\n",
       "\t12 & 12 & 3  & 45 & 85 & 32\\\\\n",
       "\t13 & 13 & 4  & 46 & 98 & 65\\\\\n",
       "\t14 & 14 & 4  & 48 & 87 & 12\\\\\n",
       "\t15 & 15 & 4  & 75 & 56 & 78\\\\\n",
       "\t16 & 16 & 4  & 58 & 98 & 65\\\\\n",
       "\t17 & 17 & 5  & 65 & 68 & 98\\\\\n",
       "\t18 & 18 & 5  & 80 & 78 & 90\\\\\n",
       "\t19 & 19 & 5  & 89 & 68 & 87\\\\\n",
       "\t20 & 20 & 5  & 78 & 83 & 58\\\\\n",
       "\\end{tabular}\n"
      ],
      "text/markdown": [
       "\n",
       "| <!--/--> | id | class | math | english | science |\n",
       "|---|---|---|---|---|---|\n",
       "| 11 | 11 | 3  | 65 | 65 | 65 |\n",
       "| 12 | 12 | 3  | 45 | 85 | 32 |\n",
       "| 13 | 13 | 4  | 46 | 98 | 65 |\n",
       "| 14 | 14 | 4  | 48 | 87 | 12 |\n",
       "| 15 | 15 | 4  | 75 | 56 | 78 |\n",
       "| 16 | 16 | 4  | 58 | 98 | 65 |\n",
       "| 17 | 17 | 5  | 65 | 68 | 98 |\n",
       "| 18 | 18 | 5  | 80 | 78 | 90 |\n",
       "| 19 | 19 | 5  | 89 | 68 | 87 |\n",
       "| 20 | 20 | 5  | 78 | 83 | 58 |\n",
       "\n"
      ],
      "text/plain": [
       "   id class math english science\n",
       "11 11 3     65   65      65     \n",
       "12 12 3     45   85      32     \n",
       "13 13 4     46   98      65     \n",
       "14 14 4     48   87      12     \n",
       "15 15 4     75   56      78     \n",
       "16 16 4     58   98      65     \n",
       "17 17 5     65   68      98     \n",
       "18 18 5     80   78      90     \n",
       "19 19 5     89   68      87     \n",
       "20 20 5     78   83      58     "
      ]
     },
     "metadata": {},
     "output_type": "display_data"
    }
   ],
   "source": [
    "tail(exam,10)"
   ]
  },
  {
   "cell_type": "markdown",
   "metadata": {},
   "source": [
    "#### 4. View() - 뷰어 창에서 데이터 확인하기 "
   ]
  },
  {
   "cell_type": "code",
   "execution_count": 84,
   "metadata": {},
   "outputs": [
    {
     "ename": "ERROR",
     "evalue": "Error in View(exam): 'View()' not yet supported in the Jupyter R kernel\n",
     "output_type": "error",
     "traceback": [
      "Error in View(exam): 'View()' not yet supported in the Jupyter R kernel\nTraceback:\n",
      "1. View(exam)",
      "2. stop(sQuote(\"View()\"), \" not yet supported in the Jupyter R kernel\")"
     ]
    }
   ],
   "source": [
    "#####################\n",
    "View(exam)"
   ]
  },
  {
   "cell_type": "markdown",
   "metadata": {},
   "source": [
    "#### 5. dim() - 몇 행 몇 열로 구성되는지 알아보기"
   ]
  },
  {
   "cell_type": "code",
   "execution_count": 85,
   "metadata": {},
   "outputs": [
    {
     "data": {
      "text/html": [
       "<ol class=list-inline>\n",
       "\t<li>20</li>\n",
       "\t<li>5</li>\n",
       "</ol>\n"
      ],
      "text/latex": [
       "\\begin{enumerate*}\n",
       "\\item 20\n",
       "\\item 5\n",
       "\\end{enumerate*}\n"
      ],
      "text/markdown": [
       "1. 20\n",
       "2. 5\n",
       "\n",
       "\n"
      ],
      "text/plain": [
       "[1] 20  5"
      ]
     },
     "metadata": {},
     "output_type": "display_data"
    }
   ],
   "source": [
    "dim(exam) #행,열 출력"
   ]
  },
  {
   "cell_type": "markdown",
   "metadata": {},
   "source": [
    "#### 6. str() - 속성 파악하기"
   ]
  },
  {
   "cell_type": "code",
   "execution_count": 86,
   "metadata": {},
   "outputs": [
    {
     "name": "stdout",
     "output_type": "stream",
     "text": [
      "'data.frame':\t20 obs. of  5 variables:\n",
      " $ id     : int  1 2 3 4 5 6 7 8 9 10 ...\n",
      " $ class  : int  1 1 1 1 2 2 2 2 3 3 ...\n",
      " $ math   : int  50 60 45 30 25 50 80 90 20 50 ...\n",
      " $ english: int  98 97 86 98 80 89 90 78 98 98 ...\n",
      " $ science: int  50 60 78 58 65 98 45 25 15 45 ...\n"
     ]
    }
   ],
   "source": [
    "str(exam) #데이터 속성 확인"
   ]
  },
  {
   "cell_type": "markdown",
   "metadata": {},
   "source": [
    "#### 7. summary() - 요약통계량 산출하기"
   ]
  },
  {
   "cell_type": "code",
   "execution_count": 90,
   "metadata": {},
   "outputs": [
    {
     "data": {
      "text/plain": [
       "       id            class        math          english        science     \n",
       " Min.   : 1.00   Min.   :1   Min.   :20.00   Min.   :56.0   Min.   :12.00  \n",
       " 1st Qu.: 5.75   1st Qu.:2   1st Qu.:45.75   1st Qu.:78.0   1st Qu.:45.00  \n",
       " Median :10.50   Median :3   Median :54.00   Median :86.5   Median :62.50  \n",
       " Mean   :10.50   Mean   :3   Mean   :57.45   Mean   :84.9   Mean   :59.45  \n",
       " 3rd Qu.:15.25   3rd Qu.:4   3rd Qu.:75.75   3rd Qu.:98.0   3rd Qu.:78.00  \n",
       " Max.   :20.00   Max.   :5   Max.   :90.00   Max.   :98.0   Max.   :98.00  "
      ]
     },
     "metadata": {},
     "output_type": "display_data"
    }
   ],
   "source": [
    "###############################summary에서는 무엇을 확인?\n",
    "summary(exam)"
   ]
  },
  {
   "cell_type": "markdown",
   "metadata": {},
   "source": [
    "### mpg 데이터 파악하기\n",
    "- ggplot패키지는 데이터프레임에서 데이터를 불러온다 -> 데이터프레임의 형태여야 한다"
   ]
  },
  {
   "cell_type": "code",
   "execution_count": 92,
   "metadata": {},
   "outputs": [],
   "source": [
    "# ggplo2의 mpg 데이터를 데이터 프레임 형태로 불러오기\n",
    "mpg<-as.data.frame(ggplot2::mpg)"
   ]
  },
  {
   "cell_type": "code",
   "execution_count": 93,
   "metadata": {},
   "outputs": [
    {
     "data": {
      "text/html": [
       "<table>\n",
       "<thead><tr><th scope=col>manufacturer</th><th scope=col>model</th><th scope=col>displ</th><th scope=col>year</th><th scope=col>cyl</th><th scope=col>trans</th><th scope=col>drv</th><th scope=col>cty</th><th scope=col>hwy</th><th scope=col>fl</th><th scope=col>class</th></tr></thead>\n",
       "<tbody>\n",
       "\t<tr><td>audi      </td><td>a4        </td><td>1.8       </td><td>1999      </td><td>4         </td><td>auto(l5)  </td><td>f         </td><td>18        </td><td>29        </td><td>p         </td><td>compact   </td></tr>\n",
       "\t<tr><td>audi      </td><td>a4        </td><td>1.8       </td><td>1999      </td><td>4         </td><td>manual(m5)</td><td>f         </td><td>21        </td><td>29        </td><td>p         </td><td>compact   </td></tr>\n",
       "\t<tr><td>audi      </td><td>a4        </td><td>2.0       </td><td>2008      </td><td>4         </td><td>manual(m6)</td><td>f         </td><td>20        </td><td>31        </td><td>p         </td><td>compact   </td></tr>\n",
       "\t<tr><td>audi      </td><td>a4        </td><td>2.0       </td><td>2008      </td><td>4         </td><td>auto(av)  </td><td>f         </td><td>21        </td><td>30        </td><td>p         </td><td>compact   </td></tr>\n",
       "\t<tr><td>audi      </td><td>a4        </td><td>2.8       </td><td>1999      </td><td>6         </td><td>auto(l5)  </td><td>f         </td><td>16        </td><td>26        </td><td>p         </td><td>compact   </td></tr>\n",
       "\t<tr><td>audi      </td><td>a4        </td><td>2.8       </td><td>1999      </td><td>6         </td><td>manual(m5)</td><td>f         </td><td>18        </td><td>26        </td><td>p         </td><td>compact   </td></tr>\n",
       "</tbody>\n",
       "</table>\n"
      ],
      "text/latex": [
       "\\begin{tabular}{r|lllllllllll}\n",
       " manufacturer & model & displ & year & cyl & trans & drv & cty & hwy & fl & class\\\\\n",
       "\\hline\n",
       "\t audi       & a4         & 1.8        & 1999       & 4          & auto(l5)   & f          & 18         & 29         & p          & compact   \\\\\n",
       "\t audi       & a4         & 1.8        & 1999       & 4          & manual(m5) & f          & 21         & 29         & p          & compact   \\\\\n",
       "\t audi       & a4         & 2.0        & 2008       & 4          & manual(m6) & f          & 20         & 31         & p          & compact   \\\\\n",
       "\t audi       & a4         & 2.0        & 2008       & 4          & auto(av)   & f          & 21         & 30         & p          & compact   \\\\\n",
       "\t audi       & a4         & 2.8        & 1999       & 6          & auto(l5)   & f          & 16         & 26         & p          & compact   \\\\\n",
       "\t audi       & a4         & 2.8        & 1999       & 6          & manual(m5) & f          & 18         & 26         & p          & compact   \\\\\n",
       "\\end{tabular}\n"
      ],
      "text/markdown": [
       "\n",
       "| manufacturer | model | displ | year | cyl | trans | drv | cty | hwy | fl | class |\n",
       "|---|---|---|---|---|---|---|---|---|---|---|\n",
       "| audi       | a4         | 1.8        | 1999       | 4          | auto(l5)   | f          | 18         | 29         | p          | compact    |\n",
       "| audi       | a4         | 1.8        | 1999       | 4          | manual(m5) | f          | 21         | 29         | p          | compact    |\n",
       "| audi       | a4         | 2.0        | 2008       | 4          | manual(m6) | f          | 20         | 31         | p          | compact    |\n",
       "| audi       | a4         | 2.0        | 2008       | 4          | auto(av)   | f          | 21         | 30         | p          | compact    |\n",
       "| audi       | a4         | 2.8        | 1999       | 6          | auto(l5)   | f          | 16         | 26         | p          | compact    |\n",
       "| audi       | a4         | 2.8        | 1999       | 6          | manual(m5) | f          | 18         | 26         | p          | compact    |\n",
       "\n"
      ],
      "text/plain": [
       "  manufacturer model displ year cyl trans      drv cty hwy fl class  \n",
       "1 audi         a4    1.8   1999 4   auto(l5)   f   18  29  p  compact\n",
       "2 audi         a4    1.8   1999 4   manual(m5) f   21  29  p  compact\n",
       "3 audi         a4    2.0   2008 4   manual(m6) f   20  31  p  compact\n",
       "4 audi         a4    2.0   2008 4   auto(av)   f   21  30  p  compact\n",
       "5 audi         a4    2.8   1999 6   auto(l5)   f   16  26  p  compact\n",
       "6 audi         a4    2.8   1999 6   manual(m5) f   18  26  p  compact"
      ]
     },
     "metadata": {},
     "output_type": "display_data"
    }
   ],
   "source": [
    "head(mpg) #Raw 데이터 앞부분 확인"
   ]
  },
  {
   "cell_type": "code",
   "execution_count": 94,
   "metadata": {},
   "outputs": [
    {
     "data": {
      "text/html": [
       "<table>\n",
       "<thead><tr><th></th><th scope=col>manufacturer</th><th scope=col>model</th><th scope=col>displ</th><th scope=col>year</th><th scope=col>cyl</th><th scope=col>trans</th><th scope=col>drv</th><th scope=col>cty</th><th scope=col>hwy</th><th scope=col>fl</th><th scope=col>class</th></tr></thead>\n",
       "<tbody>\n",
       "\t<tr><th scope=row>229</th><td>volkswagen</td><td>passat    </td><td>1.8       </td><td>1999      </td><td>4         </td><td>auto(l5)  </td><td>f         </td><td>18        </td><td>29        </td><td>p         </td><td>midsize   </td></tr>\n",
       "\t<tr><th scope=row>230</th><td>volkswagen</td><td>passat    </td><td>2.0       </td><td>2008      </td><td>4         </td><td>auto(s6)  </td><td>f         </td><td>19        </td><td>28        </td><td>p         </td><td>midsize   </td></tr>\n",
       "\t<tr><th scope=row>231</th><td>volkswagen</td><td>passat    </td><td>2.0       </td><td>2008      </td><td>4         </td><td>manual(m6)</td><td>f         </td><td>21        </td><td>29        </td><td>p         </td><td>midsize   </td></tr>\n",
       "\t<tr><th scope=row>232</th><td>volkswagen</td><td>passat    </td><td>2.8       </td><td>1999      </td><td>6         </td><td>auto(l5)  </td><td>f         </td><td>16        </td><td>26        </td><td>p         </td><td>midsize   </td></tr>\n",
       "\t<tr><th scope=row>233</th><td>volkswagen</td><td>passat    </td><td>2.8       </td><td>1999      </td><td>6         </td><td>manual(m5)</td><td>f         </td><td>18        </td><td>26        </td><td>p         </td><td>midsize   </td></tr>\n",
       "\t<tr><th scope=row>234</th><td>volkswagen</td><td>passat    </td><td>3.6       </td><td>2008      </td><td>6         </td><td>auto(s6)  </td><td>f         </td><td>17        </td><td>26        </td><td>p         </td><td>midsize   </td></tr>\n",
       "</tbody>\n",
       "</table>\n"
      ],
      "text/latex": [
       "\\begin{tabular}{r|lllllllllll}\n",
       "  & manufacturer & model & displ & year & cyl & trans & drv & cty & hwy & fl & class\\\\\n",
       "\\hline\n",
       "\t229 & volkswagen & passat     & 1.8        & 1999       & 4          & auto(l5)   & f          & 18         & 29         & p          & midsize   \\\\\n",
       "\t230 & volkswagen & passat     & 2.0        & 2008       & 4          & auto(s6)   & f          & 19         & 28         & p          & midsize   \\\\\n",
       "\t231 & volkswagen & passat     & 2.0        & 2008       & 4          & manual(m6) & f          & 21         & 29         & p          & midsize   \\\\\n",
       "\t232 & volkswagen & passat     & 2.8        & 1999       & 6          & auto(l5)   & f          & 16         & 26         & p          & midsize   \\\\\n",
       "\t233 & volkswagen & passat     & 2.8        & 1999       & 6          & manual(m5) & f          & 18         & 26         & p          & midsize   \\\\\n",
       "\t234 & volkswagen & passat     & 3.6        & 2008       & 6          & auto(s6)   & f          & 17         & 26         & p          & midsize   \\\\\n",
       "\\end{tabular}\n"
      ],
      "text/markdown": [
       "\n",
       "| <!--/--> | manufacturer | model | displ | year | cyl | trans | drv | cty | hwy | fl | class |\n",
       "|---|---|---|---|---|---|---|---|---|---|---|---|\n",
       "| 229 | volkswagen | passat     | 1.8        | 1999       | 4          | auto(l5)   | f          | 18         | 29         | p          | midsize    |\n",
       "| 230 | volkswagen | passat     | 2.0        | 2008       | 4          | auto(s6)   | f          | 19         | 28         | p          | midsize    |\n",
       "| 231 | volkswagen | passat     | 2.0        | 2008       | 4          | manual(m6) | f          | 21         | 29         | p          | midsize    |\n",
       "| 232 | volkswagen | passat     | 2.8        | 1999       | 6          | auto(l5)   | f          | 16         | 26         | p          | midsize    |\n",
       "| 233 | volkswagen | passat     | 2.8        | 1999       | 6          | manual(m5) | f          | 18         | 26         | p          | midsize    |\n",
       "| 234 | volkswagen | passat     | 3.6        | 2008       | 6          | auto(s6)   | f          | 17         | 26         | p          | midsize    |\n",
       "\n"
      ],
      "text/plain": [
       "    manufacturer model  displ year cyl trans      drv cty hwy fl class  \n",
       "229 volkswagen   passat 1.8   1999 4   auto(l5)   f   18  29  p  midsize\n",
       "230 volkswagen   passat 2.0   2008 4   auto(s6)   f   19  28  p  midsize\n",
       "231 volkswagen   passat 2.0   2008 4   manual(m6) f   21  29  p  midsize\n",
       "232 volkswagen   passat 2.8   1999 6   auto(l5)   f   16  26  p  midsize\n",
       "233 volkswagen   passat 2.8   1999 6   manual(m5) f   18  26  p  midsize\n",
       "234 volkswagen   passat 3.6   2008 6   auto(s6)   f   17  26  p  midsize"
      ]
     },
     "metadata": {},
     "output_type": "display_data"
    }
   ],
   "source": [
    "tail(mpg) #Raw 데이터 뒷부분 확인"
   ]
  },
  {
   "cell_type": "code",
   "execution_count": 95,
   "metadata": {},
   "outputs": [
    {
     "ename": "ERROR",
     "evalue": "Error in view(mpg): 함수 \"view\"를 찾을 수 없습니다\n",
     "output_type": "error",
     "traceback": [
      "Error in view(mpg): 함수 \"view\"를 찾을 수 없습니다\nTraceback:\n"
     ]
    }
   ],
   "source": [
    "view(mpg) #View창 확인"
   ]
  },
  {
   "cell_type": "code",
   "execution_count": 96,
   "metadata": {},
   "outputs": [
    {
     "data": {
      "text/html": [
       "<ol class=list-inline>\n",
       "\t<li>234</li>\n",
       "\t<li>11</li>\n",
       "</ol>\n"
      ],
      "text/latex": [
       "\\begin{enumerate*}\n",
       "\\item 234\n",
       "\\item 11\n",
       "\\end{enumerate*}\n"
      ],
      "text/markdown": [
       "1. 234\n",
       "2. 11\n",
       "\n",
       "\n"
      ],
      "text/plain": [
       "[1] 234  11"
      ]
     },
     "metadata": {},
     "output_type": "display_data"
    }
   ],
   "source": [
    "dim(mpg) #행,열 출력"
   ]
  },
  {
   "cell_type": "code",
   "execution_count": 97,
   "metadata": {},
   "outputs": [
    {
     "name": "stdout",
     "output_type": "stream",
     "text": [
      "'data.frame':\t234 obs. of  11 variables:\n",
      " $ manufacturer: chr  \"audi\" \"audi\" \"audi\" \"audi\" ...\n",
      " $ model       : chr  \"a4\" \"a4\" \"a4\" \"a4\" ...\n",
      " $ displ       : num  1.8 1.8 2 2 2.8 2.8 3.1 1.8 1.8 2 ...\n",
      " $ year        : int  1999 1999 2008 2008 1999 1999 2008 1999 1999 2008 ...\n",
      " $ cyl         : int  4 4 4 4 6 6 6 4 4 4 ...\n",
      " $ trans       : chr  \"auto(l5)\" \"manual(m5)\" \"manual(m6)\" \"auto(av)\" ...\n",
      " $ drv         : chr  \"f\" \"f\" \"f\" \"f\" ...\n",
      " $ cty         : int  18 21 20 21 16 18 18 18 16 20 ...\n",
      " $ hwy         : int  29 29 31 30 26 26 27 26 25 28 ...\n",
      " $ fl          : chr  \"p\" \"p\" \"p\" \"p\" ...\n",
      " $ class       : chr  \"compact\" \"compact\" \"compact\" \"compact\" ...\n"
     ]
    }
   ],
   "source": [
    "str(mpg) # 데이터 속성 확인"
   ]
  },
  {
   "cell_type": "code",
   "execution_count": 98,
   "metadata": {},
   "outputs": [
    {
     "data": {
      "text/plain": [
       " manufacturer          model               displ            year     \n",
       " Length:234         Length:234         Min.   :1.600   Min.   :1999  \n",
       " Class :character   Class :character   1st Qu.:2.400   1st Qu.:1999  \n",
       " Mode  :character   Mode  :character   Median :3.300   Median :2004  \n",
       "                                       Mean   :3.472   Mean   :2004  \n",
       "                                       3rd Qu.:4.600   3rd Qu.:2008  \n",
       "                                       Max.   :7.000   Max.   :2008  \n",
       "      cyl           trans               drv                 cty       \n",
       " Min.   :4.000   Length:234         Length:234         Min.   : 9.00  \n",
       " 1st Qu.:4.000   Class :character   Class :character   1st Qu.:14.00  \n",
       " Median :6.000   Mode  :character   Mode  :character   Median :17.00  \n",
       " Mean   :5.889                                         Mean   :16.86  \n",
       " 3rd Qu.:8.000                                         3rd Qu.:19.00  \n",
       " Max.   :8.000                                         Max.   :35.00  \n",
       "      hwy             fl               class          \n",
       " Min.   :12.00   Length:234         Length:234        \n",
       " 1st Qu.:18.00   Class :character   Class :character  \n",
       " Median :24.00   Mode  :character   Mode  :character  \n",
       " Mean   :23.44                                        \n",
       " 3rd Qu.:27.00                                        \n",
       " Max.   :44.00                                        "
      ]
     },
     "metadata": {},
     "output_type": "display_data"
    }
   ],
   "source": [
    "summary(mpg) #요약통계량 출력"
   ]
  },
  {
   "cell_type": "markdown",
   "metadata": {},
   "source": [
    "## 5-2. 데이터 수정하기 - 변수명 바꾸기"
   ]
  },
  {
   "cell_type": "markdown",
   "metadata": {},
   "source": [
    "### 1. dplyr 패키지 설치 & 로드"
   ]
  },
  {
   "cell_type": "code",
   "execution_count": 61,
   "metadata": {},
   "outputs": [
    {
     "name": "stderr",
     "output_type": "stream",
     "text": [
      "Installing package into 'C:/Users/admin/Documents/R/win-library/3.6'\n",
      "(as 'lib' is unspecified)\n"
     ]
    },
    {
     "name": "stdout",
     "output_type": "stream",
     "text": [
      "package 'Rcpp' successfully unpacked and MD5 sums checked\n"
     ]
    },
    {
     "name": "stderr",
     "output_type": "stream",
     "text": [
      "Warning message:\n",
      "\"cannot remove prior installation of package 'Rcpp'\"Warning message in file.copy(savedcopy, lib, recursive = TRUE):\n",
      "\"C:\\Users\\admin\\Documents\\R\\win-library\\3.6\\00LOCK\\Rcpp\\libs\\x64\\Rcpp.dll를 C:\\Users\\admin\\Documents\\R\\win-library\\3.6\\Rcpp\\libs\\x64\\Rcpp.dll로 복사하는데 문제가 발생했습니다: Permission denied\"Warning message:\n",
      "\"restored 'Rcpp'\""
     ]
    },
    {
     "name": "stdout",
     "output_type": "stream",
     "text": [
      "\n",
      "The downloaded binary packages are in\n",
      "\tC:\\Users\\admin\\AppData\\Local\\Temp\\RtmpozU4KD\\downloaded_packages\n"
     ]
    }
   ],
   "source": [
    "install.packages('Rcpp')# 주피터에서 사용하려면 Rcpp를 먼저 설치한다"
   ]
  },
  {
   "cell_type": "code",
   "execution_count": 62,
   "metadata": {},
   "outputs": [
    {
     "name": "stderr",
     "output_type": "stream",
     "text": [
      "Installing package into 'C:/Users/admin/Documents/R/win-library/3.6'\n",
      "(as 'lib' is unspecified)\n",
      "also installing the dependencies 'purrr', 'tidyselect', 'BH', 'plogr'\n",
      "\n"
     ]
    },
    {
     "name": "stdout",
     "output_type": "stream",
     "text": [
      "package 'purrr' successfully unpacked and MD5 sums checked\n",
      "package 'tidyselect' successfully unpacked and MD5 sums checked\n",
      "package 'BH' successfully unpacked and MD5 sums checked\n",
      "package 'plogr' successfully unpacked and MD5 sums checked\n",
      "package 'dplyr' successfully unpacked and MD5 sums checked\n",
      "\n",
      "The downloaded binary packages are in\n",
      "\tC:\\Users\\admin\\AppData\\Local\\Temp\\RtmpozU4KD\\downloaded_packages\n"
     ]
    }
   ],
   "source": [
    "install.packages(\"dplyr\") #dplyr 설치"
   ]
  },
  {
   "cell_type": "code",
   "execution_count": 63,
   "metadata": {},
   "outputs": [
    {
     "name": "stderr",
     "output_type": "stream",
     "text": [
      "Warning message:\n",
      "\"package 'dplyr' was built under R version 3.6.3\"\n",
      "Attaching package: 'dplyr'\n",
      "\n",
      "The following object is masked from 'package:ggplot2':\n",
      "\n",
      "    vars\n",
      "\n",
      "The following objects are masked from 'package:stats':\n",
      "\n",
      "    filter, lag\n",
      "\n",
      "The following objects are masked from 'package:base':\n",
      "\n",
      "    intersect, setdiff, setequal, union\n",
      "\n"
     ]
    }
   ],
   "source": [
    "library(dplyr) #dplyr 로드"
   ]
  },
  {
   "cell_type": "markdown",
   "metadata": {},
   "source": [
    "### 2-1. 데이터 프레임 생성"
   ]
  },
  {
   "cell_type": "code",
   "execution_count": 99,
   "metadata": {},
   "outputs": [
    {
     "data": {
      "text/html": [
       "<table>\n",
       "<thead><tr><th scope=col>var1</th><th scope=col>var2</th></tr></thead>\n",
       "<tbody>\n",
       "\t<tr><td>1</td><td>2</td></tr>\n",
       "\t<tr><td>2</td><td>3</td></tr>\n",
       "\t<tr><td>1</td><td>2</td></tr>\n",
       "</tbody>\n",
       "</table>\n"
      ],
      "text/latex": [
       "\\begin{tabular}{r|ll}\n",
       " var1 & var2\\\\\n",
       "\\hline\n",
       "\t 1 & 2\\\\\n",
       "\t 2 & 3\\\\\n",
       "\t 1 & 2\\\\\n",
       "\\end{tabular}\n"
      ],
      "text/markdown": [
       "\n",
       "| var1 | var2 |\n",
       "|---|---|\n",
       "| 1 | 2 |\n",
       "| 2 | 3 |\n",
       "| 1 | 2 |\n",
       "\n"
      ],
      "text/plain": [
       "  var1 var2\n",
       "1 1    2   \n",
       "2 2    3   \n",
       "3 1    2   "
      ]
     },
     "metadata": {},
     "output_type": "display_data"
    }
   ],
   "source": [
    "df_raw<-data.frame(var1=c(1,2,1),\n",
    "                  var2=c(2,3,2))\n",
    "df_raw"
   ]
  },
  {
   "cell_type": "markdown",
   "metadata": {},
   "source": [
    "### 2-2. 데이터 프레임 복사본 만들기"
   ]
  },
  {
   "cell_type": "code",
   "execution_count": 101,
   "metadata": {},
   "outputs": [
    {
     "data": {
      "text/html": [
       "<table>\n",
       "<thead><tr><th scope=col>var1</th><th scope=col>var2</th></tr></thead>\n",
       "<tbody>\n",
       "\t<tr><td>1</td><td>2</td></tr>\n",
       "\t<tr><td>2</td><td>3</td></tr>\n",
       "\t<tr><td>1</td><td>2</td></tr>\n",
       "</tbody>\n",
       "</table>\n"
      ],
      "text/latex": [
       "\\begin{tabular}{r|ll}\n",
       " var1 & var2\\\\\n",
       "\\hline\n",
       "\t 1 & 2\\\\\n",
       "\t 2 & 3\\\\\n",
       "\t 1 & 2\\\\\n",
       "\\end{tabular}\n"
      ],
      "text/markdown": [
       "\n",
       "| var1 | var2 |\n",
       "|---|---|\n",
       "| 1 | 2 |\n",
       "| 2 | 3 |\n",
       "| 1 | 2 |\n",
       "\n"
      ],
      "text/plain": [
       "  var1 var2\n",
       "1 1    2   \n",
       "2 2    3   \n",
       "3 1    2   "
      ]
     },
     "metadata": {},
     "output_type": "display_data"
    }
   ],
   "source": [
    "df_new<-df_raw #복사본 생성\n",
    "df_new         #본사본 출력"
   ]
  },
  {
   "cell_type": "markdown",
   "metadata": {},
   "source": [
    "### 2-3. 변수명 바꾸기"
   ]
  },
  {
   "cell_type": "code",
   "execution_count": 102,
   "metadata": {},
   "outputs": [
    {
     "data": {
      "text/html": [
       "<table>\n",
       "<thead><tr><th scope=col>var1</th><th scope=col>v2</th></tr></thead>\n",
       "<tbody>\n",
       "\t<tr><td>1</td><td>2</td></tr>\n",
       "\t<tr><td>2</td><td>3</td></tr>\n",
       "\t<tr><td>1</td><td>2</td></tr>\n",
       "</tbody>\n",
       "</table>\n"
      ],
      "text/latex": [
       "\\begin{tabular}{r|ll}\n",
       " var1 & v2\\\\\n",
       "\\hline\n",
       "\t 1 & 2\\\\\n",
       "\t 2 & 3\\\\\n",
       "\t 1 & 2\\\\\n",
       "\\end{tabular}\n"
      ],
      "text/markdown": [
       "\n",
       "| var1 | v2 |\n",
       "|---|---|\n",
       "| 1 | 2 |\n",
       "| 2 | 3 |\n",
       "| 1 | 2 |\n",
       "\n"
      ],
      "text/plain": [
       "  var1 v2\n",
       "1 1    2 \n",
       "2 2    3 \n",
       "3 1    2 "
      ]
     },
     "metadata": {},
     "output_type": "display_data"
    }
   ],
   "source": [
    "# 주의! rename()에 '새 변수명' = '기존 변수명' 순서로 입력!!!\n",
    "df_new<-rename(df_new,v2 = var2) #df_new의 var2의 이름을 v2로 변경\n",
    "df_new"
   ]
  },
  {
   "cell_type": "markdown",
   "metadata": {},
   "source": [
    "### 2-4. 수정 전후 비교"
   ]
  },
  {
   "cell_type": "code",
   "execution_count": 103,
   "metadata": {},
   "outputs": [
    {
     "data": {
      "text/html": [
       "<table>\n",
       "<thead><tr><th scope=col>var1</th><th scope=col>var2</th></tr></thead>\n",
       "<tbody>\n",
       "\t<tr><td>1</td><td>2</td></tr>\n",
       "\t<tr><td>2</td><td>3</td></tr>\n",
       "\t<tr><td>1</td><td>2</td></tr>\n",
       "</tbody>\n",
       "</table>\n"
      ],
      "text/latex": [
       "\\begin{tabular}{r|ll}\n",
       " var1 & var2\\\\\n",
       "\\hline\n",
       "\t 1 & 2\\\\\n",
       "\t 2 & 3\\\\\n",
       "\t 1 & 2\\\\\n",
       "\\end{tabular}\n"
      ],
      "text/markdown": [
       "\n",
       "| var1 | var2 |\n",
       "|---|---|\n",
       "| 1 | 2 |\n",
       "| 2 | 3 |\n",
       "| 1 | 2 |\n",
       "\n"
      ],
      "text/plain": [
       "  var1 var2\n",
       "1 1    2   \n",
       "2 2    3   \n",
       "3 1    2   "
      ]
     },
     "metadata": {},
     "output_type": "display_data"
    }
   ],
   "source": [
    "df_raw"
   ]
  },
  {
   "cell_type": "code",
   "execution_count": 104,
   "metadata": {},
   "outputs": [
    {
     "data": {
      "text/html": [
       "<table>\n",
       "<thead><tr><th scope=col>var1</th><th scope=col>v2</th></tr></thead>\n",
       "<tbody>\n",
       "\t<tr><td>1</td><td>2</td></tr>\n",
       "\t<tr><td>2</td><td>3</td></tr>\n",
       "\t<tr><td>1</td><td>2</td></tr>\n",
       "</tbody>\n",
       "</table>\n"
      ],
      "text/latex": [
       "\\begin{tabular}{r|ll}\n",
       " var1 & v2\\\\\n",
       "\\hline\n",
       "\t 1 & 2\\\\\n",
       "\t 2 & 3\\\\\n",
       "\t 1 & 2\\\\\n",
       "\\end{tabular}\n"
      ],
      "text/markdown": [
       "\n",
       "| var1 | v2 |\n",
       "|---|---|\n",
       "| 1 | 2 |\n",
       "| 2 | 3 |\n",
       "| 1 | 2 |\n",
       "\n"
      ],
      "text/plain": [
       "  var1 v2\n",
       "1 1    2 \n",
       "2 2    3 \n",
       "3 1    2 "
      ]
     },
     "metadata": {},
     "output_type": "display_data"
    }
   ],
   "source": [
    "df_new"
   ]
  },
  {
   "cell_type": "code",
   "execution_count": 105,
   "metadata": {},
   "outputs": [
    {
     "data": {
      "text/html": [
       "<table>\n",
       "<thead><tr><th scope=col>v1</th><th scope=col>v2</th></tr></thead>\n",
       "<tbody>\n",
       "\t<tr><td>1</td><td>2</td></tr>\n",
       "\t<tr><td>2</td><td>3</td></tr>\n",
       "\t<tr><td>1</td><td>2</td></tr>\n",
       "</tbody>\n",
       "</table>\n"
      ],
      "text/latex": [
       "\\begin{tabular}{r|ll}\n",
       " v1 & v2\\\\\n",
       "\\hline\n",
       "\t 1 & 2\\\\\n",
       "\t 2 & 3\\\\\n",
       "\t 1 & 2\\\\\n",
       "\\end{tabular}\n"
      ],
      "text/markdown": [
       "\n",
       "| v1 | v2 |\n",
       "|---|---|\n",
       "| 1 | 2 |\n",
       "| 2 | 3 |\n",
       "| 1 | 2 |\n",
       "\n"
      ],
      "text/plain": [
       "  v1 v2\n",
       "1 1  2 \n",
       "2 2  3 \n",
       "3 1  2 "
      ]
     },
     "metadata": {},
     "output_type": "display_data"
    }
   ],
   "source": [
    "df_new<-rename(df_new, v1 = var1)\n",
    "df_new"
   ]
  },
  {
   "cell_type": "markdown",
   "metadata": {},
   "source": [
    "### 혼자서 해보기\n",
    "\n",
    "mpg 데이터의 변수명은 긴 단어를 짧게 줄인 축약어로 되어있습니다. cty 변수는 도시 연비, hwy 변수는 고속도로 연비를 의미합니다. 변수명을 이해하기 쉬운 단어로 바꾸려고 합니다. mpg 데이터를 이용해서 아래 문제를 해결해 보세요. \n",
    "- Q1. ggplot2 패키지의 mpg 데이터를 사용할 수 있도록 불러온 뒤 복사본을 만드세요.\n",
    "- Q2. 복사본 데이터를 이용해서 cty는 city로, hwy는 highway로 변수명을 수정하세요. \n",
    "- Q3. 데이터 일부를 출력해서 변수명이 바뀌었는지 확인해 보세요. 아래와 같은 결과물이 출력되어야 합니다."
   ]
  },
  {
   "cell_type": "code",
   "execution_count": 116,
   "metadata": {},
   "outputs": [
    {
     "data": {
      "text/html": [
       "<table>\n",
       "<thead><tr><th scope=col>manufacturer</th><th scope=col>model</th><th scope=col>displ</th><th scope=col>year</th><th scope=col>cyl</th><th scope=col>trans</th><th scope=col>drv</th><th scope=col>cty</th><th scope=col>hwy</th><th scope=col>fl</th><th scope=col>class</th></tr></thead>\n",
       "<tbody>\n",
       "\t<tr><td>audi      </td><td>a4        </td><td>1.8       </td><td>1999      </td><td>4         </td><td>auto(l5)  </td><td>f         </td><td>18        </td><td>29        </td><td>p         </td><td>compact   </td></tr>\n",
       "\t<tr><td>audi      </td><td>a4        </td><td>1.8       </td><td>1999      </td><td>4         </td><td>manual(m5)</td><td>f         </td><td>21        </td><td>29        </td><td>p         </td><td>compact   </td></tr>\n",
       "\t<tr><td>audi      </td><td>a4        </td><td>2.0       </td><td>2008      </td><td>4         </td><td>manual(m6)</td><td>f         </td><td>20        </td><td>31        </td><td>p         </td><td>compact   </td></tr>\n",
       "\t<tr><td>audi      </td><td>a4        </td><td>2.0       </td><td>2008      </td><td>4         </td><td>auto(av)  </td><td>f         </td><td>21        </td><td>30        </td><td>p         </td><td>compact   </td></tr>\n",
       "\t<tr><td>audi      </td><td>a4        </td><td>2.8       </td><td>1999      </td><td>6         </td><td>auto(l5)  </td><td>f         </td><td>16        </td><td>26        </td><td>p         </td><td>compact   </td></tr>\n",
       "\t<tr><td>audi      </td><td>a4        </td><td>2.8       </td><td>1999      </td><td>6         </td><td>manual(m5)</td><td>f         </td><td>18        </td><td>26        </td><td>p         </td><td>compact   </td></tr>\n",
       "\t<tr><td>audi      </td><td>a4        </td><td>3.1       </td><td>2008      </td><td>6         </td><td>auto(av)  </td><td>f         </td><td>18        </td><td>27        </td><td>p         </td><td>compact   </td></tr>\n",
       "\t<tr><td>audi      </td><td>a4 quattro</td><td>1.8       </td><td>1999      </td><td>4         </td><td>manual(m5)</td><td>4         </td><td>18        </td><td>26        </td><td>p         </td><td>compact   </td></tr>\n",
       "\t<tr><td>audi      </td><td>a4 quattro</td><td>1.8       </td><td>1999      </td><td>4         </td><td>auto(l5)  </td><td>4         </td><td>16        </td><td>25        </td><td>p         </td><td>compact   </td></tr>\n",
       "\t<tr><td>audi      </td><td>a4 quattro</td><td>2.0       </td><td>2008      </td><td>4         </td><td>manual(m6)</td><td>4         </td><td>20        </td><td>28        </td><td>p         </td><td>compact   </td></tr>\n",
       "</tbody>\n",
       "</table>\n"
      ],
      "text/latex": [
       "\\begin{tabular}{r|lllllllllll}\n",
       " manufacturer & model & displ & year & cyl & trans & drv & cty & hwy & fl & class\\\\\n",
       "\\hline\n",
       "\t audi       & a4         & 1.8        & 1999       & 4          & auto(l5)   & f          & 18         & 29         & p          & compact   \\\\\n",
       "\t audi       & a4         & 1.8        & 1999       & 4          & manual(m5) & f          & 21         & 29         & p          & compact   \\\\\n",
       "\t audi       & a4         & 2.0        & 2008       & 4          & manual(m6) & f          & 20         & 31         & p          & compact   \\\\\n",
       "\t audi       & a4         & 2.0        & 2008       & 4          & auto(av)   & f          & 21         & 30         & p          & compact   \\\\\n",
       "\t audi       & a4         & 2.8        & 1999       & 6          & auto(l5)   & f          & 16         & 26         & p          & compact   \\\\\n",
       "\t audi       & a4         & 2.8        & 1999       & 6          & manual(m5) & f          & 18         & 26         & p          & compact   \\\\\n",
       "\t audi       & a4         & 3.1        & 2008       & 6          & auto(av)   & f          & 18         & 27         & p          & compact   \\\\\n",
       "\t audi       & a4 quattro & 1.8        & 1999       & 4          & manual(m5) & 4          & 18         & 26         & p          & compact   \\\\\n",
       "\t audi       & a4 quattro & 1.8        & 1999       & 4          & auto(l5)   & 4          & 16         & 25         & p          & compact   \\\\\n",
       "\t audi       & a4 quattro & 2.0        & 2008       & 4          & manual(m6) & 4          & 20         & 28         & p          & compact   \\\\\n",
       "\\end{tabular}\n"
      ],
      "text/markdown": [
       "\n",
       "| manufacturer | model | displ | year | cyl | trans | drv | cty | hwy | fl | class |\n",
       "|---|---|---|---|---|---|---|---|---|---|---|\n",
       "| audi       | a4         | 1.8        | 1999       | 4          | auto(l5)   | f          | 18         | 29         | p          | compact    |\n",
       "| audi       | a4         | 1.8        | 1999       | 4          | manual(m5) | f          | 21         | 29         | p          | compact    |\n",
       "| audi       | a4         | 2.0        | 2008       | 4          | manual(m6) | f          | 20         | 31         | p          | compact    |\n",
       "| audi       | a4         | 2.0        | 2008       | 4          | auto(av)   | f          | 21         | 30         | p          | compact    |\n",
       "| audi       | a4         | 2.8        | 1999       | 6          | auto(l5)   | f          | 16         | 26         | p          | compact    |\n",
       "| audi       | a4         | 2.8        | 1999       | 6          | manual(m5) | f          | 18         | 26         | p          | compact    |\n",
       "| audi       | a4         | 3.1        | 2008       | 6          | auto(av)   | f          | 18         | 27         | p          | compact    |\n",
       "| audi       | a4 quattro | 1.8        | 1999       | 4          | manual(m5) | 4          | 18         | 26         | p          | compact    |\n",
       "| audi       | a4 quattro | 1.8        | 1999       | 4          | auto(l5)   | 4          | 16         | 25         | p          | compact    |\n",
       "| audi       | a4 quattro | 2.0        | 2008       | 4          | manual(m6) | 4          | 20         | 28         | p          | compact    |\n",
       "\n"
      ],
      "text/plain": [
       "   manufacturer model      displ year cyl trans      drv cty hwy fl class  \n",
       "1  audi         a4         1.8   1999 4   auto(l5)   f   18  29  p  compact\n",
       "2  audi         a4         1.8   1999 4   manual(m5) f   21  29  p  compact\n",
       "3  audi         a4         2.0   2008 4   manual(m6) f   20  31  p  compact\n",
       "4  audi         a4         2.0   2008 4   auto(av)   f   21  30  p  compact\n",
       "5  audi         a4         2.8   1999 6   auto(l5)   f   16  26  p  compact\n",
       "6  audi         a4         2.8   1999 6   manual(m5) f   18  26  p  compact\n",
       "7  audi         a4         3.1   2008 6   auto(av)   f   18  27  p  compact\n",
       "8  audi         a4 quattro 1.8   1999 4   manual(m5) 4   18  26  p  compact\n",
       "9  audi         a4 quattro 1.8   1999 4   auto(l5)   4   16  25  p  compact\n",
       "10 audi         a4 quattro 2.0   2008 4   manual(m6) 4   20  28  p  compact"
      ]
     },
     "metadata": {},
     "output_type": "display_data"
    }
   ],
   "source": [
    "# Q1. ggplot2 패키지의 mpg 데이터를 사용할 수 있도록 불러온 뒤 복사본을 만드세요.\n",
    "mpg<-as.data.frame(ggplot2::mpg)\n",
    "mpg_copy<-mpg\n",
    "head(mpg_copy,10)"
   ]
  },
  {
   "cell_type": "code",
   "execution_count": 117,
   "metadata": {},
   "outputs": [
    {
     "data": {
      "text/html": [
       "<table>\n",
       "<thead><tr><th scope=col>manufacturer</th><th scope=col>model</th><th scope=col>displ</th><th scope=col>year</th><th scope=col>cyl</th><th scope=col>trans</th><th scope=col>drv</th><th scope=col>city</th><th scope=col>highway</th><th scope=col>fl</th><th scope=col>class</th></tr></thead>\n",
       "<tbody>\n",
       "\t<tr><td>audi      </td><td>a4        </td><td>1.8       </td><td>1999      </td><td>4         </td><td>auto(l5)  </td><td>f         </td><td>18        </td><td>29        </td><td>p         </td><td>compact   </td></tr>\n",
       "\t<tr><td>audi      </td><td>a4        </td><td>1.8       </td><td>1999      </td><td>4         </td><td>manual(m5)</td><td>f         </td><td>21        </td><td>29        </td><td>p         </td><td>compact   </td></tr>\n",
       "\t<tr><td>audi      </td><td>a4        </td><td>2.0       </td><td>2008      </td><td>4         </td><td>manual(m6)</td><td>f         </td><td>20        </td><td>31        </td><td>p         </td><td>compact   </td></tr>\n",
       "\t<tr><td>audi      </td><td>a4        </td><td>2.0       </td><td>2008      </td><td>4         </td><td>auto(av)  </td><td>f         </td><td>21        </td><td>30        </td><td>p         </td><td>compact   </td></tr>\n",
       "\t<tr><td>audi      </td><td>a4        </td><td>2.8       </td><td>1999      </td><td>6         </td><td>auto(l5)  </td><td>f         </td><td>16        </td><td>26        </td><td>p         </td><td>compact   </td></tr>\n",
       "\t<tr><td>audi      </td><td>a4        </td><td>2.8       </td><td>1999      </td><td>6         </td><td>manual(m5)</td><td>f         </td><td>18        </td><td>26        </td><td>p         </td><td>compact   </td></tr>\n",
       "\t<tr><td>audi      </td><td>a4        </td><td>3.1       </td><td>2008      </td><td>6         </td><td>auto(av)  </td><td>f         </td><td>18        </td><td>27        </td><td>p         </td><td>compact   </td></tr>\n",
       "\t<tr><td>audi      </td><td>a4 quattro</td><td>1.8       </td><td>1999      </td><td>4         </td><td>manual(m5)</td><td>4         </td><td>18        </td><td>26        </td><td>p         </td><td>compact   </td></tr>\n",
       "\t<tr><td>audi      </td><td>a4 quattro</td><td>1.8       </td><td>1999      </td><td>4         </td><td>auto(l5)  </td><td>4         </td><td>16        </td><td>25        </td><td>p         </td><td>compact   </td></tr>\n",
       "\t<tr><td>audi      </td><td>a4 quattro</td><td>2.0       </td><td>2008      </td><td>4         </td><td>manual(m6)</td><td>4         </td><td>20        </td><td>28        </td><td>p         </td><td>compact   </td></tr>\n",
       "</tbody>\n",
       "</table>\n"
      ],
      "text/latex": [
       "\\begin{tabular}{r|lllllllllll}\n",
       " manufacturer & model & displ & year & cyl & trans & drv & city & highway & fl & class\\\\\n",
       "\\hline\n",
       "\t audi       & a4         & 1.8        & 1999       & 4          & auto(l5)   & f          & 18         & 29         & p          & compact   \\\\\n",
       "\t audi       & a4         & 1.8        & 1999       & 4          & manual(m5) & f          & 21         & 29         & p          & compact   \\\\\n",
       "\t audi       & a4         & 2.0        & 2008       & 4          & manual(m6) & f          & 20         & 31         & p          & compact   \\\\\n",
       "\t audi       & a4         & 2.0        & 2008       & 4          & auto(av)   & f          & 21         & 30         & p          & compact   \\\\\n",
       "\t audi       & a4         & 2.8        & 1999       & 6          & auto(l5)   & f          & 16         & 26         & p          & compact   \\\\\n",
       "\t audi       & a4         & 2.8        & 1999       & 6          & manual(m5) & f          & 18         & 26         & p          & compact   \\\\\n",
       "\t audi       & a4         & 3.1        & 2008       & 6          & auto(av)   & f          & 18         & 27         & p          & compact   \\\\\n",
       "\t audi       & a4 quattro & 1.8        & 1999       & 4          & manual(m5) & 4          & 18         & 26         & p          & compact   \\\\\n",
       "\t audi       & a4 quattro & 1.8        & 1999       & 4          & auto(l5)   & 4          & 16         & 25         & p          & compact   \\\\\n",
       "\t audi       & a4 quattro & 2.0        & 2008       & 4          & manual(m6) & 4          & 20         & 28         & p          & compact   \\\\\n",
       "\\end{tabular}\n"
      ],
      "text/markdown": [
       "\n",
       "| manufacturer | model | displ | year | cyl | trans | drv | city | highway | fl | class |\n",
       "|---|---|---|---|---|---|---|---|---|---|---|\n",
       "| audi       | a4         | 1.8        | 1999       | 4          | auto(l5)   | f          | 18         | 29         | p          | compact    |\n",
       "| audi       | a4         | 1.8        | 1999       | 4          | manual(m5) | f          | 21         | 29         | p          | compact    |\n",
       "| audi       | a4         | 2.0        | 2008       | 4          | manual(m6) | f          | 20         | 31         | p          | compact    |\n",
       "| audi       | a4         | 2.0        | 2008       | 4          | auto(av)   | f          | 21         | 30         | p          | compact    |\n",
       "| audi       | a4         | 2.8        | 1999       | 6          | auto(l5)   | f          | 16         | 26         | p          | compact    |\n",
       "| audi       | a4         | 2.8        | 1999       | 6          | manual(m5) | f          | 18         | 26         | p          | compact    |\n",
       "| audi       | a4         | 3.1        | 2008       | 6          | auto(av)   | f          | 18         | 27         | p          | compact    |\n",
       "| audi       | a4 quattro | 1.8        | 1999       | 4          | manual(m5) | 4          | 18         | 26         | p          | compact    |\n",
       "| audi       | a4 quattro | 1.8        | 1999       | 4          | auto(l5)   | 4          | 16         | 25         | p          | compact    |\n",
       "| audi       | a4 quattro | 2.0        | 2008       | 4          | manual(m6) | 4          | 20         | 28         | p          | compact    |\n",
       "\n"
      ],
      "text/plain": [
       "   manufacturer model      displ year cyl trans      drv city highway fl\n",
       "1  audi         a4         1.8   1999 4   auto(l5)   f   18   29      p \n",
       "2  audi         a4         1.8   1999 4   manual(m5) f   21   29      p \n",
       "3  audi         a4         2.0   2008 4   manual(m6) f   20   31      p \n",
       "4  audi         a4         2.0   2008 4   auto(av)   f   21   30      p \n",
       "5  audi         a4         2.8   1999 6   auto(l5)   f   16   26      p \n",
       "6  audi         a4         2.8   1999 6   manual(m5) f   18   26      p \n",
       "7  audi         a4         3.1   2008 6   auto(av)   f   18   27      p \n",
       "8  audi         a4 quattro 1.8   1999 4   manual(m5) 4   18   26      p \n",
       "9  audi         a4 quattro 1.8   1999 4   auto(l5)   4   16   25      p \n",
       "10 audi         a4 quattro 2.0   2008 4   manual(m6) 4   20   28      p \n",
       "   class  \n",
       "1  compact\n",
       "2  compact\n",
       "3  compact\n",
       "4  compact\n",
       "5  compact\n",
       "6  compact\n",
       "7  compact\n",
       "8  compact\n",
       "9  compact\n",
       "10 compact"
      ]
     },
     "metadata": {},
     "output_type": "display_data"
    }
   ],
   "source": [
    "# Q2. 복사본 데이터를 이용해서 cty는 city로, hwy는 highway로 변수명을 수정하세요.\n",
    "# Q3.데이터 일부를 출력해서 변수명이 바뀌었는지 확인해 보세요. 아래와 같은 결과물이 출력되어야 합니다\n",
    "mpg_copy<-rename(mpg_copy, city = cty, highway = hwy)\n",
    "head(mpg_copy,10)"
   ]
  },
  {
   "cell_type": "markdown",
   "metadata": {},
   "source": [
    "## 5-3. 파생변수 만들기"
   ]
  },
  {
   "cell_type": "markdown",
   "metadata": {},
   "source": [
    "### 변수 조합해 파생변수 만들기"
   ]
  },
  {
   "cell_type": "markdown",
   "metadata": {},
   "source": [
    "#### 1. 데이터 프레임 생성"
   ]
  },
  {
   "cell_type": "code",
   "execution_count": 124,
   "metadata": {},
   "outputs": [
    {
     "data": {
      "text/html": [
       "<table>\n",
       "<thead><tr><th scope=col>var1</th><th scope=col>var2</th></tr></thead>\n",
       "<tbody>\n",
       "\t<tr><td>4</td><td>2</td></tr>\n",
       "\t<tr><td>3</td><td>6</td></tr>\n",
       "\t<tr><td>8</td><td>1</td></tr>\n",
       "</tbody>\n",
       "</table>\n"
      ],
      "text/latex": [
       "\\begin{tabular}{r|ll}\n",
       " var1 & var2\\\\\n",
       "\\hline\n",
       "\t 4 & 2\\\\\n",
       "\t 3 & 6\\\\\n",
       "\t 8 & 1\\\\\n",
       "\\end{tabular}\n"
      ],
      "text/markdown": [
       "\n",
       "| var1 | var2 |\n",
       "|---|---|\n",
       "| 4 | 2 |\n",
       "| 3 | 6 |\n",
       "| 8 | 1 |\n",
       "\n"
      ],
      "text/plain": [
       "  var1 var2\n",
       "1 4    2   \n",
       "2 3    6   \n",
       "3 8    1   "
      ]
     },
     "metadata": {},
     "output_type": "display_data"
    }
   ],
   "source": [
    "df<-data.frame(var1=c(4,3,8),\n",
    "              var2=c(2,6,1))\n",
    "df"
   ]
  },
  {
   "cell_type": "markdown",
   "metadata": {},
   "source": [
    "#### 2.파생변수 생성"
   ]
  },
  {
   "cell_type": "code",
   "execution_count": 125,
   "metadata": {},
   "outputs": [
    {
     "data": {
      "text/html": [
       "<table>\n",
       "<thead><tr><th scope=col>var1</th><th scope=col>var2</th><th scope=col>var_sum</th></tr></thead>\n",
       "<tbody>\n",
       "\t<tr><td>4</td><td>2</td><td>6</td></tr>\n",
       "\t<tr><td>3</td><td>6</td><td>9</td></tr>\n",
       "\t<tr><td>8</td><td>1</td><td>9</td></tr>\n",
       "</tbody>\n",
       "</table>\n"
      ],
      "text/latex": [
       "\\begin{tabular}{r|lll}\n",
       " var1 & var2 & var\\_sum\\\\\n",
       "\\hline\n",
       "\t 4 & 2 & 6\\\\\n",
       "\t 3 & 6 & 9\\\\\n",
       "\t 8 & 1 & 9\\\\\n",
       "\\end{tabular}\n"
      ],
      "text/markdown": [
       "\n",
       "| var1 | var2 | var_sum |\n",
       "|---|---|---|\n",
       "| 4 | 2 | 6 |\n",
       "| 3 | 6 | 9 |\n",
       "| 8 | 1 | 9 |\n",
       "\n"
      ],
      "text/plain": [
       "  var1 var2 var_sum\n",
       "1 4    2    6      \n",
       "2 3    6    9      \n",
       "3 8    1    9      "
      ]
     },
     "metadata": {},
     "output_type": "display_data"
    }
   ],
   "source": [
    "df$var_sum<-df$var1 + df$var2 #var_sum 파생변수 생성\n",
    "df"
   ]
  },
  {
   "cell_type": "code",
   "execution_count": 127,
   "metadata": {},
   "outputs": [
    {
     "data": {
      "text/html": [
       "<table>\n",
       "<thead><tr><th scope=col>var1</th><th scope=col>var2</th><th scope=col>var_sum</th><th scope=col>var_mul</th></tr></thead>\n",
       "<tbody>\n",
       "\t<tr><td>4 </td><td>2 </td><td>6 </td><td> 8</td></tr>\n",
       "\t<tr><td>3 </td><td>6 </td><td>9 </td><td>18</td></tr>\n",
       "\t<tr><td>8 </td><td>1 </td><td>9 </td><td> 8</td></tr>\n",
       "</tbody>\n",
       "</table>\n"
      ],
      "text/latex": [
       "\\begin{tabular}{r|llll}\n",
       " var1 & var2 & var\\_sum & var\\_mul\\\\\n",
       "\\hline\n",
       "\t 4  & 2  & 6  &  8\\\\\n",
       "\t 3  & 6  & 9  & 18\\\\\n",
       "\t 8  & 1  & 9  &  8\\\\\n",
       "\\end{tabular}\n"
      ],
      "text/markdown": [
       "\n",
       "| var1 | var2 | var_sum | var_mul |\n",
       "|---|---|---|---|\n",
       "| 4  | 2  | 6  |  8 |\n",
       "| 3  | 6  | 9  | 18 |\n",
       "| 8  | 1  | 9  |  8 |\n",
       "\n"
      ],
      "text/plain": [
       "  var1 var2 var_sum var_mul\n",
       "1 4    2    6        8     \n",
       "2 3    6    9       18     \n",
       "3 8    1    9        8     "
      ]
     },
     "metadata": {},
     "output_type": "display_data"
    }
   ],
   "source": [
    "df$var_mul<-df$var1 * df$var2 #var_mul 파생변수 생성 \n",
    "df"
   ]
  },
  {
   "cell_type": "code",
   "execution_count": 131,
   "metadata": {},
   "outputs": [
    {
     "data": {
      "text/html": [
       "<table>\n",
       "<thead><tr><th scope=col>var1</th><th scope=col>var2</th><th scope=col>var_sum</th><th scope=col>var_mul</th><th scope=col>var_mean</th></tr></thead>\n",
       "<tbody>\n",
       "\t<tr><td>4  </td><td>2  </td><td>6  </td><td> 8 </td><td>3.0</td></tr>\n",
       "\t<tr><td>3  </td><td>6  </td><td>9  </td><td>18 </td><td>4.5</td></tr>\n",
       "\t<tr><td>8  </td><td>1  </td><td>9  </td><td> 8 </td><td>4.5</td></tr>\n",
       "</tbody>\n",
       "</table>\n"
      ],
      "text/latex": [
       "\\begin{tabular}{r|lllll}\n",
       " var1 & var2 & var\\_sum & var\\_mul & var\\_mean\\\\\n",
       "\\hline\n",
       "\t 4   & 2   & 6   &  8  & 3.0\\\\\n",
       "\t 3   & 6   & 9   & 18  & 4.5\\\\\n",
       "\t 8   & 1   & 9   &  8  & 4.5\\\\\n",
       "\\end{tabular}\n"
      ],
      "text/markdown": [
       "\n",
       "| var1 | var2 | var_sum | var_mul | var_mean |\n",
       "|---|---|---|---|---|\n",
       "| 4   | 2   | 6   |  8  | 3.0 |\n",
       "| 3   | 6   | 9   | 18  | 4.5 |\n",
       "| 8   | 1   | 9   |  8  | 4.5 |\n",
       "\n"
      ],
      "text/plain": [
       "  var1 var2 var_sum var_mul var_mean\n",
       "1 4    2    6        8      3.0     \n",
       "2 3    6    9       18      4.5     \n",
       "3 8    1    9        8      4.5     "
      ]
     },
     "metadata": {},
     "output_type": "display_data"
    }
   ],
   "source": [
    "df$var_mean<-(df$var1 + df$var2) / 2 #var_mean 파생변수 생성\n",
    "df"
   ]
  },
  {
   "cell_type": "markdown",
   "metadata": {},
   "source": [
    "### mpg 통합 연비 변수 만들기"
   ]
  },
  {
   "cell_type": "code",
   "execution_count": 133,
   "metadata": {},
   "outputs": [
    {
     "data": {
      "text/html": [
       "<table>\n",
       "<thead><tr><th scope=col>manufacturer</th><th scope=col>model</th><th scope=col>displ</th><th scope=col>year</th><th scope=col>cyl</th><th scope=col>trans</th><th scope=col>drv</th><th scope=col>city</th><th scope=col>highway</th><th scope=col>fl</th><th scope=col>class</th><th scope=col>total</th></tr></thead>\n",
       "<tbody>\n",
       "\t<tr><td>audi      </td><td>a4        </td><td>1.8       </td><td>1999      </td><td>4         </td><td>auto(l5)  </td><td>f         </td><td>18        </td><td>29        </td><td>p         </td><td>compact   </td><td>23.5      </td></tr>\n",
       "\t<tr><td>audi      </td><td>a4        </td><td>1.8       </td><td>1999      </td><td>4         </td><td>manual(m5)</td><td>f         </td><td>21        </td><td>29        </td><td>p         </td><td>compact   </td><td>25.0      </td></tr>\n",
       "\t<tr><td>audi      </td><td>a4        </td><td>2.0       </td><td>2008      </td><td>4         </td><td>manual(m6)</td><td>f         </td><td>20        </td><td>31        </td><td>p         </td><td>compact   </td><td>25.5      </td></tr>\n",
       "\t<tr><td>audi      </td><td>a4        </td><td>2.0       </td><td>2008      </td><td>4         </td><td>auto(av)  </td><td>f         </td><td>21        </td><td>30        </td><td>p         </td><td>compact   </td><td>25.5      </td></tr>\n",
       "\t<tr><td>audi      </td><td>a4        </td><td>2.8       </td><td>1999      </td><td>6         </td><td>auto(l5)  </td><td>f         </td><td>16        </td><td>26        </td><td>p         </td><td>compact   </td><td>21.0      </td></tr>\n",
       "</tbody>\n",
       "</table>\n"
      ],
      "text/latex": [
       "\\begin{tabular}{r|llllllllllll}\n",
       " manufacturer & model & displ & year & cyl & trans & drv & city & highway & fl & class & total\\\\\n",
       "\\hline\n",
       "\t audi       & a4         & 1.8        & 1999       & 4          & auto(l5)   & f          & 18         & 29         & p          & compact    & 23.5      \\\\\n",
       "\t audi       & a4         & 1.8        & 1999       & 4          & manual(m5) & f          & 21         & 29         & p          & compact    & 25.0      \\\\\n",
       "\t audi       & a4         & 2.0        & 2008       & 4          & manual(m6) & f          & 20         & 31         & p          & compact    & 25.5      \\\\\n",
       "\t audi       & a4         & 2.0        & 2008       & 4          & auto(av)   & f          & 21         & 30         & p          & compact    & 25.5      \\\\\n",
       "\t audi       & a4         & 2.8        & 1999       & 6          & auto(l5)   & f          & 16         & 26         & p          & compact    & 21.0      \\\\\n",
       "\\end{tabular}\n"
      ],
      "text/markdown": [
       "\n",
       "| manufacturer | model | displ | year | cyl | trans | drv | city | highway | fl | class | total |\n",
       "|---|---|---|---|---|---|---|---|---|---|---|---|\n",
       "| audi       | a4         | 1.8        | 1999       | 4          | auto(l5)   | f          | 18         | 29         | p          | compact    | 23.5       |\n",
       "| audi       | a4         | 1.8        | 1999       | 4          | manual(m5) | f          | 21         | 29         | p          | compact    | 25.0       |\n",
       "| audi       | a4         | 2.0        | 2008       | 4          | manual(m6) | f          | 20         | 31         | p          | compact    | 25.5       |\n",
       "| audi       | a4         | 2.0        | 2008       | 4          | auto(av)   | f          | 21         | 30         | p          | compact    | 25.5       |\n",
       "| audi       | a4         | 2.8        | 1999       | 6          | auto(l5)   | f          | 16         | 26         | p          | compact    | 21.0       |\n",
       "\n"
      ],
      "text/plain": [
       "  manufacturer model displ year cyl trans      drv city highway fl class  \n",
       "1 audi         a4    1.8   1999 4   auto(l5)   f   18   29      p  compact\n",
       "2 audi         a4    1.8   1999 4   manual(m5) f   21   29      p  compact\n",
       "3 audi         a4    2.0   2008 4   manual(m6) f   20   31      p  compact\n",
       "4 audi         a4    2.0   2008 4   auto(av)   f   21   30      p  compact\n",
       "5 audi         a4    2.8   1999 6   auto(l5)   f   16   26      p  compact\n",
       "  total\n",
       "1 23.5 \n",
       "2 25.0 \n",
       "3 25.5 \n",
       "4 25.5 \n",
       "5 21.0 "
      ]
     },
     "metadata": {},
     "output_type": "display_data"
    }
   ],
   "source": [
    "mpg_copy$total<-(mpg_copy$city + mpg_copy$highway)/2\n",
    "head(mpg_copy,5)"
   ]
  },
  {
   "cell_type": "code",
   "execution_count": 134,
   "metadata": {},
   "outputs": [
    {
     "data": {
      "text/html": [
       "20.1495726495727"
      ],
      "text/latex": [
       "20.1495726495727"
      ],
      "text/markdown": [
       "20.1495726495727"
      ],
      "text/plain": [
       "[1] 20.14957"
      ]
     },
     "metadata": {},
     "output_type": "display_data"
    }
   ],
   "source": [
    "mean(mpg_copy$total)"
   ]
  },
  {
   "cell_type": "markdown",
   "metadata": {},
   "source": [
    "### 조건문을 활용해 파생변수 만들기"
   ]
  },
  {
   "cell_type": "markdown",
   "metadata": {},
   "source": [
    "#### 1. 기준값 정하기"
   ]
  },
  {
   "cell_type": "code",
   "execution_count": 135,
   "metadata": {},
   "outputs": [
    {
     "data": {
      "text/plain": [
       "   Min. 1st Qu.  Median    Mean 3rd Qu.    Max. \n",
       "  10.50   15.50   20.50   20.15   23.50   39.50 "
      ]
     },
     "metadata": {},
     "output_type": "display_data"
    }
   ],
   "source": [
    "summary(mpg_copy$total) #mpg_copy의total의 요약통계 산출"
   ]
  },
  {
   "cell_type": "code",
   "execution_count": 136,
   "metadata": {},
   "outputs": [
    {
     "data": {
      "text/plain": [
       " manufacturer          model               displ            year     \n",
       " Length:234         Length:234         Min.   :1.600   Min.   :1999  \n",
       " Class :character   Class :character   1st Qu.:2.400   1st Qu.:1999  \n",
       " Mode  :character   Mode  :character   Median :3.300   Median :2004  \n",
       "                                       Mean   :3.472   Mean   :2004  \n",
       "                                       3rd Qu.:4.600   3rd Qu.:2008  \n",
       "                                       Max.   :7.000   Max.   :2008  \n",
       "      cyl           trans               drv                 city      \n",
       " Min.   :4.000   Length:234         Length:234         Min.   : 9.00  \n",
       " 1st Qu.:4.000   Class :character   Class :character   1st Qu.:14.00  \n",
       " Median :6.000   Mode  :character   Mode  :character   Median :17.00  \n",
       " Mean   :5.889                                         Mean   :16.86  \n",
       " 3rd Qu.:8.000                                         3rd Qu.:19.00  \n",
       " Max.   :8.000                                         Max.   :35.00  \n",
       "    highway           fl               class               total      \n",
       " Min.   :12.00   Length:234         Length:234         Min.   :10.50  \n",
       " 1st Qu.:18.00   Class :character   Class :character   1st Qu.:15.50  \n",
       " Median :24.00   Mode  :character   Mode  :character   Median :20.50  \n",
       " Mean   :23.44                                         Mean   :20.15  \n",
       " 3rd Qu.:27.00                                         3rd Qu.:23.50  \n",
       " Max.   :44.00                                         Max.   :39.50  "
      ]
     },
     "metadata": {},
     "output_type": "display_data"
    }
   ],
   "source": [
    "summary(mpg_copy)"
   ]
  },
  {
   "cell_type": "code",
   "execution_count": 137,
   "metadata": {},
   "outputs": [
    {
     "data": {
      "image/png": "[encoded data removed]",
      "text/plain": [
       "Plot with title \"Histogram of mpg_copy$total\""
      ]
     },
     "metadata": {},
     "output_type": "display_data"
    }
   ],
   "source": [
    "hist(mpg_copy$total) #히스토그램 생성\n",
    "#Frequency는 total의 갯수이다"
   ]
  },
  {
   "cell_type": "markdown",
   "metadata": {},
   "source": [
    "#### 2. 조건문으로 합격 판정 변수 만들기"
   ]
  },
  {
   "cell_type": "code",
   "execution_count": 139,
   "metadata": {},
   "outputs": [
    {
     "data": {
      "text/html": [
       "<table>\n",
       "<thead><tr><th scope=col>manufacturer</th><th scope=col>model</th><th scope=col>displ</th><th scope=col>year</th><th scope=col>cyl</th><th scope=col>trans</th><th scope=col>drv</th><th scope=col>city</th><th scope=col>highway</th><th scope=col>fl</th><th scope=col>class</th><th scope=col>total</th><th scope=col>test</th></tr></thead>\n",
       "<tbody>\n",
       "\t<tr><td>audi              </td><td>a4                </td><td>1.8               </td><td>1999              </td><td>4                 </td><td>auto(l5)          </td><td>f                 </td><td>18                </td><td>29                </td><td>p                 </td><td>compact           </td><td>23.5              </td><td>pass              </td></tr>\n",
       "\t<tr><td>audi              </td><td>a4                </td><td>1.8               </td><td>1999              </td><td>4                 </td><td>manual(m5)        </td><td>f                 </td><td>21                </td><td>29                </td><td>p                 </td><td>compact           </td><td>25.0              </td><td>pass              </td></tr>\n",
       "\t<tr><td>audi              </td><td>a4                </td><td>2.0               </td><td>2008              </td><td>4                 </td><td>manual(m6)        </td><td>f                 </td><td>20                </td><td>31                </td><td>p                 </td><td>compact           </td><td>25.5              </td><td>pass              </td></tr>\n",
       "\t<tr><td>audi              </td><td>a4                </td><td>2.0               </td><td>2008              </td><td>4                 </td><td>auto(av)          </td><td>f                 </td><td>21                </td><td>30                </td><td>p                 </td><td>compact           </td><td>25.5              </td><td>pass              </td></tr>\n",
       "\t<tr><td>audi              </td><td>a4                </td><td>2.8               </td><td>1999              </td><td>6                 </td><td>auto(l5)          </td><td>f                 </td><td>16                </td><td>26                </td><td>p                 </td><td>compact           </td><td>21.0              </td><td>pass              </td></tr>\n",
       "\t<tr><td>audi              </td><td>a4                </td><td>2.8               </td><td>1999              </td><td>6                 </td><td>manual(m5)        </td><td>f                 </td><td>18                </td><td>26                </td><td>p                 </td><td>compact           </td><td>22.0              </td><td>pass              </td></tr>\n",
       "\t<tr><td>audi              </td><td>a4                </td><td>3.1               </td><td>2008              </td><td>6                 </td><td>auto(av)          </td><td>f                 </td><td>18                </td><td>27                </td><td>p                 </td><td>compact           </td><td>22.5              </td><td>pass              </td></tr>\n",
       "\t<tr><td>audi              </td><td>a4 quattro        </td><td>1.8               </td><td>1999              </td><td>4                 </td><td>manual(m5)        </td><td>4                 </td><td>18                </td><td>26                </td><td>p                 </td><td>compact           </td><td>22.0              </td><td>pass              </td></tr>\n",
       "\t<tr><td>audi              </td><td>a4 quattro        </td><td>1.8               </td><td>1999              </td><td>4                 </td><td>auto(l5)          </td><td>4                 </td><td>16                </td><td>25                </td><td>p                 </td><td>compact           </td><td>20.5              </td><td>pass              </td></tr>\n",
       "\t<tr><td>audi              </td><td>a4 quattro        </td><td>2.0               </td><td>2008              </td><td>4                 </td><td>manual(m6)        </td><td>4                 </td><td>20                </td><td>28                </td><td>p                 </td><td>compact           </td><td>24.0              </td><td>pass              </td></tr>\n",
       "\t<tr><td>audi              </td><td>a4 quattro        </td><td>2.0               </td><td>2008              </td><td>4                 </td><td>auto(s6)          </td><td>4                 </td><td>19                </td><td>27                </td><td>p                 </td><td>compact           </td><td>23.0              </td><td>pass              </td></tr>\n",
       "\t<tr><td>audi              </td><td>a4 quattro        </td><td>2.8               </td><td>1999              </td><td>6                 </td><td>auto(l5)          </td><td>4                 </td><td>15                </td><td>25                </td><td>p                 </td><td>compact           </td><td>20.0              </td><td>pass              </td></tr>\n",
       "\t<tr><td>audi              </td><td>a4 quattro        </td><td>2.8               </td><td>1999              </td><td>6                 </td><td>manual(m5)        </td><td>4                 </td><td>17                </td><td>25                </td><td>p                 </td><td>compact           </td><td>21.0              </td><td>pass              </td></tr>\n",
       "\t<tr><td>audi              </td><td>a4 quattro        </td><td>3.1               </td><td>2008              </td><td>6                 </td><td>auto(s6)          </td><td>4                 </td><td>17                </td><td>25                </td><td>p                 </td><td>compact           </td><td>21.0              </td><td>pass              </td></tr>\n",
       "\t<tr><td>audi              </td><td>a4 quattro        </td><td>3.1               </td><td>2008              </td><td>6                 </td><td>manual(m6)        </td><td>4                 </td><td>15                </td><td>25                </td><td>p                 </td><td>compact           </td><td>20.0              </td><td>pass              </td></tr>\n",
       "\t<tr><td>audi              </td><td>a6 quattro        </td><td>2.8               </td><td>1999              </td><td>6                 </td><td>auto(l5)          </td><td>4                 </td><td>15                </td><td>24                </td><td>p                 </td><td>midsize           </td><td>19.5              </td><td>fail              </td></tr>\n",
       "\t<tr><td>audi              </td><td>a6 quattro        </td><td>3.1               </td><td>2008              </td><td>6                 </td><td>auto(s6)          </td><td>4                 </td><td>17                </td><td>25                </td><td>p                 </td><td>midsize           </td><td>21.0              </td><td>pass              </td></tr>\n",
       "\t<tr><td>audi              </td><td>a6 quattro        </td><td>4.2               </td><td>2008              </td><td>8                 </td><td>auto(s6)          </td><td>4                 </td><td>16                </td><td>23                </td><td>p                 </td><td>midsize           </td><td>19.5              </td><td>fail              </td></tr>\n",
       "\t<tr><td>chevrolet         </td><td>c1500 suburban 2wd</td><td>5.3               </td><td>2008              </td><td>8                 </td><td>auto(l4)          </td><td>r                 </td><td>14                </td><td>20                </td><td>r                 </td><td>suv               </td><td>17.0              </td><td>fail              </td></tr>\n",
       "\t<tr><td>chevrolet         </td><td>c1500 suburban 2wd</td><td>5.3               </td><td>2008              </td><td>8                 </td><td>auto(l4)          </td><td>r                 </td><td>11                </td><td>15                </td><td>e                 </td><td>suv               </td><td>13.0              </td><td>fail              </td></tr>\n",
       "\t<tr><td>chevrolet         </td><td>c1500 suburban 2wd</td><td>5.3               </td><td>2008              </td><td>8                 </td><td>auto(l4)          </td><td>r                 </td><td>14                </td><td>20                </td><td>r                 </td><td>suv               </td><td>17.0              </td><td>fail              </td></tr>\n",
       "\t<tr><td>chevrolet         </td><td>c1500 suburban 2wd</td><td>5.7               </td><td>1999              </td><td>8                 </td><td>auto(l4)          </td><td>r                 </td><td>13                </td><td>17                </td><td>r                 </td><td>suv               </td><td>15.0              </td><td>fail              </td></tr>\n",
       "\t<tr><td>chevrolet         </td><td>c1500 suburban 2wd</td><td>6.0               </td><td>2008              </td><td>8                 </td><td>auto(l4)          </td><td>r                 </td><td>12                </td><td>17                </td><td>r                 </td><td>suv               </td><td>14.5              </td><td>fail              </td></tr>\n",
       "\t<tr><td>chevrolet         </td><td>corvette          </td><td>5.7               </td><td>1999              </td><td>8                 </td><td>manual(m6)        </td><td>r                 </td><td>16                </td><td>26                </td><td>p                 </td><td>2seater           </td><td>21.0              </td><td>pass              </td></tr>\n",
       "\t<tr><td>chevrolet         </td><td>corvette          </td><td>5.7               </td><td>1999              </td><td>8                 </td><td>auto(l4)          </td><td>r                 </td><td>15                </td><td>23                </td><td>p                 </td><td>2seater           </td><td>19.0              </td><td>fail              </td></tr>\n",
       "\t<tr><td>chevrolet         </td><td>corvette          </td><td>6.2               </td><td>2008              </td><td>8                 </td><td>manual(m6)        </td><td>r                 </td><td>16                </td><td>26                </td><td>p                 </td><td>2seater           </td><td>21.0              </td><td>pass              </td></tr>\n",
       "\t<tr><td>chevrolet         </td><td>corvette          </td><td>6.2               </td><td>2008              </td><td>8                 </td><td>auto(s6)          </td><td>r                 </td><td>15                </td><td>25                </td><td>p                 </td><td>2seater           </td><td>20.0              </td><td>pass              </td></tr>\n",
       "\t<tr><td>chevrolet         </td><td>corvette          </td><td>7.0               </td><td>2008              </td><td>8                 </td><td>manual(m6)        </td><td>r                 </td><td>15                </td><td>24                </td><td>p                 </td><td>2seater           </td><td>19.5              </td><td>fail              </td></tr>\n",
       "\t<tr><td>chevrolet         </td><td>k1500 tahoe 4wd   </td><td>5.3               </td><td>2008              </td><td>8                 </td><td>auto(l4)          </td><td>4                 </td><td>14                </td><td>19                </td><td>r                 </td><td>suv               </td><td>16.5              </td><td>fail              </td></tr>\n",
       "\t<tr><td>chevrolet         </td><td>k1500 tahoe 4wd   </td><td>5.3               </td><td>2008              </td><td>8                 </td><td>auto(l4)          </td><td>4                 </td><td>11                </td><td>14                </td><td>e                 </td><td>suv               </td><td>12.5              </td><td>fail              </td></tr>\n",
       "\t<tr><td>...</td><td>...</td><td>...</td><td>...</td><td>...</td><td>...</td><td>...</td><td>...</td><td>...</td><td>...</td><td>...</td><td>...</td><td>...</td></tr>\n",
       "\t<tr><td>toyota           </td><td>toyota tacoma 4wd</td><td>3.4              </td><td>1999             </td><td>6                </td><td>auto(l4)         </td><td>4                </td><td>15               </td><td>19               </td><td>r                </td><td>pickup           </td><td>17.0             </td><td>fail             </td></tr>\n",
       "\t<tr><td>toyota           </td><td>toyota tacoma 4wd</td><td>4.0              </td><td>2008             </td><td>6                </td><td>manual(m6)       </td><td>4                </td><td>15               </td><td>18               </td><td>r                </td><td>pickup           </td><td>16.5             </td><td>fail             </td></tr>\n",
       "\t<tr><td>toyota           </td><td>toyota tacoma 4wd</td><td>4.0              </td><td>2008             </td><td>6                </td><td>auto(l5)         </td><td>4                </td><td>16               </td><td>20               </td><td>r                </td><td>pickup           </td><td>18.0             </td><td>fail             </td></tr>\n",
       "\t<tr><td>volkswagen       </td><td>gti              </td><td>2.0              </td><td>1999             </td><td>4                </td><td>manual(m5)       </td><td>f                </td><td>21               </td><td>29               </td><td>r                </td><td>compact          </td><td>25.0             </td><td>pass             </td></tr>\n",
       "\t<tr><td>volkswagen       </td><td>gti              </td><td>2.0              </td><td>1999             </td><td>4                </td><td>auto(l4)         </td><td>f                </td><td>19               </td><td>26               </td><td>r                </td><td>compact          </td><td>22.5             </td><td>pass             </td></tr>\n",
       "\t<tr><td>volkswagen       </td><td>gti              </td><td>2.0              </td><td>2008             </td><td>4                </td><td>manual(m6)       </td><td>f                </td><td>21               </td><td>29               </td><td>p                </td><td>compact          </td><td>25.0             </td><td>pass             </td></tr>\n",
       "\t<tr><td>volkswagen       </td><td>gti              </td><td>2.0              </td><td>2008             </td><td>4                </td><td>auto(s6)         </td><td>f                </td><td>22               </td><td>29               </td><td>p                </td><td>compact          </td><td>25.5             </td><td>pass             </td></tr>\n",
       "\t<tr><td>volkswagen       </td><td>gti              </td><td>2.8              </td><td>1999             </td><td>6                </td><td>manual(m5)       </td><td>f                </td><td>17               </td><td>24               </td><td>r                </td><td>compact          </td><td>20.5             </td><td>pass             </td></tr>\n",
       "\t<tr><td>volkswagen       </td><td>jetta            </td><td>1.9              </td><td>1999             </td><td>4                </td><td>manual(m5)       </td><td>f                </td><td>33               </td><td>44               </td><td>d                </td><td>compact          </td><td>38.5             </td><td>pass             </td></tr>\n",
       "\t<tr><td>volkswagen       </td><td>jetta            </td><td>2.0              </td><td>1999             </td><td>4                </td><td>manual(m5)       </td><td>f                </td><td>21               </td><td>29               </td><td>r                </td><td>compact          </td><td>25.0             </td><td>pass             </td></tr>\n",
       "\t<tr><td>volkswagen       </td><td>jetta            </td><td>2.0              </td><td>1999             </td><td>4                </td><td>auto(l4)         </td><td>f                </td><td>19               </td><td>26               </td><td>r                </td><td>compact          </td><td>22.5             </td><td>pass             </td></tr>\n",
       "\t<tr><td>volkswagen       </td><td>jetta            </td><td>2.0              </td><td>2008             </td><td>4                </td><td>auto(s6)         </td><td>f                </td><td>22               </td><td>29               </td><td>p                </td><td>compact          </td><td>25.5             </td><td>pass             </td></tr>\n",
       "\t<tr><td>volkswagen       </td><td>jetta            </td><td>2.0              </td><td>2008             </td><td>4                </td><td>manual(m6)       </td><td>f                </td><td>21               </td><td>29               </td><td>p                </td><td>compact          </td><td>25.0             </td><td>pass             </td></tr>\n",
       "\t<tr><td>volkswagen       </td><td>jetta            </td><td>2.5              </td><td>2008             </td><td>5                </td><td>auto(s6)         </td><td>f                </td><td>21               </td><td>29               </td><td>r                </td><td>compact          </td><td>25.0             </td><td>pass             </td></tr>\n",
       "\t<tr><td>volkswagen       </td><td>jetta            </td><td>2.5              </td><td>2008             </td><td>5                </td><td>manual(m5)       </td><td>f                </td><td>21               </td><td>29               </td><td>r                </td><td>compact          </td><td>25.0             </td><td>pass             </td></tr>\n",
       "\t<tr><td>volkswagen       </td><td>jetta            </td><td>2.8              </td><td>1999             </td><td>6                </td><td>auto(l4)         </td><td>f                </td><td>16               </td><td>23               </td><td>r                </td><td>compact          </td><td>19.5             </td><td>fail             </td></tr>\n",
       "\t<tr><td>volkswagen       </td><td>jetta            </td><td>2.8              </td><td>1999             </td><td>6                </td><td>manual(m5)       </td><td>f                </td><td>17               </td><td>24               </td><td>r                </td><td>compact          </td><td>20.5             </td><td>pass             </td></tr>\n",
       "\t<tr><td>volkswagen       </td><td>new beetle       </td><td>1.9              </td><td>1999             </td><td>4                </td><td>manual(m5)       </td><td>f                </td><td>35               </td><td>44               </td><td>d                </td><td>subcompact       </td><td>39.5             </td><td>pass             </td></tr>\n",
       "\t<tr><td>volkswagen       </td><td>new beetle       </td><td>1.9              </td><td>1999             </td><td>4                </td><td>auto(l4)         </td><td>f                </td><td>29               </td><td>41               </td><td>d                </td><td>subcompact       </td><td>35.0             </td><td>pass             </td></tr>\n",
       "\t<tr><td>volkswagen       </td><td>new beetle       </td><td>2.0              </td><td>1999             </td><td>4                </td><td>manual(m5)       </td><td>f                </td><td>21               </td><td>29               </td><td>r                </td><td>subcompact       </td><td>25.0             </td><td>pass             </td></tr>\n",
       "\t<tr><td>volkswagen       </td><td>new beetle       </td><td>2.0              </td><td>1999             </td><td>4                </td><td>auto(l4)         </td><td>f                </td><td>19               </td><td>26               </td><td>r                </td><td>subcompact       </td><td>22.5             </td><td>pass             </td></tr>\n",
       "\t<tr><td>volkswagen       </td><td>new beetle       </td><td>2.5              </td><td>2008             </td><td>5                </td><td>manual(m5)       </td><td>f                </td><td>20               </td><td>28               </td><td>r                </td><td>subcompact       </td><td>24.0             </td><td>pass             </td></tr>\n",
       "\t<tr><td>volkswagen       </td><td>new beetle       </td><td>2.5              </td><td>2008             </td><td>5                </td><td>auto(s6)         </td><td>f                </td><td>20               </td><td>29               </td><td>r                </td><td>subcompact       </td><td>24.5             </td><td>pass             </td></tr>\n",
       "\t<tr><td>volkswagen       </td><td>passat           </td><td>1.8              </td><td>1999             </td><td>4                </td><td>manual(m5)       </td><td>f                </td><td>21               </td><td>29               </td><td>p                </td><td>midsize          </td><td>25.0             </td><td>pass             </td></tr>\n",
       "\t<tr><td>volkswagen       </td><td>passat           </td><td>1.8              </td><td>1999             </td><td>4                </td><td>auto(l5)         </td><td>f                </td><td>18               </td><td>29               </td><td>p                </td><td>midsize          </td><td>23.5             </td><td>pass             </td></tr>\n",
       "\t<tr><td>volkswagen       </td><td>passat           </td><td>2.0              </td><td>2008             </td><td>4                </td><td>auto(s6)         </td><td>f                </td><td>19               </td><td>28               </td><td>p                </td><td>midsize          </td><td>23.5             </td><td>pass             </td></tr>\n",
       "\t<tr><td>volkswagen       </td><td>passat           </td><td>2.0              </td><td>2008             </td><td>4                </td><td>manual(m6)       </td><td>f                </td><td>21               </td><td>29               </td><td>p                </td><td>midsize          </td><td>25.0             </td><td>pass             </td></tr>\n",
       "\t<tr><td>volkswagen       </td><td>passat           </td><td>2.8              </td><td>1999             </td><td>6                </td><td>auto(l5)         </td><td>f                </td><td>16               </td><td>26               </td><td>p                </td><td>midsize          </td><td>21.0             </td><td>pass             </td></tr>\n",
       "\t<tr><td>volkswagen       </td><td>passat           </td><td>2.8              </td><td>1999             </td><td>6                </td><td>manual(m5)       </td><td>f                </td><td>18               </td><td>26               </td><td>p                </td><td>midsize          </td><td>22.0             </td><td>pass             </td></tr>\n",
       "\t<tr><td>volkswagen       </td><td>passat           </td><td>3.6              </td><td>2008             </td><td>6                </td><td>auto(s6)         </td><td>f                </td><td>17               </td><td>26               </td><td>p                </td><td>midsize          </td><td>21.5             </td><td>pass             </td></tr>\n",
       "</tbody>\n",
       "</table>\n"
      ],
      "text/latex": [
       "\\begin{tabular}{r|lllllllllllll}\n",
       " manufacturer & model & displ & year & cyl & trans & drv & city & highway & fl & class & total & test\\\\\n",
       "\\hline\n",
       "\t audi               & a4                 & 1.8                & 1999               & 4                  & auto(l5)           & f                  & 18                 & 29                 & p                  & compact            & 23.5               & pass              \\\\\n",
       "\t audi               & a4                 & 1.8                & 1999               & 4                  & manual(m5)         & f                  & 21                 & 29                 & p                  & compact            & 25.0               & pass              \\\\\n",
       "\t audi               & a4                 & 2.0                & 2008               & 4                  & manual(m6)         & f                  & 20                 & 31                 & p                  & compact            & 25.5               & pass              \\\\\n",
       "\t audi               & a4                 & 2.0                & 2008               & 4                  & auto(av)           & f                  & 21                 & 30                 & p                  & compact            & 25.5               & pass              \\\\\n",
       "\t audi               & a4                 & 2.8                & 1999               & 6                  & auto(l5)           & f                  & 16                 & 26                 & p                  & compact            & 21.0               & pass              \\\\\n",
       "\t audi               & a4                 & 2.8                & 1999               & 6                  & manual(m5)         & f                  & 18                 & 26                 & p                  & compact            & 22.0               & pass              \\\\\n",
       "\t audi               & a4                 & 3.1                & 2008               & 6                  & auto(av)           & f                  & 18                 & 27                 & p                  & compact            & 22.5               & pass              \\\\\n",
       "\t audi               & a4 quattro         & 1.8                & 1999               & 4                  & manual(m5)         & 4                  & 18                 & 26                 & p                  & compact            & 22.0               & pass              \\\\\n",
       "\t audi               & a4 quattro         & 1.8                & 1999               & 4                  & auto(l5)           & 4                  & 16                 & 25                 & p                  & compact            & 20.5               & pass              \\\\\n",
       "\t audi               & a4 quattro         & 2.0                & 2008               & 4                  & manual(m6)         & 4                  & 20                 & 28                 & p                  & compact            & 24.0               & pass              \\\\\n",
       "\t audi               & a4 quattro         & 2.0                & 2008               & 4                  & auto(s6)           & 4                  & 19                 & 27                 & p                  & compact            & 23.0               & pass              \\\\\n",
       "\t audi               & a4 quattro         & 2.8                & 1999               & 6                  & auto(l5)           & 4                  & 15                 & 25                 & p                  & compact            & 20.0               & pass              \\\\\n",
       "\t audi               & a4 quattro         & 2.8                & 1999               & 6                  & manual(m5)         & 4                  & 17                 & 25                 & p                  & compact            & 21.0               & pass              \\\\\n",
       "\t audi               & a4 quattro         & 3.1                & 2008               & 6                  & auto(s6)           & 4                  & 17                 & 25                 & p                  & compact            & 21.0               & pass              \\\\\n",
       "\t audi               & a4 quattro         & 3.1                & 2008               & 6                  & manual(m6)         & 4                  & 15                 & 25                 & p                  & compact            & 20.0               & pass              \\\\\n",
       "\t audi               & a6 quattro         & 2.8                & 1999               & 6                  & auto(l5)           & 4                  & 15                 & 24                 & p                  & midsize            & 19.5               & fail              \\\\\n",
       "\t audi               & a6 quattro         & 3.1                & 2008               & 6                  & auto(s6)           & 4                  & 17                 & 25                 & p                  & midsize            & 21.0               & pass              \\\\\n",
       "\t audi               & a6 quattro         & 4.2                & 2008               & 8                  & auto(s6)           & 4                  & 16                 & 23                 & p                  & midsize            & 19.5               & fail              \\\\\n",
       "\t chevrolet          & c1500 suburban 2wd & 5.3                & 2008               & 8                  & auto(l4)           & r                  & 14                 & 20                 & r                  & suv                & 17.0               & fail              \\\\\n",
       "\t chevrolet          & c1500 suburban 2wd & 5.3                & 2008               & 8                  & auto(l4)           & r                  & 11                 & 15                 & e                  & suv                & 13.0               & fail              \\\\\n",
       "\t chevrolet          & c1500 suburban 2wd & 5.3                & 2008               & 8                  & auto(l4)           & r                  & 14                 & 20                 & r                  & suv                & 17.0               & fail              \\\\\n",
       "\t chevrolet          & c1500 suburban 2wd & 5.7                & 1999               & 8                  & auto(l4)           & r                  & 13                 & 17                 & r                  & suv                & 15.0               & fail              \\\\\n",
       "\t chevrolet          & c1500 suburban 2wd & 6.0                & 2008               & 8                  & auto(l4)           & r                  & 12                 & 17                 & r                  & suv                & 14.5               & fail              \\\\\n",
       "\t chevrolet          & corvette           & 5.7                & 1999               & 8                  & manual(m6)         & r                  & 16                 & 26                 & p                  & 2seater            & 21.0               & pass              \\\\\n",
       "\t chevrolet          & corvette           & 5.7                & 1999               & 8                  & auto(l4)           & r                  & 15                 & 23                 & p                  & 2seater            & 19.0               & fail              \\\\\n",
       "\t chevrolet          & corvette           & 6.2                & 2008               & 8                  & manual(m6)         & r                  & 16                 & 26                 & p                  & 2seater            & 21.0               & pass              \\\\\n",
       "\t chevrolet          & corvette           & 6.2                & 2008               & 8                  & auto(s6)           & r                  & 15                 & 25                 & p                  & 2seater            & 20.0               & pass              \\\\\n",
       "\t chevrolet          & corvette           & 7.0                & 2008               & 8                  & manual(m6)         & r                  & 15                 & 24                 & p                  & 2seater            & 19.5               & fail              \\\\\n",
       "\t chevrolet          & k1500 tahoe 4wd    & 5.3                & 2008               & 8                  & auto(l4)           & 4                  & 14                 & 19                 & r                  & suv                & 16.5               & fail              \\\\\n",
       "\t chevrolet          & k1500 tahoe 4wd    & 5.3                & 2008               & 8                  & auto(l4)           & 4                  & 11                 & 14                 & e                  & suv                & 12.5               & fail              \\\\\n",
       "\t ... & ... & ... & ... & ... & ... & ... & ... & ... & ... & ... & ... & ...\\\\\n",
       "\t toyota            & toyota tacoma 4wd & 3.4               & 1999              & 6                 & auto(l4)          & 4                 & 15                & 19                & r                 & pickup            & 17.0              & fail             \\\\\n",
       "\t toyota            & toyota tacoma 4wd & 4.0               & 2008              & 6                 & manual(m6)        & 4                 & 15                & 18                & r                 & pickup            & 16.5              & fail             \\\\\n",
       "\t toyota            & toyota tacoma 4wd & 4.0               & 2008              & 6                 & auto(l5)          & 4                 & 16                & 20                & r                 & pickup            & 18.0              & fail             \\\\\n",
       "\t volkswagen        & gti               & 2.0               & 1999              & 4                 & manual(m5)        & f                 & 21                & 29                & r                 & compact           & 25.0              & pass             \\\\\n",
       "\t volkswagen        & gti               & 2.0               & 1999              & 4                 & auto(l4)          & f                 & 19                & 26                & r                 & compact           & 22.5              & pass             \\\\\n",
       "\t volkswagen        & gti               & 2.0               & 2008              & 4                 & manual(m6)        & f                 & 21                & 29                & p                 & compact           & 25.0              & pass             \\\\\n",
       "\t volkswagen        & gti               & 2.0               & 2008              & 4                 & auto(s6)          & f                 & 22                & 29                & p                 & compact           & 25.5              & pass             \\\\\n",
       "\t volkswagen        & gti               & 2.8               & 1999              & 6                 & manual(m5)        & f                 & 17                & 24                & r                 & compact           & 20.5              & pass             \\\\\n",
       "\t volkswagen        & jetta             & 1.9               & 1999              & 4                 & manual(m5)        & f                 & 33                & 44                & d                 & compact           & 38.5              & pass             \\\\\n",
       "\t volkswagen        & jetta             & 2.0               & 1999              & 4                 & manual(m5)        & f                 & 21                & 29                & r                 & compact           & 25.0              & pass             \\\\\n",
       "\t volkswagen        & jetta             & 2.0               & 1999              & 4                 & auto(l4)          & f                 & 19                & 26                & r                 & compact           & 22.5              & pass             \\\\\n",
       "\t volkswagen        & jetta             & 2.0               & 2008              & 4                 & auto(s6)          & f                 & 22                & 29                & p                 & compact           & 25.5              & pass             \\\\\n",
       "\t volkswagen        & jetta             & 2.0               & 2008              & 4                 & manual(m6)        & f                 & 21                & 29                & p                 & compact           & 25.0              & pass             \\\\\n",
       "\t volkswagen        & jetta             & 2.5               & 2008              & 5                 & auto(s6)          & f                 & 21                & 29                & r                 & compact           & 25.0              & pass             \\\\\n",
       "\t volkswagen        & jetta             & 2.5               & 2008              & 5                 & manual(m5)        & f                 & 21                & 29                & r                 & compact           & 25.0              & pass             \\\\\n",
       "\t volkswagen        & jetta             & 2.8               & 1999              & 6                 & auto(l4)          & f                 & 16                & 23                & r                 & compact           & 19.5              & fail             \\\\\n",
       "\t volkswagen        & jetta             & 2.8               & 1999              & 6                 & manual(m5)        & f                 & 17                & 24                & r                 & compact           & 20.5              & pass             \\\\\n",
       "\t volkswagen        & new beetle        & 1.9               & 1999              & 4                 & manual(m5)        & f                 & 35                & 44                & d                 & subcompact        & 39.5              & pass             \\\\\n",
       "\t volkswagen        & new beetle        & 1.9               & 1999              & 4                 & auto(l4)          & f                 & 29                & 41                & d                 & subcompact        & 35.0              & pass             \\\\\n",
       "\t volkswagen        & new beetle        & 2.0               & 1999              & 4                 & manual(m5)        & f                 & 21                & 29                & r                 & subcompact        & 25.0              & pass             \\\\\n",
       "\t volkswagen        & new beetle        & 2.0               & 1999              & 4                 & auto(l4)          & f                 & 19                & 26                & r                 & subcompact        & 22.5              & pass             \\\\\n",
       "\t volkswagen        & new beetle        & 2.5               & 2008              & 5                 & manual(m5)        & f                 & 20                & 28                & r                 & subcompact        & 24.0              & pass             \\\\\n",
       "\t volkswagen        & new beetle        & 2.5               & 2008              & 5                 & auto(s6)          & f                 & 20                & 29                & r                 & subcompact        & 24.5              & pass             \\\\\n",
       "\t volkswagen        & passat            & 1.8               & 1999              & 4                 & manual(m5)        & f                 & 21                & 29                & p                 & midsize           & 25.0              & pass             \\\\\n",
       "\t volkswagen        & passat            & 1.8               & 1999              & 4                 & auto(l5)          & f                 & 18                & 29                & p                 & midsize           & 23.5              & pass             \\\\\n",
       "\t volkswagen        & passat            & 2.0               & 2008              & 4                 & auto(s6)          & f                 & 19                & 28                & p                 & midsize           & 23.5              & pass             \\\\\n",
       "\t volkswagen        & passat            & 2.0               & 2008              & 4                 & manual(m6)        & f                 & 21                & 29                & p                 & midsize           & 25.0              & pass             \\\\\n",
       "\t volkswagen        & passat            & 2.8               & 1999              & 6                 & auto(l5)          & f                 & 16                & 26                & p                 & midsize           & 21.0              & pass             \\\\\n",
       "\t volkswagen        & passat            & 2.8               & 1999              & 6                 & manual(m5)        & f                 & 18                & 26                & p                 & midsize           & 22.0              & pass             \\\\\n",
       "\t volkswagen        & passat            & 3.6               & 2008              & 6                 & auto(s6)          & f                 & 17                & 26                & p                 & midsize           & 21.5              & pass             \\\\\n",
       "\\end{tabular}\n"
      ],
      "text/markdown": [
       "\n",
       "| manufacturer | model | displ | year | cyl | trans | drv | city | highway | fl | class | total | test |\n",
       "|---|---|---|---|---|---|---|---|---|---|---|---|---|\n",
       "| audi               | a4                 | 1.8                | 1999               | 4                  | auto(l5)           | f                  | 18                 | 29                 | p                  | compact            | 23.5               | pass               |\n",
       "| audi               | a4                 | 1.8                | 1999               | 4                  | manual(m5)         | f                  | 21                 | 29                 | p                  | compact            | 25.0               | pass               |\n",
       "| audi               | a4                 | 2.0                | 2008               | 4                  | manual(m6)         | f                  | 20                 | 31                 | p                  | compact            | 25.5               | pass               |\n",
       "| audi               | a4                 | 2.0                | 2008               | 4                  | auto(av)           | f                  | 21                 | 30                 | p                  | compact            | 25.5               | pass               |\n",
       "| audi               | a4                 | 2.8                | 1999               | 6                  | auto(l5)           | f                  | 16                 | 26                 | p                  | compact            | 21.0               | pass               |\n",
       "| audi               | a4                 | 2.8                | 1999               | 6                  | manual(m5)         | f                  | 18                 | 26                 | p                  | compact            | 22.0               | pass               |\n",
       "| audi               | a4                 | 3.1                | 2008               | 6                  | auto(av)           | f                  | 18                 | 27                 | p                  | compact            | 22.5               | pass               |\n",
       "| audi               | a4 quattro         | 1.8                | 1999               | 4                  | manual(m5)         | 4                  | 18                 | 26                 | p                  | compact            | 22.0               | pass               |\n",
       "| audi               | a4 quattro         | 1.8                | 1999               | 4                  | auto(l5)           | 4                  | 16                 | 25                 | p                  | compact            | 20.5               | pass               |\n",
       "| audi               | a4 quattro         | 2.0                | 2008               | 4                  | manual(m6)         | 4                  | 20                 | 28                 | p                  | compact            | 24.0               | pass               |\n",
       "| audi               | a4 quattro         | 2.0                | 2008               | 4                  | auto(s6)           | 4                  | 19                 | 27                 | p                  | compact            | 23.0               | pass               |\n",
       "| audi               | a4 quattro         | 2.8                | 1999               | 6                  | auto(l5)           | 4                  | 15                 | 25                 | p                  | compact            | 20.0               | pass               |\n",
       "| audi               | a4 quattro         | 2.8                | 1999               | 6                  | manual(m5)         | 4                  | 17                 | 25                 | p                  | compact            | 21.0               | pass               |\n",
       "| audi               | a4 quattro         | 3.1                | 2008               | 6                  | auto(s6)           | 4                  | 17                 | 25                 | p                  | compact            | 21.0               | pass               |\n",
       "| audi               | a4 quattro         | 3.1                | 2008               | 6                  | manual(m6)         | 4                  | 15                 | 25                 | p                  | compact            | 20.0               | pass               |\n",
       "| audi               | a6 quattro         | 2.8                | 1999               | 6                  | auto(l5)           | 4                  | 15                 | 24                 | p                  | midsize            | 19.5               | fail               |\n",
       "| audi               | a6 quattro         | 3.1                | 2008               | 6                  | auto(s6)           | 4                  | 17                 | 25                 | p                  | midsize            | 21.0               | pass               |\n",
       "| audi               | a6 quattro         | 4.2                | 2008               | 8                  | auto(s6)           | 4                  | 16                 | 23                 | p                  | midsize            | 19.5               | fail               |\n",
       "| chevrolet          | c1500 suburban 2wd | 5.3                | 2008               | 8                  | auto(l4)           | r                  | 14                 | 20                 | r                  | suv                | 17.0               | fail               |\n",
       "| chevrolet          | c1500 suburban 2wd | 5.3                | 2008               | 8                  | auto(l4)           | r                  | 11                 | 15                 | e                  | suv                | 13.0               | fail               |\n",
       "| chevrolet          | c1500 suburban 2wd | 5.3                | 2008               | 8                  | auto(l4)           | r                  | 14                 | 20                 | r                  | suv                | 17.0               | fail               |\n",
       "| chevrolet          | c1500 suburban 2wd | 5.7                | 1999               | 8                  | auto(l4)           | r                  | 13                 | 17                 | r                  | suv                | 15.0               | fail               |\n",
       "| chevrolet          | c1500 suburban 2wd | 6.0                | 2008               | 8                  | auto(l4)           | r                  | 12                 | 17                 | r                  | suv                | 14.5               | fail               |\n",
       "| chevrolet          | corvette           | 5.7                | 1999               | 8                  | manual(m6)         | r                  | 16                 | 26                 | p                  | 2seater            | 21.0               | pass               |\n",
       "| chevrolet          | corvette           | 5.7                | 1999               | 8                  | auto(l4)           | r                  | 15                 | 23                 | p                  | 2seater            | 19.0               | fail               |\n",
       "| chevrolet          | corvette           | 6.2                | 2008               | 8                  | manual(m6)         | r                  | 16                 | 26                 | p                  | 2seater            | 21.0               | pass               |\n",
       "| chevrolet          | corvette           | 6.2                | 2008               | 8                  | auto(s6)           | r                  | 15                 | 25                 | p                  | 2seater            | 20.0               | pass               |\n",
       "| chevrolet          | corvette           | 7.0                | 2008               | 8                  | manual(m6)         | r                  | 15                 | 24                 | p                  | 2seater            | 19.5               | fail               |\n",
       "| chevrolet          | k1500 tahoe 4wd    | 5.3                | 2008               | 8                  | auto(l4)           | 4                  | 14                 | 19                 | r                  | suv                | 16.5               | fail               |\n",
       "| chevrolet          | k1500 tahoe 4wd    | 5.3                | 2008               | 8                  | auto(l4)           | 4                  | 11                 | 14                 | e                  | suv                | 12.5               | fail               |\n",
       "| ... | ... | ... | ... | ... | ... | ... | ... | ... | ... | ... | ... | ... |\n",
       "| toyota            | toyota tacoma 4wd | 3.4               | 1999              | 6                 | auto(l4)          | 4                 | 15                | 19                | r                 | pickup            | 17.0              | fail              |\n",
       "| toyota            | toyota tacoma 4wd | 4.0               | 2008              | 6                 | manual(m6)        | 4                 | 15                | 18                | r                 | pickup            | 16.5              | fail              |\n",
       "| toyota            | toyota tacoma 4wd | 4.0               | 2008              | 6                 | auto(l5)          | 4                 | 16                | 20                | r                 | pickup            | 18.0              | fail              |\n",
       "| volkswagen        | gti               | 2.0               | 1999              | 4                 | manual(m5)        | f                 | 21                | 29                | r                 | compact           | 25.0              | pass              |\n",
       "| volkswagen        | gti               | 2.0               | 1999              | 4                 | auto(l4)          | f                 | 19                | 26                | r                 | compact           | 22.5              | pass              |\n",
       "| volkswagen        | gti               | 2.0               | 2008              | 4                 | manual(m6)        | f                 | 21                | 29                | p                 | compact           | 25.0              | pass              |\n",
       "| volkswagen        | gti               | 2.0               | 2008              | 4                 | auto(s6)          | f                 | 22                | 29                | p                 | compact           | 25.5              | pass              |\n",
       "| volkswagen        | gti               | 2.8               | 1999              | 6                 | manual(m5)        | f                 | 17                | 24                | r                 | compact           | 20.5              | pass              |\n",
       "| volkswagen        | jetta             | 1.9               | 1999              | 4                 | manual(m5)        | f                 | 33                | 44                | d                 | compact           | 38.5              | pass              |\n",
       "| volkswagen        | jetta             | 2.0               | 1999              | 4                 | manual(m5)        | f                 | 21                | 29                | r                 | compact           | 25.0              | pass              |\n",
       "| volkswagen        | jetta             | 2.0               | 1999              | 4                 | auto(l4)          | f                 | 19                | 26                | r                 | compact           | 22.5              | pass              |\n",
       "| volkswagen        | jetta             | 2.0               | 2008              | 4                 | auto(s6)          | f                 | 22                | 29                | p                 | compact           | 25.5              | pass              |\n",
       "| volkswagen        | jetta             | 2.0               | 2008              | 4                 | manual(m6)        | f                 | 21                | 29                | p                 | compact           | 25.0              | pass              |\n",
       "| volkswagen        | jetta             | 2.5               | 2008              | 5                 | auto(s6)          | f                 | 21                | 29                | r                 | compact           | 25.0              | pass              |\n",
       "| volkswagen        | jetta             | 2.5               | 2008              | 5                 | manual(m5)        | f                 | 21                | 29                | r                 | compact           | 25.0              | pass              |\n",
       "| volkswagen        | jetta             | 2.8               | 1999              | 6                 | auto(l4)          | f                 | 16                | 23                | r                 | compact           | 19.5              | fail              |\n",
       "| volkswagen        | jetta             | 2.8               | 1999              | 6                 | manual(m5)        | f                 | 17                | 24                | r                 | compact           | 20.5              | pass              |\n",
       "| volkswagen        | new beetle        | 1.9               | 1999              | 4                 | manual(m5)        | f                 | 35                | 44                | d                 | subcompact        | 39.5              | pass              |\n",
       "| volkswagen        | new beetle        | 1.9               | 1999              | 4                 | auto(l4)          | f                 | 29                | 41                | d                 | subcompact        | 35.0              | pass              |\n",
       "| volkswagen        | new beetle        | 2.0               | 1999              | 4                 | manual(m5)        | f                 | 21                | 29                | r                 | subcompact        | 25.0              | pass              |\n",
       "| volkswagen        | new beetle        | 2.0               | 1999              | 4                 | auto(l4)          | f                 | 19                | 26                | r                 | subcompact        | 22.5              | pass              |\n",
       "| volkswagen        | new beetle        | 2.5               | 2008              | 5                 | manual(m5)        | f                 | 20                | 28                | r                 | subcompact        | 24.0              | pass              |\n",
       "| volkswagen        | new beetle        | 2.5               | 2008              | 5                 | auto(s6)          | f                 | 20                | 29                | r                 | subcompact        | 24.5              | pass              |\n",
       "| volkswagen        | passat            | 1.8               | 1999              | 4                 | manual(m5)        | f                 | 21                | 29                | p                 | midsize           | 25.0              | pass              |\n",
       "| volkswagen        | passat            | 1.8               | 1999              | 4                 | auto(l5)          | f                 | 18                | 29                | p                 | midsize           | 23.5              | pass              |\n",
       "| volkswagen        | passat            | 2.0               | 2008              | 4                 | auto(s6)          | f                 | 19                | 28                | p                 | midsize           | 23.5              | pass              |\n",
       "| volkswagen        | passat            | 2.0               | 2008              | 4                 | manual(m6)        | f                 | 21                | 29                | p                 | midsize           | 25.0              | pass              |\n",
       "| volkswagen        | passat            | 2.8               | 1999              | 6                 | auto(l5)          | f                 | 16                | 26                | p                 | midsize           | 21.0              | pass              |\n",
       "| volkswagen        | passat            | 2.8               | 1999              | 6                 | manual(m5)        | f                 | 18                | 26                | p                 | midsize           | 22.0              | pass              |\n",
       "| volkswagen        | passat            | 3.6               | 2008              | 6                 | auto(s6)          | f                 | 17                | 26                | p                 | midsize           | 21.5              | pass              |\n",
       "\n"
      ],
      "text/plain": [
       "    manufacturer model              displ year cyl trans      drv city highway\n",
       "1   audi         a4                 1.8   1999 4   auto(l5)   f   18   29     \n",
       "2   audi         a4                 1.8   1999 4   manual(m5) f   21   29     \n",
       "3   audi         a4                 2.0   2008 4   manual(m6) f   20   31     \n",
       "4   audi         a4                 2.0   2008 4   auto(av)   f   21   30     \n",
       "5   audi         a4                 2.8   1999 6   auto(l5)   f   16   26     \n",
       "6   audi         a4                 2.8   1999 6   manual(m5) f   18   26     \n",
       "7   audi         a4                 3.1   2008 6   auto(av)   f   18   27     \n",
       "8   audi         a4 quattro         1.8   1999 4   manual(m5) 4   18   26     \n",
       "9   audi         a4 quattro         1.8   1999 4   auto(l5)   4   16   25     \n",
       "10  audi         a4 quattro         2.0   2008 4   manual(m6) 4   20   28     \n",
       "11  audi         a4 quattro         2.0   2008 4   auto(s6)   4   19   27     \n",
       "12  audi         a4 quattro         2.8   1999 6   auto(l5)   4   15   25     \n",
       "13  audi         a4 quattro         2.8   1999 6   manual(m5) 4   17   25     \n",
       "14  audi         a4 quattro         3.1   2008 6   auto(s6)   4   17   25     \n",
       "15  audi         a4 quattro         3.1   2008 6   manual(m6) 4   15   25     \n",
       "16  audi         a6 quattro         2.8   1999 6   auto(l5)   4   15   24     \n",
       "17  audi         a6 quattro         3.1   2008 6   auto(s6)   4   17   25     \n",
       "18  audi         a6 quattro         4.2   2008 8   auto(s6)   4   16   23     \n",
       "19  chevrolet    c1500 suburban 2wd 5.3   2008 8   auto(l4)   r   14   20     \n",
       "20  chevrolet    c1500 suburban 2wd 5.3   2008 8   auto(l4)   r   11   15     \n",
       "21  chevrolet    c1500 suburban 2wd 5.3   2008 8   auto(l4)   r   14   20     \n",
       "22  chevrolet    c1500 suburban 2wd 5.7   1999 8   auto(l4)   r   13   17     \n",
       "23  chevrolet    c1500 suburban 2wd 6.0   2008 8   auto(l4)   r   12   17     \n",
       "24  chevrolet    corvette           5.7   1999 8   manual(m6) r   16   26     \n",
       "25  chevrolet    corvette           5.7   1999 8   auto(l4)   r   15   23     \n",
       "26  chevrolet    corvette           6.2   2008 8   manual(m6) r   16   26     \n",
       "27  chevrolet    corvette           6.2   2008 8   auto(s6)   r   15   25     \n",
       "28  chevrolet    corvette           7.0   2008 8   manual(m6) r   15   24     \n",
       "29  chevrolet    k1500 tahoe 4wd    5.3   2008 8   auto(l4)   4   14   19     \n",
       "30  chevrolet    k1500 tahoe 4wd    5.3   2008 8   auto(l4)   4   11   14     \n",
       "... ...          ...                ...   ...  ... ...        ... ...  ...    \n",
       "205 toyota       toyota tacoma 4wd  3.4   1999 6   auto(l4)   4   15   19     \n",
       "206 toyota       toyota tacoma 4wd  4.0   2008 6   manual(m6) 4   15   18     \n",
       "207 toyota       toyota tacoma 4wd  4.0   2008 6   auto(l5)   4   16   20     \n",
       "208 volkswagen   gti                2.0   1999 4   manual(m5) f   21   29     \n",
       "209 volkswagen   gti                2.0   1999 4   auto(l4)   f   19   26     \n",
       "210 volkswagen   gti                2.0   2008 4   manual(m6) f   21   29     \n",
       "211 volkswagen   gti                2.0   2008 4   auto(s6)   f   22   29     \n",
       "212 volkswagen   gti                2.8   1999 6   manual(m5) f   17   24     \n",
       "213 volkswagen   jetta              1.9   1999 4   manual(m5) f   33   44     \n",
       "214 volkswagen   jetta              2.0   1999 4   manual(m5) f   21   29     \n",
       "215 volkswagen   jetta              2.0   1999 4   auto(l4)   f   19   26     \n",
       "216 volkswagen   jetta              2.0   2008 4   auto(s6)   f   22   29     \n",
       "217 volkswagen   jetta              2.0   2008 4   manual(m6) f   21   29     \n",
       "218 volkswagen   jetta              2.5   2008 5   auto(s6)   f   21   29     \n",
       "219 volkswagen   jetta              2.5   2008 5   manual(m5) f   21   29     \n",
       "220 volkswagen   jetta              2.8   1999 6   auto(l4)   f   16   23     \n",
       "221 volkswagen   jetta              2.8   1999 6   manual(m5) f   17   24     \n",
       "222 volkswagen   new beetle         1.9   1999 4   manual(m5) f   35   44     \n",
       "223 volkswagen   new beetle         1.9   1999 4   auto(l4)   f   29   41     \n",
       "224 volkswagen   new beetle         2.0   1999 4   manual(m5) f   21   29     \n",
       "225 volkswagen   new beetle         2.0   1999 4   auto(l4)   f   19   26     \n",
       "226 volkswagen   new beetle         2.5   2008 5   manual(m5) f   20   28     \n",
       "227 volkswagen   new beetle         2.5   2008 5   auto(s6)   f   20   29     \n",
       "228 volkswagen   passat             1.8   1999 4   manual(m5) f   21   29     \n",
       "229 volkswagen   passat             1.8   1999 4   auto(l5)   f   18   29     \n",
       "230 volkswagen   passat             2.0   2008 4   auto(s6)   f   19   28     \n",
       "231 volkswagen   passat             2.0   2008 4   manual(m6) f   21   29     \n",
       "232 volkswagen   passat             2.8   1999 6   auto(l5)   f   16   26     \n",
       "233 volkswagen   passat             2.8   1999 6   manual(m5) f   18   26     \n",
       "234 volkswagen   passat             3.6   2008 6   auto(s6)   f   17   26     \n",
       "    fl  class      total test\n",
       "1   p   compact    23.5  pass\n",
       "2   p   compact    25.0  pass\n",
       "3   p   compact    25.5  pass\n",
       "4   p   compact    25.5  pass\n",
       "5   p   compact    21.0  pass\n",
       "6   p   compact    22.0  pass\n",
       "7   p   compact    22.5  pass\n",
       "8   p   compact    22.0  pass\n",
       "9   p   compact    20.5  pass\n",
       "10  p   compact    24.0  pass\n",
       "11  p   compact    23.0  pass\n",
       "12  p   compact    20.0  pass\n",
       "13  p   compact    21.0  pass\n",
       "14  p   compact    21.0  pass\n",
       "15  p   compact    20.0  pass\n",
       "16  p   midsize    19.5  fail\n",
       "17  p   midsize    21.0  pass\n",
       "18  p   midsize    19.5  fail\n",
       "19  r   suv        17.0  fail\n",
       "20  e   suv        13.0  fail\n",
       "21  r   suv        17.0  fail\n",
       "22  r   suv        15.0  fail\n",
       "23  r   suv        14.5  fail\n",
       "24  p   2seater    21.0  pass\n",
       "25  p   2seater    19.0  fail\n",
       "26  p   2seater    21.0  pass\n",
       "27  p   2seater    20.0  pass\n",
       "28  p   2seater    19.5  fail\n",
       "29  r   suv        16.5  fail\n",
       "30  e   suv        12.5  fail\n",
       "... ... ...        ...   ... \n",
       "205 r   pickup     17.0  fail\n",
       "206 r   pickup     16.5  fail\n",
       "207 r   pickup     18.0  fail\n",
       "208 r   compact    25.0  pass\n",
       "209 r   compact    22.5  pass\n",
       "210 p   compact    25.0  pass\n",
       "211 p   compact    25.5  pass\n",
       "212 r   compact    20.5  pass\n",
       "213 d   compact    38.5  pass\n",
       "214 r   compact    25.0  pass\n",
       "215 r   compact    22.5  pass\n",
       "216 p   compact    25.5  pass\n",
       "217 p   compact    25.0  pass\n",
       "218 r   compact    25.0  pass\n",
       "219 r   compact    25.0  pass\n",
       "220 r   compact    19.5  fail\n",
       "221 r   compact    20.5  pass\n",
       "222 d   subcompact 39.5  pass\n",
       "223 d   subcompact 35.0  pass\n",
       "224 r   subcompact 25.0  pass\n",
       "225 r   subcompact 22.5  pass\n",
       "226 r   subcompact 24.0  pass\n",
       "227 r   subcompact 24.5  pass\n",
       "228 p   midsize    25.0  pass\n",
       "229 p   midsize    23.5  pass\n",
       "230 p   midsize    23.5  pass\n",
       "231 p   midsize    25.0  pass\n",
       "232 p   midsize    21.0  pass\n",
       "233 p   midsize    22.0  pass\n",
       "234 p   midsize    21.5  pass"
      ]
     },
     "metadata": {},
     "output_type": "display_data"
    }
   ],
   "source": [
    "#total값이 20이상이면 \"pass\", 아니면 \"fail\"을 부여\n",
    "mpg_copy$test<-ifelse(mpg_copy$total >= 20, \"pass\",\"fail\")\n",
    "mpg_copy"
   ]
  },
  {
   "cell_type": "markdown",
   "metadata": {},
   "source": [
    "#### 3.빈도표로 합격 판정 자동차 수 살펴보기"
   ]
  },
  {
   "cell_type": "code",
   "execution_count": 140,
   "metadata": {},
   "outputs": [
    {
     "data": {
      "text/plain": [
       "\n",
       "fail pass \n",
       " 106  128 "
      ]
     },
     "metadata": {},
     "output_type": "display_data"
    }
   ],
   "source": [
    "table(mpg_copy$test) # 연비 합격 빈도펴 생성"
   ]
  },
  {
   "cell_type": "markdown",
   "metadata": {},
   "source": [
    "#### 4.막대그래프 빈도 표현하기"
   ]
  },
  {
   "cell_type": "code",
   "execution_count": 141,
   "metadata": {},
   "outputs": [
    {
     "data": {
      "image/png": "[encoded data removed]",
      "text/plain": [
       "plot without title"
      ]
     },
     "metadata": {},
     "output_type": "display_data"
    }
   ],
   "source": [
    "library(ggplot2)     #ggplot2 로드\n",
    "qplot(mpg_copy$test) # 연비 합격 빈도 막대 그래프 생성"
   ]
  },
  {
   "cell_type": "markdown",
   "metadata": {},
   "source": [
    "### 중첩 조건문 활용하기 - 연비 등급 변수 만들기"
   ]
  },
  {
   "cell_type": "code",
   "execution_count": 150,
   "metadata": {},
   "outputs": [
    {
     "data": {
      "text/html": [
       "<table>\n",
       "<thead><tr><th scope=col>manufacturer</th><th scope=col>model</th><th scope=col>displ</th><th scope=col>year</th><th scope=col>cyl</th><th scope=col>trans</th><th scope=col>drv</th><th scope=col>city</th><th scope=col>highway</th><th scope=col>fl</th><th scope=col>class</th><th scope=col>total</th><th scope=col>test</th><th scope=col>grade</th></tr></thead>\n",
       "<tbody>\n",
       "\t<tr><td>audi              </td><td>a4                </td><td>1.8               </td><td>1999              </td><td>4                 </td><td>auto(l5)          </td><td>f                 </td><td>18                </td><td>29                </td><td>p                 </td><td>compact           </td><td>23.5              </td><td>pass              </td><td>B                 </td></tr>\n",
       "\t<tr><td>audi              </td><td>a4                </td><td>1.8               </td><td>1999              </td><td>4                 </td><td>manual(m5)        </td><td>f                 </td><td>21                </td><td>29                </td><td>p                 </td><td>compact           </td><td>25.0              </td><td>pass              </td><td>B                 </td></tr>\n",
       "\t<tr><td>audi              </td><td>a4                </td><td>2.0               </td><td>2008              </td><td>4                 </td><td>manual(m6)        </td><td>f                 </td><td>20                </td><td>31                </td><td>p                 </td><td>compact           </td><td>25.5              </td><td>pass              </td><td>B                 </td></tr>\n",
       "\t<tr><td>audi              </td><td>a4                </td><td>2.0               </td><td>2008              </td><td>4                 </td><td>auto(av)          </td><td>f                 </td><td>21                </td><td>30                </td><td>p                 </td><td>compact           </td><td>25.5              </td><td>pass              </td><td>B                 </td></tr>\n",
       "\t<tr><td>audi              </td><td>a4                </td><td>2.8               </td><td>1999              </td><td>6                 </td><td>auto(l5)          </td><td>f                 </td><td>16                </td><td>26                </td><td>p                 </td><td>compact           </td><td>21.0              </td><td>pass              </td><td>B                 </td></tr>\n",
       "\t<tr><td>audi              </td><td>a4                </td><td>2.8               </td><td>1999              </td><td>6                 </td><td>manual(m5)        </td><td>f                 </td><td>18                </td><td>26                </td><td>p                 </td><td>compact           </td><td>22.0              </td><td>pass              </td><td>B                 </td></tr>\n",
       "\t<tr><td>audi              </td><td>a4                </td><td>3.1               </td><td>2008              </td><td>6                 </td><td>auto(av)          </td><td>f                 </td><td>18                </td><td>27                </td><td>p                 </td><td>compact           </td><td>22.5              </td><td>pass              </td><td>B                 </td></tr>\n",
       "\t<tr><td>audi              </td><td>a4 quattro        </td><td>1.8               </td><td>1999              </td><td>4                 </td><td>manual(m5)        </td><td>4                 </td><td>18                </td><td>26                </td><td>p                 </td><td>compact           </td><td>22.0              </td><td>pass              </td><td>B                 </td></tr>\n",
       "\t<tr><td>audi              </td><td>a4 quattro        </td><td>1.8               </td><td>1999              </td><td>4                 </td><td>auto(l5)          </td><td>4                 </td><td>16                </td><td>25                </td><td>p                 </td><td>compact           </td><td>20.5              </td><td>pass              </td><td>B                 </td></tr>\n",
       "\t<tr><td>audi              </td><td>a4 quattro        </td><td>2.0               </td><td>2008              </td><td>4                 </td><td>manual(m6)        </td><td>4                 </td><td>20                </td><td>28                </td><td>p                 </td><td>compact           </td><td>24.0              </td><td>pass              </td><td>B                 </td></tr>\n",
       "\t<tr><td>audi              </td><td>a4 quattro        </td><td>2.0               </td><td>2008              </td><td>4                 </td><td>auto(s6)          </td><td>4                 </td><td>19                </td><td>27                </td><td>p                 </td><td>compact           </td><td>23.0              </td><td>pass              </td><td>B                 </td></tr>\n",
       "\t<tr><td>audi              </td><td>a4 quattro        </td><td>2.8               </td><td>1999              </td><td>6                 </td><td>auto(l5)          </td><td>4                 </td><td>15                </td><td>25                </td><td>p                 </td><td>compact           </td><td>20.0              </td><td>pass              </td><td>B                 </td></tr>\n",
       "\t<tr><td>audi              </td><td>a4 quattro        </td><td>2.8               </td><td>1999              </td><td>6                 </td><td>manual(m5)        </td><td>4                 </td><td>17                </td><td>25                </td><td>p                 </td><td>compact           </td><td>21.0              </td><td>pass              </td><td>B                 </td></tr>\n",
       "\t<tr><td>audi              </td><td>a4 quattro        </td><td>3.1               </td><td>2008              </td><td>6                 </td><td>auto(s6)          </td><td>4                 </td><td>17                </td><td>25                </td><td>p                 </td><td>compact           </td><td>21.0              </td><td>pass              </td><td>B                 </td></tr>\n",
       "\t<tr><td>audi              </td><td>a4 quattro        </td><td>3.1               </td><td>2008              </td><td>6                 </td><td>manual(m6)        </td><td>4                 </td><td>15                </td><td>25                </td><td>p                 </td><td>compact           </td><td>20.0              </td><td>pass              </td><td>B                 </td></tr>\n",
       "\t<tr><td>audi              </td><td>a6 quattro        </td><td>2.8               </td><td>1999              </td><td>6                 </td><td>auto(l5)          </td><td>4                 </td><td>15                </td><td>24                </td><td>p                 </td><td>midsize           </td><td>19.5              </td><td>fail              </td><td>C                 </td></tr>\n",
       "\t<tr><td>audi              </td><td>a6 quattro        </td><td>3.1               </td><td>2008              </td><td>6                 </td><td>auto(s6)          </td><td>4                 </td><td>17                </td><td>25                </td><td>p                 </td><td>midsize           </td><td>21.0              </td><td>pass              </td><td>B                 </td></tr>\n",
       "\t<tr><td>audi              </td><td>a6 quattro        </td><td>4.2               </td><td>2008              </td><td>8                 </td><td>auto(s6)          </td><td>4                 </td><td>16                </td><td>23                </td><td>p                 </td><td>midsize           </td><td>19.5              </td><td>fail              </td><td>C                 </td></tr>\n",
       "\t<tr><td>chevrolet         </td><td>c1500 suburban 2wd</td><td>5.3               </td><td>2008              </td><td>8                 </td><td>auto(l4)          </td><td>r                 </td><td>14                </td><td>20                </td><td>r                 </td><td>suv               </td><td>17.0              </td><td>fail              </td><td>C                 </td></tr>\n",
       "\t<tr><td>chevrolet         </td><td>c1500 suburban 2wd</td><td>5.3               </td><td>2008              </td><td>8                 </td><td>auto(l4)          </td><td>r                 </td><td>11                </td><td>15                </td><td>e                 </td><td>suv               </td><td>13.0              </td><td>fail              </td><td>C                 </td></tr>\n",
       "</tbody>\n",
       "</table>\n"
      ],
      "text/latex": [
       "\\begin{tabular}{r|llllllllllllll}\n",
       " manufacturer & model & displ & year & cyl & trans & drv & city & highway & fl & class & total & test & grade\\\\\n",
       "\\hline\n",
       "\t audi               & a4                 & 1.8                & 1999               & 4                  & auto(l5)           & f                  & 18                 & 29                 & p                  & compact            & 23.5               & pass               & B                 \\\\\n",
       "\t audi               & a4                 & 1.8                & 1999               & 4                  & manual(m5)         & f                  & 21                 & 29                 & p                  & compact            & 25.0               & pass               & B                 \\\\\n",
       "\t audi               & a4                 & 2.0                & 2008               & 4                  & manual(m6)         & f                  & 20                 & 31                 & p                  & compact            & 25.5               & pass               & B                 \\\\\n",
       "\t audi               & a4                 & 2.0                & 2008               & 4                  & auto(av)           & f                  & 21                 & 30                 & p                  & compact            & 25.5               & pass               & B                 \\\\\n",
       "\t audi               & a4                 & 2.8                & 1999               & 6                  & auto(l5)           & f                  & 16                 & 26                 & p                  & compact            & 21.0               & pass               & B                 \\\\\n",
       "\t audi               & a4                 & 2.8                & 1999               & 6                  & manual(m5)         & f                  & 18                 & 26                 & p                  & compact            & 22.0               & pass               & B                 \\\\\n",
       "\t audi               & a4                 & 3.1                & 2008               & 6                  & auto(av)           & f                  & 18                 & 27                 & p                  & compact            & 22.5               & pass               & B                 \\\\\n",
       "\t audi               & a4 quattro         & 1.8                & 1999               & 4                  & manual(m5)         & 4                  & 18                 & 26                 & p                  & compact            & 22.0               & pass               & B                 \\\\\n",
       "\t audi               & a4 quattro         & 1.8                & 1999               & 4                  & auto(l5)           & 4                  & 16                 & 25                 & p                  & compact            & 20.5               & pass               & B                 \\\\\n",
       "\t audi               & a4 quattro         & 2.0                & 2008               & 4                  & manual(m6)         & 4                  & 20                 & 28                 & p                  & compact            & 24.0               & pass               & B                 \\\\\n",
       "\t audi               & a4 quattro         & 2.0                & 2008               & 4                  & auto(s6)           & 4                  & 19                 & 27                 & p                  & compact            & 23.0               & pass               & B                 \\\\\n",
       "\t audi               & a4 quattro         & 2.8                & 1999               & 6                  & auto(l5)           & 4                  & 15                 & 25                 & p                  & compact            & 20.0               & pass               & B                 \\\\\n",
       "\t audi               & a4 quattro         & 2.8                & 1999               & 6                  & manual(m5)         & 4                  & 17                 & 25                 & p                  & compact            & 21.0               & pass               & B                 \\\\\n",
       "\t audi               & a4 quattro         & 3.1                & 2008               & 6                  & auto(s6)           & 4                  & 17                 & 25                 & p                  & compact            & 21.0               & pass               & B                 \\\\\n",
       "\t audi               & a4 quattro         & 3.1                & 2008               & 6                  & manual(m6)         & 4                  & 15                 & 25                 & p                  & compact            & 20.0               & pass               & B                 \\\\\n",
       "\t audi               & a6 quattro         & 2.8                & 1999               & 6                  & auto(l5)           & 4                  & 15                 & 24                 & p                  & midsize            & 19.5               & fail               & C                 \\\\\n",
       "\t audi               & a6 quattro         & 3.1                & 2008               & 6                  & auto(s6)           & 4                  & 17                 & 25                 & p                  & midsize            & 21.0               & pass               & B                 \\\\\n",
       "\t audi               & a6 quattro         & 4.2                & 2008               & 8                  & auto(s6)           & 4                  & 16                 & 23                 & p                  & midsize            & 19.5               & fail               & C                 \\\\\n",
       "\t chevrolet          & c1500 suburban 2wd & 5.3                & 2008               & 8                  & auto(l4)           & r                  & 14                 & 20                 & r                  & suv                & 17.0               & fail               & C                 \\\\\n",
       "\t chevrolet          & c1500 suburban 2wd & 5.3                & 2008               & 8                  & auto(l4)           & r                  & 11                 & 15                 & e                  & suv                & 13.0               & fail               & C                 \\\\\n",
       "\\end{tabular}\n"
      ],
      "text/markdown": [
       "\n",
       "| manufacturer | model | displ | year | cyl | trans | drv | city | highway | fl | class | total | test | grade |\n",
       "|---|---|---|---|---|---|---|---|---|---|---|---|---|---|\n",
       "| audi               | a4                 | 1.8                | 1999               | 4                  | auto(l5)           | f                  | 18                 | 29                 | p                  | compact            | 23.5               | pass               | B                  |\n",
       "| audi               | a4                 | 1.8                | 1999               | 4                  | manual(m5)         | f                  | 21                 | 29                 | p                  | compact            | 25.0               | pass               | B                  |\n",
       "| audi               | a4                 | 2.0                | 2008               | 4                  | manual(m6)         | f                  | 20                 | 31                 | p                  | compact            | 25.5               | pass               | B                  |\n",
       "| audi               | a4                 | 2.0                | 2008               | 4                  | auto(av)           | f                  | 21                 | 30                 | p                  | compact            | 25.5               | pass               | B                  |\n",
       "| audi               | a4                 | 2.8                | 1999               | 6                  | auto(l5)           | f                  | 16                 | 26                 | p                  | compact            | 21.0               | pass               | B                  |\n",
       "| audi               | a4                 | 2.8                | 1999               | 6                  | manual(m5)         | f                  | 18                 | 26                 | p                  | compact            | 22.0               | pass               | B                  |\n",
       "| audi               | a4                 | 3.1                | 2008               | 6                  | auto(av)           | f                  | 18                 | 27                 | p                  | compact            | 22.5               | pass               | B                  |\n",
       "| audi               | a4 quattro         | 1.8                | 1999               | 4                  | manual(m5)         | 4                  | 18                 | 26                 | p                  | compact            | 22.0               | pass               | B                  |\n",
       "| audi               | a4 quattro         | 1.8                | 1999               | 4                  | auto(l5)           | 4                  | 16                 | 25                 | p                  | compact            | 20.5               | pass               | B                  |\n",
       "| audi               | a4 quattro         | 2.0                | 2008               | 4                  | manual(m6)         | 4                  | 20                 | 28                 | p                  | compact            | 24.0               | pass               | B                  |\n",
       "| audi               | a4 quattro         | 2.0                | 2008               | 4                  | auto(s6)           | 4                  | 19                 | 27                 | p                  | compact            | 23.0               | pass               | B                  |\n",
       "| audi               | a4 quattro         | 2.8                | 1999               | 6                  | auto(l5)           | 4                  | 15                 | 25                 | p                  | compact            | 20.0               | pass               | B                  |\n",
       "| audi               | a4 quattro         | 2.8                | 1999               | 6                  | manual(m5)         | 4                  | 17                 | 25                 | p                  | compact            | 21.0               | pass               | B                  |\n",
       "| audi               | a4 quattro         | 3.1                | 2008               | 6                  | auto(s6)           | 4                  | 17                 | 25                 | p                  | compact            | 21.0               | pass               | B                  |\n",
       "| audi               | a4 quattro         | 3.1                | 2008               | 6                  | manual(m6)         | 4                  | 15                 | 25                 | p                  | compact            | 20.0               | pass               | B                  |\n",
       "| audi               | a6 quattro         | 2.8                | 1999               | 6                  | auto(l5)           | 4                  | 15                 | 24                 | p                  | midsize            | 19.5               | fail               | C                  |\n",
       "| audi               | a6 quattro         | 3.1                | 2008               | 6                  | auto(s6)           | 4                  | 17                 | 25                 | p                  | midsize            | 21.0               | pass               | B                  |\n",
       "| audi               | a6 quattro         | 4.2                | 2008               | 8                  | auto(s6)           | 4                  | 16                 | 23                 | p                  | midsize            | 19.5               | fail               | C                  |\n",
       "| chevrolet          | c1500 suburban 2wd | 5.3                | 2008               | 8                  | auto(l4)           | r                  | 14                 | 20                 | r                  | suv                | 17.0               | fail               | C                  |\n",
       "| chevrolet          | c1500 suburban 2wd | 5.3                | 2008               | 8                  | auto(l4)           | r                  | 11                 | 15                 | e                  | suv                | 13.0               | fail               | C                  |\n",
       "\n"
      ],
      "text/plain": [
       "   manufacturer model              displ year cyl trans      drv city highway\n",
       "1  audi         a4                 1.8   1999 4   auto(l5)   f   18   29     \n",
       "2  audi         a4                 1.8   1999 4   manual(m5) f   21   29     \n",
       "3  audi         a4                 2.0   2008 4   manual(m6) f   20   31     \n",
       "4  audi         a4                 2.0   2008 4   auto(av)   f   21   30     \n",
       "5  audi         a4                 2.8   1999 6   auto(l5)   f   16   26     \n",
       "6  audi         a4                 2.8   1999 6   manual(m5) f   18   26     \n",
       "7  audi         a4                 3.1   2008 6   auto(av)   f   18   27     \n",
       "8  audi         a4 quattro         1.8   1999 4   manual(m5) 4   18   26     \n",
       "9  audi         a4 quattro         1.8   1999 4   auto(l5)   4   16   25     \n",
       "10 audi         a4 quattro         2.0   2008 4   manual(m6) 4   20   28     \n",
       "11 audi         a4 quattro         2.0   2008 4   auto(s6)   4   19   27     \n",
       "12 audi         a4 quattro         2.8   1999 6   auto(l5)   4   15   25     \n",
       "13 audi         a4 quattro         2.8   1999 6   manual(m5) 4   17   25     \n",
       "14 audi         a4 quattro         3.1   2008 6   auto(s6)   4   17   25     \n",
       "15 audi         a4 quattro         3.1   2008 6   manual(m6) 4   15   25     \n",
       "16 audi         a6 quattro         2.8   1999 6   auto(l5)   4   15   24     \n",
       "17 audi         a6 quattro         3.1   2008 6   auto(s6)   4   17   25     \n",
       "18 audi         a6 quattro         4.2   2008 8   auto(s6)   4   16   23     \n",
       "19 chevrolet    c1500 suburban 2wd 5.3   2008 8   auto(l4)   r   14   20     \n",
       "20 chevrolet    c1500 suburban 2wd 5.3   2008 8   auto(l4)   r   11   15     \n",
       "   fl class   total test grade\n",
       "1  p  compact 23.5  pass B    \n",
       "2  p  compact 25.0  pass B    \n",
       "3  p  compact 25.5  pass B    \n",
       "4  p  compact 25.5  pass B    \n",
       "5  p  compact 21.0  pass B    \n",
       "6  p  compact 22.0  pass B    \n",
       "7  p  compact 22.5  pass B    \n",
       "8  p  compact 22.0  pass B    \n",
       "9  p  compact 20.5  pass B    \n",
       "10 p  compact 24.0  pass B    \n",
       "11 p  compact 23.0  pass B    \n",
       "12 p  compact 20.0  pass B    \n",
       "13 p  compact 21.0  pass B    \n",
       "14 p  compact 21.0  pass B    \n",
       "15 p  compact 20.0  pass B    \n",
       "16 p  midsize 19.5  fail C    \n",
       "17 p  midsize 21.0  pass B    \n",
       "18 p  midsize 19.5  fail C    \n",
       "19 r  suv     17.0  fail C    \n",
       "20 e  suv     13.0  fail C    "
      ]
     },
     "metadata": {},
     "output_type": "display_data"
    }
   ],
   "source": [
    "# total을 기준으로 A,B,C 등급 부여\n",
    "mpg_copy$grade<-ifelse(mpg_copy$total >= 30,\"A\",ifelse(mpg_copy$total >=20,\"B\",\"C\"))\n",
    "head(mpg_copy,20)"
   ]
  },
  {
   "cell_type": "markdown",
   "metadata": {},
   "source": [
    "- [유의] ifelse()가 두 번 반복되므로 열리는 괄호와 닫히는 괄호가 각각 두 개, 쉼표도 각각 두 개 "
   ]
  },
  {
   "cell_type": "markdown",
   "metadata": {},
   "source": [
    "#### 빈도표, 막대 그래프로 연비 등급 살펴보기"
   ]
  },
  {
   "cell_type": "code",
   "execution_count": 152,
   "metadata": {},
   "outputs": [
    {
     "data": {
      "text/plain": [
       "\n",
       "  A   B   C \n",
       " 10 118 106 "
      ]
     },
     "metadata": {},
     "output_type": "display_data"
    },
    {
     "data": {
      "image/png": "[encoded data removed]",
      "text/plain": [
       "plot without title"
      ]
     },
     "metadata": {},
     "output_type": "display_data"
    }
   ],
   "source": [
    "table(mpg_copy$grade) # 연비 등급 빈도표 출력\n",
    "qplot(mpg_copy$grade) # 연비 등급 막대 그래프 출력"
   ]
  },
  {
   "cell_type": "markdown",
   "metadata": {},
   "source": [
    "### 원하는 만큼 범주 만들기"
   ]
  },
  {
   "cell_type": "code",
   "execution_count": 156,
   "metadata": {},
   "outputs": [
    {
     "data": {
      "text/html": [
       "<table>\n",
       "<thead><tr><th scope=col>manufacturer</th><th scope=col>model</th><th scope=col>displ</th><th scope=col>year</th><th scope=col>cyl</th><th scope=col>trans</th><th scope=col>drv</th><th scope=col>city</th><th scope=col>highway</th><th scope=col>fl</th><th scope=col>class</th><th scope=col>total</th><th scope=col>test</th><th scope=col>grade</th><th scope=col>grade2</th></tr></thead>\n",
       "<tbody>\n",
       "\t<tr><td>audi              </td><td>a4                </td><td>1.8               </td><td>1999              </td><td>4                 </td><td>auto(l5)          </td><td>f                 </td><td>18                </td><td>29                </td><td>p                 </td><td>compact           </td><td>23.5              </td><td>pass              </td><td>B                 </td><td>C                 </td></tr>\n",
       "\t<tr><td>audi              </td><td>a4                </td><td>1.8               </td><td>1999              </td><td>4                 </td><td>manual(m5)        </td><td>f                 </td><td>21                </td><td>29                </td><td>p                 </td><td>compact           </td><td>25.0              </td><td>pass              </td><td>B                 </td><td>B                 </td></tr>\n",
       "\t<tr><td>audi              </td><td>a4                </td><td>2.0               </td><td>2008              </td><td>4                 </td><td>manual(m6)        </td><td>f                 </td><td>20                </td><td>31                </td><td>p                 </td><td>compact           </td><td>25.5              </td><td>pass              </td><td>B                 </td><td>B                 </td></tr>\n",
       "\t<tr><td>audi              </td><td>a4                </td><td>2.0               </td><td>2008              </td><td>4                 </td><td>auto(av)          </td><td>f                 </td><td>21                </td><td>30                </td><td>p                 </td><td>compact           </td><td>25.5              </td><td>pass              </td><td>B                 </td><td>B                 </td></tr>\n",
       "\t<tr><td>audi              </td><td>a4                </td><td>2.8               </td><td>1999              </td><td>6                 </td><td>auto(l5)          </td><td>f                 </td><td>16                </td><td>26                </td><td>p                 </td><td>compact           </td><td>21.0              </td><td>pass              </td><td>B                 </td><td>C                 </td></tr>\n",
       "\t<tr><td>audi              </td><td>a4                </td><td>2.8               </td><td>1999              </td><td>6                 </td><td>manual(m5)        </td><td>f                 </td><td>18                </td><td>26                </td><td>p                 </td><td>compact           </td><td>22.0              </td><td>pass              </td><td>B                 </td><td>C                 </td></tr>\n",
       "\t<tr><td>audi              </td><td>a4                </td><td>3.1               </td><td>2008              </td><td>6                 </td><td>auto(av)          </td><td>f                 </td><td>18                </td><td>27                </td><td>p                 </td><td>compact           </td><td>22.5              </td><td>pass              </td><td>B                 </td><td>C                 </td></tr>\n",
       "\t<tr><td>audi              </td><td>a4 quattro        </td><td>1.8               </td><td>1999              </td><td>4                 </td><td>manual(m5)        </td><td>4                 </td><td>18                </td><td>26                </td><td>p                 </td><td>compact           </td><td>22.0              </td><td>pass              </td><td>B                 </td><td>C                 </td></tr>\n",
       "\t<tr><td>audi              </td><td>a4 quattro        </td><td>1.8               </td><td>1999              </td><td>4                 </td><td>auto(l5)          </td><td>4                 </td><td>16                </td><td>25                </td><td>p                 </td><td>compact           </td><td>20.5              </td><td>pass              </td><td>B                 </td><td>C                 </td></tr>\n",
       "\t<tr><td>audi              </td><td>a4 quattro        </td><td>2.0               </td><td>2008              </td><td>4                 </td><td>manual(m6)        </td><td>4                 </td><td>20                </td><td>28                </td><td>p                 </td><td>compact           </td><td>24.0              </td><td>pass              </td><td>B                 </td><td>C                 </td></tr>\n",
       "\t<tr><td>audi              </td><td>a4 quattro        </td><td>2.0               </td><td>2008              </td><td>4                 </td><td>auto(s6)          </td><td>4                 </td><td>19                </td><td>27                </td><td>p                 </td><td>compact           </td><td>23.0              </td><td>pass              </td><td>B                 </td><td>C                 </td></tr>\n",
       "\t<tr><td>audi              </td><td>a4 quattro        </td><td>2.8               </td><td>1999              </td><td>6                 </td><td>auto(l5)          </td><td>4                 </td><td>15                </td><td>25                </td><td>p                 </td><td>compact           </td><td>20.0              </td><td>pass              </td><td>B                 </td><td>C                 </td></tr>\n",
       "\t<tr><td>audi              </td><td>a4 quattro        </td><td>2.8               </td><td>1999              </td><td>6                 </td><td>manual(m5)        </td><td>4                 </td><td>17                </td><td>25                </td><td>p                 </td><td>compact           </td><td>21.0              </td><td>pass              </td><td>B                 </td><td>C                 </td></tr>\n",
       "\t<tr><td>audi              </td><td>a4 quattro        </td><td>3.1               </td><td>2008              </td><td>6                 </td><td>auto(s6)          </td><td>4                 </td><td>17                </td><td>25                </td><td>p                 </td><td>compact           </td><td>21.0              </td><td>pass              </td><td>B                 </td><td>C                 </td></tr>\n",
       "\t<tr><td>audi              </td><td>a4 quattro        </td><td>3.1               </td><td>2008              </td><td>6                 </td><td>manual(m6)        </td><td>4                 </td><td>15                </td><td>25                </td><td>p                 </td><td>compact           </td><td>20.0              </td><td>pass              </td><td>B                 </td><td>C                 </td></tr>\n",
       "\t<tr><td>audi              </td><td>a6 quattro        </td><td>2.8               </td><td>1999              </td><td>6                 </td><td>auto(l5)          </td><td>4                 </td><td>15                </td><td>24                </td><td>p                 </td><td>midsize           </td><td>19.5              </td><td>fail              </td><td>C                 </td><td>E                 </td></tr>\n",
       "\t<tr><td>audi              </td><td>a6 quattro        </td><td>3.1               </td><td>2008              </td><td>6                 </td><td>auto(s6)          </td><td>4                 </td><td>17                </td><td>25                </td><td>p                 </td><td>midsize           </td><td>21.0              </td><td>pass              </td><td>B                 </td><td>C                 </td></tr>\n",
       "\t<tr><td>audi              </td><td>a6 quattro        </td><td>4.2               </td><td>2008              </td><td>8                 </td><td>auto(s6)          </td><td>4                 </td><td>16                </td><td>23                </td><td>p                 </td><td>midsize           </td><td>19.5              </td><td>fail              </td><td>C                 </td><td>E                 </td></tr>\n",
       "\t<tr><td>chevrolet         </td><td>c1500 suburban 2wd</td><td>5.3               </td><td>2008              </td><td>8                 </td><td>auto(l4)          </td><td>r                 </td><td>14                </td><td>20                </td><td>r                 </td><td>suv               </td><td>17.0              </td><td>fail              </td><td>C                 </td><td>E                 </td></tr>\n",
       "\t<tr><td>chevrolet         </td><td>c1500 suburban 2wd</td><td>5.3               </td><td>2008              </td><td>8                 </td><td>auto(l4)          </td><td>r                 </td><td>11                </td><td>15                </td><td>e                 </td><td>suv               </td><td>13.0              </td><td>fail              </td><td>C                 </td><td>E                 </td></tr>\n",
       "\t<tr><td>chevrolet         </td><td>c1500 suburban 2wd</td><td>5.3               </td><td>2008              </td><td>8                 </td><td>auto(l4)          </td><td>r                 </td><td>14                </td><td>20                </td><td>r                 </td><td>suv               </td><td>17.0              </td><td>fail              </td><td>C                 </td><td>E                 </td></tr>\n",
       "\t<tr><td>chevrolet         </td><td>c1500 suburban 2wd</td><td>5.7               </td><td>1999              </td><td>8                 </td><td>auto(l4)          </td><td>r                 </td><td>13                </td><td>17                </td><td>r                 </td><td>suv               </td><td>15.0              </td><td>fail              </td><td>C                 </td><td>E                 </td></tr>\n",
       "\t<tr><td>chevrolet         </td><td>c1500 suburban 2wd</td><td>6.0               </td><td>2008              </td><td>8                 </td><td>auto(l4)          </td><td>r                 </td><td>12                </td><td>17                </td><td>r                 </td><td>suv               </td><td>14.5              </td><td>fail              </td><td>C                 </td><td>E                 </td></tr>\n",
       "\t<tr><td>chevrolet         </td><td>corvette          </td><td>5.7               </td><td>1999              </td><td>8                 </td><td>manual(m6)        </td><td>r                 </td><td>16                </td><td>26                </td><td>p                 </td><td>2seater           </td><td>21.0              </td><td>pass              </td><td>B                 </td><td>C                 </td></tr>\n",
       "\t<tr><td>chevrolet         </td><td>corvette          </td><td>5.7               </td><td>1999              </td><td>8                 </td><td>auto(l4)          </td><td>r                 </td><td>15                </td><td>23                </td><td>p                 </td><td>2seater           </td><td>19.0              </td><td>fail              </td><td>C                 </td><td>E                 </td></tr>\n",
       "\t<tr><td>chevrolet         </td><td>corvette          </td><td>6.2               </td><td>2008              </td><td>8                 </td><td>manual(m6)        </td><td>r                 </td><td>16                </td><td>26                </td><td>p                 </td><td>2seater           </td><td>21.0              </td><td>pass              </td><td>B                 </td><td>C                 </td></tr>\n",
       "\t<tr><td>chevrolet         </td><td>corvette          </td><td>6.2               </td><td>2008              </td><td>8                 </td><td>auto(s6)          </td><td>r                 </td><td>15                </td><td>25                </td><td>p                 </td><td>2seater           </td><td>20.0              </td><td>pass              </td><td>B                 </td><td>C                 </td></tr>\n",
       "\t<tr><td>chevrolet         </td><td>corvette          </td><td>7.0               </td><td>2008              </td><td>8                 </td><td>manual(m6)        </td><td>r                 </td><td>15                </td><td>24                </td><td>p                 </td><td>2seater           </td><td>19.5              </td><td>fail              </td><td>C                 </td><td>E                 </td></tr>\n",
       "\t<tr><td>chevrolet         </td><td>k1500 tahoe 4wd   </td><td>5.3               </td><td>2008              </td><td>8                 </td><td>auto(l4)          </td><td>4                 </td><td>14                </td><td>19                </td><td>r                 </td><td>suv               </td><td>16.5              </td><td>fail              </td><td>C                 </td><td>E                 </td></tr>\n",
       "\t<tr><td>chevrolet         </td><td>k1500 tahoe 4wd   </td><td>5.3               </td><td>2008              </td><td>8                 </td><td>auto(l4)          </td><td>4                 </td><td>11                </td><td>14                </td><td>e                 </td><td>suv               </td><td>12.5              </td><td>fail              </td><td>C                 </td><td>E                 </td></tr>\n",
       "\t<tr><td>...</td><td>...</td><td>...</td><td>...</td><td>...</td><td>...</td><td>...</td><td>...</td><td>...</td><td>...</td><td>...</td><td>...</td><td>...</td><td>...</td><td>...</td></tr>\n",
       "\t<tr><td>toyota           </td><td>toyota tacoma 4wd</td><td>3.4              </td><td>1999             </td><td>6                </td><td>auto(l4)         </td><td>4                </td><td>15               </td><td>19               </td><td>r                </td><td>pickup           </td><td>17.0             </td><td>fail             </td><td>C                </td><td>E                </td></tr>\n",
       "\t<tr><td>toyota           </td><td>toyota tacoma 4wd</td><td>4.0              </td><td>2008             </td><td>6                </td><td>manual(m6)       </td><td>4                </td><td>15               </td><td>18               </td><td>r                </td><td>pickup           </td><td>16.5             </td><td>fail             </td><td>C                </td><td>E                </td></tr>\n",
       "\t<tr><td>toyota           </td><td>toyota tacoma 4wd</td><td>4.0              </td><td>2008             </td><td>6                </td><td>auto(l5)         </td><td>4                </td><td>16               </td><td>20               </td><td>r                </td><td>pickup           </td><td>18.0             </td><td>fail             </td><td>C                </td><td>E                </td></tr>\n",
       "\t<tr><td>volkswagen       </td><td>gti              </td><td>2.0              </td><td>1999             </td><td>4                </td><td>manual(m5)       </td><td>f                </td><td>21               </td><td>29               </td><td>r                </td><td>compact          </td><td>25.0             </td><td>pass             </td><td>B                </td><td>B                </td></tr>\n",
       "\t<tr><td>volkswagen       </td><td>gti              </td><td>2.0              </td><td>1999             </td><td>4                </td><td>auto(l4)         </td><td>f                </td><td>19               </td><td>26               </td><td>r                </td><td>compact          </td><td>22.5             </td><td>pass             </td><td>B                </td><td>C                </td></tr>\n",
       "\t<tr><td>volkswagen       </td><td>gti              </td><td>2.0              </td><td>2008             </td><td>4                </td><td>manual(m6)       </td><td>f                </td><td>21               </td><td>29               </td><td>p                </td><td>compact          </td><td>25.0             </td><td>pass             </td><td>B                </td><td>B                </td></tr>\n",
       "\t<tr><td>volkswagen       </td><td>gti              </td><td>2.0              </td><td>2008             </td><td>4                </td><td>auto(s6)         </td><td>f                </td><td>22               </td><td>29               </td><td>p                </td><td>compact          </td><td>25.5             </td><td>pass             </td><td>B                </td><td>B                </td></tr>\n",
       "\t<tr><td>volkswagen       </td><td>gti              </td><td>2.8              </td><td>1999             </td><td>6                </td><td>manual(m5)       </td><td>f                </td><td>17               </td><td>24               </td><td>r                </td><td>compact          </td><td>20.5             </td><td>pass             </td><td>B                </td><td>C                </td></tr>\n",
       "\t<tr><td>volkswagen       </td><td>jetta            </td><td>1.9              </td><td>1999             </td><td>4                </td><td>manual(m5)       </td><td>f                </td><td>33               </td><td>44               </td><td>d                </td><td>compact          </td><td>38.5             </td><td>pass             </td><td>A                </td><td>A                </td></tr>\n",
       "\t<tr><td>volkswagen       </td><td>jetta            </td><td>2.0              </td><td>1999             </td><td>4                </td><td>manual(m5)       </td><td>f                </td><td>21               </td><td>29               </td><td>r                </td><td>compact          </td><td>25.0             </td><td>pass             </td><td>B                </td><td>B                </td></tr>\n",
       "\t<tr><td>volkswagen       </td><td>jetta            </td><td>2.0              </td><td>1999             </td><td>4                </td><td>auto(l4)         </td><td>f                </td><td>19               </td><td>26               </td><td>r                </td><td>compact          </td><td>22.5             </td><td>pass             </td><td>B                </td><td>C                </td></tr>\n",
       "\t<tr><td>volkswagen       </td><td>jetta            </td><td>2.0              </td><td>2008             </td><td>4                </td><td>auto(s6)         </td><td>f                </td><td>22               </td><td>29               </td><td>p                </td><td>compact          </td><td>25.5             </td><td>pass             </td><td>B                </td><td>B                </td></tr>\n",
       "\t<tr><td>volkswagen       </td><td>jetta            </td><td>2.0              </td><td>2008             </td><td>4                </td><td>manual(m6)       </td><td>f                </td><td>21               </td><td>29               </td><td>p                </td><td>compact          </td><td>25.0             </td><td>pass             </td><td>B                </td><td>B                </td></tr>\n",
       "\t<tr><td>volkswagen       </td><td>jetta            </td><td>2.5              </td><td>2008             </td><td>5                </td><td>auto(s6)         </td><td>f                </td><td>21               </td><td>29               </td><td>r                </td><td>compact          </td><td>25.0             </td><td>pass             </td><td>B                </td><td>B                </td></tr>\n",
       "\t<tr><td>volkswagen       </td><td>jetta            </td><td>2.5              </td><td>2008             </td><td>5                </td><td>manual(m5)       </td><td>f                </td><td>21               </td><td>29               </td><td>r                </td><td>compact          </td><td>25.0             </td><td>pass             </td><td>B                </td><td>B                </td></tr>\n",
       "\t<tr><td>volkswagen       </td><td>jetta            </td><td>2.8              </td><td>1999             </td><td>6                </td><td>auto(l4)         </td><td>f                </td><td>16               </td><td>23               </td><td>r                </td><td>compact          </td><td>19.5             </td><td>fail             </td><td>C                </td><td>E                </td></tr>\n",
       "\t<tr><td>volkswagen       </td><td>jetta            </td><td>2.8              </td><td>1999             </td><td>6                </td><td>manual(m5)       </td><td>f                </td><td>17               </td><td>24               </td><td>r                </td><td>compact          </td><td>20.5             </td><td>pass             </td><td>B                </td><td>C                </td></tr>\n",
       "\t<tr><td>volkswagen       </td><td>new beetle       </td><td>1.9              </td><td>1999             </td><td>4                </td><td>manual(m5)       </td><td>f                </td><td>35               </td><td>44               </td><td>d                </td><td>subcompact       </td><td>39.5             </td><td>pass             </td><td>A                </td><td>A                </td></tr>\n",
       "\t<tr><td>volkswagen       </td><td>new beetle       </td><td>1.9              </td><td>1999             </td><td>4                </td><td>auto(l4)         </td><td>f                </td><td>29               </td><td>41               </td><td>d                </td><td>subcompact       </td><td>35.0             </td><td>pass             </td><td>A                </td><td>A                </td></tr>\n",
       "\t<tr><td>volkswagen       </td><td>new beetle       </td><td>2.0              </td><td>1999             </td><td>4                </td><td>manual(m5)       </td><td>f                </td><td>21               </td><td>29               </td><td>r                </td><td>subcompact       </td><td>25.0             </td><td>pass             </td><td>B                </td><td>B                </td></tr>\n",
       "\t<tr><td>volkswagen       </td><td>new beetle       </td><td>2.0              </td><td>1999             </td><td>4                </td><td>auto(l4)         </td><td>f                </td><td>19               </td><td>26               </td><td>r                </td><td>subcompact       </td><td>22.5             </td><td>pass             </td><td>B                </td><td>C                </td></tr>\n",
       "\t<tr><td>volkswagen       </td><td>new beetle       </td><td>2.5              </td><td>2008             </td><td>5                </td><td>manual(m5)       </td><td>f                </td><td>20               </td><td>28               </td><td>r                </td><td>subcompact       </td><td>24.0             </td><td>pass             </td><td>B                </td><td>C                </td></tr>\n",
       "\t<tr><td>volkswagen       </td><td>new beetle       </td><td>2.5              </td><td>2008             </td><td>5                </td><td>auto(s6)         </td><td>f                </td><td>20               </td><td>29               </td><td>r                </td><td>subcompact       </td><td>24.5             </td><td>pass             </td><td>B                </td><td>C                </td></tr>\n",
       "\t<tr><td>volkswagen       </td><td>passat           </td><td>1.8              </td><td>1999             </td><td>4                </td><td>manual(m5)       </td><td>f                </td><td>21               </td><td>29               </td><td>p                </td><td>midsize          </td><td>25.0             </td><td>pass             </td><td>B                </td><td>B                </td></tr>\n",
       "\t<tr><td>volkswagen       </td><td>passat           </td><td>1.8              </td><td>1999             </td><td>4                </td><td>auto(l5)         </td><td>f                </td><td>18               </td><td>29               </td><td>p                </td><td>midsize          </td><td>23.5             </td><td>pass             </td><td>B                </td><td>C                </td></tr>\n",
       "\t<tr><td>volkswagen       </td><td>passat           </td><td>2.0              </td><td>2008             </td><td>4                </td><td>auto(s6)         </td><td>f                </td><td>19               </td><td>28               </td><td>p                </td><td>midsize          </td><td>23.5             </td><td>pass             </td><td>B                </td><td>C                </td></tr>\n",
       "\t<tr><td>volkswagen       </td><td>passat           </td><td>2.0              </td><td>2008             </td><td>4                </td><td>manual(m6)       </td><td>f                </td><td>21               </td><td>29               </td><td>p                </td><td>midsize          </td><td>25.0             </td><td>pass             </td><td>B                </td><td>B                </td></tr>\n",
       "\t<tr><td>volkswagen       </td><td>passat           </td><td>2.8              </td><td>1999             </td><td>6                </td><td>auto(l5)         </td><td>f                </td><td>16               </td><td>26               </td><td>p                </td><td>midsize          </td><td>21.0             </td><td>pass             </td><td>B                </td><td>C                </td></tr>\n",
       "\t<tr><td>volkswagen       </td><td>passat           </td><td>2.8              </td><td>1999             </td><td>6                </td><td>manual(m5)       </td><td>f                </td><td>18               </td><td>26               </td><td>p                </td><td>midsize          </td><td>22.0             </td><td>pass             </td><td>B                </td><td>C                </td></tr>\n",
       "\t<tr><td>volkswagen       </td><td>passat           </td><td>3.6              </td><td>2008             </td><td>6                </td><td>auto(s6)         </td><td>f                </td><td>17               </td><td>26               </td><td>p                </td><td>midsize          </td><td>21.5             </td><td>pass             </td><td>B                </td><td>C                </td></tr>\n",
       "</tbody>\n",
       "</table>\n"
      ],
      "text/latex": [
       "\\begin{tabular}{r|lllllllllllllll}\n",
       " manufacturer & model & displ & year & cyl & trans & drv & city & highway & fl & class & total & test & grade & grade2\\\\\n",
       "\\hline\n",
       "\t audi               & a4                 & 1.8                & 1999               & 4                  & auto(l5)           & f                  & 18                 & 29                 & p                  & compact            & 23.5               & pass               & B                  & C                 \\\\\n",
       "\t audi               & a4                 & 1.8                & 1999               & 4                  & manual(m5)         & f                  & 21                 & 29                 & p                  & compact            & 25.0               & pass               & B                  & B                 \\\\\n",
       "\t audi               & a4                 & 2.0                & 2008               & 4                  & manual(m6)         & f                  & 20                 & 31                 & p                  & compact            & 25.5               & pass               & B                  & B                 \\\\\n",
       "\t audi               & a4                 & 2.0                & 2008               & 4                  & auto(av)           & f                  & 21                 & 30                 & p                  & compact            & 25.5               & pass               & B                  & B                 \\\\\n",
       "\t audi               & a4                 & 2.8                & 1999               & 6                  & auto(l5)           & f                  & 16                 & 26                 & p                  & compact            & 21.0               & pass               & B                  & C                 \\\\\n",
       "\t audi               & a4                 & 2.8                & 1999               & 6                  & manual(m5)         & f                  & 18                 & 26                 & p                  & compact            & 22.0               & pass               & B                  & C                 \\\\\n",
       "\t audi               & a4                 & 3.1                & 2008               & 6                  & auto(av)           & f                  & 18                 & 27                 & p                  & compact            & 22.5               & pass               & B                  & C                 \\\\\n",
       "\t audi               & a4 quattro         & 1.8                & 1999               & 4                  & manual(m5)         & 4                  & 18                 & 26                 & p                  & compact            & 22.0               & pass               & B                  & C                 \\\\\n",
       "\t audi               & a4 quattro         & 1.8                & 1999               & 4                  & auto(l5)           & 4                  & 16                 & 25                 & p                  & compact            & 20.5               & pass               & B                  & C                 \\\\\n",
       "\t audi               & a4 quattro         & 2.0                & 2008               & 4                  & manual(m6)         & 4                  & 20                 & 28                 & p                  & compact            & 24.0               & pass               & B                  & C                 \\\\\n",
       "\t audi               & a4 quattro         & 2.0                & 2008               & 4                  & auto(s6)           & 4                  & 19                 & 27                 & p                  & compact            & 23.0               & pass               & B                  & C                 \\\\\n",
       "\t audi               & a4 quattro         & 2.8                & 1999               & 6                  & auto(l5)           & 4                  & 15                 & 25                 & p                  & compact            & 20.0               & pass               & B                  & C                 \\\\\n",
       "\t audi               & a4 quattro         & 2.8                & 1999               & 6                  & manual(m5)         & 4                  & 17                 & 25                 & p                  & compact            & 21.0               & pass               & B                  & C                 \\\\\n",
       "\t audi               & a4 quattro         & 3.1                & 2008               & 6                  & auto(s6)           & 4                  & 17                 & 25                 & p                  & compact            & 21.0               & pass               & B                  & C                 \\\\\n",
       "\t audi               & a4 quattro         & 3.1                & 2008               & 6                  & manual(m6)         & 4                  & 15                 & 25                 & p                  & compact            & 20.0               & pass               & B                  & C                 \\\\\n",
       "\t audi               & a6 quattro         & 2.8                & 1999               & 6                  & auto(l5)           & 4                  & 15                 & 24                 & p                  & midsize            & 19.5               & fail               & C                  & E                 \\\\\n",
       "\t audi               & a6 quattro         & 3.1                & 2008               & 6                  & auto(s6)           & 4                  & 17                 & 25                 & p                  & midsize            & 21.0               & pass               & B                  & C                 \\\\\n",
       "\t audi               & a6 quattro         & 4.2                & 2008               & 8                  & auto(s6)           & 4                  & 16                 & 23                 & p                  & midsize            & 19.5               & fail               & C                  & E                 \\\\\n",
       "\t chevrolet          & c1500 suburban 2wd & 5.3                & 2008               & 8                  & auto(l4)           & r                  & 14                 & 20                 & r                  & suv                & 17.0               & fail               & C                  & E                 \\\\\n",
       "\t chevrolet          & c1500 suburban 2wd & 5.3                & 2008               & 8                  & auto(l4)           & r                  & 11                 & 15                 & e                  & suv                & 13.0               & fail               & C                  & E                 \\\\\n",
       "\t chevrolet          & c1500 suburban 2wd & 5.3                & 2008               & 8                  & auto(l4)           & r                  & 14                 & 20                 & r                  & suv                & 17.0               & fail               & C                  & E                 \\\\\n",
       "\t chevrolet          & c1500 suburban 2wd & 5.7                & 1999               & 8                  & auto(l4)           & r                  & 13                 & 17                 & r                  & suv                & 15.0               & fail               & C                  & E                 \\\\\n",
       "\t chevrolet          & c1500 suburban 2wd & 6.0                & 2008               & 8                  & auto(l4)           & r                  & 12                 & 17                 & r                  & suv                & 14.5               & fail               & C                  & E                 \\\\\n",
       "\t chevrolet          & corvette           & 5.7                & 1999               & 8                  & manual(m6)         & r                  & 16                 & 26                 & p                  & 2seater            & 21.0               & pass               & B                  & C                 \\\\\n",
       "\t chevrolet          & corvette           & 5.7                & 1999               & 8                  & auto(l4)           & r                  & 15                 & 23                 & p                  & 2seater            & 19.0               & fail               & C                  & E                 \\\\\n",
       "\t chevrolet          & corvette           & 6.2                & 2008               & 8                  & manual(m6)         & r                  & 16                 & 26                 & p                  & 2seater            & 21.0               & pass               & B                  & C                 \\\\\n",
       "\t chevrolet          & corvette           & 6.2                & 2008               & 8                  & auto(s6)           & r                  & 15                 & 25                 & p                  & 2seater            & 20.0               & pass               & B                  & C                 \\\\\n",
       "\t chevrolet          & corvette           & 7.0                & 2008               & 8                  & manual(m6)         & r                  & 15                 & 24                 & p                  & 2seater            & 19.5               & fail               & C                  & E                 \\\\\n",
       "\t chevrolet          & k1500 tahoe 4wd    & 5.3                & 2008               & 8                  & auto(l4)           & 4                  & 14                 & 19                 & r                  & suv                & 16.5               & fail               & C                  & E                 \\\\\n",
       "\t chevrolet          & k1500 tahoe 4wd    & 5.3                & 2008               & 8                  & auto(l4)           & 4                  & 11                 & 14                 & e                  & suv                & 12.5               & fail               & C                  & E                 \\\\\n",
       "\t ... & ... & ... & ... & ... & ... & ... & ... & ... & ... & ... & ... & ... & ... & ...\\\\\n",
       "\t toyota            & toyota tacoma 4wd & 3.4               & 1999              & 6                 & auto(l4)          & 4                 & 15                & 19                & r                 & pickup            & 17.0              & fail              & C                 & E                \\\\\n",
       "\t toyota            & toyota tacoma 4wd & 4.0               & 2008              & 6                 & manual(m6)        & 4                 & 15                & 18                & r                 & pickup            & 16.5              & fail              & C                 & E                \\\\\n",
       "\t toyota            & toyota tacoma 4wd & 4.0               & 2008              & 6                 & auto(l5)          & 4                 & 16                & 20                & r                 & pickup            & 18.0              & fail              & C                 & E                \\\\\n",
       "\t volkswagen        & gti               & 2.0               & 1999              & 4                 & manual(m5)        & f                 & 21                & 29                & r                 & compact           & 25.0              & pass              & B                 & B                \\\\\n",
       "\t volkswagen        & gti               & 2.0               & 1999              & 4                 & auto(l4)          & f                 & 19                & 26                & r                 & compact           & 22.5              & pass              & B                 & C                \\\\\n",
       "\t volkswagen        & gti               & 2.0               & 2008              & 4                 & manual(m6)        & f                 & 21                & 29                & p                 & compact           & 25.0              & pass              & B                 & B                \\\\\n",
       "\t volkswagen        & gti               & 2.0               & 2008              & 4                 & auto(s6)          & f                 & 22                & 29                & p                 & compact           & 25.5              & pass              & B                 & B                \\\\\n",
       "\t volkswagen        & gti               & 2.8               & 1999              & 6                 & manual(m5)        & f                 & 17                & 24                & r                 & compact           & 20.5              & pass              & B                 & C                \\\\\n",
       "\t volkswagen        & jetta             & 1.9               & 1999              & 4                 & manual(m5)        & f                 & 33                & 44                & d                 & compact           & 38.5              & pass              & A                 & A                \\\\\n",
       "\t volkswagen        & jetta             & 2.0               & 1999              & 4                 & manual(m5)        & f                 & 21                & 29                & r                 & compact           & 25.0              & pass              & B                 & B                \\\\\n",
       "\t volkswagen        & jetta             & 2.0               & 1999              & 4                 & auto(l4)          & f                 & 19                & 26                & r                 & compact           & 22.5              & pass              & B                 & C                \\\\\n",
       "\t volkswagen        & jetta             & 2.0               & 2008              & 4                 & auto(s6)          & f                 & 22                & 29                & p                 & compact           & 25.5              & pass              & B                 & B                \\\\\n",
       "\t volkswagen        & jetta             & 2.0               & 2008              & 4                 & manual(m6)        & f                 & 21                & 29                & p                 & compact           & 25.0              & pass              & B                 & B                \\\\\n",
       "\t volkswagen        & jetta             & 2.5               & 2008              & 5                 & auto(s6)          & f                 & 21                & 29                & r                 & compact           & 25.0              & pass              & B                 & B                \\\\\n",
       "\t volkswagen        & jetta             & 2.5               & 2008              & 5                 & manual(m5)        & f                 & 21                & 29                & r                 & compact           & 25.0              & pass              & B                 & B                \\\\\n",
       "\t volkswagen        & jetta             & 2.8               & 1999              & 6                 & auto(l4)          & f                 & 16                & 23                & r                 & compact           & 19.5              & fail              & C                 & E                \\\\\n",
       "\t volkswagen        & jetta             & 2.8               & 1999              & 6                 & manual(m5)        & f                 & 17                & 24                & r                 & compact           & 20.5              & pass              & B                 & C                \\\\\n",
       "\t volkswagen        & new beetle        & 1.9               & 1999              & 4                 & manual(m5)        & f                 & 35                & 44                & d                 & subcompact        & 39.5              & pass              & A                 & A                \\\\\n",
       "\t volkswagen        & new beetle        & 1.9               & 1999              & 4                 & auto(l4)          & f                 & 29                & 41                & d                 & subcompact        & 35.0              & pass              & A                 & A                \\\\\n",
       "\t volkswagen        & new beetle        & 2.0               & 1999              & 4                 & manual(m5)        & f                 & 21                & 29                & r                 & subcompact        & 25.0              & pass              & B                 & B                \\\\\n",
       "\t volkswagen        & new beetle        & 2.0               & 1999              & 4                 & auto(l4)          & f                 & 19                & 26                & r                 & subcompact        & 22.5              & pass              & B                 & C                \\\\\n",
       "\t volkswagen        & new beetle        & 2.5               & 2008              & 5                 & manual(m5)        & f                 & 20                & 28                & r                 & subcompact        & 24.0              & pass              & B                 & C                \\\\\n",
       "\t volkswagen        & new beetle        & 2.5               & 2008              & 5                 & auto(s6)          & f                 & 20                & 29                & r                 & subcompact        & 24.5              & pass              & B                 & C                \\\\\n",
       "\t volkswagen        & passat            & 1.8               & 1999              & 4                 & manual(m5)        & f                 & 21                & 29                & p                 & midsize           & 25.0              & pass              & B                 & B                \\\\\n",
       "\t volkswagen        & passat            & 1.8               & 1999              & 4                 & auto(l5)          & f                 & 18                & 29                & p                 & midsize           & 23.5              & pass              & B                 & C                \\\\\n",
       "\t volkswagen        & passat            & 2.0               & 2008              & 4                 & auto(s6)          & f                 & 19                & 28                & p                 & midsize           & 23.5              & pass              & B                 & C                \\\\\n",
       "\t volkswagen        & passat            & 2.0               & 2008              & 4                 & manual(m6)        & f                 & 21                & 29                & p                 & midsize           & 25.0              & pass              & B                 & B                \\\\\n",
       "\t volkswagen        & passat            & 2.8               & 1999              & 6                 & auto(l5)          & f                 & 16                & 26                & p                 & midsize           & 21.0              & pass              & B                 & C                \\\\\n",
       "\t volkswagen        & passat            & 2.8               & 1999              & 6                 & manual(m5)        & f                 & 18                & 26                & p                 & midsize           & 22.0              & pass              & B                 & C                \\\\\n",
       "\t volkswagen        & passat            & 3.6               & 2008              & 6                 & auto(s6)          & f                 & 17                & 26                & p                 & midsize           & 21.5              & pass              & B                 & C                \\\\\n",
       "\\end{tabular}\n"
      ],
      "text/markdown": [
       "\n",
       "| manufacturer | model | displ | year | cyl | trans | drv | city | highway | fl | class | total | test | grade | grade2 |\n",
       "|---|---|---|---|---|---|---|---|---|---|---|---|---|---|---|\n",
       "| audi               | a4                 | 1.8                | 1999               | 4                  | auto(l5)           | f                  | 18                 | 29                 | p                  | compact            | 23.5               | pass               | B                  | C                  |\n",
       "| audi               | a4                 | 1.8                | 1999               | 4                  | manual(m5)         | f                  | 21                 | 29                 | p                  | compact            | 25.0               | pass               | B                  | B                  |\n",
       "| audi               | a4                 | 2.0                | 2008               | 4                  | manual(m6)         | f                  | 20                 | 31                 | p                  | compact            | 25.5               | pass               | B                  | B                  |\n",
       "| audi               | a4                 | 2.0                | 2008               | 4                  | auto(av)           | f                  | 21                 | 30                 | p                  | compact            | 25.5               | pass               | B                  | B                  |\n",
       "| audi               | a4                 | 2.8                | 1999               | 6                  | auto(l5)           | f                  | 16                 | 26                 | p                  | compact            | 21.0               | pass               | B                  | C                  |\n",
       "| audi               | a4                 | 2.8                | 1999               | 6                  | manual(m5)         | f                  | 18                 | 26                 | p                  | compact            | 22.0               | pass               | B                  | C                  |\n",
       "| audi               | a4                 | 3.1                | 2008               | 6                  | auto(av)           | f                  | 18                 | 27                 | p                  | compact            | 22.5               | pass               | B                  | C                  |\n",
       "| audi               | a4 quattro         | 1.8                | 1999               | 4                  | manual(m5)         | 4                  | 18                 | 26                 | p                  | compact            | 22.0               | pass               | B                  | C                  |\n",
       "| audi               | a4 quattro         | 1.8                | 1999               | 4                  | auto(l5)           | 4                  | 16                 | 25                 | p                  | compact            | 20.5               | pass               | B                  | C                  |\n",
       "| audi               | a4 quattro         | 2.0                | 2008               | 4                  | manual(m6)         | 4                  | 20                 | 28                 | p                  | compact            | 24.0               | pass               | B                  | C                  |\n",
       "| audi               | a4 quattro         | 2.0                | 2008               | 4                  | auto(s6)           | 4                  | 19                 | 27                 | p                  | compact            | 23.0               | pass               | B                  | C                  |\n",
       "| audi               | a4 quattro         | 2.8                | 1999               | 6                  | auto(l5)           | 4                  | 15                 | 25                 | p                  | compact            | 20.0               | pass               | B                  | C                  |\n",
       "| audi               | a4 quattro         | 2.8                | 1999               | 6                  | manual(m5)         | 4                  | 17                 | 25                 | p                  | compact            | 21.0               | pass               | B                  | C                  |\n",
       "| audi               | a4 quattro         | 3.1                | 2008               | 6                  | auto(s6)           | 4                  | 17                 | 25                 | p                  | compact            | 21.0               | pass               | B                  | C                  |\n",
       "| audi               | a4 quattro         | 3.1                | 2008               | 6                  | manual(m6)         | 4                  | 15                 | 25                 | p                  | compact            | 20.0               | pass               | B                  | C                  |\n",
       "| audi               | a6 quattro         | 2.8                | 1999               | 6                  | auto(l5)           | 4                  | 15                 | 24                 | p                  | midsize            | 19.5               | fail               | C                  | E                  |\n",
       "| audi               | a6 quattro         | 3.1                | 2008               | 6                  | auto(s6)           | 4                  | 17                 | 25                 | p                  | midsize            | 21.0               | pass               | B                  | C                  |\n",
       "| audi               | a6 quattro         | 4.2                | 2008               | 8                  | auto(s6)           | 4                  | 16                 | 23                 | p                  | midsize            | 19.5               | fail               | C                  | E                  |\n",
       "| chevrolet          | c1500 suburban 2wd | 5.3                | 2008               | 8                  | auto(l4)           | r                  | 14                 | 20                 | r                  | suv                | 17.0               | fail               | C                  | E                  |\n",
       "| chevrolet          | c1500 suburban 2wd | 5.3                | 2008               | 8                  | auto(l4)           | r                  | 11                 | 15                 | e                  | suv                | 13.0               | fail               | C                  | E                  |\n",
       "| chevrolet          | c1500 suburban 2wd | 5.3                | 2008               | 8                  | auto(l4)           | r                  | 14                 | 20                 | r                  | suv                | 17.0               | fail               | C                  | E                  |\n",
       "| chevrolet          | c1500 suburban 2wd | 5.7                | 1999               | 8                  | auto(l4)           | r                  | 13                 | 17                 | r                  | suv                | 15.0               | fail               | C                  | E                  |\n",
       "| chevrolet          | c1500 suburban 2wd | 6.0                | 2008               | 8                  | auto(l4)           | r                  | 12                 | 17                 | r                  | suv                | 14.5               | fail               | C                  | E                  |\n",
       "| chevrolet          | corvette           | 5.7                | 1999               | 8                  | manual(m6)         | r                  | 16                 | 26                 | p                  | 2seater            | 21.0               | pass               | B                  | C                  |\n",
       "| chevrolet          | corvette           | 5.7                | 1999               | 8                  | auto(l4)           | r                  | 15                 | 23                 | p                  | 2seater            | 19.0               | fail               | C                  | E                  |\n",
       "| chevrolet          | corvette           | 6.2                | 2008               | 8                  | manual(m6)         | r                  | 16                 | 26                 | p                  | 2seater            | 21.0               | pass               | B                  | C                  |\n",
       "| chevrolet          | corvette           | 6.2                | 2008               | 8                  | auto(s6)           | r                  | 15                 | 25                 | p                  | 2seater            | 20.0               | pass               | B                  | C                  |\n",
       "| chevrolet          | corvette           | 7.0                | 2008               | 8                  | manual(m6)         | r                  | 15                 | 24                 | p                  | 2seater            | 19.5               | fail               | C                  | E                  |\n",
       "| chevrolet          | k1500 tahoe 4wd    | 5.3                | 2008               | 8                  | auto(l4)           | 4                  | 14                 | 19                 | r                  | suv                | 16.5               | fail               | C                  | E                  |\n",
       "| chevrolet          | k1500 tahoe 4wd    | 5.3                | 2008               | 8                  | auto(l4)           | 4                  | 11                 | 14                 | e                  | suv                | 12.5               | fail               | C                  | E                  |\n",
       "| ... | ... | ... | ... | ... | ... | ... | ... | ... | ... | ... | ... | ... | ... | ... |\n",
       "| toyota            | toyota tacoma 4wd | 3.4               | 1999              | 6                 | auto(l4)          | 4                 | 15                | 19                | r                 | pickup            | 17.0              | fail              | C                 | E                 |\n",
       "| toyota            | toyota tacoma 4wd | 4.0               | 2008              | 6                 | manual(m6)        | 4                 | 15                | 18                | r                 | pickup            | 16.5              | fail              | C                 | E                 |\n",
       "| toyota            | toyota tacoma 4wd | 4.0               | 2008              | 6                 | auto(l5)          | 4                 | 16                | 20                | r                 | pickup            | 18.0              | fail              | C                 | E                 |\n",
       "| volkswagen        | gti               | 2.0               | 1999              | 4                 | manual(m5)        | f                 | 21                | 29                | r                 | compact           | 25.0              | pass              | B                 | B                 |\n",
       "| volkswagen        | gti               | 2.0               | 1999              | 4                 | auto(l4)          | f                 | 19                | 26                | r                 | compact           | 22.5              | pass              | B                 | C                 |\n",
       "| volkswagen        | gti               | 2.0               | 2008              | 4                 | manual(m6)        | f                 | 21                | 29                | p                 | compact           | 25.0              | pass              | B                 | B                 |\n",
       "| volkswagen        | gti               | 2.0               | 2008              | 4                 | auto(s6)          | f                 | 22                | 29                | p                 | compact           | 25.5              | pass              | B                 | B                 |\n",
       "| volkswagen        | gti               | 2.8               | 1999              | 6                 | manual(m5)        | f                 | 17                | 24                | r                 | compact           | 20.5              | pass              | B                 | C                 |\n",
       "| volkswagen        | jetta             | 1.9               | 1999              | 4                 | manual(m5)        | f                 | 33                | 44                | d                 | compact           | 38.5              | pass              | A                 | A                 |\n",
       "| volkswagen        | jetta             | 2.0               | 1999              | 4                 | manual(m5)        | f                 | 21                | 29                | r                 | compact           | 25.0              | pass              | B                 | B                 |\n",
       "| volkswagen        | jetta             | 2.0               | 1999              | 4                 | auto(l4)          | f                 | 19                | 26                | r                 | compact           | 22.5              | pass              | B                 | C                 |\n",
       "| volkswagen        | jetta             | 2.0               | 2008              | 4                 | auto(s6)          | f                 | 22                | 29                | p                 | compact           | 25.5              | pass              | B                 | B                 |\n",
       "| volkswagen        | jetta             | 2.0               | 2008              | 4                 | manual(m6)        | f                 | 21                | 29                | p                 | compact           | 25.0              | pass              | B                 | B                 |\n",
       "| volkswagen        | jetta             | 2.5               | 2008              | 5                 | auto(s6)          | f                 | 21                | 29                | r                 | compact           | 25.0              | pass              | B                 | B                 |\n",
       "| volkswagen        | jetta             | 2.5               | 2008              | 5                 | manual(m5)        | f                 | 21                | 29                | r                 | compact           | 25.0              | pass              | B                 | B                 |\n",
       "| volkswagen        | jetta             | 2.8               | 1999              | 6                 | auto(l4)          | f                 | 16                | 23                | r                 | compact           | 19.5              | fail              | C                 | E                 |\n",
       "| volkswagen        | jetta             | 2.8               | 1999              | 6                 | manual(m5)        | f                 | 17                | 24                | r                 | compact           | 20.5              | pass              | B                 | C                 |\n",
       "| volkswagen        | new beetle        | 1.9               | 1999              | 4                 | manual(m5)        | f                 | 35                | 44                | d                 | subcompact        | 39.5              | pass              | A                 | A                 |\n",
       "| volkswagen        | new beetle        | 1.9               | 1999              | 4                 | auto(l4)          | f                 | 29                | 41                | d                 | subcompact        | 35.0              | pass              | A                 | A                 |\n",
       "| volkswagen        | new beetle        | 2.0               | 1999              | 4                 | manual(m5)        | f                 | 21                | 29                | r                 | subcompact        | 25.0              | pass              | B                 | B                 |\n",
       "| volkswagen        | new beetle        | 2.0               | 1999              | 4                 | auto(l4)          | f                 | 19                | 26                | r                 | subcompact        | 22.5              | pass              | B                 | C                 |\n",
       "| volkswagen        | new beetle        | 2.5               | 2008              | 5                 | manual(m5)        | f                 | 20                | 28                | r                 | subcompact        | 24.0              | pass              | B                 | C                 |\n",
       "| volkswagen        | new beetle        | 2.5               | 2008              | 5                 | auto(s6)          | f                 | 20                | 29                | r                 | subcompact        | 24.5              | pass              | B                 | C                 |\n",
       "| volkswagen        | passat            | 1.8               | 1999              | 4                 | manual(m5)        | f                 | 21                | 29                | p                 | midsize           | 25.0              | pass              | B                 | B                 |\n",
       "| volkswagen        | passat            | 1.8               | 1999              | 4                 | auto(l5)          | f                 | 18                | 29                | p                 | midsize           | 23.5              | pass              | B                 | C                 |\n",
       "| volkswagen        | passat            | 2.0               | 2008              | 4                 | auto(s6)          | f                 | 19                | 28                | p                 | midsize           | 23.5              | pass              | B                 | C                 |\n",
       "| volkswagen        | passat            | 2.0               | 2008              | 4                 | manual(m6)        | f                 | 21                | 29                | p                 | midsize           | 25.0              | pass              | B                 | B                 |\n",
       "| volkswagen        | passat            | 2.8               | 1999              | 6                 | auto(l5)          | f                 | 16                | 26                | p                 | midsize           | 21.0              | pass              | B                 | C                 |\n",
       "| volkswagen        | passat            | 2.8               | 1999              | 6                 | manual(m5)        | f                 | 18                | 26                | p                 | midsize           | 22.0              | pass              | B                 | C                 |\n",
       "| volkswagen        | passat            | 3.6               | 2008              | 6                 | auto(s6)          | f                 | 17                | 26                | p                 | midsize           | 21.5              | pass              | B                 | C                 |\n",
       "\n"
      ],
      "text/plain": [
       "    manufacturer model              displ year cyl trans      drv city highway\n",
       "1   audi         a4                 1.8   1999 4   auto(l5)   f   18   29     \n",
       "2   audi         a4                 1.8   1999 4   manual(m5) f   21   29     \n",
       "3   audi         a4                 2.0   2008 4   manual(m6) f   20   31     \n",
       "4   audi         a4                 2.0   2008 4   auto(av)   f   21   30     \n",
       "5   audi         a4                 2.8   1999 6   auto(l5)   f   16   26     \n",
       "6   audi         a4                 2.8   1999 6   manual(m5) f   18   26     \n",
       "7   audi         a4                 3.1   2008 6   auto(av)   f   18   27     \n",
       "8   audi         a4 quattro         1.8   1999 4   manual(m5) 4   18   26     \n",
       "9   audi         a4 quattro         1.8   1999 4   auto(l5)   4   16   25     \n",
       "10  audi         a4 quattro         2.0   2008 4   manual(m6) 4   20   28     \n",
       "11  audi         a4 quattro         2.0   2008 4   auto(s6)   4   19   27     \n",
       "12  audi         a4 quattro         2.8   1999 6   auto(l5)   4   15   25     \n",
       "13  audi         a4 quattro         2.8   1999 6   manual(m5) 4   17   25     \n",
       "14  audi         a4 quattro         3.1   2008 6   auto(s6)   4   17   25     \n",
       "15  audi         a4 quattro         3.1   2008 6   manual(m6) 4   15   25     \n",
       "16  audi         a6 quattro         2.8   1999 6   auto(l5)   4   15   24     \n",
       "17  audi         a6 quattro         3.1   2008 6   auto(s6)   4   17   25     \n",
       "18  audi         a6 quattro         4.2   2008 8   auto(s6)   4   16   23     \n",
       "19  chevrolet    c1500 suburban 2wd 5.3   2008 8   auto(l4)   r   14   20     \n",
       "20  chevrolet    c1500 suburban 2wd 5.3   2008 8   auto(l4)   r   11   15     \n",
       "21  chevrolet    c1500 suburban 2wd 5.3   2008 8   auto(l4)   r   14   20     \n",
       "22  chevrolet    c1500 suburban 2wd 5.7   1999 8   auto(l4)   r   13   17     \n",
       "23  chevrolet    c1500 suburban 2wd 6.0   2008 8   auto(l4)   r   12   17     \n",
       "24  chevrolet    corvette           5.7   1999 8   manual(m6) r   16   26     \n",
       "25  chevrolet    corvette           5.7   1999 8   auto(l4)   r   15   23     \n",
       "26  chevrolet    corvette           6.2   2008 8   manual(m6) r   16   26     \n",
       "27  chevrolet    corvette           6.2   2008 8   auto(s6)   r   15   25     \n",
       "28  chevrolet    corvette           7.0   2008 8   manual(m6) r   15   24     \n",
       "29  chevrolet    k1500 tahoe 4wd    5.3   2008 8   auto(l4)   4   14   19     \n",
       "30  chevrolet    k1500 tahoe 4wd    5.3   2008 8   auto(l4)   4   11   14     \n",
       "... ...          ...                ...   ...  ... ...        ... ...  ...    \n",
       "205 toyota       toyota tacoma 4wd  3.4   1999 6   auto(l4)   4   15   19     \n",
       "206 toyota       toyota tacoma 4wd  4.0   2008 6   manual(m6) 4   15   18     \n",
       "207 toyota       toyota tacoma 4wd  4.0   2008 6   auto(l5)   4   16   20     \n",
       "208 volkswagen   gti                2.0   1999 4   manual(m5) f   21   29     \n",
       "209 volkswagen   gti                2.0   1999 4   auto(l4)   f   19   26     \n",
       "210 volkswagen   gti                2.0   2008 4   manual(m6) f   21   29     \n",
       "211 volkswagen   gti                2.0   2008 4   auto(s6)   f   22   29     \n",
       "212 volkswagen   gti                2.8   1999 6   manual(m5) f   17   24     \n",
       "213 volkswagen   jetta              1.9   1999 4   manual(m5) f   33   44     \n",
       "214 volkswagen   jetta              2.0   1999 4   manual(m5) f   21   29     \n",
       "215 volkswagen   jetta              2.0   1999 4   auto(l4)   f   19   26     \n",
       "216 volkswagen   jetta              2.0   2008 4   auto(s6)   f   22   29     \n",
       "217 volkswagen   jetta              2.0   2008 4   manual(m6) f   21   29     \n",
       "218 volkswagen   jetta              2.5   2008 5   auto(s6)   f   21   29     \n",
       "219 volkswagen   jetta              2.5   2008 5   manual(m5) f   21   29     \n",
       "220 volkswagen   jetta              2.8   1999 6   auto(l4)   f   16   23     \n",
       "221 volkswagen   jetta              2.8   1999 6   manual(m5) f   17   24     \n",
       "222 volkswagen   new beetle         1.9   1999 4   manual(m5) f   35   44     \n",
       "223 volkswagen   new beetle         1.9   1999 4   auto(l4)   f   29   41     \n",
       "224 volkswagen   new beetle         2.0   1999 4   manual(m5) f   21   29     \n",
       "225 volkswagen   new beetle         2.0   1999 4   auto(l4)   f   19   26     \n",
       "226 volkswagen   new beetle         2.5   2008 5   manual(m5) f   20   28     \n",
       "227 volkswagen   new beetle         2.5   2008 5   auto(s6)   f   20   29     \n",
       "228 volkswagen   passat             1.8   1999 4   manual(m5) f   21   29     \n",
       "229 volkswagen   passat             1.8   1999 4   auto(l5)   f   18   29     \n",
       "230 volkswagen   passat             2.0   2008 4   auto(s6)   f   19   28     \n",
       "231 volkswagen   passat             2.0   2008 4   manual(m6) f   21   29     \n",
       "232 volkswagen   passat             2.8   1999 6   auto(l5)   f   16   26     \n",
       "233 volkswagen   passat             2.8   1999 6   manual(m5) f   18   26     \n",
       "234 volkswagen   passat             3.6   2008 6   auto(s6)   f   17   26     \n",
       "    fl  class      total test grade grade2\n",
       "1   p   compact    23.5  pass B     C     \n",
       "2   p   compact    25.0  pass B     B     \n",
       "3   p   compact    25.5  pass B     B     \n",
       "4   p   compact    25.5  pass B     B     \n",
       "5   p   compact    21.0  pass B     C     \n",
       "6   p   compact    22.0  pass B     C     \n",
       "7   p   compact    22.5  pass B     C     \n",
       "8   p   compact    22.0  pass B     C     \n",
       "9   p   compact    20.5  pass B     C     \n",
       "10  p   compact    24.0  pass B     C     \n",
       "11  p   compact    23.0  pass B     C     \n",
       "12  p   compact    20.0  pass B     C     \n",
       "13  p   compact    21.0  pass B     C     \n",
       "14  p   compact    21.0  pass B     C     \n",
       "15  p   compact    20.0  pass B     C     \n",
       "16  p   midsize    19.5  fail C     E     \n",
       "17  p   midsize    21.0  pass B     C     \n",
       "18  p   midsize    19.5  fail C     E     \n",
       "19  r   suv        17.0  fail C     E     \n",
       "20  e   suv        13.0  fail C     E     \n",
       "21  r   suv        17.0  fail C     E     \n",
       "22  r   suv        15.0  fail C     E     \n",
       "23  r   suv        14.5  fail C     E     \n",
       "24  p   2seater    21.0  pass B     C     \n",
       "25  p   2seater    19.0  fail C     E     \n",
       "26  p   2seater    21.0  pass B     C     \n",
       "27  p   2seater    20.0  pass B     C     \n",
       "28  p   2seater    19.5  fail C     E     \n",
       "29  r   suv        16.5  fail C     E     \n",
       "30  e   suv        12.5  fail C     E     \n",
       "... ... ...        ...   ...  ...   ...   \n",
       "205 r   pickup     17.0  fail C     E     \n",
       "206 r   pickup     16.5  fail C     E     \n",
       "207 r   pickup     18.0  fail C     E     \n",
       "208 r   compact    25.0  pass B     B     \n",
       "209 r   compact    22.5  pass B     C     \n",
       "210 p   compact    25.0  pass B     B     \n",
       "211 p   compact    25.5  pass B     B     \n",
       "212 r   compact    20.5  pass B     C     \n",
       "213 d   compact    38.5  pass A     A     \n",
       "214 r   compact    25.0  pass B     B     \n",
       "215 r   compact    22.5  pass B     C     \n",
       "216 p   compact    25.5  pass B     B     \n",
       "217 p   compact    25.0  pass B     B     \n",
       "218 r   compact    25.0  pass B     B     \n",
       "219 r   compact    25.0  pass B     B     \n",
       "220 r   compact    19.5  fail C     E     \n",
       "221 r   compact    20.5  pass B     C     \n",
       "222 d   subcompact 39.5  pass A     A     \n",
       "223 d   subcompact 35.0  pass A     A     \n",
       "224 r   subcompact 25.0  pass B     B     \n",
       "225 r   subcompact 22.5  pass B     C     \n",
       "226 r   subcompact 24.0  pass B     C     \n",
       "227 r   subcompact 24.5  pass B     C     \n",
       "228 p   midsize    25.0  pass B     B     \n",
       "229 p   midsize    23.5  pass B     C     \n",
       "230 p   midsize    23.5  pass B     C     \n",
       "231 p   midsize    25.0  pass B     B     \n",
       "232 p   midsize    21.0  pass B     C     \n",
       "233 p   midsize    22.0  pass B     C     \n",
       "234 p   midsize    21.5  pass B     C     "
      ]
     },
     "metadata": {},
     "output_type": "display_data"
    }
   ],
   "source": [
    "# A,B,C,D 등급 부여\n",
    "mpg_copy$grade2<-ifelse(mpg_copy$total>=30,\"A\", ifelse(mpg_copy$total>=25,\"B\",ifelse(mpg_copy$total>=20,\"C\",\"E\")))\n",
    "mpg_copy"
   ]
  },
  {
   "cell_type": "code",
   "execution_count": 157,
   "metadata": {},
   "outputs": [
    {
     "data": {
      "text/plain": [
       "\n",
       "  A   B   C   E \n",
       " 10  33  85 106 "
      ]
     },
     "metadata": {},
     "output_type": "display_data"
    }
   ],
   "source": [
    "table(mpg_copy$grade2)"
   ]
  },
  {
   "cell_type": "markdown",
   "metadata": {},
   "source": [
    "### 정리하기"
   ]
  },
  {
   "cell_type": "code",
   "execution_count": null,
   "metadata": {},
   "outputs": [],
   "source": [
    "# 1. 데이터 준비 , 패키지 준비\n",
    " mpg <- as.data.frame(ggplot2::mpg)  # 데이터 불러오기\n",
    " library(dplyr)                      # dplyr 로드\n",
    " library(ggplot2)                    # ggplot2 로드"
   ]
  },
  {
   "cell_type": "code",
   "execution_count": null,
   "metadata": {},
   "outputs": [],
   "source": [
    "# 2. 데이터 파악\n",
    " head(mpg)     # Raw 데이터 앞부분\n",
    " tail(mpg)     # Raw 데이터 뒷부분\n",
    " View(mpg)     # Raw 데이터 뷰어창에서 확인\n",
    " dim(mpg)      # 차원\n",
    " str(mpg)      # 속성\n",
    " summary(mpg)  # 요약 통계량"
   ]
  },
  {
   "cell_type": "code",
   "execution_count": null,
   "metadata": {},
   "outputs": [],
   "source": [
    "# 3. 변수명 수정\n",
    " mpg <- rename(mpg, company = manufacturer)"
   ]
  },
  {
   "cell_type": "code",
   "execution_count": null,
   "metadata": {},
   "outputs": [],
   "source": [
    "# 4. 파생변수 생성\n",
    " mpg$total <- (mpg$cty + mpg$hwy)/2                   # 변수 조합\n",
    " mpg$test <- ifelse(mpg$total >= 20, \"pass\", \"fail\")  # 조건문 활용"
   ]
  },
  {
   "cell_type": "code",
   "execution_count": null,
   "metadata": {},
   "outputs": [],
   "source": [
    "# 5. 빈도 확인\n",
    " table(mpg$test)  # 빈도표 출력\n",
    " qplot(mpg$test)  # 막대 그래프 생"
   ]
  },
  {
   "cell_type": "markdown",
   "metadata": {},
   "source": [
    "ggplot2 패키지에는 미국 동북중부 437개 지역의 인구통계 정보를 담은 midwest라는 데이터가 포함되어 있습니다. midwest 데이터를 사용해 데이터 분석 문제를 해결해보세요. \n",
    "- 문제 1. ggplot2 의 midwest 데이터를 데이터 프레임 형태로 불러와서 데이터의 특성을 파악하세요. \n",
    "- 문제 2. poptotal(전체 인구)을 total 로, popasian(아시아 인구)을 asian 으로 변수명을 수정하세요. \n",
    "- 문제 3. total, asian 변수를 이용해 '전체 인구 대비 아시아 인구 백분율' 파생변수를 만들고, 히스토그램을 만들어 도시들이 어떻게 분포하는지 살펴보세요. \n",
    "- 문제 4. 아시아 인구 백분율 전체 평균을 구하고, 평균을 초과하면 \"large\", 그 외에는 \"small\"을 부여하는 파생변수를 만들어 보세요. \n",
    "- 문제 5. \"large\"와 \"small\"에 해당하는 지역이 얼마나 되는지, 빈도표와 빈도 막대 그래프를 만들어 확인해 보세요. "
   ]
  },
  {
   "cell_type": "code",
   "execution_count": 165,
   "metadata": {},
   "outputs": [
    {
     "data": {
      "text/html": [
       "<table>\n",
       "<thead><tr><th scope=col>PID</th><th scope=col>county</th><th scope=col>state</th><th scope=col>area</th><th scope=col>poptotal</th><th scope=col>popdensity</th><th scope=col>popwhite</th><th scope=col>popblack</th><th scope=col>popamerindian</th><th scope=col>popasian</th><th scope=col>...</th><th scope=col>percollege</th><th scope=col>percprof</th><th scope=col>poppovertyknown</th><th scope=col>percpovertyknown</th><th scope=col>percbelowpoverty</th><th scope=col>percchildbelowpovert</th><th scope=col>percadultpoverty</th><th scope=col>percelderlypoverty</th><th scope=col>inmetro</th><th scope=col>category</th></tr></thead>\n",
       "<tbody>\n",
       "\t<tr><td>561      </td><td>ADAMS    </td><td>IL       </td><td>0.052    </td><td>66090    </td><td>1270.9615</td><td>63917    </td><td>1702     </td><td>98       </td><td>249      </td><td>...      </td><td>19.63139 </td><td>4.355859 </td><td>63628    </td><td>96.27478 </td><td>13.151443</td><td>18.01172 </td><td>11.009776</td><td>12.443812</td><td>0        </td><td>AAR      </td></tr>\n",
       "\t<tr><td>562      </td><td>ALEXANDER</td><td>IL       </td><td>0.014    </td><td>10626    </td><td> 759.0000</td><td> 7054    </td><td>3496     </td><td>19       </td><td> 48      </td><td>...      </td><td>11.24331 </td><td>2.870315 </td><td>10529    </td><td>99.08714 </td><td>32.244278</td><td>45.82651 </td><td>27.385647</td><td>25.228976</td><td>0        </td><td>LHR      </td></tr>\n",
       "\t<tr><td>563      </td><td>BOND     </td><td>IL       </td><td>0.022    </td><td>14991    </td><td> 681.4091</td><td>14477    </td><td> 429     </td><td>35       </td><td> 16      </td><td>...      </td><td>17.03382 </td><td>4.488572 </td><td>14235    </td><td>94.95697 </td><td>12.068844</td><td>14.03606 </td><td>10.852090</td><td>12.697410</td><td>0        </td><td>AAR      </td></tr>\n",
       "\t<tr><td>564      </td><td>BOONE    </td><td>IL       </td><td>0.017    </td><td>30806    </td><td>1812.1176</td><td>29344    </td><td> 127     </td><td>46       </td><td>150      </td><td>...      </td><td>17.27895 </td><td>4.197800 </td><td>30337    </td><td>98.47757 </td><td> 7.209019</td><td>11.17954 </td><td> 5.536013</td><td> 6.217047</td><td>1        </td><td>ALU      </td></tr>\n",
       "\t<tr><td>565      </td><td>BROWN    </td><td>IL       </td><td>0.018    </td><td> 5836    </td><td> 324.2222</td><td> 5264    </td><td> 547     </td><td>14       </td><td>  5      </td><td>...      </td><td>14.47600 </td><td>3.367680 </td><td> 4815    </td><td>82.50514 </td><td>13.520249</td><td>13.02289 </td><td>11.143211</td><td>19.200000</td><td>0        </td><td>AAR      </td></tr>\n",
       "\t<tr><td>566      </td><td>BUREAU   </td><td>IL       </td><td>0.050    </td><td>35688    </td><td> 713.7600</td><td>35157    </td><td>  50     </td><td>65       </td><td>195      </td><td>...      </td><td>18.90462 </td><td>3.275891 </td><td>35107    </td><td>98.37200 </td><td>10.399635</td><td>14.15882 </td><td> 8.179287</td><td>11.008586</td><td>0        </td><td>AAR      </td></tr>\n",
       "</tbody>\n",
       "</table>\n"
      ],
      "text/latex": [
       "\\begin{tabular}{r|llllllllllllllllllllllllllll}\n",
       " PID & county & state & area & poptotal & popdensity & popwhite & popblack & popamerindian & popasian & ... & percollege & percprof & poppovertyknown & percpovertyknown & percbelowpoverty & percchildbelowpovert & percadultpoverty & percelderlypoverty & inmetro & category\\\\\n",
       "\\hline\n",
       "\t 561       & ADAMS     & IL        & 0.052     & 66090     & 1270.9615 & 63917     & 1702      & 98        & 249       & ...       & 19.63139  & 4.355859  & 63628     & 96.27478  & 13.151443 & 18.01172  & 11.009776 & 12.443812 & 0         & AAR      \\\\\n",
       "\t 562       & ALEXANDER & IL        & 0.014     & 10626     &  759.0000 &  7054     & 3496      & 19        &  48       & ...       & 11.24331  & 2.870315  & 10529     & 99.08714  & 32.244278 & 45.82651  & 27.385647 & 25.228976 & 0         & LHR      \\\\\n",
       "\t 563       & BOND      & IL        & 0.022     & 14991     &  681.4091 & 14477     &  429      & 35        &  16       & ...       & 17.03382  & 4.488572  & 14235     & 94.95697  & 12.068844 & 14.03606  & 10.852090 & 12.697410 & 0         & AAR      \\\\\n",
       "\t 564       & BOONE     & IL        & 0.017     & 30806     & 1812.1176 & 29344     &  127      & 46        & 150       & ...       & 17.27895  & 4.197800  & 30337     & 98.47757  &  7.209019 & 11.17954  &  5.536013 &  6.217047 & 1         & ALU      \\\\\n",
       "\t 565       & BROWN     & IL        & 0.018     &  5836     &  324.2222 &  5264     &  547      & 14        &   5       & ...       & 14.47600  & 3.367680  &  4815     & 82.50514  & 13.520249 & 13.02289  & 11.143211 & 19.200000 & 0         & AAR      \\\\\n",
       "\t 566       & BUREAU    & IL        & 0.050     & 35688     &  713.7600 & 35157     &   50      & 65        & 195       & ...       & 18.90462  & 3.275891  & 35107     & 98.37200  & 10.399635 & 14.15882  &  8.179287 & 11.008586 & 0         & AAR      \\\\\n",
       "\\end{tabular}\n"
      ],
      "text/markdown": [
       "\n",
       "| PID | county | state | area | poptotal | popdensity | popwhite | popblack | popamerindian | popasian | ... | percollege | percprof | poppovertyknown | percpovertyknown | percbelowpoverty | percchildbelowpovert | percadultpoverty | percelderlypoverty | inmetro | category |\n",
       "|---|---|---|---|---|---|---|---|---|---|---|---|---|---|---|---|---|---|---|---|---|\n",
       "| 561       | ADAMS     | IL        | 0.052     | 66090     | 1270.9615 | 63917     | 1702      | 98        | 249       | ...       | 19.63139  | 4.355859  | 63628     | 96.27478  | 13.151443 | 18.01172  | 11.009776 | 12.443812 | 0         | AAR       |\n",
       "| 562       | ALEXANDER | IL        | 0.014     | 10626     |  759.0000 |  7054     | 3496      | 19        |  48       | ...       | 11.24331  | 2.870315  | 10529     | 99.08714  | 32.244278 | 45.82651  | 27.385647 | 25.228976 | 0         | LHR       |\n",
       "| 563       | BOND      | IL        | 0.022     | 14991     |  681.4091 | 14477     |  429      | 35        |  16       | ...       | 17.03382  | 4.488572  | 14235     | 94.95697  | 12.068844 | 14.03606  | 10.852090 | 12.697410 | 0         | AAR       |\n",
       "| 564       | BOONE     | IL        | 0.017     | 30806     | 1812.1176 | 29344     |  127      | 46        | 150       | ...       | 17.27895  | 4.197800  | 30337     | 98.47757  |  7.209019 | 11.17954  |  5.536013 |  6.217047 | 1         | ALU       |\n",
       "| 565       | BROWN     | IL        | 0.018     |  5836     |  324.2222 |  5264     |  547      | 14        |   5       | ...       | 14.47600  | 3.367680  |  4815     | 82.50514  | 13.520249 | 13.02289  | 11.143211 | 19.200000 | 0         | AAR       |\n",
       "| 566       | BUREAU    | IL        | 0.050     | 35688     |  713.7600 | 35157     |   50      | 65        | 195       | ...       | 18.90462  | 3.275891  | 35107     | 98.37200  | 10.399635 | 14.15882  |  8.179287 | 11.008586 | 0         | AAR       |\n",
       "\n"
      ],
      "text/plain": [
       "  PID county    state area  poptotal popdensity popwhite popblack popamerindian\n",
       "1 561 ADAMS     IL    0.052 66090    1270.9615  63917    1702     98           \n",
       "2 562 ALEXANDER IL    0.014 10626     759.0000   7054    3496     19           \n",
       "3 563 BOND      IL    0.022 14991     681.4091  14477     429     35           \n",
       "4 564 BOONE     IL    0.017 30806    1812.1176  29344     127     46           \n",
       "5 565 BROWN     IL    0.018  5836     324.2222   5264     547     14           \n",
       "6 566 BUREAU    IL    0.050 35688     713.7600  35157      50     65           \n",
       "  popasian ... percollege percprof poppovertyknown percpovertyknown\n",
       "1 249      ... 19.63139   4.355859 63628           96.27478        \n",
       "2  48      ... 11.24331   2.870315 10529           99.08714        \n",
       "3  16      ... 17.03382   4.488572 14235           94.95697        \n",
       "4 150      ... 17.27895   4.197800 30337           98.47757        \n",
       "5   5      ... 14.47600   3.367680  4815           82.50514        \n",
       "6 195      ... 18.90462   3.275891 35107           98.37200        \n",
       "  percbelowpoverty percchildbelowpovert percadultpoverty percelderlypoverty\n",
       "1 13.151443        18.01172             11.009776        12.443812         \n",
       "2 32.244278        45.82651             27.385647        25.228976         \n",
       "3 12.068844        14.03606             10.852090        12.697410         \n",
       "4  7.209019        11.17954              5.536013         6.217047         \n",
       "5 13.520249        13.02289             11.143211        19.200000         \n",
       "6 10.399635        14.15882              8.179287        11.008586         \n",
       "  inmetro category\n",
       "1 0       AAR     \n",
       "2 0       LHR     \n",
       "3 0       AAR     \n",
       "4 1       ALU     \n",
       "5 0       AAR     \n",
       "6 0       AAR     "
      ]
     },
     "metadata": {},
     "output_type": "display_data"
    },
    {
     "data": {
      "text/html": [
       "<table>\n",
       "<thead><tr><th></th><th scope=col>PID</th><th scope=col>county</th><th scope=col>state</th><th scope=col>area</th><th scope=col>poptotal</th><th scope=col>popdensity</th><th scope=col>popwhite</th><th scope=col>popblack</th><th scope=col>popamerindian</th><th scope=col>popasian</th><th scope=col>...</th><th scope=col>percollege</th><th scope=col>percprof</th><th scope=col>poppovertyknown</th><th scope=col>percpovertyknown</th><th scope=col>percbelowpoverty</th><th scope=col>percchildbelowpovert</th><th scope=col>percadultpoverty</th><th scope=col>percelderlypoverty</th><th scope=col>inmetro</th><th scope=col>category</th></tr></thead>\n",
       "<tbody>\n",
       "\t<tr><th scope=row>432</th><td>3047      </td><td>WASHINGTON</td><td>WI        </td><td>0.025     </td><td> 95328    </td><td>3813.1200 </td><td> 94465    </td><td> 125      </td><td>208       </td><td> 337      </td><td>...       </td><td>23.39090  </td><td>4.014568  </td><td> 94143    </td><td>98.75692  </td><td> 3.237628 </td><td> 4.069854 </td><td> 2.584500 </td><td> 4.280889 </td><td>1         </td><td>HLU       </td></tr>\n",
       "\t<tr><th scope=row>433</th><td>3048      </td><td>WAUKESHA  </td><td>WI        </td><td>0.034     </td><td>304715    </td><td>8962.2059 </td><td>298313    </td><td>1096      </td><td>672       </td><td>2699      </td><td>...       </td><td>35.39678  </td><td>7.667090  </td><td>299802    </td><td>98.38767  </td><td> 3.121060 </td><td> 3.785820 </td><td> 2.590061 </td><td> 4.085479 </td><td>1         </td><td>HLU       </td></tr>\n",
       "\t<tr><th scope=row>434</th><td>3049      </td><td>WAUPACA   </td><td>WI        </td><td>0.045     </td><td> 46104    </td><td>1024.5333 </td><td> 45695    </td><td>  22      </td><td>125       </td><td>  92      </td><td>...       </td><td>16.54987  </td><td>3.138596  </td><td> 44412    </td><td>96.33004  </td><td> 8.488697 </td><td>10.071411 </td><td> 6.953799 </td><td>10.338641 </td><td>0         </td><td>AAR       </td></tr>\n",
       "\t<tr><th scope=row>435</th><td>3050      </td><td>WAUSHARA  </td><td>WI        </td><td>0.037     </td><td> 19385    </td><td> 523.9189 </td><td> 19094    </td><td>  29      </td><td> 70       </td><td>  43      </td><td>...       </td><td>15.06458  </td><td>2.620907  </td><td> 19163    </td><td>98.85478  </td><td>13.786985 </td><td>20.050708 </td><td>11.695784 </td><td>11.804558 </td><td>0         </td><td>AAR       </td></tr>\n",
       "\t<tr><th scope=row>436</th><td>3051      </td><td>WINNEBAGO </td><td>WI        </td><td>0.035     </td><td>140320    </td><td>4009.1429 </td><td>136822    </td><td> 697      </td><td>685       </td><td>1728      </td><td>...       </td><td>24.99550  </td><td>5.659847  </td><td>133950    </td><td>95.46038  </td><td> 8.804031 </td><td>10.592031 </td><td> 8.660587 </td><td> 6.661094 </td><td>1         </td><td>HAU       </td></tr>\n",
       "\t<tr><th scope=row>437</th><td>3052      </td><td>WOOD      </td><td>WI        </td><td>0.048     </td><td> 73605    </td><td>1533.4375 </td><td> 72157    </td><td>  90      </td><td>481       </td><td> 722      </td><td>...       </td><td>21.66638  </td><td>4.583725  </td><td> 72685    </td><td>98.75008  </td><td> 8.525831 </td><td>11.162997 </td><td> 7.375656 </td><td> 7.882918 </td><td>0         </td><td>AAR       </td></tr>\n",
       "</tbody>\n",
       "</table>\n"
      ],
      "text/latex": [
       "\\begin{tabular}{r|llllllllllllllllllllllllllll}\n",
       "  & PID & county & state & area & poptotal & popdensity & popwhite & popblack & popamerindian & popasian & ... & percollege & percprof & poppovertyknown & percpovertyknown & percbelowpoverty & percchildbelowpovert & percadultpoverty & percelderlypoverty & inmetro & category\\\\\n",
       "\\hline\n",
       "\t432 & 3047       & WASHINGTON & WI         & 0.025      &  95328     & 3813.1200  &  94465     &  125       & 208        &  337       & ...        & 23.39090   & 4.014568   &  94143     & 98.75692   &  3.237628  &  4.069854  &  2.584500  &  4.280889  & 1          & HLU       \\\\\n",
       "\t433 & 3048       & WAUKESHA   & WI         & 0.034      & 304715     & 8962.2059  & 298313     & 1096       & 672        & 2699       & ...        & 35.39678   & 7.667090   & 299802     & 98.38767   &  3.121060  &  3.785820  &  2.590061  &  4.085479  & 1          & HLU       \\\\\n",
       "\t434 & 3049       & WAUPACA    & WI         & 0.045      &  46104     & 1024.5333  &  45695     &   22       & 125        &   92       & ...        & 16.54987   & 3.138596   &  44412     & 96.33004   &  8.488697  & 10.071411  &  6.953799  & 10.338641  & 0          & AAR       \\\\\n",
       "\t435 & 3050       & WAUSHARA   & WI         & 0.037      &  19385     &  523.9189  &  19094     &   29       &  70        &   43       & ...        & 15.06458   & 2.620907   &  19163     & 98.85478   & 13.786985  & 20.050708  & 11.695784  & 11.804558  & 0          & AAR       \\\\\n",
       "\t436 & 3051       & WINNEBAGO  & WI         & 0.035      & 140320     & 4009.1429  & 136822     &  697       & 685        & 1728       & ...        & 24.99550   & 5.659847   & 133950     & 95.46038   &  8.804031  & 10.592031  &  8.660587  &  6.661094  & 1          & HAU       \\\\\n",
       "\t437 & 3052       & WOOD       & WI         & 0.048      &  73605     & 1533.4375  &  72157     &   90       & 481        &  722       & ...        & 21.66638   & 4.583725   &  72685     & 98.75008   &  8.525831  & 11.162997  &  7.375656  &  7.882918  & 0          & AAR       \\\\\n",
       "\\end{tabular}\n"
      ],
      "text/markdown": [
       "\n",
       "| <!--/--> | PID | county | state | area | poptotal | popdensity | popwhite | popblack | popamerindian | popasian | ... | percollege | percprof | poppovertyknown | percpovertyknown | percbelowpoverty | percchildbelowpovert | percadultpoverty | percelderlypoverty | inmetro | category |\n",
       "|---|---|---|---|---|---|---|---|---|---|---|---|---|---|---|---|---|---|---|---|---|---|\n",
       "| 432 | 3047       | WASHINGTON | WI         | 0.025      |  95328     | 3813.1200  |  94465     |  125       | 208        |  337       | ...        | 23.39090   | 4.014568   |  94143     | 98.75692   |  3.237628  |  4.069854  |  2.584500  |  4.280889  | 1          | HLU        |\n",
       "| 433 | 3048       | WAUKESHA   | WI         | 0.034      | 304715     | 8962.2059  | 298313     | 1096       | 672        | 2699       | ...        | 35.39678   | 7.667090   | 299802     | 98.38767   |  3.121060  |  3.785820  |  2.590061  |  4.085479  | 1          | HLU        |\n",
       "| 434 | 3049       | WAUPACA    | WI         | 0.045      |  46104     | 1024.5333  |  45695     |   22       | 125        |   92       | ...        | 16.54987   | 3.138596   |  44412     | 96.33004   |  8.488697  | 10.071411  |  6.953799  | 10.338641  | 0          | AAR        |\n",
       "| 435 | 3050       | WAUSHARA   | WI         | 0.037      |  19385     |  523.9189  |  19094     |   29       |  70        |   43       | ...        | 15.06458   | 2.620907   |  19163     | 98.85478   | 13.786985  | 20.050708  | 11.695784  | 11.804558  | 0          | AAR        |\n",
       "| 436 | 3051       | WINNEBAGO  | WI         | 0.035      | 140320     | 4009.1429  | 136822     |  697       | 685        | 1728       | ...        | 24.99550   | 5.659847   | 133950     | 95.46038   |  8.804031  | 10.592031  |  8.660587  |  6.661094  | 1          | HAU        |\n",
       "| 437 | 3052       | WOOD       | WI         | 0.048      |  73605     | 1533.4375  |  72157     |   90       | 481        |  722       | ...        | 21.66638   | 4.583725   |  72685     | 98.75008   |  8.525831  | 11.162997  |  7.375656  |  7.882918  | 0          | AAR        |\n",
       "\n"
      ],
      "text/plain": [
       "    PID  county     state area  poptotal popdensity popwhite popblack\n",
       "432 3047 WASHINGTON WI    0.025  95328   3813.1200   94465    125    \n",
       "433 3048 WAUKESHA   WI    0.034 304715   8962.2059  298313   1096    \n",
       "434 3049 WAUPACA    WI    0.045  46104   1024.5333   45695     22    \n",
       "435 3050 WAUSHARA   WI    0.037  19385    523.9189   19094     29    \n",
       "436 3051 WINNEBAGO  WI    0.035 140320   4009.1429  136822    697    \n",
       "437 3052 WOOD       WI    0.048  73605   1533.4375   72157     90    \n",
       "    popamerindian popasian ... percollege percprof poppovertyknown\n",
       "432 208            337     ... 23.39090   4.014568  94143         \n",
       "433 672           2699     ... 35.39678   7.667090 299802         \n",
       "434 125             92     ... 16.54987   3.138596  44412         \n",
       "435  70             43     ... 15.06458   2.620907  19163         \n",
       "436 685           1728     ... 24.99550   5.659847 133950         \n",
       "437 481            722     ... 21.66638   4.583725  72685         \n",
       "    percpovertyknown percbelowpoverty percchildbelowpovert percadultpoverty\n",
       "432 98.75692          3.237628         4.069854             2.584500       \n",
       "433 98.38767          3.121060         3.785820             2.590061       \n",
       "434 96.33004          8.488697        10.071411             6.953799       \n",
       "435 98.85478         13.786985        20.050708            11.695784       \n",
       "436 95.46038          8.804031        10.592031             8.660587       \n",
       "437 98.75008          8.525831        11.162997             7.375656       \n",
       "    percelderlypoverty inmetro category\n",
       "432  4.280889          1       HLU     \n",
       "433  4.085479          1       HLU     \n",
       "434 10.338641          0       AAR     \n",
       "435 11.804558          0       AAR     \n",
       "436  6.661094          1       HAU     \n",
       "437  7.882918          0       AAR     "
      ]
     },
     "metadata": {},
     "output_type": "display_data"
    },
    {
     "data": {
      "text/html": [
       "<ol class=list-inline>\n",
       "\t<li>437</li>\n",
       "\t<li>28</li>\n",
       "</ol>\n"
      ],
      "text/latex": [
       "\\begin{enumerate*}\n",
       "\\item 437\n",
       "\\item 28\n",
       "\\end{enumerate*}\n"
      ],
      "text/markdown": [
       "1. 437\n",
       "2. 28\n",
       "\n",
       "\n"
      ],
      "text/plain": [
       "[1] 437  28"
      ]
     },
     "metadata": {},
     "output_type": "display_data"
    },
    {
     "name": "stdout",
     "output_type": "stream",
     "text": [
      "'data.frame':\t437 obs. of  28 variables:\n",
      " $ PID                 : int  561 562 563 564 565 566 567 568 569 570 ...\n",
      " $ county              : chr  \"ADAMS\" \"ALEXANDER\" \"BOND\" \"BOONE\" ...\n",
      " $ state               : chr  \"IL\" \"IL\" \"IL\" \"IL\" ...\n",
      " $ area                : num  0.052 0.014 0.022 0.017 0.018 0.05 0.017 0.027 0.024 0.058 ...\n",
      " $ poptotal            : int  66090 10626 14991 30806 5836 35688 5322 16805 13437 173025 ...\n",
      " $ popdensity          : num  1271 759 681 1812 324 ...\n",
      " $ popwhite            : int  63917 7054 14477 29344 5264 35157 5298 16519 13384 146506 ...\n",
      " $ popblack            : int  1702 3496 429 127 547 50 1 111 16 16559 ...\n",
      " $ popamerindian       : int  98 19 35 46 14 65 8 30 8 331 ...\n",
      " $ popasian            : int  249 48 16 150 5 195 15 61 23 8033 ...\n",
      " $ popother            : int  124 9 34 1139 6 221 0 84 6 1596 ...\n",
      " $ percwhite           : num  96.7 66.4 96.6 95.3 90.2 ...\n",
      " $ percblack           : num  2.575 32.9 2.862 0.412 9.373 ...\n",
      " $ percamerindan       : num  0.148 0.179 0.233 0.149 0.24 ...\n",
      " $ percasian           : num  0.3768 0.4517 0.1067 0.4869 0.0857 ...\n",
      " $ percother           : num  0.1876 0.0847 0.2268 3.6973 0.1028 ...\n",
      " $ popadults           : int  43298 6724 9669 19272 3979 23444 3583 11323 8825 95971 ...\n",
      " $ perchsd             : num  75.1 59.7 69.3 75.5 68.9 ...\n",
      " $ percollege          : num  19.6 11.2 17 17.3 14.5 ...\n",
      " $ percprof            : num  4.36 2.87 4.49 4.2 3.37 ...\n",
      " $ poppovertyknown     : int  63628 10529 14235 30337 4815 35107 5241 16455 13081 154934 ...\n",
      " $ percpovertyknown    : num  96.3 99.1 95 98.5 82.5 ...\n",
      " $ percbelowpoverty    : num  13.15 32.24 12.07 7.21 13.52 ...\n",
      " $ percchildbelowpovert: num  18 45.8 14 11.2 13 ...\n",
      " $ percadultpoverty    : num  11.01 27.39 10.85 5.54 11.14 ...\n",
      " $ percelderlypoverty  : num  12.44 25.23 12.7 6.22 19.2 ...\n",
      " $ inmetro             : int  0 0 0 1 0 0 0 0 0 1 ...\n",
      " $ category            : chr  \"AAR\" \"LHR\" \"AAR\" \"ALU\" ...\n"
     ]
    },
    {
     "data": {
      "text/plain": [
       "      PID          county             state                area        \n",
       " Min.   : 561   Length:437         Length:437         Min.   :0.00500  \n",
       " 1st Qu.: 670   Class :character   Class :character   1st Qu.:0.02400  \n",
       " Median :1221   Mode  :character   Mode  :character   Median :0.03000  \n",
       " Mean   :1437                                         Mean   :0.03317  \n",
       " 3rd Qu.:2059                                         3rd Qu.:0.03800  \n",
       " Max.   :3052                                         Max.   :0.11000  \n",
       "    poptotal         popdensity          popwhite          popblack      \n",
       " Min.   :   1701   Min.   :   85.05   Min.   :    416   Min.   :      0  \n",
       " 1st Qu.:  18840   1st Qu.:  622.41   1st Qu.:  18630   1st Qu.:     29  \n",
       " Median :  35324   Median : 1156.21   Median :  34471   Median :    201  \n",
       " Mean   :  96130   Mean   : 3097.74   Mean   :  81840   Mean   :  11024  \n",
       " 3rd Qu.:  75651   3rd Qu.: 2330.00   3rd Qu.:  72968   3rd Qu.:   1291  \n",
       " Max.   :5105067   Max.   :88018.40   Max.   :3204947   Max.   :1317147  \n",
       " popamerindian        popasian         popother        percwhite    \n",
       " Min.   :    4.0   Min.   :     0   Min.   :     0   Min.   :10.69  \n",
       " 1st Qu.:   44.0   1st Qu.:    35   1st Qu.:    20   1st Qu.:94.89  \n",
       " Median :   94.0   Median :   102   Median :    66   Median :98.03  \n",
       " Mean   :  343.1   Mean   :  1310   Mean   :  1613   Mean   :95.56  \n",
       " 3rd Qu.:  288.0   3rd Qu.:   401   3rd Qu.:   345   3rd Qu.:99.07  \n",
       " Max.   :10289.0   Max.   :188565   Max.   :384119   Max.   :99.82  \n",
       "   percblack       percamerindan        percasian        percother      \n",
       " Min.   : 0.0000   Min.   : 0.05623   Min.   :0.0000   Min.   :0.00000  \n",
       " 1st Qu.: 0.1157   1st Qu.: 0.15793   1st Qu.:0.1737   1st Qu.:0.09102  \n",
       " Median : 0.5390   Median : 0.21502   Median :0.2972   Median :0.17844  \n",
       " Mean   : 2.6763   Mean   : 0.79894   Mean   :0.4872   Mean   :0.47906  \n",
       " 3rd Qu.: 2.6014   3rd Qu.: 0.38362   3rd Qu.:0.5212   3rd Qu.:0.48050  \n",
       " Max.   :40.2100   Max.   :89.17738   Max.   :5.0705   Max.   :7.52427  \n",
       "   popadults          perchsd        percollege        percprof      \n",
       " Min.   :   1287   Min.   :46.91   Min.   : 7.336   Min.   : 0.5203  \n",
       " 1st Qu.:  12271   1st Qu.:71.33   1st Qu.:14.114   1st Qu.: 2.9980  \n",
       " Median :  22188   Median :74.25   Median :16.798   Median : 3.8142  \n",
       " Mean   :  60973   Mean   :73.97   Mean   :18.273   Mean   : 4.4473  \n",
       " 3rd Qu.:  47541   3rd Qu.:77.20   3rd Qu.:20.550   3rd Qu.: 4.9493  \n",
       " Max.   :3291995   Max.   :88.90   Max.   :48.079   Max.   :20.7913  \n",
       " poppovertyknown   percpovertyknown percbelowpoverty percchildbelowpovert\n",
       " Min.   :   1696   Min.   :80.90    Min.   : 2.180   Min.   : 1.919      \n",
       " 1st Qu.:  18364   1st Qu.:96.89    1st Qu.: 9.199   1st Qu.:11.624      \n",
       " Median :  33788   Median :98.17    Median :11.822   Median :15.270      \n",
       " Mean   :  93642   Mean   :97.11    Mean   :12.511   Mean   :16.447      \n",
       " 3rd Qu.:  72840   3rd Qu.:98.60    3rd Qu.:15.133   3rd Qu.:20.352      \n",
       " Max.   :5023523   Max.   :99.86    Max.   :48.691   Max.   :64.308      \n",
       " percadultpoverty percelderlypoverty    inmetro         category        \n",
       " Min.   : 1.938   Min.   : 3.547     Min.   :0.0000   Length:437        \n",
       " 1st Qu.: 7.668   1st Qu.: 8.912     1st Qu.:0.0000   Class :character  \n",
       " Median :10.008   Median :10.869     Median :0.0000   Mode  :character  \n",
       " Mean   :10.919   Mean   :11.389     Mean   :0.3432                     \n",
       " 3rd Qu.:13.182   3rd Qu.:13.412     3rd Qu.:1.0000                     \n",
       " Max.   :43.312   Max.   :31.162     Max.   :1.0000                     "
      ]
     },
     "metadata": {},
     "output_type": "display_data"
    }
   ],
   "source": [
    "# 문제1. ggplot2 의 midwest 데이터를 데이터 프레임 형태로 불러와서 데이터의\n",
    "# 특성을 파악하세요.\n",
    "\n",
    "midwest<-as.data.frame(ggplot2::midwest)\n",
    "head(midwest)\n",
    "tail(midwest)\n",
    "#View(midwest)\n",
    "dim(midwest)\n",
    "str(midwest)\n",
    "summary(midwest)"
   ]
  },
  {
   "cell_type": "code",
   "execution_count": 166,
   "metadata": {},
   "outputs": [
    {
     "data": {
      "text/html": [
       "<table>\n",
       "<thead><tr><th scope=col>PID</th><th scope=col>county</th><th scope=col>state</th><th scope=col>area</th><th scope=col>total</th><th scope=col>popdensity</th><th scope=col>popwhite</th><th scope=col>popblack</th><th scope=col>popamerindian</th><th scope=col>asian</th><th scope=col>...</th><th scope=col>percollege</th><th scope=col>percprof</th><th scope=col>poppovertyknown</th><th scope=col>percpovertyknown</th><th scope=col>percbelowpoverty</th><th scope=col>percchildbelowpovert</th><th scope=col>percadultpoverty</th><th scope=col>percelderlypoverty</th><th scope=col>inmetro</th><th scope=col>category</th></tr></thead>\n",
       "<tbody>\n",
       "\t<tr><td>561      </td><td>ADAMS    </td><td>IL       </td><td>0.052    </td><td>66090    </td><td>1270.9615</td><td>63917    </td><td>1702     </td><td>98       </td><td>249      </td><td>...      </td><td>19.63139 </td><td>4.355859 </td><td>63628    </td><td>96.27478 </td><td>13.151443</td><td>18.01172 </td><td>11.009776</td><td>12.443812</td><td>0        </td><td>AAR      </td></tr>\n",
       "\t<tr><td>562      </td><td>ALEXANDER</td><td>IL       </td><td>0.014    </td><td>10626    </td><td> 759.0000</td><td> 7054    </td><td>3496     </td><td>19       </td><td> 48      </td><td>...      </td><td>11.24331 </td><td>2.870315 </td><td>10529    </td><td>99.08714 </td><td>32.244278</td><td>45.82651 </td><td>27.385647</td><td>25.228976</td><td>0        </td><td>LHR      </td></tr>\n",
       "\t<tr><td>563      </td><td>BOND     </td><td>IL       </td><td>0.022    </td><td>14991    </td><td> 681.4091</td><td>14477    </td><td> 429     </td><td>35       </td><td> 16      </td><td>...      </td><td>17.03382 </td><td>4.488572 </td><td>14235    </td><td>94.95697 </td><td>12.068844</td><td>14.03606 </td><td>10.852090</td><td>12.697410</td><td>0        </td><td>AAR      </td></tr>\n",
       "\t<tr><td>564      </td><td>BOONE    </td><td>IL       </td><td>0.017    </td><td>30806    </td><td>1812.1176</td><td>29344    </td><td> 127     </td><td>46       </td><td>150      </td><td>...      </td><td>17.27895 </td><td>4.197800 </td><td>30337    </td><td>98.47757 </td><td> 7.209019</td><td>11.17954 </td><td> 5.536013</td><td> 6.217047</td><td>1        </td><td>ALU      </td></tr>\n",
       "\t<tr><td>565      </td><td>BROWN    </td><td>IL       </td><td>0.018    </td><td> 5836    </td><td> 324.2222</td><td> 5264    </td><td> 547     </td><td>14       </td><td>  5      </td><td>...      </td><td>14.47600 </td><td>3.367680 </td><td> 4815    </td><td>82.50514 </td><td>13.520249</td><td>13.02289 </td><td>11.143211</td><td>19.200000</td><td>0        </td><td>AAR      </td></tr>\n",
       "\t<tr><td>566      </td><td>BUREAU   </td><td>IL       </td><td>0.050    </td><td>35688    </td><td> 713.7600</td><td>35157    </td><td>  50     </td><td>65       </td><td>195      </td><td>...      </td><td>18.90462 </td><td>3.275891 </td><td>35107    </td><td>98.37200 </td><td>10.399635</td><td>14.15882 </td><td> 8.179287</td><td>11.008586</td><td>0        </td><td>AAR      </td></tr>\n",
       "</tbody>\n",
       "</table>\n"
      ],
      "text/latex": [
       "\\begin{tabular}{r|llllllllllllllllllllllllllll}\n",
       " PID & county & state & area & total & popdensity & popwhite & popblack & popamerindian & asian & ... & percollege & percprof & poppovertyknown & percpovertyknown & percbelowpoverty & percchildbelowpovert & percadultpoverty & percelderlypoverty & inmetro & category\\\\\n",
       "\\hline\n",
       "\t 561       & ADAMS     & IL        & 0.052     & 66090     & 1270.9615 & 63917     & 1702      & 98        & 249       & ...       & 19.63139  & 4.355859  & 63628     & 96.27478  & 13.151443 & 18.01172  & 11.009776 & 12.443812 & 0         & AAR      \\\\\n",
       "\t 562       & ALEXANDER & IL        & 0.014     & 10626     &  759.0000 &  7054     & 3496      & 19        &  48       & ...       & 11.24331  & 2.870315  & 10529     & 99.08714  & 32.244278 & 45.82651  & 27.385647 & 25.228976 & 0         & LHR      \\\\\n",
       "\t 563       & BOND      & IL        & 0.022     & 14991     &  681.4091 & 14477     &  429      & 35        &  16       & ...       & 17.03382  & 4.488572  & 14235     & 94.95697  & 12.068844 & 14.03606  & 10.852090 & 12.697410 & 0         & AAR      \\\\\n",
       "\t 564       & BOONE     & IL        & 0.017     & 30806     & 1812.1176 & 29344     &  127      & 46        & 150       & ...       & 17.27895  & 4.197800  & 30337     & 98.47757  &  7.209019 & 11.17954  &  5.536013 &  6.217047 & 1         & ALU      \\\\\n",
       "\t 565       & BROWN     & IL        & 0.018     &  5836     &  324.2222 &  5264     &  547      & 14        &   5       & ...       & 14.47600  & 3.367680  &  4815     & 82.50514  & 13.520249 & 13.02289  & 11.143211 & 19.200000 & 0         & AAR      \\\\\n",
       "\t 566       & BUREAU    & IL        & 0.050     & 35688     &  713.7600 & 35157     &   50      & 65        & 195       & ...       & 18.90462  & 3.275891  & 35107     & 98.37200  & 10.399635 & 14.15882  &  8.179287 & 11.008586 & 0         & AAR      \\\\\n",
       "\\end{tabular}\n"
      ],
      "text/markdown": [
       "\n",
       "| PID | county | state | area | total | popdensity | popwhite | popblack | popamerindian | asian | ... | percollege | percprof | poppovertyknown | percpovertyknown | percbelowpoverty | percchildbelowpovert | percadultpoverty | percelderlypoverty | inmetro | category |\n",
       "|---|---|---|---|---|---|---|---|---|---|---|---|---|---|---|---|---|---|---|---|---|\n",
       "| 561       | ADAMS     | IL        | 0.052     | 66090     | 1270.9615 | 63917     | 1702      | 98        | 249       | ...       | 19.63139  | 4.355859  | 63628     | 96.27478  | 13.151443 | 18.01172  | 11.009776 | 12.443812 | 0         | AAR       |\n",
       "| 562       | ALEXANDER | IL        | 0.014     | 10626     |  759.0000 |  7054     | 3496      | 19        |  48       | ...       | 11.24331  | 2.870315  | 10529     | 99.08714  | 32.244278 | 45.82651  | 27.385647 | 25.228976 | 0         | LHR       |\n",
       "| 563       | BOND      | IL        | 0.022     | 14991     |  681.4091 | 14477     |  429      | 35        |  16       | ...       | 17.03382  | 4.488572  | 14235     | 94.95697  | 12.068844 | 14.03606  | 10.852090 | 12.697410 | 0         | AAR       |\n",
       "| 564       | BOONE     | IL        | 0.017     | 30806     | 1812.1176 | 29344     |  127      | 46        | 150       | ...       | 17.27895  | 4.197800  | 30337     | 98.47757  |  7.209019 | 11.17954  |  5.536013 |  6.217047 | 1         | ALU       |\n",
       "| 565       | BROWN     | IL        | 0.018     |  5836     |  324.2222 |  5264     |  547      | 14        |   5       | ...       | 14.47600  | 3.367680  |  4815     | 82.50514  | 13.520249 | 13.02289  | 11.143211 | 19.200000 | 0         | AAR       |\n",
       "| 566       | BUREAU    | IL        | 0.050     | 35688     |  713.7600 | 35157     |   50      | 65        | 195       | ...       | 18.90462  | 3.275891  | 35107     | 98.37200  | 10.399635 | 14.15882  |  8.179287 | 11.008586 | 0         | AAR       |\n",
       "\n"
      ],
      "text/plain": [
       "  PID county    state area  total popdensity popwhite popblack popamerindian\n",
       "1 561 ADAMS     IL    0.052 66090 1270.9615  63917    1702     98           \n",
       "2 562 ALEXANDER IL    0.014 10626  759.0000   7054    3496     19           \n",
       "3 563 BOND      IL    0.022 14991  681.4091  14477     429     35           \n",
       "4 564 BOONE     IL    0.017 30806 1812.1176  29344     127     46           \n",
       "5 565 BROWN     IL    0.018  5836  324.2222   5264     547     14           \n",
       "6 566 BUREAU    IL    0.050 35688  713.7600  35157      50     65           \n",
       "  asian ... percollege percprof poppovertyknown percpovertyknown\n",
       "1 249   ... 19.63139   4.355859 63628           96.27478        \n",
       "2  48   ... 11.24331   2.870315 10529           99.08714        \n",
       "3  16   ... 17.03382   4.488572 14235           94.95697        \n",
       "4 150   ... 17.27895   4.197800 30337           98.47757        \n",
       "5   5   ... 14.47600   3.367680  4815           82.50514        \n",
       "6 195   ... 18.90462   3.275891 35107           98.37200        \n",
       "  percbelowpoverty percchildbelowpovert percadultpoverty percelderlypoverty\n",
       "1 13.151443        18.01172             11.009776        12.443812         \n",
       "2 32.244278        45.82651             27.385647        25.228976         \n",
       "3 12.068844        14.03606             10.852090        12.697410         \n",
       "4  7.209019        11.17954              5.536013         6.217047         \n",
       "5 13.520249        13.02289             11.143211        19.200000         \n",
       "6 10.399635        14.15882              8.179287        11.008586         \n",
       "  inmetro category\n",
       "1 0       AAR     \n",
       "2 0       LHR     \n",
       "3 0       AAR     \n",
       "4 1       ALU     \n",
       "5 0       AAR     \n",
       "6 0       AAR     "
      ]
     },
     "metadata": {},
     "output_type": "display_data"
    }
   ],
   "source": [
    "# 문제2. poptotal(전체 인구)을 total 로, popasian(아시아 인구)을 asian 으로 \n",
    "# 변수명을 수정하세요.\n",
    "\n",
    "library(dplyr) ######################## 어떤 역할?\n",
    "midwest<-rename(midwest, total=poptotal, asian=popasian)\n",
    "head(midwest)"
   ]
  },
  {
   "cell_type": "code",
   "execution_count": 169,
   "metadata": {},
   "outputs": [
    {
     "data": {
      "image/png": "[encoded data removed]",
      "text/plain": [
       "Plot with title \"Histogram of midwest$percent\""
      ]
     },
     "metadata": {},
     "output_type": "display_data"
    }
   ],
   "source": [
    "# 문제3. total, asian 변수를 이용해 '전체 인구 대비 아시아 인구 백분율\n",
    "# 파생변수를 만들고, 히스토그램을 만들어 도시들이 어떻게 분포하는지 살펴보세요.\n",
    "\n",
    "midwest$percent<-midwest$asian / midwest$total *100\n",
    "hist(midwest$percent)"
   ]
  },
  {
   "cell_type": "code",
   "execution_count": 175,
   "metadata": {},
   "outputs": [
    {
     "data": {
      "text/html": [
       "0.487246183435734"
      ],
      "text/latex": [
       "0.487246183435734"
      ],
      "text/markdown": [
       "0.487246183435734"
      ],
      "text/plain": [
       "[1] 0.4872462"
      ]
     },
     "metadata": {},
     "output_type": "display_data"
    },
    {
     "data": {
      "text/html": [
       "<table>\n",
       "<thead><tr><th scope=col>PID</th><th scope=col>county</th><th scope=col>state</th><th scope=col>area</th><th scope=col>total</th><th scope=col>popdensity</th><th scope=col>popwhite</th><th scope=col>popblack</th><th scope=col>popamerindian</th><th scope=col>asian</th><th scope=col>...</th><th scope=col>poppovertyknown</th><th scope=col>percpovertyknown</th><th scope=col>percbelowpoverty</th><th scope=col>percchildbelowpovert</th><th scope=col>percadultpoverty</th><th scope=col>percelderlypoverty</th><th scope=col>inmetro</th><th scope=col>category</th><th scope=col>percent</th><th scope=col>percent_mean</th></tr></thead>\n",
       "<tbody>\n",
       "\t<tr><td>561       </td><td>ADAMS     </td><td>IL        </td><td>0.052     </td><td>66090     </td><td>1270.9615 </td><td>63917     </td><td>1702      </td><td>98        </td><td>249       </td><td>...       </td><td>63628     </td><td>96.27478  </td><td>13.151443 </td><td>18.01172  </td><td>11.009776 </td><td>12.443812 </td><td>0         </td><td>AAR       </td><td>0.37675897</td><td>small     </td></tr>\n",
       "\t<tr><td>562       </td><td>ALEXANDER </td><td>IL        </td><td>0.014     </td><td>10626     </td><td> 759.0000 </td><td> 7054     </td><td>3496      </td><td>19        </td><td> 48       </td><td>...       </td><td>10529     </td><td>99.08714  </td><td>32.244278 </td><td>45.82651  </td><td>27.385647 </td><td>25.228976 </td><td>0         </td><td>LHR       </td><td>0.45172219</td><td>small     </td></tr>\n",
       "\t<tr><td>563       </td><td>BOND      </td><td>IL        </td><td>0.022     </td><td>14991     </td><td> 681.4091 </td><td>14477     </td><td> 429      </td><td>35        </td><td> 16       </td><td>...       </td><td>14235     </td><td>94.95697  </td><td>12.068844 </td><td>14.03606  </td><td>10.852090 </td><td>12.697410 </td><td>0         </td><td>AAR       </td><td>0.10673071</td><td>small     </td></tr>\n",
       "\t<tr><td>564       </td><td>BOONE     </td><td>IL        </td><td>0.017     </td><td>30806     </td><td>1812.1176 </td><td>29344     </td><td> 127      </td><td>46        </td><td>150       </td><td>...       </td><td>30337     </td><td>98.47757  </td><td> 7.209019 </td><td>11.17954  </td><td> 5.536013 </td><td> 6.217047 </td><td>1         </td><td>ALU       </td><td>0.48691813</td><td>small     </td></tr>\n",
       "\t<tr><td>565       </td><td>BROWN     </td><td>IL        </td><td>0.018     </td><td> 5836     </td><td> 324.2222 </td><td> 5264     </td><td> 547      </td><td>14        </td><td>  5       </td><td>...       </td><td> 4815     </td><td>82.50514  </td><td>13.520249 </td><td>13.02289  </td><td>11.143211 </td><td>19.200000 </td><td>0         </td><td>AAR       </td><td>0.08567512</td><td>small     </td></tr>\n",
       "\t<tr><td>566       </td><td>BUREAU    </td><td>IL        </td><td>0.050     </td><td>35688     </td><td> 713.7600 </td><td>35157     </td><td>  50      </td><td>65        </td><td>195       </td><td>...       </td><td>35107     </td><td>98.37200  </td><td>10.399635 </td><td>14.15882  </td><td> 8.179287 </td><td>11.008586 </td><td>0         </td><td>AAR       </td><td>0.54640215</td><td>large     </td></tr>\n",
       "</tbody>\n",
       "</table>\n"
      ],
      "text/latex": [
       "\\begin{tabular}{r|llllllllllllllllllllllllllllll}\n",
       " PID & county & state & area & total & popdensity & popwhite & popblack & popamerindian & asian & ... & poppovertyknown & percpovertyknown & percbelowpoverty & percchildbelowpovert & percadultpoverty & percelderlypoverty & inmetro & category & percent & percent\\_mean\\\\\n",
       "\\hline\n",
       "\t 561        & ADAMS      & IL         & 0.052      & 66090      & 1270.9615  & 63917      & 1702       & 98         & 249        & ...        & 63628      & 96.27478   & 13.151443  & 18.01172   & 11.009776  & 12.443812  & 0          & AAR        & 0.37675897 & small     \\\\\n",
       "\t 562        & ALEXANDER  & IL         & 0.014      & 10626      &  759.0000  &  7054      & 3496       & 19         &  48        & ...        & 10529      & 99.08714   & 32.244278  & 45.82651   & 27.385647  & 25.228976  & 0          & LHR        & 0.45172219 & small     \\\\\n",
       "\t 563        & BOND       & IL         & 0.022      & 14991      &  681.4091  & 14477      &  429       & 35         &  16        & ...        & 14235      & 94.95697   & 12.068844  & 14.03606   & 10.852090  & 12.697410  & 0          & AAR        & 0.10673071 & small     \\\\\n",
       "\t 564        & BOONE      & IL         & 0.017      & 30806      & 1812.1176  & 29344      &  127       & 46         & 150        & ...        & 30337      & 98.47757   &  7.209019  & 11.17954   &  5.536013  &  6.217047  & 1          & ALU        & 0.48691813 & small     \\\\\n",
       "\t 565        & BROWN      & IL         & 0.018      &  5836      &  324.2222  &  5264      &  547       & 14         &   5        & ...        &  4815      & 82.50514   & 13.520249  & 13.02289   & 11.143211  & 19.200000  & 0          & AAR        & 0.08567512 & small     \\\\\n",
       "\t 566        & BUREAU     & IL         & 0.050      & 35688      &  713.7600  & 35157      &   50       & 65         & 195        & ...        & 35107      & 98.37200   & 10.399635  & 14.15882   &  8.179287  & 11.008586  & 0          & AAR        & 0.54640215 & large     \\\\\n",
       "\\end{tabular}\n"
      ],
      "text/markdown": [
       "\n",
       "| PID | county | state | area | total | popdensity | popwhite | popblack | popamerindian | asian | ... | poppovertyknown | percpovertyknown | percbelowpoverty | percchildbelowpovert | percadultpoverty | percelderlypoverty | inmetro | category | percent | percent_mean |\n",
       "|---|---|---|---|---|---|---|---|---|---|---|---|---|---|---|---|---|---|---|---|---|\n",
       "| 561        | ADAMS      | IL         | 0.052      | 66090      | 1270.9615  | 63917      | 1702       | 98         | 249        | ...        | 63628      | 96.27478   | 13.151443  | 18.01172   | 11.009776  | 12.443812  | 0          | AAR        | 0.37675897 | small      |\n",
       "| 562        | ALEXANDER  | IL         | 0.014      | 10626      |  759.0000  |  7054      | 3496       | 19         |  48        | ...        | 10529      | 99.08714   | 32.244278  | 45.82651   | 27.385647  | 25.228976  | 0          | LHR        | 0.45172219 | small      |\n",
       "| 563        | BOND       | IL         | 0.022      | 14991      |  681.4091  | 14477      |  429       | 35         |  16        | ...        | 14235      | 94.95697   | 12.068844  | 14.03606   | 10.852090  | 12.697410  | 0          | AAR        | 0.10673071 | small      |\n",
       "| 564        | BOONE      | IL         | 0.017      | 30806      | 1812.1176  | 29344      |  127       | 46         | 150        | ...        | 30337      | 98.47757   |  7.209019  | 11.17954   |  5.536013  |  6.217047  | 1          | ALU        | 0.48691813 | small      |\n",
       "| 565        | BROWN      | IL         | 0.018      |  5836      |  324.2222  |  5264      |  547       | 14         |   5        | ...        |  4815      | 82.50514   | 13.520249  | 13.02289   | 11.143211  | 19.200000  | 0          | AAR        | 0.08567512 | small      |\n",
       "| 566        | BUREAU     | IL         | 0.050      | 35688      |  713.7600  | 35157      |   50       | 65         | 195        | ...        | 35107      | 98.37200   | 10.399635  | 14.15882   |  8.179287  | 11.008586  | 0          | AAR        | 0.54640215 | large      |\n",
       "\n"
      ],
      "text/plain": [
       "  PID county    state area  total popdensity popwhite popblack popamerindian\n",
       "1 561 ADAMS     IL    0.052 66090 1270.9615  63917    1702     98           \n",
       "2 562 ALEXANDER IL    0.014 10626  759.0000   7054    3496     19           \n",
       "3 563 BOND      IL    0.022 14991  681.4091  14477     429     35           \n",
       "4 564 BOONE     IL    0.017 30806 1812.1176  29344     127     46           \n",
       "5 565 BROWN     IL    0.018  5836  324.2222   5264     547     14           \n",
       "6 566 BUREAU    IL    0.050 35688  713.7600  35157      50     65           \n",
       "  asian ... poppovertyknown percpovertyknown percbelowpoverty\n",
       "1 249   ... 63628           96.27478         13.151443       \n",
       "2  48   ... 10529           99.08714         32.244278       \n",
       "3  16   ... 14235           94.95697         12.068844       \n",
       "4 150   ... 30337           98.47757          7.209019       \n",
       "5   5   ...  4815           82.50514         13.520249       \n",
       "6 195   ... 35107           98.37200         10.399635       \n",
       "  percchildbelowpovert percadultpoverty percelderlypoverty inmetro category\n",
       "1 18.01172             11.009776        12.443812          0       AAR     \n",
       "2 45.82651             27.385647        25.228976          0       LHR     \n",
       "3 14.03606             10.852090        12.697410          0       AAR     \n",
       "4 11.17954              5.536013         6.217047          1       ALU     \n",
       "5 13.02289             11.143211        19.200000          0       AAR     \n",
       "6 14.15882              8.179287        11.008586          0       AAR     \n",
       "  percent    percent_mean\n",
       "1 0.37675897 small       \n",
       "2 0.45172219 small       \n",
       "3 0.10673071 small       \n",
       "4 0.48691813 small       \n",
       "5 0.08567512 small       \n",
       "6 0.54640215 large       "
      ]
     },
     "metadata": {},
     "output_type": "display_data"
    }
   ],
   "source": [
    "# 문제4. 아시아 인구 백분율 전체 평균을 구하고, 평균을 초과하면 \"large\", \n",
    "# 그 외에는 \"small\"을 부여하는 파생변수를 만들어 보세요.\n",
    "mean(midwest$percent)\n",
    "midwest$percent_mean<-ifelse(midwest$percent > 0.487246183435734,\"large\",\"small\")\n",
    "head(midwest)"
   ]
  },
  {
   "cell_type": "code",
   "execution_count": 178,
   "metadata": {},
   "outputs": [
    {
     "data": {
      "text/plain": [
       "\n",
       "large small \n",
       "  119   318 "
      ]
     },
     "metadata": {},
     "output_type": "display_data"
    },
    {
     "data": {
      "image/png": "[encoded data removed]",
      "text/plain": [
       "plot without title"
      ]
     },
     "metadata": {},
     "output_type": "display_data"
    }
   ],
   "source": [
    "# 문제5. \"large\"와 \"small\"에 해당하는 지역이 얼마나 되는지, \n",
    "# 빈도표와 빈도 막대 그래프를 만들어 확인해 보세요.\n",
    "table(midwest$percent_mean)\n",
    "qplot(midwest$percent_mean)"
   ]
  }
 ],
 "metadata": {
  "kernelspec": {
   "display_name": "R",
   "language": "R",
   "name": "ir"
  },
  "language_info": {
   "codemirror_mode": "r",
   "file_extension": ".r",
   "mimetype": "text/x-r-source",
   "name": "R",
   "pygments_lexer": "r",
   "version": "3.6.1"
  }
 },
 "nbformat": 4,
 "nbformat_minor": 2
}
