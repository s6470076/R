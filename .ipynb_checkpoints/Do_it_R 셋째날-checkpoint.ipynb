{
 "cells": [
  {
   "cell_type": "markdown",
   "metadata": {},
   "source": [
    "#### 시작하기 전에 설치하기\n",
    "\n",
    "- install.packages(\"stringr\")\n",
    "- install.packages(\"Rcpp\")\n",
    "- install.packages(\"usethis\")\n",
    "- install.packages(\"glue\")\n",
    "\n",
    "- install.packages(\"devtools\")\n",
    "    library(devtools)\n",
    "- install.packages(\"remotes\")\n",
    "    library(remotes)\n",
    "    \n",
    "-> R studio 나중에 다시 실행"
   ]
  },
  {
   "cell_type": "markdown",
   "metadata": {},
   "source": [
    "# 9. 데이터 분석 프로젝트\n",
    "- '한국인의 삶을 파악하라!' "
   ]
  },
  {
   "cell_type": "markdown",
   "metadata": {},
   "source": [
    "## 9-1.'한국복지패널데이터' 분석 준비하기 \n",
    "한국복지패널데이터 \n",
    "- 한국보건사회연구원 발간 \n",
    "- 가구의 경제활동을 연구해 정책 지원에 반영할 목적 \n",
    "- 2006~2015년까지 전국에서 7000여 가구를 선정해 매년 추적 조사 \n",
    "- 경제활동, 생활실태, 복지욕구 등 수천 개 변수에 대한 정보로 구성 "
   ]
  },
  {
   "cell_type": "markdown",
   "metadata": {},
   "source": [
    "## 데이터 분석 준비하기 "
   ]
  },
  {
   "cell_type": "markdown",
   "metadata": {},
   "source": [
    "### 패키지 준비하기"
   ]
  },
  {
   "cell_type": "code",
   "execution_count": 1,
   "metadata": {},
   "outputs": [
    {
     "name": "stderr",
     "output_type": "stream",
     "text": [
      "Installing package into 'C:/Users/admin/Documents/R/win-library/3.6'\n",
      "(as 'lib' is unspecified)\n"
     ]
    },
    {
     "name": "stdout",
     "output_type": "stream",
     "text": [
      "package 'foreign' successfully unpacked and MD5 sums checked\n",
      "\n",
      "The downloaded binary packages are in\n",
      "\tC:\\Users\\admin\\AppData\\Local\\Temp\\RtmpwXqIpC\\downloaded_packages\n"
     ]
    }
   ],
   "source": [
    "install.packages('foreign')"
   ]
  },
  {
   "cell_type": "code",
   "execution_count": 2,
   "metadata": {},
   "outputs": [
    {
     "name": "stderr",
     "output_type": "stream",
     "text": [
      "Installing package into 'C:/Users/admin/Documents/R/win-library/3.6'\n",
      "(as 'lib' is unspecified)\n"
     ]
    },
    {
     "name": "stdout",
     "output_type": "stream",
     "text": [
      "package 'readxl' successfully unpacked and MD5 sums checked\n",
      "\n",
      "The downloaded binary packages are in\n",
      "\tC:\\Users\\admin\\AppData\\Local\\Temp\\RtmpwXqIpC\\downloaded_packages\n"
     ]
    }
   ],
   "source": [
    "install.packages('readxl')"
   ]
  },
  {
   "cell_type": "code",
   "execution_count": 3,
   "metadata": {},
   "outputs": [
    {
     "name": "stderr",
     "output_type": "stream",
     "text": [
      "Warning message:\n",
      "\"package 'foreign' was built under R version 3.6.3\"Warning message:\n",
      "\"package 'dplyr' was built under R version 3.6.3\"\n",
      "Attaching package: 'dplyr'\n",
      "\n",
      "The following objects are masked from 'package:stats':\n",
      "\n",
      "    filter, lag\n",
      "\n",
      "The following objects are masked from 'package:base':\n",
      "\n",
      "    intersect, setdiff, setequal, union\n",
      "\n",
      "Warning message:\n",
      "\"package 'ggplot2' was built under R version 3.6.3\"Warning message:\n",
      "\"package 'readxl' was built under R version 3.6.3\""
     ]
    }
   ],
   "source": [
    "library(foreign)             # SPSS 파일 로드\n",
    "                             # SPSS는 통계적 분석과 데이터 마이닝등에 사용되는 \n",
    "                             # 통계 분석 프로그램 모음이다.\n",
    "library(dplyr)               # 전처리\n",
    "library(ggplot2)             # 시각화\n",
    "library(readxl)              # 엑셀 파일 불러오기\n"
   ]
  },
  {
   "cell_type": "markdown",
   "metadata": {},
   "source": [
    "### 데이터 준비하기"
   ]
  },
  {
   "cell_type": "code",
   "execution_count": 4,
   "metadata": {},
   "outputs": [
    {
     "name": "stderr",
     "output_type": "stream",
     "text": [
      "Warning message in read.spss(file = \"./Rdata/Koweps_hpc10_2015_beta1.sav\", to.data.frame = T):\n",
      "\"./Rdata/Koweps_hpc10_2015_beta1.sav: Compression bias (0) is not the usual value of 100\""
     ]
    }
   ],
   "source": [
    "# 데이터 불러오기\n",
    "####################### Q. to.data.frame의 역할은 무엇?\n",
    "raw_welfare <- read.spss(file = \"./Rdata/Koweps_hpc10_2015_beta1.sav\",\n",
    "                         to.data.frame = T)"
   ]
  },
  {
   "cell_type": "code",
   "execution_count": 5,
   "metadata": {},
   "outputs": [],
   "source": [
    "# 복사본 만들기\n",
    "welfare <- raw_welfare"
   ]
  },
  {
   "cell_type": "markdown",
   "metadata": {},
   "source": [
    "### 데이터 검토하기\n",
    "- 대규모 데이터는 변수가 많고 변수명이 코드로 되어 있어서 전체 데이터 구조를 한눈에 파악하기 어려움 \n",
    "- 변수명을 쉬운 단어로 바꾼 후 분석에 사용할 변수들 각각 파악해야 함 "
   ]
  },
  {
   "cell_type": "code",
   "execution_count": 6,
   "metadata": {
    "scrolled": true
   },
   "outputs": [
    {
     "data": {
      "text/html": [
       "<table>\n",
       "<thead><tr><th scope=col>h10_id</th><th scope=col>h10_ind</th><th scope=col>h10_sn</th><th scope=col>h10_merkey</th><th scope=col>h_new</th><th scope=col>h10_cobf</th><th scope=col>h10_reg5</th><th scope=col>h10_reg7</th><th scope=col>h10_din</th><th scope=col>h10_cin</th><th scope=col>...</th><th scope=col>c1007_4aq19</th><th scope=col>c1007_4aq20</th><th scope=col>c1007_4aq21</th><th scope=col>c1007_4aq22</th><th scope=col>c1007_4aq23</th><th scope=col>h10_pers_income1</th><th scope=col>h10_pers_income2</th><th scope=col>h10_pers_income3</th><th scope=col>h10_pers_income4</th><th scope=col>h10_pers_income5</th></tr></thead>\n",
       "<tbody>\n",
       "\t<tr><td>1    </td><td>1    </td><td>1    </td><td>10101</td><td>0    </td><td>NA   </td><td>1    </td><td>1    </td><td> 864 </td><td> 864 </td><td>...  </td><td>NA   </td><td>NA   </td><td>NA   </td><td>NA   </td><td>NA   </td><td>NA   </td><td>  NA </td><td>  NA </td><td>0    </td><td>NA   </td></tr>\n",
       "\t<tr><td>2    </td><td>1    </td><td>1    </td><td>20101</td><td>0    </td><td>NA   </td><td>1    </td><td>1    </td><td> 600 </td><td> 600 </td><td>...  </td><td>NA   </td><td>NA   </td><td>NA   </td><td>NA   </td><td>NA   </td><td>NA   </td><td>  NA </td><td>  NA </td><td>0    </td><td>NA   </td></tr>\n",
       "\t<tr><td>3    </td><td>1    </td><td>1    </td><td>30101</td><td>0    </td><td>NA   </td><td>1    </td><td>1    </td><td>1571 </td><td>1619 </td><td>...  </td><td>NA   </td><td>NA   </td><td>NA   </td><td>NA   </td><td>NA   </td><td>NA   </td><td>1440 </td><td>  NA </td><td>0    </td><td>NA   </td></tr>\n",
       "\t<tr><td>4    </td><td>1    </td><td>1    </td><td>40101</td><td>0    </td><td>NA   </td><td>1    </td><td>1    </td><td>3579 </td><td>3687 </td><td>...  </td><td>NA   </td><td>NA   </td><td>NA   </td><td>NA   </td><td>NA   </td><td>NA   </td><td>2400 </td><td>  NA </td><td>0    </td><td>NA   </td></tr>\n",
       "\t<tr><td>4    </td><td>1    </td><td>1    </td><td>40101</td><td>0    </td><td>NA   </td><td>1    </td><td>1    </td><td>3579 </td><td>3687 </td><td>...  </td><td>NA   </td><td>NA   </td><td>NA   </td><td>NA   </td><td>NA   </td><td>NA   </td><td>  NA </td><td>  NA </td><td>0    </td><td>NA   </td></tr>\n",
       "\t<tr><td>6    </td><td>1    </td><td>1    </td><td>60101</td><td>0    </td><td>NA   </td><td>1    </td><td>1    </td><td>3030 </td><td>3486 </td><td>...  </td><td>NA   </td><td>NA   </td><td>NA   </td><td>NA   </td><td>NA   </td><td>NA   </td><td>  NA </td><td>3000 </td><td>0    </td><td>NA   </td></tr>\n",
       "</tbody>\n",
       "</table>\n"
      ],
      "text/latex": [
       "\\begin{tabular}{r|lllllllllllllllllllllllllllllllllllllllllllllllllllllllllllllllllllllllllllllllllllllllllllllllllllllllllllllllllllllllllllllllllllllllllllllllllllllllllllllllllllllllllllllllllllllllllllllllllllllllllllllllllllllllllllllllllllllllllllllllllllllllllllllllllllllllllllllllllllllllllllllllllllllllllllllllllllllllllllllllllllllllllllllllllllllllllllllllllllllllllllllllllllllllllllllllllllllllllllllllllllllllllllllllllllllllllllllllllllllllllllllllllllllllllllllllllllllllllllllllllllllllllllllllllllllllllllllllllllllllllllllllllllllllllllllllllllllllllllllllllllllllllllllllllllllllllllllllllllllllllllllllllllllllllllllllllllllllllllllllllllllllllllllllllllllllllllllllllllllllllllllllllllllllllllllllllllllllllllllllllllllllllllllllllllllllllllllllllllllllllllllllllllllllllllllllllllllllllllllllllllllllllllllllllllllllllllllllllllllllllllllllllllllllllllllllllllllllllllllllllllllllllllllllllllllllllllllllllllllllllllllllllllllllllllllllllllllllllllll}\n",
       " h10\\_id & h10\\_ind & h10\\_sn & h10\\_merkey & h\\_new & h10\\_cobf & h10\\_reg5 & h10\\_reg7 & h10\\_din & h10\\_cin & ... & c1007\\_4aq19 & c1007\\_4aq20 & c1007\\_4aq21 & c1007\\_4aq22 & c1007\\_4aq23 & h10\\_pers\\_income1 & h10\\_pers\\_income2 & h10\\_pers\\_income3 & h10\\_pers\\_income4 & h10\\_pers\\_income5\\\\\n",
       "\\hline\n",
       "\t 1     & 1     & 1     & 10101 & 0     & NA    & 1     & 1     &  864  &  864  & ...   & NA    & NA    & NA    & NA    & NA    & NA    &   NA  &   NA  & 0     & NA   \\\\\n",
       "\t 2     & 1     & 1     & 20101 & 0     & NA    & 1     & 1     &  600  &  600  & ...   & NA    & NA    & NA    & NA    & NA    & NA    &   NA  &   NA  & 0     & NA   \\\\\n",
       "\t 3     & 1     & 1     & 30101 & 0     & NA    & 1     & 1     & 1571  & 1619  & ...   & NA    & NA    & NA    & NA    & NA    & NA    & 1440  &   NA  & 0     & NA   \\\\\n",
       "\t 4     & 1     & 1     & 40101 & 0     & NA    & 1     & 1     & 3579  & 3687  & ...   & NA    & NA    & NA    & NA    & NA    & NA    & 2400  &   NA  & 0     & NA   \\\\\n",
       "\t 4     & 1     & 1     & 40101 & 0     & NA    & 1     & 1     & 3579  & 3687  & ...   & NA    & NA    & NA    & NA    & NA    & NA    &   NA  &   NA  & 0     & NA   \\\\\n",
       "\t 6     & 1     & 1     & 60101 & 0     & NA    & 1     & 1     & 3030  & 3486  & ...   & NA    & NA    & NA    & NA    & NA    & NA    &   NA  & 3000  & 0     & NA   \\\\\n",
       "\\end{tabular}\n"
      ],
      "text/markdown": [
       "\n",
       "| h10_id | h10_ind | h10_sn | h10_merkey | h_new | h10_cobf | h10_reg5 | h10_reg7 | h10_din | h10_cin | ... | c1007_4aq19 | c1007_4aq20 | c1007_4aq21 | c1007_4aq22 | c1007_4aq23 | h10_pers_income1 | h10_pers_income2 | h10_pers_income3 | h10_pers_income4 | h10_pers_income5 |\n",
       "|---|---|---|---|---|---|---|---|---|---|---|---|---|---|---|---|---|---|---|---|---|\n",
       "| 1     | 1     | 1     | 10101 | 0     | NA    | 1     | 1     |  864  |  864  | ...   | NA    | NA    | NA    | NA    | NA    | NA    |   NA  |   NA  | 0     | NA    |\n",
       "| 2     | 1     | 1     | 20101 | 0     | NA    | 1     | 1     |  600  |  600  | ...   | NA    | NA    | NA    | NA    | NA    | NA    |   NA  |   NA  | 0     | NA    |\n",
       "| 3     | 1     | 1     | 30101 | 0     | NA    | 1     | 1     | 1571  | 1619  | ...   | NA    | NA    | NA    | NA    | NA    | NA    | 1440  |   NA  | 0     | NA    |\n",
       "| 4     | 1     | 1     | 40101 | 0     | NA    | 1     | 1     | 3579  | 3687  | ...   | NA    | NA    | NA    | NA    | NA    | NA    | 2400  |   NA  | 0     | NA    |\n",
       "| 4     | 1     | 1     | 40101 | 0     | NA    | 1     | 1     | 3579  | 3687  | ...   | NA    | NA    | NA    | NA    | NA    | NA    |   NA  |   NA  | 0     | NA    |\n",
       "| 6     | 1     | 1     | 60101 | 0     | NA    | 1     | 1     | 3030  | 3486  | ...   | NA    | NA    | NA    | NA    | NA    | NA    |   NA  | 3000  | 0     | NA    |\n",
       "\n"
      ],
      "text/plain": [
       "  h10_id h10_ind h10_sn h10_merkey h_new h10_cobf h10_reg5 h10_reg7 h10_din\n",
       "1 1      1       1      10101      0     NA       1        1         864   \n",
       "2 2      1       1      20101      0     NA       1        1         600   \n",
       "3 3      1       1      30101      0     NA       1        1        1571   \n",
       "4 4      1       1      40101      0     NA       1        1        3579   \n",
       "5 4      1       1      40101      0     NA       1        1        3579   \n",
       "6 6      1       1      60101      0     NA       1        1        3030   \n",
       "  h10_cin ... c1007_4aq19 c1007_4aq20 c1007_4aq21 c1007_4aq22 c1007_4aq23\n",
       "1  864    ... NA          NA          NA          NA          NA         \n",
       "2  600    ... NA          NA          NA          NA          NA         \n",
       "3 1619    ... NA          NA          NA          NA          NA         \n",
       "4 3687    ... NA          NA          NA          NA          NA         \n",
       "5 3687    ... NA          NA          NA          NA          NA         \n",
       "6 3486    ... NA          NA          NA          NA          NA         \n",
       "  h10_pers_income1 h10_pers_income2 h10_pers_income3 h10_pers_income4\n",
       "1 NA                 NA               NA             0               \n",
       "2 NA                 NA               NA             0               \n",
       "3 NA               1440               NA             0               \n",
       "4 NA               2400               NA             0               \n",
       "5 NA                 NA               NA             0               \n",
       "6 NA                 NA             3000             0               \n",
       "  h10_pers_income5\n",
       "1 NA              \n",
       "2 NA              \n",
       "3 NA              \n",
       "4 NA              \n",
       "5 NA              \n",
       "6 NA              "
      ]
     },
     "metadata": {},
     "output_type": "display_data"
    },
    {
     "data": {
      "text/html": [
       "<ol class=list-inline>\n",
       "\t<li>16664</li>\n",
       "\t<li>957</li>\n",
       "</ol>\n"
      ],
      "text/latex": [
       "\\begin{enumerate*}\n",
       "\\item 16664\n",
       "\\item 957\n",
       "\\end{enumerate*}\n"
      ],
      "text/markdown": [
       "1. 16664\n",
       "2. 957\n",
       "\n",
       "\n"
      ],
      "text/plain": [
       "[1] 16664   957"
      ]
     },
     "metadata": {},
     "output_type": "display_data"
    },
    {
     "data": {
      "text/plain": [
       "     h10_id        h10_ind           h10_sn        h10_merkey      \n",
       " Min.   :   1   Min.   : 1.000   Min.   :1.000   Min.   :   10101  \n",
       " 1st Qu.:2361   1st Qu.: 1.000   1st Qu.:1.000   1st Qu.:23612601  \n",
       " Median :4503   Median : 1.000   Median :1.000   Median :45030401  \n",
       " Mean   :4669   Mean   : 2.612   Mean   :1.003   Mean   :46689252  \n",
       " 3rd Qu.:6613   3rd Qu.: 5.000   3rd Qu.:1.000   3rd Qu.:66130501  \n",
       " Max.   :9800   Max.   :10.000   Max.   :9.000   Max.   :98000701  \n",
       "                                                                   \n",
       "     h_new           h10_cobf        h10_reg5        h10_reg7    \n",
       " Min.   :0.0000   Min.   :1.000   Min.   :1.000   Min.   :1.000  \n",
       " 1st Qu.:0.0000   1st Qu.:1.000   1st Qu.:2.000   1st Qu.:2.000  \n",
       " Median :0.0000   Median :1.000   Median :3.000   Median :3.000  \n",
       " Mean   :0.2009   Mean   :2.213   Mean   :2.641   Mean   :3.705  \n",
       " 3rd Qu.:0.0000   3rd Qu.:2.000   3rd Qu.:3.000   3rd Qu.:6.000  \n",
       " Max.   :1.0000   Max.   :7.000   Max.   :5.000   Max.   :7.000  \n",
       " NA's   :13       NA's   :16523                                  \n",
       "    h10_din          h10_cin          h10_flag    p10_wgl       \n",
       " Min.   :-28685   Min.   :-27281   Min.   :0   Min.   :    0.0  \n",
       " 1st Qu.:  1875   1st Qu.:  1950   1st Qu.:0   1st Qu.:  794.6  \n",
       " Median :  3756   Median :  4023   Median :0   Median : 1993.8  \n",
       " Mean   :  4395   Mean   :  4793   Mean   :0   Mean   : 3025.9  \n",
       " 3rd Qu.:  5832   3rd Qu.:  6411   3rd Qu.:0   3rd Qu.: 4306.9  \n",
       " Max.   :244030   Max.   :245758   Max.   :0   Max.   :14931.0  \n",
       "                                                                \n",
       "    p10_wsl          p10_wgc            p10_wsc            h10_hc     \n",
       " Min.   :0.0000   Min.   :   50.32   Min.   :0.01663   Min.   :1.000  \n",
       " 1st Qu.:0.2626   1st Qu.:  897.69   1st Qu.:0.29667   1st Qu.:1.000  \n",
       " Median :0.6589   Median : 2066.80   Median :0.68303   Median :1.000  \n",
       " Mean   :1.0000   Mean   : 3025.92   Mean   :1.00000   Mean   :1.291  \n",
       " 3rd Qu.:1.4233   3rd Qu.: 4251.41   3rd Qu.:1.40500   3rd Qu.:2.000  \n",
       " Max.   :4.9344   Max.   :14244.17   Max.   :4.70738   Max.   :2.000  \n",
       "                                                                      \n",
       "    nh1001_1        nh1001_2        h1001_1         h10_pind     \n",
       " Min.   :2013    Min.   : 1.00   Min.   :1.000   Min.   : 1.000  \n",
       " 1st Qu.:2013    1st Qu.: 3.00   1st Qu.:2.000   1st Qu.: 1.000  \n",
       " Median :2014    Median : 6.00   Median :3.000   Median : 1.000  \n",
       " Mean   :2014    Mean   : 6.56   Mean   :3.096   Mean   : 2.886  \n",
       " 3rd Qu.:2014    3rd Qu.:11.00   3rd Qu.:4.000   3rd Qu.: 7.000  \n",
       " Max.   :2014    Max.   :12.00   Max.   :8.000   Max.   :10.000  \n",
       " NA's   :16523   NA's   :16523                                   \n",
       "    h10_pid           h10_g1          h10_g2           h10_g3     \n",
       " Min.   :   101   Min.   :1.000   Min.   :  1.00   Min.   :1.000  \n",
       " 1st Qu.:236127   1st Qu.:1.000   1st Qu.: 10.00   1st Qu.:1.000  \n",
       " Median :450302   Median :2.000   Median : 11.00   Median :2.000  \n",
       " Mean   :466868   Mean   :2.048   Mean   : 16.41   Mean   :1.545  \n",
       " 3rd Qu.:661316   3rd Qu.:3.000   3rd Qu.: 20.00   3rd Qu.:2.000  \n",
       " Max.   :980006   Max.   :8.000   Max.   :998.00   Max.   :2.000  \n",
       "                                                                  \n",
       "     h10_g4         h10_g6          h10_g7          h10_g8       \n",
       " Min.   :1907   Min.   :1.000   Min.   :0.000   Min.   : 0.0000  \n",
       " 1st Qu.:1946   1st Qu.:3.000   1st Qu.:1.000   1st Qu.: 0.0000  \n",
       " Median :1966   Median :5.000   Median :5.000   Median : 0.0000  \n",
       " Mean   :1968   Mean   :4.421   Mean   :3.516   Mean   : 0.3278  \n",
       " 3rd Qu.:1988   3rd Qu.:6.000   3rd Qu.:5.000   3rd Qu.: 0.0000  \n",
       " Max.   :2014   Max.   :9.000   Max.   :5.000   Max.   :16.0000  \n",
       "                                                                 \n",
       "     h10_g9          h10_g10         h10_g11         h10_g12      \n",
       " Min.   :0.0000   Min.   :0.000   Min.   :1.000   Min.   : 1.000  \n",
       " 1st Qu.:0.0000   1st Qu.:1.000   1st Qu.:1.000   1st Qu.: 1.000  \n",
       " Median :0.0000   Median :1.000   Median :2.000   Median : 1.000  \n",
       " Mean   :0.3825   Mean   :1.648   Mean   :1.517   Mean   : 1.123  \n",
       " 3rd Qu.:0.0000   3rd Qu.:2.000   3rd Qu.:2.000   3rd Qu.: 1.000  \n",
       " Max.   :7.0000   Max.   :6.000   Max.   :2.000   Max.   :11.000  \n",
       "                                                                  \n",
       "   h1001_110       h1001_5aq1        h1001_5aq2       h1001_5aq3    \n",
       " Min.   :1.000   Min.   :0.00000   Min.   :0.0000   Min.   :0.0000  \n",
       " 1st Qu.:5.000   1st Qu.:0.00000   1st Qu.:0.0000   1st Qu.:0.0000  \n",
       " Median :5.000   Median :0.00000   Median :0.0000   Median :0.0000  \n",
       " Mean   :4.452   Mean   :0.08623   Mean   :0.1031   Mean   :0.1073  \n",
       " 3rd Qu.:5.000   3rd Qu.:0.00000   3rd Qu.:0.0000   3rd Qu.:0.0000  \n",
       " Max.   :5.000   Max.   :3.00000   Max.   :2.0000   Max.   :3.0000  \n",
       "                                                                    \n",
       "   h1001_5aq4        h10_med1        h10_med2        h10_med3     \n",
       " Min.   :0.0000   Min.   :1.000   Min.   :1.000   Min.   :  0.00  \n",
       " 1st Qu.:0.0000   1st Qu.:1.000   1st Qu.:2.000   1st Qu.:  2.00  \n",
       " Median :0.0000   Median :2.000   Median :2.000   Median :  8.00  \n",
       " Mean   :0.1097   Mean   :2.048   Mean   :2.425   Mean   : 15.76  \n",
       " 3rd Qu.:0.0000   3rd Qu.:3.000   3rd Qu.:3.000   3rd Qu.: 18.00  \n",
       " Max.   :2.0000   Max.   :8.000   Max.   :5.000   Max.   :398.00  \n",
       "                                                                  \n",
       "    h10_med4          h10_med5         h10_med6         h10_med7    \n",
       " Min.   : 0.0000   Min.   :  0.00   Min.   :0.0000   Min.   :0.000  \n",
       " 1st Qu.: 0.0000   1st Qu.:  0.00   1st Qu.:0.0000   1st Qu.:1.000  \n",
       " Median : 0.0000   Median :  0.00   Median :0.0000   Median :2.000  \n",
       " Mean   : 0.1638   Mean   :  2.45   Mean   :0.1594   Mean   :1.634  \n",
       " 3rd Qu.: 0.0000   3rd Qu.:  0.00   3rd Qu.:0.0000   3rd Qu.:2.000  \n",
       " Max.   :25.0000   Max.   :365.00   Max.   :7.0000   Max.   :5.000  \n",
       "                                                                    \n",
       "    h10_med8          h10_g9_1        h10_med9        h10_med10     \n",
       " Min.   : 0.0000   Min.   :0.000   Min.   : 0.000   Min.   : 0.000  \n",
       " 1st Qu.: 0.0000   1st Qu.:0.000   1st Qu.: 0.000   1st Qu.: 0.000  \n",
       " Median : 0.0000   Median :0.000   Median : 2.000   Median : 1.000  \n",
       " Mean   : 0.4921   Mean   :1.328   Mean   : 6.359   Mean   : 1.037  \n",
       " 3rd Qu.: 1.0000   3rd Qu.:3.000   3rd Qu.: 7.000   3rd Qu.: 2.000  \n",
       " Max.   :12.0000   Max.   :3.000   Max.   :32.000   Max.   :15.000  \n",
       "                                                                    \n",
       "    h10_eco1        h10_eco2        h10_eco3        h10_eco4    \n",
       " Min.   :1.000   Min.   :0.000   Min.   :1.000   Min.   :1.000  \n",
       " 1st Qu.:1.000   1st Qu.:1.000   1st Qu.:1.000   1st Qu.:2.000  \n",
       " Median :2.000   Median :1.000   Median :2.000   Median :7.000  \n",
       " Mean   :2.048   Mean   :1.124   Mean   :1.843   Mean   :5.954  \n",
       " 3rd Qu.:3.000   3rd Qu.:1.000   3rd Qu.:2.000   3rd Qu.:9.000  \n",
       " Max.   :8.000   Max.   :4.000   Max.   :4.000   Max.   :9.000  \n",
       "                                 NA's   :16434   NA's   :2261   \n",
       "   h10_eco4_1      h10_eco5_1       h10_eco6      h10_eco_7_1   \n",
       " Min.   :3.000   Min.   :1.00    Min.   :1.000   Min.   :1.000  \n",
       " 1st Qu.:3.000   1st Qu.:1.00    1st Qu.:2.000   1st Qu.:1.000  \n",
       " Median :3.000   Median :1.00    Median :2.000   Median :2.000  \n",
       " Mean   :4.118   Mean   :1.14    Mean   :1.875   Mean   :1.681  \n",
       " 3rd Qu.:4.000   3rd Qu.:1.00    3rd Qu.:2.000   3rd Qu.:2.000  \n",
       " Max.   :9.000   Max.   :3.00    Max.   :2.000   Max.   :2.000  \n",
       " NA's   :15726   NA's   :11640   NA's   :11640   NA's   :11640  \n",
       "  h10_eco_7_2     h10_eco_7_3       h10_eco8        h10_eco9     \n",
       " Min.   :1.000   Min.   :1.000   Min.   : 1.00   Min.   : 111.0  \n",
       " 1st Qu.:1.000   1st Qu.:1.000   1st Qu.:22.00   1st Qu.: 314.0  \n",
       " Median :1.000   Median :2.000   Median :47.00   Median : 611.0  \n",
       " Mean   :1.407   Mean   :2.068   Mean   :47.31   Mean   : 591.2  \n",
       " 3rd Qu.:2.000   3rd Qu.:3.000   3rd Qu.:75.00   3rd Qu.: 863.0  \n",
       " Max.   :2.000   Max.   :6.000   Max.   :99.00   Max.   :1012.0  \n",
       " NA's   :11640   NA's   :14621   NA's   :9135    NA's   :9135    \n",
       "   h10_eco10        h10_eco11         h10_soc1       h10_soc_2     \n",
       " Min.   : 1.000   Min.   : 1.000   Min.   :1.000   Min.   :0.0000  \n",
       " 1st Qu.: 1.000   1st Qu.: 5.000   1st Qu.:1.000   1st Qu.:0.0000  \n",
       " Median : 2.000   Median : 9.000   Median :2.000   Median :0.0000  \n",
       " Mean   : 3.324   Mean   : 7.313   Mean   :2.048   Mean   :0.7606  \n",
       " 3rd Qu.: 5.000   3rd Qu.:10.000   3rd Qu.:3.000   3rd Qu.:2.0000  \n",
       " Max.   :11.000   Max.   :11.000   Max.   :8.000   Max.   :4.0000  \n",
       " NA's   :9135     NA's   :9959                                     \n",
       "   h10_soc_3       h10_soc_4       h10_soc_5       h10_soc_6    \n",
       " Min.   :1.000   Min.   :1.000   Min.   :1.000   Min.   :1.000  \n",
       " 1st Qu.:1.000   1st Qu.:1.000   1st Qu.:1.000   1st Qu.:1.000  \n",
       " Median :1.000   Median :1.000   Median :1.000   Median :1.000  \n",
       " Mean   :1.087   Mean   :1.488   Mean   :1.259   Mean   :1.014  \n",
       " 3rd Qu.:1.000   3rd Qu.:2.000   3rd Qu.:2.000   3rd Qu.:1.000  \n",
       " Max.   :5.000   Max.   :4.000   Max.   :2.000   Max.   :2.000  \n",
       " NA's   :11545   NA's   :11897   NA's   :11897   NA's   :15431  \n",
       "   h10_soc_7       h10_soc_8       h10_soc_9       h10_soc_10    \n",
       " Min.   :1.000   Min.   : 1.00   Min.   :0.00    Min.   : 0.000  \n",
       " 1st Qu.:1.000   1st Qu.:12.00   1st Qu.:0.00    1st Qu.: 0.000  \n",
       " Median :3.000   Median :12.00   Median :0.00    Median : 0.000  \n",
       " Mean   :2.096   Mean   :10.93   Mean   :0.01    Mean   : 0.059  \n",
       " 3rd Qu.:3.000   3rd Qu.:12.00   3rd Qu.:0.00    3rd Qu.: 0.000  \n",
       " Max.   :5.000   Max.   :12.00   Max.   :5.00    Max.   :12.000  \n",
       " NA's   :15448   NA's   :15448   NA's   :13113   NA's   :13113   \n",
       "   h10_soc_11       h10_soc8         h10_soc9        h10_soc11    \n",
       " Min.   :1.000   Min.   :0.0000   Min.   :0.0000   Min.   :0.000  \n",
       " 1st Qu.:1.000   1st Qu.:0.0000   1st Qu.:0.0000   1st Qu.:0.000  \n",
       " Median :2.000   Median :0.0000   Median :0.0000   Median :0.000  \n",
       " Mean   :2.907   Mean   :0.3716   Mean   :0.3367   Mean   :0.407  \n",
       " 3rd Qu.:6.000   3rd Qu.:1.0000   3rd Qu.:1.0000   3rd Qu.:1.000  \n",
       " Max.   :6.000   Max.   :2.0000   Max.   :2.0000   Max.   :3.000  \n",
       " NA's   :16556                                                    \n",
       "   h10_soc10        h10_soc_12      h10_soc_13       h1005_1     \n",
       " Min.   :0.0000   Min.   :1.000   Min.   :1.000   Min.   :1.000  \n",
       " 1st Qu.:0.0000   1st Qu.:4.000   1st Qu.:2.000   1st Qu.:1.000  \n",
       " Median :0.0000   Median :4.000   Median :2.000   Median :1.000  \n",
       " Mean   :0.4865   Mean   :3.673   Mean   :2.435   Mean   :1.059  \n",
       " 3rd Qu.:1.0000   3rd Qu.:4.000   3rd Qu.:3.000   3rd Qu.:1.000  \n",
       " Max.   :3.0000   Max.   :5.000   Max.   :8.000   Max.   :2.000  \n",
       "                                                                 \n",
       "   h1005_3aq1       h1005_2         h1005_3         h1005_4     \n",
       " Min.   :1.000   Min.   :1.000   Min.   :0.000   Min.   :1.000  \n",
       " 1st Qu.:1.000   1st Qu.:1.000   1st Qu.:0.000   1st Qu.:2.000  \n",
       " Median :1.000   Median :1.000   Median :0.000   Median :2.000  \n",
       " Mean   :1.303   Mean   :1.284   Mean   :0.341   Mean   :1.986  \n",
       " 3rd Qu.:2.000   3rd Qu.:2.000   3rd Qu.:0.000   3rd Qu.:2.000  \n",
       " Max.   :2.000   Max.   :4.000   Max.   :4.000   Max.   :2.000  \n",
       " NA's   :977     NA's   :15687   NA's   :15698   NA's   :977    \n",
       "    h1005_5         h1005_6          h1005_7          nh1005_8    \n",
       " Min.   :1.000   Min.   : 1.000   Min.   :0.0000   Min.   :1.000  \n",
       " 1st Qu.:2.000   1st Qu.: 2.000   1st Qu.:0.0000   1st Qu.:3.000  \n",
       " Median :2.000   Median : 6.000   Median :0.0000   Median :4.000  \n",
       " Mean   :2.326   Mean   : 7.009   Mean   :0.2842   Mean   :3.382  \n",
       " 3rd Qu.:2.000   3rd Qu.:12.000   3rd Qu.:0.0000   3rd Qu.:4.000  \n",
       " Max.   :5.000   Max.   :12.000   Max.   :3.0000   Max.   :5.000  \n",
       " NA's   :16437   NA's   :16437    NA's   :977      NA's   :977    \n",
       "    nh1005_9       h1005_3aq2       h1006_aq1        h1006_1      \n",
       " Min.   :1.000   Min.   :  0.00   Min.   :1.000   Min.   : 1.000  \n",
       " 1st Qu.:3.000   1st Qu.:  0.00   1st Qu.:2.000   1st Qu.: 1.000  \n",
       " Median :4.000   Median : 14.00   Median :2.000   Median : 3.000  \n",
       " Mean   :3.742   Mean   : 19.64   Mean   :1.913   Mean   : 3.617  \n",
       " 3rd Qu.:4.000   3rd Qu.: 30.00   3rd Qu.:2.000   3rd Qu.: 5.000  \n",
       " Max.   :5.000   Max.   :250.00   Max.   :2.000   Max.   :13.000  \n",
       "                                  NA's   :141                     \n",
       "    h1006_2        h1006_4         h1006_5          h1006_3     \n",
       " Min.   :1.00   Min.   :1.000   Min.   :  7.00   Min.   :1.000  \n",
       " 1st Qu.:3.00   1st Qu.:2.000   1st Qu.: 59.00   1st Qu.:1.000  \n",
       " Median :3.00   Median :3.000   Median : 79.00   Median :1.000  \n",
       " Mean   :2.98   Mean   :2.743   Mean   : 81.62   Mean   :1.822  \n",
       " 3rd Qu.:3.00   3rd Qu.:3.000   3rd Qu.:102.00   3rd Qu.:3.000  \n",
       " Max.   :4.00   Max.   :8.000   Max.   :396.00   Max.   :5.000  \n",
       "                                                                \n",
       "    h1006_6          h1006_8         h1006_9        h1006_aq2       \n",
       " Min.   :     5   Min.   :1.000   Min.   : 1.00   Min.   :    0.00  \n",
       " 1st Qu.:  3800   1st Qu.:1.000   1st Qu.: 4.00   1st Qu.:    0.00  \n",
       " Median : 10000   Median :1.000   Median :88.00   Median :    0.00  \n",
       " Mean   : 14597   Mean   :1.237   Mean   :56.88   Mean   :   83.27  \n",
       " 3rd Qu.: 20000   3rd Qu.:1.000   3rd Qu.:88.00   3rd Qu.:    0.00  \n",
       " Max.   :200000   Max.   :5.000   Max.   :88.00   Max.   :20000.00  \n",
       " NA's   :1687     NA's   :1687    NA's   :1687    NA's   :1687      \n",
       "   h1006_aq3        h1006_10        h1006_11        h1006_12        h1006_13   \n",
       " Min.   :    0   Min.   :1.000   Min.   :1.000   Min.   :1.000   Min.   :1.00  \n",
       " 1st Qu.:    0   1st Qu.:1.000   1st Qu.:1.000   1st Qu.:1.000   1st Qu.:2.00  \n",
       " Median :    0   Median :1.000   Median :1.000   Median :1.000   Median :2.00  \n",
       " Mean   : 1578   Mean   :1.004   Mean   :1.105   Mean   :1.076   Mean   :1.96  \n",
       " 3rd Qu.:  450   3rd Qu.:1.000   3rd Qu.:1.000   3rd Qu.:1.000   3rd Qu.:2.00  \n",
       " Max.   :60000   Max.   :4.000   Max.   :2.000   Max.   :2.000   Max.   :2.00  \n",
       " NA's   :1687    NA's   :1687                                                  \n",
       "    h1006_14       h1006_21        h1006_22        h1006_23        h1006_24    \n",
       " Min.   :1.00   Min.   :1.000   Min.   :1.000   Min.   :1.000   Min.   :1.000  \n",
       " 1st Qu.:1.00   1st Qu.:1.000   1st Qu.:1.000   1st Qu.:1.000   1st Qu.:1.000  \n",
       " Median :1.00   Median :1.000   Median :1.000   Median :1.000   Median :1.000  \n",
       " Mean   :1.02   Mean   :1.008   Mean   :1.014   Mean   :1.037   Mean   :1.069  \n",
       " 3rd Qu.:1.00   3rd Qu.:1.000   3rd Qu.:1.000   3rd Qu.:1.000   3rd Qu.:1.000  \n",
       " Max.   :2.00   Max.   :3.000   Max.   :5.000   Max.   :5.000   Max.   :5.000  \n",
       "                                                                               \n",
       "    h1006_25        h1006_27        h1006_30        h1006_33        h1006_36\n",
       " Min.   :1.000   Min.   :1.000   Min.   :1.000   Min.   :1.000   Min.   :1  \n",
       " 1st Qu.:5.000   1st Qu.:2.000   1st Qu.:2.000   1st Qu.:2.000   1st Qu.:2  \n",
       " Median :5.000   Median :2.000   Median :2.000   Median :2.000   Median :2  \n",
       " Mean   :4.977   Mean   :1.975   Mean   :1.972   Mean   :1.994   Mean   :2  \n",
       " 3rd Qu.:5.000   3rd Qu.:2.000   3rd Qu.:2.000   3rd Qu.:2.000   3rd Qu.:2  \n",
       " Max.   :9.000   Max.   :2.000   Max.   :2.000   Max.   :2.000   Max.   :2  \n",
       "                                                                            \n",
       "    h1006_39       h1006_3aq1     h1007_3aq1       h1007_3aq2    \n",
       " Min.   :1.000   Min.   :1.00   Min.   :  0.00   Min.   :  0.00  \n",
       " 1st Qu.:2.000   1st Qu.:2.00   1st Qu.: 30.00   1st Qu.:  6.00  \n",
       " Median :2.000   Median :2.00   Median : 44.00   Median : 20.00  \n",
       " Mean   :1.999   Mean   :1.99   Mean   : 47.03   Mean   : 23.89  \n",
       " 3rd Qu.:2.000   3rd Qu.:2.00   3rd Qu.: 60.00   3rd Qu.: 35.00  \n",
       " Max.   :2.000   Max.   :2.00   Max.   :233.00   Max.   :220.00  \n",
       "                                                                 \n",
       "   h1007_5aq1       h1007_3aq3       h1007_3aq4        h1007_3aq5   \n",
       " Min.   : 0.000   Min.   :  0.00   Min.   :  0.000   Min.   : 0.00  \n",
       " 1st Qu.: 0.000   1st Qu.:  0.00   1st Qu.:  0.100   1st Qu.:10.00  \n",
       " Median : 1.000   Median :  0.00   Median :  3.000   Median :13.00  \n",
       " Mean   : 4.049   Mean   :  3.63   Mean   :  7.646   Mean   :14.07  \n",
       " 3rd Qu.: 7.000   3rd Qu.:  0.00   3rd Qu.:  8.000   3rd Qu.:17.00  \n",
       " Max.   :73.000   Max.   :187.00   Max.   :500.000   Max.   :61.00  \n",
       "                                                                    \n",
       "   h1007_6aq1       h1007_3aq6        h1007_5aq2        h1007_3aq7    \n",
       " Min.   : 0.000   Min.   :  0.000   Min.   :  0.000   Min.   :  0.00  \n",
       " 1st Qu.: 4.500   1st Qu.:  2.000   1st Qu.:  0.000   1st Qu.:  3.00  \n",
       " Median : 6.500   Median :  4.000   Median :  0.000   Median :  8.00  \n",
       " Mean   : 7.063   Mean   :  8.048   Mean   :  4.377   Mean   : 11.44  \n",
       " 3rd Qu.: 9.000   3rd Qu.:  8.000   3rd Qu.:  0.000   3rd Qu.: 15.00  \n",
       " Max.   :32.300   Max.   :590.000   Max.   :140.000   Max.   :195.00  \n",
       "                                                                      \n",
       "   h1007_3aq8       h1007_3aq9      h1007_3aq10      h1007_3aq11    \n",
       " Min.   :  0.00   Min.   :  0.00   Min.   :  0.00   Min.   :  0.00  \n",
       " 1st Qu.:  3.00   1st Qu.:  0.00   1st Qu.:  0.00   1st Qu.:  1.00  \n",
       " Median :  9.00   Median :  0.00   Median :  0.00   Median :  4.00  \n",
       " Mean   : 17.09   Mean   : 10.21   Mean   : 15.88   Mean   : 11.32  \n",
       " 3rd Qu.: 21.00   3rd Qu.:  3.00   3rd Qu.: 16.00   3rd Qu.: 13.00  \n",
       " Max.   :392.00   Max.   :480.00   Max.   :345.00   Max.   :419.00  \n",
       "                                                                    \n",
       "   h1007_5aq3       h1007_5aq4     h1007_3aq13        h1007_6aq4     \n",
       " Min.   :   0.0   Min.   : 0.00   Min.   :   0.00   Min.   :  0.000  \n",
       " 1st Qu.:   6.0   1st Qu.: 6.00   1st Qu.:  22.00   1st Qu.:  1.600  \n",
       " Median :  22.0   Median :14.00   Median :  53.00   Median :  4.100  \n",
       " Mean   :  36.7   Mean   :14.72   Mean   :  65.64   Mean   :  6.063  \n",
       " 3rd Qu.:  39.0   3rd Qu.:21.00   3rd Qu.:  89.00   3rd Qu.:  8.300  \n",
       " Max.   :3424.0   Max.   :64.00   Max.   :1293.00   Max.   :100.000  \n",
       "                                                                     \n",
       "   h1007_6aq6      h1007_3aq14      h1007_3aq15       h1007_3aq16     \n",
       " Min.   :  0.00   Min.   :  0.00   Min.   :  0.000   Min.   :  0.000  \n",
       " 1st Qu.:  0.00   1st Qu.:  0.00   1st Qu.:  0.000   1st Qu.:  0.000  \n",
       " Median :  0.00   Median :  0.00   Median :  0.000   Median :  0.000  \n",
       " Mean   :  4.26   Mean   :  5.04   Mean   :  7.065   Mean   :  4.113  \n",
       " 3rd Qu.:  3.00   3rd Qu.:  0.00   3rd Qu.:  8.000   3rd Qu.:  0.000  \n",
       " Max.   :208.30   Max.   :306.00   Max.   :225.000   Max.   :843.000  \n",
       "                                                                      \n",
       "  h1007_3aq17         h1007_4          h1007_6aq7        h1007_6aq8    \n",
       " Min.   :  0.000   Min.   :   0.00   Min.   :  0.000   Min.   : 0.000  \n",
       " 1st Qu.:  0.000   1st Qu.:   0.70   1st Qu.:  0.000   1st Qu.: 0.000  \n",
       " Median :  0.000   Median :   4.00   Median :  0.000   Median : 0.700  \n",
       " Mean   :  1.405   Mean   :  13.75   Mean   :  6.451   Mean   : 1.546  \n",
       " 3rd Qu.:  0.000   3rd Qu.:  12.00   3rd Qu.:  2.600   3rd Qu.: 1.700  \n",
       " Max.   :178.000   Max.   :1363.00   Max.   :495.500   Max.   :58.300  \n",
       "                                                                       \n",
       "   h1007_6aq9     h1007_6aq10       h1007_6aq11          h1007_5       \n",
       " Min.   : 0.00   Min.   :  0.000   Min.   : 0.00000   Min.   :   0.00  \n",
       " 1st Qu.: 0.00   1st Qu.:  0.000   1st Qu.: 0.00000   1st Qu.:   0.00  \n",
       " Median : 1.00   Median :  0.000   Median : 0.00000   Median :  14.00  \n",
       " Mean   : 1.78   Mean   :  1.258   Mean   : 0.05061   Mean   :  19.45  \n",
       " 3rd Qu.: 3.00   3rd Qu.:  0.000   3rd Qu.: 0.00000   3rd Qu.:  30.00  \n",
       " Max.   :42.50   Max.   :275.000   Max.   :66.70000   Max.   :1147.00  \n",
       "                 NA's   :4                                             \n",
       "  h1007_6aq12       h1007_6aq13       h1007_6aq14         h1007_9      \n",
       " Min.   :  0.000   Min.   :  0.000   Min.   : 0.0000   Min.   :  20.0  \n",
       " 1st Qu.:  0.000   1st Qu.:  0.000   1st Qu.: 0.0000   1st Qu.: 159.0  \n",
       " Median :  5.700   Median :  6.700   Median : 0.0000   Median : 306.0  \n",
       " Mean   :  9.273   Mean   :  8.933   Mean   : 0.9421   Mean   : 346.5  \n",
       " 3rd Qu.: 15.700   3rd Qu.: 13.500   3rd Qu.: 1.5000   3rd Qu.: 464.0  \n",
       " Max.   :109.300   Max.   :206.700   Max.   :55.0000   Max.   :3724.0  \n",
       "                                     NA's   :5                         \n",
       "    h1009_9         h1009_6aq4        h10_inc1       h10_inc2_1    \n",
       " Min.   :   0.0   Min.   :   0.0   Min.   :1.000   Min.   :0.0000  \n",
       " 1st Qu.: 110.0   1st Qu.: 150.0   1st Qu.:1.000   1st Qu.:0.0000  \n",
       " Median : 200.0   Median : 300.0   Median :2.000   Median :0.0000  \n",
       " Mean   : 227.7   Mean   : 309.5   Mean   :2.048   Mean   :0.1915  \n",
       " 3rd Qu.: 300.0   3rd Qu.: 400.0   3rd Qu.:3.000   3rd Qu.:0.0000  \n",
       " Max.   :2000.0   Max.   :2700.0   Max.   :8.000   Max.   :1.0000  \n",
       "                                                   NA's   :2261    \n",
       "   h10_inc2_2      h10_inc3_1       h10_inc3_2       h10_inc4_1    \n",
       " Min.   : 0.0    Min.   :0.0000   Min.   : 1.000   Min.   :0.0000  \n",
       " 1st Qu.:12.0    1st Qu.:0.0000   1st Qu.: 7.000   1st Qu.:0.0000  \n",
       " Median :12.0    Median :0.0000   Median :12.000   Median :0.0000  \n",
       " Mean   :11.2    Mean   :0.2434   Mean   : 9.267   Mean   :0.0788  \n",
       " 3rd Qu.:12.0    3rd Qu.:0.0000   3rd Qu.:12.000   3rd Qu.:0.0000  \n",
       " Max.   :12.0    Max.   :1.0000   Max.   :12.000   Max.   :1.0000  \n",
       " NA's   :13906   NA's   :2261     NA's   :13159    NA's   :2261    \n",
       "   h10_inc4_2      h10_inc5_1       h10_inc5_2      h10_inc6_1    \n",
       " Min.   : 1.00   Min.   :0.0000   Min.   : 2.00   Min.   :0.0000  \n",
       " 1st Qu.:12.00   1st Qu.:0.0000   1st Qu.:12.00   1st Qu.:0.0000  \n",
       " Median :12.00   Median :0.0000   Median :12.00   Median :0.0000  \n",
       " Mean   :11.35   Mean   :0.0606   Mean   :11.91   Mean   :0.0013  \n",
       " 3rd Qu.:12.00   3rd Qu.:0.0000   3rd Qu.:12.00   3rd Qu.:0.0000  \n",
       " Max.   :12.00   Max.   :9.0000   Max.   :12.00   Max.   :1.0000  \n",
       " NA's   :15529   NA's   :2261     NA's   :15800   NA's   :2261    \n",
       "   h10_inc6_2      h10_inc7_1       h10_inc7_2      h1008_106     \n",
       " Min.   : 5.00   Min.   :0.0000   Min.   : 1.00   Min.   :0.0000  \n",
       " 1st Qu.:12.00   1st Qu.:0.0000   1st Qu.:12.00   1st Qu.:0.0000  \n",
       " Median :12.00   Median :1.0000   Median :12.00   Median :0.0000  \n",
       " Mean   :11.63   Mean   :0.5848   Mean   :10.51   Mean   :0.5659  \n",
       " 3rd Qu.:12.00   3rd Qu.:1.0000   3rd Qu.:12.00   3rd Qu.:1.0000  \n",
       " Max.   :12.00   Max.   :1.0000   Max.   :12.00   Max.   :4.0000  \n",
       " NA's   :16645   NA's   :2261     NA's   :8241                    \n",
       "   h1008_107       h1008_108        h1008_109        h1008_110       \n",
       " Min.   :0.000   Min.   :0.0000   Min.   :0.0000   Min.   :0.000000  \n",
       " 1st Qu.:0.000   1st Qu.:0.0000   1st Qu.:0.0000   1st Qu.:0.000000  \n",
       " Median :0.000   Median :0.0000   Median :0.0000   Median :0.000000  \n",
       " Mean   :0.624   Mean   :0.2107   Mean   :0.1224   Mean   :0.003001  \n",
       " 3rd Qu.:1.000   3rd Qu.:0.0000   3rd Qu.:0.0000   3rd Qu.:0.000000  \n",
       " Max.   :4.000   Max.   :3.0000   Max.   :2.0000   Max.   :1.000000  \n",
       " NA's   :2                                                           \n",
       "   h1008_111      h10_inc2_3       h10_inc2       h10_inc3_6       h10_inc3    \n",
       " Min.   :0.00   Min.   :1.000   Min.   :    0   Min.   :1.000   Min.   :   20  \n",
       " 1st Qu.:1.00   1st Qu.:1.000   1st Qu.: 1997   1st Qu.:1.000   1st Qu.:  400  \n",
       " Median :1.00   Median :2.000   Median : 3084   Median :2.000   Median :  980  \n",
       " Mean   :1.41   Mean   :2.048   Mean   : 3653   Mean   :2.048   Mean   : 1252  \n",
       " 3rd Qu.:2.00   3rd Qu.:3.000   3rd Qu.: 4800   3rd Qu.:3.000   3rd Qu.: 1770  \n",
       " Max.   :5.00   Max.   :8.000   Max.   :23240   Max.   :8.000   Max.   :12000  \n",
       "                                NA's   :13905                   NA's   :13161  \n",
       "   h10_inc4_7       h10_inc4          h10_inc4_8      h10_inc4_9     \n",
       " Min.   :1.000   Min.   :-27753.0   Min.   :1.000   Min.   :    0.0  \n",
       " 1st Qu.:1.000   1st Qu.:   796.5   1st Qu.:1.000   1st Qu.:  793.5  \n",
       " Median :2.000   Median :  1980.0   Median :2.000   Median : 1920.0  \n",
       " Mean   :2.048   Mean   :  3346.2   Mean   :2.048   Mean   : 2856.7  \n",
       " 3rd Qu.:3.000   3rd Qu.:  3829.0   3rd Qu.:3.000   3rd Qu.: 3752.5  \n",
       " Max.   :8.000   Max.   :245755.0   Max.   :8.000   Max.   :57600.0  \n",
       "                 NA's   :15529                      NA's   :15529    \n",
       "   h1008_155        h1008_156       h1008_157         h1008_158      \n",
       " Min.   :     0   Min.   :    0   Min.   :    0.0   Min.   :    0.0  \n",
       " 1st Qu.:     0   1st Qu.:  660   1st Qu.:    0.0   1st Qu.:    0.0  \n",
       " Median :  3300   Median : 1650   Median :    0.0   Median :    0.0  \n",
       " Mean   :  6644   Mean   : 3243   Mean   :  369.8   Mean   :  370.5  \n",
       " 3rd Qu.:  7260   3rd Qu.: 3630   3rd Qu.:    0.0   3rd Qu.:    0.0  \n",
       " Max.   :198000   Max.   :52800   Max.   :79200.0   Max.   :40184.0  \n",
       " NA's   :14630    NA's   :14628   NA's   :14628     NA's   :14628    \n",
       "   h1008_160          h1008_159       h1008_3aq3      h1008_161       \n",
       " Min.   :     0.0   Min.   :  0     Min.   :  0.0   Min.   :     0.0  \n",
       " 1st Qu.:   172.2   1st Qu.: 56     1st Qu.: 32.0   1st Qu.:   357.5  \n",
       " Median :   580.0   Median :100     Median : 88.0   Median :   849.0  \n",
       " Mean   :  2152.9   Mean   :120     Mean   :111.8   Mean   :  2384.7  \n",
       " 3rd Qu.:  1978.0   3rd Qu.:161     3rd Qu.:157.0   3rd Qu.:  2265.8  \n",
       " Max.   :100000.0   Max.   :948     Max.   :979.0   Max.   :100160.0  \n",
       " NA's   :14628      NA's   :14628   NA's   :14628   NA's   :14628     \n",
       "   h1008_162         h1008_163       h1008_164         h1008_166    \n",
       " Min.   :   0.00   Min.   :    0   Min.   :-4806.0   Min.   :  155  \n",
       " 1st Qu.:   0.00   1st Qu.:  110   1st Qu.:  225.8   1st Qu.: 1356  \n",
       " Median :   0.00   Median :  282   Median :  529.0   Median : 4925  \n",
       " Mean   :  20.47   Mean   : 1240   Mean   : 1165.2   Mean   : 5937  \n",
       " 3rd Qu.:   0.00   3rd Qu.:  870   3rd Qu.: 1362.0   3rd Qu.: 8500  \n",
       " Max.   :2590.00   Max.   :93601   Max.   :29340.0   Max.   :22500  \n",
       " NA's   :14628     NA's   :14628   NA's   :14628     NA's   :16614  \n",
       "   h1008_165        h1008_3aq4       h1008_167       h1008_168    \n",
       " Min.   :  0.00   Min.   :  0.00   Min.   :  204   Min.   :0      \n",
       " 1st Qu.:  0.00   1st Qu.:  0.00   1st Qu.: 1416   1st Qu.:0      \n",
       " Median : 24.00   Median : 10.00   Median : 5100   Median :0      \n",
       " Mean   : 33.16   Mean   : 26.82   Mean   : 5997   Mean   :0      \n",
       " 3rd Qu.: 60.00   3rd Qu.: 40.00   3rd Qu.: 8500   3rd Qu.:0      \n",
       " Max.   :100.00   Max.   :100.00   Max.   :22500   Max.   :0      \n",
       " NA's   :16614    NA's   :16614    NA's   :16614   NA's   :16614  \n",
       "   h1008_169       h1008_170       h10_inc7_3       h10_inc7      \n",
       " Min.   :    0   Min.   : 204    Min.   :1.000   Min.   :   0.00  \n",
       " 1st Qu.:  336   1st Qu.: 900    1st Qu.:1.000   1st Qu.:   0.00  \n",
       " Median : 1190   Median :2540    Median :2.000   Median :   0.00  \n",
       " Mean   : 3314   Mean   :2683    Mean   :2.048   Mean   :   1.61  \n",
       " 3rd Qu.: 4307   3rd Qu.:4314    3rd Qu.:3.000   3rd Qu.:   0.00  \n",
       " Max.   :18600   Max.   :6590    Max.   :8.000   Max.   :1680.00  \n",
       " NA's   :16614   NA's   :16614                                    \n",
       "   h1008_aq9         h1008_aq10        h1008_aq11         h1008_aq12     \n",
       " Min.   :   0.00   Min.   :    0.0   Min.   :   0.000   Min.   :   0.00  \n",
       " 1st Qu.:   0.00   1st Qu.:    0.0   1st Qu.:   0.000   1st Qu.:   0.00  \n",
       " Median :   0.00   Median :    0.0   Median :   0.000   Median :   0.00  \n",
       " Mean   :  46.08   Mean   :  114.4   Mean   :   2.256   Mean   : 174.46  \n",
       " 3rd Qu.:  10.00   3rd Qu.:    0.0   3rd Qu.:   0.000   3rd Qu.:  63.25  \n",
       " Max.   :6200.00   Max.   :12000.0   Max.   :2000.000   Max.   :8280.00  \n",
       "                                                                         \n",
       "   h1008_aq13        h1008_aq14        h1008_aq15         h1008_6aq1       \n",
       " Min.   :   0.00   Min.   :   0.00   Min.   :   0.000   Min.   :   0.0000  \n",
       " 1st Qu.:   0.00   1st Qu.:   0.00   1st Qu.:   0.000   1st Qu.:   0.0000  \n",
       " Median :   0.00   Median :   0.00   Median :   0.000   Median :   0.0000  \n",
       " Mean   :  16.02   Mean   :   9.58   Mean   :   4.419   Mean   :   0.5125  \n",
       " 3rd Qu.:   0.00   3rd Qu.:   0.00   3rd Qu.:   0.000   3rd Qu.:   0.0000  \n",
       " Max.   :1805.00   Max.   :4800.00   Max.   :3400.000   Max.   :2000.0000  \n",
       "                                                                           \n",
       "   h1008_aq16        h1008_aq17      h1008_10aq1       h1008_aq19      \n",
       " Min.   :  0.000   Min.   :  0.00   Min.   :  0.00   Min.   :  0.0000  \n",
       " 1st Qu.:  0.000   1st Qu.:  0.00   1st Qu.:  0.00   1st Qu.:  0.0000  \n",
       " Median :  0.000   Median :  0.00   Median :  0.00   Median :  0.0000  \n",
       " Mean   :  7.857   Mean   : 22.21   Mean   : 46.06   Mean   :  0.3855  \n",
       " 3rd Qu.:  0.000   3rd Qu.: 59.00   3rd Qu.:120.00   3rd Qu.:  0.0000  \n",
       " Max.   :608.000   Max.   :153.00   Max.   :314.00   Max.   :212.0000  \n",
       "                                                                       \n",
       "   h1008_aq20         h1008_aq21        h1008_5aq3       h1008_7aq1    \n",
       " Min.   :  0.0000   Min.   :  0.000   Min.   :  0.00   Min.   :  0.00  \n",
       " 1st Qu.:  0.0000   1st Qu.:  0.000   1st Qu.:  0.00   1st Qu.:  0.00  \n",
       " Median :  0.0000   Median :  0.000   Median :  0.00   Median :  0.00  \n",
       " Mean   :  0.1325   Mean   :  9.326   Mean   : 47.45   Mean   : 47.45  \n",
       " 3rd Qu.:  0.0000   3rd Qu.:  0.000   3rd Qu.:  0.00   3rd Qu.:  0.00  \n",
       " Max.   :180.0000   Max.   :675.000   Max.   :950.00   Max.   :950.00  \n",
       "                                                                       \n",
       "   h1008_aq22        h1008_7aq2        h1008_aq23        h1008_aq24      \n",
       " Min.   :   0.00   Min.   :   0.00   Min.   :   0.00   Min.   :   0.000  \n",
       " 1st Qu.:   0.00   1st Qu.:   0.00   1st Qu.:   0.00   1st Qu.:   0.000  \n",
       " Median :   0.00   Median :   0.00   Median :   0.00   Median :   0.000  \n",
       " Mean   :  20.11   Mean   :  20.02   Mean   :   6.03   Mean   :   8.743  \n",
       " 3rd Qu.:   0.00   3rd Qu.:   0.00   3rd Qu.:   0.00   3rd Qu.:   0.000  \n",
       " Max.   :1083.00   Max.   :1083.00   Max.   :2031.00   Max.   :1495.000  \n",
       "                                                                         \n",
       "  h1008_4aq116       h1008_4aq117        h1008_5aq1       h1008_7aq4     \n",
       " Min.   :  0.0000   Min.   :   0.000   Min.   :  0.00   Min.   :  0.000  \n",
       " 1st Qu.:  0.0000   1st Qu.:   0.000   1st Qu.:  0.00   1st Qu.:  0.000  \n",
       " Median :  0.0000   Median :   0.000   Median :  0.00   Median :  0.000  \n",
       " Mean   :  0.1831   Mean   :   9.162   Mean   :  2.54   Mean   :  4.485  \n",
       " 3rd Qu.:  0.0000   3rd Qu.:   0.000   3rd Qu.:  0.00   3rd Qu.:  0.000  \n",
       " Max.   :660.0000   Max.   :2873.000   Max.   :200.00   Max.   :432.000  \n",
       "                                                                         \n",
       "   h1008_7aq5       h1008_7aq6        h1008_7aq7       h1008_7aq8     \n",
       " Min.   :  0.00   Min.   :  0.000   Min.   : 0.000   Min.   :  0.000  \n",
       " 1st Qu.:  0.00   1st Qu.:  0.000   1st Qu.: 0.000   1st Qu.:  0.000  \n",
       " Median :  0.00   Median :  0.000   Median : 0.000   Median :  0.000  \n",
       " Mean   :  4.32   Mean   :  2.783   Mean   : 2.636   Mean   :  4.047  \n",
       " 3rd Qu.:  0.00   3rd Qu.:  0.000   3rd Qu.: 0.000   3rd Qu.:  0.000  \n",
       " Max.   :432.00   Max.   :110.000   Max.   :82.000   Max.   :146.000  \n",
       "                                                                      \n",
       "   h1008_7aq9        h1008_aq25       h1008_7aq10       h1008_aq26       \n",
       " Min.   :  0.000   Min.   :  0.000   Min.   :  0.00   Min.   :     0.00  \n",
       " 1st Qu.:  0.000   1st Qu.:  0.000   1st Qu.:  0.00   1st Qu.:     0.00  \n",
       " Median :  0.000   Median :  0.000   Median :  0.00   Median :     0.00  \n",
       " Mean   :  4.025   Mean   :  7.035   Mean   :  3.56   Mean   :    84.53  \n",
       " 3rd Qu.:  0.000   3rd Qu.:  0.000   3rd Qu.:  0.00   3rd Qu.:     0.00  \n",
       " Max.   :146.000   Max.   :546.000   Max.   :440.00   Max.   :162800.00  \n",
       "                                                                         \n",
       "   h1008_aq27         h1008_aq28         h1008_aq29        h1008_3aq5      \n",
       " Min.   :    0.00   Min.   :   0.000   Min.   :   0.00   Min.   :    0.00  \n",
       " 1st Qu.:    0.00   1st Qu.:   0.000   1st Qu.:   0.00   1st Qu.:    0.00  \n",
       " Median :    0.00   Median :   0.000   Median :   0.00   Median :    0.00  \n",
       " Mean   :   51.19   Mean   :   5.967   Mean   :  36.01   Mean   :   65.88  \n",
       " 3rd Qu.:    0.00   3rd Qu.:   0.000   3rd Qu.:   0.00   3rd Qu.:    0.00  \n",
       " Max.   :12000.00   Max.   :9000.000   Max.   :7000.00   Max.   :20000.00  \n",
       "                                                                           \n",
       "  h1008_4aq118         h1008_aq30         h1008_6aq3        h1008_3aq6     \n",
       " Min.   :     0.00   Min.   :   0.000   Min.   :-600.00   Min.   :   0.00  \n",
       " 1st Qu.:     0.00   1st Qu.:   3.000   1st Qu.:   0.00   1st Qu.:   0.00  \n",
       " Median :     0.00   Median :   4.000   Median :   0.00   Median :   0.00  \n",
       " Mean   :    86.88   Mean   :   5.995   Mean   :  12.41   Mean   :  50.13  \n",
       " 3rd Qu.:     0.00   3rd Qu.:   4.000   3rd Qu.:   0.00   3rd Qu.:  20.00  \n",
       " Max.   :200000.00   Max.   :5054.000   Max.   :3028.00   Max.   :2520.00  \n",
       "                                                                           \n",
       "   h1008_3aq7      nh1008_3aq1        h1008_aq32        h1008_aq33      \n",
       " Min.   :   0.0   Min.   :   0.00   Min.   :   0.00   Min.   :   0.000  \n",
       " 1st Qu.:   0.0   1st Qu.:   0.00   1st Qu.:   0.00   1st Qu.:   0.000  \n",
       " Median :   0.0   Median :   0.00   Median :   0.00   Median :   0.000  \n",
       " Mean   : 160.3   Mean   :  47.91   Mean   :   4.65   Mean   :   3.199  \n",
       " 3rd Qu.: 150.0   3rd Qu.:   0.00   3rd Qu.:   0.00   3rd Qu.:   0.000  \n",
       " Max.   :8448.0   Max.   :1440.00   Max.   :3800.00   Max.   :1600.000  \n",
       "                  NA's   :16523     NA's   :141       NA's   :141       \n",
       "   h1008_aq34        h1008_3aq8        h1008_195        h1008_7aq11     \n",
       " Min.   :   0.00   Min.   : 0.0000   Min.   :   0.00   Min.   :  0.000  \n",
       " 1st Qu.:   3.00   1st Qu.: 0.0000   1st Qu.:   0.00   1st Qu.:  0.000  \n",
       " Median :  13.00   Median : 0.0000   Median :   0.00   Median :  0.000  \n",
       " Mean   :  89.72   Mean   : 0.9564   Mean   :  43.08   Mean   :  1.833  \n",
       " 3rd Qu.:  63.00   3rd Qu.: 0.0000   3rd Qu.:   0.00   3rd Qu.:  0.000  \n",
       " Max.   :9723.00   Max.   :12.0000   Max.   :2157.00   Max.   :306.000  \n",
       "                                                                        \n",
       "   h1009_aq1         h1009_aq2         h1009_aq3         h1009_aq4    \n",
       " Min.   :      0   Min.   :      0   Min.   :   0.00   Min.   :    0  \n",
       " 1st Qu.:      0   1st Qu.:      0   1st Qu.:   0.00   1st Qu.:    0  \n",
       " Median :      0   Median :      0   Median :   0.00   Median :    0  \n",
       " Mean   :  13249   Mean   :   1888   Mean   :  36.22   Mean   : 1268  \n",
       " 3rd Qu.:   2300   3rd Qu.:      0   3rd Qu.:   0.00   3rd Qu.:    0  \n",
       " Max.   :9999999   Max.   :9999999   Max.   :8000.00   Max.   :82000  \n",
       "                                                                      \n",
       "   h1009_aq5         h1009_aq6         h1009_aq7         h1009_aq8      \n",
       " Min.   :   0.00   Min.   :      0   Min.   :   0.00   Min.   :      0  \n",
       " 1st Qu.:   0.00   1st Qu.:      0   1st Qu.:   0.00   1st Qu.:      0  \n",
       " Median :   0.00   Median :      0   Median :   0.00   Median :      0  \n",
       " Mean   :  33.88   Mean   :   2513   Mean   :  53.45   Mean   :   4852  \n",
       " 3rd Qu.:   0.00   3rd Qu.:      0   3rd Qu.:   0.00   3rd Qu.:      0  \n",
       " Max.   :6000.00   Max.   :9999999   Max.   :2880.00   Max.   :9999999  \n",
       "                                                                        \n",
       "   h1010_aq1         h1010_aq2        h1010_aq3         h1010_aq4      \n",
       " Min.   :      0   Min.   :     0   Min.   :      0   Min.   :    0.0  \n",
       " 1st Qu.:      0   1st Qu.:     0   1st Qu.:      0   1st Qu.:    0.0  \n",
       " Median :      0   Median :     0   Median :      0   Median :    0.0  \n",
       " Mean   :   3051   Mean   :  1455   Mean   :   5359   Mean   :  187.5  \n",
       " 3rd Qu.:      0   3rd Qu.:     0   3rd Qu.:      0   3rd Qu.:    0.0  \n",
       " Max.   :9999999   Max.   :300000   Max.   :9999999   Max.   :34300.0  \n",
       "                                                                       \n",
       "   h1010_aq5         h1010_aq6         h1010_aq7       h1010_aq8       \n",
       " Min.   :      0   Min.   :      0   Min.   :    0   Min.   :     0.0  \n",
       " 1st Qu.:      0   1st Qu.:    150   1st Qu.:    0   1st Qu.:     0.0  \n",
       " Median :      0   Median :    500   Median :   48   Median :     0.0  \n",
       " Mean   :   3738   Mean   :  11278   Mean   : 1568   Mean   :   299.9  \n",
       " 3rd Qu.:      0   3rd Qu.:   2000   3rd Qu.: 1859   3rd Qu.:     0.0  \n",
       " Max.   :9999999   Max.   :9999999   Max.   :63600   Max.   :120000.0  \n",
       "                                                                       \n",
       "   h1010_aq9          h1010_aq10        h1010_aq11         h1010_aq12      \n",
       " Min.   :   0.000   Min.   :    0.0   Min.   :   0.000   Min.   :   0.000  \n",
       " 1st Qu.:   0.000   1st Qu.:    0.0   1st Qu.:   0.000   1st Qu.:   0.000  \n",
       " Median :   0.000   Median :    0.0   Median :   0.000   Median :   0.000  \n",
       " Mean   :   5.296   Mean   :  171.1   Mean   :   0.724   Mean   :   5.417  \n",
       " 3rd Qu.:   0.000   3rd Qu.:    0.0   3rd Qu.:   0.000   3rd Qu.:   0.000  \n",
       " Max.   :2400.000   Max.   :62300.0   Max.   :1500.000   Max.   :1000.000  \n",
       "                                                                           \n",
       "   h1010_aq13     h1010_aq14        h1010_aq15        h1010_aq16      \n",
       " Min.   :   0   Min.   :   0.00   Min.   :   0.00   Min.   :    0.00  \n",
       " 1st Qu.:   0   1st Qu.:   0.00   1st Qu.:   0.00   1st Qu.:    0.00  \n",
       " Median :   0   Median :   0.00   Median :   0.00   Median :    0.00  \n",
       " Mean   :  14   Mean   :  36.63   Mean   :  21.68   Mean   :   76.88  \n",
       " 3rd Qu.:   0   3rd Qu.:   0.00   3rd Qu.:   0.00   3rd Qu.:    0.00  \n",
       " Max.   :8000   Max.   :8800.00   Max.   :5710.00   Max.   :53320.00  \n",
       "                                                                      \n",
       "   h1010_aq17          h1010_aq18          h1010_aq19          h1010_aq20      \n",
       " Min.   :    0.000   Min.   :  0.00000   Min.   :   0.0000   Min.   :    0.00  \n",
       " 1st Qu.:    0.000   1st Qu.:  0.00000   1st Qu.:   0.0000   1st Qu.:    0.00  \n",
       " Median :    0.000   Median :  0.00000   Median :   0.0000   Median :    0.00  \n",
       " Mean   :    3.601   Mean   :  0.04825   Mean   :   0.8776   Mean   :   37.03  \n",
       " 3rd Qu.:    0.000   3rd Qu.:  0.00000   3rd Qu.:   0.0000   3rd Qu.:    0.00  \n",
       " Max.   :30000.000   Max.   :126.00000   Max.   :1000.0000   Max.   :30000.00  \n",
       "                                                                               \n",
       "    h1010_26         h1010_27         h1010_aq23         h1010_aq24     \n",
       " Min.   :0.0000   Min.   :    0.0   Min.   :   0.000   Min.   :    0.0  \n",
       " 1st Qu.:0.0000   1st Qu.:    0.0   1st Qu.:   0.000   1st Qu.:    0.0  \n",
       " Median :1.0000   Median :  150.0   Median :   0.000   Median :    0.0  \n",
       " Mean   :0.6903   Mean   :  604.6   Mean   :   4.845   Mean   :  236.8  \n",
       " 3rd Qu.:1.0000   3rd Qu.:  900.0   3rd Qu.:   0.000   3rd Qu.:    0.0  \n",
       " Max.   :4.0000   Max.   :21000.0   Max.   :8000.000   Max.   :29000.0  \n",
       "                                                                        \n",
       "   h1010_aq25        h1010_aq26           h1011_2         h1011_3     \n",
       " Min.   :   0.00   Min.   :    0.000   Min.   :1.000   Min.   :1.000  \n",
       " 1st Qu.:   0.00   1st Qu.:    0.000   1st Qu.:2.000   1st Qu.:2.000  \n",
       " Median :   0.00   Median :    0.000   Median :3.000   Median :2.000  \n",
       " Mean   :  68.28   Mean   :    6.135   Mean   :2.678   Mean   :1.968  \n",
       " 3rd Qu.:   0.00   3rd Qu.:    0.000   3rd Qu.:3.000   3rd Qu.:2.000  \n",
       " Max.   :7000.00   Max.   :12000.000   Max.   :3.000   Max.   :2.000  \n",
       "                                                                      \n",
       "    h1011_4         h1011_5         h1011_6         h1011_7     \n",
       " Min.   :1.000   Min.   :1.000   Min.   :1.000   Min.   :1.000  \n",
       " 1st Qu.:2.000   1st Qu.:2.000   1st Qu.:2.000   1st Qu.:2.000  \n",
       " Median :2.000   Median :3.000   Median :2.000   Median :2.000  \n",
       " Mean   :1.997   Mean   :2.591   Mean   :1.988   Mean   :1.989  \n",
       " 3rd Qu.:2.000   3rd Qu.:3.000   3rd Qu.:2.000   3rd Qu.:2.000  \n",
       " Max.   :2.000   Max.   :3.000   Max.   :2.000   Max.   :2.000  \n",
       "                                                                \n",
       "    h1011_8        h1011_3aq1      h1011_3aq2      h1011_3aq3   \n",
       " Min.   :1.000   Min.   :1.000   Min.   :1.000   Min.   :1.000  \n",
       " 1st Qu.:2.000   1st Qu.:2.000   1st Qu.:3.000   1st Qu.:3.000  \n",
       " Median :2.000   Median :2.000   Median :3.000   Median :3.000  \n",
       " Mean   :1.965   Mean   :2.044   Mean   :2.973   Mean   :2.927  \n",
       " 3rd Qu.:2.000   3rd Qu.:2.000   3rd Qu.:3.000   3rd Qu.:3.000  \n",
       " Max.   :2.000   Max.   :3.000   Max.   :3.000   Max.   :3.000  \n",
       "                                                                \n",
       "   h1011_3aq4      h1011_3aq5      h1011_3aq6      h1011_3aq7   \n",
       " Min.   :1.000   Min.   :1.000   Min.   :1.000   Min.   :1.000  \n",
       " 1st Qu.:2.000   1st Qu.:1.000   1st Qu.:2.000   1st Qu.:2.000  \n",
       " Median :2.000   Median :1.000   Median :2.000   Median :2.000  \n",
       " Mean   :1.998   Mean   :1.358   Mean   :1.993   Mean   :1.998  \n",
       " 3rd Qu.:2.000   3rd Qu.:2.000   3rd Qu.:2.000   3rd Qu.:2.000  \n",
       " Max.   :3.000   Max.   :3.000   Max.   :3.000   Max.   :3.000  \n",
       "                 NA's   :16597                                  \n",
       "    h1012_1         nh1012_1        h1012_2         h1012_3     \n",
       " Min.   :1.000   Min.   :1.000   Min.   :1.000   Min.   :1.000  \n",
       " 1st Qu.:2.000   1st Qu.:2.000   1st Qu.:1.000   1st Qu.:1.000  \n",
       " Median :2.000   Median :2.000   Median :1.000   Median :2.000  \n",
       " Mean   :1.993   Mean   :1.965   Mean   :1.304   Mean   :1.616  \n",
       " 3rd Qu.:2.000   3rd Qu.:2.000   3rd Qu.:1.000   3rd Qu.:2.000  \n",
       " Max.   :2.000   Max.   :2.000   Max.   :6.000   Max.   :2.000  \n",
       " NA's   :141     NA's   :16523   NA's   :16539   NA's   :16539  \n",
       "    h1012_4         h1012_5         h1012_6         h1012_7     \n",
       " Min.   :1.000   Min.   :1.000   Min.   : 1.00   Min.   :1.000  \n",
       " 1st Qu.:3.000   1st Qu.:2.000   1st Qu.: 2.00   1st Qu.:1.000  \n",
       " Median :5.000   Median :4.000   Median : 4.00   Median :1.000  \n",
       " Mean   :4.805   Mean   :3.623   Mean   :21.07   Mean   :1.087  \n",
       " 3rd Qu.:5.000   3rd Qu.:4.000   3rd Qu.: 7.00   3rd Qu.:1.000  \n",
       " Max.   :9.000   Max.   :9.000   Max.   :88.00   Max.   :4.000  \n",
       " NA's   :16587   NA's   :16587   NA's   :16587   NA's   :141    \n",
       "    nh1012_7        nh1012_8        h1012_9          h1012_10    \n",
       " Min.   :1.000   Min.   :2014    Min.   : 1.000   Min.   : 2.00  \n",
       " 1st Qu.:1.000   1st Qu.:2014    1st Qu.: 1.000   1st Qu.:12.00  \n",
       " Median :1.000   Median :2014    Median : 1.000   Median :12.00  \n",
       " Mean   :1.064   Mean   :2014    Mean   : 1.092   Mean   :11.85  \n",
       " 3rd Qu.:1.000   3rd Qu.:2014    3rd Qu.: 1.000   3rd Qu.:12.00  \n",
       " Max.   :2.000   Max.   :2014    Max.   :11.000   Max.   :12.00  \n",
       " NA's   :16523   NA's   :16655   NA's   :15308    NA's   :15308  \n",
       "    h1012_11        h1012_12        h1012_13        h1012_14    \n",
       " Min.   :88      Min.   :88      Min.   :88      Min.   :88     \n",
       " 1st Qu.:88      1st Qu.:88      1st Qu.:88      1st Qu.:88     \n",
       " Median :88      Median :88      Median :88      Median :88     \n",
       " Mean   :88      Mean   :88      Mean   :88      Mean   :88     \n",
       " 3rd Qu.:88      3rd Qu.:88      3rd Qu.:88      3rd Qu.:88     \n",
       " Max.   :88      Max.   :88      Max.   :88      Max.   :88     \n",
       " NA's   :15308   NA's   :15308   NA's   :15308   NA's   :15308  \n",
       "    h1012_15       h1012_3aq1       h1012_16        h1012_17    \n",
       " Min.   :1.000   Min.   :1.000   Min.   :1.000   Min.   :1.000  \n",
       " 1st Qu.:2.000   1st Qu.:3.000   1st Qu.:5.000   1st Qu.:1.000  \n",
       " Median :2.000   Median :4.000   Median :5.000   Median :1.000  \n",
       " Mean   :3.246   Mean   :3.587   Mean   :5.185   Mean   :1.768  \n",
       " 3rd Qu.:4.000   3rd Qu.:4.000   3rd Qu.:5.000   3rd Qu.:3.000  \n",
       " Max.   :7.000   Max.   :5.000   Max.   :9.000   Max.   :4.000  \n",
       " NA's   :15308   NA's   :15308   NA's   :15343   NA's   :15343  \n",
       "    h1012_18         h1012_19      h1012_1_4aq1   h1012_1_5aq1  \n",
       " Min.   : 1.000   Min.   :1.000   Min.   :1.00   Min.   :1.000  \n",
       " 1st Qu.: 2.000   1st Qu.:1.000   1st Qu.:1.00   1st Qu.:2.000  \n",
       " Median : 5.000   Median :3.000   Median :2.00   Median :2.000  \n",
       " Mean   : 5.714   Mean   :2.657   Mean   :1.85   Mean   :1.963  \n",
       " 3rd Qu.: 9.000   3rd Qu.:3.500   3rd Qu.:2.00   3rd Qu.:2.000  \n",
       " Max.   :10.000   Max.   :5.000   Max.   :4.00   Max.   :2.000  \n",
       " NA's   :16629    NA's   :16629                                 \n",
       "  h1012_1_5aq2    h1012_1_5aq3    h1012_1_5aq4    h1012_1_5aq5  \n",
       " Min.   :1.000   Min.   :1.000   Min.   :1.000   Min.   :3.000  \n",
       " 1st Qu.:1.000   1st Qu.:2.000   1st Qu.:4.000   1st Qu.:4.000  \n",
       " Median :1.000   Median :2.000   Median :4.000   Median :4.000  \n",
       " Mean   :1.278   Mean   :2.068   Mean   :4.178   Mean   :3.989  \n",
       " 3rd Qu.:2.000   3rd Qu.:2.000   3rd Qu.:5.000   3rd Qu.:4.000  \n",
       " Max.   :2.000   Max.   :5.000   Max.   :5.000   Max.   :5.000  \n",
       " NA's   :16049   NA's   :16220   NA's   :16220   NA's   :16220  \n",
       "  h1012_1_4aq2    h1012_1_4aq3      h1013_2         h1013_6     \n",
       " Min.   :1.000   Min.   :1.000   Min.   :1.000   Min.   :1.000  \n",
       " 1st Qu.:1.000   1st Qu.:2.000   1st Qu.:1.000   1st Qu.:1.000  \n",
       " Median :1.000   Median :2.000   Median :2.000   Median :2.000  \n",
       " Mean   :1.121   Mean   :1.938   Mean   :1.618   Mean   :1.566  \n",
       " 3rd Qu.:1.000   3rd Qu.:2.000   3rd Qu.:2.000   3rd Qu.:2.000  \n",
       " Max.   :3.000   Max.   :2.000   Max.   :2.000   Max.   :2.000  \n",
       "                                                                \n",
       "    h1013_10        h1013_14        h1013_18        h1013_22    \n",
       " Min.   :1.000   Min.   :1.000   Min.   :1.000   Min.   :1.000  \n",
       " 1st Qu.:2.000   1st Qu.:2.000   1st Qu.:2.000   1st Qu.:2.000  \n",
       " Median :2.000   Median :2.000   Median :2.000   Median :2.000  \n",
       " Mean   :1.899   Mean   :1.972   Mean   :1.987   Mean   :1.996  \n",
       " 3rd Qu.:2.000   3rd Qu.:2.000   3rd Qu.:2.000   3rd Qu.:2.000  \n",
       " Max.   :2.000   Max.   :2.000   Max.   :2.000   Max.   :2.000  \n",
       "                                                                \n",
       "    h1013_26       h1013_8aq1      h1013_5aq1      h1013_8aq2      h1013_4aq1  \n",
       " Min.   :1.000   Min.   :1.000   Min.   :1.000   Min.   :1.000   Min.   :1.00  \n",
       " 1st Qu.:2.000   1st Qu.:2.000   1st Qu.:2.000   1st Qu.:2.000   1st Qu.:2.00  \n",
       " Median :2.000   Median :2.000   Median :2.000   Median :2.000   Median :2.00  \n",
       " Mean   :1.932   Mean   :1.993   Mean   :1.995   Mean   :1.997   Mean   :1.82  \n",
       " 3rd Qu.:2.000   3rd Qu.:2.000   3rd Qu.:2.000   3rd Qu.:2.000   3rd Qu.:2.00  \n",
       " Max.   :2.000   Max.   :2.000   Max.   :2.000   Max.   :2.000   Max.   :2.00  \n",
       "                                                                               \n",
       "   h1013_4aq2      h1013_4aq4      h1013_4aq6      h1013_4aq8   \n",
       " Min.   :1.00    Min.   :1.000   Min.   :1.000   Min.   :1.000  \n",
       " 1st Qu.:2.00    1st Qu.:2.000   1st Qu.:2.000   1st Qu.:2.000  \n",
       " Median :2.00    Median :2.000   Median :2.000   Median :2.000  \n",
       " Mean   :1.98    Mean   :1.969   Mean   :1.982   Mean   :1.992  \n",
       " 3rd Qu.:2.00    3rd Qu.:2.000   3rd Qu.:2.000   3rd Qu.:2.000  \n",
       " Max.   :2.00    Max.   :2.000   Max.   :2.000   Max.   :2.000  \n",
       " NA's   :13663   NA's   :13663   NA's   :13663   NA's   :13663  \n",
       "  h1013_4aq10      h1013_5aq4      h1013_5aq6      h1013_5aq8   \n",
       " Min.   :1.000   Min.   :1.000   Min.   :1.000   Min.   :1.000  \n",
       " 1st Qu.:2.000   1st Qu.:2.000   1st Qu.:2.000   1st Qu.:1.000  \n",
       " Median :2.000   Median :2.000   Median :2.000   Median :1.000  \n",
       " Mean   :1.975   Mean   :1.875   Mean   :1.976   Mean   :1.286  \n",
       " 3rd Qu.:2.000   3rd Qu.:2.000   3rd Qu.:2.000   3rd Qu.:2.000  \n",
       " Max.   :2.000   Max.   :2.000   Max.   :2.000   Max.   :2.000  \n",
       " NA's   :13663   NA's   :13663   NA's   :13663   NA's   :13663  \n",
       "   h1013_6aq1     h1013_4aq14   \n",
       " Min.   :1.000   Min.   :1.000  \n",
       " 1st Qu.:2.000   1st Qu.:2.000  \n",
       " Median :2.000   Median :2.000  \n",
       " Mean   :1.999   Mean   :1.805  \n",
       " 3rd Qu.:2.000   3rd Qu.:2.000  \n",
       " Max.   :2.000   Max.   :2.000  \n",
       " NA's   :13663   NA's   :13663  \n",
       "                                                                                                                                                                                                                                                          h1013_4aq15   \n",
       " .                                                                                                                                                                                                                                                              :16078  \n",
       " 문화누리카드                                                                                                                                                                                                                                                   :  491  \n",
       " 문화                                                                                                                                                                                                                                                           :   29  \n",
       " 스포츠바우처                                                                                                                                                                                                                                                   :   17  \n",
       " 문화누리카드, 스포츠바우처                                                                                                                                                                                                                                     :    7  \n",
       " 아동청소년심리지원서비스                                                                                                                                                                                                                                       :    7  \n",
       " (Other)                                                                                                                                                                                                                                                        :   35  \n",
       "  h1013_4aq16    h1013_4aq17     h1013_4aq18     h1013_4aq20     h1013_4aq22   \n",
       " Min.   :1.00   Min.   :  0.0   Min.   :1.000   Min.   :1.000   Min.   :1.000  \n",
       " 1st Qu.:2.00   1st Qu.: 54.0   1st Qu.:1.000   1st Qu.:2.000   1st Qu.:2.000  \n",
       " Median :2.00   Median :120.0   Median :1.000   Median :2.000   Median :2.000  \n",
       " Mean   :1.98   Mean   :104.2   Mean   :1.105   Mean   :1.832   Mean   :1.838  \n",
       " 3rd Qu.:2.00   3rd Qu.:139.0   3rd Qu.:1.000   3rd Qu.:2.000   3rd Qu.:2.000  \n",
       " Max.   :2.00   Max.   :807.0   Max.   :2.000   Max.   :2.000   Max.   :2.000  \n",
       "                NA's   :16330   NA's   :16330   NA's   :16330   NA's   :16330  \n",
       "  h1013_4aq24     h1013_4aq26     h1013_4aq28     h1013_4aq30   \n",
       " Min.   :1.000   Min.   :1.000   Min.   :1.000   Min.   :1.000  \n",
       " 1st Qu.:2.000   1st Qu.:2.000   1st Qu.:2.000   1st Qu.:2.000  \n",
       " Median :2.000   Median :2.000   Median :2.000   Median :2.000  \n",
       " Mean   :1.904   Mean   :1.991   Mean   :1.865   Mean   :1.979  \n",
       " 3rd Qu.:2.000   3rd Qu.:2.000   3rd Qu.:2.000   3rd Qu.:2.000  \n",
       " Max.   :2.000   Max.   :2.000   Max.   :2.000   Max.   :2.000  \n",
       " NA's   :16330   NA's   :16330   NA's   :16330   NA's   :16330  \n",
       "  h1013_4aq32       h1014_4         h1014_8         h1014_12        h1014_16   \n",
       " Min.   :1.000   Min.   :1.000   Min.   :1.000   Min.   :1.000   Min.   :1.00  \n",
       " 1st Qu.:2.000   1st Qu.:1.000   1st Qu.:1.000   1st Qu.:2.000   1st Qu.:2.00  \n",
       " Median :2.000   Median :1.000   Median :1.000   Median :2.000   Median :2.00  \n",
       " Mean   :1.988   Mean   :1.232   Mean   :1.192   Mean   :1.797   Mean   :1.86  \n",
       " 3rd Qu.:2.000   3rd Qu.:1.000   3rd Qu.:1.000   3rd Qu.:2.000   3rd Qu.:2.00  \n",
       " Max.   :2.000   Max.   :2.000   Max.   :2.000   Max.   :2.000   Max.   :2.00  \n",
       " NA's   :16330   NA's   :9713    NA's   :9713    NA's   :9713    NA's   :9713  \n",
       "    h1014_20        h1014_24        h1014_28       h1014_32       h1014_36    \n",
       " Min.   :1.000   Min.   :1.000   Min.   :1.00   Min.   :1.00   Min.   :1.000  \n",
       " 1st Qu.:2.000   1st Qu.:2.000   1st Qu.:2.00   1st Qu.:2.00   1st Qu.:2.000  \n",
       " Median :2.000   Median :2.000   Median :2.00   Median :2.00   Median :2.000  \n",
       " Mean   :1.946   Mean   :1.981   Mean   :1.92   Mean   :1.99   Mean   :1.995  \n",
       " 3rd Qu.:2.000   3rd Qu.:2.000   3rd Qu.:2.00   3rd Qu.:2.00   3rd Qu.:2.000  \n",
       " Max.   :2.000   Max.   :2.000   Max.   :2.00   Max.   :2.00   Max.   :2.000  \n",
       " NA's   :9713    NA's   :9713    NA's   :9713   NA's   :9713   NA's   :9713   \n",
       "   h1014_3aq1      h1014_4aq1       h1015_4        h1015_8         h1015_12    \n",
       " Min.   :1.000   Min.   :1.000   Min.   :1.00   Min.   :1.000   Min.   :1.000  \n",
       " 1st Qu.:2.000   1st Qu.:2.000   1st Qu.:2.00   1st Qu.:1.000   1st Qu.:2.000  \n",
       " Median :2.000   Median :2.000   Median :2.00   Median :2.000   Median :2.000  \n",
       " Mean   :1.943   Mean   :1.937   Mean   :1.92   Mean   :1.616   Mean   :1.981  \n",
       " 3rd Qu.:2.000   3rd Qu.:2.000   3rd Qu.:2.00   3rd Qu.:2.000   3rd Qu.:2.000  \n",
       " Max.   :2.000   Max.   :2.000   Max.   :2.00   Max.   :2.000   Max.   :2.000  \n",
       " NA's   :9713    NA's   :9713    NA's   :9954   NA's   :9952    NA's   :9954   \n",
       "    h1015_20        h1015_25        h1015_29       h1015_33        h1015_37    \n",
       " Min.   :1.000   Min.   :1.000   Min.   :1.00   Min.   :1.000   Min.   :1.000  \n",
       " 1st Qu.:2.000   1st Qu.:1.000   1st Qu.:1.00   1st Qu.:2.000   1st Qu.:2.000  \n",
       " Median :2.000   Median :1.000   Median :2.00   Median :2.000   Median :2.000  \n",
       " Mean   :1.963   Mean   :1.189   Mean   :1.58   Mean   :1.973   Mean   :1.945  \n",
       " 3rd Qu.:2.000   3rd Qu.:1.000   3rd Qu.:2.00   3rd Qu.:2.000   3rd Qu.:2.000  \n",
       " Max.   :2.000   Max.   :2.000   Max.   :2.00   Max.   :2.000   Max.   :2.000  \n",
       " NA's   :9954    NA's   :9954    NA's   :9954   NA's   :9954    NA's   :9954   \n",
       "   h1015_4aq1      h1015_7aq1      h1015_aq1        h1015_40    \n",
       " Min.   :1.000   Min.   :1.000   Min.   :1.000   Min.   :2.000  \n",
       " 1st Qu.:2.000   1st Qu.:2.000   1st Qu.:2.000   1st Qu.:3.000  \n",
       " Median :2.000   Median :2.000   Median :2.000   Median :4.000  \n",
       " Mean   :1.997   Mean   :1.991   Mean   :1.921   Mean   :4.154  \n",
       " 3rd Qu.:2.000   3rd Qu.:2.000   3rd Qu.:2.000   3rd Qu.:5.000  \n",
       " Max.   :2.000   Max.   :2.000   Max.   :2.000   Max.   :7.000  \n",
       " NA's   :9954    NA's   :9954    NA's   :9971    NA's   :16118  \n",
       "    h1015_41        h1015_42        h1015_43        h1015_44    \n",
       " Min.   :1.000   Min.   :1.000   Min.   :3.000   Min.   :1.000  \n",
       " 1st Qu.:1.000   1st Qu.:2.000   1st Qu.:4.000   1st Qu.:1.000  \n",
       " Median :1.000   Median :2.000   Median :5.000   Median :1.000  \n",
       " Mean   :1.099   Mean   :1.976   Mean   :5.258   Mean   :1.394  \n",
       " 3rd Qu.:1.000   3rd Qu.:2.000   3rd Qu.:6.000   3rd Qu.:2.000  \n",
       " Max.   :2.000   Max.   :2.000   Max.   :7.000   Max.   :2.000  \n",
       " NA's   :16118   NA's   :16118   NA's   :16598   NA's   :16598  \n",
       "    h1015_45        h1015_46        h1015_47        h1015_48    \n",
       " Min.   :2       Min.   :6.000   Min.   :1.000   Min.   :2      \n",
       " 1st Qu.:2       1st Qu.:6.000   1st Qu.:1.000   1st Qu.:2      \n",
       " Median :2       Median :7.000   Median :2.000   Median :2      \n",
       " Mean   :2       Mean   :6.538   Mean   :1.538   Mean   :2      \n",
       " 3rd Qu.:2       3rd Qu.:7.000   3rd Qu.:2.000   3rd Qu.:2      \n",
       " Max.   :2       Max.   :7.000   Max.   :2.000   Max.   :2      \n",
       " NA's   :16598   NA's   :16651   NA's   :16651   NA's   :16651  \n",
       "    h1015_49        h1015_50        h1015_51        h1015_52    \n",
       " Min.   : NA     Min.   : NA     Min.   : NA     Min.   : NA    \n",
       " 1st Qu.: NA     1st Qu.: NA     1st Qu.: NA     1st Qu.: NA    \n",
       " Median : NA     Median : NA     Median : NA     Median : NA    \n",
       " Mean   :NaN     Mean   :NaN     Mean   :NaN     Mean   :NaN    \n",
       " 3rd Qu.: NA     3rd Qu.: NA     3rd Qu.: NA     3rd Qu.: NA    \n",
       " Max.   : NA     Max.   : NA     Max.   : NA     Max.   : NA    \n",
       " NA's   :16664   NA's   :16664   NA's   :16664   NA's   :16664  \n",
       "    h1015_53        h1015_54        h1015_55        h1015_56    \n",
       " Min.   : NA     Min.   : NA     Min.   : NA     Min.   : NA    \n",
       " 1st Qu.: NA     1st Qu.: NA     1st Qu.: NA     1st Qu.: NA    \n",
       " Median : NA     Median : NA     Median : NA     Median : NA    \n",
       " Mean   :NaN     Mean   :NaN     Mean   :NaN     Mean   :NaN    \n",
       " 3rd Qu.: NA     3rd Qu.: NA     3rd Qu.: NA     3rd Qu.: NA    \n",
       " Max.   : NA     Max.   : NA     Max.   : NA     Max.   : NA    \n",
       " NA's   :16664   NA's   :16664   NA's   :16664   NA's   :16664  \n",
       "    h1015_57        h1015_60       h1015_aq2        h1015_61     \n",
       " Min.   : NA     Min.   :2.000   Min.   :1.000   Min.   : 1.000  \n",
       " 1st Qu.: NA     1st Qu.:3.000   1st Qu.:1.000   1st Qu.: 8.000  \n",
       " Median : NA     Median :3.000   Median :1.000   Median : 8.000  \n",
       " Mean   :NaN     Mean   :3.256   Mean   :1.164   Mean   : 7.778  \n",
       " 3rd Qu.: NA     3rd Qu.:3.000   3rd Qu.:1.000   3rd Qu.: 8.000  \n",
       " Max.   : NA     Max.   :7.000   Max.   :2.000   Max.   :18.000  \n",
       " NA's   :16664   NA's   :9954    NA's   :9954    NA's   :11054   \n",
       "    h1015_62        h1015_63        h1015_66        h1015_67      \n",
       " Min.   : 1.00   Min.   : 7.0    Min.   :  0.0   Min.   :  0.000  \n",
       " 1st Qu.:10.00   1st Qu.:10.0    1st Qu.:  5.0   1st Qu.:  0.000  \n",
       " Median :10.00   Median :11.0    Median : 20.0   Median :  0.000  \n",
       " Mean   :10.22   Mean   :10.9    Mean   : 25.4   Mean   :  3.034  \n",
       " 3rd Qu.:11.00   3rd Qu.:11.0    3rd Qu.: 40.0   3rd Qu.:  0.000  \n",
       " Max.   :18.00   Max.   :18.0    Max.   :224.0   Max.   :120.000  \n",
       " NA's   :14025   NA's   :15967   NA's   :11054   NA's   :11054    \n",
       "    h1015_68       h1015_aq3        h1015_69         h1015_70    \n",
       " Min.   :3.000   Min.   :1.000   Min.   : 1.000   Min.   : 3.00  \n",
       " 1st Qu.:4.000   1st Qu.:1.000   1st Qu.: 6.000   1st Qu.:10.00  \n",
       " Median :4.000   Median :1.000   Median : 8.000   Median :10.00  \n",
       " Mean   :4.156   Mean   :1.144   Mean   : 7.414   Mean   :10.16  \n",
       " 3rd Qu.:4.000   3rd Qu.:1.000   3rd Qu.: 8.000   3rd Qu.:11.00  \n",
       " Max.   :8.000   Max.   :2.000   Max.   :18.000   Max.   :18.00  \n",
       " NA's   :12425   NA's   :12425   NA's   :13035    NA's   :15067  \n",
       "    h1015_71        h1015_74         h1015_75          h1015_76    \n",
       " Min.   : 3      Min.   :  0.00   Min.   :  0.000   Min.   :4.000  \n",
       " 1st Qu.:10      1st Qu.:  2.00   1st Qu.:  0.000   1st Qu.:5.000  \n",
       " Median :11      Median : 13.00   Median :  0.000   Median :5.000  \n",
       " Mean   :11      Mean   : 18.35   Mean   :  3.894   Mean   :5.148  \n",
       " 3rd Qu.:11      3rd Qu.: 30.00   3rd Qu.:  3.000   3rd Qu.:5.000  \n",
       " Max.   :18      Max.   :113.00   Max.   :125.000   Max.   :7.000  \n",
       " NA's   :16240   NA's   :13035    NA's   :13035     NA's   :15743  \n",
       "   h1015_aq4        h1015_77         h1015_78        h1015_79    \n",
       " Min.   :1.000   Min.   : 1.000   Min.   : 8.00   Min.   : 3.00  \n",
       " 1st Qu.:1.000   1st Qu.: 3.000   1st Qu.:10.00   1st Qu.:10.00  \n",
       " Median :1.000   Median : 8.000   Median :10.00   Median :11.00  \n",
       " Mean   :1.169   Mean   : 6.805   Mean   :10.28   Mean   :10.98  \n",
       " 3rd Qu.:1.000   3rd Qu.: 9.000   3rd Qu.:11.00   3rd Qu.:11.00  \n",
       " Max.   :2.000   Max.   :18.000   Max.   :18.00   Max.   :18.00  \n",
       " NA's   :15743   NA's   :15899    NA's   :16405   NA's   :16619  \n",
       "    h1015_82         h1015_83          h1015_84       h1015_aq5    \n",
       " Min.   : 0.000   Min.   :  0.000   Min.   :5.000   Min.   :1.000  \n",
       " 1st Qu.: 0.000   1st Qu.:  0.000   1st Qu.:6.000   1st Qu.:1.000  \n",
       " Median : 3.000   Median :  0.000   Median :6.000   Median :1.000  \n",
       " Mean   : 9.078   Mean   :  3.591   Mean   :6.373   Mean   :1.164  \n",
       " 3rd Qu.:15.000   3rd Qu.:  4.000   3rd Qu.:7.000   3rd Qu.:1.000  \n",
       " Max.   :60.000   Max.   :100.000   Max.   :8.000   Max.   :2.000  \n",
       " NA's   :15899    NA's   :15899     NA's   :16554   NA's   :16554  \n",
       "    h1015_85         h1015_86        h1015_87        h1015_90     \n",
       " Min.   : 1.000   Min.   :10.00   Min.   : NA     Min.   : 0.000  \n",
       " 1st Qu.: 3.000   1st Qu.:10.00   1st Qu.: NA     1st Qu.: 0.000  \n",
       " Median : 4.500   Median :10.00   Median : NA     Median : 0.000  \n",
       " Mean   : 5.772   Mean   :10.86   Mean   :NaN     Mean   : 3.435  \n",
       " 3rd Qu.:10.000   3rd Qu.:12.00   3rd Qu.: NA     3rd Qu.: 5.000  \n",
       " Max.   :11.000   Max.   :12.00   Max.   : NA     Max.   :17.000  \n",
       " NA's   :16572    NA's   :16650   NA's   :16664   NA's   :16572   \n",
       "    h1015_91         h1015_92       h1015_aq6        h1015_93    \n",
       " Min.   : 0.000   Min.   :7       Min.   :2       Min.   : NA    \n",
       " 1st Qu.: 0.000   1st Qu.:7       1st Qu.:2       1st Qu.: NA    \n",
       " Median : 0.000   Median :7       Median :2       Median : NA    \n",
       " Mean   : 3.935   Mean   :7       Mean   :2       Mean   :NaN    \n",
       " 3rd Qu.: 2.000   3rd Qu.:7       3rd Qu.:2       3rd Qu.: NA    \n",
       " Max.   :26.000   Max.   :7       Max.   :2       Max.   : NA    \n",
       " NA's   :16572    NA's   :16657   NA's   :16657   NA's   :16664  \n",
       "    h1015_94        h1015_95        h1015_98        h1015_99    \n",
       " Min.   : NA     Min.   : NA     Min.   : NA     Min.   : NA    \n",
       " 1st Qu.: NA     1st Qu.: NA     1st Qu.: NA     1st Qu.: NA    \n",
       " Median : NA     Median : NA     Median : NA     Median : NA    \n",
       " Mean   :NaN     Mean   :NaN     Mean   :NaN     Mean   :NaN    \n",
       " 3rd Qu.: NA     3rd Qu.: NA     3rd Qu.: NA     3rd Qu.: NA    \n",
       " Max.   : NA     Max.   : NA     Max.   : NA     Max.   : NA    \n",
       " NA's   :16664   NA's   :16664   NA's   :16664   NA's   :16664  \n",
       "   h1015_100       h1015_aq7       h1015_101       h1015_102    \n",
       " Min.   : NA     Min.   : NA     Min.   : NA     Min.   : NA    \n",
       " 1st Qu.: NA     1st Qu.: NA     1st Qu.: NA     1st Qu.: NA    \n",
       " Median : NA     Median : NA     Median : NA     Median : NA    \n",
       " Mean   :NaN     Mean   :NaN     Mean   :NaN     Mean   :NaN    \n",
       " 3rd Qu.: NA     3rd Qu.: NA     3rd Qu.: NA     3rd Qu.: NA    \n",
       " Max.   : NA     Max.   : NA     Max.   : NA     Max.   : NA    \n",
       " NA's   :16664   NA's   :16664   NA's   :16664   NA's   :16664  \n",
       "   h1015_103       h1015_106       h1015_107       h1016_6aq1   \n",
       " Min.   : NA     Min.   : NA     Min.   : NA     Min.   :1.000  \n",
       " 1st Qu.: NA     1st Qu.: NA     1st Qu.: NA     1st Qu.:2.000  \n",
       " Median : NA     Median : NA     Median : NA     Median :2.000  \n",
       " Mean   :NaN     Mean   :NaN     Mean   :NaN     Mean   :1.861  \n",
       " 3rd Qu.: NA     3rd Qu.: NA     3rd Qu.: NA     3rd Qu.:2.000  \n",
       " Max.   : NA     Max.   : NA     Max.   : NA     Max.   :2.000  \n",
       " NA's   :16664   NA's   :16664   NA's   :16664   NA's   :13323  \n",
       "   h1016_6aq4       h1016_8         h1016_24       h1016_4aq1   \n",
       " Min.   :1.000   Min.   :1.000   Min.   :1.000   Min.   :1.000  \n",
       " 1st Qu.:2.000   1st Qu.:2.000   1st Qu.:2.000   1st Qu.:2.000  \n",
       " Median :2.000   Median :2.000   Median :2.000   Median :2.000  \n",
       " Mean   :1.824   Mean   :1.989   Mean   :1.936   Mean   :1.921  \n",
       " 3rd Qu.:2.000   3rd Qu.:2.000   3rd Qu.:2.000   3rd Qu.:2.000  \n",
       " Max.   :2.000   Max.   :2.000   Max.   :2.000   Max.   :2.000  \n",
       " NA's   :13323   NA's   :13323   NA's   :13323   NA's   :13323  \n",
       "   h1016_4aq4       h1016_32        h1016_36        h1016_40    \n",
       " Min.   :1.000   Min.   :1.000   Min.   :1.000   Min.   :1.000  \n",
       " 1st Qu.:2.000   1st Qu.:2.000   1st Qu.:2.000   1st Qu.:2.000  \n",
       " Median :2.000   Median :2.000   Median :2.000   Median :2.000  \n",
       " Mean   :1.935   Mean   :1.959   Mean   :1.994   Mean   :1.986  \n",
       " 3rd Qu.:2.000   3rd Qu.:2.000   3rd Qu.:2.000   3rd Qu.:2.000  \n",
       " Max.   :2.000   Max.   :2.000   Max.   :2.000   Max.   :2.000  \n",
       " NA's   :13323   NA's   :13323   NA's   :13323   NA's   :13323  \n",
       "   h1016_4aq7       h1016_56        h1016_60        h1016_64    \n",
       " Min.   :1.000   Min.   :1.000   Min.   :1.000   Min.   :1.000  \n",
       " 1st Qu.:2.000   1st Qu.:2.000   1st Qu.:2.000   1st Qu.:1.000  \n",
       " Median :2.000   Median :2.000   Median :2.000   Median :2.000  \n",
       " Mean   :1.985   Mean   :1.983   Mean   :1.978   Mean   :1.722  \n",
       " 3rd Qu.:2.000   3rd Qu.:2.000   3rd Qu.:2.000   3rd Qu.:2.000  \n",
       " Max.   :2.000   Max.   :2.000   Max.   :2.000   Max.   :2.000  \n",
       " NA's   :13323   NA's   :13323   NA's   :13323   NA's   :13323  \n",
       "    h1017_1          h1017_2          h1017_3         h1017_4     \n",
       " Min.   : 0.000   Min.   : 0.000   Min.   :0.000   Min.   :0.000  \n",
       " 1st Qu.: 0.000   1st Qu.: 0.000   1st Qu.:1.000   1st Qu.:1.000  \n",
       " Median : 1.000   Median : 0.000   Median :2.000   Median :1.000  \n",
       " Mean   : 1.973   Mean   : 1.589   Mean   :1.689   Mean   :1.316  \n",
       " 3rd Qu.: 4.000   3rd Qu.: 3.000   3rd Qu.:2.000   3rd Qu.:2.000  \n",
       " Max.   :11.000   Max.   :11.000   Max.   :5.000   Max.   :5.000  \n",
       "                  NA's   :7061                                    \n",
       "    h1017_5         h1017_6        h1017_7         p10_fnum         p10_tq     \n",
       " Min.   :0.000   Min.   :0.00   Min.   :0.000   Min.   :1.000   Min.   :3.000  \n",
       " 1st Qu.:3.000   1st Qu.:1.00   1st Qu.:1.000   1st Qu.:1.000   1st Qu.:3.000  \n",
       " Median :4.000   Median :1.00   Median :1.000   Median :1.000   Median :3.000  \n",
       " Mean   :3.662   Mean   :1.44   Mean   :1.157   Mean   :1.706   Mean   :3.024  \n",
       " 3rd Qu.:4.000   3rd Qu.:2.00   3rd Qu.:1.000   3rd Qu.:2.000   3rd Qu.:3.000  \n",
       " Max.   :5.000   Max.   :5.00   Max.   :9.000   Max.   :8.000   Max.   :4.000  \n",
       "                                                NA's   :3017    NA's   :3017   \n",
       "     p10_cp        p1001_1         p1001_2        p1001_aq1        p1001_3     \n",
       " Min.   :1.00   Min.   :1.000   Min.   :1.000   Min.   :1.000   Min.   :1.000  \n",
       " 1st Qu.:1.00   1st Qu.:2.000   1st Qu.:1.000   1st Qu.:1.250   1st Qu.:1.000  \n",
       " Median :1.00   Median :2.000   Median :1.000   Median :6.000   Median :1.000  \n",
       " Mean   :1.02   Mean   :1.847   Mean   :1.414   Mean   :4.304   Mean   :1.252  \n",
       " 3rd Qu.:1.00   3rd Qu.:2.000   3rd Qu.:1.000   3rd Qu.:6.000   3rd Qu.:1.000  \n",
       " Max.   :2.00   Max.   :2.000   Max.   :7.000   Max.   :6.000   Max.   :6.000  \n",
       " NA's   :3017   NA's   :3289    NA's   :14621   NA's   :16618   NA's   :14955  \n",
       "    p1001_4           p1001_5         p1001_6          p1001_10    \n",
       " Min.   :  0.000   Min.   : 0.0    Min.   :   0.0   Min.   :1.000  \n",
       " 1st Qu.:  0.000   1st Qu.:12.0    1st Qu.: 160.0   1st Qu.:1.000  \n",
       " Median :  0.000   Median :12.0    Median : 240.0   Median :1.000  \n",
       " Mean   :  1.042   Mean   :11.8    Mean   : 305.9   Mean   :1.131  \n",
       " 3rd Qu.:  0.000   3rd Qu.:12.0    3rd Qu.: 360.0   3rd Qu.:1.000  \n",
       " Max.   :700.000   Max.   :12.0    Max.   :3000.0   Max.   :3.000  \n",
       " NA's   :14955     NA's   :14955   NA's   :14955    NA's   :16419  \n",
       "    p1001_11        p1001_12          p1001_13        p1001_14    \n",
       " Min.   :4       Min.   :    0.0   Min.   : 2.00   Min.   : 238   \n",
       " 1st Qu.:4       1st Qu.:    0.0   1st Qu.:12.00   1st Qu.:1740   \n",
       " Median :4       Median :    0.0   Median :12.00   Median :2316   \n",
       " Mean   :4       Mean   :  264.1   Mean   :11.79   Mean   :2394   \n",
       " 3rd Qu.:4       3rd Qu.:    0.0   3rd Qu.:12.00   3rd Qu.:3000   \n",
       " Max.   :4       Max.   :20000.0   Max.   :12.00   Max.   :4512   \n",
       " NA's   :16662   NA's   :16419     NA's   :16419   NA's   :16419  \n",
       "    p1001_7         p1001_8         p1001_9          p1001_15    \n",
       " Min.   :0       Min.   : 1.00   Min.   :  56.0   Min.   :1.000  \n",
       " 1st Qu.:0       1st Qu.:12.00   1st Qu.: 582.5   1st Qu.:2.000  \n",
       " Median :0       Median :12.00   Median :1200.0   Median :2.000  \n",
       " Mean   :0       Mean   :11.84   Mean   :1111.0   Mean   :1.983  \n",
       " 3rd Qu.:0       3rd Qu.:12.00   3rd Qu.:1500.0   3rd Qu.:2.000  \n",
       " Max.   :0       Max.   :12.00   Max.   :5400.0   Max.   :2.000  \n",
       " NA's   :16529   NA's   :16529   NA's   :16529    NA's   :3289   \n",
       "    p1001_16        p1001_17        p1001_18         p1001_19     \n",
       " Min.   :1.000   Min.   :3.000   Min.   : 1.000   Min.   :   8.0  \n",
       " 1st Qu.:1.000   1st Qu.:3.000   1st Qu.: 2.000   1st Qu.: 200.8  \n",
       " Median :1.000   Median :3.000   Median : 3.500   Median : 315.0  \n",
       " Mean   :1.333   Mean   :3.333   Mean   : 4.126   Mean   : 367.9  \n",
       " 3rd Qu.:2.000   3rd Qu.:3.500   3rd Qu.: 5.000   3rd Qu.: 500.0  \n",
       " Max.   :4.000   Max.   :4.000   Max.   :12.000   Max.   :1374.0  \n",
       " NA's   :16442   NA's   :16661   NA's   :16442    NA's   :16442   \n",
       "    p1001_20        p1001_21        p1001_22        p1001_23      \n",
       " Min.   :1.000   Min.   :1.000   Min.   :2.00    Min.   :  0.000  \n",
       " 1st Qu.:2.000   1st Qu.:2.000   1st Qu.:3.25    1st Qu.:  0.000  \n",
       " Median :2.000   Median :3.000   Median :4.50    Median :  0.000  \n",
       " Mean   :1.997   Mean   :2.975   Mean   :4.50    Mean   :  8.625  \n",
       " 3rd Qu.:2.000   3rd Qu.:3.000   3rd Qu.:5.75    3rd Qu.:  0.000  \n",
       " Max.   :2.000   Max.   :7.000   Max.   :7.00    Max.   :250.000  \n",
       " NA's   :3289    NA's   :16624   NA's   :16662   NA's   :16624    \n",
       "    p1001_24        p1001_25         p1001_27        p1001_28     \n",
       " Min.   : 0.00   Min.   :   0.0   Min.   :1.000   Min.   :  0.00  \n",
       " 1st Qu.: 3.75   1st Qu.: 597.5   1st Qu.:2.000   1st Qu.:  0.00  \n",
       " Median :12.00   Median :1074.0   Median :2.000   Median :  0.00  \n",
       " Mean   : 8.65   Mean   :1393.4   Mean   :1.994   Mean   : 13.24  \n",
       " 3rd Qu.:12.00   3rd Qu.:1893.0   3rd Qu.:2.000   3rd Qu.:  0.00  \n",
       " Max.   :12.00   Max.   :4800.0   Max.   :2.000   Max.   :220.00  \n",
       " NA's   :16624   NA's   :16624    NA's   :3289    NA's   :16590   \n",
       "    p1001_29        p1001_30         p1001_31        p1001_32      \n",
       " Min.   : 0.00   Min.   :   0.0   Min.   :1.000   Min.   :   15.0  \n",
       " 1st Qu.:12.00   1st Qu.: 120.0   1st Qu.:2.000   1st Qu.:  150.0  \n",
       " Median :12.00   Median : 265.0   Median :2.000   Median :  260.0  \n",
       " Mean   :10.89   Mean   : 397.6   Mean   :1.978   Mean   :  728.3  \n",
       " 3rd Qu.:12.00   3rd Qu.: 471.0   3rd Qu.:2.000   3rd Qu.:  500.0  \n",
       " Max.   :12.00   Max.   :3400.0   Max.   :2.000   Max.   :20000.0  \n",
       " NA's   :16590   NA's   :16590    NA's   :3289    NA's   :16371    \n",
       "    p1001_33        p1001_34        p1002_1         p1002_2     \n",
       " Min.   :0       Min.   :0       Min.   :1.000   Min.   :1.000  \n",
       " 1st Qu.:0       1st Qu.:0       1st Qu.:1.000   1st Qu.:2.000  \n",
       " Median :0       Median :0       Median :2.000   Median :2.000  \n",
       " Mean   :0       Mean   :0       Mean   :2.562   Mean   :1.907  \n",
       " 3rd Qu.:0       3rd Qu.:0       3rd Qu.:4.000   3rd Qu.:2.000  \n",
       " Max.   :0       Max.   :0       Max.   :5.000   Max.   :2.000  \n",
       " NA's   :16371   NA's   :16371   NA's   :3289    NA's   :9174   \n",
       "    p1002_3          p1002_4        p1002_5          p1002_6     \n",
       " Min.   : 1.000   Min.   :1941   Min.   : 1.000   Min.   : 0.00  \n",
       " 1st Qu.: 5.000   1st Qu.:1999   1st Qu.: 3.000   1st Qu.:12.00  \n",
       " Median : 7.000   Median :2009   Median : 3.000   Median :12.00  \n",
       " Mean   : 8.225   Mean   :2002   Mean   : 4.812   Mean   :11.43  \n",
       " 3rd Qu.:11.000   3rd Qu.:2013   3rd Qu.: 7.000   3rd Qu.:12.00  \n",
       " Max.   :18.000   Max.   :2014   Max.   :12.000   Max.   :12.00  \n",
       " NA's   :15971    NA's   :9174   NA's   :9174     NA's   :9174   \n",
       "    p1002_7         p1002_8        p1002_8aq1        p1002_9      \n",
       " Min.   : 0.00   Min.   :  0.0   Min.   :   0.0   Min.   : 1.000  \n",
       " 1st Qu.:20.00   1st Qu.: 40.0   1st Qu.: 122.0   1st Qu.: 5.000  \n",
       " Median :20.00   Median : 40.0   Median : 192.5   Median : 6.000  \n",
       " Mean   :20.61   Mean   : 43.5   Mean   : 241.6   Mean   : 6.743  \n",
       " 3rd Qu.:24.00   3rd Qu.: 50.0   3rd Qu.: 316.6   3rd Qu.: 8.000  \n",
       " Max.   :31.00   Max.   :120.0   Max.   :2400.0   Max.   :24.000  \n",
       " NA's   :9174    NA's   :11035   NA's   :12030    NA's   :14803   \n",
       "   p1002_8aq2      p1002_4aq1       p1002_10        p1002_11    \n",
       " Min.   :0.060   Min.   :1.000   Min.   :1.000   Min.   :0.000  \n",
       " 1st Qu.:0.600   1st Qu.:1.000   1st Qu.:2.000   1st Qu.:0.000  \n",
       " Median :1.000   Median :1.000   Median :2.000   Median :0.000  \n",
       " Mean   :1.081   Mean   :1.463   Mean   :1.971   Mean   :0.201  \n",
       " 3rd Qu.:1.300   3rd Qu.:1.000   3rd Qu.:2.000   3rd Qu.:0.000  \n",
       " Max.   :8.750   Max.   :4.000   Max.   :2.000   Max.   :8.000  \n",
       " NA's   :16303   NA's   :11669   NA's   :10886   NA's   :16495  \n",
       "    p1002_12        p1002_8aq3       p1002_8aq4       p1002_31    \n",
       " Min.   : 0.000   Min.   : 1.000   Min.   : 1.00   Min.   : 50.0  \n",
       " 1st Qu.: 2.000   1st Qu.: 1.000   1st Qu.: 6.00   1st Qu.:150.0  \n",
       " Median : 3.000   Median : 6.000   Median :13.00   Median :200.0  \n",
       " Mean   : 3.917   Mean   : 7.349   Mean   :16.33   Mean   :200.8  \n",
       " 3rd Qu.: 6.000   3rd Qu.:13.000   3rd Qu.:15.00   3rd Qu.:250.0  \n",
       " Max.   :12.000   Max.   :18.000   Max.   :88.00   Max.   :600.0  \n",
       " NA's   :16495    NA's   :16495    NA's   :16495   NA's   :16495  \n",
       "   p1002_4aq2      p1002_4aq3      p1002_4aq4      p1002_8aq5   \n",
       " Min.   :1.000   Min.   :1.000   Min.   :1.000   Min.   :0.000  \n",
       " 1st Qu.:2.000   1st Qu.:1.000   1st Qu.:2.000   1st Qu.:0.000  \n",
       " Median :2.000   Median :2.000   Median :3.000   Median :0.000  \n",
       " Mean   :1.923   Mean   :1.518   Mean   :3.742   Mean   :0.003  \n",
       " 3rd Qu.:2.000   3rd Qu.:2.000   3rd Qu.:6.000   3rd Qu.:0.000  \n",
       " Max.   :2.000   Max.   :2.000   Max.   :7.000   Max.   :1.000  \n",
       " NA's   :11055   NA's   :16230   NA's   :16455   NA's   :3396   \n",
       "   p1002_8aq6      p1002_8aq7      p1002_8aq8      p1002_8aq9    p1002_8aq10   \n",
       " Min.   :0.000   Min.   :0.000   Min.   :0.000   Min.   :0      Min.   :0.000  \n",
       " 1st Qu.:0.000   1st Qu.:0.000   1st Qu.:0.000   1st Qu.:0      1st Qu.:0.000  \n",
       " Median :0.000   Median :0.000   Median :0.000   Median :0      Median :0.000  \n",
       " Mean   :0.018   Mean   :0.004   Mean   :0.001   Mean   :0      Mean   :0.005  \n",
       " 3rd Qu.:0.000   3rd Qu.:0.000   3rd Qu.:0.000   3rd Qu.:0      3rd Qu.:0.000  \n",
       " Max.   :1.000   Max.   :1.000   Max.   :1.000   Max.   :1      Max.   :1.000  \n",
       " NA's   :3396    NA's   :3396    NA's   :3396    NA's   :3396   NA's   :3396   \n",
       "  p1002_8aq11    p1002_8aq12     p1002_8aq13     p1002_8aq14     p1002_8aq15   \n",
       " Min.   :0      Min.   :0.000   Min.   :0.000   Min.   :0.000   Min.   :0.000  \n",
       " 1st Qu.:0      1st Qu.:0.000   1st Qu.:0.000   1st Qu.:0.000   1st Qu.:0.000  \n",
       " Median :0      Median :0.000   Median :0.000   Median :0.000   Median :0.000  \n",
       " Mean   :0      Mean   :0.001   Mean   :0.001   Mean   :0.001   Mean   :0.001  \n",
       " 3rd Qu.:0      3rd Qu.:0.000   3rd Qu.:0.000   3rd Qu.:0.000   3rd Qu.:0.000  \n",
       " Max.   :1      Max.   :1.000   Max.   :1.000   Max.   :1.000   Max.   :1.000  \n",
       " NA's   :3396   NA's   :3396    NA's   :3396    NA's   :3396    NA's   :3396   \n",
       "   p1002_aq2       p1002_aq3       p1002_aq4       p1002_aq5    \n",
       " Min.   :0.000   Min.   :0.00    Min.   : 1.00   Min.   :14.00  \n",
       " 1st Qu.:0.000   1st Qu.:0.00    1st Qu.:17.00   1st Qu.:16.25  \n",
       " Median :0.000   Median :0.00    Median :22.00   Median :19.00  \n",
       " Mean   :0.033   Mean   :0.28    Mean   :19.63   Mean   :19.75  \n",
       " 3rd Qu.:0.000   3rd Qu.:0.00    3rd Qu.:26.00   3rd Qu.:22.50  \n",
       " Max.   :7.000   Max.   :7.00    Max.   :28.00   Max.   :27.00  \n",
       " NA's   :3723    NA's   :16589   NA's   :16589   NA's   :16660  \n",
       "    p1003_1         p1003_2         p1003_5         p1003_6     \n",
       " Min.   :1.000   Min.   :0.000   Min.   :1.000   Min.   :1.000  \n",
       " 1st Qu.:1.000   1st Qu.:0.000   1st Qu.:3.000   1st Qu.:2.000  \n",
       " Median :1.000   Median :2.000   Median :4.000   Median :3.000  \n",
       " Mean   :1.477   Mean   :1.225   Mean   :3.282   Mean   :2.883  \n",
       " 3rd Qu.:2.000   3rd Qu.:2.000   3rd Qu.:4.000   3rd Qu.:4.000  \n",
       " Max.   :2.000   Max.   :2.000   Max.   :5.000   Max.   :5.000  \n",
       " NA's   :3289    NA's   :3289    NA's   :3825    NA's   :3825   \n",
       "    p1003_7         p1003_8         p1003_9         p1003_10    \n",
       " Min.   :1.000   Min.   :1.000   Min.   :1.000   Min.   :1.000  \n",
       " 1st Qu.:3.000   1st Qu.:4.000   1st Qu.:3.000   1st Qu.:3.000  \n",
       " Median :4.000   Median :4.000   Median :4.000   Median :4.000  \n",
       " Mean   :3.597   Mean   :3.876   Mean   :3.436   Mean   :3.729  \n",
       " 3rd Qu.:4.000   3rd Qu.:4.000   3rd Qu.:4.000   3rd Qu.:4.000  \n",
       " Max.   :5.000   Max.   :5.000   Max.   :5.000   Max.   :5.000  \n",
       " NA's   :3825    NA's   :3825    NA's   :3825    NA's   :3825   \n",
       "    p1003_11        p1003_12        p1004_1         p1004_2     \n",
       " Min.   :1.000   Min.   :1.000   Min.   :1.000   Min.   :1.000  \n",
       " 1st Qu.:3.000   1st Qu.:3.000   1st Qu.:1.000   1st Qu.:3.000  \n",
       " Median :3.000   Median :4.000   Median :1.000   Median :4.000  \n",
       " Mean   :3.291   Mean   :3.544   Mean   :1.553   Mean   :3.476  \n",
       " 3rd Qu.:4.000   3rd Qu.:4.000   3rd Qu.:2.000   3rd Qu.:4.000  \n",
       " Max.   :5.000   Max.   :5.000   Max.   :3.000   Max.   :5.000  \n",
       " NA's   :3825    NA's   :3825    NA's   :3825    NA's   :3825   \n",
       "    p1004_3         p1004_4        p1004_5           p1004_6       \n",
       " Min.   :1.000   Min.   :1.00   Min.   :   0.00   Min.   :  0.000  \n",
       " 1st Qu.:2.000   1st Qu.:2.00   1st Qu.:   3.00   1st Qu.:  0.000  \n",
       " Median :3.000   Median :2.00   Median :  12.00   Median :  0.000  \n",
       " Mean   :3.019   Mean   :1.91   Mean   :  36.06   Mean   :  7.317  \n",
       " 3rd Qu.:4.000   3rd Qu.:2.00   3rd Qu.:  36.00   3rd Qu.:  5.000  \n",
       " Max.   :5.000   Max.   :2.00   Max.   :3600.00   Max.   :240.000  \n",
       " NA's   :3825    NA's   :3289   NA's   :15466     NA's   :15466    \n",
       "    p1004_7         p1004_8         p1004_9          p1004_10     \n",
       " Min.   :1.000   Min.   :0.000   Min.   : 0.000   Min.   : 0.000  \n",
       " 1st Qu.:1.000   1st Qu.:1.000   1st Qu.: 1.000   1st Qu.: 2.000  \n",
       " Median :2.000   Median :2.000   Median : 1.000   Median : 4.000  \n",
       " Mean   :1.664   Mean   :2.588   Mean   : 1.727   Mean   : 3.749  \n",
       " 3rd Qu.:2.000   3rd Qu.:4.000   3rd Qu.: 2.000   3rd Qu.: 5.000  \n",
       " Max.   :2.000   Max.   :7.000   Max.   :15.000   Max.   :30.000  \n",
       " NA's   :3289    NA's   :15713   NA's   :15031    NA's   :14748   \n",
       "    p1004_11        p1004_12         p1004_13        p1004_3aq1   \n",
       " Min.   :0.000   Min.   : 0.000   Min.   : 0.000   Min.   :1.000  \n",
       " 1st Qu.:1.000   1st Qu.: 1.000   1st Qu.: 0.000   1st Qu.:3.000  \n",
       " Median :2.000   Median : 2.000   Median : 2.000   Median :4.000  \n",
       " Mean   :2.432   Mean   : 1.908   Mean   : 2.575   Mean   :3.562  \n",
       " 3rd Qu.:3.000   3rd Qu.: 2.000   3rd Qu.: 4.250   3rd Qu.:4.000  \n",
       " Max.   :7.000   Max.   :28.000   Max.   :18.000   Max.   :5.000  \n",
       " NA's   :13935   NA's   :15361    NA's   :16196    NA's   :3825   \n",
       "   p1004_3aq2      p1004_3aq3      p1004_3aq4      p1004_3aq5   \n",
       " Min.   :1.000   Min.   :1.000   Min.   :1.000   Min.   :1.000  \n",
       " 1st Qu.:4.000   1st Qu.:4.000   1st Qu.:2.000   1st Qu.:3.000  \n",
       " Median :4.000   Median :4.000   Median :2.000   Median :4.000  \n",
       " Mean   :3.735   Mean   :3.782   Mean   :2.618   Mean   :3.677  \n",
       " 3rd Qu.:4.000   3rd Qu.:4.000   3rd Qu.:4.000   3rd Qu.:4.000  \n",
       " Max.   :5.000   Max.   :5.000   Max.   :9.000   Max.   :5.000  \n",
       " NA's   :3825    NA's   :3825    NA's   :3825    NA's   :3825   \n",
       "   p1004_3aq6      p1004_3aq7      p1004_3aq8      p1005_3aq1   \n",
       " Min.   :1.000   Min.   :1.000   Min.   :1.000   Min.   :1.000  \n",
       " 1st Qu.:2.000   1st Qu.:2.000   1st Qu.:1.000   1st Qu.:2.000  \n",
       " Median :2.000   Median :2.000   Median :2.000   Median :3.000  \n",
       " Mean   :2.246   Mean   :2.452   Mean   :1.845   Mean   :2.729  \n",
       " 3rd Qu.:3.000   3rd Qu.:3.000   3rd Qu.:2.000   3rd Qu.:3.000  \n",
       " Max.   :5.000   Max.   :5.000   Max.   :9.000   Max.   :3.000  \n",
       " NA's   :3825    NA's   :3825    NA's   :3825    NA's   :16336  \n",
       "   p1005_3aq2      p1005_3aq3      p1005_3aq4       p1005_3aq5   \n",
       " Min.   :10.00   Min.   : 0.00   Min.   : 0.000   Min.   :1.000  \n",
       " 1st Qu.:17.00   1st Qu.: 2.00   1st Qu.: 0.000   1st Qu.:2.000  \n",
       " Median :19.00   Median : 8.50   Median : 1.000   Median :2.000  \n",
       " Mean   :19.45   Mean   :11.49   Mean   : 3.405   Mean   :1.832  \n",
       " 3rd Qu.:20.00   3rd Qu.:18.50   3rd Qu.: 4.000   3rd Qu.:2.000  \n",
       " Max.   :40.00   Max.   :55.00   Max.   :99.000   Max.   :2.000  \n",
       " NA's   :16580   NA's   :16580   NA's   :16580    NA's   :3289   \n",
       "   p1005_3aq6      p1005_3aq7      p1005_3aq8      p1005_3aq9  \n",
       " Min.   : 1.00   Min.   :1.000   Min.   :1.000   Min.   :1.00  \n",
       " 1st Qu.:10.00   1st Qu.:1.000   1st Qu.:3.000   1st Qu.:1.00  \n",
       " Median :12.00   Median :2.000   Median :3.000   Median :1.00  \n",
       " Mean   :14.44   Mean   :1.671   Mean   :3.319   Mean   :1.46  \n",
       " 3rd Qu.:20.00   3rd Qu.:2.000   3rd Qu.:4.000   3rd Qu.:1.00  \n",
       " Max.   :60.00   Max.   :2.000   Max.   :4.000   Max.   :9.00  \n",
       " NA's   :14418   NA's   :14418   NA's   :14418   NA's   :3289  \n",
       "  p1005_3aq10        p1005_2         p1005_3        p1005_4aq1   \n",
       " Min.   : 1.000   Min.   :1.000   Min.   :1.000   Min.   :1.000  \n",
       " 1st Qu.: 2.000   1st Qu.:2.000   1st Qu.:2.000   1st Qu.:1.000  \n",
       " Median : 2.000   Median :5.000   Median :3.000   Median :2.000  \n",
       " Mean   : 2.804   Mean   :3.836   Mean   :2.773   Mean   :2.415  \n",
       " 3rd Qu.: 3.000   3rd Qu.:5.000   3rd Qu.:4.000   3rd Qu.:4.000  \n",
       " Max.   :12.000   Max.   :5.000   Max.   :5.000   Max.   :5.000  \n",
       " NA's   :16485    NA's   :3289    NA's   :10786   NA's   :10786  \n",
       "   p1005_4aq2      p1005_4aq3      p1005_4aq4      p1005_4aq5   \n",
       " Min.   :1.000   Min.   :1.000   Min.   :1.000   Min.   :1.000  \n",
       " 1st Qu.:1.000   1st Qu.:1.000   1st Qu.:1.000   1st Qu.:1.000  \n",
       " Median :1.000   Median :1.000   Median :1.000   Median :1.000  \n",
       " Mean   :1.643   Mean   :1.448   Mean   :1.391   Mean   :1.521  \n",
       " 3rd Qu.:1.000   3rd Qu.:1.000   3rd Qu.:1.000   3rd Qu.:1.000  \n",
       " Max.   :9.000   Max.   :9.000   Max.   :9.000   Max.   :9.000  \n",
       " NA's   :10786   NA's   :10786   NA's   :10786   NA's   :10786  \n",
       "   p1005_4aq6      p1005_4aq7      p1005_4aq8       p1005_5     \n",
       " Min.   :1.000   Min.   :1.000   Min.   :1.000   Min.   :1.000  \n",
       " 1st Qu.:1.000   1st Qu.:1.000   1st Qu.:1.000   1st Qu.:2.000  \n",
       " Median :1.000   Median :1.000   Median :1.000   Median :2.000  \n",
       " Mean   :1.507   Mean   :1.374   Mean   :1.553   Mean   :2.091  \n",
       " 3rd Qu.:1.000   3rd Qu.:1.000   3rd Qu.:1.000   3rd Qu.:2.000  \n",
       " Max.   :9.000   Max.   :9.000   Max.   :9.000   Max.   :9.000  \n",
       " NA's   :10786   NA's   :10786   NA's   :10786   NA's   :10786  \n",
       "    p1005_6         p1005_7         p1005_8       p1005_3aq11   \n",
       " Min.   :1.000   Min.   :1.000   Min.   :1.00    Min.   :0.000  \n",
       " 1st Qu.:2.000   1st Qu.:2.000   1st Qu.:2.00    1st Qu.:0.000  \n",
       " Median :2.000   Median :2.000   Median :2.00    Median :2.000  \n",
       " Mean   :2.226   Mean   :2.217   Mean   :2.28    Mean   :1.113  \n",
       " 3rd Qu.:2.000   3rd Qu.:2.000   3rd Qu.:2.00    3rd Qu.:2.000  \n",
       " Max.   :9.000   Max.   :9.000   Max.   :9.00    Max.   :2.000  \n",
       " NA's   :10786   NA's   :10786   NA's   :10786   NA's   :3289   \n",
       "    p1005_9         p1005_10        p1005_11        p1005_12       p1005_13    \n",
       " Min.   :1.000   Min.   :1.000   Min.   :1.000   Min.   :1.00   Min.   :1.000  \n",
       " 1st Qu.:1.000   1st Qu.:4.000   1st Qu.:1.000   1st Qu.:1.00   1st Qu.:1.000  \n",
       " Median :1.000   Median :4.000   Median :1.000   Median :1.00   Median :1.000  \n",
       " Mean   :1.654   Mean   :3.855   Mean   :1.641   Mean   :1.82   Mean   :1.817  \n",
       " 3rd Qu.:2.000   3rd Qu.:4.000   3rd Qu.:2.000   3rd Qu.:2.00   3rd Qu.:2.000  \n",
       " Max.   :9.000   Max.   :9.000   Max.   :9.000   Max.   :9.00   Max.   :9.000  \n",
       " NA's   :3289    NA's   :3289    NA's   :3289    NA's   :3289   NA's   :3289   \n",
       "    p1005_14        p1005_15        p1005_16       p1005_17        p1005_18    \n",
       " Min.   :1.000   Min.   :1.000   Min.   :1.0    Min.   :1.000   Min.   :1.000  \n",
       " 1st Qu.:1.000   1st Qu.:3.000   1st Qu.:1.0    1st Qu.:1.000   1st Qu.:1.000  \n",
       " Median :1.000   Median :4.000   Median :1.0    Median :1.000   Median :1.000  \n",
       " Mean   :1.605   Mean   :3.784   Mean   :1.4    Mean   :1.565   Mean   :1.382  \n",
       " 3rd Qu.:2.000   3rd Qu.:4.000   3rd Qu.:1.0    3rd Qu.:1.000   3rd Qu.:1.000  \n",
       " Max.   :9.000   Max.   :9.000   Max.   :9.0    Max.   :9.000   Max.   :9.000  \n",
       " NA's   :3289    NA's   :3289    NA's   :3289   NA's   :3289    NA's   :3289   \n",
       "    p1005_19        p1005_20       p1005_21        p1005_22        p1005_23    \n",
       " Min.   :1.000   Min.   :1.00   Min.   :1.000   Min.   :1.000   Min.   :1.000  \n",
       " 1st Qu.:1.000   1st Qu.:2.00   1st Qu.:2.000   1st Qu.:1.000   1st Qu.:2.000  \n",
       " Median :1.000   Median :3.00   Median :3.000   Median :1.000   Median :3.000  \n",
       " Mean   :1.646   Mean   :2.95   Mean   :2.993   Mean   :1.683   Mean   :3.009  \n",
       " 3rd Qu.:2.000   3rd Qu.:3.00   3rd Qu.:3.000   3rd Qu.:2.000   3rd Qu.:3.000  \n",
       " Max.   :9.000   Max.   :9.00   Max.   :9.000   Max.   :9.000   Max.   :9.000  \n",
       " NA's   :3289    NA's   :3289   NA's   :3289    NA's   :3289    NA's   :3289   \n",
       "    p1005_24        p1005_25        p1005_26        p1005_27    \n",
       " Min.   :1.000   Min.   :1.000   Min.   :1.000   Min.   :1.000  \n",
       " 1st Qu.:1.000   1st Qu.:2.000   1st Qu.:2.000   1st Qu.:2.000  \n",
       " Median :2.000   Median :3.000   Median :3.000   Median :3.000  \n",
       " Mean   :2.194   Mean   :3.061   Mean   :2.734   Mean   :2.761  \n",
       " 3rd Qu.:3.000   3rd Qu.:3.000   3rd Qu.:3.000   3rd Qu.:3.000  \n",
       " Max.   :9.000   Max.   :9.000   Max.   :9.000   Max.   :9.000  \n",
       " NA's   :3289    NA's   :3289    NA's   :3289    NA's   :3289   \n",
       "    p1005_28        p1005_29       p1005_4aq9     p1005_4aq10   \n",
       " Min.   :1.000   Min.   :1.000   Min.   :0.000   Min.   :0.000  \n",
       " 1st Qu.:1.000   1st Qu.:1.000   1st Qu.:0.000   1st Qu.:0.000  \n",
       " Median :1.000   Median :1.000   Median :1.000   Median :1.000  \n",
       " Mean   :1.584   Mean   :1.477   Mean   :0.957   Mean   :0.802  \n",
       " 3rd Qu.:1.000   3rd Qu.:1.000   3rd Qu.:1.000   3rd Qu.:1.000  \n",
       " Max.   :9.000   Max.   :9.000   Max.   :9.000   Max.   :9.000  \n",
       " NA's   :3289    NA's   :3289    NA's   :3289    NA's   :3291   \n",
       "  p1005_4aq11      p1005_aq1       p1005_aq2       p1005_aq3    \n",
       " Min.   :0.000   Min.   :0.000   Min.   :0.000   Min.   :0.000  \n",
       " 1st Qu.:0.000   1st Qu.:5.000   1st Qu.:0.000   1st Qu.:4.000  \n",
       " Median :1.000   Median :6.000   Median :4.000   Median :6.000  \n",
       " Mean   :0.786   Mean   :5.412   Mean   :3.584   Mean   :4.703  \n",
       " 3rd Qu.:1.000   3rd Qu.:6.000   3rd Qu.:6.000   3rd Qu.:6.000  \n",
       " Max.   :9.000   Max.   :9.000   Max.   :9.000   Max.   :9.000  \n",
       " NA's   :3289    NA's   :3289    NA's   :3289    NA's   :3289   \n",
       "   p1005_aq4       p1005_6aq1      p1005_6aq2      p1005_6aq3   \n",
       " Min.   :0.000   Min.   :1.000   Min.   :11.00   Min.   :11.0   \n",
       " 1st Qu.:0.000   1st Qu.:2.000   1st Qu.:17.00   1st Qu.:18.0   \n",
       " Median :6.000   Median :2.000   Median :29.00   Median :30.0   \n",
       " Mean   :4.102   Mean   :3.003   Mean   :28.76   Mean   :32.7   \n",
       " 3rd Qu.:6.000   3rd Qu.:2.000   3rd Qu.:35.00   3rd Qu.:48.0   \n",
       " Max.   :9.000   Max.   :9.000   Max.   :67.00   Max.   :80.0   \n",
       " NA's   :3289    NA's   :16336   NA's   :16643   NA's   :16641  \n",
       "   p1005_6aq4      p1005_6aq5      p1005_6aq6      p1005_6aq7   \n",
       " Min.   :1.000   Min.   :11.00   Min.   :11.00   Min.   :1.000  \n",
       " 1st Qu.:2.000   1st Qu.:15.75   1st Qu.:18.00   1st Qu.:2.000  \n",
       " Median :2.000   Median :29.50   Median :34.50   Median :2.000  \n",
       " Mean   :3.037   Mean   :28.30   Mean   :33.20   Mean   :3.055  \n",
       " 3rd Qu.:2.000   3rd Qu.:34.00   3rd Qu.:46.75   3rd Qu.:2.000  \n",
       " Max.   :9.000   Max.   :52.00   Max.   :57.00   Max.   :9.000  \n",
       " NA's   :16336   NA's   :16654   NA's   :16654   NA's   :16336  \n",
       "   p1005_6aq8      p1005_6aq9      p1005_7aq1      p1005_7aq2     p1005_7aq3   \n",
       " Min.   :14.00   Min.   :18.00   Min.   :1.000   Min.   :1.00   Min.   :1.000  \n",
       " 1st Qu.:17.00   1st Qu.:18.00   1st Qu.:2.000   1st Qu.:2.00   1st Qu.:2.000  \n",
       " Median :23.50   Median :24.50   Median :2.000   Median :2.00   Median :2.000  \n",
       " Mean   :22.75   Mean   :29.25   Mean   :2.236   Mean   :2.26   Mean   :2.264  \n",
       " 3rd Qu.:29.25   3rd Qu.:35.75   3rd Qu.:2.000   3rd Qu.:2.00   3rd Qu.:2.000  \n",
       " Max.   :30.00   Max.   :50.00   Max.   :9.000   Max.   :9.00   Max.   :9.000  \n",
       " NA's   :16660   NA's   :16660   NA's   :3617    NA's   :3617   NA's   :3617   \n",
       "   p1007_3aq1      p1007_3aq2       p1007_3aq3      p1007_3aq4   \n",
       " Min.   :1.000   Min.   : 1.000   Min.   :11.00   Min.   :11000  \n",
       " 1st Qu.:2.000   1st Qu.: 1.000   1st Qu.:22.00   1st Qu.:22020  \n",
       " Median :3.000   Median : 1.000   Median :31.00   Median :31041  \n",
       " Mean   :2.948   Mean   : 3.404   Mean   :27.03   Mean   :27005  \n",
       " 3rd Qu.:4.000   3rd Qu.: 8.000   3rd Qu.:34.75   3rd Qu.:34370  \n",
       " Max.   :5.000   Max.   :15.000   Max.   :43.00   Max.   :40002  \n",
       " NA's   :16336   NA's   :16362    NA's   :16362   NA's   :16362  \n",
       "   p1007_3aq5       p1007_3aq6      p1007_3aq7       np1006_1    \n",
       " Min.   : 1.000   Min.   :11.00   Min.   :11010   Min.   :1.000  \n",
       " 1st Qu.: 2.000   1st Qu.:22.00   1st Qu.:22010   1st Qu.:1.000  \n",
       " Median : 6.000   Median :26.00   Median :26310   Median :2.000  \n",
       " Mean   : 5.503   Mean   :26.63   Mean   :26664   Mean   :1.814  \n",
       " 3rd Qu.: 7.000   3rd Qu.:33.00   3rd Qu.:33020   3rd Qu.:2.000  \n",
       " Max.   :12.000   Max.   :42.00   Max.   :40002   Max.   :4.000  \n",
       " NA's   :16465    NA's   :16465   NA's   :16465   NA's   :16336  \n",
       "    np1006_2        np1006_3        np1006_4        np1006_5    \n",
       " Min.   :1.000   Min.   :1.000   Min.   :1954    Min.   :1965   \n",
       " 1st Qu.:2.000   1st Qu.:1.000   1st Qu.:1995    1st Qu.:2000   \n",
       " Median :3.000   Median :1.000   Median :2006    Median :2012   \n",
       " Mean   :2.768   Mean   :1.442   Mean   :2002    Mean   :2005   \n",
       " 3rd Qu.:3.000   3rd Qu.:2.000   3rd Qu.:2014    3rd Qu.:2014   \n",
       " Max.   :5.000   Max.   :2.000   Max.   :2014    Max.   :2014   \n",
       " NA's   :16336   NA's   :16336   NA's   :16481   NA's   :16481  \n",
       "    np1006_6        np1006_7        np1006_8        np1006_9    \n",
       " Min.   :1.000   Min.   :1956    Min.   :1975    Min.   :1.000  \n",
       " 1st Qu.:1.000   1st Qu.:2008    1st Qu.:2014    1st Qu.:1.000  \n",
       " Median :1.000   Median :2013    Median :2014    Median :1.000  \n",
       " Mean   :1.568   Mean   :2009    Mean   :2012    Mean   :1.703  \n",
       " 3rd Qu.:2.000   3rd Qu.:2014    3rd Qu.:2014    3rd Qu.:2.000  \n",
       " Max.   :5.000   Max.   :2014    Max.   :2014    Max.   :5.000  \n",
       " NA's   :16481   NA's   :16482   NA's   :16482   NA's   :16482  \n",
       "   np1006_10        np1006_11       np1006_12       np1006_13     \n",
       " Min.   :  88.0   Min.   :  88    Min.   : 1.0    Min.   :  88.0  \n",
       " 1st Qu.:  88.0   1st Qu.:  88    1st Qu.: 2.0    1st Qu.:  88.0  \n",
       " Median :  88.0   Median :  88    Median :88.0    Median :  88.0  \n",
       " Mean   : 761.1   Mean   : 763    Mean   :57.2    Mean   : 487.3  \n",
       " 3rd Qu.:1998.0   3rd Qu.:2006    3rd Qu.:88.0    3rd Qu.:  88.0  \n",
       " Max.   :2014.0   Max.   :2014    Max.   :88.0    Max.   :2012.0  \n",
       " NA's   :16482    NA's   :16482   NA's   :16482   NA's   :16482   \n",
       "   np1006_14        np1006_15       np1006_16        np1006_17     \n",
       " Min.   :  88.0   Min.   : 1.00   Min.   :  88.0   Min.   :  88.0  \n",
       " 1st Qu.:  88.0   1st Qu.:88.00   1st Qu.:  88.0   1st Qu.:  88.0  \n",
       " Median :  88.0   Median :88.00   Median :  88.0   Median :  88.0  \n",
       " Mean   : 488.1   Mean   :69.95   Mean   : 287.6   Mean   : 287.9  \n",
       " 3rd Qu.:  88.0   3rd Qu.:88.00   3rd Qu.:  88.0   3rd Qu.:  88.0  \n",
       " Max.   :2014.0   Max.   :88.00   Max.   :2011.0   Max.   :2011.0  \n",
       " NA's   :16482    NA's   :16482   NA's   :16482    NA's   :16482   \n",
       "   np1006_18       np1006_19        np1006_20        np1006_21    \n",
       " Min.   : 1.00   Min.   :  88.0   Min.   :  88.0   Min.   : 1.00  \n",
       " 1st Qu.:88.00   1st Qu.:  88.0   1st Qu.:  88.0   1st Qu.:88.00  \n",
       " Median :88.00   Median :  88.0   Median :  88.0   Median :88.00  \n",
       " Mean   :78.98   Mean   : 161.4   Mean   : 161.5   Mean   :84.67  \n",
       " 3rd Qu.:88.00   3rd Qu.:  88.0   3rd Qu.:  88.0   3rd Qu.:88.00  \n",
       " Max.   :88.00   Max.   :2009.0   Max.   :2009.0   Max.   :88.00  \n",
       " NA's   :16482   NA's   :16482    NA's   :16482    NA's   :16482  \n",
       "   np1006_22        np1006_23        np1006_24       np1006_25    \n",
       " Min.   :  88.0   Min.   :  88.0   Min.   : 1.00   Min.   :0.000  \n",
       " 1st Qu.:  88.0   1st Qu.:  88.0   1st Qu.:88.00   1st Qu.:0.000  \n",
       " Median :  88.0   Median :  88.0   Median :88.00   Median :0.000  \n",
       " Mean   : 119.5   Mean   : 119.5   Mean   :86.58   Mean   :1.095  \n",
       " 3rd Qu.:  88.0   3rd Qu.:  88.0   3rd Qu.:88.00   3rd Qu.:0.000  \n",
       " Max.   :2008.0   Max.   :2008.0   Max.   :88.00   Max.   :6.000  \n",
       " NA's   :16482    NA's   :16482    NA's   :16482   NA's   :16336  \n",
       "   np1006_26       np1006_27       np1006_28       np1006_29    \n",
       " Min.   :0.000   Min.   :0.000   Min.   : 1.00   Min.   : 3.00  \n",
       " 1st Qu.:0.000   1st Qu.:0.000   1st Qu.:10.00   1st Qu.:10.00  \n",
       " Median :0.000   Median :0.000   Median :19.00   Median :13.00  \n",
       " Mean   :1.191   Mean   :0.733   Mean   :15.88   Mean   :15.73  \n",
       " 3rd Qu.:0.000   3rd Qu.:0.000   3rd Qu.:22.00   3rd Qu.:23.50  \n",
       " Max.   :7.000   Max.   :6.000   Max.   :28.00   Max.   :28.00  \n",
       " NA's   :16596   NA's   :16649   NA's   :16596   NA's   :16649  \n",
       "   np1006_30       np1006_31       np1006_32       np1006_33    \n",
       " Min.   :10.0    Min.   :1.000   Min.   : 2.00   Min.   :1.000  \n",
       " 1st Qu.:11.5    1st Qu.:1.000   1st Qu.: 7.50   1st Qu.:1.000  \n",
       " Median :13.0    Median :1.000   Median :12.00   Median :1.000  \n",
       " Mean   :13.0    Mean   :1.088   Mean   :11.44   Mean   :1.162  \n",
       " 3rd Qu.:14.5    3rd Qu.:1.000   3rd Qu.:15.50   3rd Qu.:1.000  \n",
       " Max.   :16.0    Max.   :3.000   Max.   :17.00   Max.   :3.000  \n",
       " NA's   :16662   NA's   :16336   NA's   :16637   NA's   :16336  \n",
       "   np1006_34        np1006_35       np1006_36       np1006_37    \n",
       " Min.   : 0.000   Min.   :1.000   Min.   : 7.00   Min.   :1.000  \n",
       " 1st Qu.: 3.500   1st Qu.:1.000   1st Qu.:13.00   1st Qu.:1.000  \n",
       " Median : 7.000   Median :1.000   Median :13.00   Median :1.000  \n",
       " Mean   : 7.882   Mean   :1.037   Mean   :13.42   Mean   :1.049  \n",
       " 3rd Qu.:12.000   3rd Qu.:1.000   3rd Qu.:14.25   3rd Qu.:1.000  \n",
       " Max.   :16.000   Max.   :2.000   Max.   :17.00   Max.   :2.000  \n",
       " NA's   :16613    NA's   :16336   NA's   :16652   NA's   :16336  \n",
       "   np1006_38        np1006_39       np1006_40       np1006_41     \n",
       " Min.   : 1.000   Min.   :1.000   Min.   :1.00    Min.   : 2.000  \n",
       " 1st Qu.: 2.000   1st Qu.:4.000   1st Qu.:3.75    1st Qu.: 5.000  \n",
       " Median : 8.000   Median :5.000   Median :5.00    Median : 8.000  \n",
       " Mean   : 8.188   Mean   :4.811   Mean   :4.47    Mean   : 7.607  \n",
       " 3rd Qu.:12.750   3rd Qu.:6.000   3rd Qu.:5.00    3rd Qu.: 9.250  \n",
       " Max.   :17.000   Max.   :9.000   Max.   :9.00    Max.   :16.000  \n",
       " NA's   :16648    NA's   :16336   NA's   :16336   NA's   :16336   \n",
       "   np1006_42        np1006_43       np1006_44       p1006_3aq1   \n",
       " Min.   : 1.000   Min.   :1.000   Min.   :1.00    Min.   :1.000  \n",
       " 1st Qu.: 7.000   1st Qu.:2.000   1st Qu.:4.00    1st Qu.:2.000  \n",
       " Median :11.000   Median :2.000   Median :4.00    Median :2.000  \n",
       " Mean   : 9.741   Mean   :1.939   Mean   :3.95    Mean   :1.985  \n",
       " 3rd Qu.:13.000   3rd Qu.:2.000   3rd Qu.:5.00    3rd Qu.:2.000  \n",
       " Max.   :16.000   Max.   :2.000   Max.   :5.00    Max.   :2.000  \n",
       " NA's   :16336    NA's   :16336   NA's   :16644   NA's   :16336  \n",
       "    c10_fnum         c10_cp        c10_grade        c1001_1     \n",
       " Min.   :2.000   Min.   :1.000   Min.   :1.000   Min.   :1.000  \n",
       " 1st Qu.:3.000   1st Qu.:1.000   1st Qu.:1.000   1st Qu.:3.000  \n",
       " Median :3.000   Median :1.000   Median :2.000   Median :3.000  \n",
       " Mean   :3.594   Mean   :1.028   Mean   :2.039   Mean   :3.413  \n",
       " 3rd Qu.:4.000   3rd Qu.:1.000   3rd Qu.:3.000   3rd Qu.:4.000  \n",
       " Max.   :7.000   Max.   :2.000   Max.   :3.000   Max.   :4.000  \n",
       " NA's   :16193   NA's   :16193   NA's   :16206   NA's   :16206  \n",
       "    c1001_2         c1001_3         c1001_4         c1001_5     \n",
       " Min.   :1.000   Min.   :1.000   Min.   :1.000   Min.   :1.000  \n",
       " 1st Qu.:3.000   1st Qu.:3.000   1st Qu.:3.000   1st Qu.:3.000  \n",
       " Median :3.000   Median :3.000   Median :3.000   Median :3.000  \n",
       " Mean   :3.085   Mean   :3.323   Mean   :3.133   Mean   :3.216  \n",
       " 3rd Qu.:3.000   3rd Qu.:4.000   3rd Qu.:3.000   3rd Qu.:4.000  \n",
       " Max.   :4.000   Max.   :4.000   Max.   :4.000   Max.   :4.000  \n",
       " NA's   :16206   NA's   :16206   NA's   :16206   NA's   :16206  \n",
       "    c1001_6         c1001_7         c1001_8         c1001_9     \n",
       " Min.   :1.000   Min.   :1.000   Min.   :1.000   Min.   :1.000  \n",
       " 1st Qu.:3.000   1st Qu.:1.000   1st Qu.:1.000   1st Qu.:1.000  \n",
       " Median :3.000   Median :1.000   Median :1.000   Median :1.000  \n",
       " Mean   :3.393   Mean   :1.478   Mean   :1.146   Mean   :1.148  \n",
       " 3rd Qu.:4.000   3rd Qu.:2.000   3rd Qu.:1.000   3rd Qu.:1.000  \n",
       " Max.   :4.000   Max.   :4.000   Max.   :4.000   Max.   :4.000  \n",
       " NA's   :16206   NA's   :16206   NA's   :16206   NA's   :16206  \n",
       "    c1001_10        c1001_11        c1001_12        c1001_13    \n",
       " Min.   :1.00    Min.   :1.000   Min.   :1.000   Min.   :1.000  \n",
       " 1st Qu.:3.00    1st Qu.:4.000   1st Qu.:3.000   1st Qu.:3.000  \n",
       " Median :4.00    Median :4.000   Median :4.000   Median :4.000  \n",
       " Mean   :3.76    Mean   :4.066   Mean   :3.766   Mean   :3.814  \n",
       " 3rd Qu.:4.00    3rd Qu.:5.000   3rd Qu.:5.000   3rd Qu.:5.000  \n",
       " Max.   :5.00    Max.   :5.000   Max.   :5.000   Max.   :5.000  \n",
       " NA's   :16206   NA's   :16206   NA's   :16206   NA's   :16206  \n",
       "   c1001_7aq5      c1001_7aq6      c1001_7aq7      c1001_7aq8   \n",
       " Min.   :1.000   Min.   :1.000   Min.   :1.000   Min.   :1.000  \n",
       " 1st Qu.:1.000   1st Qu.:1.000   1st Qu.:1.000   1st Qu.:1.000  \n",
       " Median :1.000   Median :2.000   Median :1.000   Median :2.000  \n",
       " Mean   :1.603   Mean   :1.856   Mean   :1.461   Mean   :1.808  \n",
       " 3rd Qu.:2.000   3rd Qu.:2.000   3rd Qu.:2.000   3rd Qu.:2.000  \n",
       " Max.   :4.000   Max.   :4.000   Max.   :4.000   Max.   :4.000  \n",
       " NA's   :16206   NA's   :16206   NA's   :16206   NA's   :16206  \n",
       "   c1001_4aq1      c1001_4aq2      c1001_4aq3      c1001_4aq4   \n",
       " Min.   :1.00    Min.   :1.000   Min.   :1.00    Min.   :1.000  \n",
       " 1st Qu.:3.00    1st Qu.:3.000   1st Qu.:3.00    1st Qu.:1.000  \n",
       " Median :3.00    Median :3.000   Median :3.00    Median :1.000  \n",
       " Mean   :3.29    Mean   :3.293   Mean   :3.41    Mean   :1.574  \n",
       " 3rd Qu.:4.00    3rd Qu.:4.000   3rd Qu.:4.00    3rd Qu.:2.000  \n",
       " Max.   :4.00    Max.   :4.000   Max.   :4.00    Max.   :4.000  \n",
       " NA's   :16206   NA's   :16206   NA's   :16206   NA's   :16206  \n",
       "   c1001_4aq5      c1001_4aq6       c1002_1         c1002_2     \n",
       " Min.   :1.000   Min.   :1.000   Min.   :1.000   Min.   :1.000  \n",
       " 1st Qu.:3.000   1st Qu.:1.000   1st Qu.:3.000   1st Qu.:3.000  \n",
       " Median :3.000   Median :1.000   Median :3.000   Median :3.000  \n",
       " Mean   :3.227   Mean   :1.616   Mean   :3.395   Mean   :3.216  \n",
       " 3rd Qu.:4.000   3rd Qu.:2.000   3rd Qu.:4.000   3rd Qu.:4.000  \n",
       " Max.   :4.000   Max.   :4.000   Max.   :4.000   Max.   :4.000  \n",
       " NA's   :16206   NA's   :16206   NA's   :16206   NA's   :16206  \n",
       "    c1002_3         c1002_4         c1002_5         c1002_6     \n",
       " Min.   :1.00    Min.   :1.000   Min.   :1.000   Min.   :1.000  \n",
       " 1st Qu.:3.00    1st Qu.:3.000   1st Qu.:3.000   1st Qu.:3.000  \n",
       " Median :3.00    Median :3.000   Median :3.000   Median :3.000  \n",
       " Mean   :3.07    Mean   :3.218   Mean   :3.378   Mean   :3.055  \n",
       " 3rd Qu.:3.00    3rd Qu.:4.000   3rd Qu.:4.000   3rd Qu.:4.000  \n",
       " Max.   :4.00    Max.   :4.000   Max.   :4.000   Max.   :4.000  \n",
       " NA's   :16206   NA's   :16206   NA's   :16206   NA's   :16206  \n",
       "    c1002_7         c1002_8         c1002_9         c1002_10    \n",
       " Min.   :1.000   Min.   :1.000   Min.   :1.000   Min.   :1.000  \n",
       " 1st Qu.:3.000   1st Qu.:3.000   1st Qu.:1.000   1st Qu.:1.000  \n",
       " Median :3.000   Median :3.000   Median :2.000   Median :1.000  \n",
       " Mean   :3.017   Mean   :3.092   Mean   :1.672   Mean   :1.635  \n",
       " 3rd Qu.:3.000   3rd Qu.:4.000   3rd Qu.:2.000   3rd Qu.:2.000  \n",
       " Max.   :4.000   Max.   :4.000   Max.   :4.000   Max.   :4.000  \n",
       " NA's   :16206   NA's   :16206   NA's   :16206   NA's   :16206  \n",
       "    c1002_11        c1002_12        c1002_13        c1002_14    \n",
       " Min.   :1.000   Min.   :1.000   Min.   :1.000   Min.   :1.000  \n",
       " 1st Qu.:1.000   1st Qu.:1.000   1st Qu.:2.000   1st Qu.:1.000  \n",
       " Median :1.000   Median :1.000   Median :3.000   Median :1.000  \n",
       " Mean   :1.389   Mean   :1.489   Mean   :2.622   Mean   :1.127  \n",
       " 3rd Qu.:2.000   3rd Qu.:2.000   3rd Qu.:3.000   3rd Qu.:1.000  \n",
       " Max.   :4.000   Max.   :4.000   Max.   :4.000   Max.   :3.000  \n",
       " NA's   :16206   NA's   :16206   NA's   :16206   NA's   :16206  \n",
       "    c1002_15        c1002_16        c1002_17        c1002_18    \n",
       " Min.   :1.000   Min.   :1.000   Min.   :1.000   Min.   :1.000  \n",
       " 1st Qu.:1.000   1st Qu.:1.000   1st Qu.:1.000   1st Qu.:1.000  \n",
       " Median :1.000   Median :1.000   Median :1.500   Median :1.000  \n",
       " Mean   :1.452   Mean   :1.251   Mean   :1.644   Mean   :1.157  \n",
       " 3rd Qu.:2.000   3rd Qu.:1.000   3rd Qu.:2.000   3rd Qu.:1.000  \n",
       " Max.   :3.000   Max.   :3.000   Max.   :3.000   Max.   :3.000  \n",
       " NA's   :16206   NA's   :16206   NA's   :16206   NA's   :16206  \n",
       "    c1002_19        c1002_20        c1002_21        c1002_22    \n",
       " Min.   :1.00    Min.   :1.000   Min.   :1.000   Min.   :1.000  \n",
       " 1st Qu.:1.00    1st Qu.:1.000   1st Qu.:1.000   1st Qu.:1.000  \n",
       " Median :1.00    Median :1.000   Median :1.000   Median :1.000  \n",
       " Mean   :1.07    Mean   :1.103   Mean   :1.275   Mean   :1.253  \n",
       " 3rd Qu.:1.00    3rd Qu.:1.000   3rd Qu.:1.000   3rd Qu.:1.000  \n",
       " Max.   :3.00    Max.   :3.000   Max.   :3.000   Max.   :3.000  \n",
       " NA's   :16206   NA's   :16206   NA's   :16206   NA's   :16206  \n",
       "    c1002_23        c1002_24        c1002_25        c1002_26    \n",
       " Min.   :1.000   Min.   :1.000   Min.   :1.00    Min.   :1.000  \n",
       " 1st Qu.:1.000   1st Qu.:1.000   1st Qu.:1.00    1st Qu.:1.000  \n",
       " Median :1.000   Median :1.000   Median :1.00    Median :1.000  \n",
       " Mean   :1.135   Mean   :1.183   Mean   :1.17    Mean   :1.437  \n",
       " 3rd Qu.:1.000   3rd Qu.:1.000   3rd Qu.:1.00    3rd Qu.:2.000  \n",
       " Max.   :3.000   Max.   :3.000   Max.   :3.00    Max.   :3.000  \n",
       " NA's   :16206   NA's   :16206   NA's   :16206   NA's   :16206  \n",
       "   c1002_4aq1       c1002_27        c1002_28        c1002_29    \n",
       " Min.   :1.000   Min.   :1.000   Min.   :1.000   Min.   :1.000  \n",
       " 1st Qu.:1.000   1st Qu.:1.000   1st Qu.:1.000   1st Qu.:1.000  \n",
       " Median :1.000   Median :1.000   Median :1.000   Median :1.000  \n",
       " Mean   :1.317   Mean   :1.214   Mean   :1.365   Mean   :1.301  \n",
       " 3rd Qu.:2.000   3rd Qu.:1.000   3rd Qu.:2.000   3rd Qu.:2.000  \n",
       " Max.   :3.000   Max.   :3.000   Max.   :3.000   Max.   :3.000  \n",
       " NA's   :16206   NA's   :16206   NA's   :16206   NA's   :16206  \n",
       "    c1002_30        c1002_31        c1002_32        c1002_33    \n",
       " Min.   :1.000   Min.   :1.000   Min.   :1.000   Min.   :1.000  \n",
       " 1st Qu.:1.000   1st Qu.:1.000   1st Qu.:1.000   1st Qu.:1.000  \n",
       " Median :1.000   Median :1.000   Median :1.000   Median :1.000  \n",
       " Mean   :1.214   Mean   :1.428   Mean   :1.155   Mean   :1.247  \n",
       " 3rd Qu.:1.000   3rd Qu.:2.000   3rd Qu.:1.000   3rd Qu.:1.000  \n",
       " Max.   :3.000   Max.   :3.000   Max.   :3.000   Max.   :3.000  \n",
       " NA's   :16206   NA's   :16206   NA's   :16206   NA's   :16206  \n",
       "    c1002_34        c1002_35        c1002_36        c1002_37    \n",
       " Min.   :1.000   Min.   :1.000   Min.   :1.000   Min.   :1.000  \n",
       " 1st Qu.:1.000   1st Qu.:1.000   1st Qu.:1.000   1st Qu.:1.000  \n",
       " Median :1.000   Median :1.000   Median :1.000   Median :1.000  \n",
       " Mean   :1.151   Mean   :1.212   Mean   :1.171   Mean   :1.223  \n",
       " 3rd Qu.:1.000   3rd Qu.:1.000   3rd Qu.:1.000   3rd Qu.:1.000  \n",
       " Max.   :3.000   Max.   :3.000   Max.   :3.000   Max.   :3.000  \n",
       " NA's   :16206   NA's   :16206   NA's   :16207   NA's   :16206  \n",
       "    c1002_38        c1002_39        c1002_40        c1002_41    \n",
       " Min.   :1.000   Min.   :1.000   Min.   :1.000   Min.   :1.000  \n",
       " 1st Qu.:1.000   1st Qu.:1.000   1st Qu.:1.000   1st Qu.:1.000  \n",
       " Median :1.000   Median :1.000   Median :1.000   Median :1.000  \n",
       " Mean   :1.301   Mean   :1.133   Mean   :1.325   Mean   :1.384  \n",
       " 3rd Qu.:2.000   3rd Qu.:1.000   3rd Qu.:2.000   3rd Qu.:2.000  \n",
       " Max.   :3.000   Max.   :3.000   Max.   :3.000   Max.   :3.000  \n",
       " NA's   :16206   NA's   :16206   NA's   :16206   NA's   :16206  \n",
       "    c1002_42        c1002_43        c1002_44        c1002_45    \n",
       " Min.   :1.000   Min.   :1.000   Min.   :1.000   Min.   :1.0    \n",
       " 1st Qu.:1.000   1st Qu.:1.000   1st Qu.:1.000   1st Qu.:1.0    \n",
       " Median :1.000   Median :1.000   Median :1.000   Median :1.0    \n",
       " Mean   :1.234   Mean   :1.227   Mean   :1.131   Mean   :1.1    \n",
       " 3rd Qu.:1.000   3rd Qu.:1.000   3rd Qu.:1.000   3rd Qu.:1.0    \n",
       " Max.   :3.000   Max.   :3.000   Max.   :3.000   Max.   :3.0    \n",
       " NA's   :16206   NA's   :16206   NA's   :16206   NA's   :16206  \n",
       "    c1002_46        c1002_47        c1002_48        c1002_49    \n",
       " Min.   :1.00    Min.   :1.000   Min.   :1.000   Min.   :1.00   \n",
       " 1st Qu.:1.00    1st Qu.:1.000   1st Qu.:1.000   1st Qu.:1.00   \n",
       " Median :1.00    Median :1.000   Median :1.000   Median :1.00   \n",
       " Mean   :1.05    Mean   :1.022   Mean   :1.037   Mean   :1.14   \n",
       " 3rd Qu.:1.00    3rd Qu.:1.000   3rd Qu.:1.000   3rd Qu.:1.00   \n",
       " Max.   :3.00    Max.   :3.000   Max.   :3.000   Max.   :3.00   \n",
       " NA's   :16206   NA's   :16206   NA's   :16206   NA's   :16206  \n",
       "    c1002_50        c1002_51        c1002_52        c1002_53    \n",
       " Min.   :1.000   Min.   :1.000   Min.   :1.000   Min.   :1.000  \n",
       " 1st Qu.:1.000   1st Qu.:1.000   1st Qu.:1.000   1st Qu.:1.000  \n",
       " Median :1.000   Median :1.000   Median :1.000   Median :1.000  \n",
       " Mean   :1.144   Mean   :1.009   Mean   :1.002   Mean   :1.009  \n",
       " 3rd Qu.:1.000   3rd Qu.:1.000   3rd Qu.:1.000   3rd Qu.:1.000  \n",
       " Max.   :3.000   Max.   :2.000   Max.   :2.000   Max.   :2.000  \n",
       " NA's   :16206   NA's   :16206   NA's   :16206   NA's   :16206  \n",
       "    c1002_54        c1002_55        c1002_56        c1002_57    \n",
       " Min.   :1.000   Min.   :1.000   Min.   :1.000   Min.   :1.000  \n",
       " 1st Qu.:1.000   1st Qu.:1.000   1st Qu.:1.000   1st Qu.:1.000  \n",
       " Median :1.000   Median :1.000   Median :1.000   Median :1.000  \n",
       " Mean   :1.179   Mean   :1.068   Mean   :1.004   Mean   :1.002  \n",
       " 3rd Qu.:1.000   3rd Qu.:1.000   3rd Qu.:1.000   3rd Qu.:1.000  \n",
       " Max.   :3.000   Max.   :3.000   Max.   :2.000   Max.   :2.000  \n",
       " NA's   :16206   NA's   :16206   NA's   :16206   NA's   :16206  \n",
       "    c1002_58       c1002_4aq2       c1002_59        c1002_60    \n",
       " Min.   :1.000   Min.   :1.000   Min.   :1.000   Min.   :1.000  \n",
       " 1st Qu.:1.000   1st Qu.:1.000   1st Qu.:1.000   1st Qu.:1.000  \n",
       " Median :1.000   Median :1.000   Median :1.000   Median :1.000  \n",
       " Mean   :1.009   Mean   :1.013   Mean   :1.231   Mean   :1.105  \n",
       " 3rd Qu.:1.000   3rd Qu.:1.000   3rd Qu.:1.000   3rd Qu.:1.000  \n",
       " Max.   :2.000   Max.   :3.000   Max.   :3.000   Max.   :3.000  \n",
       " NA's   :16206   NA's   :16206   NA's   :16206   NA's   :16206  \n",
       "    c1002_61        c1002_62        c1002_63        c1002_64    \n",
       " Min.   :1.000   Min.   :1.000   Min.   :1.00    Min.   :1.000  \n",
       " 1st Qu.:1.000   1st Qu.:1.000   1st Qu.:1.00    1st Qu.:1.000  \n",
       " Median :1.000   Median :1.000   Median :1.00    Median :1.000  \n",
       " Mean   :1.022   Mean   :1.303   Mean   :1.02    Mean   :1.013  \n",
       " 3rd Qu.:1.000   3rd Qu.:2.000   3rd Qu.:1.00    3rd Qu.:1.000  \n",
       " Max.   :3.000   Max.   :3.000   Max.   :2.00    Max.   :3.000  \n",
       " NA's   :16206   NA's   :16206   NA's   :16206   NA's   :16206  \n",
       "    c1002_65        c1002_66        c1002_67        c1002_68    \n",
       " Min.   :1.000   Min.   :1.000   Min.   :1.00    Min.   :1.000  \n",
       " 1st Qu.:1.000   1st Qu.:1.000   1st Qu.:1.00    1st Qu.:1.000  \n",
       " Median :1.000   Median :1.000   Median :1.00    Median :1.000  \n",
       " Mean   :1.242   Mean   :1.061   Mean   :1.19    Mean   :1.127  \n",
       " 3rd Qu.:1.000   3rd Qu.:1.000   3rd Qu.:1.00    3rd Qu.:1.000  \n",
       " Max.   :3.000   Max.   :3.000   Max.   :3.00    Max.   :3.000  \n",
       " NA's   :16206   NA's   :16206   NA's   :16206   NA's   :16206  \n",
       "    c1002_69        c1002_70        c1002_71        c1002_72    \n",
       " Min.   :1.000   Min.   :1.000   Min.   :1.000   Min.   :1.000  \n",
       " 1st Qu.:1.000   1st Qu.:1.000   1st Qu.:1.000   1st Qu.:1.000  \n",
       " Median :1.000   Median :1.000   Median :1.000   Median :1.000  \n",
       " Mean   :1.055   Mean   :1.116   Mean   :1.092   Mean   :1.223  \n",
       " 3rd Qu.:1.000   3rd Qu.:1.000   3rd Qu.:1.000   3rd Qu.:1.000  \n",
       " Max.   :3.000   Max.   :3.000   Max.   :3.000   Max.   :3.000  \n",
       " NA's   :16206   NA's   :16206   NA's   :16206   NA's   :16206  \n",
       "    c1002_73        c1002_74        c1002_75        c1002_76    \n",
       " Min.   :1.000   Min.   :1.000   Min.   :1.000   Min.   :1.000  \n",
       " 1st Qu.:1.000   1st Qu.:1.000   1st Qu.:1.000   1st Qu.:1.000  \n",
       " Median :1.000   Median :1.000   Median :1.000   Median :1.000  \n",
       " Mean   :1.277   Mean   :1.253   Mean   :1.116   Mean   :1.057  \n",
       " 3rd Qu.:1.000   3rd Qu.:1.000   3rd Qu.:1.000   3rd Qu.:1.000  \n",
       " Max.   :3.000   Max.   :3.000   Max.   :3.000   Max.   :3.000  \n",
       " NA's   :16206   NA's   :16206   NA's   :16206   NA's   :16206  \n",
       "    c1002_77       c1002_7aq1      c1002_7aq2      c1002_7aq3   \n",
       " Min.   :1.000   Min.   :0.000   Min.   :0.000   Min.   :0.000  \n",
       " 1st Qu.:1.000   1st Qu.:0.000   1st Qu.:0.000   1st Qu.:0.000  \n",
       " Median :1.000   Median :0.000   Median :0.000   Median :0.000  \n",
       " Mean   :1.017   Mean   :0.347   Mean   :0.262   Mean   :0.201  \n",
       " 3rd Qu.:1.000   3rd Qu.:0.000   3rd Qu.:0.000   3rd Qu.:0.000  \n",
       " Max.   :3.000   Max.   :6.000   Max.   :6.000   Max.   :6.000  \n",
       " NA's   :16206   NA's   :16206   NA's   :16206   NA's   :16206  \n",
       "   c1002_7aq4      c1002_7aq5      c1002_7aq6      c1002_7aq7   \n",
       " Min.   :0.000   Min.   :0.000   Min.   :0.000   Min.   :1.000  \n",
       " 1st Qu.:0.000   1st Qu.:0.000   1st Qu.:0.000   1st Qu.:2.000  \n",
       " Median :0.000   Median :0.000   Median :0.000   Median :2.000  \n",
       " Mean   :0.258   Mean   :0.225   Mean   :0.258   Mean   :1.991  \n",
       " 3rd Qu.:0.000   3rd Qu.:0.000   3rd Qu.:0.000   3rd Qu.:2.000  \n",
       " Max.   :6.000   Max.   :5.000   Max.   :6.000   Max.   :2.000  \n",
       " NA's   :16206   NA's   :16206   NA's   :16206   NA's   :16206  \n",
       "   c1002_7aq8      c1002_7aq9     c1002_7aq10     c1002_7aq11   \n",
       " Min.   :1.00    Min.   :1.000   Min.   :1.000   Min.   :1.000  \n",
       " 1st Qu.:1.00    1st Qu.:4.000   1st Qu.:4.000   1st Qu.:4.000  \n",
       " Median :1.50    Median :4.000   Median :5.000   Median :5.000  \n",
       " Mean   :2.25    Mean   :4.269   Mean   :4.229   Mean   :4.356  \n",
       " 3rd Qu.:2.75    3rd Qu.:5.000   3rd Qu.:5.000   3rd Qu.:5.000  \n",
       " Max.   :5.00    Max.   :5.000   Max.   :5.000   Max.   :5.000  \n",
       " NA's   :16660   NA's   :16206   NA's   :16206   NA's   :16206  \n",
       "  c1002_7aq12     c1002_7aq13     c1002_7aq14       c1002_78    \n",
       " Min.   :1.000   Min.   :1.000   Min.   :1.000   Min.   :0.000  \n",
       " 1st Qu.:3.000   1st Qu.:4.000   1st Qu.:1.000   1st Qu.:0.000  \n",
       " Median :4.000   Median :4.000   Median :1.000   Median :0.000  \n",
       " Mean   :3.644   Mean   :4.223   Mean   :1.541   Mean   :0.057  \n",
       " 3rd Qu.:5.000   3rd Qu.:5.000   3rd Qu.:2.000   3rd Qu.:0.000  \n",
       " Max.   :5.000   Max.   :5.000   Max.   :5.000   Max.   :5.000  \n",
       " NA's   :16206   NA's   :16206   NA's   :16206   NA's   :16206  \n",
       "    c1002_79        c1002_80         c1002_81        c1002_82    \n",
       " Min.   :0       Min.   : 0.000   Min.   :0       Min.   :0.000  \n",
       " 1st Qu.:0       1st Qu.: 0.000   1st Qu.:0       1st Qu.:0.000  \n",
       " Median :0       Median : 0.000   Median :0       Median :0.000  \n",
       " Mean   :0       Mean   : 0.201   Mean   :0       Mean   :0.002  \n",
       " 3rd Qu.:0       3rd Qu.: 0.000   3rd Qu.:0       3rd Qu.:0.000  \n",
       " Max.   :0       Max.   :80.000   Max.   :0       Max.   :1.000  \n",
       " NA's   :16220   NA's   :16207    NA's   :16211   NA's   :16210  \n",
       "    c1002_83        c1002_84        c1002_85        c1002_86    \n",
       " Min.   :1.000   Min.   :1.000   Min.   :1.000   Min.   :1.000  \n",
       " 1st Qu.:1.000   1st Qu.:1.000   1st Qu.:1.000   1st Qu.:1.000  \n",
       " Median :1.000   Median :1.000   Median :1.000   Median :1.000  \n",
       " Mean   :1.072   Mean   :1.048   Mean   :1.015   Mean   :1.046  \n",
       " 3rd Qu.:1.000   3rd Qu.:1.000   3rd Qu.:1.000   3rd Qu.:1.000  \n",
       " Max.   :6.000   Max.   :3.000   Max.   :6.000   Max.   :5.000  \n",
       " NA's   :16206   NA's   :16206   NA's   :16206   NA's   :16206  \n",
       "    c1002_87        c1002_88        c1002_89        c1002_90    \n",
       " Min.   :1.00    Min.   :1.000   Min.   :1       Min.   :1.000  \n",
       " 1st Qu.:1.00    1st Qu.:1.000   1st Qu.:1       1st Qu.:1.000  \n",
       " Median :1.00    Median :1.000   Median :1       Median :1.000  \n",
       " Mean   :1.02    Mean   :1.009   Mean   :1       Mean   :1.044  \n",
       " 3rd Qu.:1.00    3rd Qu.:1.000   3rd Qu.:1       3rd Qu.:1.000  \n",
       " Max.   :5.00    Max.   :2.000   Max.   :1       Max.   :6.000  \n",
       " NA's   :16206   NA's   :16206   NA's   :16206   NA's   :16206  \n",
       "    c1002_91        c1002_92        c1002_93        c1002_94    \n",
       " Min.   :1.000   Min.   :1.000   Min.   :1.000   Min.   :1.000  \n",
       " 1st Qu.:1.000   1st Qu.:1.000   1st Qu.:1.000   1st Qu.:1.000  \n",
       " Median :1.000   Median :1.000   Median :1.000   Median :1.000  \n",
       " Mean   :1.028   Mean   :1.002   Mean   :1.448   Mean   :1.203  \n",
       " 3rd Qu.:1.000   3rd Qu.:1.000   3rd Qu.:1.000   3rd Qu.:1.000  \n",
       " Max.   :6.000   Max.   :2.000   Max.   :4.000   Max.   :4.000  \n",
       " NA's   :16206   NA's   :16206   NA's   :16206   NA's   :16206  \n",
       "    c1002_95        c1002_96        c1002_97        c1002_98    \n",
       " Min.   :1.00    Min.   :1.000   Min.   :1.000   Min.   :1.000  \n",
       " 1st Qu.:1.00    1st Qu.:1.000   1st Qu.:1.000   1st Qu.:1.000  \n",
       " Median :1.00    Median :1.000   Median :1.000   Median :1.000  \n",
       " Mean   :1.17    Mean   :1.059   Mean   :1.009   Mean   :1.087  \n",
       " 3rd Qu.:1.00    3rd Qu.:1.000   3rd Qu.:1.000   3rd Qu.:1.000  \n",
       " Max.   :4.00    Max.   :4.000   Max.   :3.000   Max.   :4.000  \n",
       " NA's   :16206   NA's   :16206   NA's   :16206   NA's   :16206  \n",
       "   c1002_4aq3       c1002_4aq4       c1002_4aq5       c1002_4aq6    \n",
       " Min.   : 1.000   Min.   : 1.000   Min.   : 1.000   Min.   : 1.000  \n",
       " 1st Qu.: 3.000   1st Qu.: 2.000   1st Qu.: 2.000   1st Qu.: 2.000  \n",
       " Median : 4.000   Median : 2.500   Median : 2.000   Median : 2.000  \n",
       " Mean   : 3.688   Mean   : 3.179   Mean   : 3.041   Mean   : 2.906  \n",
       " 3rd Qu.: 4.000   3rd Qu.: 4.000   3rd Qu.: 5.000   3rd Qu.: 5.000  \n",
       " Max.   :10.000   Max.   :99.000   Max.   :10.000   Max.   :10.000  \n",
       " NA's   :16206    NA's   :16206    NA's   :16206    NA's   :16206   \n",
       "   c1002_4aq7      c1002_4aq8     c1002_7aq15      c1003_4aq1   \n",
       " Min.   :1.000   Min.   :1.000   Min.   :1.000   Min.   :1.000  \n",
       " 1st Qu.:2.000   1st Qu.:1.000   1st Qu.:1.000   1st Qu.:3.000  \n",
       " Median :3.000   Median :2.000   Median :1.000   Median :3.000  \n",
       " Mean   :2.531   Mean   :1.956   Mean   :1.031   Mean   :3.018  \n",
       " 3rd Qu.:3.000   3rd Qu.:2.000   3rd Qu.:1.000   3rd Qu.:4.000  \n",
       " Max.   :4.000   Max.   :4.000   Max.   :2.000   Max.   :4.000  \n",
       " NA's   :16206   NA's   :16527   NA's   :16206   NA's   :16220  \n",
       "   c1003_4aq2      c1003_4aq3      c1003_4aq4      c1003_4aq5   \n",
       " Min.   :1.000   Min.   :1.000   Min.   :1.000   Min.   :1.000  \n",
       " 1st Qu.:2.000   1st Qu.:2.000   1st Qu.:3.000   1st Qu.:3.000  \n",
       " Median :2.000   Median :2.000   Median :3.000   Median :3.000  \n",
       " Mean   :2.207   Mean   :2.484   Mean   :3.081   Mean   :3.162  \n",
       " 3rd Qu.:3.000   3rd Qu.:3.000   3rd Qu.:4.000   3rd Qu.:4.000  \n",
       " Max.   :4.000   Max.   :4.000   Max.   :4.000   Max.   :4.000  \n",
       " NA's   :16220   NA's   :16220   NA's   :16220   NA's   :16220  \n",
       "   c1003_4aq6      c1003_4aq7      c1003_4aq8      c1003_4aq9   \n",
       " Min.   :1.000   Min.   :1.000   Min.   :1.000   Min.   :1.000  \n",
       " 1st Qu.:3.000   1st Qu.:3.000   1st Qu.:3.000   1st Qu.:1.000  \n",
       " Median :3.000   Median :3.000   Median :3.000   Median :1.000  \n",
       " Mean   :3.365   Mean   :3.083   Mean   :3.173   Mean   :1.261  \n",
       " 3rd Qu.:4.000   3rd Qu.:4.000   3rd Qu.:4.000   3rd Qu.:1.000  \n",
       " Max.   :4.000   Max.   :4.000   Max.   :4.000   Max.   :5.000  \n",
       " NA's   :16220   NA's   :16220   NA's   :16220   NA's   :16220  \n",
       "    c1003_6         c1003_7         c1003_8         c1003_9     \n",
       " Min.   :1.00    Min.   :1.000   Min.   :1.000   Min.   :1.000  \n",
       " 1st Qu.:1.00    1st Qu.:1.000   1st Qu.:1.000   1st Qu.:1.000  \n",
       " Median :1.00    Median :1.000   Median :1.000   Median :1.000  \n",
       " Mean   :1.25    Mean   :1.142   Mean   :1.203   Mean   :1.164  \n",
       " 3rd Qu.:1.00    3rd Qu.:1.000   3rd Qu.:1.000   3rd Qu.:1.000  \n",
       " Max.   :5.00    Max.   :5.000   Max.   :5.000   Max.   :5.000  \n",
       " NA's   :16220   NA's   :16220   NA's   :16220   NA's   :16220  \n",
       "    c1003_13        c1003_14        c1003_15       c1004_4aq1   \n",
       " Min.   :1.000   Min.   :1.000   Min.   :1.000   Min.   : 1.00  \n",
       " 1st Qu.:1.000   1st Qu.:1.000   1st Qu.:1.000   1st Qu.: 5.00  \n",
       " Median :1.000   Median :1.000   Median :1.000   Median :10.00  \n",
       " Mean   :1.029   Mean   :1.009   Mean   :1.014   Mean   :14.07  \n",
       " 3rd Qu.:1.000   3rd Qu.:1.000   3rd Qu.:1.000   3rd Qu.:20.00  \n",
       " Max.   :5.000   Max.   :3.000   Max.   :5.000   Max.   :90.00  \n",
       " NA's   :16220   NA's   :16220   NA's   :16220   NA's   :16206  \n",
       "   c1004_4aq2      c1004_4aq3      c1004_4aq4      c1004_4aq5   \n",
       " Min.   :1.000   Min.   :1.000   Min.   :1.000   Min.   :1.000  \n",
       " 1st Qu.:1.000   1st Qu.:4.000   1st Qu.:4.000   1st Qu.:4.000  \n",
       " Median :1.000   Median :5.000   Median :5.000   Median :4.000  \n",
       " Mean   :1.319   Mean   :4.592   Mean   :4.572   Mean   :4.066  \n",
       " 3rd Qu.:1.000   3rd Qu.:5.000   3rd Qu.:5.000   3rd Qu.:5.000  \n",
       " Max.   :6.000   Max.   :5.000   Max.   :5.000   Max.   :5.000  \n",
       " NA's   :16206   NA's   :16206   NA's   :16206   NA's   :16206  \n",
       "   c1004_4aq6       c1004_1         c1004_2         c1004_3     \n",
       " Min.   :1.00    Min.   :1.000   Min.   :1.000   Min.   :1.000  \n",
       " 1st Qu.:3.00    1st Qu.:3.000   1st Qu.:3.000   1st Qu.:3.000  \n",
       " Median :4.00    Median :3.000   Median :3.000   Median :3.000  \n",
       " Mean   :3.81    Mean   :3.264   Mean   :3.376   Mean   :3.216  \n",
       " 3rd Qu.:5.00    3rd Qu.:4.000   3rd Qu.:4.000   3rd Qu.:4.000  \n",
       " Max.   :5.00    Max.   :4.000   Max.   :4.000   Max.   :4.000  \n",
       " NA's   :16206   NA's   :16206   NA's   :16206   NA's   :16206  \n",
       "    c1004_4         c1004_5         c1004_6         c1004_7     \n",
       " Min.   :1.000   Min.   :1.000   Min.   :1.000   Min.   :1.000  \n",
       " 1st Qu.:1.000   1st Qu.:1.000   1st Qu.:1.000   1st Qu.:1.000  \n",
       " Median :1.000   Median :1.000   Median :1.000   Median :1.000  \n",
       " Mean   :1.048   Mean   :1.044   Mean   :1.083   Mean   :1.052  \n",
       " 3rd Qu.:1.000   3rd Qu.:1.000   3rd Qu.:1.000   3rd Qu.:1.000  \n",
       " Max.   :4.000   Max.   :3.000   Max.   :4.000   Max.   :4.000  \n",
       " NA's   :16206   NA's   :16206   NA's   :16206   NA's   :16206  \n",
       "    c1004_8         c1004_9         c1004_10       c1004_4aq7   \n",
       " Min.   :1.000   Min.   :1.00    Min.   :1.000   Min.   :0.000  \n",
       " 1st Qu.:1.000   1st Qu.:3.00    1st Qu.:3.000   1st Qu.:0.000  \n",
       " Median :1.000   Median :3.00    Median :4.000   Median :0.000  \n",
       " Mean   :1.037   Mean   :3.41    Mean   :3.605   Mean   :0.039  \n",
       " 3rd Qu.:1.000   3rd Qu.:4.00    3rd Qu.:4.000   3rd Qu.:0.000  \n",
       " Max.   :4.000   Max.   :4.00    Max.   :4.000   Max.   :5.000  \n",
       " NA's   :16206   NA's   :16206   NA's   :16206   NA's   :16206  \n",
       "   c1004_4aq8       c1005_12        c1005_13        c1005_14    \n",
       " Min.   :0.000   Min.   :1.00    Min.   :1.000   Min.   :1.000  \n",
       " 1st Qu.:0.000   1st Qu.:1.00    1st Qu.:2.000   1st Qu.:2.000  \n",
       " Median :0.000   Median :1.00    Median :2.000   Median :2.000  \n",
       " Mean   :0.022   Mean   :1.62    Mean   :2.459   Mean   :1.952  \n",
       " 3rd Qu.:0.000   3rd Qu.:2.00    3rd Qu.:3.000   3rd Qu.:2.000  \n",
       " Max.   :6.000   Max.   :5.00    Max.   :8.000   Max.   :2.000  \n",
       " NA's   :16206   NA's   :16206   NA's   :16206   NA's   :16206  \n",
       "    c1005_15        c1005_16        c1005_17       c1005_4aq1   \n",
       " Min.   :1.000   Min.   :120.0   Min.   :22.00   Min.   :1.000  \n",
       " 1st Qu.:1.000   1st Qu.:140.0   1st Qu.:32.00   1st Qu.:2.000  \n",
       " Median :1.000   Median :145.0   Median :38.00   Median :2.000  \n",
       " Mean   :1.136   Mean   :144.8   Mean   :39.64   Mean   :1.993  \n",
       " 3rd Qu.:1.000   3rd Qu.:150.0   3rd Qu.:45.00   3rd Qu.:2.000  \n",
       " Max.   :3.000   Max.   :170.0   Max.   :80.00   Max.   :2.000  \n",
       " NA's   :16642   NA's   :16206   NA's   :16206   NA's   :16206  \n",
       "    c1005_18        c1005_19       c1005_7aq1      c1005_7aq2   \n",
       "        :16206          :16206   Min.   :1.000   Min.   :1.00   \n",
       " 0100   :   82   0100   :   93   1st Qu.:1.000   1st Qu.:1.00   \n",
       " 0200   :   69   0030   :   80   Median :1.000   Median :1.00   \n",
       " 0130   :   47   0000   :   67   Mean   :1.294   Mean   :1.22   \n",
       " 0300   :   47   0130   :   33   3rd Qu.:1.000   3rd Qu.:1.00   \n",
       " 0030   :   40   0200   :   31   Max.   :9.000   Max.   :9.00   \n",
       " (Other):  173   (Other):  154   NA's   :16273   NA's   :16273  \n",
       "   c1005_7aq3      c1005_7aq4      c1005_7aq5      c1005_7aq6   \n",
       " Min.   :1.000   Min.   :1.000   Min.   :1.000   Min.   :1.000  \n",
       " 1st Qu.:1.000   1st Qu.:1.000   1st Qu.:1.000   1st Qu.:1.000  \n",
       " Median :1.000   Median :1.000   Median :1.000   Median :1.000  \n",
       " Mean   :1.317   Mean   :1.074   Mean   :1.389   Mean   :1.366  \n",
       " 3rd Qu.:1.000   3rd Qu.:1.000   3rd Qu.:2.000   3rd Qu.:2.000  \n",
       " Max.   :9.000   Max.   :9.000   Max.   :9.000   Max.   :9.000  \n",
       " NA's   :16273   NA's   :16273   NA's   :16273   NA's   :16273  \n",
       "   c1005_7aq7      c1005_7aq8      c1005_7aq9     c1005_7aq10   \n",
       " Min.   :1.000   Min.   :1.000   Min.   :1.00    Min.   :1.000  \n",
       " 1st Qu.:1.000   1st Qu.:1.000   1st Qu.:1.00    1st Qu.:1.000  \n",
       " Median :1.000   Median :1.000   Median :1.00    Median :1.000  \n",
       " Mean   :1.294   Mean   :1.138   Mean   :1.24    Mean   :1.263  \n",
       " 3rd Qu.:1.000   3rd Qu.:1.000   3rd Qu.:1.00    3rd Qu.:1.000  \n",
       " Max.   :9.000   Max.   :9.000   Max.   :9.00    Max.   :9.000  \n",
       " NA's   :16273   NA's   :16273   NA's   :16273   NA's   :16273  \n",
       "  c1005_7aq11     c1005_7aq12     c1005_7aq13     c1005_7aq14   \n",
       " Min.   :1.000   Min.   :1.000   Min.   :1.000   Min.   :1.000  \n",
       " 1st Qu.:1.000   1st Qu.:1.000   1st Qu.:1.000   1st Qu.:1.000  \n",
       " Median :1.000   Median :1.000   Median :1.000   Median :1.000  \n",
       " Mean   :1.095   Mean   :1.125   Mean   :1.107   Mean   :1.164  \n",
       " 3rd Qu.:1.000   3rd Qu.:1.000   3rd Qu.:1.000   3rd Qu.:1.000  \n",
       " Max.   :9.000   Max.   :9.000   Max.   :9.000   Max.   :9.000  \n",
       " NA's   :16273   NA's   :16273   NA's   :16273   NA's   :16273  \n",
       "  c1005_7aq15     c1005_7aq16     c1005_7aq17     c1005_7aq18   \n",
       " Min.   :1.000   Min.   :1.000   Min.   :1.000   Min.   :1.000  \n",
       " 1st Qu.:1.000   1st Qu.:1.000   1st Qu.:1.000   1st Qu.:1.000  \n",
       " Median :1.000   Median :1.000   Median :1.000   Median :1.000  \n",
       " Mean   :1.197   Mean   :1.092   Mean   :1.332   Mean   :1.302  \n",
       " 3rd Qu.:1.000   3rd Qu.:1.000   3rd Qu.:2.000   3rd Qu.:1.000  \n",
       " Max.   :9.000   Max.   :9.000   Max.   :9.000   Max.   :9.000  \n",
       " NA's   :16273   NA's   :16273   NA's   :16273   NA's   :16273  \n",
       "  c1005_7aq19     c1005_7aq20       c1005_20        c1005_21    \n",
       " Min.   :1.000   Min.   :1.000   Min.   :2       Min.   : NA    \n",
       " 1st Qu.:1.000   1st Qu.:1.000   1st Qu.:2       1st Qu.: NA    \n",
       " Median :1.000   Median :1.000   Median :2       Median : NA    \n",
       " Mean   :1.465   Mean   :1.355   Mean   :2       Mean   :NaN    \n",
       " 3rd Qu.:2.000   3rd Qu.:1.000   3rd Qu.:2       3rd Qu.: NA    \n",
       " Max.   :9.000   Max.   :9.000   Max.   :2       Max.   : NA    \n",
       " NA's   :16273   NA's   :16273   NA's   :16206   NA's   :16664  \n",
       "    c1005_22        c1005_23        c1005_24        c1005_25    \n",
       " Min.   : NA     Min.   : NA     Min.   : NA     Min.   : NA    \n",
       " 1st Qu.: NA     1st Qu.: NA     1st Qu.: NA     1st Qu.: NA    \n",
       " Median : NA     Median : NA     Median : NA     Median : NA    \n",
       " Mean   :NaN     Mean   :NaN     Mean   :NaN     Mean   :NaN    \n",
       " 3rd Qu.: NA     3rd Qu.: NA     3rd Qu.: NA     3rd Qu.: NA    \n",
       " Max.   : NA     Max.   : NA     Max.   : NA     Max.   : NA    \n",
       " NA's   :16664   NA's   :16664   NA's   :16664   NA's   :16664  \n",
       "    c1005_26        c1005_27        c1005_28        c1005_29    \n",
       " Min.   : NA     Min.   : NA     Min.   : NA     Min.   : NA    \n",
       " 1st Qu.: NA     1st Qu.: NA     1st Qu.: NA     1st Qu.: NA    \n",
       " Median : NA     Median : NA     Median : NA     Median : NA    \n",
       " Mean   :NaN     Mean   :NaN     Mean   :NaN     Mean   :NaN    \n",
       " 3rd Qu.: NA     3rd Qu.: NA     3rd Qu.: NA     3rd Qu.: NA    \n",
       " Max.   : NA     Max.   : NA     Max.   : NA     Max.   : NA    \n",
       " NA's   :16664   NA's   :16664   NA's   :16664   NA's   :16664  \n",
       "    c1005_30        c1005_31        c1005_32        c1005_36    \n",
       " Min.   : NA     Min.   : NA     Min.   : NA     Min.   :1.000  \n",
       " 1st Qu.: NA     1st Qu.: NA     1st Qu.: NA     1st Qu.:2.000  \n",
       " Median : NA     Median : NA     Median : NA     Median :2.000  \n",
       " Mean   :NaN     Mean   :NaN     Mean   :NaN     Mean   :1.926  \n",
       " 3rd Qu.: NA     3rd Qu.: NA     3rd Qu.: NA     3rd Qu.:2.000  \n",
       " Max.   : NA     Max.   : NA     Max.   : NA     Max.   :2.000  \n",
       " NA's   :16664   NA's   :16664   NA's   :16664   NA's   :16206  \n",
       "   c1005_4aq2        c1005_38       c1005_4aq3       c1005_40    \n",
       " Min.   : 1.000   Min.   :1.000   Min.   : 1.00   Min.   :1.000  \n",
       " 1st Qu.: 1.000   1st Qu.:1.000   1st Qu.: 4.00   1st Qu.:2.000  \n",
       " Median : 1.500   Median :2.000   Median : 8.00   Median :2.000  \n",
       " Mean   : 3.176   Mean   :1.638   Mean   :10.79   Mean   :1.965  \n",
       " 3rd Qu.: 3.000   3rd Qu.:2.000   3rd Qu.:20.00   3rd Qu.:2.000  \n",
       " Max.   :30.000   Max.   :2.000   Max.   :30.00   Max.   :2.000  \n",
       " NA's   :16630    NA's   :16206   NA's   :16498   NA's   :16206  \n",
       "  c1005_10aq1        c1005_42       c1005_4aq4       c1005_44    \n",
       " Min.   : 1.000   Min.   :1.000   Min.   : 1.0    Min.   :1.000  \n",
       " 1st Qu.: 1.000   1st Qu.:2.000   1st Qu.: 1.0    1st Qu.:1.000  \n",
       " Median : 3.000   Median :2.000   Median : 3.0    Median :2.000  \n",
       " Mean   : 3.562   Mean   :1.967   Mean   : 9.4    Mean   :1.644  \n",
       " 3rd Qu.: 4.250   3rd Qu.:2.000   3rd Qu.: 9.0    3rd Qu.:2.000  \n",
       " Max.   :10.000   Max.   :2.000   Max.   :48.0    Max.   :2.000  \n",
       " NA's   :16648    NA's   :16206   NA's   :16649   NA's   :16206  \n",
       "   c1005_4aq5        c1005_46       c1005_4aq6        c1005_48    \n",
       " Min.   : 1.000   Min.   :1.000   Min.   : 1.000   Min.   :1.000  \n",
       " 1st Qu.: 1.000   1st Qu.:1.000   1st Qu.: 2.000   1st Qu.:2.000  \n",
       " Median : 1.000   Median :1.000   Median : 2.000   Median :2.000  \n",
       " Mean   : 2.104   Mean   :1.441   Mean   : 3.613   Mean   :1.948  \n",
       " 3rd Qu.: 2.000   3rd Qu.:2.000   3rd Qu.: 4.000   3rd Qu.:2.000  \n",
       " Max.   :20.000   Max.   :2.000   Max.   :30.000   Max.   :2.000  \n",
       " NA's   :16501    NA's   :16206   NA's   :16408    NA's   :16206  \n",
       "   c1005_4aq7       c1005_4aq8      c1005_4aq9      c1005_4aq10   \n",
       " Min.   : 1.000   Min.   :1.000   Min.   : 1.000   Min.   :1.00   \n",
       " 1st Qu.: 1.750   1st Qu.:1.000   1st Qu.: 3.000   1st Qu.:1.00   \n",
       " Median : 2.000   Median :2.000   Median : 4.000   Median :2.00   \n",
       " Mean   : 5.083   Mean   :1.666   Mean   : 7.366   Mean   :1.55   \n",
       " 3rd Qu.: 2.500   3rd Qu.:2.000   3rd Qu.:10.000   3rd Qu.:2.00   \n",
       " Max.   :50.000   Max.   :2.000   Max.   :50.000   Max.   :2.00   \n",
       " NA's   :16640    NA's   :16206   NA's   :16511    NA's   :16206  \n",
       "  c1005_4aq11     c1005_4aq12     c1005_4aq13     c1005_4aq14   \n",
       " Min.   : 1.00   Min.   :1.000   Min.   : 1.0    Min.   :1.000  \n",
       " 1st Qu.: 4.00   1st Qu.:2.000   1st Qu.: 1.0    1st Qu.:2.000  \n",
       " Median : 5.00   Median :2.000   Median : 2.0    Median :2.000  \n",
       " Mean   :10.62   Mean   :1.902   Mean   : 2.4    Mean   :1.932  \n",
       " 3rd Qu.:20.00   3rd Qu.:2.000   3rd Qu.: 2.0    3rd Qu.:2.000  \n",
       " Max.   :55.00   Max.   :2.000   Max.   :12.0    Max.   :2.000  \n",
       " NA's   :16458   NA's   :16206   NA's   :16619   NA's   :16206  \n",
       "  c1005_4aq15      c1007_4aq1       c1007_4aq2       c1007_7aq1    \n",
       " Min.   :1.000   Min.   :   1.0   Min.   :   1.0   Min.   : 1.000  \n",
       " 1st Qu.:1.000   1st Qu.:   8.0   1st Qu.:   8.0   1st Qu.: 5.000  \n",
       " Median :1.000   Median :  14.0   Median :  15.0   Median :10.000  \n",
       " Mean   :1.387   Mean   : 144.2   Mean   : 689.4   Mean   : 8.699  \n",
       " 3rd Qu.:2.000   3rd Qu.:  16.0   3rd Qu.:  17.0   3rd Qu.:10.000  \n",
       " Max.   :3.000   Max.   :9999.0   Max.   :9999.0   Max.   :18.000  \n",
       " NA's   :16633   NA's   :16206    NA's   :16206    NA's   :16212   \n",
       "   c1007_7aq2       c1007_7aq3      c1007_4aq3      c1007_4aq4   \n",
       " Min.   : 1.000   Min.   :0.000   Min.   :1.000   Min.   :1.000  \n",
       " 1st Qu.: 3.000   1st Qu.:3.000   1st Qu.:3.000   1st Qu.:1.000  \n",
       " Median :10.000   Median :4.000   Median :3.000   Median :1.000  \n",
       " Mean   : 9.349   Mean   :3.323   Mean   :3.297   Mean   :1.496  \n",
       " 3rd Qu.:15.000   3rd Qu.:4.000   3rd Qu.:4.000   3rd Qu.:2.000  \n",
       " Max.   :99.000   Max.   :9.000   Max.   :4.000   Max.   :4.000  \n",
       " NA's   :16260    NA's   :16206   NA's   :16206   NA's   :16206  \n",
       "   c1007_4aq5      c1007_4aq6      c1007_4aq7      c1007_4aq8   \n",
       " Min.   :1.000   Min.   :1.000   Min.   :1.000   Min.   :1.000  \n",
       " 1st Qu.:1.000   1st Qu.:1.000   1st Qu.:2.000   1st Qu.:3.000  \n",
       " Median :2.000   Median :2.000   Median :3.000   Median :3.000  \n",
       " Mean   :1.644   Mean   :1.819   Mean   :2.808   Mean   :3.238  \n",
       " 3rd Qu.:2.000   3rd Qu.:2.000   3rd Qu.:3.000   3rd Qu.:4.000  \n",
       " Max.   :4.000   Max.   :4.000   Max.   :4.000   Max.   :4.000  \n",
       " NA's   :16206   NA's   :16206   NA's   :16206   NA's   :16206  \n",
       "   c1007_4aq9     c1007_4aq10     c1007_4aq11     c1007_4aq12   \n",
       " Min.   :1.000   Min.   :1.000   Min.   :1.000   Min.   :1.000  \n",
       " 1st Qu.:1.000   1st Qu.:3.000   1st Qu.:1.000   1st Qu.:1.000  \n",
       " Median :2.000   Median :3.000   Median :1.000   Median :1.000  \n",
       " Mean   :1.983   Mean   :3.046   Mean   :1.622   Mean   :1.568  \n",
       " 3rd Qu.:3.000   3rd Qu.:4.000   3rd Qu.:2.000   3rd Qu.:2.000  \n",
       " Max.   :4.000   Max.   :4.000   Max.   :4.000   Max.   :4.000  \n",
       " NA's   :16206   NA's   :16206   NA's   :16206   NA's   :16206  \n",
       "  c1007_4aq13     c1007_4aq14     c1007_4aq15     c1007_4aq16   \n",
       " Min.   :1.000   Min.   :1.000   Min.   :1.000   Min.   :1.000  \n",
       " 1st Qu.:3.000   1st Qu.:1.000   1st Qu.:2.000   1st Qu.:3.000  \n",
       " Median :3.000   Median :2.000   Median :3.000   Median :3.000  \n",
       " Mean   :3.116   Mean   :1.915   Mean   :2.808   Mean   :3.212  \n",
       " 3rd Qu.:4.000   3rd Qu.:2.000   3rd Qu.:3.000   3rd Qu.:4.000  \n",
       " Max.   :4.000   Max.   :4.000   Max.   :4.000   Max.   :4.000  \n",
       " NA's   :16206   NA's   :16206   NA's   :16206   NA's   :16206  \n",
       "  c1007_4aq17     c1007_4aq18     c1007_4aq19     c1007_4aq20   \n",
       " Min.   :1.000   Min.   :1.000   Min.   :1.000   Min.   :1.000  \n",
       " 1st Qu.:3.000   1st Qu.:1.000   1st Qu.:3.000   1st Qu.:1.000  \n",
       " Median :3.000   Median :2.000   Median :3.000   Median :2.000  \n",
       " Mean   :3.295   Mean   :1.616   Mean   :3.046   Mean   :1.723  \n",
       " 3rd Qu.:4.000   3rd Qu.:2.000   3rd Qu.:4.000   3rd Qu.:2.000  \n",
       " Max.   :4.000   Max.   :4.000   Max.   :4.000   Max.   :4.000  \n",
       " NA's   :16206   NA's   :16206   NA's   :16206   NA's   :16206  \n",
       "  c1007_4aq21     c1007_4aq22     c1007_4aq23    h10_pers_income1\n",
       " Min.   :1.000   Min.   :1.000   Min.   :1.000   Min.   :    0   \n",
       " 1st Qu.:1.000   1st Qu.:1.000   1st Qu.:3.000   1st Qu.: 1997   \n",
       " Median :2.000   Median :1.000   Median :3.000   Median : 3084   \n",
       " Mean   :1.677   Mean   :1.537   Mean   :2.993   Mean   : 3653   \n",
       " 3rd Qu.:2.000   3rd Qu.:2.000   3rd Qu.:4.000   3rd Qu.: 4800   \n",
       " Max.   :4.000   Max.   :4.000   Max.   :4.000   Max.   :23240   \n",
       " NA's   :16206   NA's   :16206   NA's   :16206   NA's   :13905   \n",
       " h10_pers_income2 h10_pers_income3   h10_pers_income4  h10_pers_income5 \n",
       " Min.   :   20    Min.   :-27753.0   Min.   :   0.00   Min.   :-4806.0  \n",
       " 1st Qu.:  400    1st Qu.:   796.5   1st Qu.:   0.00   1st Qu.:  210.5  \n",
       " Median :  980    Median :  1980.0   Median :   0.00   Median :  464.0  \n",
       " Mean   : 1252    Mean   :  3346.2   Mean   :   1.61   Mean   : 1052.2  \n",
       " 3rd Qu.: 1770    3rd Qu.:  3829.0   3rd Qu.:   0.00   3rd Qu.: 1153.5  \n",
       " Max.   :12000    Max.   :245755.0   Max.   :1680.00   Max.   :29340.0  \n",
       " NA's   :13161    NA's   :15529                        NA's   :15788    "
      ]
     },
     "metadata": {},
     "output_type": "display_data"
    }
   ],
   "source": [
    "head(welfare) \n",
    "#tail(welfare) \n",
    "#View(welfare) \n",
    "dim(welfare) \n",
    "#str(welfare) \n",
    "summary(welfare)"
   ]
  },
  {
   "cell_type": "code",
   "execution_count": 7,
   "metadata": {},
   "outputs": [],
   "source": [
    "welfare<-rename(welfare,                   \n",
    "                   sex = h10_g3,            # 성별\n",
    "                   birth = h10_g4,          # 태어난 연도\n",
    "                   marriage = h10_g10,      # 혼인 상태\n",
    "                   religion = h10_g11,      # 종교\n",
    "                   income = p1002_8aq1,     # 월급\n",
    "                   code_job = h10_eco9,     # 직종 코드\n",
    "                   code_region = h10_reg7)  # 지역 코드\n",
    " "
   ]
  },
  {
   "cell_type": "markdown",
   "metadata": {},
   "source": [
    "### 데이터 분석 절차"
   ]
  },
  {
   "attachments": {
    "%EC%BA%A1%EC%B2%98.PNG": {
     "image/png": "[encoded data removed]"
    }
   },
   "cell_type": "markdown",
   "metadata": {},
   "source": [
    "![%EC%BA%A1%EC%B2%98.PNG](attachment:%EC%BA%A1%EC%B2%98.PNG)"
   ]
  },
  {
   "cell_type": "markdown",
   "metadata": {},
   "source": [
    "## 9-2. 성별에 따른 월급 차이- \"성별에 따라 월급이 다를까?\" "
   ]
  },
  {
   "cell_type": "markdown",
   "metadata": {},
   "source": [
    "### 분석 절차 \n",
    "1. 변수 검토 및 전처리 \n",
    "    - 성별 • 월급 \n",
    "2. 변수 간 관계 분석 \n",
    "    - 성별 월급 평균표 만들기 • 그래프 만들기 "
   ]
  },
  {
   "cell_type": "markdown",
   "metadata": {},
   "source": [
    "### 성별 변수 검토 및 전처리"
   ]
  },
  {
   "cell_type": "markdown",
   "metadata": {},
   "source": [
    "#### 1. 변수 검토하기"
   ]
  },
  {
   "cell_type": "code",
   "execution_count": 8,
   "metadata": {},
   "outputs": [
    {
     "data": {
      "text/html": [
       "'numeric'"
      ],
      "text/latex": [
       "'numeric'"
      ],
      "text/markdown": [
       "'numeric'"
      ],
      "text/plain": [
       "[1] \"numeric\""
      ]
     },
     "metadata": {},
     "output_type": "display_data"
    }
   ],
   "source": [
    "class(welfare$sex)"
   ]
  },
  {
   "cell_type": "code",
   "execution_count": 9,
   "metadata": {},
   "outputs": [
    {
     "data": {
      "text/plain": [
       "\n",
       "   1    2 \n",
       "7578 9086 "
      ]
     },
     "metadata": {},
     "output_type": "display_data"
    }
   ],
   "source": [
    "table(welfare$sex)"
   ]
  },
  {
   "cell_type": "markdown",
   "metadata": {},
   "source": [
    "#### 2. 전처리"
   ]
  },
  {
   "cell_type": "code",
   "execution_count": 10,
   "metadata": {},
   "outputs": [
    {
     "data": {
      "text/plain": [
       "\n",
       "   1    2 \n",
       "7578 9086 "
      ]
     },
     "metadata": {},
     "output_type": "display_data"
    }
   ],
   "source": [
    "# 이상치 확인\n",
    "table(welfare$sex) "
   ]
  },
  {
   "cell_type": "code",
   "execution_count": 11,
   "metadata": {},
   "outputs": [],
   "source": [
    "# 이상치 결측 처리\n",
    "welfare$sex <- ifelse(welfare$sex == 9, NA, welfare$sex) "
   ]
  },
  {
   "cell_type": "code",
   "execution_count": 12,
   "metadata": {},
   "outputs": [
    {
     "data": {
      "text/plain": [
       "\n",
       "FALSE \n",
       "16664 "
      ]
     },
     "metadata": {},
     "output_type": "display_data"
    }
   ],
   "source": [
    "# 결측치 확인\n",
    "table(is.na(welfare$sex))"
   ]
  },
  {
   "cell_type": "code",
   "execution_count": 13,
   "metadata": {},
   "outputs": [
    {
     "data": {
      "text/plain": [
       "\n",
       "female   male \n",
       "  9086   7578 "
      ]
     },
     "metadata": {},
     "output_type": "display_data"
    }
   ],
   "source": [
    "# 성별 항목 이름 부여\n",
    "welfare$sex<-ifelse(welfare$sex == 1,'male','female')\n",
    "table(welfare$sex)"
   ]
  },
  {
   "cell_type": "code",
   "execution_count": 14,
   "metadata": {},
   "outputs": [
    {
     "data": {
      "image/png": "[encoded data removed]",
      "text/plain": [
       "plot without title"
      ]
     },
     "metadata": {},
     "output_type": "display_data"
    }
   ],
   "source": [
    "qplot(welfare$sex)"
   ]
  },
  {
   "cell_type": "markdown",
   "metadata": {},
   "source": [
    "### 월급 변수 검토 및 전처리"
   ]
  },
  {
   "cell_type": "markdown",
   "metadata": {},
   "source": [
    "#### 1. 변수 검토하기"
   ]
  },
  {
   "cell_type": "code",
   "execution_count": 15,
   "metadata": {},
   "outputs": [
    {
     "data": {
      "text/html": [
       "'numeric'"
      ],
      "text/latex": [
       "'numeric'"
      ],
      "text/markdown": [
       "'numeric'"
      ],
      "text/plain": [
       "[1] \"numeric\""
      ]
     },
     "metadata": {},
     "output_type": "display_data"
    }
   ],
   "source": [
    "class(welfare$income)"
   ]
  },
  {
   "cell_type": "code",
   "execution_count": 16,
   "metadata": {},
   "outputs": [
    {
     "data": {
      "text/plain": [
       "   Min. 1st Qu.  Median    Mean 3rd Qu.    Max.    NA's \n",
       "    0.0   122.0   192.5   241.6   316.6  2400.0   12030 "
      ]
     },
     "metadata": {},
     "output_type": "display_data"
    }
   ],
   "source": [
    "summary(welfare$income) "
   ]
  },
  {
   "cell_type": "code",
   "execution_count": 17,
   "metadata": {},
   "outputs": [
    {
     "name": "stderr",
     "output_type": "stream",
     "text": [
      "`stat_bin()` using `bins = 30`. Pick better value with `binwidth`.\n",
      "Warning message:\n",
      "\"Removed 12030 rows containing non-finite values (stat_bin).\""
     ]
    },
    {
     "data": {
      "image/png": "[encoded data removed]",
      "text/plain": [
       "plot without title"
      ]
     },
     "metadata": {},
     "output_type": "display_data"
    }
   ],
   "source": [
    "qplot(welfare$income)"
   ]
  },
  {
   "cell_type": "code",
   "execution_count": 18,
   "metadata": {},
   "outputs": [
    {
     "name": "stderr",
     "output_type": "stream",
     "text": [
      "`stat_bin()` using `bins = 30`. Pick better value with `binwidth`.\n",
      "Warning message:\n",
      "\"Removed 12051 rows containing non-finite values (stat_bin).\"Warning message:\n",
      "\"Removed 2 rows containing missing values (geom_bar).\""
     ]
    },
    {
     "data": {
      "image/png": "[encoded data removed]",
      "text/plain": [
       "plot without title"
      ]
     },
     "metadata": {},
     "output_type": "display_data"
    }
   ],
   "source": [
    "qplot(welfare$income) + xlim(0, 1000)"
   ]
  },
  {
   "cell_type": "markdown",
   "metadata": {},
   "source": [
    "#### 2. 전처리 "
   ]
  },
  {
   "cell_type": "code",
   "execution_count": 19,
   "metadata": {},
   "outputs": [
    {
     "data": {
      "text/plain": [
       "   Min. 1st Qu.  Median    Mean 3rd Qu.    Max.    NA's \n",
       "    0.0   122.0   192.5   241.6   316.6  2400.0   12030 "
      ]
     },
     "metadata": {},
     "output_type": "display_data"
    }
   ],
   "source": [
    "# 이상치 확인\n",
    " summary(welfare$income)"
   ]
  },
  {
   "cell_type": "code",
   "execution_count": 20,
   "metadata": {},
   "outputs": [],
   "source": [
    "# 이상치 결측 처리\n",
    "welfare$income<-ifelse(welfare$income %in% c(0,9999), NA, welfare$income)"
   ]
  },
  {
   "cell_type": "code",
   "execution_count": 21,
   "metadata": {},
   "outputs": [
    {
     "data": {
      "text/plain": [
       "\n",
       "FALSE  TRUE \n",
       " 4620 12044 "
      ]
     },
     "metadata": {},
     "output_type": "display_data"
    }
   ],
   "source": [
    "# 결측치 확인\n",
    " table(is.na(welfare$income))"
   ]
  },
  {
   "cell_type": "markdown",
   "metadata": {},
   "source": [
    "### 성별에 따른 월급 차이 분석하기"
   ]
  },
  {
   "cell_type": "markdown",
   "metadata": {},
   "source": [
    "#### 1. 성별 월급 평균표 만들기 "
   ]
  },
  {
   "cell_type": "code",
   "execution_count": 22,
   "metadata": {},
   "outputs": [
    {
     "data": {
      "text/html": [
       "<table>\n",
       "<thead><tr><th scope=col>sex</th><th scope=col>mean_income</th></tr></thead>\n",
       "<tbody>\n",
       "\t<tr><td>female  </td><td>163.2471</td></tr>\n",
       "\t<tr><td>male    </td><td>312.2932</td></tr>\n",
       "</tbody>\n",
       "</table>\n"
      ],
      "text/latex": [
       "\\begin{tabular}{r|ll}\n",
       " sex & mean\\_income\\\\\n",
       "\\hline\n",
       "\t female   & 163.2471\\\\\n",
       "\t male     & 312.2932\\\\\n",
       "\\end{tabular}\n"
      ],
      "text/markdown": [
       "\n",
       "| sex | mean_income |\n",
       "|---|---|\n",
       "| female   | 163.2471 |\n",
       "| male     | 312.2932 |\n",
       "\n"
      ],
      "text/plain": [
       "  sex    mean_income\n",
       "1 female 163.2471   \n",
       "2 male   312.2932   "
      ]
     },
     "metadata": {},
     "output_type": "display_data"
    }
   ],
   "source": [
    "sex_income <- welfare %>%\n",
    "    filter(!is.na(income)) %>%\n",
    "    group_by(sex) %>%\n",
    "    summarise(mean_income = mean(income)) \n",
    " \n",
    "sex_income"
   ]
  },
  {
   "cell_type": "markdown",
   "metadata": {},
   "source": [
    "#### 2. 그래프 만들기 "
   ]
  },
  {
   "cell_type": "code",
   "execution_count": 23,
   "metadata": {},
   "outputs": [
    {
     "data": {
      "image/png": "[encoded data removed]",
      "text/plain": [
       "plot without title"
      ]
     },
     "metadata": {},
     "output_type": "display_data"
    }
   ],
   "source": [
    "ggplot(data = sex_income, aes(x = sex, y = mean_income)) + geom_col()"
   ]
  },
  {
   "cell_type": "markdown",
   "metadata": {},
   "source": [
    "## 9-3. 나이와 월급의 관계-\"몇 살 때 월급을 가장 많이 받을까?\""
   ]
  },
  {
   "cell_type": "markdown",
   "metadata": {},
   "source": [
    "### 분석 절차\n",
    "1. 변수 검토 및 전처리 \n",
    "    - 나이 \n",
    "    - 월급 \n",
    "2. 변수 간 관계 분석 \n",
    "    - 나이에 따른 월급 평균표 만들기 \n",
    "    - 그래프 만들기"
   ]
  },
  {
   "cell_type": "markdown",
   "metadata": {},
   "source": [
    "#### 1. 변수 검토하기"
   ]
  },
  {
   "cell_type": "code",
   "execution_count": 24,
   "metadata": {},
   "outputs": [
    {
     "data": {
      "text/html": [
       "'numeric'"
      ],
      "text/latex": [
       "'numeric'"
      ],
      "text/markdown": [
       "'numeric'"
      ],
      "text/plain": [
       "[1] \"numeric\""
      ]
     },
     "metadata": {},
     "output_type": "display_data"
    }
   ],
   "source": [
    "class(welfare$birth)"
   ]
  },
  {
   "cell_type": "code",
   "execution_count": 25,
   "metadata": {},
   "outputs": [
    {
     "data": {
      "text/plain": [
       "   Min. 1st Qu.  Median    Mean 3rd Qu.    Max. \n",
       "   1907    1946    1966    1968    1988    2014 "
      ]
     },
     "metadata": {},
     "output_type": "display_data"
    }
   ],
   "source": [
    "summary(welfare$birth) "
   ]
  },
  {
   "cell_type": "code",
   "execution_count": 26,
   "metadata": {},
   "outputs": [
    {
     "name": "stderr",
     "output_type": "stream",
     "text": [
      "`stat_bin()` using `bins = 30`. Pick better value with `binwidth`.\n"
     ]
    },
    {
     "data": {
      "image/png": "[encoded data removed]",
      "text/plain": [
       "plot without title"
      ]
     },
     "metadata": {},
     "output_type": "display_data"
    }
   ],
   "source": [
    "qplot(welfare$birth)"
   ]
  },
  {
   "cell_type": "markdown",
   "metadata": {},
   "source": [
    "#### 2.전처리 "
   ]
  },
  {
   "cell_type": "code",
   "execution_count": 27,
   "metadata": {},
   "outputs": [
    {
     "data": {
      "text/plain": [
       "   Min. 1st Qu.  Median    Mean 3rd Qu.    Max. \n",
       "   1907    1946    1966    1968    1988    2014 "
      ]
     },
     "metadata": {},
     "output_type": "display_data"
    }
   ],
   "source": [
    "# 이상치 확인\n",
    "summary(welfare$birth)"
   ]
  },
  {
   "cell_type": "code",
   "execution_count": 28,
   "metadata": {},
   "outputs": [
    {
     "data": {
      "text/plain": [
       "\n",
       "FALSE \n",
       "16664 "
      ]
     },
     "metadata": {},
     "output_type": "display_data"
    }
   ],
   "source": [
    "# 결측치 확인\n",
    "table(is.na(welfare$birth))"
   ]
  },
  {
   "cell_type": "code",
   "execution_count": 29,
   "metadata": {},
   "outputs": [
    {
     "data": {
      "text/plain": [
       "\n",
       "FALSE \n",
       "16664 "
      ]
     },
     "metadata": {},
     "output_type": "display_data"
    }
   ],
   "source": [
    "# 이상치 결측 처리\n",
    "welfare$birth <- ifelse(welfare$birth == 9999, NA, welfare$birth) \n",
    "table(is.na(welfare$birth))"
   ]
  },
  {
   "cell_type": "markdown",
   "metadata": {},
   "source": [
    "#### 3. 파생변수 만들기 - 나이 "
   ]
  },
  {
   "cell_type": "code",
   "execution_count": 30,
   "metadata": {},
   "outputs": [
    {
     "data": {
      "text/plain": [
       "   Min. 1st Qu.  Median    Mean 3rd Qu.    Max. \n",
       "   2.00   28.00   50.00   48.43   70.00  109.00 "
      ]
     },
     "metadata": {},
     "output_type": "display_data"
    }
   ],
   "source": [
    "welfare$age <- 2015 - welfare$birth + 1 ########### Q. 1을 더하는 이유\n",
    "summary(welfare$age)"
   ]
  },
  {
   "cell_type": "code",
   "execution_count": 31,
   "metadata": {},
   "outputs": [
    {
     "name": "stderr",
     "output_type": "stream",
     "text": [
      "`stat_bin()` using `bins = 30`. Pick better value with `binwidth`.\n"
     ]
    },
    {
     "data": {
      "image/png": "[encoded data removed]",
      "text/plain": [
       "plot without title"
      ]
     },
     "metadata": {},
     "output_type": "display_data"
    }
   ],
   "source": [
    "qplot(welfare$age)"
   ]
  },
  {
   "cell_type": "markdown",
   "metadata": {},
   "source": [
    "### 나이와 월급의 관계 분석하기"
   ]
  },
  {
   "cell_type": "markdown",
   "metadata": {},
   "source": [
    "#### 1. 나이에 따른 월급 평균표 만들기"
   ]
  },
  {
   "cell_type": "code",
   "execution_count": 32,
   "metadata": {},
   "outputs": [
    {
     "data": {
      "text/html": [
       "<table>\n",
       "<thead><tr><th scope=col>age</th><th scope=col>mean_income</th></tr></thead>\n",
       "<tbody>\n",
       "\t<tr><td>20      </td><td>121.3000</td></tr>\n",
       "\t<tr><td>21      </td><td>105.5185</td></tr>\n",
       "\t<tr><td>22      </td><td>130.0923</td></tr>\n",
       "\t<tr><td>23      </td><td>141.7157</td></tr>\n",
       "\t<tr><td>24      </td><td>134.0877</td></tr>\n",
       "\t<tr><td>25      </td><td>144.6559</td></tr>\n",
       "</tbody>\n",
       "</table>\n"
      ],
      "text/latex": [
       "\\begin{tabular}{r|ll}\n",
       " age & mean\\_income\\\\\n",
       "\\hline\n",
       "\t 20       & 121.3000\\\\\n",
       "\t 21       & 105.5185\\\\\n",
       "\t 22       & 130.0923\\\\\n",
       "\t 23       & 141.7157\\\\\n",
       "\t 24       & 134.0877\\\\\n",
       "\t 25       & 144.6559\\\\\n",
       "\\end{tabular}\n"
      ],
      "text/markdown": [
       "\n",
       "| age | mean_income |\n",
       "|---|---|\n",
       "| 20       | 121.3000 |\n",
       "| 21       | 105.5185 |\n",
       "| 22       | 130.0923 |\n",
       "| 23       | 141.7157 |\n",
       "| 24       | 134.0877 |\n",
       "| 25       | 144.6559 |\n",
       "\n"
      ],
      "text/plain": [
       "  age mean_income\n",
       "1 20  121.3000   \n",
       "2 21  105.5185   \n",
       "3 22  130.0923   \n",
       "4 23  141.7157   \n",
       "5 24  134.0877   \n",
       "6 25  144.6559   "
      ]
     },
     "metadata": {},
     "output_type": "display_data"
    }
   ],
   "source": [
    "age_income <- welfare %>%   filter(!is.na(income)) %>%   \n",
    "    group_by(age) %>%   \n",
    "    summarise(mean_income = mean(income))\n",
    "    head(age_income)"
   ]
  },
  {
   "cell_type": "markdown",
   "metadata": {},
   "source": [
    "#### 2. 그래프 만들기 "
   ]
  },
  {
   "cell_type": "code",
   "execution_count": 33,
   "metadata": {},
   "outputs": [
    {
     "data": {
      "image/png": "[encoded data removed]",
      "text/plain": [
       "plot without title"
      ]
     },
     "metadata": {},
     "output_type": "display_data"
    }
   ],
   "source": [
    "ggplot(data = age_income, aes(x = age, y = mean_income)) + geom_line()"
   ]
  },
  {
   "cell_type": "markdown",
   "metadata": {},
   "source": [
    "## 9-4. 연령대에 따른 월급 차이-\"어떤 연령대의 월급이 가장 많을까?\""
   ]
  },
  {
   "cell_type": "markdown",
   "metadata": {},
   "source": [
    "### 분석 절차\n",
    "1. 변수 검토 및 전처리 \n",
    "    - 연령대 - 월급 \n",
    "2. 변수 간 관계 분석 \n",
    "    - 연령대별 월급 평균표 만들기 - 그래프 만들기 "
   ]
  },
  {
   "cell_type": "markdown",
   "metadata": {},
   "source": [
    "### 연령대 변수 검토 및 전처리하기 "
   ]
  },
  {
   "cell_type": "markdown",
   "metadata": {},
   "source": [
    "#### 파생변수 만들기 - 연령대"
   ]
  },
  {
   "cell_type": "code",
   "execution_count": 34,
   "metadata": {},
   "outputs": [
    {
     "data": {
      "text/plain": [
       "\n",
       "middle    old  young \n",
       "  6049   6281   4334 "
      ]
     },
     "metadata": {},
     "output_type": "display_data"
    }
   ],
   "source": [
    "welfare <- welfare %>%\n",
    "    mutate(ageg = ifelse(age < 30, \"young\",\n",
    "                         ifelse(age <= 59, \"middle\", \"old\"))) \n",
    " \n",
    "table(welfare$ageg)"
   ]
  },
  {
   "cell_type": "code",
   "execution_count": 35,
   "metadata": {},
   "outputs": [
    {
     "data": {
      "image/png": "[encoded data removed]",
      "text/plain": [
       "plot without title"
      ]
     },
     "metadata": {},
     "output_type": "display_data"
    }
   ],
   "source": [
    "qplot(welfare$ageg)"
   ]
  },
  {
   "cell_type": "markdown",
   "metadata": {},
   "source": [
    "### 연령대에 따른 월급 차이 분석하기"
   ]
  },
  {
   "cell_type": "markdown",
   "metadata": {},
   "source": [
    "#### 1.연령대별 월급 평균표 만들기 "
   ]
  },
  {
   "cell_type": "code",
   "execution_count": 36,
   "metadata": {},
   "outputs": [
    {
     "data": {
      "text/html": [
       "<table>\n",
       "<thead><tr><th scope=col>ageg</th><th scope=col>mean_income</th></tr></thead>\n",
       "<tbody>\n",
       "\t<tr><td>middle  </td><td>281.8871</td></tr>\n",
       "\t<tr><td>old     </td><td>125.3295</td></tr>\n",
       "\t<tr><td>young   </td><td>163.5953</td></tr>\n",
       "</tbody>\n",
       "</table>\n"
      ],
      "text/latex": [
       "\\begin{tabular}{r|ll}\n",
       " ageg & mean\\_income\\\\\n",
       "\\hline\n",
       "\t middle   & 281.8871\\\\\n",
       "\t old      & 125.3295\\\\\n",
       "\t young    & 163.5953\\\\\n",
       "\\end{tabular}\n"
      ],
      "text/markdown": [
       "\n",
       "| ageg | mean_income |\n",
       "|---|---|\n",
       "| middle   | 281.8871 |\n",
       "| old      | 125.3295 |\n",
       "| young    | 163.5953 |\n",
       "\n"
      ],
      "text/plain": [
       "  ageg   mean_income\n",
       "1 middle 281.8871   \n",
       "2 old    125.3295   \n",
       "3 young  163.5953   "
      ]
     },
     "metadata": {},
     "output_type": "display_data"
    }
   ],
   "source": [
    "ageg_income <- welfare %>%\n",
    "    filter(!is.na(income)) %>%\n",
    "    group_by(ageg) %>%\n",
    "    summarise(mean_income = mean(income)) \n",
    " \n",
    "ageg_income "
   ]
  },
  {
   "cell_type": "markdown",
   "metadata": {},
   "source": [
    "#### 2. 그래프 만들기 "
   ]
  },
  {
   "cell_type": "code",
   "execution_count": 37,
   "metadata": {},
   "outputs": [
    {
     "data": {
      "image/png": "[encoded data removed]",
      "text/plain": [
       "plot without title"
      ]
     },
     "metadata": {},
     "output_type": "display_data"
    }
   ],
   "source": [
    "ggplot(data = ageg_income, aes(x = ageg, y = mean_income)) + geom_col()"
   ]
  },
  {
   "cell_type": "markdown",
   "metadata": {},
   "source": [
    "#### 막대 정렬 : 초년, 중년, 노년 나이 순"
   ]
  },
  {
   "cell_type": "code",
   "execution_count": 38,
   "metadata": {},
   "outputs": [
    {
     "data": {
      "image/png": "[encoded data removed]",
      "text/plain": [
       "plot without title"
      ]
     },
     "metadata": {},
     "output_type": "display_data"
    }
   ],
   "source": [
    "ggplot(data = ageg_income, aes(x = ageg, y = mean_income)) +\n",
    "geom_col() +\n",
    "scale_x_discrete(limits = c(\"young\", \"middle\", \"old\")) ########### 이건 무슨 의미?"
   ]
  },
  {
   "cell_type": "markdown",
   "metadata": {},
   "source": [
    "## 9-5. 연령대 및 성별 월급 차이 - \"성별 월급 차이는 연령대별로 다를까?\" "
   ]
  },
  {
   "cell_type": "markdown",
   "metadata": {},
   "source": [
    "### 분석 절차 \n",
    "1. 변수 검토 및 전처리 \n",
    "    - 연령대 \n",
    "    - 성별 \n",
    "    - 월급 \n",
    "2. 변수 간 관계 분석 \n",
    "    - 연령대 및 성별 월급 평균표 만들기 \n",
    "    - 그래프 만들기"
   ]
  },
  {
   "cell_type": "markdown",
   "metadata": {},
   "source": [
    "### 연령대 및 성별 월급 차이 분석하기"
   ]
  },
  {
   "cell_type": "markdown",
   "metadata": {},
   "source": [
    "#### 1. 연령대 및 성별 월급 평균표 만들기 "
   ]
  },
  {
   "cell_type": "code",
   "execution_count": 39,
   "metadata": {},
   "outputs": [
    {
     "data": {
      "text/html": [
       "<table>\n",
       "<thead><tr><th scope=col>ageg</th><th scope=col>sex</th><th scope=col>mean_income</th></tr></thead>\n",
       "<tbody>\n",
       "\t<tr><td>middle   </td><td>female   </td><td>187.97552</td></tr>\n",
       "\t<tr><td>middle   </td><td>male     </td><td>353.07574</td></tr>\n",
       "\t<tr><td>old      </td><td>female   </td><td> 81.52917</td></tr>\n",
       "\t<tr><td>old      </td><td>male     </td><td>173.85558</td></tr>\n",
       "\t<tr><td>young    </td><td>female   </td><td>159.50518</td></tr>\n",
       "\t<tr><td>young    </td><td>male     </td><td>170.81737</td></tr>\n",
       "</tbody>\n",
       "</table>\n"
      ],
      "text/latex": [
       "\\begin{tabular}{r|lll}\n",
       " ageg & sex & mean\\_income\\\\\n",
       "\\hline\n",
       "\t middle    & female    & 187.97552\\\\\n",
       "\t middle    & male      & 353.07574\\\\\n",
       "\t old       & female    &  81.52917\\\\\n",
       "\t old       & male      & 173.85558\\\\\n",
       "\t young     & female    & 159.50518\\\\\n",
       "\t young     & male      & 170.81737\\\\\n",
       "\\end{tabular}\n"
      ],
      "text/markdown": [
       "\n",
       "| ageg | sex | mean_income |\n",
       "|---|---|---|\n",
       "| middle    | female    | 187.97552 |\n",
       "| middle    | male      | 353.07574 |\n",
       "| old       | female    |  81.52917 |\n",
       "| old       | male      | 173.85558 |\n",
       "| young     | female    | 159.50518 |\n",
       "| young     | male      | 170.81737 |\n",
       "\n"
      ],
      "text/plain": [
       "  ageg   sex    mean_income\n",
       "1 middle female 187.97552  \n",
       "2 middle male   353.07574  \n",
       "3 old    female  81.52917  \n",
       "4 old    male   173.85558  \n",
       "5 young  female 159.50518  \n",
       "6 young  male   170.81737  "
      ]
     },
     "metadata": {},
     "output_type": "display_data"
    }
   ],
   "source": [
    "sex_income <- welfare %>%\n",
    "    filter(!is.na(income)) %>%\n",
    "    group_by(ageg, sex) %>%\n",
    "    summarise(mean_income = mean(income)) \n",
    " \n",
    "sex_income"
   ]
  },
  {
   "cell_type": "markdown",
   "metadata": {},
   "source": [
    "#### 2. 그래프 만들기"
   ]
  },
  {
   "cell_type": "code",
   "execution_count": 40,
   "metadata": {},
   "outputs": [
    {
     "data": {
      "image/png": "[encoded data removed]",
      "text/plain": [
       "plot without title"
      ]
     },
     "metadata": {},
     "output_type": "display_data"
    }
   ],
   "source": [
    "ggplot(data = sex_income, aes(x = ageg, y = mean_income, fill=sex)) +\n",
    "    geom_col() +\n",
    "    scale_x_discrete(limits = c(\"young\", \"middle\", \"old\"))"
   ]
  },
  {
   "cell_type": "markdown",
   "metadata": {},
   "source": [
    "#### 성별 막대 분리"
   ]
  },
  {
   "cell_type": "code",
   "execution_count": 41,
   "metadata": {},
   "outputs": [
    {
     "data": {
      "image/png": "[encoded data removed]",
      "text/plain": [
       "plot without title"
      ]
     },
     "metadata": {},
     "output_type": "display_data"
    }
   ],
   "source": [
    "ggplot(data = sex_income, aes(x = ageg, y = mean_income, fill = sex)) +\n",
    "    geom_col(position = \"dodge\") +\n",
    "    scale_x_discrete(limits = c(\"young\", \"middle\", \"old\")) "
   ]
  },
  {
   "cell_type": "markdown",
   "metadata": {},
   "source": [
    "## 나이 및 성별 월급 차이 분석하기 "
   ]
  },
  {
   "cell_type": "code",
   "execution_count": 42,
   "metadata": {},
   "outputs": [],
   "source": [
    "# 성별 연령별 월급 평균표 만들기\n",
    " sex_age <- welfare %>%\n",
    "    filter(!is.na(income)) %>%\n",
    "    group_by(age, sex) %>%\n",
    "    summarise(mean_income = mean(income))"
   ]
  },
  {
   "cell_type": "code",
   "execution_count": 43,
   "metadata": {},
   "outputs": [
    {
     "data": {
      "text/html": [
       "<table>\n",
       "<thead><tr><th scope=col>age</th><th scope=col>sex</th><th scope=col>mean_income</th></tr></thead>\n",
       "<tbody>\n",
       "\t<tr><td>20      </td><td>female  </td><td>147.4500</td></tr>\n",
       "\t<tr><td>20      </td><td>male    </td><td> 69.0000</td></tr>\n",
       "\t<tr><td>21      </td><td>female  </td><td>106.9789</td></tr>\n",
       "\t<tr><td>21      </td><td>male    </td><td>102.0500</td></tr>\n",
       "\t<tr><td>22      </td><td>female  </td><td>139.8547</td></tr>\n",
       "\t<tr><td>22      </td><td>male    </td><td>118.2379</td></tr>\n",
       "</tbody>\n",
       "</table>\n"
      ],
      "text/latex": [
       "\\begin{tabular}{r|lll}\n",
       " age & sex & mean\\_income\\\\\n",
       "\\hline\n",
       "\t 20       & female   & 147.4500\\\\\n",
       "\t 20       & male     &  69.0000\\\\\n",
       "\t 21       & female   & 106.9789\\\\\n",
       "\t 21       & male     & 102.0500\\\\\n",
       "\t 22       & female   & 139.8547\\\\\n",
       "\t 22       & male     & 118.2379\\\\\n",
       "\\end{tabular}\n"
      ],
      "text/markdown": [
       "\n",
       "| age | sex | mean_income |\n",
       "|---|---|---|\n",
       "| 20       | female   | 147.4500 |\n",
       "| 20       | male     |  69.0000 |\n",
       "| 21       | female   | 106.9789 |\n",
       "| 21       | male     | 102.0500 |\n",
       "| 22       | female   | 139.8547 |\n",
       "| 22       | male     | 118.2379 |\n",
       "\n"
      ],
      "text/plain": [
       "  age sex    mean_income\n",
       "1 20  female 147.4500   \n",
       "2 20  male    69.0000   \n",
       "3 21  female 106.9789   \n",
       "4 21  male   102.0500   \n",
       "5 22  female 139.8547   \n",
       "6 22  male   118.2379   "
      ]
     },
     "metadata": {},
     "output_type": "display_data"
    }
   ],
   "source": [
    "head(sex_age) "
   ]
  },
  {
   "cell_type": "code",
   "execution_count": 44,
   "metadata": {},
   "outputs": [
    {
     "data": {
      "image/png": "[encoded data removed]",
      "text/plain": [
       "plot without title"
      ]
     },
     "metadata": {},
     "output_type": "display_data"
    }
   ],
   "source": [
    "ggplot(data = sex_age, aes(x = age, y = mean_income, col = sex)) +\n",
    "geom_line() "
   ]
  },
  {
   "cell_type": "markdown",
   "metadata": {},
   "source": [
    "## 9-6. 직업별 월급 차이-\"어떤 직업이 월급을 가장 많이 받을까?\" "
   ]
  },
  {
   "cell_type": "markdown",
   "metadata": {},
   "source": [
    "### 분석 절차 \n",
    "1. 변수 검토 및 전처리 \n",
    "    - 직업 - 월급 \n",
    "2. 변수 간 관계 분석 \n",
    "    - 직업별 월급 평균표 만들기 - 그래프 만들기"
   ]
  },
  {
   "cell_type": "markdown",
   "metadata": {},
   "source": [
    "#### 1.변수 검토하기 "
   ]
  },
  {
   "cell_type": "code",
   "execution_count": 45,
   "metadata": {},
   "outputs": [
    {
     "data": {
      "text/html": [
       "'numeric'"
      ],
      "text/latex": [
       "'numeric'"
      ],
      "text/markdown": [
       "'numeric'"
      ],
      "text/plain": [
       "[1] \"numeric\""
      ]
     },
     "metadata": {},
     "output_type": "display_data"
    }
   ],
   "source": [
    "class(welfare$code_job)"
   ]
  },
  {
   "cell_type": "code",
   "execution_count": 46,
   "metadata": {},
   "outputs": [
    {
     "data": {
      "text/plain": [
       "\n",
       " 111  120  131  132  133  134  135  139  141  149  151  152  153  159  211  212 \n",
       "   2   16   10   11    9    3    7   10   35   20   26   18   15   16    8    4 \n",
       " 213  221  222  223  224  231  232  233  234  235  236  237  239  241  242  243 \n",
       "   3   17   31   12    4   41    5    3    6   48   14    2   29   12    4   63 \n",
       " 244  245  246  247  248  251  252  253  254  259  261  271  272  273  274  281 \n",
       "   4   33   59   77   38   14  111   24   67  109    4   15   11    4   36   17 \n",
       " 283  284  285  286  289  311  312  313  314  320  330  391  392  399  411  412 \n",
       "   8   10   26   16    5  140  260  220   84   75   15    4   13   87   47   12 \n",
       " 421  422  423  429  431  432  441  442  510  521  522  530  611  612  613  620 \n",
       " 124   71    5   14   20   33  154  197  192  353    5  106 1320   11   40    2 \n",
       " 630  710  721  722  730  741  742  743  751  752  753  761  762  771  772  773 \n",
       "  20   29   30   22   16   27    3   34   34    5   49   69   27   11   61   86 \n",
       " 774  780  791  792  799  811  812  819  821  822  823  831  832  841  842  843 \n",
       "   7   17    5   21   45   16    1    6    9    9   23    5   17   32   10    4 \n",
       " 851  852  853  854  855  861  862  863  864  871  873  874  875  876  881  882 \n",
       "  19   13    7   33    9    3   14   17   31    2  257   34   37    2    2    3 \n",
       " 891  892  899  910  921  922  930  941  942  951  952  953  991  992  999 1011 \n",
       "   8   19   16  102   31   74  289  325   99  125  122   73   45   12  141    2 \n",
       "1012 \n",
       "  17 "
      ]
     },
     "metadata": {},
     "output_type": "display_data"
    }
   ],
   "source": [
    "table(welfare$code_job)"
   ]
  },
  {
   "cell_type": "markdown",
   "metadata": {},
   "source": [
    "#### 전처리"
   ]
  },
  {
   "cell_type": "code",
   "execution_count": 47,
   "metadata": {},
   "outputs": [
    {
     "data": {
      "text/html": [
       "<table>\n",
       "<thead><tr><th scope=col>code_job</th><th scope=col>job</th></tr></thead>\n",
       "<tbody>\n",
       "\t<tr><td>111                                </td><td>의회의원 고위공무원 및 공공단체임원</td></tr>\n",
       "\t<tr><td>112                                </td><td>기업고위임원                       </td></tr>\n",
       "\t<tr><td>120                                </td><td>행정 및 경영지원 관리자            </td></tr>\n",
       "\t<tr><td>131                                </td><td>연구 교육 및 법률 관련 관리자      </td></tr>\n",
       "\t<tr><td>132                                </td><td>보험 및 금융 관리자                </td></tr>\n",
       "\t<tr><td>133                                </td><td>보건 및 사회복지 관련 관리자       </td></tr>\n",
       "</tbody>\n",
       "</table>\n"
      ],
      "text/latex": [
       "\\begin{tabular}{r|ll}\n",
       " code\\_job & job\\\\\n",
       "\\hline\n",
       "\t 111                                 & 의회의원 고위공무원 및 공공단체임원\\\\\n",
       "\t 112                                 & 기업고위임원                       \\\\\n",
       "\t 120                                 & 행정 및 경영지원 관리자            \\\\\n",
       "\t 131                                 & 연구 교육 및 법률 관련 관리자      \\\\\n",
       "\t 132                                 & 보험 및 금융 관리자                \\\\\n",
       "\t 133                                 & 보건 및 사회복지 관련 관리자       \\\\\n",
       "\\end{tabular}\n"
      ],
      "text/markdown": [
       "\n",
       "| code_job | job |\n",
       "|---|---|\n",
       "| 111                                 | 의회의원 고위공무원 및 공공단체임원 |\n",
       "| 112                                 | 기업고위임원                        |\n",
       "| 120                                 | 행정 및 경영지원 관리자             |\n",
       "| 131                                 | 연구 교육 및 법률 관련 관리자       |\n",
       "| 132                                 | 보험 및 금융 관리자                 |\n",
       "| 133                                 | 보건 및 사회복지 관련 관리자        |\n",
       "\n"
      ],
      "text/plain": [
       "  code_job job                                \n",
       "1 111      의회의원 고위공무원 및 공공단체임원\n",
       "2 112      기업고위임원                       \n",
       "3 120      행정 및 경영지원 관리자            \n",
       "4 131      연구 교육 및 법률 관련 관리자      \n",
       "5 132      보험 및 금융 관리자                \n",
       "6 133      보건 및 사회복지 관련 관리자       "
      ]
     },
     "metadata": {},
     "output_type": "display_data"
    }
   ],
   "source": [
    "# 직업분류코드 목록 불러오기 \n",
    "library(readxl)\n",
    "list_job <- read_excel(\"./Rdata/Koweps_Codebook.xlsx\",col_names=T,sheet =2)\n",
    "head(list_job)"
   ]
  },
  {
   "cell_type": "code",
   "execution_count": 48,
   "metadata": {},
   "outputs": [
    {
     "data": {
      "text/html": [
       "<ol class=list-inline>\n",
       "\t<li>149</li>\n",
       "\t<li>2</li>\n",
       "</ol>\n"
      ],
      "text/latex": [
       "\\begin{enumerate*}\n",
       "\\item 149\n",
       "\\item 2\n",
       "\\end{enumerate*}\n"
      ],
      "text/markdown": [
       "1. 149\n",
       "2. 2\n",
       "\n",
       "\n"
      ],
      "text/plain": [
       "[1] 149   2"
      ]
     },
     "metadata": {},
     "output_type": "display_data"
    }
   ],
   "source": [
    "dim(list_job)"
   ]
  },
  {
   "cell_type": "code",
   "execution_count": 49,
   "metadata": {},
   "outputs": [
    {
     "name": "stderr",
     "output_type": "stream",
     "text": [
      "Joining, by = \"code_job\"\n"
     ]
    }
   ],
   "source": [
    "# welfare에 직업명 결합 \n",
    "welfare<-left_join(welfare,list_job,id='code_job')"
   ]
  },
  {
   "cell_type": "code",
   "execution_count": 50,
   "metadata": {},
   "outputs": [
    {
     "data": {
      "text/html": [
       "<table>\n",
       "<thead><tr><th scope=col>code_job</th><th scope=col>job</th></tr></thead>\n",
       "<tbody>\n",
       "\t<tr><td>942                               </td><td>경비원 및 검표원                  </td></tr>\n",
       "\t<tr><td>762                               </td><td>전기공                            </td></tr>\n",
       "\t<tr><td>530                               </td><td>방문 노점 및 통신 판매 관련 종사자</td></tr>\n",
       "\t<tr><td>999                               </td><td>기타 서비스관련 단순 종사원       </td></tr>\n",
       "\t<tr><td>312                               </td><td>경영관련 사무원                   </td></tr>\n",
       "\t<tr><td>254                               </td><td>문리 기술 및 예능 강사            </td></tr>\n",
       "\t<tr><td>510                               </td><td>영업 종사자                       </td></tr>\n",
       "\t<tr><td>530                               </td><td>방문 노점 및 통신 판매 관련 종사자</td></tr>\n",
       "\t<tr><td>286                               </td><td>스포츠 및 레크레이션 관련 전문가  </td></tr>\n",
       "\t<tr><td>521                               </td><td>매장 판매 종사자                  </td></tr>\n",
       "</tbody>\n",
       "</table>\n"
      ],
      "text/latex": [
       "\\begin{tabular}{r|ll}\n",
       " code\\_job & job\\\\\n",
       "\\hline\n",
       "\t 942                                & 경비원 및 검표원                  \\\\\n",
       "\t 762                                & 전기공                            \\\\\n",
       "\t 530                                & 방문 노점 및 통신 판매 관련 종사자\\\\\n",
       "\t 999                                & 기타 서비스관련 단순 종사원       \\\\\n",
       "\t 312                                & 경영관련 사무원                   \\\\\n",
       "\t 254                                & 문리 기술 및 예능 강사            \\\\\n",
       "\t 510                                & 영업 종사자                       \\\\\n",
       "\t 530                                & 방문 노점 및 통신 판매 관련 종사자\\\\\n",
       "\t 286                                & 스포츠 및 레크레이션 관련 전문가  \\\\\n",
       "\t 521                                & 매장 판매 종사자                  \\\\\n",
       "\\end{tabular}\n"
      ],
      "text/markdown": [
       "\n",
       "| code_job | job |\n",
       "|---|---|\n",
       "| 942                                | 경비원 및 검표원                   |\n",
       "| 762                                | 전기공                             |\n",
       "| 530                                | 방문 노점 및 통신 판매 관련 종사자 |\n",
       "| 999                                | 기타 서비스관련 단순 종사원        |\n",
       "| 312                                | 경영관련 사무원                    |\n",
       "| 254                                | 문리 기술 및 예능 강사             |\n",
       "| 510                                | 영업 종사자                        |\n",
       "| 530                                | 방문 노점 및 통신 판매 관련 종사자 |\n",
       "| 286                                | 스포츠 및 레크레이션 관련 전문가   |\n",
       "| 521                                | 매장 판매 종사자                   |\n",
       "\n"
      ],
      "text/plain": [
       "   code_job job                               \n",
       "1  942      경비원 및 검표원                  \n",
       "2  762      전기공                            \n",
       "3  530      방문 노점 및 통신 판매 관련 종사자\n",
       "4  999      기타 서비스관련 단순 종사원       \n",
       "5  312      경영관련 사무원                   \n",
       "6  254      문리 기술 및 예능 강사            \n",
       "7  510      영업 종사자                       \n",
       "8  530      방문 노점 및 통신 판매 관련 종사자\n",
       "9  286      스포츠 및 레크레이션 관련 전문가  \n",
       "10 521      매장 판매 종사자                  "
      ]
     },
     "metadata": {},
     "output_type": "display_data"
    }
   ],
   "source": [
    "welfare %>% \n",
    "    filter(!is.na(code_job)) %>% \n",
    "    select(code_job,job) %>% \n",
    "    head(10)"
   ]
  },
  {
   "cell_type": "markdown",
   "metadata": {},
   "source": [
    "### 직업별 월급 평균표 만들기"
   ]
  },
  {
   "cell_type": "markdown",
   "metadata": {},
   "source": [
    "#### 1. 직업별 월급 평균표 만들기"
   ]
  },
  {
   "cell_type": "code",
   "execution_count": 51,
   "metadata": {},
   "outputs": [
    {
     "data": {
      "text/html": [
       "<table>\n",
       "<thead><tr><th scope=col>job</th><th scope=col>job_mean</th></tr></thead>\n",
       "<tbody>\n",
       "\t<tr><td>가사 및 육아 도우미          </td><td> 80.16648                    </td></tr>\n",
       "\t<tr><td>간호사                       </td><td>240.68127                    </td></tr>\n",
       "\t<tr><td>건설 및 광업 단순 종사원     </td><td>190.12974                    </td></tr>\n",
       "\t<tr><td>건설 및 채굴 기계운전원      </td><td>357.97000                    </td></tr>\n",
       "\t<tr><td>건설 전기 및 생산 관련 관리자</td><td>535.80556                    </td></tr>\n",
       "\t<tr><td>건설관련 기능 종사자         </td><td>246.63214                    </td></tr>\n",
       "</tbody>\n",
       "</table>\n"
      ],
      "text/latex": [
       "\\begin{tabular}{r|ll}\n",
       " job & job\\_mean\\\\\n",
       "\\hline\n",
       "\t 가사 및 육아 도우미           &  80.16648                    \\\\\n",
       "\t 간호사                        & 240.68127                    \\\\\n",
       "\t 건설 및 광업 단순 종사원      & 190.12974                    \\\\\n",
       "\t 건설 및 채굴 기계운전원       & 357.97000                    \\\\\n",
       "\t 건설 전기 및 생산 관련 관리자 & 535.80556                    \\\\\n",
       "\t 건설관련 기능 종사자          & 246.63214                    \\\\\n",
       "\\end{tabular}\n"
      ],
      "text/markdown": [
       "\n",
       "| job | job_mean |\n",
       "|---|---|\n",
       "| 가사 및 육아 도우미           |  80.16648                     |\n",
       "| 간호사                        | 240.68127                     |\n",
       "| 건설 및 광업 단순 종사원      | 190.12974                     |\n",
       "| 건설 및 채굴 기계운전원       | 357.97000                     |\n",
       "| 건설 전기 및 생산 관련 관리자 | 535.80556                     |\n",
       "| 건설관련 기능 종사자          | 246.63214                     |\n",
       "\n"
      ],
      "text/plain": [
       "  job                           job_mean \n",
       "1 가사 및 육아 도우미            80.16648\n",
       "2 간호사                        240.68127\n",
       "3 건설 및 광업 단순 종사원      190.12974\n",
       "4 건설 및 채굴 기계운전원       357.97000\n",
       "5 건설 전기 및 생산 관련 관리자 535.80556\n",
       "6 건설관련 기능 종사자          246.63214"
      ]
     },
     "metadata": {},
     "output_type": "display_data"
    }
   ],
   "source": [
    "job_income<- welfare %>% \n",
    "    filter(!is.na(job)&(!is.na(income))) %>% \n",
    "    group_by(job) %>% \n",
    "    summarise(job_mean=mean(income))\n",
    "head(job_income)"
   ]
  },
  {
   "cell_type": "markdown",
   "metadata": {},
   "source": [
    "#### 2. 상위 10개 추출"
   ]
  },
  {
   "cell_type": "code",
   "execution_count": 52,
   "metadata": {},
   "outputs": [
    {
     "data": {
      "text/html": [
       "<table>\n",
       "<thead><tr><th scope=col>job</th><th scope=col>job_mean</th></tr></thead>\n",
       "<tbody>\n",
       "\t<tr><td>금속 재료 공학 기술자 및 시험원     </td><td>845.0667                            </td></tr>\n",
       "\t<tr><td>의료진료 전문가                     </td><td>843.6429                            </td></tr>\n",
       "\t<tr><td>의회의원 고위공무원 및 공공단체임원 </td><td>750.0000                            </td></tr>\n",
       "\t<tr><td>보험 및 금융 관리자                 </td><td>726.1800                            </td></tr>\n",
       "\t<tr><td>제관원 및 판금원                    </td><td>572.4067                            </td></tr>\n",
       "\t<tr><td>행정 및 경영지원 관리자             </td><td>563.7633                            </td></tr>\n",
       "\t<tr><td>문화 예술 디자인 및 영상 관련 관리자</td><td>557.4667                            </td></tr>\n",
       "\t<tr><td>연구 교육 및 법률 관련 관리자       </td><td>549.9125                            </td></tr>\n",
       "\t<tr><td>건설 전기 및 생산 관련 관리자       </td><td>535.8056                            </td></tr>\n",
       "\t<tr><td>석유 및 화학물 가공장치 조작원      </td><td>531.6600                            </td></tr>\n",
       "</tbody>\n",
       "</table>\n"
      ],
      "text/latex": [
       "\\begin{tabular}{r|ll}\n",
       " job & job\\_mean\\\\\n",
       "\\hline\n",
       "\t 금속 재료 공학 기술자 및 시험원      & 845.0667                            \\\\\n",
       "\t 의료진료 전문가                      & 843.6429                            \\\\\n",
       "\t 의회의원 고위공무원 및 공공단체임원  & 750.0000                            \\\\\n",
       "\t 보험 및 금융 관리자                  & 726.1800                            \\\\\n",
       "\t 제관원 및 판금원                     & 572.4067                            \\\\\n",
       "\t 행정 및 경영지원 관리자              & 563.7633                            \\\\\n",
       "\t 문화 예술 디자인 및 영상 관련 관리자 & 557.4667                            \\\\\n",
       "\t 연구 교육 및 법률 관련 관리자        & 549.9125                            \\\\\n",
       "\t 건설 전기 및 생산 관련 관리자        & 535.8056                            \\\\\n",
       "\t 석유 및 화학물 가공장치 조작원       & 531.6600                            \\\\\n",
       "\\end{tabular}\n"
      ],
      "text/markdown": [
       "\n",
       "| job | job_mean |\n",
       "|---|---|\n",
       "| 금속 재료 공학 기술자 및 시험원      | 845.0667                             |\n",
       "| 의료진료 전문가                      | 843.6429                             |\n",
       "| 의회의원 고위공무원 및 공공단체임원  | 750.0000                             |\n",
       "| 보험 및 금융 관리자                  | 726.1800                             |\n",
       "| 제관원 및 판금원                     | 572.4067                             |\n",
       "| 행정 및 경영지원 관리자              | 563.7633                             |\n",
       "| 문화 예술 디자인 및 영상 관련 관리자 | 557.4667                             |\n",
       "| 연구 교육 및 법률 관련 관리자        | 549.9125                             |\n",
       "| 건설 전기 및 생산 관련 관리자        | 535.8056                             |\n",
       "| 석유 및 화학물 가공장치 조작원       | 531.6600                             |\n",
       "\n"
      ],
      "text/plain": [
       "   job                                  job_mean\n",
       "1  금속 재료 공학 기술자 및 시험원      845.0667\n",
       "2  의료진료 전문가                      843.6429\n",
       "3  의회의원 고위공무원 및 공공단체임원  750.0000\n",
       "4  보험 및 금융 관리자                  726.1800\n",
       "5  제관원 및 판금원                     572.4067\n",
       "6  행정 및 경영지원 관리자              563.7633\n",
       "7  문화 예술 디자인 및 영상 관련 관리자 557.4667\n",
       "8  연구 교육 및 법률 관련 관리자        549.9125\n",
       "9  건설 전기 및 생산 관련 관리자        535.8056\n",
       "10 석유 및 화학물 가공장치 조작원       531.6600"
      ]
     },
     "metadata": {},
     "output_type": "display_data"
    }
   ],
   "source": [
    "top10<-job_income %>% \n",
    "    arrange(desc(job_mean)) %>% \n",
    "    head(10)\n",
    "top10"
   ]
  },
  {
   "cell_type": "markdown",
   "metadata": {},
   "source": [
    "#### 3. 그래프 만들기"
   ]
  },
  {
   "cell_type": "code",
   "execution_count": 53,
   "metadata": {},
   "outputs": [
    {
     "data": {
      "image/png": "[encoded data removed]",
      "text/plain": [
       "plot without title"
      ]
     },
     "metadata": {},
     "output_type": "display_data"
    }
   ],
   "source": [
    "ggplot(data=top10,aes(x=reorder(job,job_mean),y=job_mean))+geom_col()+coord_flip()\n",
    "# coord_flip()은 가로형 막대 그래프를 만들어 준다"
   ]
  },
  {
   "cell_type": "markdown",
   "metadata": {},
   "source": [
    "### 4. 하위 10위 추출"
   ]
  },
  {
   "cell_type": "code",
   "execution_count": 54,
   "metadata": {},
   "outputs": [
    {
     "data": {
      "text/html": [
       "<table>\n",
       "<thead><tr><th scope=col>job</th><th scope=col>job_mean</th></tr></thead>\n",
       "<tbody>\n",
       "\t<tr><td>가사 및 육아 도우미         </td><td> 80.16648                   </td></tr>\n",
       "\t<tr><td>임업관련 종사자             </td><td> 83.33000                   </td></tr>\n",
       "\t<tr><td>기타 서비스관련 단순 종사원 </td><td> 88.22101                   </td></tr>\n",
       "\t<tr><td>청소원 및 환경 미화원       </td><td> 88.78775                   </td></tr>\n",
       "\t<tr><td>약사 및 한약사              </td><td> 89.00000                   </td></tr>\n",
       "\t<tr><td>작물재배 종사자             </td><td> 92.00000                   </td></tr>\n",
       "\t<tr><td>농립어업관련 단순 종사원    </td><td>101.58125                   </td></tr>\n",
       "\t<tr><td>의료 복지 관련 서비스 종사자</td><td>103.52643                   </td></tr>\n",
       "\t<tr><td>음식관련 단순 종사원        </td><td>107.84511                   </td></tr>\n",
       "\t<tr><td>판매관련 단순 종사원        </td><td>116.82203                   </td></tr>\n",
       "</tbody>\n",
       "</table>\n"
      ],
      "text/latex": [
       "\\begin{tabular}{r|ll}\n",
       " job & job\\_mean\\\\\n",
       "\\hline\n",
       "\t 가사 및 육아 도우미          &  80.16648                   \\\\\n",
       "\t 임업관련 종사자              &  83.33000                   \\\\\n",
       "\t 기타 서비스관련 단순 종사원  &  88.22101                   \\\\\n",
       "\t 청소원 및 환경 미화원        &  88.78775                   \\\\\n",
       "\t 약사 및 한약사               &  89.00000                   \\\\\n",
       "\t 작물재배 종사자              &  92.00000                   \\\\\n",
       "\t 농립어업관련 단순 종사원     & 101.58125                   \\\\\n",
       "\t 의료 복지 관련 서비스 종사자 & 103.52643                   \\\\\n",
       "\t 음식관련 단순 종사원         & 107.84511                   \\\\\n",
       "\t 판매관련 단순 종사원         & 116.82203                   \\\\\n",
       "\\end{tabular}\n"
      ],
      "text/markdown": [
       "\n",
       "| job | job_mean |\n",
       "|---|---|\n",
       "| 가사 및 육아 도우미          |  80.16648                    |\n",
       "| 임업관련 종사자              |  83.33000                    |\n",
       "| 기타 서비스관련 단순 종사원  |  88.22101                    |\n",
       "| 청소원 및 환경 미화원        |  88.78775                    |\n",
       "| 약사 및 한약사               |  89.00000                    |\n",
       "| 작물재배 종사자              |  92.00000                    |\n",
       "| 농립어업관련 단순 종사원     | 101.58125                    |\n",
       "| 의료 복지 관련 서비스 종사자 | 103.52643                    |\n",
       "| 음식관련 단순 종사원         | 107.84511                    |\n",
       "| 판매관련 단순 종사원         | 116.82203                    |\n",
       "\n"
      ],
      "text/plain": [
       "   job                          job_mean \n",
       "1  가사 및 육아 도우미           80.16648\n",
       "2  임업관련 종사자               83.33000\n",
       "3  기타 서비스관련 단순 종사원   88.22101\n",
       "4  청소원 및 환경 미화원         88.78775\n",
       "5  약사 및 한약사                89.00000\n",
       "6  작물재배 종사자               92.00000\n",
       "7  농립어업관련 단순 종사원     101.58125\n",
       "8  의료 복지 관련 서비스 종사자 103.52643\n",
       "9  음식관련 단순 종사원         107.84511\n",
       "10 판매관련 단순 종사원         116.82203"
      ]
     },
     "metadata": {},
     "output_type": "display_data"
    }
   ],
   "source": [
    "bottom10<- job_income %>% \n",
    "    arrange(job_mean) %>% \n",
    "    head(10)\n",
    "bottom10"
   ]
  },
  {
   "cell_type": "code",
   "execution_count": 55,
   "metadata": {},
   "outputs": [
    {
     "data": {
      "image/png": "[encoded data removed]",
      "text/plain": [
       "plot without title"
      ]
     },
     "metadata": {},
     "output_type": "display_data"
    }
   ],
   "source": [
    "ggplot(data=bottom10, aes(x=reorder(job,-job_mean),y=job_mean))+geom_col()+coord_flip()+ylim(0,850)"
   ]
  },
  {
   "cell_type": "markdown",
   "metadata": {},
   "source": [
    "## 9-7. 성별 직업 빈도 - \"성별로 어떤 직업이 가장 많을까?\" \n",
    "\n",
    "분석 절차\n",
    "\n",
    "1. 변수 검토 및 전처리 \n",
    "    - 성별 \n",
    "    - 직업 \n",
    "2. 변수 간 관계 분석 \n",
    "    - 성별 직업 빈도표 만들기 \n",
    "    - 그래프 만들기 "
   ]
  },
  {
   "cell_type": "markdown",
   "metadata": {},
   "source": [
    "### 성별 직업 빈도 분석하기"
   ]
  },
  {
   "cell_type": "markdown",
   "metadata": {},
   "source": [
    "#### 1. 성별 직업 빈도표 만들기"
   ]
  },
  {
   "cell_type": "code",
   "execution_count": 56,
   "metadata": {},
   "outputs": [
    {
     "data": {
      "text/html": [
       "<table>\n",
       "<thead><tr><th scope=col>job</th><th scope=col>n</th></tr></thead>\n",
       "<tbody>\n",
       "\t<tr><td>작물재배 종사자         </td><td>640                     </td></tr>\n",
       "\t<tr><td>자동차 운전원           </td><td>251                     </td></tr>\n",
       "\t<tr><td>경영관련 사무원         </td><td>213                     </td></tr>\n",
       "\t<tr><td>영업 종사자             </td><td>141                     </td></tr>\n",
       "\t<tr><td>매장 판매 종사자        </td><td>132                     </td></tr>\n",
       "\t<tr><td>제조관련 단순 종사원    </td><td>104                     </td></tr>\n",
       "\t<tr><td>청소원 및 환경 미화원   </td><td> 97                     </td></tr>\n",
       "\t<tr><td>건설 및 광업 단순 종사원</td><td> 95                     </td></tr>\n",
       "\t<tr><td>경비원 및 검표원        </td><td> 95                     </td></tr>\n",
       "\t<tr><td>행정 사무원             </td><td> 92                     </td></tr>\n",
       "</tbody>\n",
       "</table>\n"
      ],
      "text/latex": [
       "\\begin{tabular}{r|ll}\n",
       " job & n\\\\\n",
       "\\hline\n",
       "\t 작물재배 종사자          & 640                     \\\\\n",
       "\t 자동차 운전원            & 251                     \\\\\n",
       "\t 경영관련 사무원          & 213                     \\\\\n",
       "\t 영업 종사자              & 141                     \\\\\n",
       "\t 매장 판매 종사자         & 132                     \\\\\n",
       "\t 제조관련 단순 종사원     & 104                     \\\\\n",
       "\t 청소원 및 환경 미화원    &  97                     \\\\\n",
       "\t 건설 및 광업 단순 종사원 &  95                     \\\\\n",
       "\t 경비원 및 검표원         &  95                     \\\\\n",
       "\t 행정 사무원              &  92                     \\\\\n",
       "\\end{tabular}\n"
      ],
      "text/markdown": [
       "\n",
       "| job | n |\n",
       "|---|---|\n",
       "| 작물재배 종사자          | 640                      |\n",
       "| 자동차 운전원            | 251                      |\n",
       "| 경영관련 사무원          | 213                      |\n",
       "| 영업 종사자              | 141                      |\n",
       "| 매장 판매 종사자         | 132                      |\n",
       "| 제조관련 단순 종사원     | 104                      |\n",
       "| 청소원 및 환경 미화원    |  97                      |\n",
       "| 건설 및 광업 단순 종사원 |  95                      |\n",
       "| 경비원 및 검표원         |  95                      |\n",
       "| 행정 사무원              |  92                      |\n",
       "\n"
      ],
      "text/plain": [
       "   job                      n  \n",
       "1  작물재배 종사자          640\n",
       "2  자동차 운전원            251\n",
       "3  경영관련 사무원          213\n",
       "4  영업 종사자              141\n",
       "5  매장 판매 종사자         132\n",
       "6  제조관련 단순 종사원     104\n",
       "7  청소원 및 환경 미화원     97\n",
       "8  건설 및 광업 단순 종사원  95\n",
       "9  경비원 및 검표원          95\n",
       "10 행정 사무원               92"
      ]
     },
     "metadata": {},
     "output_type": "display_data"
    }
   ],
   "source": [
    "# 남성 직업 빈도 상위 10개 추출\n",
    "job_male<-welfare %>% \n",
    "    filter(!is.na(job)& welfare$sex == 'male') %>% \n",
    "    group_by(job) %>%\n",
    "    summarise(n=n()) %>% \n",
    "    arrange(desc(n)) %>% \n",
    "    head(10)\n",
    "job_male"
   ]
  },
  {
   "cell_type": "code",
   "execution_count": 57,
   "metadata": {},
   "outputs": [
    {
     "data": {
      "text/html": [
       "<table>\n",
       "<thead><tr><th scope=col>job</th><th scope=col>n</th></tr></thead>\n",
       "<tbody>\n",
       "\t<tr><td>작물재배 종사자             </td><td>680                         </td></tr>\n",
       "\t<tr><td>청소원 및 환경 미화원       </td><td>228                         </td></tr>\n",
       "\t<tr><td>매장 판매 종사자            </td><td>221                         </td></tr>\n",
       "\t<tr><td>제조관련 단순 종사원        </td><td>185                         </td></tr>\n",
       "\t<tr><td>회계 및 경리 사무원         </td><td>176                         </td></tr>\n",
       "\t<tr><td>음식서비스 종사자           </td><td>149                         </td></tr>\n",
       "\t<tr><td>주방장 및 조리사            </td><td>126                         </td></tr>\n",
       "\t<tr><td>가사 및 육아 도우미         </td><td>125                         </td></tr>\n",
       "\t<tr><td>의료 복지 관련 서비스 종사자</td><td>121                         </td></tr>\n",
       "\t<tr><td>음식관련 단순 종사원        </td><td>104                         </td></tr>\n",
       "</tbody>\n",
       "</table>\n"
      ],
      "text/latex": [
       "\\begin{tabular}{r|ll}\n",
       " job & n\\\\\n",
       "\\hline\n",
       "\t 작물재배 종사자              & 680                         \\\\\n",
       "\t 청소원 및 환경 미화원        & 228                         \\\\\n",
       "\t 매장 판매 종사자             & 221                         \\\\\n",
       "\t 제조관련 단순 종사원         & 185                         \\\\\n",
       "\t 회계 및 경리 사무원          & 176                         \\\\\n",
       "\t 음식서비스 종사자            & 149                         \\\\\n",
       "\t 주방장 및 조리사             & 126                         \\\\\n",
       "\t 가사 및 육아 도우미          & 125                         \\\\\n",
       "\t 의료 복지 관련 서비스 종사자 & 121                         \\\\\n",
       "\t 음식관련 단순 종사원         & 104                         \\\\\n",
       "\\end{tabular}\n"
      ],
      "text/markdown": [
       "\n",
       "| job | n |\n",
       "|---|---|\n",
       "| 작물재배 종사자              | 680                          |\n",
       "| 청소원 및 환경 미화원        | 228                          |\n",
       "| 매장 판매 종사자             | 221                          |\n",
       "| 제조관련 단순 종사원         | 185                          |\n",
       "| 회계 및 경리 사무원          | 176                          |\n",
       "| 음식서비스 종사자            | 149                          |\n",
       "| 주방장 및 조리사             | 126                          |\n",
       "| 가사 및 육아 도우미          | 125                          |\n",
       "| 의료 복지 관련 서비스 종사자 | 121                          |\n",
       "| 음식관련 단순 종사원         | 104                          |\n",
       "\n"
      ],
      "text/plain": [
       "   job                          n  \n",
       "1  작물재배 종사자              680\n",
       "2  청소원 및 환경 미화원        228\n",
       "3  매장 판매 종사자             221\n",
       "4  제조관련 단순 종사원         185\n",
       "5  회계 및 경리 사무원          176\n",
       "6  음식서비스 종사자            149\n",
       "7  주방장 및 조리사             126\n",
       "8  가사 및 육아 도우미          125\n",
       "9  의료 복지 관련 서비스 종사자 121\n",
       "10 음식관련 단순 종사원         104"
      ]
     },
     "metadata": {},
     "output_type": "display_data"
    }
   ],
   "source": [
    "# 여성 직업 빈도 상위 10 개 직업\n",
    "job_female<-welfare %>% \n",
    "    filter(!is.na(job) & sex=='female') %>%\n",
    "    group_by(job) %>% \n",
    "    summarise(n=n()) %>% \n",
    "    arrange(desc(n)) %>% \n",
    "    head(10)\n",
    "job_female"
   ]
  },
  {
   "cell_type": "code",
   "execution_count": 58,
   "metadata": {},
   "outputs": [
    {
     "data": {
      "image/png": "[encoded data removed]",
      "text/plain": [
       "plot without title"
      ]
     },
     "metadata": {},
     "output_type": "display_data"
    }
   ],
   "source": [
    "# 남성 직업 빈도 상위 10 개 직업\n",
    "ggplot(data=job_male, aes(x=reorder(job,n),y=n)) + geom_col()+coord_flip() "
   ]
  },
  {
   "cell_type": "code",
   "execution_count": 59,
   "metadata": {},
   "outputs": [
    {
     "data": {
      "image/png": "[encoded data removed]",
      "text/plain": [
       "plot without title"
      ]
     },
     "metadata": {},
     "output_type": "display_data"
    }
   ],
   "source": [
    "# 여성 직업 빈도 상위 10 개 직업\n",
    "ggplot(data=job_female, aes(x=reorder(job,n),y=n)) + geom_col() + coord_flip()"
   ]
  },
  {
   "cell_type": "markdown",
   "metadata": {},
   "source": [
    "## 9-8. 종교 유무에 따른 이혼율 - \"종교가 있는 사람들이 이혼을 덜 할까? \n",
    "\n",
    "분석 절차 \n",
    "\n",
    "1. 변수 검토 및 전처리 \n",
    "    - 종교 \n",
    "    - 혼인 상태 \n",
    "\n",
    "2. 변수 간 관계 분석 \n",
    "    - 종교 유무에 따른 이혼율 표 만들기 \n",
    "    - 그래프 만들기 "
   ]
  },
  {
   "cell_type": "markdown",
   "metadata": {},
   "source": [
    "### 종교 변수 검토 및 전처리하기"
   ]
  },
  {
   "cell_type": "markdown",
   "metadata": {},
   "source": [
    "#### 1. 변수 검토하기"
   ]
  },
  {
   "cell_type": "code",
   "execution_count": 60,
   "metadata": {},
   "outputs": [
    {
     "data": {
      "text/html": [
       "'numeric'"
      ],
      "text/latex": [
       "'numeric'"
      ],
      "text/markdown": [
       "'numeric'"
      ],
      "text/plain": [
       "[1] \"numeric\""
      ]
     },
     "metadata": {},
     "output_type": "display_data"
    }
   ],
   "source": [
    "class(welfare$religion)"
   ]
  },
  {
   "cell_type": "code",
   "execution_count": 61,
   "metadata": {},
   "outputs": [
    {
     "data": {
      "text/plain": [
       "\n",
       "   1    2 \n",
       "8047 8617 "
      ]
     },
     "metadata": {},
     "output_type": "display_data"
    }
   ],
   "source": [
    "table(welfare$religion)"
   ]
  },
  {
   "cell_type": "markdown",
   "metadata": {},
   "source": [
    "#### 전처리"
   ]
  },
  {
   "cell_type": "code",
   "execution_count": 62,
   "metadata": {},
   "outputs": [
    {
     "data": {
      "text/plain": [
       "\n",
       "  no  yes \n",
       "8617 8047 "
      ]
     },
     "metadata": {},
     "output_type": "display_data"
    }
   ],
   "source": [
    "# 종교 유무 이름 부여\n",
    "welfare$religion<-ifelse(welfare$religion == 1,\"yes\",\"no\")\n",
    "table(welfare$religion)"
   ]
  },
  {
   "cell_type": "code",
   "execution_count": 63,
   "metadata": {},
   "outputs": [
    {
     "data": {
      "image/png": "[encoded data removed]",
      "text/plain": [
       "plot without title"
      ]
     },
     "metadata": {},
     "output_type": "display_data"
    }
   ],
   "source": [
    "qplot(welfare$religion)"
   ]
  },
  {
   "cell_type": "markdown",
   "metadata": {},
   "source": [
    "### 혼인 상태 변수 검토 및 전처리하기 "
   ]
  },
  {
   "cell_type": "markdown",
   "metadata": {},
   "source": [
    "#### 1. 변수 검토하기"
   ]
  },
  {
   "cell_type": "code",
   "execution_count": 64,
   "metadata": {},
   "outputs": [
    {
     "data": {
      "text/html": [
       "'numeric'"
      ],
      "text/latex": [
       "'numeric'"
      ],
      "text/markdown": [
       "'numeric'"
      ],
      "text/plain": [
       "[1] \"numeric\""
      ]
     },
     "metadata": {},
     "output_type": "display_data"
    }
   ],
   "source": [
    "class(welfare$marriage)"
   ]
  },
  {
   "cell_type": "code",
   "execution_count": 67,
   "metadata": {},
   "outputs": [
    {
     "data": {
      "text/plain": [
       "\n",
       "   0    1    2    3    4    5    6 \n",
       "2861 8431 2117  712   84 2433   26 "
      ]
     },
     "metadata": {},
     "output_type": "display_data"
    }
   ],
   "source": [
    "table(welfare$marriage)"
   ]
  },
  {
   "cell_type": "markdown",
   "metadata": {},
   "source": [
    "#### 2. 전처리"
   ]
  },
  {
   "cell_type": "code",
   "execution_count": 69,
   "metadata": {},
   "outputs": [
    {
     "data": {
      "text/plain": [
       "\n",
       " divorce marriage \n",
       "     712     8431 "
      ]
     },
     "metadata": {},
     "output_type": "display_data"
    }
   ],
   "source": [
    "# 이혼 여부 변수 만들기\n",
    "welfare$group_marriage<-ifelse(welfare$marriage == 1,\"marriage\",ifelse(welfare$marriage == 3, 'divorce',NA))\n",
    "table(welfare$group_marriage)"
   ]
  },
  {
   "cell_type": "code",
   "execution_count": 72,
   "metadata": {},
   "outputs": [
    {
     "data": {
      "text/plain": [
       "\n",
       "FALSE  TRUE \n",
       " 9143  7521 "
      ]
     },
     "metadata": {},
     "output_type": "display_data"
    }
   ],
   "source": [
    "table(is.na(welfare$group_marriage))"
   ]
  },
  {
   "cell_type": "code",
   "execution_count": 71,
   "metadata": {},
   "outputs": [
    {
     "data": {
      "image/png": "[encoded data removed]",
      "text/plain": [
       "plot without title"
      ]
     },
     "metadata": {},
     "output_type": "display_data"
    }
   ],
   "source": [
    "qplot(welfare$group_marriage)"
   ]
  },
  {
   "cell_type": "markdown",
   "metadata": {},
   "source": [
    "### 종교 유무에 따른 이혼율 분석하기"
   ]
  },
  {
   "cell_type": "markdown",
   "metadata": {},
   "source": [
    "#### 1. 종교 유무에 따른 이혼율 표 만들기"
   ]
  },
  {
   "cell_type": "code",
   "execution_count": 79,
   "metadata": {},
   "outputs": [
    {
     "data": {
      "text/html": [
       "<table>\n",
       "<thead><tr><th scope=col>religion</th><th scope=col>group_marriage</th><th scope=col>n</th><th scope=col>tot_group</th><th scope=col>pct</th></tr></thead>\n",
       "<tbody>\n",
       "\t<tr><td>no      </td><td>divorce </td><td> 384    </td><td>4602    </td><td> 8.3    </td></tr>\n",
       "\t<tr><td>no      </td><td>marriage</td><td>4218    </td><td>4602    </td><td>91.7    </td></tr>\n",
       "\t<tr><td>yes     </td><td>divorce </td><td> 328    </td><td>4541    </td><td> 7.2    </td></tr>\n",
       "\t<tr><td>yes     </td><td>marriage</td><td>4213    </td><td>4541    </td><td>92.8    </td></tr>\n",
       "</tbody>\n",
       "</table>\n"
      ],
      "text/latex": [
       "\\begin{tabular}{r|lllll}\n",
       " religion & group\\_marriage & n & tot\\_group & pct\\\\\n",
       "\\hline\n",
       "\t no       & divorce  &  384     & 4602     &  8.3    \\\\\n",
       "\t no       & marriage & 4218     & 4602     & 91.7    \\\\\n",
       "\t yes      & divorce  &  328     & 4541     &  7.2    \\\\\n",
       "\t yes      & marriage & 4213     & 4541     & 92.8    \\\\\n",
       "\\end{tabular}\n"
      ],
      "text/markdown": [
       "\n",
       "| religion | group_marriage | n | tot_group | pct |\n",
       "|---|---|---|---|---|\n",
       "| no       | divorce  |  384     | 4602     |  8.3     |\n",
       "| no       | marriage | 4218     | 4602     | 91.7     |\n",
       "| yes      | divorce  |  328     | 4541     |  7.2     |\n",
       "| yes      | marriage | 4213     | 4541     | 92.8     |\n",
       "\n"
      ],
      "text/plain": [
       "  religion group_marriage n    tot_group pct \n",
       "1 no       divorce         384 4602       8.3\n",
       "2 no       marriage       4218 4602      91.7\n",
       "3 yes      divorce         328 4541       7.2\n",
       "4 yes      marriage       4213 4541      92.8"
      ]
     },
     "metadata": {},
     "output_type": "display_data"
    }
   ],
   "source": [
    "# round함수는 소숫점을 표현해준다\n",
    "# mutate(pct=round(n/tot_group*100)의 경우에는 소숫점이 나타나지 않는다\n",
    "religion_marriage<- welfare %>% \n",
    "    filter(!is.na(group_marriage)) %>% \n",
    "    group_by(religion,group_marriage) %>% \n",
    "    summarise(n=n()) %>% \n",
    "    mutate(tot_group=sum(n)) %>% \n",
    "    mutate(pct=round(n/tot_group*100,1))\n",
    "religion_marriage"
   ]
  },
  {
   "cell_type": "markdown",
   "metadata": {},
   "source": [
    "#### count()활용"
   ]
  },
  {
   "cell_type": "code",
   "execution_count": 80,
   "metadata": {},
   "outputs": [
    {
     "data": {
      "text/html": [
       "<table>\n",
       "<thead><tr><th scope=col>religion</th><th scope=col>group_marriage</th><th scope=col>n</th><th scope=col>pct</th></tr></thead>\n",
       "<tbody>\n",
       "\t<tr><td>no      </td><td>divorce </td><td> 384    </td><td> 8.3    </td></tr>\n",
       "\t<tr><td>no      </td><td>marriage</td><td>4218    </td><td>91.7    </td></tr>\n",
       "\t<tr><td>yes     </td><td>divorce </td><td> 328    </td><td> 7.2    </td></tr>\n",
       "\t<tr><td>yes     </td><td>marriage</td><td>4213    </td><td>92.8    </td></tr>\n",
       "</tbody>\n",
       "</table>\n"
      ],
      "text/latex": [
       "\\begin{tabular}{r|llll}\n",
       " religion & group\\_marriage & n & pct\\\\\n",
       "\\hline\n",
       "\t no       & divorce  &  384     &  8.3    \\\\\n",
       "\t no       & marriage & 4218     & 91.7    \\\\\n",
       "\t yes      & divorce  &  328     &  7.2    \\\\\n",
       "\t yes      & marriage & 4213     & 92.8    \\\\\n",
       "\\end{tabular}\n"
      ],
      "text/markdown": [
       "\n",
       "| religion | group_marriage | n | pct |\n",
       "|---|---|---|---|\n",
       "| no       | divorce  |  384     |  8.3     |\n",
       "| no       | marriage | 4218     | 91.7     |\n",
       "| yes      | divorce  |  328     |  7.2     |\n",
       "| yes      | marriage | 4213     | 92.8     |\n",
       "\n"
      ],
      "text/plain": [
       "  religion group_marriage n    pct \n",
       "1 no       divorce         384  8.3\n",
       "2 no       marriage       4218 91.7\n",
       "3 yes      divorce         328  7.2\n",
       "4 yes      marriage       4213 92.8"
      ]
     },
     "metadata": {},
     "output_type": "display_data"
    }
   ],
   "source": [
    "religion_marriage<-welfare %>% \n",
    "    filter(!is.na(group_marriage)) %>% \n",
    "    count(religion,group_marriage) %>% \n",
    "    group_by(religion) %>% \n",
    "    mutate(pct=round(n/sum(n)*100,1))\n",
    "religion_marriage"
   ]
  },
  {
   "cell_type": "markdown",
   "metadata": {},
   "source": [
    "#### 2. 이혼율 표 만들기"
   ]
  },
  {
   "cell_type": "code",
   "execution_count": 82,
   "metadata": {},
   "outputs": [
    {
     "data": {
      "text/html": [
       "<table>\n",
       "<thead><tr><th scope=col>religion</th><th scope=col>pct</th></tr></thead>\n",
       "<tbody>\n",
       "\t<tr><td>no </td><td>8.3</td></tr>\n",
       "\t<tr><td>yes</td><td>7.2</td></tr>\n",
       "</tbody>\n",
       "</table>\n"
      ],
      "text/latex": [
       "\\begin{tabular}{r|ll}\n",
       " religion & pct\\\\\n",
       "\\hline\n",
       "\t no  & 8.3\\\\\n",
       "\t yes & 7.2\\\\\n",
       "\\end{tabular}\n"
      ],
      "text/markdown": [
       "\n",
       "| religion | pct |\n",
       "|---|---|\n",
       "| no  | 8.3 |\n",
       "| yes | 7.2 |\n",
       "\n"
      ],
      "text/plain": [
       "  religion pct\n",
       "1 no       8.3\n",
       "2 yes      7.2"
      ]
     },
     "metadata": {},
     "output_type": "display_data"
    }
   ],
   "source": [
    "# 이혼 추출\n",
    "divorce<-religion_marriage %>% \n",
    "    filter(group_marriage == \"divorce\") %>% \n",
    "    select(religion,pct)\n",
    "divorce"
   ]
  },
  {
   "cell_type": "code",
   "execution_count": 83,
   "metadata": {},
   "outputs": [
    {
     "data": {
      "image/png": "[encoded data removed]",
      "text/plain": [
       "plot without title"
      ]
     },
     "metadata": {},
     "output_type": "display_data"
    }
   ],
   "source": [
    "ggplot(data=divorce, aes(x=religion,y=pct))+geom_col()"
   ]
  },
  {
   "cell_type": "markdown",
   "metadata": {},
   "source": [
    "### 연령대 및 종교 유무에 따른 이혼율 분석하기 "
   ]
  },
  {
   "cell_type": "markdown",
   "metadata": {},
   "source": [
    "#### 1. 연령대별 이혼율 표 만들기"
   ]
  },
  {
   "cell_type": "code",
   "execution_count": 85,
   "metadata": {},
   "outputs": [
    {
     "data": {
      "text/html": [
       "<table>\n",
       "<thead><tr><th scope=col>ageg</th><th scope=col>group_marriage</th><th scope=col>n</th><th scope=col>tot_group</th><th scope=col>pct</th></tr></thead>\n",
       "<tbody>\n",
       "\t<tr><td>middle  </td><td>divorce </td><td> 437    </td><td>4918    </td><td> 8.9    </td></tr>\n",
       "\t<tr><td>middle  </td><td>marriage</td><td>4481    </td><td>4918    </td><td>91.1    </td></tr>\n",
       "\t<tr><td>old     </td><td>divorce </td><td> 273    </td><td>4165    </td><td> 6.6    </td></tr>\n",
       "\t<tr><td>old     </td><td>marriage</td><td>3892    </td><td>4165    </td><td>93.4    </td></tr>\n",
       "\t<tr><td>young   </td><td>divorce </td><td>   2    </td><td>  60    </td><td> 3.3    </td></tr>\n",
       "\t<tr><td>young   </td><td>marriage</td><td>  58    </td><td>  60    </td><td>96.7    </td></tr>\n",
       "</tbody>\n",
       "</table>\n"
      ],
      "text/latex": [
       "\\begin{tabular}{r|lllll}\n",
       " ageg & group\\_marriage & n & tot\\_group & pct\\\\\n",
       "\\hline\n",
       "\t middle   & divorce  &  437     & 4918     &  8.9    \\\\\n",
       "\t middle   & marriage & 4481     & 4918     & 91.1    \\\\\n",
       "\t old      & divorce  &  273     & 4165     &  6.6    \\\\\n",
       "\t old      & marriage & 3892     & 4165     & 93.4    \\\\\n",
       "\t young    & divorce  &    2     &   60     &  3.3    \\\\\n",
       "\t young    & marriage &   58     &   60     & 96.7    \\\\\n",
       "\\end{tabular}\n"
      ],
      "text/markdown": [
       "\n",
       "| ageg | group_marriage | n | tot_group | pct |\n",
       "|---|---|---|---|---|\n",
       "| middle   | divorce  |  437     | 4918     |  8.9     |\n",
       "| middle   | marriage | 4481     | 4918     | 91.1     |\n",
       "| old      | divorce  |  273     | 4165     |  6.6     |\n",
       "| old      | marriage | 3892     | 4165     | 93.4     |\n",
       "| young    | divorce  |    2     |   60     |  3.3     |\n",
       "| young    | marriage |   58     |   60     | 96.7     |\n",
       "\n"
      ],
      "text/plain": [
       "  ageg   group_marriage n    tot_group pct \n",
       "1 middle divorce         437 4918       8.9\n",
       "2 middle marriage       4481 4918      91.1\n",
       "3 old    divorce         273 4165       6.6\n",
       "4 old    marriage       3892 4165      93.4\n",
       "5 young  divorce           2   60       3.3\n",
       "6 young  marriage         58   60      96.7"
      ]
     },
     "metadata": {},
     "output_type": "display_data"
    }
   ],
   "source": [
    "ageg_marriage<- welfare %>% \n",
    "    filter(!is.na(group_marriage)) %>% \n",
    "    group_by(ageg,group_marriage) %>% \n",
    "    summarise(n=n()) %>% \n",
    "    mutate(tot_group=sum(n)) %>% \n",
    "    mutate(pct=round(n/tot_group*100,1))\n",
    "ageg_marriage"
   ]
  },
  {
   "cell_type": "markdown",
   "metadata": {},
   "source": [
    "#### count() 활용  "
   ]
  },
  {
   "cell_type": "code",
   "execution_count": 89,
   "metadata": {},
   "outputs": [
    {
     "data": {
      "text/html": [
       "<table>\n",
       "<thead><tr><th scope=col>ageg</th><th scope=col>group_marriage</th><th scope=col>n</th><th scope=col>pct</th></tr></thead>\n",
       "<tbody>\n",
       "\t<tr><td>middle  </td><td>divorce </td><td> 437    </td><td> 8.9    </td></tr>\n",
       "\t<tr><td>middle  </td><td>marriage</td><td>4481    </td><td>91.1    </td></tr>\n",
       "\t<tr><td>old     </td><td>divorce </td><td> 273    </td><td> 6.6    </td></tr>\n",
       "\t<tr><td>old     </td><td>marriage</td><td>3892    </td><td>93.4    </td></tr>\n",
       "\t<tr><td>young   </td><td>divorce </td><td>   2    </td><td> 3.3    </td></tr>\n",
       "\t<tr><td>young   </td><td>marriage</td><td>  58    </td><td>96.7    </td></tr>\n",
       "</tbody>\n",
       "</table>\n"
      ],
      "text/latex": [
       "\\begin{tabular}{r|llll}\n",
       " ageg & group\\_marriage & n & pct\\\\\n",
       "\\hline\n",
       "\t middle   & divorce  &  437     &  8.9    \\\\\n",
       "\t middle   & marriage & 4481     & 91.1    \\\\\n",
       "\t old      & divorce  &  273     &  6.6    \\\\\n",
       "\t old      & marriage & 3892     & 93.4    \\\\\n",
       "\t young    & divorce  &    2     &  3.3    \\\\\n",
       "\t young    & marriage &   58     & 96.7    \\\\\n",
       "\\end{tabular}\n"
      ],
      "text/markdown": [
       "\n",
       "| ageg | group_marriage | n | pct |\n",
       "|---|---|---|---|\n",
       "| middle   | divorce  |  437     |  8.9     |\n",
       "| middle   | marriage | 4481     | 91.1     |\n",
       "| old      | divorce  |  273     |  6.6     |\n",
       "| old      | marriage | 3892     | 93.4     |\n",
       "| young    | divorce  |    2     |  3.3     |\n",
       "| young    | marriage |   58     | 96.7     |\n",
       "\n"
      ],
      "text/plain": [
       "  ageg   group_marriage n    pct \n",
       "1 middle divorce         437  8.9\n",
       "2 middle marriage       4481 91.1\n",
       "3 old    divorce         273  6.6\n",
       "4 old    marriage       3892 93.4\n",
       "5 young  divorce           2  3.3\n",
       "6 young  marriage         58 96.7"
      ]
     },
     "metadata": {},
     "output_type": "display_data"
    }
   ],
   "source": [
    "ageg_marriage<- welfare %>% \n",
    "    filter(!is.na(group_marriage)) %>% \n",
    "    count(ageg,group_marriage) %>% \n",
    "    group_by(ageg) %>% \n",
    "    mutate(pct=round(n/sum(n)*100,1))\n",
    "ageg_marriage"
   ]
  },
  {
   "cell_type": "markdown",
   "metadata": {},
   "source": [
    "#### 2. 연령대별 이혼율 그래프 만들기 "
   ]
  },
  {
   "cell_type": "code",
   "execution_count": 92,
   "metadata": {},
   "outputs": [
    {
     "data": {
      "text/html": [
       "<table>\n",
       "<thead><tr><th scope=col>ageg</th><th scope=col>pct</th></tr></thead>\n",
       "<tbody>\n",
       "\t<tr><td>middle</td><td>8.9   </td></tr>\n",
       "\t<tr><td>old   </td><td>6.6   </td></tr>\n",
       "</tbody>\n",
       "</table>\n"
      ],
      "text/latex": [
       "\\begin{tabular}{r|ll}\n",
       " ageg & pct\\\\\n",
       "\\hline\n",
       "\t middle & 8.9   \\\\\n",
       "\t old    & 6.6   \\\\\n",
       "\\end{tabular}\n"
      ],
      "text/markdown": [
       "\n",
       "| ageg | pct |\n",
       "|---|---|\n",
       "| middle | 8.9    |\n",
       "| old    | 6.6    |\n",
       "\n"
      ],
      "text/plain": [
       "  ageg   pct\n",
       "1 middle 8.9\n",
       "2 old    6.6"
      ]
     },
     "metadata": {},
     "output_type": "display_data"
    }
   ],
   "source": [
    "# 초년 제외 , 이혼 추출\n",
    "ageg_divorce <- ageg_marriage %>%\n",
    "    filter(ageg != \"young\" & group_marriage == \"divorce\") %>%\n",
    "    select(ageg, pct) \n",
    " \n",
    "ageg_divorce"
   ]
  },
  {
   "cell_type": "code",
   "execution_count": 93,
   "metadata": {},
   "outputs": [
    {
     "data": {
      "image/png": "[encoded data removed]",
      "text/plain": [
       "plot without title"
      ]
     },
     "metadata": {},
     "output_type": "display_data"
    }
   ],
   "source": [
    "# 그래프 만들기\n",
    "ggplot(data=ageg_divorce,aes(x=ageg,y=pct))+geom_col()"
   ]
  },
  {
   "cell_type": "markdown",
   "metadata": {},
   "source": [
    "#### 3. 연령대 및 종교 유무에 따른 이혼율 표 만들기 "
   ]
  },
  {
   "cell_type": "code",
   "execution_count": 94,
   "metadata": {},
   "outputs": [
    {
     "data": {
      "text/html": [
       "<table>\n",
       "<thead><tr><th scope=col>ageg</th><th scope=col>religion</th><th scope=col>group_marriage</th><th scope=col>n</th><th scope=col>tot_group</th><th scope=col>pct</th></tr></thead>\n",
       "<tbody>\n",
       "\t<tr><td>middle  </td><td>no      </td><td>divorce </td><td> 260    </td><td>2681    </td><td> 9.7    </td></tr>\n",
       "\t<tr><td>middle  </td><td>no      </td><td>marriage</td><td>2421    </td><td>2681    </td><td>90.3    </td></tr>\n",
       "\t<tr><td>middle  </td><td>yes     </td><td>divorce </td><td> 177    </td><td>2237    </td><td> 7.9    </td></tr>\n",
       "\t<tr><td>middle  </td><td>yes     </td><td>marriage</td><td>2060    </td><td>2237    </td><td>92.1    </td></tr>\n",
       "\t<tr><td>old     </td><td>no      </td><td>divorce </td><td> 123    </td><td>1884    </td><td> 6.5    </td></tr>\n",
       "\t<tr><td>old     </td><td>no      </td><td>marriage</td><td>1761    </td><td>1884    </td><td>93.5    </td></tr>\n",
       "\t<tr><td>old     </td><td>yes     </td><td>divorce </td><td> 150    </td><td>2281    </td><td> 6.6    </td></tr>\n",
       "\t<tr><td>old     </td><td>yes     </td><td>marriage</td><td>2131    </td><td>2281    </td><td>93.4    </td></tr>\n",
       "</tbody>\n",
       "</table>\n"
      ],
      "text/latex": [
       "\\begin{tabular}{r|llllll}\n",
       " ageg & religion & group\\_marriage & n & tot\\_group & pct\\\\\n",
       "\\hline\n",
       "\t middle   & no       & divorce  &  260     & 2681     &  9.7    \\\\\n",
       "\t middle   & no       & marriage & 2421     & 2681     & 90.3    \\\\\n",
       "\t middle   & yes      & divorce  &  177     & 2237     &  7.9    \\\\\n",
       "\t middle   & yes      & marriage & 2060     & 2237     & 92.1    \\\\\n",
       "\t old      & no       & divorce  &  123     & 1884     &  6.5    \\\\\n",
       "\t old      & no       & marriage & 1761     & 1884     & 93.5    \\\\\n",
       "\t old      & yes      & divorce  &  150     & 2281     &  6.6    \\\\\n",
       "\t old      & yes      & marriage & 2131     & 2281     & 93.4    \\\\\n",
       "\\end{tabular}\n"
      ],
      "text/markdown": [
       "\n",
       "| ageg | religion | group_marriage | n | tot_group | pct |\n",
       "|---|---|---|---|---|---|\n",
       "| middle   | no       | divorce  |  260     | 2681     |  9.7     |\n",
       "| middle   | no       | marriage | 2421     | 2681     | 90.3     |\n",
       "| middle   | yes      | divorce  |  177     | 2237     |  7.9     |\n",
       "| middle   | yes      | marriage | 2060     | 2237     | 92.1     |\n",
       "| old      | no       | divorce  |  123     | 1884     |  6.5     |\n",
       "| old      | no       | marriage | 1761     | 1884     | 93.5     |\n",
       "| old      | yes      | divorce  |  150     | 2281     |  6.6     |\n",
       "| old      | yes      | marriage | 2131     | 2281     | 93.4     |\n",
       "\n"
      ],
      "text/plain": [
       "  ageg   religion group_marriage n    tot_group pct \n",
       "1 middle no       divorce         260 2681       9.7\n",
       "2 middle no       marriage       2421 2681      90.3\n",
       "3 middle yes      divorce         177 2237       7.9\n",
       "4 middle yes      marriage       2060 2237      92.1\n",
       "5 old    no       divorce         123 1884       6.5\n",
       "6 old    no       marriage       1761 1884      93.5\n",
       "7 old    yes      divorce         150 2281       6.6\n",
       "8 old    yes      marriage       2131 2281      93.4"
      ]
     },
     "metadata": {},
     "output_type": "display_data"
    }
   ],
   "source": [
    "# 연령대 , 종교유무 , 결혼상태별 비율표 만들기\n",
    "ageg_religion_marriage <- welfare %>% \n",
    "    filter(!is.na(group_marriage) & ageg != 'young') %>% \n",
    "    group_by(ageg,religion,group_marriage) %>% \n",
    "    summarise(n=n()) %>% \n",
    "    mutate(tot_group=sum(n)) %>% \n",
    "    mutate(pct=round(n/tot_group*100,1))\n",
    "ageg_religion_marriage"
   ]
  },
  {
   "cell_type": "markdown",
   "metadata": {},
   "source": [
    "# (count를 잘 모르겠다)\n",
    "#### count() 활용"
   ]
  },
  {
   "cell_type": "code",
   "execution_count": 95,
   "metadata": {},
   "outputs": [
    {
     "data": {
      "text/html": [
       "<table>\n",
       "<thead><tr><th scope=col>ageg</th><th scope=col>religion</th><th scope=col>group_marriage</th><th scope=col>n</th><th scope=col>pct</th></tr></thead>\n",
       "<tbody>\n",
       "\t<tr><td>middle  </td><td>no      </td><td>divorce </td><td> 260    </td><td> 9.7    </td></tr>\n",
       "\t<tr><td>middle  </td><td>no      </td><td>marriage</td><td>2421    </td><td>90.3    </td></tr>\n",
       "\t<tr><td>middle  </td><td>yes     </td><td>divorce </td><td> 177    </td><td> 7.9    </td></tr>\n",
       "\t<tr><td>middle  </td><td>yes     </td><td>marriage</td><td>2060    </td><td>92.1    </td></tr>\n",
       "\t<tr><td>old     </td><td>no      </td><td>divorce </td><td> 123    </td><td> 6.5    </td></tr>\n",
       "\t<tr><td>old     </td><td>no      </td><td>marriage</td><td>1761    </td><td>93.5    </td></tr>\n",
       "\t<tr><td>old     </td><td>yes     </td><td>divorce </td><td> 150    </td><td> 6.6    </td></tr>\n",
       "\t<tr><td>old     </td><td>yes     </td><td>marriage</td><td>2131    </td><td>93.4    </td></tr>\n",
       "</tbody>\n",
       "</table>\n"
      ],
      "text/latex": [
       "\\begin{tabular}{r|lllll}\n",
       " ageg & religion & group\\_marriage & n & pct\\\\\n",
       "\\hline\n",
       "\t middle   & no       & divorce  &  260     &  9.7    \\\\\n",
       "\t middle   & no       & marriage & 2421     & 90.3    \\\\\n",
       "\t middle   & yes      & divorce  &  177     &  7.9    \\\\\n",
       "\t middle   & yes      & marriage & 2060     & 92.1    \\\\\n",
       "\t old      & no       & divorce  &  123     &  6.5    \\\\\n",
       "\t old      & no       & marriage & 1761     & 93.5    \\\\\n",
       "\t old      & yes      & divorce  &  150     &  6.6    \\\\\n",
       "\t old      & yes      & marriage & 2131     & 93.4    \\\\\n",
       "\\end{tabular}\n"
      ],
      "text/markdown": [
       "\n",
       "| ageg | religion | group_marriage | n | pct |\n",
       "|---|---|---|---|---|\n",
       "| middle   | no       | divorce  |  260     |  9.7     |\n",
       "| middle   | no       | marriage | 2421     | 90.3     |\n",
       "| middle   | yes      | divorce  |  177     |  7.9     |\n",
       "| middle   | yes      | marriage | 2060     | 92.1     |\n",
       "| old      | no       | divorce  |  123     |  6.5     |\n",
       "| old      | no       | marriage | 1761     | 93.5     |\n",
       "| old      | yes      | divorce  |  150     |  6.6     |\n",
       "| old      | yes      | marriage | 2131     | 93.4     |\n",
       "\n"
      ],
      "text/plain": [
       "  ageg   religion group_marriage n    pct \n",
       "1 middle no       divorce         260  9.7\n",
       "2 middle no       marriage       2421 90.3\n",
       "3 middle yes      divorce         177  7.9\n",
       "4 middle yes      marriage       2060 92.1\n",
       "5 old    no       divorce         123  6.5\n",
       "6 old    no       marriage       1761 93.5\n",
       "7 old    yes      divorce         150  6.6\n",
       "8 old    yes      marriage       2131 93.4"
      ]
     },
     "metadata": {},
     "output_type": "display_data"
    }
   ],
   "source": [
    "ageg_religion_marriage <- welfare %>%\n",
    "    filter(!is.na(group_marriage) & ageg != \"young\") %>%\n",
    "    count(ageg, religion, group_marriage) %>%\n",
    "    group_by(ageg, religion) %>%\n",
    "    mutate(pct = round(n/sum(n)*100, 1))\n",
    "ageg_religion_marriage"
   ]
  },
  {
   "cell_type": "markdown",
   "metadata": {},
   "source": [
    "#### 연령대 및 종교 유무별 이혼율 표 만들기 "
   ]
  },
  {
   "cell_type": "code",
   "execution_count": 96,
   "metadata": {},
   "outputs": [
    {
     "data": {
      "text/html": [
       "<table>\n",
       "<thead><tr><th scope=col>ageg</th><th scope=col>religion</th><th scope=col>pct</th></tr></thead>\n",
       "<tbody>\n",
       "\t<tr><td>middle</td><td>no    </td><td>9.7   </td></tr>\n",
       "\t<tr><td>middle</td><td>yes   </td><td>7.9   </td></tr>\n",
       "\t<tr><td>old   </td><td>no    </td><td>6.5   </td></tr>\n",
       "\t<tr><td>old   </td><td>yes   </td><td>6.6   </td></tr>\n",
       "</tbody>\n",
       "</table>\n"
      ],
      "text/latex": [
       "\\begin{tabular}{r|lll}\n",
       " ageg & religion & pct\\\\\n",
       "\\hline\n",
       "\t middle & no     & 9.7   \\\\\n",
       "\t middle & yes    & 7.9   \\\\\n",
       "\t old    & no     & 6.5   \\\\\n",
       "\t old    & yes    & 6.6   \\\\\n",
       "\\end{tabular}\n"
      ],
      "text/markdown": [
       "\n",
       "| ageg | religion | pct |\n",
       "|---|---|---|\n",
       "| middle | no     | 9.7    |\n",
       "| middle | yes    | 7.9    |\n",
       "| old    | no     | 6.5    |\n",
       "| old    | yes    | 6.6    |\n",
       "\n"
      ],
      "text/plain": [
       "  ageg   religion pct\n",
       "1 middle no       9.7\n",
       "2 middle yes      7.9\n",
       "3 old    no       6.5\n",
       "4 old    yes      6.6"
      ]
     },
     "metadata": {},
     "output_type": "display_data"
    }
   ],
   "source": [
    "df_divorce<-ageg_religion_marriage %>% \n",
    "    filter(group_marriage == 'divorce') %>% \n",
    "    select(ageg, religion, pct)\n",
    "df_divorce"
   ]
  },
  {
   "cell_type": "markdown",
   "metadata": {},
   "source": [
    "#### 4. 연령대 및 종교 유무에 따른 이혼율 그래프 만들기"
   ]
  },
  {
   "cell_type": "code",
   "execution_count": 98,
   "metadata": {},
   "outputs": [
    {
     "data": {
      "image/png": "[encoded data removed]",
      "text/plain": [
       "plot without title"
      ]
     },
     "metadata": {},
     "output_type": "display_data"
    }
   ],
   "source": [
    "ggplot(data=df_divorce,aes(x=ageg,y=pct,fill=religion))+geom_col(position='dodge')"
   ]
  },
  {
   "cell_type": "markdown",
   "metadata": {},
   "source": [
    "## 9-9. 지역별 연령대 비율 - \"노년층이 많은 지역은 어디일까?\" \n",
    "분석 절차 \n",
    "1. 변수 검토 및 전처리 \n",
    "    - 지역 \n",
    "    - 연령대 \n",
    "2. 변수 간 관계 분석 \n",
    "    - 지역별 연령대 비율표 만들기 \n",
    "    - 그래프 만들기 "
   ]
  },
  {
   "cell_type": "markdown",
   "metadata": {},
   "source": [
    "### 지역 변수 검토 및 전처리하기 "
   ]
  },
  {
   "cell_type": "markdown",
   "metadata": {},
   "source": [
    "#### 1. 변수 검토하기 "
   ]
  },
  {
   "cell_type": "code",
   "execution_count": 100,
   "metadata": {},
   "outputs": [
    {
     "data": {
      "text/html": [
       "'numeric'"
      ],
      "text/latex": [
       "'numeric'"
      ],
      "text/markdown": [
       "'numeric'"
      ],
      "text/plain": [
       "[1] \"numeric\""
      ]
     },
     "metadata": {},
     "output_type": "display_data"
    }
   ],
   "source": [
    "class(welfare$code_region)"
   ]
  },
  {
   "cell_type": "code",
   "execution_count": 101,
   "metadata": {},
   "outputs": [
    {
     "data": {
      "text/plain": [
       "\n",
       "   1    2    3    4    5    6    7 \n",
       "2486 3711 2785 2036 1467 1257 2922 "
      ]
     },
     "metadata": {},
     "output_type": "display_data"
    }
   ],
   "source": [
    "table(welfare$code_region)"
   ]
  },
  {
   "cell_type": "markdown",
   "metadata": {},
   "source": [
    "#### 전처리"
   ]
  },
  {
   "cell_type": "code",
   "execution_count": 103,
   "metadata": {},
   "outputs": [
    {
     "data": {
      "text/html": [
       "<table>\n",
       "<thead><tr><th scope=col>code_region</th><th scope=col>region</th></tr></thead>\n",
       "<tbody>\n",
       "\t<tr><td>1                    </td><td>서울                 </td></tr>\n",
       "\t<tr><td>2                    </td><td>수도권(인천/경기)    </td></tr>\n",
       "\t<tr><td>3                    </td><td>부산/경남/울산       </td></tr>\n",
       "\t<tr><td>4                    </td><td>대구/경북            </td></tr>\n",
       "\t<tr><td>5                    </td><td>대전/충남            </td></tr>\n",
       "\t<tr><td>6                    </td><td>강원/충북            </td></tr>\n",
       "\t<tr><td>7                    </td><td>광주/전남/전북/제주도</td></tr>\n",
       "</tbody>\n",
       "</table>\n"
      ],
      "text/latex": [
       "\\begin{tabular}{r|ll}\n",
       " code\\_region & region\\\\\n",
       "\\hline\n",
       "\t 1                     & 서울                 \\\\\n",
       "\t 2                     & 수도권(인천/경기)    \\\\\n",
       "\t 3                     & 부산/경남/울산       \\\\\n",
       "\t 4                     & 대구/경북            \\\\\n",
       "\t 5                     & 대전/충남            \\\\\n",
       "\t 6                     & 강원/충북            \\\\\n",
       "\t 7                     & 광주/전남/전북/제주도\\\\\n",
       "\\end{tabular}\n"
      ],
      "text/markdown": [
       "\n",
       "| code_region | region |\n",
       "|---|---|\n",
       "| 1                     | 서울                  |\n",
       "| 2                     | 수도권(인천/경기)     |\n",
       "| 3                     | 부산/경남/울산        |\n",
       "| 4                     | 대구/경북             |\n",
       "| 5                     | 대전/충남             |\n",
       "| 6                     | 강원/충북             |\n",
       "| 7                     | 광주/전남/전북/제주도 |\n",
       "\n"
      ],
      "text/plain": [
       "  code_region region               \n",
       "1 1           서울                 \n",
       "2 2           수도권(인천/경기)    \n",
       "3 3           부산/경남/울산       \n",
       "4 4           대구/경북            \n",
       "5 5           대전/충남            \n",
       "6 6           강원/충북            \n",
       "7 7           광주/전남/전북/제주도"
      ]
     },
     "metadata": {},
     "output_type": "display_data"
    }
   ],
   "source": [
    "# 지역 코드 목록 만들기\n",
    "list_region <- data.frame(code_region = c(1:7),\n",
    "                         region = c(\"서울\",\n",
    "                                     \"수도권(인천/경기)\",\n",
    "                                     \"부산/경남/울산\",\n",
    "                                     \"대구/경북\",\n",
    "                                     \"대전/충남\",\n",
    "                                     \"강원/충북\",\n",
    "                                     \"광주/전남/전북/제주도\"))\n",
    "list_region"
   ]
  },
  {
   "cell_type": "markdown",
   "metadata": {},
   "source": [
    "#### welfare에 지역명 변수 추가"
   ]
  },
  {
   "cell_type": "code",
   "execution_count": 104,
   "metadata": {},
   "outputs": [
    {
     "name": "stderr",
     "output_type": "stream",
     "text": [
      "Joining, by = \"code_region\"\n"
     ]
    }
   ],
   "source": [
    "welfare<-left_join(welfare,list_region,id='code_region')"
   ]
  },
  {
   "cell_type": "code",
   "execution_count": 106,
   "metadata": {},
   "outputs": [
    {
     "data": {
      "text/html": [
       "<table>\n",
       "<thead><tr><th scope=col>code_region</th><th scope=col>region</th></tr></thead>\n",
       "<tbody>\n",
       "\t<tr><td>1   </td><td>서울</td></tr>\n",
       "\t<tr><td>1   </td><td>서울</td></tr>\n",
       "\t<tr><td>1   </td><td>서울</td></tr>\n",
       "\t<tr><td>1   </td><td>서울</td></tr>\n",
       "\t<tr><td>1   </td><td>서울</td></tr>\n",
       "\t<tr><td>1   </td><td>서울</td></tr>\n",
       "</tbody>\n",
       "</table>\n"
      ],
      "text/latex": [
       "\\begin{tabular}{r|ll}\n",
       " code\\_region & region\\\\\n",
       "\\hline\n",
       "\t 1    & 서울\\\\\n",
       "\t 1    & 서울\\\\\n",
       "\t 1    & 서울\\\\\n",
       "\t 1    & 서울\\\\\n",
       "\t 1    & 서울\\\\\n",
       "\t 1    & 서울\\\\\n",
       "\\end{tabular}\n"
      ],
      "text/markdown": [
       "\n",
       "| code_region | region |\n",
       "|---|---|\n",
       "| 1    | 서울 |\n",
       "| 1    | 서울 |\n",
       "| 1    | 서울 |\n",
       "| 1    | 서울 |\n",
       "| 1    | 서울 |\n",
       "| 1    | 서울 |\n",
       "\n"
      ],
      "text/plain": [
       "  code_region region\n",
       "1 1           서울  \n",
       "2 1           서울  \n",
       "3 1           서울  \n",
       "4 1           서울  \n",
       "5 1           서울  \n",
       "6 1           서울  "
      ]
     },
     "metadata": {},
     "output_type": "display_data"
    }
   ],
   "source": [
    "welfare %>% \n",
    "    select(code_region,region) %>% \n",
    "    head"
   ]
  },
  {
   "cell_type": "markdown",
   "metadata": {},
   "source": [
    "### 지역별 연령대 비율 분석하기 "
   ]
  },
  {
   "cell_type": "markdown",
   "metadata": {},
   "source": [
    "#### 1. 지역별 연령대 비율표 만들기 "
   ]
  },
  {
   "cell_type": "code",
   "execution_count": 108,
   "metadata": {},
   "outputs": [
    {
     "data": {
      "text/html": [
       "<table>\n",
       "<thead><tr><th scope=col>region</th><th scope=col>ageg</th><th scope=col>n</th><th scope=col>tot_group</th><th scope=col>pct</th></tr></thead>\n",
       "<tbody>\n",
       "\t<tr><td>강원/충북            </td><td>middle               </td><td> 417                 </td><td>1257                 </td><td>33.17                </td></tr>\n",
       "\t<tr><td>강원/충북            </td><td>old                  </td><td> 555                 </td><td>1257                 </td><td>44.15                </td></tr>\n",
       "\t<tr><td>강원/충북            </td><td>young                </td><td> 285                 </td><td>1257                 </td><td>22.67                </td></tr>\n",
       "\t<tr><td>광주/전남/전북/제주도</td><td>middle               </td><td> 947                 </td><td>2922                 </td><td>32.41                </td></tr>\n",
       "\t<tr><td>광주/전남/전북/제주도</td><td>old                  </td><td>1233                 </td><td>2922                 </td><td>42.20                </td></tr>\n",
       "\t<tr><td>광주/전남/전북/제주도</td><td>young                </td><td> 742                 </td><td>2922                 </td><td>25.39                </td></tr>\n",
       "</tbody>\n",
       "</table>\n"
      ],
      "text/latex": [
       "\\begin{tabular}{r|lllll}\n",
       " region & ageg & n & tot\\_group & pct\\\\\n",
       "\\hline\n",
       "\t 강원/충북             & middle                &  417                  & 1257                  & 33.17                \\\\\n",
       "\t 강원/충북             & old                   &  555                  & 1257                  & 44.15                \\\\\n",
       "\t 강원/충북             & young                 &  285                  & 1257                  & 22.67                \\\\\n",
       "\t 광주/전남/전북/제주도 & middle                &  947                  & 2922                  & 32.41                \\\\\n",
       "\t 광주/전남/전북/제주도 & old                   & 1233                  & 2922                  & 42.20                \\\\\n",
       "\t 광주/전남/전북/제주도 & young                 &  742                  & 2922                  & 25.39                \\\\\n",
       "\\end{tabular}\n"
      ],
      "text/markdown": [
       "\n",
       "| region | ageg | n | tot_group | pct |\n",
       "|---|---|---|---|---|\n",
       "| 강원/충북             | middle                |  417                  | 1257                  | 33.17                 |\n",
       "| 강원/충북             | old                   |  555                  | 1257                  | 44.15                 |\n",
       "| 강원/충북             | young                 |  285                  | 1257                  | 22.67                 |\n",
       "| 광주/전남/전북/제주도 | middle                |  947                  | 2922                  | 32.41                 |\n",
       "| 광주/전남/전북/제주도 | old                   | 1233                  | 2922                  | 42.20                 |\n",
       "| 광주/전남/전북/제주도 | young                 |  742                  | 2922                  | 25.39                 |\n",
       "\n"
      ],
      "text/plain": [
       "  region                ageg   n    tot_group pct  \n",
       "1 강원/충북             middle  417 1257      33.17\n",
       "2 강원/충북             old     555 1257      44.15\n",
       "3 강원/충북             young   285 1257      22.67\n",
       "4 광주/전남/전북/제주도 middle  947 2922      32.41\n",
       "5 광주/전남/전북/제주도 old    1233 2922      42.20\n",
       "6 광주/전남/전북/제주도 young   742 2922      25.39"
      ]
     },
     "metadata": {},
     "output_type": "display_data"
    }
   ],
   "source": [
    "region_ageg <- welfare %>% \n",
    "    group_by(region,ageg) %>% \n",
    "    summarise(n =n()) %>% \n",
    "    mutate(tot_group=sum(n)) %>% \n",
    "    mutate(pct=round(n/tot_group*100,2))\n",
    "head(region_ageg)"
   ]
  },
  {
   "cell_type": "markdown",
   "metadata": {},
   "source": [
    "#### count() 활용 "
   ]
  },
  {
   "cell_type": "code",
   "execution_count": 111,
   "metadata": {},
   "outputs": [
    {
     "data": {
      "text/html": [
       "<table>\n",
       "<thead><tr><th scope=col>region</th><th scope=col>ageg</th><th scope=col>n</th><th scope=col>pct</th></tr></thead>\n",
       "<tbody>\n",
       "\t<tr><td>강원/충북            </td><td>middle               </td><td> 417                 </td><td>33.17                </td></tr>\n",
       "\t<tr><td>강원/충북            </td><td>old                  </td><td> 555                 </td><td>44.15                </td></tr>\n",
       "\t<tr><td>강원/충북            </td><td>young                </td><td> 285                 </td><td>22.67                </td></tr>\n",
       "\t<tr><td>광주/전남/전북/제주도</td><td>middle               </td><td> 947                 </td><td>32.41                </td></tr>\n",
       "\t<tr><td>광주/전남/전북/제주도</td><td>old                  </td><td>1233                 </td><td>42.20                </td></tr>\n",
       "\t<tr><td>광주/전남/전북/제주도</td><td>young                </td><td> 742                 </td><td>25.39                </td></tr>\n",
       "\t<tr><td>대구/경북            </td><td>middle               </td><td> 637                 </td><td>31.29                </td></tr>\n",
       "\t<tr><td>대구/경북            </td><td>old                  </td><td> 928                 </td><td>45.58                </td></tr>\n",
       "\t<tr><td>대구/경북            </td><td>young                </td><td> 471                 </td><td>23.13                </td></tr>\n",
       "\t<tr><td>대전/충남            </td><td>middle               </td><td> 548                 </td><td>37.36                </td></tr>\n",
       "\t<tr><td>대전/충남            </td><td>old                  </td><td> 527                 </td><td>35.92                </td></tr>\n",
       "\t<tr><td>대전/충남            </td><td>young                </td><td> 392                 </td><td>26.72                </td></tr>\n",
       "\t<tr><td>부산/경남/울산       </td><td>middle               </td><td> 984                 </td><td>35.33                </td></tr>\n",
       "\t<tr><td>부산/경남/울산       </td><td>old                  </td><td>1124                 </td><td>40.36                </td></tr>\n",
       "\t<tr><td>부산/경남/울산       </td><td>young                </td><td> 677                 </td><td>24.31                </td></tr>\n",
       "\t<tr><td>서울                 </td><td>middle               </td><td>1030                 </td><td>41.43                </td></tr>\n",
       "\t<tr><td>서울                 </td><td>old                  </td><td> 805                 </td><td>32.38                </td></tr>\n",
       "\t<tr><td>서울                 </td><td>young                </td><td> 651                 </td><td>26.19                </td></tr>\n",
       "\t<tr><td>수도권(인천/경기)    </td><td>middle               </td><td>1486                 </td><td>40.04                </td></tr>\n",
       "\t<tr><td>수도권(인천/경기)    </td><td>old                  </td><td>1109                 </td><td>29.88                </td></tr>\n",
       "\t<tr><td>수도권(인천/경기)    </td><td>young                </td><td>1116                 </td><td>30.07                </td></tr>\n",
       "</tbody>\n",
       "</table>\n"
      ],
      "text/latex": [
       "\\begin{tabular}{r|llll}\n",
       " region & ageg & n & pct\\\\\n",
       "\\hline\n",
       "\t 강원/충북             & middle                &  417                  & 33.17                \\\\\n",
       "\t 강원/충북             & old                   &  555                  & 44.15                \\\\\n",
       "\t 강원/충북             & young                 &  285                  & 22.67                \\\\\n",
       "\t 광주/전남/전북/제주도 & middle                &  947                  & 32.41                \\\\\n",
       "\t 광주/전남/전북/제주도 & old                   & 1233                  & 42.20                \\\\\n",
       "\t 광주/전남/전북/제주도 & young                 &  742                  & 25.39                \\\\\n",
       "\t 대구/경북             & middle                &  637                  & 31.29                \\\\\n",
       "\t 대구/경북             & old                   &  928                  & 45.58                \\\\\n",
       "\t 대구/경북             & young                 &  471                  & 23.13                \\\\\n",
       "\t 대전/충남             & middle                &  548                  & 37.36                \\\\\n",
       "\t 대전/충남             & old                   &  527                  & 35.92                \\\\\n",
       "\t 대전/충남             & young                 &  392                  & 26.72                \\\\\n",
       "\t 부산/경남/울산        & middle                &  984                  & 35.33                \\\\\n",
       "\t 부산/경남/울산        & old                   & 1124                  & 40.36                \\\\\n",
       "\t 부산/경남/울산        & young                 &  677                  & 24.31                \\\\\n",
       "\t 서울                  & middle                & 1030                  & 41.43                \\\\\n",
       "\t 서울                  & old                   &  805                  & 32.38                \\\\\n",
       "\t 서울                  & young                 &  651                  & 26.19                \\\\\n",
       "\t 수도권(인천/경기)     & middle                & 1486                  & 40.04                \\\\\n",
       "\t 수도권(인천/경기)     & old                   & 1109                  & 29.88                \\\\\n",
       "\t 수도권(인천/경기)     & young                 & 1116                  & 30.07                \\\\\n",
       "\\end{tabular}\n"
      ],
      "text/markdown": [
       "\n",
       "| region | ageg | n | pct |\n",
       "|---|---|---|---|\n",
       "| 강원/충북             | middle                |  417                  | 33.17                 |\n",
       "| 강원/충북             | old                   |  555                  | 44.15                 |\n",
       "| 강원/충북             | young                 |  285                  | 22.67                 |\n",
       "| 광주/전남/전북/제주도 | middle                |  947                  | 32.41                 |\n",
       "| 광주/전남/전북/제주도 | old                   | 1233                  | 42.20                 |\n",
       "| 광주/전남/전북/제주도 | young                 |  742                  | 25.39                 |\n",
       "| 대구/경북             | middle                |  637                  | 31.29                 |\n",
       "| 대구/경북             | old                   |  928                  | 45.58                 |\n",
       "| 대구/경북             | young                 |  471                  | 23.13                 |\n",
       "| 대전/충남             | middle                |  548                  | 37.36                 |\n",
       "| 대전/충남             | old                   |  527                  | 35.92                 |\n",
       "| 대전/충남             | young                 |  392                  | 26.72                 |\n",
       "| 부산/경남/울산        | middle                |  984                  | 35.33                 |\n",
       "| 부산/경남/울산        | old                   | 1124                  | 40.36                 |\n",
       "| 부산/경남/울산        | young                 |  677                  | 24.31                 |\n",
       "| 서울                  | middle                | 1030                  | 41.43                 |\n",
       "| 서울                  | old                   |  805                  | 32.38                 |\n",
       "| 서울                  | young                 |  651                  | 26.19                 |\n",
       "| 수도권(인천/경기)     | middle                | 1486                  | 40.04                 |\n",
       "| 수도권(인천/경기)     | old                   | 1109                  | 29.88                 |\n",
       "| 수도권(인천/경기)     | young                 | 1116                  | 30.07                 |\n",
       "\n"
      ],
      "text/plain": [
       "   region                ageg   n    pct  \n",
       "1  강원/충북             middle  417 33.17\n",
       "2  강원/충북             old     555 44.15\n",
       "3  강원/충북             young   285 22.67\n",
       "4  광주/전남/전북/제주도 middle  947 32.41\n",
       "5  광주/전남/전북/제주도 old    1233 42.20\n",
       "6  광주/전남/전북/제주도 young   742 25.39\n",
       "7  대구/경북             middle  637 31.29\n",
       "8  대구/경북             old     928 45.58\n",
       "9  대구/경북             young   471 23.13\n",
       "10 대전/충남             middle  548 37.36\n",
       "11 대전/충남             old     527 35.92\n",
       "12 대전/충남             young   392 26.72\n",
       "13 부산/경남/울산        middle  984 35.33\n",
       "14 부산/경남/울산        old    1124 40.36\n",
       "15 부산/경남/울산        young   677 24.31\n",
       "16 서울                  middle 1030 41.43\n",
       "17 서울                  old     805 32.38\n",
       "18 서울                  young   651 26.19\n",
       "19 수도권(인천/경기)     middle 1486 40.04\n",
       "20 수도권(인천/경기)     old    1109 29.88\n",
       "21 수도권(인천/경기)     young  1116 30.07"
      ]
     },
     "metadata": {},
     "output_type": "display_data"
    }
   ],
   "source": [
    "region_ageg <- welfare %>%\n",
    "    count(region, ageg) %>%\n",
    "    group_by(region) %>%\n",
    "    mutate(pct = round(n/sum(n)*100, 2))\n",
    "region_ageg"
   ]
  },
  {
   "cell_type": "markdown",
   "metadata": {},
   "source": [
    "#### 2. 그래프 만들기"
   ]
  },
  {
   "cell_type": "code",
   "execution_count": 112,
   "metadata": {},
   "outputs": [
    {
     "data": {
      "image/png": "[encoded data removed]",
      "text/plain": [
       "plot without title"
      ]
     },
     "metadata": {},
     "output_type": "display_data"
    }
   ],
   "source": [
    "ggplot(data=region_ageg, aes(x=region,y=pct,fill=ageg))+geom_col()+coord_flip()"
   ]
  },
  {
   "cell_type": "markdown",
   "metadata": {},
   "source": [
    "#### 3. 막대 정렬하기 : 노년층 비율 높은 순"
   ]
  },
  {
   "cell_type": "code",
   "execution_count": 117,
   "metadata": {},
   "outputs": [
    {
     "data": {
      "text/html": [
       "<table>\n",
       "<thead><tr><th scope=col>region</th><th scope=col>ageg</th><th scope=col>n</th><th scope=col>pct</th></tr></thead>\n",
       "<tbody>\n",
       "\t<tr><td>수도권(인천/경기)    </td><td>old                  </td><td>1109                 </td><td>29.88                </td></tr>\n",
       "\t<tr><td>서울                 </td><td>old                  </td><td> 805                 </td><td>32.38                </td></tr>\n",
       "\t<tr><td>대전/충남            </td><td>old                  </td><td> 527                 </td><td>35.92                </td></tr>\n",
       "\t<tr><td>부산/경남/울산       </td><td>old                  </td><td>1124                 </td><td>40.36                </td></tr>\n",
       "\t<tr><td>광주/전남/전북/제주도</td><td>old                  </td><td>1233                 </td><td>42.20                </td></tr>\n",
       "\t<tr><td>강원/충북            </td><td>old                  </td><td> 555                 </td><td>44.15                </td></tr>\n",
       "\t<tr><td>대구/경북            </td><td>old                  </td><td> 928                 </td><td>45.58                </td></tr>\n",
       "</tbody>\n",
       "</table>\n"
      ],
      "text/latex": [
       "\\begin{tabular}{r|llll}\n",
       " region & ageg & n & pct\\\\\n",
       "\\hline\n",
       "\t 수도권(인천/경기)     & old                   & 1109                  & 29.88                \\\\\n",
       "\t 서울                  & old                   &  805                  & 32.38                \\\\\n",
       "\t 대전/충남             & old                   &  527                  & 35.92                \\\\\n",
       "\t 부산/경남/울산        & old                   & 1124                  & 40.36                \\\\\n",
       "\t 광주/전남/전북/제주도 & old                   & 1233                  & 42.20                \\\\\n",
       "\t 강원/충북             & old                   &  555                  & 44.15                \\\\\n",
       "\t 대구/경북             & old                   &  928                  & 45.58                \\\\\n",
       "\\end{tabular}\n"
      ],
      "text/markdown": [
       "\n",
       "| region | ageg | n | pct |\n",
       "|---|---|---|---|\n",
       "| 수도권(인천/경기)     | old                   | 1109                  | 29.88                 |\n",
       "| 서울                  | old                   |  805                  | 32.38                 |\n",
       "| 대전/충남             | old                   |  527                  | 35.92                 |\n",
       "| 부산/경남/울산        | old                   | 1124                  | 40.36                 |\n",
       "| 광주/전남/전북/제주도 | old                   | 1233                  | 42.20                 |\n",
       "| 강원/충북             | old                   |  555                  | 44.15                 |\n",
       "| 대구/경북             | old                   |  928                  | 45.58                 |\n",
       "\n"
      ],
      "text/plain": [
       "  region                ageg n    pct  \n",
       "1 수도권(인천/경기)     old  1109 29.88\n",
       "2 서울                  old   805 32.38\n",
       "3 대전/충남             old   527 35.92\n",
       "4 부산/경남/울산        old  1124 40.36\n",
       "5 광주/전남/전북/제주도 old  1233 42.20\n",
       "6 강원/충북             old   555 44.15\n",
       "7 대구/경북             old   928 45.58"
      ]
     },
     "metadata": {},
     "output_type": "display_data"
    }
   ],
   "source": [
    "# 노년층 비율 오름차순 정렬 -> arrange(desc(pct)): 내림차순\n",
    "list_order_old<-region_ageg %>% \n",
    "    filter(ageg != 'young' & ageg != 'middle') %>%  #(ageg == \"old\")이 더 깔끔\n",
    "    arrange(pct)\n",
    "list_order_old"
   ]
  },
  {
   "cell_type": "code",
   "execution_count": 118,
   "metadata": {},
   "outputs": [
    {
     "data": {
      "text/html": [
       "<ol class=list-inline>\n",
       "\t<li>수도권(인천/경기)</li>\n",
       "\t<li>서울</li>\n",
       "\t<li>대전/충남</li>\n",
       "\t<li>부산/경남/울산</li>\n",
       "\t<li>광주/전남/전북/제주도</li>\n",
       "\t<li>강원/충북</li>\n",
       "\t<li>대구/경북</li>\n",
       "</ol>\n",
       "\n",
       "<details>\n",
       "\t<summary style=display:list-item;cursor:pointer>\n",
       "\t\t<strong>Levels</strong>:\n",
       "\t</summary>\n",
       "\t<ol class=list-inline>\n",
       "\t\t<li>'강원/충북'</li>\n",
       "\t\t<li>'광주/전남/전북/제주도'</li>\n",
       "\t\t<li>'대구/경북'</li>\n",
       "\t\t<li>'대전/충남'</li>\n",
       "\t\t<li>'부산/경남/울산'</li>\n",
       "\t\t<li>'서울'</li>\n",
       "\t\t<li>'수도권(인천/경기)'</li>\n",
       "\t</ol>\n",
       "</details>"
      ],
      "text/latex": [
       "\\begin{enumerate*}\n",
       "\\item 수도권(인천/경기)\n",
       "\\item 서울\n",
       "\\item 대전/충남\n",
       "\\item 부산/경남/울산\n",
       "\\item 광주/전남/전북/제주도\n",
       "\\item 강원/충북\n",
       "\\item 대구/경북\n",
       "\\end{enumerate*}\n",
       "\n",
       "\\emph{Levels}: \\begin{enumerate*}\n",
       "\\item '강원/충북'\n",
       "\\item '광주/전남/전북/제주도'\n",
       "\\item '대구/경북'\n",
       "\\item '대전/충남'\n",
       "\\item '부산/경남/울산'\n",
       "\\item '서울'\n",
       "\\item '수도권(인천/경기)'\n",
       "\\end{enumerate*}\n"
      ],
      "text/markdown": [
       "1. 수도권(인천/경기)\n",
       "2. 서울\n",
       "3. 대전/충남\n",
       "4. 부산/경남/울산\n",
       "5. 광주/전남/전북/제주도\n",
       "6. 강원/충북\n",
       "7. 대구/경북\n",
       "\n",
       "\n",
       "\n",
       "**Levels**: 1. '강원/충북'\n",
       "2. '광주/전남/전북/제주도'\n",
       "3. '대구/경북'\n",
       "4. '대전/충남'\n",
       "5. '부산/경남/울산'\n",
       "6. '서울'\n",
       "7. '수도권(인천/경기)'\n",
       "\n",
       "\n"
      ],
      "text/plain": [
       "[1] 수도권(인천/경기)     서울                  대전/충남            \n",
       "[4] 부산/경남/울산        광주/전남/전북/제주도 강원/충북            \n",
       "[7] 대구/경북            \n",
       "7 Levels: 강원/충북 광주/전남/전북/제주도 대구/경북 ... 수도권(인천/경기)"
      ]
     },
     "metadata": {},
     "output_type": "display_data"
    }
   ],
   "source": [
    "# 지역명 순서 변수 만들기\n",
    "order <- list_order_old$region\n",
    "order"
   ]
  },
  {
   "cell_type": "code",
   "execution_count": 119,
   "metadata": {},
   "outputs": [
    {
     "data": {
      "image/png": "[encoded data removed]",
      "text/plain": [
       "plot without title"
      ]
     },
     "metadata": {},
     "output_type": "display_data"
    }
   ],
   "source": [
    "########################scale_x_discrete(limits = order) 모르겠다아아아\n",
    "ggplot(data = region_ageg, aes(x = region,  y = pct, fill = ageg)) +\n",
    "    geom_col() +\n",
    "    coord_flip() +\n",
    "    scale_x_discrete(limits = order)"
   ]
  },
  {
   "cell_type": "markdown",
   "metadata": {},
   "source": [
    "# factor 모르겠드아아아??\n",
    "#### 4. 연령대 순으로 막대 색깔 나열하기"
   ]
  },
  {
   "cell_type": "code",
   "execution_count": 120,
   "metadata": {},
   "outputs": [
    {
     "data": {
      "text/html": [
       "'character'"
      ],
      "text/latex": [
       "'character'"
      ],
      "text/markdown": [
       "'character'"
      ],
      "text/plain": [
       "[1] \"character\""
      ]
     },
     "metadata": {},
     "output_type": "display_data"
    }
   ],
   "source": [
    "class(region_ageg$ageg)"
   ]
  },
  {
   "cell_type": "code",
   "execution_count": 121,
   "metadata": {},
   "outputs": [
    {
     "data": {
      "text/plain": [
       "NULL"
      ]
     },
     "metadata": {},
     "output_type": "display_data"
    }
   ],
   "source": [
    "levels(region_ageg$ageg)"
   ]
  },
  {
   "cell_type": "code",
   "execution_count": 122,
   "metadata": {},
   "outputs": [
    {
     "data": {
      "text/html": [
       "'factor'"
      ],
      "text/latex": [
       "'factor'"
      ],
      "text/markdown": [
       "'factor'"
      ],
      "text/plain": [
       "[1] \"factor\""
      ]
     },
     "metadata": {},
     "output_type": "display_data"
    }
   ],
   "source": [
    "region_ageg$ageg<-factor(region_ageg$ageg,level=c('old','middle','young'))\n",
    "class(region_ageg$ageg)"
   ]
  },
  {
   "cell_type": "code",
   "execution_count": 123,
   "metadata": {},
   "outputs": [
    {
     "data": {
      "text/html": [
       "<ol class=list-inline>\n",
       "\t<li>'old'</li>\n",
       "\t<li>'middle'</li>\n",
       "\t<li>'young'</li>\n",
       "</ol>\n"
      ],
      "text/latex": [
       "\\begin{enumerate*}\n",
       "\\item 'old'\n",
       "\\item 'middle'\n",
       "\\item 'young'\n",
       "\\end{enumerate*}\n"
      ],
      "text/markdown": [
       "1. 'old'\n",
       "2. 'middle'\n",
       "3. 'young'\n",
       "\n",
       "\n"
      ],
      "text/plain": [
       "[1] \"old\"    \"middle\" \"young\" "
      ]
     },
     "metadata": {},
     "output_type": "display_data"
    }
   ],
   "source": [
    "levels(region_ageg$ageg)"
   ]
  },
  {
   "cell_type": "code",
   "execution_count": 124,
   "metadata": {},
   "outputs": [
    {
     "data": {
      "image/png": "[encoded data removed]",
      "text/plain": [
       "plot without title"
      ]
     },
     "metadata": {},
     "output_type": "display_data"
    }
   ],
   "source": [
    "ggplot(data = region_ageg, aes(x = region,  y = pct, fill = ageg)) +\n",
    "    geom_col() +\n",
    "    coord_flip() +\n",
    "    scale_x_discrete(limits = order)"
   ]
  }
 ],
 "metadata": {
  "kernelspec": {
   "display_name": "R",
   "language": "R",
   "name": "ir"
  },
  "language_info": {
   "codemirror_mode": "r",
   "file_extension": ".r",
   "mimetype": "text/x-r-source",
   "name": "R",
   "pygments_lexer": "r",
   "version": "3.6.1"
  }
 },
 "nbformat": 4,
 "nbformat_minor": 2
}
