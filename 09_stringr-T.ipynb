{
 "cells": [
  {
   "cell_type": "markdown",
   "metadata": {},
   "source": [
    "## 텍스트 데이터를 다루는 stringr\n",
    "### stringr 패키지 소개\n",
    "\n",
    "## stringr은 tidyverse 패키지에 포함되어 있는 글자 조작용 패키지로 ICU라고 불리는 C library의 wrapper인 stringi 패키지 기반\n",
    "## 총 패턴 매칭, 공백 관리, 로케일에 따라 동작이 다른 함수, 헬퍼의 4가지 카테고리의 함수를 제공\n",
    "\n",
    "## 함수 리스트\n",
    "### 패턴 매칭\n",
    "str_count() : 찾고자 하는 패턴이 몇 개가 있는지 셈  \n",
    "str_detect() : 찾고자 하는 패턴이 있는지 TRUE/FALSE로 반환  \n",
    "str_extract() str_extract_all() : 찾는 패턴을 뽑아서 출력  \n",
    "str_locate() str_locate_all() : 찾는 패턴의 글자내 시작점과 끝점을 출력  \n",
    "str_match() str_match_all() : 찾는 패턴을 뽑아주는데 캡쳐 그룹도 같이 제공  \n",
    "str_remove() str_remove_all() : 찾는 패턴을 제거하고 출력  \n",
    "str_replace() str_replace_all() : 찾는 패턴을 다른 내용으로 바꿈  \n",
    "str_starts() str_ends() :찾는 패턴으로 시작하거나 끝나는 것이 있는지 TRUE/FALSE로 반환  \n",
    "str_split() str_split_fixed() : 지정한 패턴으로 글자를 나눔  \n",
    "str_subset() str_which() : 찾는 패턴이 있는 위치나 그 데이터를 출력  \n",
    "str_view() str_view_all() : html로 매칭된 내용을 출력  \n",
    "fixed() coll() regex() boundary() : 패턴 매칭의 동작을 조정하는 함수들  \n",
    "\n",
    "### 공백 관리\n",
    "str_pad() : 공백을 추가하여 글자의 길이를 맞춤  \n",
    "str_trim() str_squish() : 앞뒤에 쌓인 공백이나 글자들 사이에 여러 개인 공백을 제거  \n",
    "str_wrap() : 문자열을 멋지게 형식화된 단락으로 감쌈  \n",
    "\n",
    "### 로케일에 따라 동작이 다른 함수\n",
    "str_order() str_sort() : 글자의 순서를 출력  \n",
    "str_to_upper() str_to_lower() str_to_title() str_to_sentence() : 글자를 각 명령에 맞게 바꿈  \n",
    "\n",
    "### Other helpers\n",
    "invert_match() : 패턴 매칭 함수 중 위치에 대한 동작을 반대로 바꿈  \n",
    "str_c() : 여러개의 글자형 데이터들을 하나의 글자 데이터로 합침  \n",
    "str_conv() : 글자의 인코딩을 조절  \n",
    "str_dup() : 글자들을 반복하여 합침  \n",
    "str_flatten() : 여러개로 이루어진 글자형 벡터를 하나로 합침  \n",
    "str_glue() str_glue_data() : glue 패키지를 사용해서 형식을 만들어 글자를 출력   \n",
    "str_length() : 글자의 길이를 셈  \n",
    "str_replace_na() :자료형 NA를 글자형 \"NA\"로 변경  \n",
    "str_trunc() : 일정 글자 길이 이후를 줄임표로 자름  \n",
    "str_sub() `str_sub<-`() : 글자의 시작점과 끝점을 지정하여 추출  \n",
    "word() : 띄어쓰기 기준으로 단어를 추출  "
   ]
  },
  {
   "cell_type": "markdown",
   "metadata": {},
   "source": [
    "## 설치\n",
    "### stringr 패키지는 tidyverse에 포함되어 있음\n",
    "```\n",
    "if (!require(tidyverse)) install.packages(\"tidyverse\")\n",
    "library(stringr)\n",
    "```"
   ]
  },
  {
   "cell_type": "markdown",
   "metadata": {},
   "source": [
    "## 접두사 명명 규칙을 사용하는 패키지이므로 자동완성으로 함수를 찾기 좋음\n",
    "str_  \n",
    "\n",
    "### 중요 함수 실습\n",
    "## 데이터 패키지 소개 krwifi\n",
    "```\n",
    "library(remotes)\n",
    "install_github(\"mrchypark/krwifi\")\n",
    "\n",
    "library(krwifi)\n",
    "library(dplyr)\n",
    "\n",
    "wifi\n",
    "```"
   ]
  },
  {
   "cell_type": "code",
   "execution_count": null,
   "metadata": {},
   "outputs": [],
   "source": [
    "if (!require(tidyverse)) install.packages(\"tidyverse\")\n",
    "install.packages(\"stringr\")"
   ]
  },
  {
   "cell_type": "code",
   "execution_count": null,
   "metadata": {},
   "outputs": [],
   "source": [
    "library(stringr)\n",
    "library(remotes)"
   ]
  },
  {
   "cell_type": "code",
   "execution_count": null,
   "metadata": {},
   "outputs": [],
   "source": [
    "install_github(\"mrchypark/krwifi\")"
   ]
  },
  {
   "cell_type": "code",
   "execution_count": null,
   "metadata": {},
   "outputs": [],
   "source": [
    "library(krwifi)"
   ]
  },
  {
   "cell_type": "code",
   "execution_count": null,
   "metadata": {},
   "outputs": [],
   "source": [
    "library(stringr)\n",
    "library(dplyr)"
   ]
  },
  {
   "cell_type": "code",
   "execution_count": 10,
   "metadata": {},
   "outputs": [],
   "source": [
    "load(\"./Data/wifi.rda\")"
   ]
  },
  {
   "cell_type": "code",
   "execution_count": 11,
   "metadata": {},
   "outputs": [
    {
     "data": {
      "text/html": [
       "'wifi'"
      ],
      "text/latex": [
       "'wifi'"
      ],
      "text/markdown": [
       "'wifi'"
      ],
      "text/plain": [
       "[1] \"wifi\""
      ]
     },
     "metadata": {},
     "output_type": "display_data"
    }
   ],
   "source": [
    "ls()"
   ]
  },
  {
   "cell_type": "code",
   "execution_count": 16,
   "metadata": {},
   "outputs": [
    {
     "data": {
      "text/html": [
       "<table>\n",
       "<thead><tr><th scope=col>설치장소명</th><th scope=col>설치장소상세</th><th scope=col>설치시도명</th><th scope=col>설치시군구명</th><th scope=col>설치시설구분</th><th scope=col>서비스제공사명</th><th scope=col>와이파이SSID</th><th scope=col>설치년월</th><th scope=col>소재지도로명주소</th><th scope=col>소재지지번주소</th><th scope=col>관리기관명</th><th scope=col>관리기관전화번호</th><th scope=col>위도</th><th scope=col>경도</th><th scope=col>데이터기준일자</th><th scope=col>제공기관코드</th><th scope=col>제공기관명</th></tr></thead>\n",
       "<tbody>\n",
       "\t<tr><td>청송군청                                       </td><td>민원실                                         </td><td>경상북도                                       </td><td>청송군                                         </td><td>관공서                                         </td><td>KT                                             </td><td>Public WiFi Free                               </td><td>2014-12                                        </td><td>경상북도 청송군 청송읍 군청로 51(월막리 330)   </td><td>경상북도 청송군 청송읍 월막리 330              </td><td>경상북도 청송군청                              </td><td>054-870-6073                                   </td><td>36.4360412                                     </td><td>129.0398308                                    </td><td>2018-08-01                                     </td><td>5160000                                        </td><td>경상북도 청송군                                </td></tr>\n",
       "\t<tr><td>청송군농업기술센터                             </td><td>\"1층, 2층, 3층\"                                </td><td>경상북도                                       </td><td>청송군                                         </td><td>관공서                                         </td><td>KT                                             </td><td>Public WiFi Free                               </td><td>2015-10                                        </td><td>경상북도 청송군 청송읍 주왕산로 177(송생리 720)</td><td>경상북도 청송군 청송읍 송생리 720              </td><td>경상북도 청송군청                              </td><td>054-870-6073                                   </td><td>36.3917571                                     </td><td>129.0642597                                    </td><td>2018-08-01                                     </td><td>5160000                                        </td><td>경상북도 청송군                                </td></tr>\n",
       "\t<tr><td>청송읍사무소                                   </td><td>민원실                                         </td><td>경상북도                                       </td><td>청송군                                         </td><td>관공서                                         </td><td>KT                                             </td><td>Public WiFi Free                               </td><td>2014-12                                        </td><td>경상북도 청송군 청송읍 중앙로 253(월막리 239-2)</td><td>경상북도 청송군 청송읍 월막리 239-2            </td><td>경상북도 청송군청                              </td><td>054-870-6073                                   </td><td>36.4342522                                     </td><td>129.0391317                                    </td><td>2018-08-01                                     </td><td>5160000                                        </td><td>경상북도 청송군                                </td></tr>\n",
       "</tbody>\n",
       "</table>\n"
      ],
      "text/latex": [
       "\\begin{tabular}{r|lllllllllllllllll}\n",
       " 설치장소명 & 설치장소상세 & 설치시도명 & 설치시군구명 & 설치시설구분 & 서비스제공사명 & 와이파이SSID & 설치년월 & 소재지도로명주소 & 소재지지번주소 & 관리기관명 & 관리기관전화번호 & 위도 & 경도 & 데이터기준일자 & 제공기관코드 & 제공기관명\\\\\n",
       "\\hline\n",
       "\t 청송군청                                        & 민원실                                          & 경상북도                                        & 청송군                                          & 관공서                                          & KT                                              & Public WiFi Free                                & 2014-12                                         & 경상북도 청송군 청송읍 군청로 51(월막리 330)    & 경상북도 청송군 청송읍 월막리 330               & 경상북도 청송군청                               & 054-870-6073                                    & 36.4360412                                      & 129.0398308                                     & 2018-08-01                                      & 5160000                                         & 경상북도 청송군                                \\\\\n",
       "\t 청송군농업기술센터                              & \"1층, 2층, 3층\"                                 & 경상북도                                        & 청송군                                          & 관공서                                          & KT                                              & Public WiFi Free                                & 2015-10                                         & 경상북도 청송군 청송읍 주왕산로 177(송생리 720) & 경상북도 청송군 청송읍 송생리 720               & 경상북도 청송군청                               & 054-870-6073                                    & 36.3917571                                      & 129.0642597                                     & 2018-08-01                                      & 5160000                                         & 경상북도 청송군                                \\\\\n",
       "\t 청송읍사무소                                    & 민원실                                          & 경상북도                                        & 청송군                                          & 관공서                                          & KT                                              & Public WiFi Free                                & 2014-12                                         & 경상북도 청송군 청송읍 중앙로 253(월막리 239-2) & 경상북도 청송군 청송읍 월막리 239-2             & 경상북도 청송군청                               & 054-870-6073                                    & 36.4342522                                      & 129.0391317                                     & 2018-08-01                                      & 5160000                                         & 경상북도 청송군                                \\\\\n",
       "\\end{tabular}\n"
      ],
      "text/markdown": [
       "\n",
       "| 설치장소명 | 설치장소상세 | 설치시도명 | 설치시군구명 | 설치시설구분 | 서비스제공사명 | 와이파이SSID | 설치년월 | 소재지도로명주소 | 소재지지번주소 | 관리기관명 | 관리기관전화번호 | 위도 | 경도 | 데이터기준일자 | 제공기관코드 | 제공기관명 |\n",
       "|---|---|---|---|---|---|---|---|---|---|---|---|---|---|---|---|---|\n",
       "| 청송군청                                        | 민원실                                          | 경상북도                                        | 청송군                                          | 관공서                                          | KT                                              | Public WiFi Free                                | 2014-12                                         | 경상북도 청송군 청송읍 군청로 51(월막리 330)    | 경상북도 청송군 청송읍 월막리 330               | 경상북도 청송군청                               | 054-870-6073                                    | 36.4360412                                      | 129.0398308                                     | 2018-08-01                                      | 5160000                                         | 경상북도 청송군                                 |\n",
       "| 청송군농업기술센터                              | \"1층, 2층, 3층\"                                 | 경상북도                                        | 청송군                                          | 관공서                                          | KT                                              | Public WiFi Free                                | 2015-10                                         | 경상북도 청송군 청송읍 주왕산로 177(송생리 720) | 경상북도 청송군 청송읍 송생리 720               | 경상북도 청송군청                               | 054-870-6073                                    | 36.3917571                                      | 129.0642597                                     | 2018-08-01                                      | 5160000                                         | 경상북도 청송군                                 |\n",
       "| 청송읍사무소                                    | 민원실                                          | 경상북도                                        | 청송군                                          | 관공서                                          | KT                                              | Public WiFi Free                                | 2014-12                                         | 경상북도 청송군 청송읍 중앙로 253(월막리 239-2) | 경상북도 청송군 청송읍 월막리 239-2             | 경상북도 청송군청                               | 054-870-6073                                    | 36.4342522                                      | 129.0391317                                     | 2018-08-01                                      | 5160000                                         | 경상북도 청송군                                 |\n",
       "\n"
      ],
      "text/plain": [
       "  설치장소명         설치장소상세    설치시도명 설치시군구명 설치시설구분\n",
       "1 청송군청           민원실          경상북도   청송군       관공서      \n",
       "2 청송군농업기술센터 \"1층, 2층, 3층\" 경상북도   청송군       관공서      \n",
       "3 청송읍사무소       민원실          경상북도   청송군       관공서      \n",
       "  서비스제공사명 와이파이SSID     설치년월\n",
       "1 KT             Public WiFi Free 2014-12 \n",
       "2 KT             Public WiFi Free 2015-10 \n",
       "3 KT             Public WiFi Free 2014-12 \n",
       "  소재지도로명주소                               \n",
       "1 경상북도 청송군 청송읍 군청로 51(월막리 330)   \n",
       "2 경상북도 청송군 청송읍 주왕산로 177(송생리 720)\n",
       "3 경상북도 청송군 청송읍 중앙로 253(월막리 239-2)\n",
       "  소재지지번주소                      관리기관명        관리기관전화번호\n",
       "1 경상북도 청송군 청송읍 월막리 330   경상북도 청송군청 054-870-6073    \n",
       "2 경상북도 청송군 청송읍 송생리 720   경상북도 청송군청 054-870-6073    \n",
       "3 경상북도 청송군 청송읍 월막리 239-2 경상북도 청송군청 054-870-6073    \n",
       "  위도       경도        데이터기준일자 제공기관코드 제공기관명     \n",
       "1 36.4360412 129.0398308 2018-08-01     5160000      경상북도 청송군\n",
       "2 36.3917571 129.0642597 2018-08-01     5160000      경상북도 청송군\n",
       "3 36.4342522 129.0391317 2018-08-01     5160000      경상북도 청송군"
      ]
     },
     "metadata": {},
     "output_type": "display_data"
    },
    {
     "data": {
      "text/html": [
       "<ol class=list-inline>\n",
       "\t<li>21473</li>\n",
       "\t<li>17</li>\n",
       "</ol>\n"
      ],
      "text/latex": [
       "\\begin{enumerate*}\n",
       "\\item 21473\n",
       "\\item 17\n",
       "\\end{enumerate*}\n"
      ],
      "text/markdown": [
       "1. 21473\n",
       "2. 17\n",
       "\n",
       "\n"
      ],
      "text/plain": [
       "[1] 21473    17"
      ]
     },
     "metadata": {},
     "output_type": "display_data"
    }
   ],
   "source": [
    "head(wifi, 3)\n",
    "dim(wifi)"
   ]
  },
  {
   "cell_type": "code",
   "execution_count": 17,
   "metadata": {},
   "outputs": [],
   "source": [
    "krwifi <- wifi"
   ]
  },
  {
   "cell_type": "markdown",
   "metadata": {},
   "source": [
    "input 과 output 의 형태에 따라 여러 종류로 나뉜다.  \n",
    "    apply (input : array, output : array)  \n",
    "    lapply (input : list or vector, output : list)  \n",
    "    sapply (input : list or vector, output : vector or array)  \n",
    "    vapply (input : list or vector, output : vector or array)  \n",
    "    tapply (input : list or vector and factor, output : vector or array)  \n",
    "    mapply (input : list or vector, output : vector or array)  \n",
    "\n",
    "sapply  \n",
    " sapply 는 list 대신 행렬 or 벡터로 반환한다.  \n",
    " lapply는 list 를 반환하므로 list 를 다시 unlist 하는 것이 번거롭다.  \n",
    " lapply 의 wrapper 이다.  "
   ]
  },
  {
   "cell_type": "code",
   "execution_count": 18,
   "metadata": {},
   "outputs": [
    {
     "data": {
      "text/html": [
       "<table>\n",
       "<thead><tr><th scope=col>소재지도로명주소</th><th scope=col>len</th><th scope=col>gun_count</th><th scope=col>addr1</th><th scope=col>addr2</th><th scope=col>addr3</th><th scope=col>trunc</th></tr></thead>\n",
       "<tbody>\n",
       "\t<tr><td>경상북도 청송군 청송읍 군청로 51(월막리 330)      </td><td>28                                                </td><td>2                                                 </td><td>경상북도                                          </td><td>청송군                                            </td><td>청송읍                                            </td><td>경상북도 청송군 청송...                           </td></tr>\n",
       "\t<tr><td>경상북도 청송군 청송읍 주왕산로 177(송생리 720)   </td><td>30                                                </td><td>1                                                 </td><td>경상북도                                          </td><td>청송군                                            </td><td>청송읍                                            </td><td>경상북도 청송군 청송...                           </td></tr>\n",
       "\t<tr><td>경상북도 청송군 청송읍 중앙로 253(월막리 239-2)   </td><td>31                                                </td><td>1                                                 </td><td>경상북도                                          </td><td>청송군                                            </td><td>청송읍                                            </td><td>경상북도 청송군 청송...                           </td></tr>\n",
       "\t<tr><td>경상북도 청송군 부동면 이전앞길 1(이전리 829-5)   </td><td>30                                                </td><td>1                                                 </td><td>경상북도                                          </td><td>청송군                                            </td><td>부동면                                            </td><td>경상북도 청송군 부동...                           </td></tr>\n",
       "\t<tr><td>경상북도 청송군 부남면 대전로 119(대전리 638-2)   </td><td>31                                                </td><td>1                                                 </td><td>경상북도                                          </td><td>청송군                                            </td><td>부남면                                            </td><td>경상북도 청송군 부남...                           </td></tr>\n",
       "\t<tr><td>경상북도 청송군 현동면 청송로 2647(도평리 794-1)  </td><td>32                                                </td><td>1                                                 </td><td>경상북도                                          </td><td>청송군                                            </td><td>현동면                                            </td><td>경상북도 청송군 현동...                           </td></tr>\n",
       "\t<tr><td>경상북도 청송군 현서면 구산동로 27(구산리 97-1)   </td><td>30                                                </td><td>1                                                 </td><td>경상북도                                          </td><td>청송군                                            </td><td>현서면                                            </td><td>경상북도 청송군 현서...                           </td></tr>\n",
       "\t<tr><td>경상북도 청송군 안덕면 안덕로 82(명당리 433-6)    </td><td>30                                                </td><td>1                                                 </td><td>경상북도                                          </td><td>청송군                                            </td><td>안덕면                                            </td><td>경상북도 청송군 안덕...                           </td></tr>\n",
       "\t<tr><td>경상북도 청송군 파천면 청송로 5544(관리 572-1)    </td><td>31                                                </td><td>1                                                 </td><td>경상북도                                          </td><td>청송군                                            </td><td>파천면                                            </td><td>경상북도 청송군 파천...                           </td></tr>\n",
       "\t<tr><td>경상북도 청송군 진보면 진안동2길 4-10(진안리 51-1)</td><td>33                                                </td><td>1                                                 </td><td>경상북도                                          </td><td>청송군                                            </td><td>진보면                                            </td><td>경상북도 청송군 진보...                           </td></tr>\n",
       "</tbody>\n",
       "</table>\n"
      ],
      "text/latex": [
       "\\begin{tabular}{r|lllllll}\n",
       " 소재지도로명주소 & len & gun\\_count & addr1 & addr2 & addr3 & trunc\\\\\n",
       "\\hline\n",
       "\t 경상북도 청송군 청송읍 군청로 51(월막리 330)       & 28                                                 & 2                                                  & 경상북도                                           & 청송군                                             & 청송읍                                             & 경상북도 청송군 청송...                           \\\\\n",
       "\t 경상북도 청송군 청송읍 주왕산로 177(송생리 720)    & 30                                                 & 1                                                  & 경상북도                                           & 청송군                                             & 청송읍                                             & 경상북도 청송군 청송...                           \\\\\n",
       "\t 경상북도 청송군 청송읍 중앙로 253(월막리 239-2)    & 31                                                 & 1                                                  & 경상북도                                           & 청송군                                             & 청송읍                                             & 경상북도 청송군 청송...                           \\\\\n",
       "\t 경상북도 청송군 부동면 이전앞길 1(이전리 829-5)    & 30                                                 & 1                                                  & 경상북도                                           & 청송군                                             & 부동면                                             & 경상북도 청송군 부동...                           \\\\\n",
       "\t 경상북도 청송군 부남면 대전로 119(대전리 638-2)    & 31                                                 & 1                                                  & 경상북도                                           & 청송군                                             & 부남면                                             & 경상북도 청송군 부남...                           \\\\\n",
       "\t 경상북도 청송군 현동면 청송로 2647(도평리 794-1)   & 32                                                 & 1                                                  & 경상북도                                           & 청송군                                             & 현동면                                             & 경상북도 청송군 현동...                           \\\\\n",
       "\t 경상북도 청송군 현서면 구산동로 27(구산리 97-1)    & 30                                                 & 1                                                  & 경상북도                                           & 청송군                                             & 현서면                                             & 경상북도 청송군 현서...                           \\\\\n",
       "\t 경상북도 청송군 안덕면 안덕로 82(명당리 433-6)     & 30                                                 & 1                                                  & 경상북도                                           & 청송군                                             & 안덕면                                             & 경상북도 청송군 안덕...                           \\\\\n",
       "\t 경상북도 청송군 파천면 청송로 5544(관리 572-1)     & 31                                                 & 1                                                  & 경상북도                                           & 청송군                                             & 파천면                                             & 경상북도 청송군 파천...                           \\\\\n",
       "\t 경상북도 청송군 진보면 진안동2길 4-10(진안리 51-1) & 33                                                 & 1                                                  & 경상북도                                           & 청송군                                             & 진보면                                             & 경상북도 청송군 진보...                           \\\\\n",
       "\\end{tabular}\n"
      ],
      "text/markdown": [
       "\n",
       "| 소재지도로명주소 | len | gun_count | addr1 | addr2 | addr3 | trunc |\n",
       "|---|---|---|---|---|---|---|\n",
       "| 경상북도 청송군 청송읍 군청로 51(월막리 330)       | 28                                                 | 2                                                  | 경상북도                                           | 청송군                                             | 청송읍                                             | 경상북도 청송군 청송...                            |\n",
       "| 경상북도 청송군 청송읍 주왕산로 177(송생리 720)    | 30                                                 | 1                                                  | 경상북도                                           | 청송군                                             | 청송읍                                             | 경상북도 청송군 청송...                            |\n",
       "| 경상북도 청송군 청송읍 중앙로 253(월막리 239-2)    | 31                                                 | 1                                                  | 경상북도                                           | 청송군                                             | 청송읍                                             | 경상북도 청송군 청송...                            |\n",
       "| 경상북도 청송군 부동면 이전앞길 1(이전리 829-5)    | 30                                                 | 1                                                  | 경상북도                                           | 청송군                                             | 부동면                                             | 경상북도 청송군 부동...                            |\n",
       "| 경상북도 청송군 부남면 대전로 119(대전리 638-2)    | 31                                                 | 1                                                  | 경상북도                                           | 청송군                                             | 부남면                                             | 경상북도 청송군 부남...                            |\n",
       "| 경상북도 청송군 현동면 청송로 2647(도평리 794-1)   | 32                                                 | 1                                                  | 경상북도                                           | 청송군                                             | 현동면                                             | 경상북도 청송군 현동...                            |\n",
       "| 경상북도 청송군 현서면 구산동로 27(구산리 97-1)    | 30                                                 | 1                                                  | 경상북도                                           | 청송군                                             | 현서면                                             | 경상북도 청송군 현서...                            |\n",
       "| 경상북도 청송군 안덕면 안덕로 82(명당리 433-6)     | 30                                                 | 1                                                  | 경상북도                                           | 청송군                                             | 안덕면                                             | 경상북도 청송군 안덕...                            |\n",
       "| 경상북도 청송군 파천면 청송로 5544(관리 572-1)     | 31                                                 | 1                                                  | 경상북도                                           | 청송군                                             | 파천면                                             | 경상북도 청송군 파천...                            |\n",
       "| 경상북도 청송군 진보면 진안동2길 4-10(진안리 51-1) | 33                                                 | 1                                                  | 경상북도                                           | 청송군                                             | 진보면                                             | 경상북도 청송군 진보...                            |\n",
       "\n"
      ],
      "text/plain": [
       "   소재지도로명주소                                   len gun_count addr1   \n",
       "1  경상북도 청송군 청송읍 군청로 51(월막리 330)       28  2         경상북도\n",
       "2  경상북도 청송군 청송읍 주왕산로 177(송생리 720)    30  1         경상북도\n",
       "3  경상북도 청송군 청송읍 중앙로 253(월막리 239-2)    31  1         경상북도\n",
       "4  경상북도 청송군 부동면 이전앞길 1(이전리 829-5)    30  1         경상북도\n",
       "5  경상북도 청송군 부남면 대전로 119(대전리 638-2)    31  1         경상북도\n",
       "6  경상북도 청송군 현동면 청송로 2647(도평리 794-1)   32  1         경상북도\n",
       "7  경상북도 청송군 현서면 구산동로 27(구산리 97-1)    30  1         경상북도\n",
       "8  경상북도 청송군 안덕면 안덕로 82(명당리 433-6)     30  1         경상북도\n",
       "9  경상북도 청송군 파천면 청송로 5544(관리 572-1)     31  1         경상북도\n",
       "10 경상북도 청송군 진보면 진안동2길 4-10(진안리 51-1) 33  1         경상북도\n",
       "   addr2  addr3  trunc                  \n",
       "1  청송군 청송읍 경상북도 청송군 청송...\n",
       "2  청송군 청송읍 경상북도 청송군 청송...\n",
       "3  청송군 청송읍 경상북도 청송군 청송...\n",
       "4  청송군 부동면 경상북도 청송군 부동...\n",
       "5  청송군 부남면 경상북도 청송군 부남...\n",
       "6  청송군 현동면 경상북도 청송군 현동...\n",
       "7  청송군 현서면 경상북도 청송군 현서...\n",
       "8  청송군 안덕면 경상북도 청송군 안덕...\n",
       "9  청송군 파천면 경상북도 청송군 파천...\n",
       "10 청송군 진보면 경상북도 청송군 진보..."
      ]
     },
     "metadata": {},
     "output_type": "display_data"
    }
   ],
   "source": [
    "## mutate()와 함께 사용하는 함수\n",
    "wifi %>% \n",
    "  distinct(소재지도로명주소) %>% \n",
    "  slice(1:10) %>% \n",
    "  mutate(len = str_length(소재지도로명주소),\n",
    "         gun_count = str_count(소재지도로명주소, \"군\"),\n",
    "         addr1 = str_split(소재지도로명주소, \" \") %>% sapply(function(x) x[1]),\n",
    "         addr2 = str_split(소재지도로명주소, \" \") %>% sapply(function(x) x[2]),\n",
    "         addr3 = str_split(소재지도로명주소, \" \") %>% sapply(function(x) x[3]),\n",
    "         trunc = str_trunc(소재지도로명주소, width = 14)) \n"
   ]
  },
  {
   "cell_type": "code",
   "execution_count": 20,
   "metadata": {},
   "outputs": [
    {
     "data": {
      "text/html": [
       "<table>\n",
       "<thead><tr><th scope=col>설치시군구명</th><th scope=col>repla</th><th scope=col>extra</th><th scope=col>start</th><th scope=col>end</th><th scope=col>remove</th><th scope=col>len</th><th scope=col>if_remove</th></tr></thead>\n",
       "<tbody>\n",
       "\t<tr><td>청송군    </td><td>청송도로시</td><td>NA        </td><td> 3        </td><td> 3        </td><td>청송      </td><td>3         </td><td>청송      </td></tr>\n",
       "\t<tr><td>영동군    </td><td>영동도로시</td><td>NA        </td><td> 3        </td><td> 3        </td><td>영동      </td><td>3         </td><td>영동      </td></tr>\n",
       "\t<tr><td>목포시    </td><td>목포시    </td><td>NA        </td><td>NA        </td><td>NA        </td><td>목포      </td><td>3         </td><td>목포      </td></tr>\n",
       "\t<tr><td>청주시    </td><td>청주시    </td><td>주시      </td><td>NA        </td><td>NA        </td><td>청주      </td><td>3         </td><td>청주      </td></tr>\n",
       "\t<tr><td>함안군    </td><td>함안도로시</td><td>NA        </td><td> 3        </td><td> 3        </td><td>함안      </td><td>3         </td><td>함안      </td></tr>\n",
       "\t<tr><td>의령군    </td><td>의령도로시</td><td>NA        </td><td> 3        </td><td> 3        </td><td>의령      </td><td>3         </td><td>의령      </td></tr>\n",
       "\t<tr><td>나주시    </td><td>나주시    </td><td>주시      </td><td>NA        </td><td>NA        </td><td>나주      </td><td>3         </td><td>나주      </td></tr>\n",
       "\t<tr><td>금천구    </td><td>금천구    </td><td>NA        </td><td> 3        </td><td> 3        </td><td>금천      </td><td>3         </td><td>금천      </td></tr>\n",
       "\t<tr><td>중구      </td><td>중구      </td><td>NA        </td><td> 2        </td><td> 2        </td><td>중        </td><td>2         </td><td>중구      </td></tr>\n",
       "\t<tr><td>청양군    </td><td>청양도로시</td><td>NA        </td><td> 3        </td><td> 3        </td><td>청양      </td><td>3         </td><td>청양      </td></tr>\n",
       "</tbody>\n",
       "</table>\n"
      ],
      "text/latex": [
       "\\begin{tabular}{r|llllllll}\n",
       " 설치시군구명 & repla & extra & start & end & remove & len & if\\_remove\\\\\n",
       "\\hline\n",
       "\t 청송군     & 청송도로시 & NA         &  3         &  3         & 청송       & 3          & 청송      \\\\\n",
       "\t 영동군     & 영동도로시 & NA         &  3         &  3         & 영동       & 3          & 영동      \\\\\n",
       "\t 목포시     & 목포시     & NA         & NA         & NA         & 목포       & 3          & 목포      \\\\\n",
       "\t 청주시     & 청주시     & 주시       & NA         & NA         & 청주       & 3          & 청주      \\\\\n",
       "\t 함안군     & 함안도로시 & NA         &  3         &  3         & 함안       & 3          & 함안      \\\\\n",
       "\t 의령군     & 의령도로시 & NA         &  3         &  3         & 의령       & 3          & 의령      \\\\\n",
       "\t 나주시     & 나주시     & 주시       & NA         & NA         & 나주       & 3          & 나주      \\\\\n",
       "\t 금천구     & 금천구     & NA         &  3         &  3         & 금천       & 3          & 금천      \\\\\n",
       "\t 중구       & 중구       & NA         &  2         &  2         & 중         & 2          & 중구      \\\\\n",
       "\t 청양군     & 청양도로시 & NA         &  3         &  3         & 청양       & 3          & 청양      \\\\\n",
       "\\end{tabular}\n"
      ],
      "text/markdown": [
       "\n",
       "| 설치시군구명 | repla | extra | start | end | remove | len | if_remove |\n",
       "|---|---|---|---|---|---|---|---|\n",
       "| 청송군     | 청송도로시 | NA         |  3         |  3         | 청송       | 3          | 청송       |\n",
       "| 영동군     | 영동도로시 | NA         |  3         |  3         | 영동       | 3          | 영동       |\n",
       "| 목포시     | 목포시     | NA         | NA         | NA         | 목포       | 3          | 목포       |\n",
       "| 청주시     | 청주시     | 주시       | NA         | NA         | 청주       | 3          | 청주       |\n",
       "| 함안군     | 함안도로시 | NA         |  3         |  3         | 함안       | 3          | 함안       |\n",
       "| 의령군     | 의령도로시 | NA         |  3         |  3         | 의령       | 3          | 의령       |\n",
       "| 나주시     | 나주시     | 주시       | NA         | NA         | 나주       | 3          | 나주       |\n",
       "| 금천구     | 금천구     | NA         |  3         |  3         | 금천       | 3          | 금천       |\n",
       "| 중구       | 중구       | NA         |  2         |  2         | 중         | 2          | 중구       |\n",
       "| 청양군     | 청양도로시 | NA         |  3         |  3         | 청양       | 3          | 청양       |\n",
       "\n"
      ],
      "text/plain": [
       "   설치시군구명 repla      extra start end remove len if_remove\n",
       "1  청송군       청송도로시 NA     3     3  청송   3   청송     \n",
       "2  영동군       영동도로시 NA     3     3  영동   3   영동     \n",
       "3  목포시       목포시     NA    NA    NA  목포   3   목포     \n",
       "4  청주시       청주시     주시  NA    NA  청주   3   청주     \n",
       "5  함안군       함안도로시 NA     3     3  함안   3   함안     \n",
       "6  의령군       의령도로시 NA     3     3  의령   3   의령     \n",
       "7  나주시       나주시     주시  NA    NA  나주   3   나주     \n",
       "8  금천구       금천구     NA     3     3  금천   3   금천     \n",
       "9  중구         중구       NA     2     2  중     2   중구     \n",
       "10 청양군       청양도로시 NA     3     3  청양   3   청양     "
      ]
     },
     "metadata": {},
     "output_type": "display_data"
    }
   ],
   "source": [
    "wifi %>% \n",
    "  distinct(설치시군구명) %>% \n",
    "  slice(1:10) %>% \n",
    "  mutate(repla = str_replace(설치시군구명, \"군\", \"도로시\"),\n",
    "         extra = str_extract(설치시군구명, \"주시\"),\n",
    "         start = str_locate(설치시군구명, \"구|군\") %>% .[,1],\n",
    "         end = str_locate(설치시군구명, \"구|군\") %>% .[,2],\n",
    "         remove = str_remove(설치시군구명, \"구|군|시\"),\n",
    "         len = str_length(설치시군구명),\n",
    "         if_remove = if_else(\n",
    "                           str_length(설치시군구명) == 2,\n",
    "                           설치시군구명,\n",
    "                           str_remove(설치시군구명, \"구|군|시\")\n",
    "         ))"
   ]
  },
  {
   "cell_type": "code",
   "execution_count": 21,
   "metadata": {},
   "outputs": [
    {
     "data": {
      "text/html": [
       "\n",
       "<table width=\"100%\" summary=\"page for str_detect {stringr}\"><tr><td>str_detect {stringr}</td><td style=\"text-align: right;\">R Documentation</td></tr></table>\n",
       "\n",
       "<h2>Detect the presence or absence of a pattern in a string.</h2>\n",
       "\n",
       "<h3>Description</h3>\n",
       "\n",
       "<p>Vectorised over <code>string</code> and <code>pattern</code>.\n",
       "Equivalent to <code>grepl(pattern, x)</code>.\n",
       "See <code>str_which()</code> for an equivalent to <code>grep(pattern, x)</code>.\n",
       "</p>\n",
       "\n",
       "\n",
       "<h3>Usage</h3>\n",
       "\n",
       "<pre>\n",
       "str_detect(string, pattern, negate = FALSE)\n",
       "</pre>\n",
       "\n",
       "\n",
       "<h3>Arguments</h3>\n",
       "\n",
       "<table summary=\"R argblock\">\n",
       "<tr valign=\"top\"><td><code>string</code></td>\n",
       "<td>\n",
       "<p>Input vector. Either a character vector, or something\n",
       "coercible to one.</p>\n",
       "</td></tr>\n",
       "<tr valign=\"top\"><td><code>pattern</code></td>\n",
       "<td>\n",
       "<p>Pattern to look for.\n",
       "</p>\n",
       "<p>The default interpretation is a regular expression, as described\n",
       "in stringi::stringi-search-regex. Control options with\n",
       "<code>regex()</code>.\n",
       "</p>\n",
       "<p>Match a fixed string (i.e. by comparing only bytes), using\n",
       "<code>fixed()</code>. This is fast, but approximate. Generally,\n",
       "for matching human text, you'll want <code>coll()</code> which\n",
       "respects character matching rules for the specified locale.\n",
       "</p>\n",
       "<p>Match character, word, line and sentence boundaries with\n",
       "<code>boundary()</code>. An empty pattern, &quot;&quot;, is equivalent to\n",
       "<code>boundary(\"character\")</code>.</p>\n",
       "</td></tr>\n",
       "<tr valign=\"top\"><td><code>negate</code></td>\n",
       "<td>\n",
       "<p>If <code>TRUE</code>, return non-matching elements.</p>\n",
       "</td></tr>\n",
       "</table>\n",
       "\n",
       "\n",
       "<h3>Value</h3>\n",
       "\n",
       "<p>A logical vector.\n",
       "</p>\n",
       "\n",
       "\n",
       "<h3>See Also</h3>\n",
       "\n",
       "<p><code>stringi::stri_detect()</code> which this function wraps,\n",
       "<code>str_subset()</code> for a convenient wrapper around\n",
       "<code>x[str_detect(x, pattern)]</code>\n",
       "</p>\n",
       "\n",
       "\n",
       "<h3>Examples</h3>\n",
       "\n",
       "<pre>\n",
       "fruit &lt;- c(\"apple\", \"banana\", \"pear\", \"pinapple\")\n",
       "str_detect(fruit, \"a\")\n",
       "str_detect(fruit, \"^a\")\n",
       "str_detect(fruit, \"a$\")\n",
       "str_detect(fruit, \"b\")\n",
       "str_detect(fruit, \"[aeiou]\")\n",
       "\n",
       "# Also vectorised over pattern\n",
       "str_detect(\"aecfg\", letters)\n",
       "\n",
       "# Returns TRUE if the pattern do NOT match\n",
       "str_detect(fruit, \"^p\", negate = TRUE)\n",
       "</pre>\n",
       "\n",
       "<hr /><div style=\"text-align: center;\">[Package <em>stringr</em> version 1.4.0 ]</div>"
      ],
      "text/latex": [
       "\\inputencoding{utf8}\n",
       "\\HeaderA{str\\_detect}{Detect the presence or absence of a pattern in a string.}{str.Rul.detect}\n",
       "%\n",
       "\\begin{Description}\\relax\n",
       "Vectorised over \\code{string} and \\code{pattern}.\n",
       "Equivalent to \\code{grepl(pattern, x)}.\n",
       "See \\code{\\LinkA{str\\_which()}{str.Rul.which}} for an equivalent to \\code{grep(pattern, x)}.\n",
       "\\end{Description}\n",
       "%\n",
       "\\begin{Usage}\n",
       "\\begin{verbatim}\n",
       "str_detect(string, pattern, negate = FALSE)\n",
       "\\end{verbatim}\n",
       "\\end{Usage}\n",
       "%\n",
       "\\begin{Arguments}\n",
       "\\begin{ldescription}\n",
       "\\item[\\code{string}] Input vector. Either a character vector, or something\n",
       "coercible to one.\n",
       "\n",
       "\\item[\\code{pattern}] Pattern to look for.\n",
       "\n",
       "The default interpretation is a regular expression, as described\n",
       "in \\LinkA{stringi::stringi-search-regex}{stringi::stringi.Rdash.search.Rdash.regex}. Control options with\n",
       "\\code{\\LinkA{regex()}{regex}}.\n",
       "\n",
       "Match a fixed string (i.e. by comparing only bytes), using\n",
       "\\code{\\LinkA{fixed()}{fixed}}. This is fast, but approximate. Generally,\n",
       "for matching human text, you'll want \\code{\\LinkA{coll()}{coll}} which\n",
       "respects character matching rules for the specified locale.\n",
       "\n",
       "Match character, word, line and sentence boundaries with\n",
       "\\code{\\LinkA{boundary()}{boundary}}. An empty pattern, \"\", is equivalent to\n",
       "\\code{boundary(\"character\")}.\n",
       "\n",
       "\\item[\\code{negate}] If \\code{TRUE}, return non-matching elements.\n",
       "\\end{ldescription}\n",
       "\\end{Arguments}\n",
       "%\n",
       "\\begin{Value}\n",
       "A logical vector.\n",
       "\\end{Value}\n",
       "%\n",
       "\\begin{SeeAlso}\\relax\n",
       "\\code{\\LinkA{stringi::stri\\_detect()}{stringi::stri.Rul.detect()}} which this function wraps,\n",
       "\\code{\\LinkA{str\\_subset()}{str.Rul.subset}} for a convenient wrapper around\n",
       "\\code{x[str\\_detect(x, pattern)]}\n",
       "\\end{SeeAlso}\n",
       "%\n",
       "\\begin{Examples}\n",
       "\\begin{ExampleCode}\n",
       "fruit <- c(\"apple\", \"banana\", \"pear\", \"pinapple\")\n",
       "str_detect(fruit, \"a\")\n",
       "str_detect(fruit, \"^a\")\n",
       "str_detect(fruit, \"a$\")\n",
       "str_detect(fruit, \"b\")\n",
       "str_detect(fruit, \"[aeiou]\")\n",
       "\n",
       "# Also vectorised over pattern\n",
       "str_detect(\"aecfg\", letters)\n",
       "\n",
       "# Returns TRUE if the pattern do NOT match\n",
       "str_detect(fruit, \"^p\", negate = TRUE)\n",
       "\\end{ExampleCode}\n",
       "\\end{Examples}"
      ],
      "text/plain": [
       "str_detect               package:stringr               R Documentation\n",
       "\n",
       "_\bD_\be_\bt_\be_\bc_\bt _\bt_\bh_\be _\bp_\br_\be_\bs_\be_\bn_\bc_\be _\bo_\br _\ba_\bb_\bs_\be_\bn_\bc_\be _\bo_\bf _\ba _\bp_\ba_\bt_\bt_\be_\br_\bn _\bi_\bn _\ba _\bs_\bt_\br_\bi_\bn_\bg.\n",
       "\n",
       "_\bD_\be_\bs_\bc_\br_\bi_\bp_\bt_\bi_\bo_\bn:\n",
       "\n",
       "     Vectorised over 'string' and 'pattern'. Equivalent to\n",
       "     'grepl(pattern, x)'. See 'str_which()' for an equivalent to\n",
       "     'grep(pattern, x)'.\n",
       "\n",
       "_\bU_\bs_\ba_\bg_\be:\n",
       "\n",
       "     str_detect(string, pattern, negate = FALSE)\n",
       "     \n",
       "_\bA_\br_\bg_\bu_\bm_\be_\bn_\bt_\bs:\n",
       "\n",
       "  string: Input vector. Either a character vector, or something\n",
       "          coercible to one.\n",
       "\n",
       " pattern: Pattern to look for.\n",
       "\n",
       "          The default interpretation is a regular expression, as\n",
       "          described in stringi::stringi-search-regex. Control options\n",
       "          with 'regex()'.\n",
       "\n",
       "          Match a fixed string (i.e. by comparing only bytes), using\n",
       "          'fixed()'. This is fast, but approximate. Generally, for\n",
       "          matching human text, you'll want 'coll()' which respects\n",
       "          character matching rules for the specified locale.\n",
       "\n",
       "          Match character, word, line and sentence boundaries with\n",
       "          'boundary()'. An empty pattern, \"\", is equivalent to\n",
       "          'boundary(\"character\")'.\n",
       "\n",
       "  negate: If 'TRUE', return non-matching elements.\n",
       "\n",
       "_\bV_\ba_\bl_\bu_\be:\n",
       "\n",
       "     A logical vector.\n",
       "\n",
       "_\bS_\be_\be _\bA_\bl_\bs_\bo:\n",
       "\n",
       "     'stringi::stri_detect()' which this function wraps, 'str_subset()'\n",
       "     for a convenient wrapper around 'x[str_detect(x, pattern)]'\n",
       "\n",
       "_\bE_\bx_\ba_\bm_\bp_\bl_\be_\bs:\n",
       "\n",
       "     fruit <- c(\"apple\", \"banana\", \"pear\", \"pinapple\")\n",
       "     str_detect(fruit, \"a\")\n",
       "     str_detect(fruit, \"^a\")\n",
       "     str_detect(fruit, \"a$\")\n",
       "     str_detect(fruit, \"b\")\n",
       "     str_detect(fruit, \"[aeiou]\")\n",
       "     \n",
       "     # Also vectorised over pattern\n",
       "     str_detect(\"aecfg\", letters)\n",
       "     \n",
       "     # Returns TRUE if the pattern do NOT match\n",
       "     str_detect(fruit, \"^p\", negate = TRUE)\n",
       "     "
      ]
     },
     "metadata": {},
     "output_type": "display_data"
    }
   ],
   "source": [
    "?str_detect"
   ]
  },
  {
   "cell_type": "code",
   "execution_count": null,
   "metadata": {},
   "outputs": [],
   "source": [
    "## filter()와 함께 사용하는 함수\n",
    "wifi %>% \n",
    "  filter(str_detect(소재지도로명주소, \"군\"))"
   ]
  },
  {
   "cell_type": "code",
   "execution_count": null,
   "metadata": {},
   "outputs": [],
   "source": [
    "wifi %>% \n",
    "  filter(str_starts(설치장소상세 , \"민원\")) %>% \n",
    "  distinct(설치장소상세)"
   ]
  },
  {
   "cell_type": "code",
   "execution_count": null,
   "metadata": {},
   "outputs": [],
   "source": [
    "wifi %>% \n",
    "  filter(str_starts(설치장소상세 , \"민원\")) %>% \n",
    "  group_by(설치장소상세) %>% \n",
    "  summarise(n = n()) %>% \n",
    "  arrange(desc(n))"
   ]
  },
  {
   "cell_type": "code",
   "execution_count": 25,
   "metadata": {},
   "outputs": [
    {
     "data": {
      "text/html": [
       "<span style=white-space:pre-wrap>'안녕  하세요'</span>"
      ],
      "text/latex": [
       "'안녕  하세요'"
      ],
      "text/markdown": [
       "<span style=white-space:pre-wrap>'안녕  하세요'</span>"
      ],
      "text/plain": [
       "[1] \"안녕  하세요\""
      ]
     },
     "metadata": {},
     "output_type": "display_data"
    },
    {
     "data": {
      "text/html": [
       "<span style=white-space:pre-wrap>'안녕  하세요 '</span>"
      ],
      "text/latex": [
       "'안녕  하세요 '"
      ],
      "text/markdown": [
       "<span style=white-space:pre-wrap>'안녕  하세요 '</span>"
      ],
      "text/plain": [
       "[1] \"안녕  하세요 \""
      ]
     },
     "metadata": {},
     "output_type": "display_data"
    },
    {
     "data": {
      "text/html": [
       "<span style=white-space:pre-wrap>' 안녕  하세요'</span>"
      ],
      "text/latex": [
       "' 안녕  하세요'"
      ],
      "text/markdown": [
       "<span style=white-space:pre-wrap>' 안녕  하세요'</span>"
      ],
      "text/plain": [
       "[1] \" 안녕  하세요\""
      ]
     },
     "metadata": {},
     "output_type": "display_data"
    },
    {
     "data": {
      "text/html": [
       "'안녕 하세요'"
      ],
      "text/latex": [
       "'안녕 하세요'"
      ],
      "text/markdown": [
       "'안녕 하세요'"
      ],
      "text/plain": [
       "[1] \"안녕 하세요\""
      ]
     },
     "metadata": {},
     "output_type": "display_data"
    }
   ],
   "source": [
    "## 필요없는 공백 제거\n",
    "str_trim(\" 안녕  하세요 \")\n",
    "str_trim(\" 안녕  하세요 \", side = \"left\")\n",
    "str_trim(\" 안녕  하세요 \", side = \"right\")\n",
    "str_squish(\" 안녕  하세요 \") "
   ]
  },
  {
   "cell_type": "code",
   "execution_count": 27,
   "metadata": {},
   "outputs": [
    {
     "data": {
      "text/html": [
       "'String with trailing and leading white space'"
      ],
      "text/latex": [
       "'String with trailing and leading white space'"
      ],
      "text/markdown": [
       "'String with trailing and leading white space'"
      ],
      "text/plain": [
       "[1] \"String with trailing and leading white space\""
      ]
     },
     "metadata": {},
     "output_type": "display_data"
    },
    {
     "data": {
      "text/html": [
       "'String with trailing and leading white space'"
      ],
      "text/latex": [
       "'String with trailing and leading white space'"
      ],
      "text/markdown": [
       "'String with trailing and leading white space'"
      ],
      "text/plain": [
       "[1] \"String with trailing and leading white space\""
      ]
     },
     "metadata": {},
     "output_type": "display_data"
    },
    {
     "data": {
      "text/html": [
       "'String with trailing, middle, and leading white space'"
      ],
      "text/latex": [
       "'String with trailing, middle, and leading white space'"
      ],
      "text/markdown": [
       "'String with trailing, middle, and leading white space'"
      ],
      "text/plain": [
       "[1] \"String with trailing, middle, and leading white space\""
      ]
     },
     "metadata": {},
     "output_type": "display_data"
    },
    {
     "data": {
      "text/html": [
       "'String with excess, trailing and leading white space'"
      ],
      "text/latex": [
       "'String with excess, trailing and leading white space'"
      ],
      "text/markdown": [
       "'String with excess, trailing and leading white space'"
      ],
      "text/plain": [
       "[1] \"String with excess, trailing and leading white space\""
      ]
     },
     "metadata": {},
     "output_type": "display_data"
    }
   ],
   "source": [
    "str_trim(\"  String with trailing and leading white space\\t\")\n",
    "str_trim(\"\\n\\nString with trailing and leading white space\\n\\n\")\n",
    "\n",
    "str_squish(\"  String with trailing, m iddle, and leading white space\\t\")\n",
    "str_squish(\"\\n\\nString with excess,  trailing and leading white   space\\n\\n\")"
   ]
  },
  {
   "cell_type": "code",
   "execution_count": 29,
   "metadata": {},
   "outputs": [
    {
     "data": {
      "text/html": [
       "'안녕하세요'"
      ],
      "text/latex": [
       "'안녕하세요'"
      ],
      "text/markdown": [
       "'안녕하세요'"
      ],
      "text/plain": [
       "[1] \"안녕하세요\""
      ]
     },
     "metadata": {},
     "output_type": "display_data"
    },
    {
     "data": {
      "text/html": [
       "'unknown'"
      ],
      "text/latex": [
       "'unknown'"
      ],
      "text/markdown": [
       "'unknown'"
      ],
      "text/plain": [
       "[1] \"unknown\""
      ]
     },
     "metadata": {},
     "output_type": "display_data"
    }
   ],
   "source": [
    "## 한글 인코딩 다루기\n",
    "## 한글 인코딩은 윈도우용 \n",
    "## 인코딩인 cp949(ms949라고도 불림, 웹에서 사용하는 euc-kr도 있음)와 utf8(UTF-8)\n",
    "## 인코딩은 데이터 자체인 바이트 단위 기록 그 자체와 해석하는 방법이라는 메타 데이터로 이루어짐\n",
    "tem <- \"안녕하세요\"\n",
    "tem\n",
    "Encoding(tem)"
   ]
  },
  {
   "cell_type": "code",
   "execution_count": 30,
   "metadata": {},
   "outputs": [
    {
     "data": {
      "text/html": [
       "'안녕하세요'"
      ],
      "text/latex": [
       "'안녕하세요'"
      ],
      "text/markdown": [
       "'안녕하세요'"
      ],
      "text/plain": [
       "[1] \"안녕하세요\""
      ]
     },
     "metadata": {},
     "output_type": "display_data"
    },
    {
     "data": {
      "text/html": [
       "'UTF-8'"
      ],
      "text/latex": [
       "'UTF-8'"
      ],
      "text/markdown": [
       "'UTF-8'"
      ],
      "text/plain": [
       "[1] \"UTF-8\""
      ]
     },
     "metadata": {},
     "output_type": "display_data"
    }
   ],
   "source": [
    "tem_utf <- iconv(tem, to = \"UTF-8\")\n",
    "tem_utf\n",
    "Encoding(tem_utf)"
   ]
  },
  {
   "cell_type": "code",
   "execution_count": null,
   "metadata": {},
   "outputs": [],
   "source": [
    "Encoding(tem) <- \"UTF-8\"\n",
    "tem"
   ]
  },
  {
   "cell_type": "code",
   "execution_count": 32,
   "metadata": {},
   "outputs": [
    {
     "name": "stderr",
     "output_type": "stream",
     "text": [
      "Warning message in stri_conv(string, encoding, \"UTF-8\"):\n",
      "\"input data \\xffffffad\\xffffffec in the current source encoding could not be converted to Unicode\"Warning message in stri_conv(string, encoding, \"UTF-8\"):\n",
      "\"input data \\xffffff86 in the current source encoding could not be converted to Unicode\"Warning message in stri_conv(string, encoding, \"UTF-8\"):\n",
      "\"input data \\xffffffec\\xffffff98 in the current source encoding could not be converted to Unicode\"Warning message in stri_conv(string, encoding, \"UTF-8\"):\n",
      "\"input data \\xffffffeb\\xffffff8f in the current source encoding could not be converted to Unicode\"Warning message in stri_conv(string, encoding, \"UTF-8\"):\n",
      "\"input data \\xffffffec\\xffffff8b in the current source encoding could not be converted to Unicode\"Warning message in stri_conv(string, encoding, \"UTF-8\"):\n",
      "\"input data \\xffffff9c in the current source encoding could not be converted to Unicode\"Warning message in stri_conv(string, encoding, \"UTF-8\"):\n",
      "\"input data \\xffffffad\\xffffffec in the current source encoding could not be converted to Unicode\"Warning message in stri_conv(string, encoding, \"UTF-8\"):\n",
      "\"input data \\xffffffec\\xffffff8b in the current source encoding could not be converted to Unicode\"Warning message in stri_conv(string, encoding, \"UTF-8\"):\n",
      "\"input data \\xffffff9c in the current source encoding could not be converted to Unicode\"Warning message in stri_conv(string, encoding, \"UTF-8\"):\n",
      "\"input data \\xffffffed\\xffffff95 in the current source encoding could not be converted to Unicode\"Warning message in stri_conv(string, encoding, \"UTF-8\"):\n",
      "\"input data \\xffffff95\\xffffff88 in the current source encoding could not be converted to Unicode\"Warning message in stri_conv(string, encoding, \"UTF-8\"):\n",
      "\"input data \\xffffffb0 in the current source encoding could not be converted to Unicode\"Warning message in stri_conv(string, encoding, \"UTF-8\"):\n",
      "\"input data \\xffffffec\\xffffff9d in the current source encoding could not be converted to Unicode\"Warning message in stri_conv(string, encoding, \"UTF-8\"):\n",
      "\"input data \\xffffffb0 in the current source encoding could not be converted to Unicode\"Warning message in stri_conv(string, encoding, \"UTF-8\"):\n",
      "\"input data \\xffffffeb\\xffffff82 in the current source encoding could not be converted to Unicode\"Warning message in stri_conv(string, encoding, \"UTF-8\"):\n",
      "\"input data \\xffffffec\\xffffff8b in the current source encoding could not be converted to Unicode\"Warning message in stri_conv(string, encoding, \"UTF-8\"):\n",
      "\"input data \\xffffff9c in the current source encoding could not be converted to Unicode\"Warning message in stri_conv(string, encoding, \"UTF-8\"):\n",
      "\"input data \\xffffff88 in the current source encoding could not be converted to Unicode\"Warning message in stri_conv(string, encoding, \"UTF-8\"):\n",
      "\"input data \\xffffffad\\xffffffec in the current source encoding could not be converted to Unicode\"Warning message in stri_conv(string, encoding, \"UTF-8\"):\n",
      "\"input data \\xffffff96\\xffffff91 in the current source encoding could not be converted to Unicode\"Warning message in stri_conv(string, encoding, \"UTF-8\"):\n",
      "\"input data \\xffffffb0 in the current source encoding could not be converted to Unicode\""
     ]
    },
    {
     "data": {
      "text/html": [
       "<table>\n",
       "<thead><tr><th scope=col>iconv_utf8</th><th scope=col>iconv_cp949</th></tr></thead>\n",
       "<tbody>\n",
       "\t<tr><td>청송군                                                                      </td><td><span style=white-space:pre-wrap>泥&lt;U+FFFD&gt;\u001a↔뎔            </span></td></tr>\n",
       "\t<tr><td>영동군                                                                                  </td><td><span style=white-space:pre-wrap>&lt;U+FFFD&gt;￢&lt;U+FFFD&gt;&lt;U+E4B1&gt;뎔  </span></td></tr>\n",
       "\t<tr><td>목포시                                                                            </td><td><span style=white-space:pre-wrap>紐⑺&lt;U+E0C7&gt;&lt;U+FFFD&gt;\u001a      </span></td></tr>\n",
       "\t<tr><td>청주시                                                                            </td><td><span style=white-space:pre-wrap>泥&lt;U+FFFD&gt;＜&lt;U+FFFD&gt;\u001a      </span></td></tr>\n",
       "\t<tr><td>함안군                                                                            </td><td><span style=white-space:pre-wrap>&lt;U+FFFD&gt;⑥&lt;U+FFFD&gt;援\u001a      </span></td></tr>\n",
       "\t<tr><td>의령군                                                                            </td><td><span style=white-space:pre-wrap>&lt;U+FFFD&gt;&lt;U+E454&gt;즤援\u001a      </span></td></tr>\n",
       "\t<tr><td>나주시                                          </td><td>&lt;U+FFFD&gt;&lt;U+E455&gt;＜&lt;U+FFFD&gt;\u001a</td></tr>\n",
       "\t<tr><td>금천구                                                                      </td><td><span style=white-space:pre-wrap>湲\u001a泥&lt;U+5E37&gt;뎄            </span></td></tr>\n",
       "\t<tr><td><span style=white-space:pre-wrap>중구  </span>                              </td><td><span style=white-space:pre-wrap>以&lt;U+E1C1&gt;뎄                  </span></td></tr>\n",
       "\t<tr><td>청양군                                                                            </td><td><span style=white-space:pre-wrap>泥&lt;U+FFFD&gt;&lt;U+FFFD&gt;援\u001a      </span></td></tr>\n",
       "</tbody>\n",
       "</table>\n"
      ],
      "text/latex": [
       "\\begin{tabular}{r|ll}\n",
       " iconv\\_utf8 & iconv\\_cp949\\\\\n",
       "\\hline\n",
       "\t 청송군                         & 泥<U+FFFD>\u001a↔뎔            \\\\\n",
       "\t 영동군                         & <U+FFFD>￢<U+FFFD><U+E4B1>뎔  \\\\\n",
       "\t 목포시                         & 紐⑺<U+E0C7><U+FFFD>\u001a      \\\\\n",
       "\t 청주시                         & 泥<U+FFFD>＜<U+FFFD>\u001a      \\\\\n",
       "\t 함안군                         & <U+FFFD>⑥<U+FFFD>援\u001a      \\\\\n",
       "\t 의령군                         & <U+FFFD><U+E454>즤援\u001a      \\\\\n",
       "\t 나주시                         & <U+FFFD><U+E455>＜<U+FFFD>\u001a\\\\\n",
       "\t 금천구                         & 湲\u001a泥<U+5E37>뎄            \\\\\n",
       "\t 중구                           & 以<U+E1C1>뎄                  \\\\\n",
       "\t 청양군                         & 泥<U+FFFD><U+FFFD>援\u001a      \\\\\n",
       "\\end{tabular}\n"
      ],
      "text/markdown": [
       "\n",
       "| iconv_utf8 | iconv_cp949 |\n",
       "|---|---|\n",
       "| 청송군                         | 泥<U+FFFD>\u001a↔뎔             |\n",
       "| 영동군                         | <U+FFFD>￢<U+FFFD><U+E4B1>뎔   |\n",
       "| 목포시                         | 紐⑺<U+E0C7><U+FFFD>\u001a       |\n",
       "| 청주시                         | 泥<U+FFFD>＜<U+FFFD>\u001a       |\n",
       "| 함안군                         | <U+FFFD>⑥<U+FFFD>援\u001a       |\n",
       "| 의령군                         | <U+FFFD><U+E454>즤援\u001a       |\n",
       "| 나주시                         | <U+FFFD><U+E455>＜<U+FFFD>\u001a |\n",
       "| 금천구                         | 湲\u001a泥<U+5E37>뎄             |\n",
       "| 중구                           | 以<U+E1C1>뎄                   |\n",
       "| 청양군                         | 泥<U+FFFD><U+FFFD>援\u001a       |\n",
       "\n"
      ],
      "text/plain": [
       "   iconv_utf8 iconv_cp949                   \n",
       "1  청송군     泥<U+FFFD>\\032↔뎔            \n",
       "2  영동군     <U+FFFD>￢<U+FFFD><U+E4B1>뎔  \n",
       "3  목포시     紐⑺<U+E0C7><U+FFFD>\\032      \n",
       "4  청주시     泥<U+FFFD>＜<U+FFFD>\\032      \n",
       "5  함안군     <U+FFFD>⑥<U+FFFD>援\\032      \n",
       "6  의령군     <U+FFFD><U+E454>즤援\\032      \n",
       "7  나주시     <U+FFFD><U+E455>＜<U+FFFD>\\032\n",
       "8  금천구     湲\\032泥<U+5E37>뎄            \n",
       "9  중구       以<U+E1C1>뎄                  \n",
       "10 청양군     泥<U+FFFD><U+FFFD>援\\032      "
      ]
     },
     "metadata": {},
     "output_type": "display_data"
    }
   ],
   "source": [
    "wifi %>% \n",
    "  distinct(설치시군구명) %>% \n",
    "  slice(1:10) %>% \n",
    "  transmute(iconv_utf8 = str_conv(설치시군구명 , \"utf8\"),\n",
    "             iconv_cp949 = str_conv(설치시군구명 , \"cp949\"))"
   ]
  },
  {
   "cell_type": "code",
   "execution_count": 33,
   "metadata": {},
   "outputs": [
    {
     "data": {
      "text/html": [
       "<table>\n",
       "<thead><tr><th scope=col>.</th><th scope=col>n</th></tr></thead>\n",
       "<tbody>\n",
       "\t<tr><td>unknown</td><td>    8  </td></tr>\n",
       "\t<tr><td>UTF-8  </td><td>21465  </td></tr>\n",
       "</tbody>\n",
       "</table>\n"
      ],
      "text/latex": [
       "\\begin{tabular}{r|ll}\n",
       " . & n\\\\\n",
       "\\hline\n",
       "\t unknown &     8  \\\\\n",
       "\t UTF-8   & 21465  \\\\\n",
       "\\end{tabular}\n"
      ],
      "text/markdown": [
       "\n",
       "| . | n |\n",
       "|---|---|\n",
       "| unknown |     8   |\n",
       "| UTF-8   | 21465   |\n",
       "\n"
      ],
      "text/plain": [
       "  .       n    \n",
       "1 unknown     8\n",
       "2 UTF-8   21465"
      ]
     },
     "metadata": {},
     "output_type": "display_data"
    }
   ],
   "source": [
    "wifi %>% \n",
    "  with(Encoding(설치시군구명)) %>% \n",
    "  table() %>% \n",
    "  as_tibble()"
   ]
  },
  {
   "cell_type": "code",
   "execution_count": null,
   "metadata": {},
   "outputs": [],
   "source": [
    "wifi %>% \n",
    "  distinct(설치시군구명) %>% \n",
    "  filter(Encoding(설치시군구명) == \"unknown\")"
   ]
  }
 ],
 "metadata": {
  "kernelspec": {
   "display_name": "R",
   "language": "R",
   "name": "ir"
  },
  "language_info": {
   "codemirror_mode": "r",
   "file_extension": ".r",
   "mimetype": "text/x-r-source",
   "name": "R",
   "pygments_lexer": "r",
   "version": "3.6.1"
  }
 },
 "nbformat": 4,
 "nbformat_minor": 4
}
